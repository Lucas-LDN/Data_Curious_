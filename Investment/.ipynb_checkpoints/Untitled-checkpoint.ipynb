{
 "cells": [
  {
   "cell_type": "markdown",
   "metadata": {
    "toc": true
   },
   "source": [
    "<h1>Table of Contents<span class=\"tocSkip\"></span></h1>\n",
    "<div class=\"toc\"><ul class=\"toc-item\"></ul></div>"
   ]
  },
  {
   "cell_type": "code",
   "execution_count": 1,
   "metadata": {},
   "outputs": [
    {
     "name": "stdout",
     "output_type": "stream",
     "text": [
      "Requirement already satisfied: iexfinance in /Users/Lucas/.pyenv/versions/3.7.7/envs/lewagon/lib/python3.7/site-packages (0.5.0)\n",
      "Requirement already satisfied: pandas in /Users/Lucas/.pyenv/versions/3.7.7/envs/lewagon/lib/python3.7/site-packages (from iexfinance) (0.24.2)\n",
      "Requirement already satisfied: requests in /Users/Lucas/.pyenv/versions/3.7.7/envs/lewagon/lib/python3.7/site-packages (from iexfinance) (2.24.0)\n",
      "Requirement already satisfied: numpy>=1.12.0 in /Users/Lucas/.pyenv/versions/3.7.7/envs/lewagon/lib/python3.7/site-packages (from pandas->iexfinance) (1.18.4)\n",
      "Requirement already satisfied: pytz>=2011k in /Users/Lucas/.pyenv/versions/3.7.7/envs/lewagon/lib/python3.7/site-packages (from pandas->iexfinance) (2020.1)\n",
      "Requirement already satisfied: python-dateutil>=2.5.0 in /Users/Lucas/.pyenv/versions/3.7.7/envs/lewagon/lib/python3.7/site-packages (from pandas->iexfinance) (2.8.1)\n",
      "Requirement already satisfied: certifi>=2017.4.17 in /Users/Lucas/.pyenv/versions/3.7.7/envs/lewagon/lib/python3.7/site-packages (from requests->iexfinance) (2020.6.20)\n",
      "Requirement already satisfied: urllib3!=1.25.0,!=1.25.1,<1.26,>=1.21.1 in /Users/Lucas/.pyenv/versions/3.7.7/envs/lewagon/lib/python3.7/site-packages (from requests->iexfinance) (1.25.9)\n",
      "Requirement already satisfied: chardet<4,>=3.0.2 in /Users/Lucas/.pyenv/versions/3.7.7/envs/lewagon/lib/python3.7/site-packages (from requests->iexfinance) (3.0.4)\n",
      "Requirement already satisfied: idna<3,>=2.5 in /Users/Lucas/.pyenv/versions/3.7.7/envs/lewagon/lib/python3.7/site-packages (from requests->iexfinance) (2.10)\n",
      "Requirement already satisfied: six>=1.5 in /Users/Lucas/.pyenv/versions/3.7.7/envs/lewagon/lib/python3.7/site-packages (from python-dateutil>=2.5.0->pandas->iexfinance) (1.15.0)\n",
      "\u001b[33mWARNING: You are using pip version 20.2.2; however, version 20.3.3 is available.\n",
      "You should consider upgrading via the '/Users/Lucas/.pyenv/versions/3.7.7/envs/lewagon/bin/python3.7 -m pip install --upgrade pip' command.\u001b[0m\n",
      "Note: you may need to restart the kernel to use updated packages.\n"
     ]
    }
   ],
   "source": [
    "pip install iexfinance"
   ]
  },
  {
   "cell_type": "code",
   "execution_count": 5,
   "metadata": {},
   "outputs": [],
   "source": [
    "import pandas as pd\n",
    "from iexfinance.stocks import Stock\n",
    "from datetime import datetime\n",
    "import matplotlib.pyplot as plt\n",
    "from iexfinance.stocks import get_historical_data\n",
    "from iexfinance.stocks import Stock"
   ]
  },
  {
   "cell_type": "code",
   "execution_count": 10,
   "metadata": {},
   "outputs": [
    {
     "ename": "SyntaxError",
     "evalue": "invalid syntax (<ipython-input-10-9d6a75daecc5>, line 5)",
     "output_type": "error",
     "traceback": [
      "\u001b[0;36m  File \u001b[0;32m\"<ipython-input-10-9d6a75daecc5>\"\u001b[0;36m, line \u001b[0;32m5\u001b[0m\n\u001b[0;31m    token=<API_TOKEN>)\u001b[0m\n\u001b[0m          ^\u001b[0m\n\u001b[0;31mSyntaxError\u001b[0m\u001b[0;31m:\u001b[0m invalid syntax\n"
     ]
    }
   ],
   "source": [
    "API_TOKEN = sk_693ab8cab28745af8e53ee7ccde3aad8\n",
    "\n",
    "def getCompanyInfo(symbols):\n",
    "    stock_batch = Stock(symbols,\n",
    "                        token=<API_TOKEN>)    \n",
    "    company_info = stock_batch.get_company()\n",
    "    return company_info\n"
   ]
  }
 ],
 "metadata": {
  "kernelspec": {
   "display_name": "Python 3",
   "language": "python",
   "name": "python3"
  },
  "language_info": {
   "codemirror_mode": {
    "name": "ipython",
    "version": 3
   },
   "file_extension": ".py",
   "mimetype": "text/x-python",
   "name": "python",
   "nbconvert_exporter": "python",
   "pygments_lexer": "ipython3",
   "version": "3.7.7"
  },
  "toc": {
   "base_numbering": 1,
   "nav_menu": {},
   "number_sections": true,
   "sideBar": true,
   "skip_h1_title": false,
   "title_cell": "Table of Contents",
   "title_sidebar": "Contents",
   "toc_cell": true,
   "toc_position": {},
   "toc_section_display": true,
   "toc_window_display": false
  }
 },
 "nbformat": 4,
 "nbformat_minor": 4
}
