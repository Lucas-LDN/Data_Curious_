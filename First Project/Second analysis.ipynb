{
 "cells": [
  {
   "cell_type": "markdown",
   "metadata": {
    "toc": true
   },
   "source": [
    "<h1>Table of Contents<span class=\"tocSkip\"></span></h1>\n",
    "<div class=\"toc\"><ul class=\"toc-item\"><li><span><a href=\"#Grouped-by-AdSet\" data-toc-modified-id=\"Grouped-by-AdSet-1\"><span class=\"toc-item-num\">1&nbsp;&nbsp;</span>Grouped by AdSet</a></span><ul class=\"toc-item\"><li><span><a href=\"#Group-the-data\" data-toc-modified-id=\"Group-the-data-1.1\"><span class=\"toc-item-num\">1.1&nbsp;&nbsp;</span>Group the data</a></span></li><li><span><a href=\"#Check-the-data-for-missing-values-and-NaN:\" data-toc-modified-id=\"Check-the-data-for-missing-values-and-NaN:-1.2\"><span class=\"toc-item-num\">1.2&nbsp;&nbsp;</span>Check the data for missing values and NaN:</a></span></li><li><span><a href=\"#Check-for-outliers\" data-toc-modified-id=\"Check-for-outliers-1.3\"><span class=\"toc-item-num\">1.3&nbsp;&nbsp;</span>Check for outliers</a></span></li><li><span><a href=\"#Clustering\" data-toc-modified-id=\"Clustering-1.4\"><span class=\"toc-item-num\">1.4&nbsp;&nbsp;</span>Clustering</a></span></li></ul></li></ul></div>"
   ]
  },
  {
   "cell_type": "code",
   "execution_count": 1,
   "metadata": {},
   "outputs": [],
   "source": [
    "import numpy as np\n",
    "import pandas as pd\n",
    "import matplotlib.ticker as ticker\n",
    "import matplotlib.pyplot as plt\n",
    "import matplotlib.ticker as mtick\n",
    "import seaborn as sns"
   ]
  },
  {
   "cell_type": "code",
   "execution_count": 10,
   "metadata": {},
   "outputs": [
    {
     "data": {
      "text/html": [
       "<div>\n",
       "<style scoped>\n",
       "    .dataframe tbody tr th:only-of-type {\n",
       "        vertical-align: middle;\n",
       "    }\n",
       "\n",
       "    .dataframe tbody tr th {\n",
       "        vertical-align: top;\n",
       "    }\n",
       "\n",
       "    .dataframe thead th {\n",
       "        text-align: right;\n",
       "    }\n",
       "</style>\n",
       "<table border=\"1\" class=\"dataframe\">\n",
       "  <thead>\n",
       "    <tr style=\"text-align: right;\">\n",
       "      <th></th>\n",
       "      <th>Date</th>\n",
       "      <th>Ad set name</th>\n",
       "      <th>Ad name</th>\n",
       "      <th>Campaign name</th>\n",
       "      <th>Impressions</th>\n",
       "      <th>Cost</th>\n",
       "      <th>Website purchases</th>\n",
       "      <th>Cost per website purchase</th>\n",
       "      <th>CPC (cost per link click)</th>\n",
       "      <th>CTR (link click-through rate)</th>\n",
       "      <th>...</th>\n",
       "      <th>Unique adds to cart</th>\n",
       "      <th>Website leads</th>\n",
       "      <th>Unique link clicks</th>\n",
       "      <th>Unique mobile app adds of payment info</th>\n",
       "      <th>Conversion rate ranking</th>\n",
       "      <th>Post shares</th>\n",
       "      <th>Return on ad spend (ROAS)</th>\n",
       "      <th>Unique completed registrations</th>\n",
       "      <th>Post comments</th>\n",
       "      <th>Impressions_2</th>\n",
       "    </tr>\n",
       "  </thead>\n",
       "  <tbody>\n",
       "    <tr>\n",
       "      <th>0</th>\n",
       "      <td>2020-11-22</td>\n",
       "      <td>Post: \"Who's going to give Dale his next day a...</td>\n",
       "      <td>Post: \"Who's going to give Dale his next day a...</td>\n",
       "      <td>Post: \"Who's going to give Dale his next day a...</td>\n",
       "      <td>716</td>\n",
       "      <td>1.98</td>\n",
       "      <td>NaN</td>\n",
       "      <td>NaN</td>\n",
       "      <td>0.18</td>\n",
       "      <td>1.54</td>\n",
       "      <td>...</td>\n",
       "      <td>NaN</td>\n",
       "      <td>NaN</td>\n",
       "      <td>11.0</td>\n",
       "      <td>NaN</td>\n",
       "      <td>3</td>\n",
       "      <td>NaN</td>\n",
       "      <td>0.0</td>\n",
       "      <td>NaN</td>\n",
       "      <td>NaN</td>\n",
       "      <td>716</td>\n",
       "    </tr>\n",
       "    <tr>\n",
       "      <th>1</th>\n",
       "      <td>2020-11-22</td>\n",
       "      <td>Post: \"✨⚰️  Glittery coffins\"</td>\n",
       "      <td>Post: \"✨⚰️  Glittery coffins\"</td>\n",
       "      <td>Post: \"✨⚰️  Glittery coffins\"</td>\n",
       "      <td>398</td>\n",
       "      <td>2.10</td>\n",
       "      <td>NaN</td>\n",
       "      <td>NaN</td>\n",
       "      <td>1.05</td>\n",
       "      <td>0.50</td>\n",
       "      <td>...</td>\n",
       "      <td>NaN</td>\n",
       "      <td>NaN</td>\n",
       "      <td>2.0</td>\n",
       "      <td>NaN</td>\n",
       "      <td>0</td>\n",
       "      <td>1.0</td>\n",
       "      <td>0.0</td>\n",
       "      <td>NaN</td>\n",
       "      <td>1.0</td>\n",
       "      <td>398</td>\n",
       "    </tr>\n",
       "  </tbody>\n",
       "</table>\n",
       "<p>2 rows × 23 columns</p>\n",
       "</div>"
      ],
      "text/plain": [
       "         Date                                        Ad set name  \\\n",
       "0  2020-11-22  Post: \"Who's going to give Dale his next day a...   \n",
       "1  2020-11-22                      Post: \"✨⚰️  Glittery coffins\"   \n",
       "\n",
       "                                             Ad name  \\\n",
       "0  Post: \"Who's going to give Dale his next day a...   \n",
       "1                      Post: \"✨⚰️  Glittery coffins\"   \n",
       "\n",
       "                                       Campaign name  Impressions  Cost  \\\n",
       "0  Post: \"Who's going to give Dale his next day a...          716  1.98   \n",
       "1                      Post: \"✨⚰️  Glittery coffins\"          398  2.10   \n",
       "\n",
       "  Website purchases  Cost per website purchase  CPC (cost per link click)  \\\n",
       "0               NaN                        NaN                       0.18   \n",
       "1               NaN                        NaN                       1.05   \n",
       "\n",
       "   CTR (link click-through rate)  ...  Unique adds to cart  Website leads  \\\n",
       "0                           1.54  ...                  NaN            NaN   \n",
       "1                           0.50  ...                  NaN            NaN   \n",
       "\n",
       "   Unique link clicks  Unique mobile app adds of payment info  \\\n",
       "0                11.0                                     NaN   \n",
       "1                 2.0                                     NaN   \n",
       "\n",
       "   Conversion rate ranking  Post shares  Return on ad spend (ROAS)  \\\n",
       "0                        3          NaN                        0.0   \n",
       "1                        0          1.0                        0.0   \n",
       "\n",
       "   Unique completed registrations  Post comments  Impressions_2  \n",
       "0                             NaN            NaN            716  \n",
       "1                             NaN            1.0            398  \n",
       "\n",
       "[2 rows x 23 columns]"
      ]
     },
     "execution_count": 10,
     "metadata": {},
     "output_type": "execute_result"
    }
   ],
   "source": [
    "data = pd.read_csv(\"DH data sheet - Sheet1.csv\")\n",
    "\n",
    "# Add a second column of Impressions, so we can count how many days is was Live.\n",
    "data[\"Impressions_2\"] = data.Impressions\n",
    "\n",
    "data.head(2)"
   ]
  },
  {
   "cell_type": "markdown",
   "metadata": {},
   "source": [
    "## Grouped by AdSet"
   ]
  },
  {
   "cell_type": "markdown",
   "metadata": {},
   "source": [
    "### Group the data"
   ]
  },
  {
   "cell_type": "code",
   "execution_count": 44,
   "metadata": {},
   "outputs": [
    {
     "name": "stdout",
     "output_type": "stream",
     "text": [
      "Impressions                    int64\n",
      "Unique link clicks           float64\n",
      "Post shares                  float64\n",
      "Cost                         float64\n",
      "Cost per website purchase    float64\n",
      "Signup                       float64\n",
      "Registration                 float64\n",
      "Duration                       int64\n",
      "dtype: object\n"
     ]
    },
    {
     "data": {
      "text/html": [
       "<div>\n",
       "<style scoped>\n",
       "    .dataframe tbody tr th:only-of-type {\n",
       "        vertical-align: middle;\n",
       "    }\n",
       "\n",
       "    .dataframe tbody tr th {\n",
       "        vertical-align: top;\n",
       "    }\n",
       "\n",
       "    .dataframe thead th {\n",
       "        text-align: right;\n",
       "    }\n",
       "</style>\n",
       "<table border=\"1\" class=\"dataframe\">\n",
       "  <thead>\n",
       "    <tr style=\"text-align: right;\">\n",
       "      <th></th>\n",
       "      <th>Impressions</th>\n",
       "      <th>Unique link clicks</th>\n",
       "      <th>Post shares</th>\n",
       "      <th>Cost</th>\n",
       "      <th>Cost per website purchase</th>\n",
       "      <th>Signup</th>\n",
       "      <th>Registration</th>\n",
       "      <th>Duration</th>\n",
       "    </tr>\n",
       "    <tr>\n",
       "      <th>Ad name</th>\n",
       "      <th></th>\n",
       "      <th></th>\n",
       "      <th></th>\n",
       "      <th></th>\n",
       "      <th></th>\n",
       "      <th></th>\n",
       "      <th></th>\n",
       "      <th></th>\n",
       "    </tr>\n",
       "  </thead>\n",
       "  <tbody>\n",
       "    <tr>\n",
       "      <th>5k-deathwish_single_w41-2020</th>\n",
       "      <td>58014</td>\n",
       "      <td>173.0</td>\n",
       "      <td>1.0</td>\n",
       "      <td>775.29</td>\n",
       "      <td>201.66</td>\n",
       "      <td>0.0</td>\n",
       "      <td>9.0</td>\n",
       "      <td>9</td>\n",
       "    </tr>\n",
       "    <tr>\n",
       "      <th>Instagram post: Be more Mick!\\n🚀We’re growing at...</th>\n",
       "      <td>6272</td>\n",
       "      <td>94.0</td>\n",
       "      <td>1.0</td>\n",
       "      <td>20.00</td>\n",
       "      <td>0.00</td>\n",
       "      <td>0.0</td>\n",
       "      <td>0.0</td>\n",
       "      <td>5</td>\n",
       "    </tr>\n",
       "    <tr>\n",
       "      <th>Instagram post: I personally prefer to call...</th>\n",
       "      <td>1425</td>\n",
       "      <td>11.0</td>\n",
       "      <td>1.0</td>\n",
       "      <td>2.60</td>\n",
       "      <td>0.00</td>\n",
       "      <td>0.0</td>\n",
       "      <td>0.0</td>\n",
       "      <td>1</td>\n",
       "    </tr>\n",
       "  </tbody>\n",
       "</table>\n",
       "</div>"
      ],
      "text/plain": [
       "                                                    Impressions  \\\n",
       "Ad name                                                           \n",
       "5k-deathwish_single_w41-2020                              58014   \n",
       "Instagram post: Be more Mick!\\n🚀We’re growing a...         6272   \n",
       "Instagram post: I personally prefer to call...             1425   \n",
       "\n",
       "                                                    Unique link clicks  \\\n",
       "Ad name                                                                  \n",
       "5k-deathwish_single_w41-2020                                     173.0   \n",
       "Instagram post: Be more Mick!\\n🚀We’re growing a...                94.0   \n",
       "Instagram post: I personally prefer to call...                    11.0   \n",
       "\n",
       "                                                    Post shares    Cost  \\\n",
       "Ad name                                                                   \n",
       "5k-deathwish_single_w41-2020                                1.0  775.29   \n",
       "Instagram post: Be more Mick!\\n🚀We’re growing a...          1.0   20.00   \n",
       "Instagram post: I personally prefer to call...              1.0    2.60   \n",
       "\n",
       "                                                    Cost per website purchase  \\\n",
       "Ad name                                                                         \n",
       "5k-deathwish_single_w41-2020                                           201.66   \n",
       "Instagram post: Be more Mick!\\n🚀We’re growing a...                       0.00   \n",
       "Instagram post: I personally prefer to call...                           0.00   \n",
       "\n",
       "                                                    Signup  Registration  \\\n",
       "Ad name                                                                    \n",
       "5k-deathwish_single_w41-2020                           0.0           9.0   \n",
       "Instagram post: Be more Mick!\\n🚀We’re growing a...     0.0           0.0   \n",
       "Instagram post: I personally prefer to call...         0.0           0.0   \n",
       "\n",
       "                                                    Duration  \n",
       "Ad name                                                       \n",
       "5k-deathwish_single_w41-2020                               9  \n",
       "Instagram post: Be more Mick!\\n🚀We’re growing a...         5  \n",
       "Instagram post: I personally prefer to call...             1  "
      ]
     },
     "execution_count": 44,
     "metadata": {},
     "output_type": "execute_result"
    }
   ],
   "source": [
    "data_ad = data.groupby([\"Ad name\"])                                           \\\n",
    "              .agg({\"Impressions\" : \"sum\", \n",
    "                    \"Unique link clicks\" : \"sum\", \n",
    "                    \"Post shares\" : \"sum\", \n",
    "                    \"Cost\" : \"sum\", \n",
    "                    \"Cost per website purchase\" : \"sum\", \n",
    "                    \"Signup\" : \"sum\", \n",
    "                    \"Registration\" : \"sum\", \n",
    "                    \"Impressions_2\" : \"count\"})                               \\\n",
    "              .rename(columns = {\"Impressions_2\" : \"Duration\"})\n",
    " \n",
    "print(data_ad.dtypes)\n",
    "data_ad.head(3)"
   ]
  },
  {
   "cell_type": "markdown",
   "metadata": {},
   "source": [
    "### Check the data for missing values and NaN:"
   ]
  },
  {
   "cell_type": "code",
   "execution_count": 45,
   "metadata": {},
   "outputs": [
    {
     "name": "stdout",
     "output_type": "stream",
     "text": [
      "Impressions                  0\n",
      "Unique link clicks           0\n",
      "Post shares                  0\n",
      "Cost                         0\n",
      "Cost per website purchase    0\n",
      "Signup                       0\n",
      "Registration                 0\n",
      "Duration                     0\n",
      "dtype: int64\n",
      "Impressions                  0\n",
      "Unique link clicks           0\n",
      "Post shares                  0\n",
      "Cost                         0\n",
      "Cost per website purchase    0\n",
      "Signup                       0\n",
      "Registration                 0\n",
      "Duration                     0\n",
      "dtype: int64\n"
     ]
    }
   ],
   "source": [
    "print(data_ad.isnull().sum())\n",
    "print(data_ad.isna().sum())"
   ]
  },
  {
   "cell_type": "code",
   "execution_count": 46,
   "metadata": {
    "scrolled": true
   },
   "outputs": [
    {
     "data": {
      "text/plain": [
       "True"
      ]
     },
     "execution_count": 46,
     "metadata": {},
     "output_type": "execute_result"
    }
   ],
   "source": [
    "np.isnan(data_ad.Impressions.values).sum()\n",
    "\n",
    "import math\n",
    "x = float('nan')\n",
    "math.isnan(x)"
   ]
  },
  {
   "cell_type": "markdown",
   "metadata": {},
   "source": [
    "### Check for outliers"
   ]
  },
  {
   "cell_type": "code",
   "execution_count": 53,
   "metadata": {},
   "outputs": [
    {
     "data": {
      "text/plain": [
       "count    305.000000\n",
       "mean      28.767213\n",
       "std       74.469715\n",
       "min        1.000000\n",
       "25%        2.000000\n",
       "50%        5.000000\n",
       "75%       16.000000\n",
       "max      585.000000\n",
       "Name: Duration, dtype: float64"
      ]
     },
     "execution_count": 53,
     "metadata": {},
     "output_type": "execute_result"
    }
   ],
   "source": [
    "data_ad.Duration.describe()"
   ]
  },
  {
   "cell_type": "code",
   "execution_count": 66,
   "metadata": {},
   "outputs": [
    {
     "data": {
      "text/plain": [
       "<matplotlib.axes._subplots.AxesSubplot at 0x1238a6090>"
      ]
     },
     "execution_count": 66,
     "metadata": {},
     "output_type": "execute_result"
    },
    {
     "data": {
      "image/png": "[encoded data removed]",
      "text/plain": [
       "<Figure size 432x288 with 1 Axes>"
      ]
     },
     "metadata": {
      "needs_background": "light"
     },
     "output_type": "display_data"
    }
   ],
   "source": [
    "data_ad.boxplot(column = [\"Impressions\"])"
   ]
  },
  {
   "cell_type": "markdown",
   "metadata": {},
   "source": [
    "### Clustering"
   ]
  },
  {
   "cell_type": "code",
   "execution_count": 47,
   "metadata": {},
   "outputs": [
    {
     "data": {
      "image/png": "[encoded data removed]",
      "text/plain": [
       "<Figure size 432x288 with 1 Axes>"
      ]
     },
     "metadata": {
      "needs_background": "light"
     },
     "output_type": "display_data"
    }
   ],
   "source": [
    "from sklearn.cluster import KMeans \n",
    "\n",
    "intertias = []\n",
    "X = data_ad\n",
    "ks = range(1, 10)\n",
    "\n",
    "for k in ks: \n",
    "    km_elbow = KMeans(n_clusters = k, random_state = 5).fit(X)\n",
    "    intertias.append(km_elbow.inertia_)\n",
    "\n",
    "plt.plot(ks, intertias)\n",
    "plt.xlabel(ks)\n",
    "plt.show()"
   ]
  },
  {
   "cell_type": "markdown",
   "metadata": {},
   "source": [
    "-> Use 3 Cluster!"
   ]
  }
 ],
 "metadata": {
  "kernelspec": {
   "display_name": "Python 3",
   "language": "python",
   "name": "python3"
  },
  "language_info": {
   "codemirror_mode": {
    "name": "ipython",
    "version": 3
   },
   "file_extension": ".py",
   "mimetype": "text/x-python",
   "name": "python",
   "nbconvert_exporter": "python",
   "pygments_lexer": "ipython3",
   "version": "3.7.7"
  },
  "toc": {
   "base_numbering": 1,
   "nav_menu": {},
   "number_sections": true,
   "sideBar": true,
   "skip_h1_title": false,
   "title_cell": "Table of Contents",
   "title_sidebar": "Contents",
   "toc_cell": true,
   "toc_position": {},
   "toc_section_display": true,
   "toc_window_display": true
  }
 },
 "nbformat": 4,
 "nbformat_minor": 4
}
