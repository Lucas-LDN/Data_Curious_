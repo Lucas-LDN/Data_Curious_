{
 "cells": [
  {
   "cell_type": "markdown",
   "metadata": {
    "toc": true
   },
   "source": [
    "<h1>Table of Contents<span class=\"tocSkip\"></span></h1>\n",
    "<div class=\"toc\"><ul class=\"toc-item\"><li><span><a href=\"#Data-cleaning\" data-toc-modified-id=\"Data-cleaning-1\"><span class=\"toc-item-num\">1&nbsp;&nbsp;</span>Data cleaning</a></span><ul class=\"toc-item\"><li><span><a href=\"#Check-for-empty-values:\" data-toc-modified-id=\"Check-for-empty-values:-1.1\"><span class=\"toc-item-num\">1.1&nbsp;&nbsp;</span>Check for empty values:</a></span></li><li><span><a href=\"#Group-the-data\" data-toc-modified-id=\"Group-the-data-1.2\"><span class=\"toc-item-num\">1.2&nbsp;&nbsp;</span>Group the data</a></span><ul class=\"toc-item\"><li><span><a href=\"#Use-a-function-to-prevent-infinite-values-in-CR:\" data-toc-modified-id=\"Use-a-function-to-prevent-infinite-values-in-CR:-1.2.1\"><span class=\"toc-item-num\">1.2.1&nbsp;&nbsp;</span>Use a function to prevent infinite values in CR:</a></span></li><li><span><a href=\"#Use-a-for-loop-to-prevent-infinite-values-in-CR-with:\" data-toc-modified-id=\"Use-a-for-loop-to-prevent-infinite-values-in-CR-with:-1.2.2\"><span class=\"toc-item-num\">1.2.2&nbsp;&nbsp;</span>Use a for loop to prevent infinite values in CR with:</a></span></li><li><span><a href=\"#Check-the-data-for-missing-values-and-NaN:\" data-toc-modified-id=\"Check-the-data-for-missing-values-and-NaN:-1.2.3\"><span class=\"toc-item-num\">1.2.3&nbsp;&nbsp;</span>Check the data for missing values and NaN:</a></span></li><li><span><a href=\"#Check-for-outliers\" data-toc-modified-id=\"Check-for-outliers-1.2.4\"><span class=\"toc-item-num\">1.2.4&nbsp;&nbsp;</span>Check for outliers</a></span></li><li><span><a href=\"#Remove-infinite-values:\" data-toc-modified-id=\"Remove-infinite-values:-1.2.5\"><span class=\"toc-item-num\">1.2.5&nbsp;&nbsp;</span>Remove infinite values:</a></span><ul class=\"toc-item\"><li><span><a href=\"#Exclude-the-rows-with-.replace()-/-.drop():\" data-toc-modified-id=\"Exclude-the-rows-with-.replace()-/-.drop():-1.2.5.1\"><span class=\"toc-item-num\">1.2.5.1&nbsp;&nbsp;</span>Exclude the rows with .replace() / .drop():</a></span></li><li><span><a href=\"#Exlude-those-two-rows-with-'!='\" data-toc-modified-id=\"Exlude-those-two-rows-with-'!='-1.2.5.2\"><span class=\"toc-item-num\">1.2.5.2&nbsp;&nbsp;</span>Exlude those two rows with '!='</a></span></li></ul></li></ul></li><li><span><a href=\"#Add-a-CTR-class\" data-toc-modified-id=\"Add-a-CTR-class-1.3\"><span class=\"toc-item-num\">1.3&nbsp;&nbsp;</span>Add a CTR class</a></span><ul class=\"toc-item\"><li><span><a href=\"#data:\" data-toc-modified-id=\"data:-1.3.1\"><span class=\"toc-item-num\">1.3.1&nbsp;&nbsp;</span>data:</a></span></li><li><span><a href=\"#data_ad:\" data-toc-modified-id=\"data_ad:-1.3.2\"><span class=\"toc-item-num\">1.3.2&nbsp;&nbsp;</span>data_ad:</a></span></li></ul></li></ul></li><li><span><a href=\"#Machine-Learning\" data-toc-modified-id=\"Machine-Learning-2\"><span class=\"toc-item-num\">2&nbsp;&nbsp;</span>Machine Learning</a></span><ul class=\"toc-item\"><li><span><a href=\"#KNeighborsClassifier\" data-toc-modified-id=\"KNeighborsClassifier-2.1\"><span class=\"toc-item-num\">2.1&nbsp;&nbsp;</span>KNeighborsClassifier</a></span><ul class=\"toc-item\"><li><span><a href=\"#data:\" data-toc-modified-id=\"data:-2.1.1\"><span class=\"toc-item-num\">2.1.1&nbsp;&nbsp;</span>data:</a></span></li><li><span><a href=\"#data_ad:\" data-toc-modified-id=\"data_ad:-2.1.2\"><span class=\"toc-item-num\">2.1.2&nbsp;&nbsp;</span>data_ad:</a></span></li></ul></li><li><span><a href=\"#KMeans-Clustering\" data-toc-modified-id=\"KMeans-Clustering-2.2\"><span class=\"toc-item-num\">2.2&nbsp;&nbsp;</span>KMeans Clustering</a></span><ul class=\"toc-item\"><li><ul class=\"toc-item\"><li><span><a href=\"#Elbow:\" data-toc-modified-id=\"Elbow:-2.2.0.1\"><span class=\"toc-item-num\">2.2.0.1&nbsp;&nbsp;</span>Elbow:</a></span></li><li><span><a href=\"#No-Pipeline:\" data-toc-modified-id=\"No-Pipeline:-2.2.0.2\"><span class=\"toc-item-num\">2.2.0.2&nbsp;&nbsp;</span>No Pipeline:</a></span></li><li><span><a href=\"#With-Pipeline:\" data-toc-modified-id=\"With-Pipeline:-2.2.0.3\"><span class=\"toc-item-num\">2.2.0.3&nbsp;&nbsp;</span>With Pipeline:</a></span></li></ul></li></ul></li><li><span><a href=\"#Log-Reg:\" data-toc-modified-id=\"Log-Reg:-2.3\"><span class=\"toc-item-num\">2.3&nbsp;&nbsp;</span>Log Reg:</a></span><ul class=\"toc-item\"><li><span><a href=\"#data_ad:\" data-toc-modified-id=\"data_ad:-2.3.1\"><span class=\"toc-item-num\">2.3.1&nbsp;&nbsp;</span>data_ad:</a></span><ul class=\"toc-item\"><li><span><a href=\"#Without-Scaling:\" data-toc-modified-id=\"Without-Scaling:-2.3.1.1\"><span class=\"toc-item-num\">2.3.1.1&nbsp;&nbsp;</span>Without Scaling:</a></span></li><li><span><a href=\"#with-Standardscaler:\" data-toc-modified-id=\"with-Standardscaler:-2.3.1.2\"><span class=\"toc-item-num\">2.3.1.2&nbsp;&nbsp;</span>with Standardscaler:</a></span></li><li><span><a href=\"#with-RobustScaler:\" data-toc-modified-id=\"with-RobustScaler:-2.3.1.3\"><span class=\"toc-item-num\">2.3.1.3&nbsp;&nbsp;</span>with RobustScaler:</a></span></li><li><span><a href=\"#with-MinMaxScaler():\" data-toc-modified-id=\"with-MinMaxScaler():-2.3.1.4\"><span class=\"toc-item-num\">2.3.1.4&nbsp;&nbsp;</span>with MinMaxScaler():</a></span></li></ul></li></ul></li></ul></li></ul></div>"
   ]
  },
  {
   "cell_type": "code",
   "execution_count": 1,
   "metadata": {},
   "outputs": [],
   "source": [
    "import numpy as np\n",
    "import pandas as pd\n",
    "import matplotlib.ticker as ticker\n",
    "import matplotlib.pyplot as plt\n",
    "import matplotlib.ticker as mtick\n",
    "import seaborn as sns"
   ]
  },
  {
   "cell_type": "code",
   "execution_count": 2,
   "metadata": {},
   "outputs": [
    {
     "data": {
      "text/html": [
       "<div>\n",
       "<style scoped>\n",
       "    .dataframe tbody tr th:only-of-type {\n",
       "        vertical-align: middle;\n",
       "    }\n",
       "\n",
       "    .dataframe tbody tr th {\n",
       "        vertical-align: top;\n",
       "    }\n",
       "\n",
       "    .dataframe thead th {\n",
       "        text-align: right;\n",
       "    }\n",
       "</style>\n",
       "<table border=\"1\" class=\"dataframe\">\n",
       "  <thead>\n",
       "    <tr style=\"text-align: right;\">\n",
       "      <th></th>\n",
       "      <th>Date</th>\n",
       "      <th>Ad set name</th>\n",
       "      <th>Ad name</th>\n",
       "      <th>Campaign name</th>\n",
       "      <th>Impressions</th>\n",
       "      <th>Cost</th>\n",
       "      <th>Website purchases</th>\n",
       "      <th>Cost per website purchase</th>\n",
       "      <th>CPC (cost per link click)</th>\n",
       "      <th>CTR (link click-through rate)</th>\n",
       "      <th>...</th>\n",
       "      <th>Unique adds to cart</th>\n",
       "      <th>Website leads</th>\n",
       "      <th>Unique link clicks</th>\n",
       "      <th>Unique mobile app adds of payment info</th>\n",
       "      <th>Conversion rate ranking</th>\n",
       "      <th>Post shares</th>\n",
       "      <th>Return on ad spend (ROAS)</th>\n",
       "      <th>Unique completed registrations</th>\n",
       "      <th>Post comments</th>\n",
       "      <th>Impressions_2</th>\n",
       "    </tr>\n",
       "  </thead>\n",
       "  <tbody>\n",
       "    <tr>\n",
       "      <th>0</th>\n",
       "      <td>2020-11-22</td>\n",
       "      <td>Post: \"Who's going to give Dale his next day a...</td>\n",
       "      <td>Post: \"Who's going to give Dale his next day a...</td>\n",
       "      <td>Post: \"Who's going to give Dale his next day a...</td>\n",
       "      <td>716</td>\n",
       "      <td>1.98</td>\n",
       "      <td>NaN</td>\n",
       "      <td>NaN</td>\n",
       "      <td>0.18</td>\n",
       "      <td>1.54</td>\n",
       "      <td>...</td>\n",
       "      <td>NaN</td>\n",
       "      <td>NaN</td>\n",
       "      <td>11.0</td>\n",
       "      <td>NaN</td>\n",
       "      <td>3</td>\n",
       "      <td>NaN</td>\n",
       "      <td>0.0</td>\n",
       "      <td>NaN</td>\n",
       "      <td>NaN</td>\n",
       "      <td>716</td>\n",
       "    </tr>\n",
       "    <tr>\n",
       "      <th>1</th>\n",
       "      <td>2020-11-22</td>\n",
       "      <td>Post: \"✨⚰️  Glittery coffins\"</td>\n",
       "      <td>Post: \"✨⚰️  Glittery coffins\"</td>\n",
       "      <td>Post: \"✨⚰️  Glittery coffins\"</td>\n",
       "      <td>398</td>\n",
       "      <td>2.10</td>\n",
       "      <td>NaN</td>\n",
       "      <td>NaN</td>\n",
       "      <td>1.05</td>\n",
       "      <td>0.50</td>\n",
       "      <td>...</td>\n",
       "      <td>NaN</td>\n",
       "      <td>NaN</td>\n",
       "      <td>2.0</td>\n",
       "      <td>NaN</td>\n",
       "      <td>0</td>\n",
       "      <td>1.0</td>\n",
       "      <td>0.0</td>\n",
       "      <td>NaN</td>\n",
       "      <td>1.0</td>\n",
       "      <td>398</td>\n",
       "    </tr>\n",
       "  </tbody>\n",
       "</table>\n",
       "<p>2 rows × 23 columns</p>\n",
       "</div>"
      ],
      "text/plain": [
       "         Date                                        Ad set name  \\\n",
       "0  2020-11-22  Post: \"Who's going to give Dale his next day a...   \n",
       "1  2020-11-22                      Post: \"✨⚰️  Glittery coffins\"   \n",
       "\n",
       "                                             Ad name  \\\n",
       "0  Post: \"Who's going to give Dale his next day a...   \n",
       "1                      Post: \"✨⚰️  Glittery coffins\"   \n",
       "\n",
       "                                       Campaign name  Impressions  Cost  \\\n",
       "0  Post: \"Who's going to give Dale his next day a...          716  1.98   \n",
       "1                      Post: \"✨⚰️  Glittery coffins\"          398  2.10   \n",
       "\n",
       "  Website purchases  Cost per website purchase  CPC (cost per link click)  \\\n",
       "0               NaN                        NaN                       0.18   \n",
       "1               NaN                        NaN                       1.05   \n",
       "\n",
       "   CTR (link click-through rate)  ...  Unique adds to cart  Website leads  \\\n",
       "0                           1.54  ...                  NaN            NaN   \n",
       "1                           0.50  ...                  NaN            NaN   \n",
       "\n",
       "   Unique link clicks  Unique mobile app adds of payment info  \\\n",
       "0                11.0                                     NaN   \n",
       "1                 2.0                                     NaN   \n",
       "\n",
       "   Conversion rate ranking  Post shares  Return on ad spend (ROAS)  \\\n",
       "0                        3          NaN                        0.0   \n",
       "1                        0          1.0                        0.0   \n",
       "\n",
       "   Unique completed registrations  Post comments  Impressions_2  \n",
       "0                             NaN            NaN            716  \n",
       "1                             NaN            1.0            398  \n",
       "\n",
       "[2 rows x 23 columns]"
      ]
     },
     "execution_count": 2,
     "metadata": {},
     "output_type": "execute_result"
    }
   ],
   "source": [
    "data = pd.read_csv(\"DH data sheet - Sheet1.csv\")\n",
    "\n",
    "# Add a second column of Impressions, so we can count how many days is was Live.\n",
    "data[\"Impressions_2\"] = data.Impressions\n",
    "\n",
    "data.head(2)"
   ]
  },
  {
   "cell_type": "markdown",
   "metadata": {},
   "source": [
    "# Data cleaning"
   ]
  },
  {
   "cell_type": "markdown",
   "metadata": {},
   "source": [
    " ##  Check for empty values:"
   ]
  },
  {
   "cell_type": "code",
   "execution_count": 3,
   "metadata": {},
   "outputs": [
    {
     "data": {
      "text/plain": [
       "Date                                         0\n",
       "Ad set name                                  0\n",
       "Ad name                                      0\n",
       "Campaign name                                0\n",
       "Impressions                                  0\n",
       "Cost                                         0\n",
       "Website purchases                         7474\n",
       "Cost per website purchase                 7474\n",
       "CPC (cost per link click)                 1245\n",
       "CTR (link click-through rate)                0\n",
       "Signup                                    8549\n",
       "Registration                              5442\n",
       "Unique purchases                          8774\n",
       "Unique adds to cart                       8774\n",
       "Website leads                             8761\n",
       "Unique link clicks                        1245\n",
       "Unique mobile app adds of payment info    8774\n",
       "Conversion rate ranking                      0\n",
       "Post shares                               7168\n",
       "Return on ad spend (ROAS)                   14\n",
       "Unique completed registrations            8774\n",
       "Post comments                             6632\n",
       "Impressions_2                                0\n",
       "dtype: int64"
      ]
     },
     "execution_count": 3,
     "metadata": {},
     "output_type": "execute_result"
    }
   ],
   "source": [
    "data.isnull().sum()"
   ]
  },
  {
   "cell_type": "markdown",
   "metadata": {},
   "source": [
    "## Group the data"
   ]
  },
  {
   "cell_type": "code",
   "execution_count": 4,
   "metadata": {
    "scrolled": false
   },
   "outputs": [
    {
     "data": {
      "text/plain": [
       "Impressions                    int64\n",
       "Unique link clicks           float64\n",
       "Post shares                  float64\n",
       "Cost                         float64\n",
       "Cost per website purchase    float64\n",
       "Signup                       float64\n",
       "Registration                 float64\n",
       "Duration                       int64\n",
       "CTR                          float64\n",
       "CR                           float64\n",
       "dtype: object"
      ]
     },
     "metadata": {},
     "output_type": "display_data"
    },
    {
     "data": {
      "text/html": [
       "<div>\n",
       "<style scoped>\n",
       "    .dataframe tbody tr th:only-of-type {\n",
       "        vertical-align: middle;\n",
       "    }\n",
       "\n",
       "    .dataframe tbody tr th {\n",
       "        vertical-align: top;\n",
       "    }\n",
       "\n",
       "    .dataframe thead th {\n",
       "        text-align: right;\n",
       "    }\n",
       "</style>\n",
       "<table border=\"1\" class=\"dataframe\">\n",
       "  <thead>\n",
       "    <tr style=\"text-align: right;\">\n",
       "      <th></th>\n",
       "      <th>Impressions</th>\n",
       "      <th>Unique link clicks</th>\n",
       "      <th>Post shares</th>\n",
       "      <th>Cost</th>\n",
       "      <th>Cost per website purchase</th>\n",
       "      <th>Signup</th>\n",
       "      <th>Registration</th>\n",
       "      <th>Duration</th>\n",
       "      <th>CTR</th>\n",
       "      <th>CR</th>\n",
       "    </tr>\n",
       "    <tr>\n",
       "      <th>Ad name</th>\n",
       "      <th></th>\n",
       "      <th></th>\n",
       "      <th></th>\n",
       "      <th></th>\n",
       "      <th></th>\n",
       "      <th></th>\n",
       "      <th></th>\n",
       "      <th></th>\n",
       "      <th></th>\n",
       "      <th></th>\n",
       "    </tr>\n",
       "  </thead>\n",
       "  <tbody>\n",
       "    <tr>\n",
       "      <th>5k-deathwish_single_w41-2020</th>\n",
       "      <td>58014</td>\n",
       "      <td>173.0</td>\n",
       "      <td>1.0</td>\n",
       "      <td>775.29</td>\n",
       "      <td>201.66</td>\n",
       "      <td>0.0</td>\n",
       "      <td>9.0</td>\n",
       "      <td>9</td>\n",
       "      <td>0.002982</td>\n",
       "      <td>0.052023</td>\n",
       "    </tr>\n",
       "    <tr>\n",
       "      <th>Instagram post: Be more Mick!\\n🚀We’re growing at...</th>\n",
       "      <td>6272</td>\n",
       "      <td>94.0</td>\n",
       "      <td>1.0</td>\n",
       "      <td>20.00</td>\n",
       "      <td>0.00</td>\n",
       "      <td>0.0</td>\n",
       "      <td>0.0</td>\n",
       "      <td>5</td>\n",
       "      <td>0.014987</td>\n",
       "      <td>0.000000</td>\n",
       "    </tr>\n",
       "    <tr>\n",
       "      <th>Instagram post: I personally prefer to call...</th>\n",
       "      <td>1425</td>\n",
       "      <td>11.0</td>\n",
       "      <td>1.0</td>\n",
       "      <td>2.60</td>\n",
       "      <td>0.00</td>\n",
       "      <td>0.0</td>\n",
       "      <td>0.0</td>\n",
       "      <td>1</td>\n",
       "      <td>0.007719</td>\n",
       "      <td>0.000000</td>\n",
       "    </tr>\n",
       "  </tbody>\n",
       "</table>\n",
       "</div>"
      ],
      "text/plain": [
       "                                                    Impressions  \\\n",
       "Ad name                                                           \n",
       "5k-deathwish_single_w41-2020                              58014   \n",
       "Instagram post: Be more Mick!\\n🚀We’re growing a...         6272   \n",
       "Instagram post: I personally prefer to call...             1425   \n",
       "\n",
       "                                                    Unique link clicks  \\\n",
       "Ad name                                                                  \n",
       "5k-deathwish_single_w41-2020                                     173.0   \n",
       "Instagram post: Be more Mick!\\n🚀We’re growing a...                94.0   \n",
       "Instagram post: I personally prefer to call...                    11.0   \n",
       "\n",
       "                                                    Post shares    Cost  \\\n",
       "Ad name                                                                   \n",
       "5k-deathwish_single_w41-2020                                1.0  775.29   \n",
       "Instagram post: Be more Mick!\\n🚀We’re growing a...          1.0   20.00   \n",
       "Instagram post: I personally prefer to call...              1.0    2.60   \n",
       "\n",
       "                                                    Cost per website purchase  \\\n",
       "Ad name                                                                         \n",
       "5k-deathwish_single_w41-2020                                           201.66   \n",
       "Instagram post: Be more Mick!\\n🚀We’re growing a...                       0.00   \n",
       "Instagram post: I personally prefer to call...                           0.00   \n",
       "\n",
       "                                                    Signup  Registration  \\\n",
       "Ad name                                                                    \n",
       "5k-deathwish_single_w41-2020                           0.0           9.0   \n",
       "Instagram post: Be more Mick!\\n🚀We’re growing a...     0.0           0.0   \n",
       "Instagram post: I personally prefer to call...         0.0           0.0   \n",
       "\n",
       "                                                    Duration       CTR  \\\n",
       "Ad name                                                                  \n",
       "5k-deathwish_single_w41-2020                               9  0.002982   \n",
       "Instagram post: Be more Mick!\\n🚀We’re growing a...         5  0.014987   \n",
       "Instagram post: I personally prefer to call...             1  0.007719   \n",
       "\n",
       "                                                          CR  \n",
       "Ad name                                                       \n",
       "5k-deathwish_single_w41-2020                        0.052023  \n",
       "Instagram post: Be more Mick!\\n🚀We’re growing a...  0.000000  \n",
       "Instagram post: I personally prefer to call...      0.000000  "
      ]
     },
     "metadata": {},
     "output_type": "display_data"
    },
    {
     "data": {
      "text/plain": [
       "(305, 10)"
      ]
     },
     "metadata": {},
     "output_type": "display_data"
    },
    {
     "data": {
      "text/plain": [
       "Impressions                   0\n",
       "Unique link clicks            0\n",
       "Post shares                   0\n",
       "Cost                          0\n",
       "Cost per website purchase     0\n",
       "Signup                        0\n",
       "Registration                  0\n",
       "Duration                      0\n",
       "CTR                           0\n",
       "CR                           39\n",
       "dtype: int64"
      ]
     },
     "metadata": {},
     "output_type": "display_data"
    }
   ],
   "source": [
    "data_ad = data.groupby([\"Ad name\"])                                           \\\n",
    "              .agg({\"Impressions\" : \"sum\", \n",
    "                    \"Unique link clicks\" : \"sum\", \n",
    "                    \"Post shares\" : \"sum\", \n",
    "                    \"Cost\" : \"sum\", \n",
    "                    \"Cost per website purchase\" : \"sum\", \n",
    "                    \"Signup\" : \"sum\", \n",
    "                    \"Registration\" : \"sum\", \n",
    "                    \"Impressions_2\" : \"count\"})                               \\\n",
    "              .rename(columns = {\"Impressions_2\" : \"Duration\"})\n",
    "\n",
    "# Add CTR:\n",
    "data_ad[\"CTR\"] = data_ad[\"Unique link clicks\"] / data_ad.Impressions\n",
    "\n",
    "# Add CR: \n",
    "data_ad[\"CR\"] = data_ad.Registration / data_ad[\"Unique link clicks\"]    \n",
    "    \n",
    "display(data_ad.dtypes)\n",
    "display(data_ad.head(3))\n",
    "display(data_ad.shape)\n",
    "display(data_ad.isnull().sum())"
   ]
  },
  {
   "cell_type": "markdown",
   "metadata": {},
   "source": [
    "### Use a function to prevent infinite values in CR:"
   ]
  },
  {
   "cell_type": "code",
   "execution_count": null,
   "metadata": {
    "scrolled": false
   },
   "outputs": [],
   "source": [
    "data_ad.head(1)"
   ]
  },
  {
   "cell_type": "code",
   "execution_count": null,
   "metadata": {
    "scrolled": false
   },
   "outputs": [],
   "source": [
    "data_ad = data.groupby([\"Ad name\"])                                           \\\n",
    "              .agg({\"Impressions\" : \"sum\", \n",
    "                    \"Unique link clicks\" : \"sum\", \n",
    "                    \"Post shares\" : \"sum\", \n",
    "                    \"Cost\" : \"sum\", \n",
    "                    \"Cost per website purchase\" : \"sum\", \n",
    "                    \"Signup\" : \"sum\", \n",
    "                    \"Registration\" : \"sum\", \n",
    "                    \"Impressions_2\" : \"count\"})                               \\\n",
    "              .rename(columns = {\"Impressions_2\" : \"Duration\"})\n",
    "\n",
    "# Add CTR: \n",
    "data_ad[\"CTR\"] = data_ad[\"Unique link clicks\"] / data_ad.Impressions\n",
    "\n",
    "# Add CR: \n",
    "def calculate_CR(df, col):\n",
    "    for row in df:\n",
    "        if col == 0:\n",
    "            data_ad[\"CR\"] = 0\n",
    "        else:\n",
    "            data_ad[\"CR\"] = data_ad.Registration / data_ad[\"Unique link clicks\"]    \n",
    "\n",
    "calculate_CR(data_ad, \"Unique link clicks\") \n",
    "\n",
    "print(data_ad.dtypes)\n",
    "display(data_ad.head(3))\n",
    "display(data_ad.loc[['''Post: \"Today is #WorldMentalHealthDay 💚\"''']])"
   ]
  },
  {
   "cell_type": "markdown",
   "metadata": {},
   "source": [
    "### Use a for loop to prevent infinite values in CR with: "
   ]
  },
  {
   "cell_type": "code",
   "execution_count": null,
   "metadata": {
    "scrolled": false
   },
   "outputs": [],
   "source": [
    "display(data_ad.columns) \n",
    "data_ad[\"Unique link clicks\"].values[0:10] "
   ]
  },
  {
   "cell_type": "code",
   "execution_count": null,
   "metadata": {},
   "outputs": [],
   "source": [
    "data_ad[\"Unique link clicks\"][1] "
   ]
  },
  {
   "cell_type": "code",
   "execution_count": null,
   "metadata": {},
   "outputs": [],
   "source": [
    "data_ad[(data_ad[\"Unique link clicks\"] < 1) &\n",
    "        (data_ad[\"Registration\"] >= 1)] "
   ]
  },
  {
   "cell_type": "code",
   "execution_count": null,
   "metadata": {
    "scrolled": true
   },
   "outputs": [],
   "source": [
    "#For Loop: \n",
    "for row in data_ad: \n",
    "    if data_ad[\"Unique link clicks\"][row] >= 1: \n",
    "        data_ad[\"CR\"]= data_ad.Registration / data_ad[\"Unique link clicks\"]\n",
    "    else: \n",
    "        data_ad[\"Unique link clicks\"] = 0 \n",
    "#    data_ad[\"CR\"] = calculate_CR(data_ad[row]) "
   ]
  },
  {
   "cell_type": "code",
   "execution_count": null,
   "metadata": {},
   "outputs": [],
   "source": [
    "display(data_ad.loc[['''Post: \"Today is #WorldMentalHealthDay 💚\"''']])"
   ]
  },
  {
   "cell_type": "code",
   "execution_count": null,
   "metadata": {},
   "outputs": [],
   "source": [
    "data_ad[\"Unique link clicks\"][1]"
   ]
  },
  {
   "cell_type": "code",
   "execution_count": null,
   "metadata": {
    "scrolled": true
   },
   "outputs": [],
   "source": [
    "for row in data_ad:\n",
    "    if data_ad[\"Unique link clicks\"][row] == 0.0:\n",
    "        data_ad[\"CR\"] = 0.0\n",
    "    else:\n",
    "        data_ad[\"CR\"] = data_ad.Registration / data_ad[\"Unique link clicks\"]\n",
    "\n",
    "data_ad"
   ]
  },
  {
   "cell_type": "code",
   "execution_count": null,
   "metadata": {
    "scrolled": true
   },
   "outputs": [],
   "source": [
    "data_ad.CR.values"
   ]
  },
  {
   "cell_type": "markdown",
   "metadata": {},
   "source": [
    "### Check the data for missing values and NaN:"
   ]
  },
  {
   "cell_type": "code",
   "execution_count": null,
   "metadata": {},
   "outputs": [],
   "source": [
    "data_ad.isnull().sum()"
   ]
  },
  {
   "cell_type": "code",
   "execution_count": null,
   "metadata": {
    "scrolled": true
   },
   "outputs": [],
   "source": [
    "import math\n",
    "x = float('nan')\n",
    "math.isnan(x)"
   ]
  },
  {
   "cell_type": "markdown",
   "metadata": {},
   "source": [
    "### Check for outliers"
   ]
  },
  {
   "cell_type": "code",
   "execution_count": null,
   "metadata": {},
   "outputs": [],
   "source": [
    "data_ad.Duration.describe()"
   ]
  },
  {
   "cell_type": "code",
   "execution_count": null,
   "metadata": {
    "scrolled": false
   },
   "outputs": [],
   "source": [
    "data_ad.boxplot(column = [\"Impressions\"])"
   ]
  },
  {
   "cell_type": "code",
   "execution_count": null,
   "metadata": {
    "scrolled": false
   },
   "outputs": [],
   "source": [
    "print(\"Longest Duration:\")\n",
    "display(data_ad.loc[[data_ad.Duration.argmax()]])\n",
    "\n",
    "print(\"Highest number of impressions:\")\n",
    "display(data_ad.loc[[data_ad.Impressions.argmax()]])"
   ]
  },
  {
   "cell_type": "markdown",
   "metadata": {},
   "source": [
    "### Remove infinite values: "
   ]
  },
  {
   "cell_type": "markdown",
   "metadata": {},
   "source": [
    "#### Exclude the rows with .replace() / .drop():"
   ]
  },
  {
   "cell_type": "code",
   "execution_count": 5,
   "metadata": {
    "scrolled": true
   },
   "outputs": [
    {
     "data": {
      "text/plain": [
       "inf"
      ]
     },
     "execution_count": 5,
     "metadata": {},
     "output_type": "execute_result"
    }
   ],
   "source": [
    "# Locate empty values in the df: \n",
    "data_ad.CR.max()"
   ]
  },
  {
   "cell_type": "code",
   "execution_count": 6,
   "metadata": {
    "scrolled": true
   },
   "outputs": [
    {
     "data": {
      "text/html": [
       "<div>\n",
       "<style scoped>\n",
       "    .dataframe tbody tr th:only-of-type {\n",
       "        vertical-align: middle;\n",
       "    }\n",
       "\n",
       "    .dataframe tbody tr th {\n",
       "        vertical-align: top;\n",
       "    }\n",
       "\n",
       "    .dataframe thead th {\n",
       "        text-align: right;\n",
       "    }\n",
       "</style>\n",
       "<table border=\"1\" class=\"dataframe\">\n",
       "  <thead>\n",
       "    <tr style=\"text-align: right;\">\n",
       "      <th></th>\n",
       "      <th>Impressions</th>\n",
       "      <th>Unique link clicks</th>\n",
       "      <th>Post shares</th>\n",
       "      <th>Cost</th>\n",
       "      <th>Cost per website purchase</th>\n",
       "      <th>Signup</th>\n",
       "      <th>Registration</th>\n",
       "      <th>Duration</th>\n",
       "      <th>CTR</th>\n",
       "      <th>CR</th>\n",
       "    </tr>\n",
       "    <tr>\n",
       "      <th>Ad name</th>\n",
       "      <th></th>\n",
       "      <th></th>\n",
       "      <th></th>\n",
       "      <th></th>\n",
       "      <th></th>\n",
       "      <th></th>\n",
       "      <th></th>\n",
       "      <th></th>\n",
       "      <th></th>\n",
       "      <th></th>\n",
       "    </tr>\n",
       "  </thead>\n",
       "  <tbody>\n",
       "    <tr>\n",
       "      <th>Post: \"That camp... I still get flashbacks...\"</th>\n",
       "      <td>6486</td>\n",
       "      <td>0.0</td>\n",
       "      <td>0.0</td>\n",
       "      <td>12.00</td>\n",
       "      <td>0.0</td>\n",
       "      <td>0.0</td>\n",
       "      <td>2.0</td>\n",
       "      <td>5</td>\n",
       "      <td>0.0</td>\n",
       "      <td>inf</td>\n",
       "    </tr>\n",
       "    <tr>\n",
       "      <th>Post: \"Today is #WorldMentalHealthDay 💚\"</th>\n",
       "      <td>1528</td>\n",
       "      <td>0.0</td>\n",
       "      <td>22.0</td>\n",
       "      <td>6.99</td>\n",
       "      <td>0.0</td>\n",
       "      <td>0.0</td>\n",
       "      <td>1.0</td>\n",
       "      <td>2</td>\n",
       "      <td>0.0</td>\n",
       "      <td>inf</td>\n",
       "    </tr>\n",
       "  </tbody>\n",
       "</table>\n",
       "</div>"
      ],
      "text/plain": [
       "                                                Impressions  \\\n",
       "Ad name                                                       \n",
       "Post: \"That camp... I still get flashbacks...\"         6486   \n",
       "Post: \"Today is #WorldMentalHealthDay 💚\"               1528   \n",
       "\n",
       "                                                Unique link clicks  \\\n",
       "Ad name                                                              \n",
       "Post: \"That camp... I still get flashbacks...\"                 0.0   \n",
       "Post: \"Today is #WorldMentalHealthDay 💚\"                       0.0   \n",
       "\n",
       "                                                Post shares   Cost  \\\n",
       "Ad name                                                              \n",
       "Post: \"That camp... I still get flashbacks...\"          0.0  12.00   \n",
       "Post: \"Today is #WorldMentalHealthDay 💚\"               22.0   6.99   \n",
       "\n",
       "                                                Cost per website purchase  \\\n",
       "Ad name                                                                     \n",
       "Post: \"That camp... I still get flashbacks...\"                        0.0   \n",
       "Post: \"Today is #WorldMentalHealthDay 💚\"                              0.0   \n",
       "\n",
       "                                                Signup  Registration  \\\n",
       "Ad name                                                                \n",
       "Post: \"That camp... I still get flashbacks...\"     0.0           2.0   \n",
       "Post: \"Today is #WorldMentalHealthDay 💚\"           0.0           1.0   \n",
       "\n",
       "                                                Duration  CTR   CR  \n",
       "Ad name                                                             \n",
       "Post: \"That camp... I still get flashbacks...\"         5  0.0  inf  \n",
       "Post: \"Today is #WorldMentalHealthDay 💚\"               2  0.0  inf  "
      ]
     },
     "metadata": {},
     "output_type": "display_data"
    }
   ],
   "source": [
    "#Locate rows with inf in CR: \n",
    "rows_with_inf_in_CR = data_ad[(data_ad[\"Unique link clicks\"] == 0) \n",
    "                              & \n",
    "                              (data_ad.Registration >= 1)] \n",
    "display(rows_with_inf_in_CR) \n",
    "\n",
    "#Can also select them this way: \n",
    "# Locate the rows where CR is infinite (due to dividing by 0):\n",
    "#bool_series = np.isinf(data_ad[\"CR\"])\n",
    "#data_ad[bool_series]"
   ]
  },
  {
   "cell_type": "code",
   "execution_count": 7,
   "metadata": {},
   "outputs": [
    {
     "data": {
      "text/html": [
       "<div>\n",
       "<style scoped>\n",
       "    .dataframe tbody tr th:only-of-type {\n",
       "        vertical-align: middle;\n",
       "    }\n",
       "\n",
       "    .dataframe tbody tr th {\n",
       "        vertical-align: top;\n",
       "    }\n",
       "\n",
       "    .dataframe thead th {\n",
       "        text-align: right;\n",
       "    }\n",
       "</style>\n",
       "<table border=\"1\" class=\"dataframe\">\n",
       "  <thead>\n",
       "    <tr style=\"text-align: right;\">\n",
       "      <th></th>\n",
       "      <th>Impressions</th>\n",
       "      <th>Unique link clicks</th>\n",
       "      <th>Post shares</th>\n",
       "      <th>Cost</th>\n",
       "      <th>Cost per website purchase</th>\n",
       "      <th>Signup</th>\n",
       "      <th>Registration</th>\n",
       "      <th>Duration</th>\n",
       "      <th>CTR</th>\n",
       "      <th>CR</th>\n",
       "    </tr>\n",
       "    <tr>\n",
       "      <th>Ad name</th>\n",
       "      <th></th>\n",
       "      <th></th>\n",
       "      <th></th>\n",
       "      <th></th>\n",
       "      <th></th>\n",
       "      <th></th>\n",
       "      <th></th>\n",
       "      <th></th>\n",
       "      <th></th>\n",
       "      <th></th>\n",
       "    </tr>\n",
       "  </thead>\n",
       "  <tbody>\n",
       "    <tr>\n",
       "      <th>Post: \"Today is #WorldMentalHealthDay 💚\"</th>\n",
       "      <td>1528</td>\n",
       "      <td>0.0</td>\n",
       "      <td>22.0</td>\n",
       "      <td>6.99</td>\n",
       "      <td>0.0</td>\n",
       "      <td>0.0</td>\n",
       "      <td>1.0</td>\n",
       "      <td>2</td>\n",
       "      <td>0.0</td>\n",
       "      <td>inf</td>\n",
       "    </tr>\n",
       "    <tr>\n",
       "      <th>Post: \"That camp... I still get flashbacks...\"</th>\n",
       "      <td>6486</td>\n",
       "      <td>0.0</td>\n",
       "      <td>0.0</td>\n",
       "      <td>12.00</td>\n",
       "      <td>0.0</td>\n",
       "      <td>0.0</td>\n",
       "      <td>2.0</td>\n",
       "      <td>5</td>\n",
       "      <td>0.0</td>\n",
       "      <td>inf</td>\n",
       "    </tr>\n",
       "  </tbody>\n",
       "</table>\n",
       "</div>"
      ],
      "text/plain": [
       "                                                Impressions  \\\n",
       "Ad name                                                       \n",
       "Post: \"Today is #WorldMentalHealthDay 💚\"               1528   \n",
       "Post: \"That camp... I still get flashbacks...\"         6486   \n",
       "\n",
       "                                                Unique link clicks  \\\n",
       "Ad name                                                              \n",
       "Post: \"Today is #WorldMentalHealthDay 💚\"                       0.0   \n",
       "Post: \"That camp... I still get flashbacks...\"                 0.0   \n",
       "\n",
       "                                                Post shares   Cost  \\\n",
       "Ad name                                                              \n",
       "Post: \"Today is #WorldMentalHealthDay 💚\"               22.0   6.99   \n",
       "Post: \"That camp... I still get flashbacks...\"          0.0  12.00   \n",
       "\n",
       "                                                Cost per website purchase  \\\n",
       "Ad name                                                                     \n",
       "Post: \"Today is #WorldMentalHealthDay 💚\"                              0.0   \n",
       "Post: \"That camp... I still get flashbacks...\"                        0.0   \n",
       "\n",
       "                                                Signup  Registration  \\\n",
       "Ad name                                                                \n",
       "Post: \"Today is #WorldMentalHealthDay 💚\"           0.0           1.0   \n",
       "Post: \"That camp... I still get flashbacks...\"     0.0           2.0   \n",
       "\n",
       "                                                Duration  CTR   CR  \n",
       "Ad name                                                             \n",
       "Post: \"Today is #WorldMentalHealthDay 💚\"               2  0.0  inf  \n",
       "Post: \"That camp... I still get flashbacks...\"         5  0.0  inf  "
      ]
     },
     "execution_count": 7,
     "metadata": {},
     "output_type": "execute_result"
    }
   ],
   "source": [
    "#Select those 2 rows this way: \n",
    "data_ad.loc[['''Post: \"Today is #WorldMentalHealthDay 💚\"''', \n",
    "             '''Post: \"That camp... I still get flashbacks...\"'''], \n",
    "            :]"
   ]
  },
  {
   "cell_type": "code",
   "execution_count": 8,
   "metadata": {
    "scrolled": false
   },
   "outputs": [
    {
     "name": "stdout",
     "output_type": "stream",
     "text": [
      "305\n",
      "103\n",
      "41\n",
      "2\n"
     ]
    }
   ],
   "source": [
    "#Check the length of our df before dropping values: \n",
    "print(len(data_ad)) \n",
    "print(len(data_ad[data_ad[\"CR\"] == 0])) \n",
    "print(len(data_ad[data_ad[\"Unique link clicks\"] == 0])) \n",
    "print(len(rows_with_inf_in_CR)) "
   ]
  },
  {
   "cell_type": "code",
   "execution_count": 11,
   "metadata": {},
   "outputs": [
    {
     "data": {
      "text/plain": [
       "1.25"
      ]
     },
     "execution_count": 11,
     "metadata": {},
     "output_type": "execute_result"
    }
   ],
   "source": [
    "#Drop the rows with inf in the CR column: \n",
    "data_ad = data_ad.replace(np.inf, 0)\n",
    "data_ad.CR.max()"
   ]
  },
  {
   "cell_type": "code",
   "execution_count": 13,
   "metadata": {},
   "outputs": [
    {
     "data": {
      "text/html": [
       "<div>\n",
       "<style scoped>\n",
       "    .dataframe tbody tr th:only-of-type {\n",
       "        vertical-align: middle;\n",
       "    }\n",
       "\n",
       "    .dataframe tbody tr th {\n",
       "        vertical-align: top;\n",
       "    }\n",
       "\n",
       "    .dataframe thead th {\n",
       "        text-align: right;\n",
       "    }\n",
       "</style>\n",
       "<table border=\"1\" class=\"dataframe\">\n",
       "  <thead>\n",
       "    <tr style=\"text-align: right;\">\n",
       "      <th></th>\n",
       "      <th>Impressions</th>\n",
       "      <th>Unique link clicks</th>\n",
       "      <th>Post shares</th>\n",
       "      <th>Cost</th>\n",
       "      <th>Cost per website purchase</th>\n",
       "      <th>Signup</th>\n",
       "      <th>Registration</th>\n",
       "      <th>Duration</th>\n",
       "      <th>CTR</th>\n",
       "      <th>CR</th>\n",
       "    </tr>\n",
       "    <tr>\n",
       "      <th>Ad name</th>\n",
       "      <th></th>\n",
       "      <th></th>\n",
       "      <th></th>\n",
       "      <th></th>\n",
       "      <th></th>\n",
       "      <th></th>\n",
       "      <th></th>\n",
       "      <th></th>\n",
       "      <th></th>\n",
       "      <th></th>\n",
       "    </tr>\n",
       "  </thead>\n",
       "  <tbody>\n",
       "    <tr>\n",
       "      <th>Post: \"Today is #WorldMentalHealthDay 💚\"</th>\n",
       "      <td>1528</td>\n",
       "      <td>0.0</td>\n",
       "      <td>22.0</td>\n",
       "      <td>6.99</td>\n",
       "      <td>0.0</td>\n",
       "      <td>0.0</td>\n",
       "      <td>1.0</td>\n",
       "      <td>2</td>\n",
       "      <td>0.0</td>\n",
       "      <td>0.0</td>\n",
       "    </tr>\n",
       "    <tr>\n",
       "      <th>Post: \"That camp... I still get flashbacks...\"</th>\n",
       "      <td>6486</td>\n",
       "      <td>0.0</td>\n",
       "      <td>0.0</td>\n",
       "      <td>12.00</td>\n",
       "      <td>0.0</td>\n",
       "      <td>0.0</td>\n",
       "      <td>2.0</td>\n",
       "      <td>5</td>\n",
       "      <td>0.0</td>\n",
       "      <td>0.0</td>\n",
       "    </tr>\n",
       "  </tbody>\n",
       "</table>\n",
       "</div>"
      ],
      "text/plain": [
       "                                                Impressions  \\\n",
       "Ad name                                                       \n",
       "Post: \"Today is #WorldMentalHealthDay 💚\"               1528   \n",
       "Post: \"That camp... I still get flashbacks...\"         6486   \n",
       "\n",
       "                                                Unique link clicks  \\\n",
       "Ad name                                                              \n",
       "Post: \"Today is #WorldMentalHealthDay 💚\"                       0.0   \n",
       "Post: \"That camp... I still get flashbacks...\"                 0.0   \n",
       "\n",
       "                                                Post shares   Cost  \\\n",
       "Ad name                                                              \n",
       "Post: \"Today is #WorldMentalHealthDay 💚\"               22.0   6.99   \n",
       "Post: \"That camp... I still get flashbacks...\"          0.0  12.00   \n",
       "\n",
       "                                                Cost per website purchase  \\\n",
       "Ad name                                                                     \n",
       "Post: \"Today is #WorldMentalHealthDay 💚\"                              0.0   \n",
       "Post: \"That camp... I still get flashbacks...\"                        0.0   \n",
       "\n",
       "                                                Signup  Registration  \\\n",
       "Ad name                                                                \n",
       "Post: \"Today is #WorldMentalHealthDay 💚\"           0.0           1.0   \n",
       "Post: \"That camp... I still get flashbacks...\"     0.0           2.0   \n",
       "\n",
       "                                                Duration  CTR   CR  \n",
       "Ad name                                                             \n",
       "Post: \"Today is #WorldMentalHealthDay 💚\"               2  0.0  0.0  \n",
       "Post: \"That camp... I still get flashbacks...\"         5  0.0  0.0  "
      ]
     },
     "execution_count": 13,
     "metadata": {},
     "output_type": "execute_result"
    }
   ],
   "source": [
    "data_ad.loc[['''Post: \"Today is #WorldMentalHealthDay 💚\"''', \n",
    "             '''Post: \"That camp... I still get flashbacks...\"'''], \n",
    "            :]"
   ]
  },
  {
   "cell_type": "markdown",
   "metadata": {},
   "source": [
    "#### Exlude those two rows with '!='"
   ]
  },
  {
   "cell_type": "code",
   "execution_count": null,
   "metadata": {},
   "outputs": [],
   "source": [
    "data_ad_scaled = data_ad[(\n",
    "    (data_ad.index != '''Post: \"Today is #WorldMentalHealthDay 💚\"''') & \n",
    "    (data_ad.index != '''Post: \"That camp... I still get flashbacks...\"''')\n",
    "                        )]\n",
    "\n",
    "data_ad_scaled.head(3)"
   ]
  },
  {
   "cell_type": "code",
   "execution_count": null,
   "metadata": {},
   "outputs": [],
   "source": [
    "# Located infinite values in CR: \n",
    "np.all(np.isfinite(data_ad_for_scaling[\"CR\"]))"
   ]
  },
  {
   "cell_type": "code",
   "execution_count": null,
   "metadata": {},
   "outputs": [],
   "source": [
    "bool_series = np.isinf(data_ad_for_scaling[\"CR\"])\n",
    "data_ad_scaled[bool_series]"
   ]
  },
  {
   "cell_type": "markdown",
   "metadata": {},
   "source": [
    "## Add a CTR class"
   ]
  },
  {
   "cell_type": "code",
   "execution_count": 17,
   "metadata": {},
   "outputs": [
    {
     "data": {
      "text/plain": [
       "0.0"
      ]
     },
     "metadata": {},
     "output_type": "display_data"
    },
    {
     "data": {
      "text/plain": [
       "30.0"
      ]
     },
     "metadata": {},
     "output_type": "display_data"
    },
    {
     "data": {
      "text/plain": [
       "1000.0"
      ]
     },
     "metadata": {},
     "output_type": "display_data"
    }
   ],
   "source": [
    "display(data[\"CTR (link click-through rate)\"].min())\n",
    "display(data[\"CTR (link click-through rate)\"].median() * 100)\n",
    "display(data[\"CTR (link click-through rate)\"].max() * 100)"
   ]
  },
  {
   "cell_type": "markdown",
   "metadata": {},
   "source": [
    "### data:"
   ]
  },
  {
   "cell_type": "code",
   "execution_count": 18,
   "metadata": {
    "scrolled": true
   },
   "outputs": [
    {
     "data": {
      "text/html": [
       "<div>\n",
       "<style scoped>\n",
       "    .dataframe tbody tr th:only-of-type {\n",
       "        vertical-align: middle;\n",
       "    }\n",
       "\n",
       "    .dataframe tbody tr th {\n",
       "        vertical-align: top;\n",
       "    }\n",
       "\n",
       "    .dataframe thead th {\n",
       "        text-align: right;\n",
       "    }\n",
       "</style>\n",
       "<table border=\"1\" class=\"dataframe\">\n",
       "  <thead>\n",
       "    <tr style=\"text-align: right;\">\n",
       "      <th></th>\n",
       "      <th>Date</th>\n",
       "      <th>Ad set name</th>\n",
       "      <th>Ad name</th>\n",
       "      <th>Campaign name</th>\n",
       "      <th>Impressions</th>\n",
       "      <th>Cost</th>\n",
       "      <th>Website purchases</th>\n",
       "      <th>Cost per website purchase</th>\n",
       "      <th>CPC (cost per link click)</th>\n",
       "      <th>CTR (link click-through rate)</th>\n",
       "      <th>...</th>\n",
       "      <th>Website leads</th>\n",
       "      <th>Unique link clicks</th>\n",
       "      <th>Unique mobile app adds of payment info</th>\n",
       "      <th>Conversion rate ranking</th>\n",
       "      <th>Post shares</th>\n",
       "      <th>Return on ad spend (ROAS)</th>\n",
       "      <th>Unique completed registrations</th>\n",
       "      <th>Post comments</th>\n",
       "      <th>Impressions_2</th>\n",
       "      <th>CTR_class</th>\n",
       "    </tr>\n",
       "  </thead>\n",
       "  <tbody>\n",
       "    <tr>\n",
       "      <th>4397</th>\n",
       "      <td>2020-08-24</td>\n",
       "      <td>suits-happy-180-ll-1pc_all-placements</td>\n",
       "      <td>vid-zoom-icecream-V2-1:1</td>\n",
       "      <td>pollenary_1-cold_wc-registration_uk-ll-1pc-25-44</td>\n",
       "      <td>5</td>\n",
       "      <td>0.11</td>\n",
       "      <td>NaN</td>\n",
       "      <td>NaN</td>\n",
       "      <td>NaN</td>\n",
       "      <td>0.00</td>\n",
       "      <td>...</td>\n",
       "      <td>NaN</td>\n",
       "      <td>NaN</td>\n",
       "      <td>NaN</td>\n",
       "      <td>0</td>\n",
       "      <td>NaN</td>\n",
       "      <td>0.0</td>\n",
       "      <td>NaN</td>\n",
       "      <td>NaN</td>\n",
       "      <td>5</td>\n",
       "      <td>0</td>\n",
       "    </tr>\n",
       "    <tr>\n",
       "      <th>7385</th>\n",
       "      <td>2020-06-19</td>\n",
       "      <td>customers-ltv-ll-5pc_all-placements</td>\n",
       "      <td>vid-tv-zoom-subtitled-1:1</td>\n",
       "      <td>pollenary_1-cold_wc-registration_uk-ll-1-5pc</td>\n",
       "      <td>5177</td>\n",
       "      <td>28.10</td>\n",
       "      <td>NaN</td>\n",
       "      <td>NaN</td>\n",
       "      <td>3.12</td>\n",
       "      <td>0.17</td>\n",
       "      <td>...</td>\n",
       "      <td>NaN</td>\n",
       "      <td>9.0</td>\n",
       "      <td>NaN</td>\n",
       "      <td>0</td>\n",
       "      <td>NaN</td>\n",
       "      <td>0.0</td>\n",
       "      <td>NaN</td>\n",
       "      <td>NaN</td>\n",
       "      <td>5177</td>\n",
       "      <td>0</td>\n",
       "    </tr>\n",
       "    <tr>\n",
       "      <th>1921</th>\n",
       "      <td>2020-10-26</td>\n",
       "      <td>visitors-90-ll-1pc_all-placements</td>\n",
       "      <td>upsizing_single</td>\n",
       "      <td>pollenary_1-cold_wc-purchase_uk-ll-1pc-25-44</td>\n",
       "      <td>1218</td>\n",
       "      <td>13.99</td>\n",
       "      <td>NaN</td>\n",
       "      <td>NaN</td>\n",
       "      <td>4.66</td>\n",
       "      <td>0.25</td>\n",
       "      <td>...</td>\n",
       "      <td>NaN</td>\n",
       "      <td>3.0</td>\n",
       "      <td>NaN</td>\n",
       "      <td>1</td>\n",
       "      <td>NaN</td>\n",
       "      <td>0.0</td>\n",
       "      <td>NaN</td>\n",
       "      <td>NaN</td>\n",
       "      <td>1218</td>\n",
       "      <td>0</td>\n",
       "    </tr>\n",
       "  </tbody>\n",
       "</table>\n",
       "<p>3 rows × 24 columns</p>\n",
       "</div>"
      ],
      "text/plain": [
       "            Date                            Ad set name  \\\n",
       "4397  2020-08-24  suits-happy-180-ll-1pc_all-placements   \n",
       "7385  2020-06-19    customers-ltv-ll-5pc_all-placements   \n",
       "1921  2020-10-26      visitors-90-ll-1pc_all-placements   \n",
       "\n",
       "                        Ad name  \\\n",
       "4397   vid-zoom-icecream-V2-1:1   \n",
       "7385  vid-tv-zoom-subtitled-1:1   \n",
       "1921            upsizing_single   \n",
       "\n",
       "                                         Campaign name  Impressions   Cost  \\\n",
       "4397  pollenary_1-cold_wc-registration_uk-ll-1pc-25-44            5   0.11   \n",
       "7385      pollenary_1-cold_wc-registration_uk-ll-1-5pc         5177  28.10   \n",
       "1921      pollenary_1-cold_wc-purchase_uk-ll-1pc-25-44         1218  13.99   \n",
       "\n",
       "     Website purchases  Cost per website purchase  CPC (cost per link click)  \\\n",
       "4397               NaN                        NaN                        NaN   \n",
       "7385               NaN                        NaN                       3.12   \n",
       "1921               NaN                        NaN                       4.66   \n",
       "\n",
       "      CTR (link click-through rate)  ...  Website leads  Unique link clicks  \\\n",
       "4397                           0.00  ...            NaN                 NaN   \n",
       "7385                           0.17  ...            NaN                 9.0   \n",
       "1921                           0.25  ...            NaN                 3.0   \n",
       "\n",
       "      Unique mobile app adds of payment info  Conversion rate ranking  \\\n",
       "4397                                     NaN                        0   \n",
       "7385                                     NaN                        0   \n",
       "1921                                     NaN                        1   \n",
       "\n",
       "      Post shares  Return on ad spend (ROAS)  Unique completed registrations  \\\n",
       "4397          NaN                        0.0                             NaN   \n",
       "7385          NaN                        0.0                             NaN   \n",
       "1921          NaN                        0.0                             NaN   \n",
       "\n",
       "      Post comments  Impressions_2  CTR_class  \n",
       "4397            NaN              5          0  \n",
       "7385            NaN           5177          0  \n",
       "1921            NaN           1218          0  \n",
       "\n",
       "[3 rows x 24 columns]"
      ]
     },
     "metadata": {},
     "output_type": "display_data"
    },
    {
     "data": {
      "text/plain": [
       "0    4440\n",
       "1    4334\n",
       "Name: CTR_class, dtype: int64"
      ]
     },
     "metadata": {},
     "output_type": "display_data"
    }
   ],
   "source": [
    "data[\"CTR_class\"] = pd.cut(data[\"CTR (link click-through rate)\"], \n",
    "                           bins = [data[\"CTR (link click-through rate)\"].min() - 1, \n",
    "                                   data[\"CTR (link click-through rate)\"].median(), \n",
    "                                   data[\"CTR (link click-through rate)\"].max() + 1],\n",
    "                           labels = [\"0\", \"1\"])\n",
    "\n",
    "display(data.sample(3))\n",
    "display(data[\"CTR_class\"].value_counts())"
   ]
  },
  {
   "cell_type": "markdown",
   "metadata": {},
   "source": [
    "### data_ad: "
   ]
  },
  {
   "cell_type": "code",
   "execution_count": 19,
   "metadata": {},
   "outputs": [
    {
     "data": {
      "text/html": [
       "<div>\n",
       "<style scoped>\n",
       "    .dataframe tbody tr th:only-of-type {\n",
       "        vertical-align: middle;\n",
       "    }\n",
       "\n",
       "    .dataframe tbody tr th {\n",
       "        vertical-align: top;\n",
       "    }\n",
       "\n",
       "    .dataframe thead th {\n",
       "        text-align: right;\n",
       "    }\n",
       "</style>\n",
       "<table border=\"1\" class=\"dataframe\">\n",
       "  <thead>\n",
       "    <tr style=\"text-align: right;\">\n",
       "      <th></th>\n",
       "      <th>Impressions</th>\n",
       "      <th>Unique link clicks</th>\n",
       "      <th>Post shares</th>\n",
       "      <th>Cost</th>\n",
       "      <th>Cost per website purchase</th>\n",
       "      <th>Signup</th>\n",
       "      <th>Registration</th>\n",
       "      <th>Duration</th>\n",
       "      <th>CTR</th>\n",
       "      <th>CR</th>\n",
       "      <th>CTR_class</th>\n",
       "    </tr>\n",
       "    <tr>\n",
       "      <th>Ad name</th>\n",
       "      <th></th>\n",
       "      <th></th>\n",
       "      <th></th>\n",
       "      <th></th>\n",
       "      <th></th>\n",
       "      <th></th>\n",
       "      <th></th>\n",
       "      <th></th>\n",
       "      <th></th>\n",
       "      <th></th>\n",
       "      <th></th>\n",
       "    </tr>\n",
       "  </thead>\n",
       "  <tbody>\n",
       "    <tr>\n",
       "      <th>upsizing-cheeseburger_single_pid</th>\n",
       "      <td>2312559</td>\n",
       "      <td>5408.0</td>\n",
       "      <td>31.0</td>\n",
       "      <td>15594.47</td>\n",
       "      <td>7998.86</td>\n",
       "      <td>0.0</td>\n",
       "      <td>507.0</td>\n",
       "      <td>81</td>\n",
       "      <td>0.002339</td>\n",
       "      <td>0.093750</td>\n",
       "      <td>0</td>\n",
       "    </tr>\n",
       "    <tr>\n",
       "      <th>uk_prospecting_int-wellbeing-subscription_mfdfig_all_25-54_vid-zoom-icecream-1:1_square-video_life insurance that takes some licking_all_optroas_lp-asseenontelly_ocpm</th>\n",
       "      <td>177</td>\n",
       "      <td>0.0</td>\n",
       "      <td>0.0</td>\n",
       "      <td>1.10</td>\n",
       "      <td>0.00</td>\n",
       "      <td>0.0</td>\n",
       "      <td>0.0</td>\n",
       "      <td>2</td>\n",
       "      <td>0.000000</td>\n",
       "      <td>NaN</td>\n",
       "      <td>0</td>\n",
       "    </tr>\n",
       "    <tr>\n",
       "      <th>uk_prospecting_int-online entertainment_mfdfig_all_25-54_vid-workout-subtitled-1:1_video_no ridiculous free gifts_all_optregistration_lp-3minutes_ocpm</th>\n",
       "      <td>372927</td>\n",
       "      <td>1036.0</td>\n",
       "      <td>79.0</td>\n",
       "      <td>1554.16</td>\n",
       "      <td>352.59</td>\n",
       "      <td>0.0</td>\n",
       "      <td>22.0</td>\n",
       "      <td>16</td>\n",
       "      <td>0.002778</td>\n",
       "      <td>0.021236</td>\n",
       "      <td>1</td>\n",
       "    </tr>\n",
       "  </tbody>\n",
       "</table>\n",
       "</div>"
      ],
      "text/plain": [
       "                                                    Impressions  \\\n",
       "Ad name                                                           \n",
       "upsizing-cheeseburger_single_pid                        2312559   \n",
       "uk_prospecting_int-wellbeing-subscription_mfdfi...          177   \n",
       "uk_prospecting_int-online entertainment_mfdfig_...       372927   \n",
       "\n",
       "                                                    Unique link clicks  \\\n",
       "Ad name                                                                  \n",
       "upsizing-cheeseburger_single_pid                                5408.0   \n",
       "uk_prospecting_int-wellbeing-subscription_mfdfi...                 0.0   \n",
       "uk_prospecting_int-online entertainment_mfdfig_...              1036.0   \n",
       "\n",
       "                                                    Post shares      Cost  \\\n",
       "Ad name                                                                     \n",
       "upsizing-cheeseburger_single_pid                           31.0  15594.47   \n",
       "uk_prospecting_int-wellbeing-subscription_mfdfi...          0.0      1.10   \n",
       "uk_prospecting_int-online entertainment_mfdfig_...         79.0   1554.16   \n",
       "\n",
       "                                                    Cost per website purchase  \\\n",
       "Ad name                                                                         \n",
       "upsizing-cheeseburger_single_pid                                      7998.86   \n",
       "uk_prospecting_int-wellbeing-subscription_mfdfi...                       0.00   \n",
       "uk_prospecting_int-online entertainment_mfdfig_...                     352.59   \n",
       "\n",
       "                                                    Signup  Registration  \\\n",
       "Ad name                                                                    \n",
       "upsizing-cheeseburger_single_pid                       0.0         507.0   \n",
       "uk_prospecting_int-wellbeing-subscription_mfdfi...     0.0           0.0   \n",
       "uk_prospecting_int-online entertainment_mfdfig_...     0.0          22.0   \n",
       "\n",
       "                                                    Duration       CTR  \\\n",
       "Ad name                                                                  \n",
       "upsizing-cheeseburger_single_pid                          81  0.002339   \n",
       "uk_prospecting_int-wellbeing-subscription_mfdfi...         2  0.000000   \n",
       "uk_prospecting_int-online entertainment_mfdfig_...        16  0.002778   \n",
       "\n",
       "                                                          CR CTR_class  \n",
       "Ad name                                                                 \n",
       "upsizing-cheeseburger_single_pid                    0.093750         0  \n",
       "uk_prospecting_int-wellbeing-subscription_mfdfi...       NaN         0  \n",
       "uk_prospecting_int-online entertainment_mfdfig_...  0.021236         1  "
      ]
     },
     "metadata": {},
     "output_type": "display_data"
    },
    {
     "data": {
      "text/plain": [
       "0    153\n",
       "1    152\n",
       "Name: CTR_class, dtype: int64"
      ]
     },
     "metadata": {},
     "output_type": "display_data"
    }
   ],
   "source": [
    "# Add a CTR class to data_ad\n",
    "data_ad[\"CTR_class\"] = pd.cut(data_ad.CTR, \n",
    "                              bins = [data_ad.CTR.min() - 1, \n",
    "                                      data_ad.CTR.median(), \n",
    "                                      data_ad.CTR.max() + 1], \n",
    "                              labels = [\"0\", \"1\"])\n",
    "\n",
    "display(data_ad.sample(3))\n",
    "display(data_ad.CTR_class.value_counts())"
   ]
  },
  {
   "cell_type": "markdown",
   "metadata": {},
   "source": [
    "# Machine Learning "
   ]
  },
  {
   "cell_type": "markdown",
   "metadata": {},
   "source": [
    "## KNeighborsClassifier"
   ]
  },
  {
   "cell_type": "markdown",
   "metadata": {
    "heading_collapsed": true
   },
   "source": [
    "### data:"
   ]
  },
  {
   "cell_type": "code",
   "execution_count": 20,
   "metadata": {
    "hidden": true,
    "scrolled": false
   },
   "outputs": [
    {
     "data": {
      "text/html": [
       "<div>\n",
       "<style scoped>\n",
       "    .dataframe tbody tr th:only-of-type {\n",
       "        vertical-align: middle;\n",
       "    }\n",
       "\n",
       "    .dataframe tbody tr th {\n",
       "        vertical-align: top;\n",
       "    }\n",
       "\n",
       "    .dataframe thead th {\n",
       "        text-align: right;\n",
       "    }\n",
       "</style>\n",
       "<table border=\"1\" class=\"dataframe\">\n",
       "  <thead>\n",
       "    <tr style=\"text-align: right;\">\n",
       "      <th></th>\n",
       "      <th>Date</th>\n",
       "      <th>Ad set name</th>\n",
       "      <th>Ad name</th>\n",
       "      <th>Campaign name</th>\n",
       "      <th>Impressions</th>\n",
       "      <th>Cost</th>\n",
       "      <th>Website purchases</th>\n",
       "      <th>Cost per website purchase</th>\n",
       "      <th>CPC (cost per link click)</th>\n",
       "      <th>CTR (link click-through rate)</th>\n",
       "      <th>...</th>\n",
       "      <th>Website leads</th>\n",
       "      <th>Unique link clicks</th>\n",
       "      <th>Unique mobile app adds of payment info</th>\n",
       "      <th>Conversion rate ranking</th>\n",
       "      <th>Post shares</th>\n",
       "      <th>Return on ad spend (ROAS)</th>\n",
       "      <th>Unique completed registrations</th>\n",
       "      <th>Post comments</th>\n",
       "      <th>Impressions_2</th>\n",
       "      <th>CTR_class</th>\n",
       "    </tr>\n",
       "  </thead>\n",
       "  <tbody>\n",
       "    <tr>\n",
       "      <th>7335</th>\n",
       "      <td>2020-06-20</td>\n",
       "      <td>customers-ll-1pc_all-placements</td>\n",
       "      <td>vid-zoom-icecream-V2-1:1</td>\n",
       "      <td>pollenary_1-cold_wc-registration_uk-ll-1pc-25-44</td>\n",
       "      <td>32827</td>\n",
       "      <td>318.67</td>\n",
       "      <td>1899-12-31</td>\n",
       "      <td>318.67</td>\n",
       "      <td>4.49</td>\n",
       "      <td>0.22</td>\n",
       "      <td>...</td>\n",
       "      <td>NaN</td>\n",
       "      <td>71.0</td>\n",
       "      <td>NaN</td>\n",
       "      <td>0</td>\n",
       "      <td>1.0</td>\n",
       "      <td>6.43</td>\n",
       "      <td>NaN</td>\n",
       "      <td>1.0</td>\n",
       "      <td>32827</td>\n",
       "      <td>0</td>\n",
       "    </tr>\n",
       "    <tr>\n",
       "      <th>3835</th>\n",
       "      <td>2020-09-01</td>\n",
       "      <td>customers-ll-1pc_all-placements</td>\n",
       "      <td>upsizing-4:5_video</td>\n",
       "      <td>pollenary_1-cold_wc-purchase-cc300_uk-mixed-25-44</td>\n",
       "      <td>16429</td>\n",
       "      <td>122.40</td>\n",
       "      <td>1899-12-31</td>\n",
       "      <td>122.40</td>\n",
       "      <td>2.31</td>\n",
       "      <td>0.32</td>\n",
       "      <td>...</td>\n",
       "      <td>NaN</td>\n",
       "      <td>52.0</td>\n",
       "      <td>NaN</td>\n",
       "      <td>0</td>\n",
       "      <td>1.0</td>\n",
       "      <td>20.62</td>\n",
       "      <td>NaN</td>\n",
       "      <td>1.0</td>\n",
       "      <td>16429</td>\n",
       "      <td>1</td>\n",
       "    </tr>\n",
       "    <tr>\n",
       "      <th>654</th>\n",
       "      <td>2020-11-12</td>\n",
       "      <td>life-insurance-25-44_all-placements</td>\n",
       "      <td>near-death_static</td>\n",
       "      <td>pollenary_1-cold_wc-registration_uk-interests</td>\n",
       "      <td>150270</td>\n",
       "      <td>1149.07</td>\n",
       "      <td>1900-01-02</td>\n",
       "      <td>383.02</td>\n",
       "      <td>3.10</td>\n",
       "      <td>0.25</td>\n",
       "      <td>...</td>\n",
       "      <td>NaN</td>\n",
       "      <td>367.0</td>\n",
       "      <td>NaN</td>\n",
       "      <td>4</td>\n",
       "      <td>NaN</td>\n",
       "      <td>3.35</td>\n",
       "      <td>NaN</td>\n",
       "      <td>1.0</td>\n",
       "      <td>150270</td>\n",
       "      <td>0</td>\n",
       "    </tr>\n",
       "  </tbody>\n",
       "</table>\n",
       "<p>3 rows × 24 columns</p>\n",
       "</div>"
      ],
      "text/plain": [
       "            Date                          Ad set name  \\\n",
       "7335  2020-06-20      customers-ll-1pc_all-placements   \n",
       "3835  2020-09-01      customers-ll-1pc_all-placements   \n",
       "654   2020-11-12  life-insurance-25-44_all-placements   \n",
       "\n",
       "                       Ad name  \\\n",
       "7335  vid-zoom-icecream-V2-1:1   \n",
       "3835        upsizing-4:5_video   \n",
       "654          near-death_static   \n",
       "\n",
       "                                          Campaign name  Impressions     Cost  \\\n",
       "7335   pollenary_1-cold_wc-registration_uk-ll-1pc-25-44        32827   318.67   \n",
       "3835  pollenary_1-cold_wc-purchase-cc300_uk-mixed-25-44        16429   122.40   \n",
       "654       pollenary_1-cold_wc-registration_uk-interests       150270  1149.07   \n",
       "\n",
       "     Website purchases  Cost per website purchase  CPC (cost per link click)  \\\n",
       "7335        1899-12-31                     318.67                       4.49   \n",
       "3835        1899-12-31                     122.40                       2.31   \n",
       "654         1900-01-02                     383.02                       3.10   \n",
       "\n",
       "      CTR (link click-through rate)  ...  Website leads  Unique link clicks  \\\n",
       "7335                           0.22  ...            NaN                71.0   \n",
       "3835                           0.32  ...            NaN                52.0   \n",
       "654                            0.25  ...            NaN               367.0   \n",
       "\n",
       "      Unique mobile app adds of payment info  Conversion rate ranking  \\\n",
       "7335                                     NaN                        0   \n",
       "3835                                     NaN                        0   \n",
       "654                                      NaN                        4   \n",
       "\n",
       "      Post shares  Return on ad spend (ROAS)  Unique completed registrations  \\\n",
       "7335          1.0                       6.43                             NaN   \n",
       "3835          1.0                      20.62                             NaN   \n",
       "654           NaN                       3.35                             NaN   \n",
       "\n",
       "      Post comments  Impressions_2  CTR_class  \n",
       "7335            1.0          32827          0  \n",
       "3835            1.0          16429          1  \n",
       "654             1.0         150270          0  \n",
       "\n",
       "[3 rows x 24 columns]"
      ]
     },
     "metadata": {},
     "output_type": "display_data"
    },
    {
     "data": {
      "text/plain": [
       "Date                                        object\n",
       "Ad set name                                 object\n",
       "Ad name                                     object\n",
       "Campaign name                               object\n",
       "Impressions                                  int64\n",
       "Cost                                       float64\n",
       "Website purchases                           object\n",
       "Cost per website purchase                  float64\n",
       "CPC (cost per link click)                  float64\n",
       "CTR (link click-through rate)              float64\n",
       "Signup                                     float64\n",
       "Registration                               float64\n",
       "Unique purchases                           float64\n",
       "Unique adds to cart                        float64\n",
       "Website leads                              float64\n",
       "Unique link clicks                         float64\n",
       "Unique mobile app adds of payment info     float64\n",
       "Conversion rate ranking                      int64\n",
       "Post shares                                float64\n",
       "Return on ad spend (ROAS)                  float64\n",
       "Unique completed registrations             float64\n",
       "Post comments                              float64\n",
       "Impressions_2                                int64\n",
       "CTR_class                                 category\n",
       "dtype: object"
      ]
     },
     "metadata": {},
     "output_type": "display_data"
    }
   ],
   "source": [
    "display(data.sample(3))\n",
    "display(data.dtypes)"
   ]
  },
  {
   "cell_type": "code",
   "execution_count": 36,
   "metadata": {
    "hidden": true
   },
   "outputs": [
    {
     "data": {
      "text/html": [
       "<div>\n",
       "<style scoped>\n",
       "    .dataframe tbody tr th:only-of-type {\n",
       "        vertical-align: middle;\n",
       "    }\n",
       "\n",
       "    .dataframe tbody tr th {\n",
       "        vertical-align: top;\n",
       "    }\n",
       "\n",
       "    .dataframe thead th {\n",
       "        text-align: right;\n",
       "    }\n",
       "</style>\n",
       "<table border=\"1\" class=\"dataframe\">\n",
       "  <thead>\n",
       "    <tr style=\"text-align: right;\">\n",
       "      <th></th>\n",
       "      <th>Post shares</th>\n",
       "      <th>Cost</th>\n",
       "      <th>Signup</th>\n",
       "      <th>Registration</th>\n",
       "      <th>Cost per website purchase</th>\n",
       "      <th>CPC (cost per link click)</th>\n",
       "      <th>Signup</th>\n",
       "      <th>Registration</th>\n",
       "      <th>Post shares</th>\n",
       "      <th>Post comments</th>\n",
       "    </tr>\n",
       "  </thead>\n",
       "  <tbody>\n",
       "    <tr>\n",
       "      <th>0</th>\n",
       "      <td>NaN</td>\n",
       "      <td>1.98</td>\n",
       "      <td>NaN</td>\n",
       "      <td>NaN</td>\n",
       "      <td>NaN</td>\n",
       "      <td>0.18</td>\n",
       "      <td>NaN</td>\n",
       "      <td>NaN</td>\n",
       "      <td>NaN</td>\n",
       "      <td>NaN</td>\n",
       "    </tr>\n",
       "    <tr>\n",
       "      <th>1</th>\n",
       "      <td>1.0</td>\n",
       "      <td>2.10</td>\n",
       "      <td>NaN</td>\n",
       "      <td>NaN</td>\n",
       "      <td>NaN</td>\n",
       "      <td>1.05</td>\n",
       "      <td>NaN</td>\n",
       "      <td>NaN</td>\n",
       "      <td>1.0</td>\n",
       "      <td>1.0</td>\n",
       "    </tr>\n",
       "    <tr>\n",
       "      <th>2</th>\n",
       "      <td>1.0</td>\n",
       "      <td>117.19</td>\n",
       "      <td>NaN</td>\n",
       "      <td>1.0</td>\n",
       "      <td>NaN</td>\n",
       "      <td>1.63</td>\n",
       "      <td>NaN</td>\n",
       "      <td>1.0</td>\n",
       "      <td>1.0</td>\n",
       "      <td>2.0</td>\n",
       "    </tr>\n",
       "  </tbody>\n",
       "</table>\n",
       "</div>"
      ],
      "text/plain": [
       "   Post shares    Cost  Signup  Registration  Cost per website purchase  \\\n",
       "0          NaN    1.98     NaN           NaN                        NaN   \n",
       "1          1.0    2.10     NaN           NaN                        NaN   \n",
       "2          1.0  117.19     NaN           1.0                        NaN   \n",
       "\n",
       "   CPC (cost per link click)  Signup  Registration  Post shares  Post comments  \n",
       "0                       0.18     NaN           NaN          NaN            NaN  \n",
       "1                       1.05     NaN           NaN          1.0            1.0  \n",
       "2                       1.63     NaN           1.0          1.0            2.0  "
      ]
     },
     "execution_count": 36,
     "metadata": {},
     "output_type": "execute_result"
    }
   ],
   "source": [
    "from sklearn.model_selection import train_test_split\n",
    "\n",
    "X = data[[\"Post shares\", \"Cost\", \"Signup\", \"Registration\", \"Cost per website purchase\", \n",
    "          \"CPC (cost per link click)\", \"Signup\", \"Registration\", \"Post shares\", \n",
    "          \"Post comments\"]]\n",
    "y = data[\"CTR_class\"]\n",
    "\n",
    "\n",
    "X_train, X_test, y_train, y_test = train_test_split(X, y, test_size = 0.3, \n",
    "                                                    random_state = 3)\n",
    "X.head(3)"
   ]
  },
  {
   "cell_type": "code",
   "execution_count": 40,
   "metadata": {
    "hidden": true
   },
   "outputs": [
    {
     "data": {
      "text/html": [
       "<div>\n",
       "<style scoped>\n",
       "    .dataframe tbody tr th:only-of-type {\n",
       "        vertical-align: middle;\n",
       "    }\n",
       "\n",
       "    .dataframe tbody tr th {\n",
       "        vertical-align: top;\n",
       "    }\n",
       "\n",
       "    .dataframe thead th {\n",
       "        text-align: right;\n",
       "    }\n",
       "</style>\n",
       "<table border=\"1\" class=\"dataframe\">\n",
       "  <thead>\n",
       "    <tr style=\"text-align: right;\">\n",
       "      <th></th>\n",
       "      <th>Post shares</th>\n",
       "      <th>Cost</th>\n",
       "      <th>Signup</th>\n",
       "      <th>Registration</th>\n",
       "      <th>Cost per website purchase</th>\n",
       "      <th>CPC (cost per link click)</th>\n",
       "      <th>Signup</th>\n",
       "      <th>Registration</th>\n",
       "      <th>Post shares</th>\n",
       "      <th>Post comments</th>\n",
       "    </tr>\n",
       "  </thead>\n",
       "  <tbody>\n",
       "    <tr>\n",
       "      <th>count</th>\n",
       "      <td>1606.00</td>\n",
       "      <td>8774.00</td>\n",
       "      <td>225.00</td>\n",
       "      <td>3332.00</td>\n",
       "      <td>1300.00</td>\n",
       "      <td>7529.00</td>\n",
       "      <td>225.00</td>\n",
       "      <td>3332.00</td>\n",
       "      <td>1606.00</td>\n",
       "      <td>2142.00</td>\n",
       "    </tr>\n",
       "    <tr>\n",
       "      <th>mean</th>\n",
       "      <td>5.62</td>\n",
       "      <td>60.35</td>\n",
       "      <td>1.19</td>\n",
       "      <td>3.92</td>\n",
       "      <td>122.89</td>\n",
       "      <td>3.00</td>\n",
       "      <td>1.19</td>\n",
       "      <td>3.92</td>\n",
       "      <td>5.62</td>\n",
       "      <td>2.51</td>\n",
       "    </tr>\n",
       "    <tr>\n",
       "      <th>std</th>\n",
       "      <td>13.56</td>\n",
       "      <td>134.12</td>\n",
       "      <td>0.47</td>\n",
       "      <td>5.64</td>\n",
       "      <td>136.11</td>\n",
       "      <td>2.65</td>\n",
       "      <td>0.47</td>\n",
       "      <td>5.64</td>\n",
       "      <td>13.56</td>\n",
       "      <td>4.56</td>\n",
       "    </tr>\n",
       "    <tr>\n",
       "      <th>min</th>\n",
       "      <td>1.00</td>\n",
       "      <td>0.00</td>\n",
       "      <td>1.00</td>\n",
       "      <td>1.00</td>\n",
       "      <td>1.53</td>\n",
       "      <td>0.05</td>\n",
       "      <td>1.00</td>\n",
       "      <td>1.00</td>\n",
       "      <td>1.00</td>\n",
       "      <td>1.00</td>\n",
       "    </tr>\n",
       "    <tr>\n",
       "      <th>25%</th>\n",
       "      <td>1.00</td>\n",
       "      <td>5.31</td>\n",
       "      <td>1.00</td>\n",
       "      <td>1.00</td>\n",
       "      <td>29.20</td>\n",
       "      <td>1.43</td>\n",
       "      <td>1.00</td>\n",
       "      <td>1.00</td>\n",
       "      <td>1.00</td>\n",
       "      <td>1.00</td>\n",
       "    </tr>\n",
       "    <tr>\n",
       "      <th>50%</th>\n",
       "      <td>1.00</td>\n",
       "      <td>16.39</td>\n",
       "      <td>1.00</td>\n",
       "      <td>2.00</td>\n",
       "      <td>81.03</td>\n",
       "      <td>2.42</td>\n",
       "      <td>1.00</td>\n",
       "      <td>2.00</td>\n",
       "      <td>1.00</td>\n",
       "      <td>1.00</td>\n",
       "    </tr>\n",
       "    <tr>\n",
       "      <th>75%</th>\n",
       "      <td>4.00</td>\n",
       "      <td>54.14</td>\n",
       "      <td>1.00</td>\n",
       "      <td>4.00</td>\n",
       "      <td>177.72</td>\n",
       "      <td>3.67</td>\n",
       "      <td>1.00</td>\n",
       "      <td>4.00</td>\n",
       "      <td>4.00</td>\n",
       "      <td>2.00</td>\n",
       "    </tr>\n",
       "    <tr>\n",
       "      <th>max</th>\n",
       "      <td>224.00</td>\n",
       "      <td>2050.72</td>\n",
       "      <td>4.00</td>\n",
       "      <td>62.00</td>\n",
       "      <td>1049.35</td>\n",
       "      <td>37.42</td>\n",
       "      <td>4.00</td>\n",
       "      <td>62.00</td>\n",
       "      <td>224.00</td>\n",
       "      <td>84.00</td>\n",
       "    </tr>\n",
       "  </tbody>\n",
       "</table>\n",
       "</div>"
      ],
      "text/plain": [
       "       Post shares     Cost  Signup  Registration  Cost per website purchase  \\\n",
       "count      1606.00  8774.00  225.00       3332.00                    1300.00   \n",
       "mean          5.62    60.35    1.19          3.92                     122.89   \n",
       "std          13.56   134.12    0.47          5.64                     136.11   \n",
       "min           1.00     0.00    1.00          1.00                       1.53   \n",
       "25%           1.00     5.31    1.00          1.00                      29.20   \n",
       "50%           1.00    16.39    1.00          2.00                      81.03   \n",
       "75%           4.00    54.14    1.00          4.00                     177.72   \n",
       "max         224.00  2050.72    4.00         62.00                    1049.35   \n",
       "\n",
       "       CPC (cost per link click)  Signup  Registration  Post shares  \\\n",
       "count                    7529.00  225.00       3332.00      1606.00   \n",
       "mean                        3.00    1.19          3.92         5.62   \n",
       "std                         2.65    0.47          5.64        13.56   \n",
       "min                         0.05    1.00          1.00         1.00   \n",
       "25%                         1.43    1.00          1.00         1.00   \n",
       "50%                         2.42    1.00          2.00         1.00   \n",
       "75%                         3.67    1.00          4.00         4.00   \n",
       "max                        37.42    4.00         62.00       224.00   \n",
       "\n",
       "       Post comments  \n",
       "count        2142.00  \n",
       "mean            2.51  \n",
       "std             4.56  \n",
       "min             1.00  \n",
       "25%             1.00  \n",
       "50%             1.00  \n",
       "75%             2.00  \n",
       "max            84.00  "
      ]
     },
     "execution_count": 40,
     "metadata": {},
     "output_type": "execute_result"
    }
   ],
   "source": [
    "X.describe().round(2)"
   ]
  },
  {
   "cell_type": "code",
   "execution_count": 37,
   "metadata": {
    "hidden": true,
    "scrolled": false
   },
   "outputs": [
    {
     "ename": "ValueError",
     "evalue": "Input contains NaN, infinity or a value too large for dtype('float64').",
     "output_type": "error",
     "traceback": [
      "\u001b[0;31m---------------------------------------------------------------------------\u001b[0m",
      "\u001b[0;31mValueError\u001b[0m                                Traceback (most recent call last)",
      "\u001b[0;32m<ipython-input-37-96fe1402a777>\u001b[0m in \u001b[0;36m<module>\u001b[0;34m\u001b[0m\n\u001b[1;32m      3\u001b[0m \u001b[0mneigh\u001b[0m \u001b[0;34m=\u001b[0m \u001b[0mKNeighborsClassifier\u001b[0m\u001b[0;34m(\u001b[0m\u001b[0mn_neighbors\u001b[0m \u001b[0;34m=\u001b[0m \u001b[0;36m5\u001b[0m\u001b[0;34m)\u001b[0m\u001b[0;34m\u001b[0m\u001b[0;34m\u001b[0m\u001b[0m\n\u001b[1;32m      4\u001b[0m \u001b[0;34m\u001b[0m\u001b[0m\n\u001b[0;32m----> 5\u001b[0;31m \u001b[0mneigh\u001b[0m\u001b[0;34m.\u001b[0m\u001b[0mfit\u001b[0m\u001b[0;34m(\u001b[0m\u001b[0mX_train\u001b[0m\u001b[0;34m,\u001b[0m \u001b[0my_train\u001b[0m\u001b[0;34m)\u001b[0m\u001b[0;34m\u001b[0m\u001b[0;34m\u001b[0m\u001b[0m\n\u001b[0m\u001b[1;32m      6\u001b[0m \u001b[0;34m\u001b[0m\u001b[0m\n\u001b[1;32m      7\u001b[0m \u001b[0mneigh\u001b[0m\u001b[0;34m.\u001b[0m\u001b[0mscore\u001b[0m\u001b[0;34m(\u001b[0m\u001b[0mX_test\u001b[0m\u001b[0;34m,\u001b[0m \u001b[0my_test\u001b[0m\u001b[0;34m)\u001b[0m\u001b[0;34m\u001b[0m\u001b[0;34m\u001b[0m\u001b[0m\n",
      "\u001b[0;32m~/.pyenv/versions/3.7.7/envs/lewagon/lib/python3.7/site-packages/sklearn/neighbors/_classification.py\u001b[0m in \u001b[0;36mfit\u001b[0;34m(self, X, y)\u001b[0m\n\u001b[1;32m    177\u001b[0m             \u001b[0mThe\u001b[0m \u001b[0mfitted\u001b[0m \u001b[0mk\u001b[0m\u001b[0;34m-\u001b[0m\u001b[0mnearest\u001b[0m \u001b[0mneighbors\u001b[0m \u001b[0mclassifier\u001b[0m\u001b[0;34m.\u001b[0m\u001b[0;34m\u001b[0m\u001b[0;34m\u001b[0m\u001b[0m\n\u001b[1;32m    178\u001b[0m         \"\"\"\n\u001b[0;32m--> 179\u001b[0;31m         \u001b[0;32mreturn\u001b[0m \u001b[0mself\u001b[0m\u001b[0;34m.\u001b[0m\u001b[0m_fit\u001b[0m\u001b[0;34m(\u001b[0m\u001b[0mX\u001b[0m\u001b[0;34m,\u001b[0m \u001b[0my\u001b[0m\u001b[0;34m)\u001b[0m\u001b[0;34m\u001b[0m\u001b[0;34m\u001b[0m\u001b[0m\n\u001b[0m\u001b[1;32m    180\u001b[0m \u001b[0;34m\u001b[0m\u001b[0m\n\u001b[1;32m    181\u001b[0m     \u001b[0;32mdef\u001b[0m \u001b[0mpredict\u001b[0m\u001b[0;34m(\u001b[0m\u001b[0mself\u001b[0m\u001b[0;34m,\u001b[0m \u001b[0mX\u001b[0m\u001b[0;34m)\u001b[0m\u001b[0;34m:\u001b[0m\u001b[0;34m\u001b[0m\u001b[0;34m\u001b[0m\u001b[0m\n",
      "\u001b[0;32m~/.pyenv/versions/3.7.7/envs/lewagon/lib/python3.7/site-packages/sklearn/neighbors/_base.py\u001b[0m in \u001b[0;36m_fit\u001b[0;34m(self, X, y)\u001b[0m\n\u001b[1;32m    362\u001b[0m             \u001b[0;32mif\u001b[0m \u001b[0;32mnot\u001b[0m \u001b[0misinstance\u001b[0m\u001b[0;34m(\u001b[0m\u001b[0mX\u001b[0m\u001b[0;34m,\u001b[0m \u001b[0;34m(\u001b[0m\u001b[0mKDTree\u001b[0m\u001b[0;34m,\u001b[0m \u001b[0mBallTree\u001b[0m\u001b[0;34m,\u001b[0m \u001b[0mNeighborsBase\u001b[0m\u001b[0;34m)\u001b[0m\u001b[0;34m)\u001b[0m\u001b[0;34m:\u001b[0m\u001b[0;34m\u001b[0m\u001b[0;34m\u001b[0m\u001b[0m\n\u001b[1;32m    363\u001b[0m                 X, y = self._validate_data(X, y, accept_sparse=\"csr\",\n\u001b[0;32m--> 364\u001b[0;31m                                            multi_output=True)\n\u001b[0m\u001b[1;32m    365\u001b[0m \u001b[0;34m\u001b[0m\u001b[0m\n\u001b[1;32m    366\u001b[0m             \u001b[0;32mif\u001b[0m \u001b[0mis_classifier\u001b[0m\u001b[0;34m(\u001b[0m\u001b[0mself\u001b[0m\u001b[0;34m)\u001b[0m\u001b[0;34m:\u001b[0m\u001b[0;34m\u001b[0m\u001b[0;34m\u001b[0m\u001b[0m\n",
      "\u001b[0;32m~/.pyenv/versions/3.7.7/envs/lewagon/lib/python3.7/site-packages/sklearn/base.py\u001b[0m in \u001b[0;36m_validate_data\u001b[0;34m(self, X, y, reset, validate_separately, **check_params)\u001b[0m\n\u001b[1;32m    431\u001b[0m                 \u001b[0my\u001b[0m \u001b[0;34m=\u001b[0m \u001b[0mcheck_array\u001b[0m\u001b[0;34m(\u001b[0m\u001b[0my\u001b[0m\u001b[0;34m,\u001b[0m \u001b[0;34m**\u001b[0m\u001b[0mcheck_y_params\u001b[0m\u001b[0;34m)\u001b[0m\u001b[0;34m\u001b[0m\u001b[0;34m\u001b[0m\u001b[0m\n\u001b[1;32m    432\u001b[0m             \u001b[0;32melse\u001b[0m\u001b[0;34m:\u001b[0m\u001b[0;34m\u001b[0m\u001b[0;34m\u001b[0m\u001b[0m\n\u001b[0;32m--> 433\u001b[0;31m                 \u001b[0mX\u001b[0m\u001b[0;34m,\u001b[0m \u001b[0my\u001b[0m \u001b[0;34m=\u001b[0m \u001b[0mcheck_X_y\u001b[0m\u001b[0;34m(\u001b[0m\u001b[0mX\u001b[0m\u001b[0;34m,\u001b[0m \u001b[0my\u001b[0m\u001b[0;34m,\u001b[0m \u001b[0;34m**\u001b[0m\u001b[0mcheck_params\u001b[0m\u001b[0;34m)\u001b[0m\u001b[0;34m\u001b[0m\u001b[0;34m\u001b[0m\u001b[0m\n\u001b[0m\u001b[1;32m    434\u001b[0m             \u001b[0mout\u001b[0m \u001b[0;34m=\u001b[0m \u001b[0mX\u001b[0m\u001b[0;34m,\u001b[0m \u001b[0my\u001b[0m\u001b[0;34m\u001b[0m\u001b[0;34m\u001b[0m\u001b[0m\n\u001b[1;32m    435\u001b[0m \u001b[0;34m\u001b[0m\u001b[0m\n",
      "\u001b[0;32m~/.pyenv/versions/3.7.7/envs/lewagon/lib/python3.7/site-packages/sklearn/utils/validation.py\u001b[0m in \u001b[0;36minner_f\u001b[0;34m(*args, **kwargs)\u001b[0m\n\u001b[1;32m     61\u001b[0m             \u001b[0mextra_args\u001b[0m \u001b[0;34m=\u001b[0m \u001b[0mlen\u001b[0m\u001b[0;34m(\u001b[0m\u001b[0margs\u001b[0m\u001b[0;34m)\u001b[0m \u001b[0;34m-\u001b[0m \u001b[0mlen\u001b[0m\u001b[0;34m(\u001b[0m\u001b[0mall_args\u001b[0m\u001b[0;34m)\u001b[0m\u001b[0;34m\u001b[0m\u001b[0;34m\u001b[0m\u001b[0m\n\u001b[1;32m     62\u001b[0m             \u001b[0;32mif\u001b[0m \u001b[0mextra_args\u001b[0m \u001b[0;34m<=\u001b[0m \u001b[0;36m0\u001b[0m\u001b[0;34m:\u001b[0m\u001b[0;34m\u001b[0m\u001b[0;34m\u001b[0m\u001b[0m\n\u001b[0;32m---> 63\u001b[0;31m                 \u001b[0;32mreturn\u001b[0m \u001b[0mf\u001b[0m\u001b[0;34m(\u001b[0m\u001b[0;34m*\u001b[0m\u001b[0margs\u001b[0m\u001b[0;34m,\u001b[0m \u001b[0;34m**\u001b[0m\u001b[0mkwargs\u001b[0m\u001b[0;34m)\u001b[0m\u001b[0;34m\u001b[0m\u001b[0;34m\u001b[0m\u001b[0m\n\u001b[0m\u001b[1;32m     64\u001b[0m \u001b[0;34m\u001b[0m\u001b[0m\n\u001b[1;32m     65\u001b[0m             \u001b[0;31m# extra_args > 0\u001b[0m\u001b[0;34m\u001b[0m\u001b[0;34m\u001b[0m\u001b[0;34m\u001b[0m\u001b[0m\n",
      "\u001b[0;32m~/.pyenv/versions/3.7.7/envs/lewagon/lib/python3.7/site-packages/sklearn/utils/validation.py\u001b[0m in \u001b[0;36mcheck_X_y\u001b[0;34m(X, y, accept_sparse, accept_large_sparse, dtype, order, copy, force_all_finite, ensure_2d, allow_nd, multi_output, ensure_min_samples, ensure_min_features, y_numeric, estimator)\u001b[0m\n\u001b[1;32m    819\u001b[0m                     \u001b[0mensure_min_samples\u001b[0m\u001b[0;34m=\u001b[0m\u001b[0mensure_min_samples\u001b[0m\u001b[0;34m,\u001b[0m\u001b[0;34m\u001b[0m\u001b[0;34m\u001b[0m\u001b[0m\n\u001b[1;32m    820\u001b[0m                     \u001b[0mensure_min_features\u001b[0m\u001b[0;34m=\u001b[0m\u001b[0mensure_min_features\u001b[0m\u001b[0;34m,\u001b[0m\u001b[0;34m\u001b[0m\u001b[0;34m\u001b[0m\u001b[0m\n\u001b[0;32m--> 821\u001b[0;31m                     estimator=estimator)\n\u001b[0m\u001b[1;32m    822\u001b[0m     \u001b[0;32mif\u001b[0m \u001b[0mmulti_output\u001b[0m\u001b[0;34m:\u001b[0m\u001b[0;34m\u001b[0m\u001b[0;34m\u001b[0m\u001b[0m\n\u001b[1;32m    823\u001b[0m         y = check_array(y, accept_sparse='csr', force_all_finite=True,\n",
      "\u001b[0;32m~/.pyenv/versions/3.7.7/envs/lewagon/lib/python3.7/site-packages/sklearn/utils/validation.py\u001b[0m in \u001b[0;36minner_f\u001b[0;34m(*args, **kwargs)\u001b[0m\n\u001b[1;32m     61\u001b[0m             \u001b[0mextra_args\u001b[0m \u001b[0;34m=\u001b[0m \u001b[0mlen\u001b[0m\u001b[0;34m(\u001b[0m\u001b[0margs\u001b[0m\u001b[0;34m)\u001b[0m \u001b[0;34m-\u001b[0m \u001b[0mlen\u001b[0m\u001b[0;34m(\u001b[0m\u001b[0mall_args\u001b[0m\u001b[0;34m)\u001b[0m\u001b[0;34m\u001b[0m\u001b[0;34m\u001b[0m\u001b[0m\n\u001b[1;32m     62\u001b[0m             \u001b[0;32mif\u001b[0m \u001b[0mextra_args\u001b[0m \u001b[0;34m<=\u001b[0m \u001b[0;36m0\u001b[0m\u001b[0;34m:\u001b[0m\u001b[0;34m\u001b[0m\u001b[0;34m\u001b[0m\u001b[0m\n\u001b[0;32m---> 63\u001b[0;31m                 \u001b[0;32mreturn\u001b[0m \u001b[0mf\u001b[0m\u001b[0;34m(\u001b[0m\u001b[0;34m*\u001b[0m\u001b[0margs\u001b[0m\u001b[0;34m,\u001b[0m \u001b[0;34m**\u001b[0m\u001b[0mkwargs\u001b[0m\u001b[0;34m)\u001b[0m\u001b[0;34m\u001b[0m\u001b[0;34m\u001b[0m\u001b[0m\n\u001b[0m\u001b[1;32m     64\u001b[0m \u001b[0;34m\u001b[0m\u001b[0m\n\u001b[1;32m     65\u001b[0m             \u001b[0;31m# extra_args > 0\u001b[0m\u001b[0;34m\u001b[0m\u001b[0;34m\u001b[0m\u001b[0;34m\u001b[0m\u001b[0m\n",
      "\u001b[0;32m~/.pyenv/versions/3.7.7/envs/lewagon/lib/python3.7/site-packages/sklearn/utils/validation.py\u001b[0m in \u001b[0;36mcheck_array\u001b[0;34m(array, accept_sparse, accept_large_sparse, dtype, order, copy, force_all_finite, ensure_2d, allow_nd, ensure_min_samples, ensure_min_features, estimator)\u001b[0m\n\u001b[1;32m    662\u001b[0m         \u001b[0;32mif\u001b[0m \u001b[0mforce_all_finite\u001b[0m\u001b[0;34m:\u001b[0m\u001b[0;34m\u001b[0m\u001b[0;34m\u001b[0m\u001b[0m\n\u001b[1;32m    663\u001b[0m             _assert_all_finite(array,\n\u001b[0;32m--> 664\u001b[0;31m                                allow_nan=force_all_finite == 'allow-nan')\n\u001b[0m\u001b[1;32m    665\u001b[0m \u001b[0;34m\u001b[0m\u001b[0m\n\u001b[1;32m    666\u001b[0m     \u001b[0;32mif\u001b[0m \u001b[0mensure_min_samples\u001b[0m \u001b[0;34m>\u001b[0m \u001b[0;36m0\u001b[0m\u001b[0;34m:\u001b[0m\u001b[0;34m\u001b[0m\u001b[0;34m\u001b[0m\u001b[0m\n",
      "\u001b[0;32m~/.pyenv/versions/3.7.7/envs/lewagon/lib/python3.7/site-packages/sklearn/utils/validation.py\u001b[0m in \u001b[0;36m_assert_all_finite\u001b[0;34m(X, allow_nan, msg_dtype)\u001b[0m\n\u001b[1;32m    104\u001b[0m                     \u001b[0mmsg_err\u001b[0m\u001b[0;34m.\u001b[0m\u001b[0mformat\u001b[0m\u001b[0;34m\u001b[0m\u001b[0;34m\u001b[0m\u001b[0m\n\u001b[1;32m    105\u001b[0m                     (type_err,\n\u001b[0;32m--> 106\u001b[0;31m                      msg_dtype if msg_dtype is not None else X.dtype)\n\u001b[0m\u001b[1;32m    107\u001b[0m             )\n\u001b[1;32m    108\u001b[0m     \u001b[0;31m# for object dtype data, we only check for NaNs (GH-13254)\u001b[0m\u001b[0;34m\u001b[0m\u001b[0;34m\u001b[0m\u001b[0;34m\u001b[0m\u001b[0m\n",
      "\u001b[0;31mValueError\u001b[0m: Input contains NaN, infinity or a value too large for dtype('float64')."
     ]
    }
   ],
   "source": [
    "from sklearn.neighbors import KNeighborsClassifier \n",
    "\n",
    "neigh = KNeighborsClassifier(n_neighbors = 5) \n",
    "\n",
    "neigh.fit(X_train, y_train) \n",
    "\n",
    "neigh.score(X_test, y_test) "
   ]
  },
  {
   "cell_type": "markdown",
   "metadata": {},
   "source": [
    "### data_ad:"
   ]
  },
  {
   "cell_type": "code",
   "execution_count": 41,
   "metadata": {
    "scrolled": false
   },
   "outputs": [
    {
     "data": {
      "text/plain": [
       "Index(['Date', 'Ad set name', 'Ad name', 'Campaign name', 'Impressions',\n",
       "       'Cost', 'Website purchases', 'Cost per website purchase',\n",
       "       'CPC (cost per link click)', 'CTR (link click-through rate)', 'Signup',\n",
       "       'Registration', 'Unique purchases', 'Unique adds to cart',\n",
       "       'Website leads', 'Unique link clicks',\n",
       "       'Unique mobile app adds of payment info', 'Conversion rate ranking',\n",
       "       'Post shares', 'Return on ad spend (ROAS)',\n",
       "       'Unique completed registrations', 'Post comments', 'Impressions_2',\n",
       "       'CTR_class'],\n",
       "      dtype='object')"
      ]
     },
     "metadata": {},
     "output_type": "display_data"
    },
    {
     "data": {
      "text/plain": [
       "Index(['Impressions', 'Unique link clicks', 'Post shares', 'Cost',\n",
       "       'Cost per website purchase', 'Signup', 'Registration', 'Duration',\n",
       "       'CTR', 'CR', 'CTR_class'],\n",
       "      dtype='object')"
      ]
     },
     "metadata": {},
     "output_type": "display_data"
    },
    {
     "data": {
      "text/plain": [
       "Impressions                     int64\n",
       "Unique link clicks            float64\n",
       "Post shares                   float64\n",
       "Cost                          float64\n",
       "Cost per website purchase     float64\n",
       "Signup                        float64\n",
       "Registration                  float64\n",
       "Duration                        int64\n",
       "CTR                           float64\n",
       "CR                            float64\n",
       "CTR_class                    category\n",
       "dtype: object"
      ]
     },
     "metadata": {},
     "output_type": "display_data"
    }
   ],
   "source": [
    "display(data.columns)\n",
    "display(data_ad.columns) \n",
    "display(data_ad.dtypes) "
   ]
  },
  {
   "cell_type": "code",
   "execution_count": 42,
   "metadata": {},
   "outputs": [],
   "source": [
    "from sklearn.model_selection import train_test_split\n",
    "\n",
    "X_ad = data_ad[[\"Post shares\", \"Cost\",\n",
    "                \"Duration\", \"Signup\", \"Registration\"]] \n",
    "y_ad = data_ad[[\"CTR_class\"]] \n",
    "\n",
    "X_train_ad, X_test_ad, y_train_ad, y_test_ad = train_test_split(X_ad, y_ad, \n",
    "                                                                test_size = 0.3, \n",
    "                                                                random_state = 3)"
   ]
  },
  {
   "cell_type": "code",
   "execution_count": 43,
   "metadata": {
    "scrolled": false
   },
   "outputs": [
    {
     "name": "stderr",
     "output_type": "stream",
     "text": [
      "/Users/Lucas/.pyenv/versions/3.7.7/envs/lewagon/lib/python3.7/site-packages/sklearn/neighbors/_classification.py:179: DataConversionWarning: A column-vector y was passed when a 1d array was expected. Please change the shape of y to (n_samples,), for example using ravel().\n",
      "  return self._fit(X, y)\n"
     ]
    },
    {
     "data": {
      "text/plain": [
       "0.6195652173913043"
      ]
     },
     "execution_count": 43,
     "metadata": {},
     "output_type": "execute_result"
    }
   ],
   "source": [
    "from sklearn.neighbors import KNeighborsClassifier \n",
    "\n",
    "neigh = KNeighborsClassifier(n_neighbors = 5) \n",
    "\n",
    "neigh.fit(X_train_ad, y_train_ad) \n",
    "\n",
    "neigh.score(X_test_ad, y_test_ad) "
   ]
  },
  {
   "cell_type": "code",
   "execution_count": 44,
   "metadata": {
    "scrolled": true
   },
   "outputs": [
    {
     "name": "stderr",
     "output_type": "stream",
     "text": [
      "/Users/Lucas/.pyenv/versions/3.7.7/envs/lewagon/lib/python3.7/site-packages/sklearn/neighbors/_classification.py:179: DataConversionWarning: A column-vector y was passed when a 1d array was expected. Please change the shape of y to (n_samples,), for example using ravel().\n",
      "  return self._fit(X, y)\n",
      "/Users/Lucas/.pyenv/versions/3.7.7/envs/lewagon/lib/python3.7/site-packages/sklearn/neighbors/_classification.py:179: DataConversionWarning: A column-vector y was passed when a 1d array was expected. Please change the shape of y to (n_samples,), for example using ravel().\n",
      "  return self._fit(X, y)\n",
      "/Users/Lucas/.pyenv/versions/3.7.7/envs/lewagon/lib/python3.7/site-packages/sklearn/neighbors/_classification.py:179: DataConversionWarning: A column-vector y was passed when a 1d array was expected. Please change the shape of y to (n_samples,), for example using ravel().\n",
      "  return self._fit(X, y)\n",
      "/Users/Lucas/.pyenv/versions/3.7.7/envs/lewagon/lib/python3.7/site-packages/sklearn/neighbors/_classification.py:179: DataConversionWarning: A column-vector y was passed when a 1d array was expected. Please change the shape of y to (n_samples,), for example using ravel().\n",
      "  return self._fit(X, y)\n",
      "/Users/Lucas/.pyenv/versions/3.7.7/envs/lewagon/lib/python3.7/site-packages/sklearn/neighbors/_classification.py:179: DataConversionWarning: A column-vector y was passed when a 1d array was expected. Please change the shape of y to (n_samples,), for example using ravel().\n",
      "  return self._fit(X, y)\n",
      "/Users/Lucas/.pyenv/versions/3.7.7/envs/lewagon/lib/python3.7/site-packages/sklearn/neighbors/_classification.py:179: DataConversionWarning: A column-vector y was passed when a 1d array was expected. Please change the shape of y to (n_samples,), for example using ravel().\n",
      "  return self._fit(X, y)\n",
      "/Users/Lucas/.pyenv/versions/3.7.7/envs/lewagon/lib/python3.7/site-packages/sklearn/neighbors/_classification.py:179: DataConversionWarning: A column-vector y was passed when a 1d array was expected. Please change the shape of y to (n_samples,), for example using ravel().\n",
      "  return self._fit(X, y)\n",
      "/Users/Lucas/.pyenv/versions/3.7.7/envs/lewagon/lib/python3.7/site-packages/sklearn/neighbors/_classification.py:179: DataConversionWarning: A column-vector y was passed when a 1d array was expected. Please change the shape of y to (n_samples,), for example using ravel().\n",
      "  return self._fit(X, y)\n",
      "/Users/Lucas/.pyenv/versions/3.7.7/envs/lewagon/lib/python3.7/site-packages/sklearn/neighbors/_classification.py:179: DataConversionWarning: A column-vector y was passed when a 1d array was expected. Please change the shape of y to (n_samples,), for example using ravel().\n",
      "  return self._fit(X, y)\n",
      "/Users/Lucas/.pyenv/versions/3.7.7/envs/lewagon/lib/python3.7/site-packages/sklearn/neighbors/_classification.py:179: DataConversionWarning: A column-vector y was passed when a 1d array was expected. Please change the shape of y to (n_samples,), for example using ravel().\n",
      "  return self._fit(X, y)\n",
      "/Users/Lucas/.pyenv/versions/3.7.7/envs/lewagon/lib/python3.7/site-packages/sklearn/neighbors/_classification.py:179: DataConversionWarning: A column-vector y was passed when a 1d array was expected. Please change the shape of y to (n_samples,), for example using ravel().\n",
      "  return self._fit(X, y)\n",
      "/Users/Lucas/.pyenv/versions/3.7.7/envs/lewagon/lib/python3.7/site-packages/sklearn/neighbors/_classification.py:179: DataConversionWarning: A column-vector y was passed when a 1d array was expected. Please change the shape of y to (n_samples,), for example using ravel().\n",
      "  return self._fit(X, y)\n",
      "/Users/Lucas/.pyenv/versions/3.7.7/envs/lewagon/lib/python3.7/site-packages/sklearn/neighbors/_classification.py:179: DataConversionWarning: A column-vector y was passed when a 1d array was expected. Please change the shape of y to (n_samples,), for example using ravel().\n",
      "  return self._fit(X, y)\n",
      "/Users/Lucas/.pyenv/versions/3.7.7/envs/lewagon/lib/python3.7/site-packages/sklearn/neighbors/_classification.py:179: DataConversionWarning: A column-vector y was passed when a 1d array was expected. Please change the shape of y to (n_samples,), for example using ravel().\n",
      "  return self._fit(X, y)\n",
      "/Users/Lucas/.pyenv/versions/3.7.7/envs/lewagon/lib/python3.7/site-packages/sklearn/neighbors/_classification.py:179: DataConversionWarning: A column-vector y was passed when a 1d array was expected. Please change the shape of y to (n_samples,), for example using ravel().\n",
      "  return self._fit(X, y)\n",
      "/Users/Lucas/.pyenv/versions/3.7.7/envs/lewagon/lib/python3.7/site-packages/sklearn/neighbors/_classification.py:179: DataConversionWarning: A column-vector y was passed when a 1d array was expected. Please change the shape of y to (n_samples,), for example using ravel().\n",
      "  return self._fit(X, y)\n",
      "/Users/Lucas/.pyenv/versions/3.7.7/envs/lewagon/lib/python3.7/site-packages/sklearn/neighbors/_classification.py:179: DataConversionWarning: A column-vector y was passed when a 1d array was expected. Please change the shape of y to (n_samples,), for example using ravel().\n",
      "  return self._fit(X, y)\n"
     ]
    }
   ],
   "source": [
    "list_k = [1, 2, 3, 4, 5, 10, 17, 20, 22, 24, 25, 26, 27, 50, 75, 150, 210]\n",
    "\n",
    "list_score = [] \n",
    "\n",
    "for x in list_k:  \n",
    "    neigh = KNeighborsClassifier(n_neighbors = x) \n",
    "    neigh.fit(X_train_ad, y_train_ad) \n",
    "    list_score.append(neigh.score(X_test_ad, y_test_ad)) "
   ]
  },
  {
   "cell_type": "code",
   "execution_count": 45,
   "metadata": {},
   "outputs": [
    {
     "name": "stdout",
     "output_type": "stream",
     "text": [
      "[0.5434782608695652, 0.5543478260869565, 0.6304347826086957, 0.6304347826086957, 0.6195652173913043, 0.5760869565217391, 0.6086956521739131, 0.5760869565217391, 0.5869565217391305, 0.5760869565217391, 0.5760869565217391, 0.5869565217391305, 0.5869565217391305, 0.5652173913043478, 0.5434782608695652, 0.4782608695652174, 0.4782608695652174] \n",
      "\n",
      "maximum is: 0.6304347826086957 \n",
      " index number: 2 \n",
      " optimal k:  3\n"
     ]
    },
    {
     "data": {
      "text/plain": [
       "[<matplotlib.lines.Line2D at 0x11e2ae610>]"
      ]
     },
     "execution_count": 45,
     "metadata": {},
     "output_type": "execute_result"
    },
    {
     "data": {
      "image/png": "[encoded data removed]",
      "text/plain": [
       "<Figure size 432x288 with 1 Axes>"
      ]
     },
     "metadata": {
      "needs_background": "light"
     },
     "output_type": "display_data"
    }
   ],
   "source": [
    "print(list_score, \"\\n\") \n",
    "print(\"maximum is:\", max(list_score), \"\\n\", \n",
    "      \"index number:\", list_score.index(max(list_score)), \"\\n\", \n",
    "      \"optimal k: \", list_k[list_score.index(max(list_score))]) \n",
    "\n",
    "plt.plot(list_score) "
   ]
  },
  {
   "cell_type": "markdown",
   "metadata": {},
   "source": [
    "-> The best score we can get with this model is:"
   ]
  },
  {
   "cell_type": "code",
   "execution_count": 46,
   "metadata": {},
   "outputs": [
    {
     "name": "stderr",
     "output_type": "stream",
     "text": [
      "/Users/Lucas/.pyenv/versions/3.7.7/envs/lewagon/lib/python3.7/site-packages/sklearn/neighbors/_classification.py:179: DataConversionWarning: A column-vector y was passed when a 1d array was expected. Please change the shape of y to (n_samples,), for example using ravel().\n",
      "  return self._fit(X, y)\n"
     ]
    },
    {
     "data": {
      "text/plain": [
       "0.6304347826086957"
      ]
     },
     "execution_count": 46,
     "metadata": {},
     "output_type": "execute_result"
    }
   ],
   "source": [
    "neigh = KNeighborsClassifier(n_neighbors = list_k[list_score.index(max(list_score))])\n",
    "\n",
    "neigh.fit(X_train_ad, y_train_ad) \n",
    "\n",
    "neigh.score(X_test_ad, y_test_ad) "
   ]
  },
  {
   "cell_type": "markdown",
   "metadata": {
    "heading_collapsed": true
   },
   "source": [
    "## KMeans Clustering"
   ]
  },
  {
   "cell_type": "markdown",
   "metadata": {
    "hidden": true
   },
   "source": [
    "#### Elbow: "
   ]
  },
  {
   "cell_type": "code",
   "execution_count": null,
   "metadata": {
    "hidden": true,
    "scrolled": true
   },
   "outputs": [],
   "source": [
    "from sklearn.cluster import KMeans \n",
    " \n",
    "intertias = [] \n",
    "X = data_ad_without_inf \n",
    "ks = range(1, 10) \n",
    " \n",
    "for k in ks: \n",
    "    km_elbow = KMeans(n_clusters = k, random_state = 1).fit(X) \n",
    "    intertias.append(km_elbow.inertia_) \n",
    " \n",
    "plt.plot(ks, intertias) \n",
    "plt.xlabel(ks) \n",
    "plt.show() "
   ]
  },
  {
   "cell_type": "code",
   "execution_count": null,
   "metadata": {
    "hidden": true
   },
   "outputs": [],
   "source": [
    "from sklearn.cluster import KMeans \n",
    "\n",
    "intertias = []\n",
    "X = data\n",
    "ks = range(1, 10) \n",
    "\n",
    "for k in ks: \n",
    "    km_elbow = KMeans(n_clusters = k, random_state = 5).fit(X)\n",
    "    intertias.append(km_elbow.inertia_)\n",
    "\n",
    "plt.plot(ks, intertias)\n",
    "plt.xlabel(ks)\n",
    "plt.show()"
   ]
  },
  {
   "cell_type": "markdown",
   "metadata": {
    "hidden": true
   },
   "source": [
    "-> Use 3 Cluster!"
   ]
  },
  {
   "cell_type": "markdown",
   "metadata": {
    "hidden": true
   },
   "source": [
    "#### No Pipeline: "
   ]
  },
  {
   "cell_type": "code",
   "execution_count": null,
   "metadata": {
    "hidden": true
   },
   "outputs": [],
   "source": [
    "from sklearn.pipeline import make_pipeline \n",
    "\n",
    "scaler = StandardScaler() \n",
    "\n",
    "scaler.fit(data_ad_without_inf) \n",
    "\n",
    "data_ad_scaled = scaler.transform(data_ad_without_inf) \n",
    "display(data_ad_scaled)"
   ]
  },
  {
   "cell_type": "code",
   "execution_count": null,
   "metadata": {
    "hidden": true
   },
   "outputs": [],
   "source": [
    "display(len(data_ad_scaled))"
   ]
  },
  {
   "cell_type": "markdown",
   "metadata": {
    "hidden": true
   },
   "source": [
    "#### With Pipeline: "
   ]
  },
  {
   "cell_type": "code",
   "execution_count": null,
   "metadata": {
    "hidden": true,
    "scrolled": true
   },
   "outputs": [],
   "source": [
    "scaler = StandardScaler() \n",
    "kmeans = KMeans(n_clusters = 2)\n",
    "\n",
    "pipeline = make_pipeline(scaler, kmeans)\n",
    "\n",
    "pipeline.fit(data_ad_without_inf)"
   ]
  },
  {
   "cell_type": "markdown",
   "metadata": {},
   "source": [
    "## Log Reg:"
   ]
  },
  {
   "cell_type": "markdown",
   "metadata": {},
   "source": [
    "### data_ad:"
   ]
  },
  {
   "cell_type": "markdown",
   "metadata": {},
   "source": [
    "#### Without Scaling:"
   ]
  },
  {
   "cell_type": "code",
   "execution_count": 48,
   "metadata": {
    "scrolled": true
   },
   "outputs": [
    {
     "name": "stdout",
     "output_type": "stream",
     "text": [
      "Index(['Impressions', 'Unique link clicks', 'Post shares', 'Cost',\n",
      "       'Cost per website purchase', 'Signup', 'Registration', 'Duration',\n",
      "       'CTR', 'CR', 'CTR_class'],\n",
      "      dtype='object')\n"
     ]
    },
    {
     "data": {
      "text/plain": [
       "Impressions                    int64\n",
       "Unique link clicks           float64\n",
       "Post shares                  float64\n",
       "Cost                         float64\n",
       "Cost per website purchase    float64\n",
       "Signup                       float64\n",
       "Registration                 float64\n",
       "Duration                       int64\n",
       "CTR                          float64\n",
       "CR                           float64\n",
       "CTR_class                     object\n",
       "dtype: object"
      ]
     },
     "metadata": {},
     "output_type": "display_data"
    },
    {
     "data": {
      "text/html": [
       "<div>\n",
       "<style scoped>\n",
       "    .dataframe tbody tr th:only-of-type {\n",
       "        vertical-align: middle;\n",
       "    }\n",
       "\n",
       "    .dataframe tbody tr th {\n",
       "        vertical-align: top;\n",
       "    }\n",
       "\n",
       "    .dataframe thead th {\n",
       "        text-align: right;\n",
       "    }\n",
       "</style>\n",
       "<table border=\"1\" class=\"dataframe\">\n",
       "  <thead>\n",
       "    <tr style=\"text-align: right;\">\n",
       "      <th></th>\n",
       "      <th>Impressions</th>\n",
       "      <th>Unique link clicks</th>\n",
       "      <th>Post shares</th>\n",
       "      <th>Cost</th>\n",
       "      <th>Cost per website purchase</th>\n",
       "      <th>Signup</th>\n",
       "      <th>Registration</th>\n",
       "      <th>Duration</th>\n",
       "      <th>CTR</th>\n",
       "      <th>CR</th>\n",
       "    </tr>\n",
       "  </thead>\n",
       "  <tbody>\n",
       "    <tr>\n",
       "      <th>count</th>\n",
       "      <td>3.050000e+02</td>\n",
       "      <td>305.000000</td>\n",
       "      <td>305.000000</td>\n",
       "      <td>305.000000</td>\n",
       "      <td>305.000000</td>\n",
       "      <td>305.000000</td>\n",
       "      <td>305.000000</td>\n",
       "      <td>305.000000</td>\n",
       "      <td>305.000000</td>\n",
       "      <td>266.000000</td>\n",
       "    </tr>\n",
       "    <tr>\n",
       "      <th>mean</th>\n",
       "      <td>2.411426e+05</td>\n",
       "      <td>765.009836</td>\n",
       "      <td>29.573770</td>\n",
       "      <td>1736.007607</td>\n",
       "      <td>523.787869</td>\n",
       "      <td>0.878689</td>\n",
       "      <td>42.872131</td>\n",
       "      <td>28.767213</td>\n",
       "      <td>0.003781</td>\n",
       "      <td>0.055934</td>\n",
       "    </tr>\n",
       "    <tr>\n",
       "      <th>std</th>\n",
       "      <td>1.039491e+06</td>\n",
       "      <td>3277.782869</td>\n",
       "      <td>163.584303</td>\n",
       "      <td>7364.020734</td>\n",
       "      <td>2340.057730</td>\n",
       "      <td>5.927332</td>\n",
       "      <td>204.958613</td>\n",
       "      <td>74.469715</td>\n",
       "      <td>0.005262</td>\n",
       "      <td>0.120276</td>\n",
       "    </tr>\n",
       "    <tr>\n",
       "      <th>min</th>\n",
       "      <td>6.000000e+00</td>\n",
       "      <td>0.000000</td>\n",
       "      <td>0.000000</td>\n",
       "      <td>0.120000</td>\n",
       "      <td>0.000000</td>\n",
       "      <td>0.000000</td>\n",
       "      <td>0.000000</td>\n",
       "      <td>1.000000</td>\n",
       "      <td>0.000000</td>\n",
       "      <td>0.000000</td>\n",
       "    </tr>\n",
       "    <tr>\n",
       "      <th>25%</th>\n",
       "      <td>3.094000e+03</td>\n",
       "      <td>6.000000</td>\n",
       "      <td>0.000000</td>\n",
       "      <td>16.000000</td>\n",
       "      <td>0.000000</td>\n",
       "      <td>0.000000</td>\n",
       "      <td>0.000000</td>\n",
       "      <td>2.000000</td>\n",
       "      <td>0.001624</td>\n",
       "      <td>0.000000</td>\n",
       "    </tr>\n",
       "    <tr>\n",
       "      <th>50%</th>\n",
       "      <td>1.042300e+04</td>\n",
       "      <td>30.000000</td>\n",
       "      <td>1.000000</td>\n",
       "      <td>76.140000</td>\n",
       "      <td>0.000000</td>\n",
       "      <td>0.000000</td>\n",
       "      <td>1.000000</td>\n",
       "      <td>5.000000</td>\n",
       "      <td>0.002526</td>\n",
       "      <td>0.028214</td>\n",
       "    </tr>\n",
       "    <tr>\n",
       "      <th>75%</th>\n",
       "      <td>7.968300e+04</td>\n",
       "      <td>247.000000</td>\n",
       "      <td>6.000000</td>\n",
       "      <td>655.730000</td>\n",
       "      <td>120.320000</td>\n",
       "      <td>0.000000</td>\n",
       "      <td>14.000000</td>\n",
       "      <td>16.000000</td>\n",
       "      <td>0.003920</td>\n",
       "      <td>0.067395</td>\n",
       "    </tr>\n",
       "    <tr>\n",
       "      <th>max</th>\n",
       "      <td>1.474463e+07</td>\n",
       "      <td>39839.000000</td>\n",
       "      <td>2456.000000</td>\n",
       "      <td>103903.940000</td>\n",
       "      <td>31707.700000</td>\n",
       "      <td>93.000000</td>\n",
       "      <td>3148.000000</td>\n",
       "      <td>585.000000</td>\n",
       "      <td>0.047619</td>\n",
       "      <td>1.250000</td>\n",
       "    </tr>\n",
       "  </tbody>\n",
       "</table>\n",
       "</div>"
      ],
      "text/plain": [
       "        Impressions  Unique link clicks  Post shares           Cost  \\\n",
       "count  3.050000e+02          305.000000   305.000000     305.000000   \n",
       "mean   2.411426e+05          765.009836    29.573770    1736.007607   \n",
       "std    1.039491e+06         3277.782869   163.584303    7364.020734   \n",
       "min    6.000000e+00            0.000000     0.000000       0.120000   \n",
       "25%    3.094000e+03            6.000000     0.000000      16.000000   \n",
       "50%    1.042300e+04           30.000000     1.000000      76.140000   \n",
       "75%    7.968300e+04          247.000000     6.000000     655.730000   \n",
       "max    1.474463e+07        39839.000000  2456.000000  103903.940000   \n",
       "\n",
       "       Cost per website purchase      Signup  Registration    Duration  \\\n",
       "count                 305.000000  305.000000    305.000000  305.000000   \n",
       "mean                  523.787869    0.878689     42.872131   28.767213   \n",
       "std                  2340.057730    5.927332    204.958613   74.469715   \n",
       "min                     0.000000    0.000000      0.000000    1.000000   \n",
       "25%                     0.000000    0.000000      0.000000    2.000000   \n",
       "50%                     0.000000    0.000000      1.000000    5.000000   \n",
       "75%                   120.320000    0.000000     14.000000   16.000000   \n",
       "max                 31707.700000   93.000000   3148.000000  585.000000   \n",
       "\n",
       "              CTR          CR  \n",
       "count  305.000000  266.000000  \n",
       "mean     0.003781    0.055934  \n",
       "std      0.005262    0.120276  \n",
       "min      0.000000    0.000000  \n",
       "25%      0.001624    0.000000  \n",
       "50%      0.002526    0.028214  \n",
       "75%      0.003920    0.067395  \n",
       "max      0.047619    1.250000  "
      ]
     },
     "metadata": {},
     "output_type": "display_data"
    },
    {
     "name": "stdout",
     "output_type": "stream",
     "text": [
      "True\n",
      "Impressions                  False\n",
      "Unique link clicks           False\n",
      "Post shares                  False\n",
      "Cost                         False\n",
      "Cost per website purchase    False\n",
      "Signup                       False\n",
      "Registration                 False\n",
      "Duration                     False\n",
      "CTR                          False\n",
      "CR                            True\n",
      "CTR_class                    False\n",
      "dtype: bool\n"
     ]
    }
   ],
   "source": [
    "print(data_ad.columns)\n",
    "display(data_ad.dtypes)\n",
    "display(data_ad.describe())\n",
    "print(data_ad.isnull().values.any())\n",
    "print(data_ad.isnull().any())"
   ]
  },
  {
   "cell_type": "code",
   "execution_count": 67,
   "metadata": {},
   "outputs": [],
   "source": [
    "from sklearn.linear_model import LogisticRegression\n",
    "\n",
    "X_log_ad = data_ad[[\"Impressions\", \"Unique link clicks\", \"Post shares\", \n",
    "                    \"Cost\",  \"Signup\", \"Registration\", \"Duration\"]] \n",
    "y_log_ad = data_ad[\"CTR_class\"]\n",
    "\n",
    "X_train_log_ad, X_test_log_ad,\\\n",
    "y_train_log_ad, y_test_log_ad = train_test_split(X_log_ad, y_log_ad,\n",
    "                                                 test_size = 0.3, random_state = 3)"
   ]
  },
  {
   "cell_type": "code",
   "execution_count": 68,
   "metadata": {
    "scrolled": true
   },
   "outputs": [
    {
     "name": "stderr",
     "output_type": "stream",
     "text": [
      "/Users/Lucas/.pyenv/versions/3.7.7/envs/lewagon/lib/python3.7/site-packages/sklearn/linear_model/_logistic.py:765: ConvergenceWarning: lbfgs failed to converge (status=1):\n",
      "STOP: TOTAL NO. of ITERATIONS REACHED LIMIT.\n",
      "\n",
      "Increase the number of iterations (max_iter) or scale the data as shown in:\n",
      "    https://scikit-learn.org/stable/modules/preprocessing.html\n",
      "Please also refer to the documentation for alternative solver options:\n",
      "    https://scikit-learn.org/stable/modules/linear_model.html#logistic-regression\n",
      "  extra_warning_msg=_LOGISTIC_SOLVER_CONVERGENCE_MSG)\n"
     ]
    },
    {
     "data": {
      "text/plain": [
       "0.967391304347826"
      ]
     },
     "execution_count": 68,
     "metadata": {},
     "output_type": "execute_result"
    }
   ],
   "source": [
    "log_model = LogisticRegression() \n",
    " \n",
    "log_model.fit(X_train_log_ad, y_train_log_ad) \n",
    " \n",
    "log_model.score(X_test_log_ad, y_test_log_ad) "
   ]
  },
  {
   "cell_type": "code",
   "execution_count": 72,
   "metadata": {},
   "outputs": [
    {
     "data": {
      "text/html": [
       "<div>\n",
       "<style scoped>\n",
       "    .dataframe tbody tr th:only-of-type {\n",
       "        vertical-align: middle;\n",
       "    }\n",
       "\n",
       "    .dataframe tbody tr th {\n",
       "        vertical-align: top;\n",
       "    }\n",
       "\n",
       "    .dataframe thead th {\n",
       "        text-align: right;\n",
       "    }\n",
       "</style>\n",
       "<table border=\"1\" class=\"dataframe\">\n",
       "  <thead>\n",
       "    <tr style=\"text-align: right;\">\n",
       "      <th></th>\n",
       "      <th>Impressions</th>\n",
       "      <th>Unique link clicks</th>\n",
       "      <th>Post shares</th>\n",
       "      <th>Cost</th>\n",
       "      <th>Cost per website purchase</th>\n",
       "      <th>Signup</th>\n",
       "      <th>Registration</th>\n",
       "      <th>Duration</th>\n",
       "      <th>CTR</th>\n",
       "      <th>CR</th>\n",
       "      <th>CTR_class</th>\n",
       "    </tr>\n",
       "    <tr>\n",
       "      <th>Ad name</th>\n",
       "      <th></th>\n",
       "      <th></th>\n",
       "      <th></th>\n",
       "      <th></th>\n",
       "      <th></th>\n",
       "      <th></th>\n",
       "      <th></th>\n",
       "      <th></th>\n",
       "      <th></th>\n",
       "      <th></th>\n",
       "      <th></th>\n",
       "    </tr>\n",
       "  </thead>\n",
       "  <tbody>\n",
       "    <tr>\n",
       "      <th>near-death_static</th>\n",
       "      <td>5128926</td>\n",
       "      <td>11665.0</td>\n",
       "      <td>43.0</td>\n",
       "      <td>37241.18</td>\n",
       "      <td>13228.9</td>\n",
       "      <td>0.0</td>\n",
       "      <td>789.0</td>\n",
       "      <td>222</td>\n",
       "      <td>0.002274</td>\n",
       "      <td>0.067638</td>\n",
       "      <td>0</td>\n",
       "    </tr>\n",
       "  </tbody>\n",
       "</table>\n",
       "</div>"
      ],
      "text/plain": [
       "                   Impressions  Unique link clicks  Post shares      Cost  \\\n",
       "Ad name                                                                     \n",
       "near-death_static      5128926             11665.0         43.0  37241.18   \n",
       "\n",
       "                   Cost per website purchase  Signup  Registration  Duration  \\\n",
       "Ad name                                                                        \n",
       "near-death_static                    13228.9     0.0         789.0       222   \n",
       "\n",
       "                        CTR        CR CTR_class  \n",
       "Ad name                                          \n",
       "near-death_static  0.002274  0.067638         0  "
      ]
     },
     "execution_count": 72,
     "metadata": {},
     "output_type": "execute_result"
    }
   ],
   "source": [
    "data_ad.sample(1)"
   ]
  },
  {
   "cell_type": "code",
   "execution_count": 70,
   "metadata": {},
   "outputs": [
    {
     "name": "stdout",
     "output_type": "stream",
     "text": [
      "['1']\n"
     ]
    }
   ],
   "source": [
    "#Predict! (\"Impressions\", \"Unique link clicks\", \"Post shares\", \n",
    "# \"Cost\",  \"Signup\", \"Registration\", \"Duration\")\n",
    "print(log_model.predict([[2552, 7, 0, 10, 0, 0, 3]])) "
   ]
  },
  {
   "cell_type": "markdown",
   "metadata": {
    "heading_collapsed": true
   },
   "source": [
    "#### with Standardscaler:"
   ]
  },
  {
   "cell_type": "code",
   "execution_count": 73,
   "metadata": {
    "hidden": true
   },
   "outputs": [
    {
     "data": {
      "text/plain": [
       "Index(['Impressions', 'Unique link clicks', 'Post shares', 'Cost',\n",
       "       'Cost per website purchase', 'Signup', 'Registration', 'Duration',\n",
       "       'CTR', 'CR', 'CTR_class'],\n",
       "      dtype='object')"
      ]
     },
     "execution_count": 73,
     "metadata": {},
     "output_type": "execute_result"
    }
   ],
   "source": [
    "data_ad.columns "
   ]
  },
  {
   "cell_type": "code",
   "execution_count": 93,
   "metadata": {
    "hidden": true
   },
   "outputs": [],
   "source": [
    "from sklearn.preprocessing import StandardScaler \n",
    "\n",
    "scaler = StandardScaler() \n",
    "\n",
    "scaler.fit(data_ad[[\"Impressions\"]]) \n",
    "data_ad_scaled[\"Impressions\"] = scaler.transform(data_ad[[\"Impressions\"]]) \n",
    "\n",
    "scaler.fit(data_ad[[\"Unique link clicks\"]]) \n",
    "data_ad_scaled[\"Unique link clicks\"] = scaler.transform(data_ad[[\"Unique link clicks\"]]) \n",
    "\n",
    "scaler.fit(data_ad[[\"Post shares\"]]) \n",
    "data_ad_scaled[\"Post shares\"] = scaler.transform(data_ad[[\"Post shares\"]]) "
   ]
  },
  {
   "cell_type": "code",
   "execution_count": 94,
   "metadata": {
    "hidden": true
   },
   "outputs": [
    {
     "data": {
      "text/html": [
       "<div>\n",
       "<style scoped>\n",
       "    .dataframe tbody tr th:only-of-type {\n",
       "        vertical-align: middle;\n",
       "    }\n",
       "\n",
       "    .dataframe tbody tr th {\n",
       "        vertical-align: top;\n",
       "    }\n",
       "\n",
       "    .dataframe thead th {\n",
       "        text-align: right;\n",
       "    }\n",
       "</style>\n",
       "<table border=\"1\" class=\"dataframe\">\n",
       "  <thead>\n",
       "    <tr style=\"text-align: right;\">\n",
       "      <th></th>\n",
       "      <th>Impressions</th>\n",
       "      <th>Unique link clicks</th>\n",
       "      <th>Post shares</th>\n",
       "      <th>Cost</th>\n",
       "      <th>Cost per website purchase</th>\n",
       "      <th>Signup</th>\n",
       "      <th>Registration</th>\n",
       "      <th>Duration</th>\n",
       "      <th>CTR</th>\n",
       "      <th>CR</th>\n",
       "    </tr>\n",
       "  </thead>\n",
       "  <tbody>\n",
       "    <tr>\n",
       "      <th>count</th>\n",
       "      <td>305.00</td>\n",
       "      <td>305.00</td>\n",
       "      <td>305.00</td>\n",
       "      <td>305.00</td>\n",
       "      <td>305.00</td>\n",
       "      <td>305.00</td>\n",
       "      <td>305.00</td>\n",
       "      <td>305.00</td>\n",
       "      <td>305.00</td>\n",
       "      <td>266.00</td>\n",
       "    </tr>\n",
       "    <tr>\n",
       "      <th>mean</th>\n",
       "      <td>-0.00</td>\n",
       "      <td>0.00</td>\n",
       "      <td>0.00</td>\n",
       "      <td>1736.01</td>\n",
       "      <td>523.79</td>\n",
       "      <td>0.88</td>\n",
       "      <td>42.87</td>\n",
       "      <td>28.77</td>\n",
       "      <td>0.00</td>\n",
       "      <td>0.06</td>\n",
       "    </tr>\n",
       "    <tr>\n",
       "      <th>std</th>\n",
       "      <td>1.00</td>\n",
       "      <td>1.00</td>\n",
       "      <td>1.00</td>\n",
       "      <td>7364.02</td>\n",
       "      <td>2340.06</td>\n",
       "      <td>5.93</td>\n",
       "      <td>204.96</td>\n",
       "      <td>74.47</td>\n",
       "      <td>0.01</td>\n",
       "      <td>0.12</td>\n",
       "    </tr>\n",
       "    <tr>\n",
       "      <th>min</th>\n",
       "      <td>-0.23</td>\n",
       "      <td>-0.23</td>\n",
       "      <td>-0.18</td>\n",
       "      <td>0.12</td>\n",
       "      <td>0.00</td>\n",
       "      <td>0.00</td>\n",
       "      <td>0.00</td>\n",
       "      <td>1.00</td>\n",
       "      <td>0.00</td>\n",
       "      <td>0.00</td>\n",
       "    </tr>\n",
       "    <tr>\n",
       "      <th>25%</th>\n",
       "      <td>-0.23</td>\n",
       "      <td>-0.23</td>\n",
       "      <td>-0.18</td>\n",
       "      <td>16.00</td>\n",
       "      <td>0.00</td>\n",
       "      <td>0.00</td>\n",
       "      <td>0.00</td>\n",
       "      <td>2.00</td>\n",
       "      <td>0.00</td>\n",
       "      <td>0.00</td>\n",
       "    </tr>\n",
       "    <tr>\n",
       "      <th>50%</th>\n",
       "      <td>-0.22</td>\n",
       "      <td>-0.22</td>\n",
       "      <td>-0.17</td>\n",
       "      <td>76.14</td>\n",
       "      <td>0.00</td>\n",
       "      <td>0.00</td>\n",
       "      <td>1.00</td>\n",
       "      <td>5.00</td>\n",
       "      <td>0.00</td>\n",
       "      <td>0.03</td>\n",
       "    </tr>\n",
       "    <tr>\n",
       "      <th>75%</th>\n",
       "      <td>-0.16</td>\n",
       "      <td>-0.16</td>\n",
       "      <td>-0.14</td>\n",
       "      <td>655.73</td>\n",
       "      <td>120.32</td>\n",
       "      <td>0.00</td>\n",
       "      <td>14.00</td>\n",
       "      <td>16.00</td>\n",
       "      <td>0.00</td>\n",
       "      <td>0.07</td>\n",
       "    </tr>\n",
       "    <tr>\n",
       "      <th>max</th>\n",
       "      <td>13.98</td>\n",
       "      <td>11.94</td>\n",
       "      <td>14.86</td>\n",
       "      <td>103903.94</td>\n",
       "      <td>31707.70</td>\n",
       "      <td>93.00</td>\n",
       "      <td>3148.00</td>\n",
       "      <td>585.00</td>\n",
       "      <td>0.05</td>\n",
       "      <td>1.25</td>\n",
       "    </tr>\n",
       "  </tbody>\n",
       "</table>\n",
       "</div>"
      ],
      "text/plain": [
       "       Impressions  Unique link clicks  Post shares       Cost  \\\n",
       "count       305.00              305.00       305.00     305.00   \n",
       "mean         -0.00                0.00         0.00    1736.01   \n",
       "std           1.00                1.00         1.00    7364.02   \n",
       "min          -0.23               -0.23        -0.18       0.12   \n",
       "25%          -0.23               -0.23        -0.18      16.00   \n",
       "50%          -0.22               -0.22        -0.17      76.14   \n",
       "75%          -0.16               -0.16        -0.14     655.73   \n",
       "max          13.98               11.94        14.86  103903.94   \n",
       "\n",
       "       Cost per website purchase  Signup  Registration  Duration     CTR  \\\n",
       "count                     305.00  305.00        305.00    305.00  305.00   \n",
       "mean                      523.79    0.88         42.87     28.77    0.00   \n",
       "std                      2340.06    5.93        204.96     74.47    0.01   \n",
       "min                         0.00    0.00          0.00      1.00    0.00   \n",
       "25%                         0.00    0.00          0.00      2.00    0.00   \n",
       "50%                         0.00    0.00          1.00      5.00    0.00   \n",
       "75%                       120.32    0.00         14.00     16.00    0.00   \n",
       "max                     31707.70   93.00       3148.00    585.00    0.05   \n",
       "\n",
       "           CR  \n",
       "count  266.00  \n",
       "mean     0.06  \n",
       "std      0.12  \n",
       "min      0.00  \n",
       "25%      0.00  \n",
       "50%      0.03  \n",
       "75%      0.07  \n",
       "max      1.25  "
      ]
     },
     "execution_count": 94,
     "metadata": {},
     "output_type": "execute_result"
    }
   ],
   "source": [
    "data_ad.describe().round(2)"
   ]
  },
  {
   "cell_type": "code",
   "execution_count": 90,
   "metadata": {
    "hidden": true
   },
   "outputs": [
    {
     "ename": "ValueError",
     "evalue": "too many values to unpack (expected 2)",
     "output_type": "error",
     "traceback": [
      "\u001b[0;31m---------------------------------------------------------------------------\u001b[0m",
      "\u001b[0;31mValueError\u001b[0m                                Traceback (most recent call last)",
      "\u001b[0;32m<ipython-input-90-99fc8927fe25>\u001b[0m in \u001b[0;36m<module>\u001b[0;34m\u001b[0m\n\u001b[1;32m      6\u001b[0m \u001b[0;31m#scaler.fit(data_ad[[\"Cost\", \"Duration\"]])\u001b[0m\u001b[0;34m\u001b[0m\u001b[0;34m\u001b[0m\u001b[0;34m\u001b[0m\u001b[0m\n\u001b[1;32m      7\u001b[0m \u001b[0;34m\u001b[0m\u001b[0m\n\u001b[0;32m----> 8\u001b[0;31m \u001b[0mdata_ad\u001b[0m\u001b[0;34m[\u001b[0m\u001b[0;34m\"Cost\"\u001b[0m\u001b[0;34m]\u001b[0m\u001b[0;34m,\u001b[0m\u001b[0mdata_ad\u001b[0m\u001b[0;34m[\u001b[0m\u001b[0;34m\"Duration\"\u001b[0m\u001b[0;34m]\u001b[0m \u001b[0;34m=\u001b[0m \u001b[0mscaler\u001b[0m\u001b[0;34m.\u001b[0m\u001b[0mfit_transform\u001b[0m\u001b[0;34m(\u001b[0m\u001b[0mdata_ad\u001b[0m\u001b[0;34m[\u001b[0m\u001b[0;34m[\u001b[0m\u001b[0;34m\"Cost\"\u001b[0m\u001b[0;34m,\u001b[0m \u001b[0;34m\"Duration\"\u001b[0m\u001b[0;34m]\u001b[0m\u001b[0;34m]\u001b[0m\u001b[0;34m)\u001b[0m\u001b[0;34m\u001b[0m\u001b[0;34m\u001b[0m\u001b[0m\n\u001b[0m",
      "\u001b[0;31mValueError\u001b[0m: too many values to unpack (expected 2)"
     ]
    }
   ],
   "source": [
    "# Scale data_ad: \n",
    "from sklearn.preprocessing import StandardScaler \n",
    "\n",
    "scaler = StandardScaler() \n",
    "\n",
    "#scaler.fit(data_ad[[\"Cost\", \"Duration\"]])\n",
    "\n",
    "data_ad[\"Cost\"],data_ad[\"Duration\"] = scaler.fit_transform(data_ad[[\"Cost\", \"Duration\"]])"
   ]
  },
  {
   "cell_type": "code",
   "execution_count": null,
   "metadata": {
    "hidden": true
   },
   "outputs": [],
   "source": [
    "# Scale data_ad: \n",
    "from sklearn.preprocessing import StandardScaler \n",
    "\n",
    "data_ad_scaled[\"Post shares\"], data_ad_scaled[\"Cost\"],\\\n",
    "data_ad_scaled[\"Duration\"], data_ad_scaled[\"Signup\"],\\\n",
    "data_ad_scaled[\"Registration\"] = StandardScaler().fit_transform(data_ad[[\"Post shares\", \n",
    "                                                                         \"Cost\", \n",
    "                                                                         \"Duration\",\n",
    "                                                                         \"Signup\", \n",
    "                                                                         \"Registration\"]])"
   ]
  },
  {
   "cell_type": "code",
   "execution_count": null,
   "metadata": {
    "hidden": true
   },
   "outputs": [],
   "source": []
  },
  {
   "cell_type": "code",
   "execution_count": null,
   "metadata": {
    "hidden": true
   },
   "outputs": [],
   "source": [
    "#data_ad_scaled_df = pd.DataFrame(data_ad_scaled, columns = data_ad.columns) \n",
    "\n",
    "#display(data_ad_scaled_df.describe().round(2))\n",
    "#display(data_ad_scaled_df.sample(2))"
   ]
  },
  {
   "cell_type": "code",
   "execution_count": null,
   "metadata": {
    "hidden": true
   },
   "outputs": [],
   "source": [
    "X_standard = data_ad_scaled_df[[\"Post shares\", \"Cost\",  \"Duration\",\n",
    "                                \"Signup\", \"Registration\"]] \n",
    "y_standard = data_ad_scaled_df[\"CTR_class\"]\n",
    "\n",
    "X_train_standard, X_test_standard, \\\n",
    "y_train_standard, y_test_standard = train_test_split(X_standard, y_standard,\n",
    "                                                     test_size = 0.3, \n",
    "                                                     random_state = 3)"
   ]
  },
  {
   "cell_type": "code",
   "execution_count": null,
   "metadata": {
    "hidden": true
   },
   "outputs": [],
   "source": [
    "log_model_standard = LogisticRegression() \n",
    " \n",
    "log_model_standard.fit(X_train_standard, y_train_standard) \n",
    " \n",
    "log_model_standard.score(X_test_standard, y_test_standard) "
   ]
  },
  {
   "cell_type": "markdown",
   "metadata": {},
   "source": [
    "#### with RobustScaler: "
   ]
  },
  {
   "cell_type": "markdown",
   "metadata": {},
   "source": [
    "#### with MinMaxScaler(): "
   ]
  }
 ],
 "metadata": {
  "kernelspec": {
   "display_name": "Python 3",
   "language": "python",
   "name": "python3"
  },
  "language_info": {
   "codemirror_mode": {
    "name": "ipython",
    "version": 3
   },
   "file_extension": ".py",
   "mimetype": "text/x-python",
   "name": "python",
   "nbconvert_exporter": "python",
   "pygments_lexer": "ipython3",
   "version": "3.7.7"
  },
  "toc": {
   "base_numbering": 1,
   "nav_menu": {},
   "number_sections": true,
   "sideBar": true,
   "skip_h1_title": false,
   "title_cell": "Table of Contents",
   "title_sidebar": "Contents",
   "toc_cell": true,
   "toc_position": {
    "height": "calc(100% - 180px)",
    "left": "10px",
    "top": "150px",
    "width": "247.984375px"
   },
   "toc_section_display": true,
   "toc_window_display": true
  }
 },
 "nbformat": 4,
 "nbformat_minor": 4
}
