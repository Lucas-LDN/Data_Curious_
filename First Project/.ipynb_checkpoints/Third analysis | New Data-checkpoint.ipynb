{
 "cells": [
  {
   "cell_type": "markdown",
   "metadata": {
    "toc": true
   },
   "source": [
    "<h1>Table of Contents<span class=\"tocSkip\"></span></h1>\n",
    "<div class=\"toc\"><ul class=\"toc-item\"><li><span><a href=\"#Data:\" data-toc-modified-id=\"Data:-1\"><span class=\"toc-item-num\">1&nbsp;&nbsp;</span>Data:</a></span><ul class=\"toc-item\"><li><span><a href=\"#Load-data:\" data-toc-modified-id=\"Load-data:-1.1\"><span class=\"toc-item-num\">1.1&nbsp;&nbsp;</span>Load data:</a></span></li><li><span><a href=\"#Group-the-data:\" data-toc-modified-id=\"Group-the-data:-1.2\"><span class=\"toc-item-num\">1.2&nbsp;&nbsp;</span>Group the data:</a></span><ul class=\"toc-item\"><li><span><a href=\"#data_daily:\" data-toc-modified-id=\"data_daily:-1.2.1\"><span class=\"toc-item-num\">1.2.1&nbsp;&nbsp;</span>data_daily:</a></span></li><li><span><a href=\"#data_ad:\" data-toc-modified-id=\"data_ad:-1.2.2\"><span class=\"toc-item-num\">1.2.2&nbsp;&nbsp;</span>data_ad:</a></span></li></ul></li><li><span><a href=\"#Scale-Data\" data-toc-modified-id=\"Scale-Data-1.3\"><span class=\"toc-item-num\">1.3&nbsp;&nbsp;</span>Scale Data</a></span><ul class=\"toc-item\"><li><span><a href=\"#data-(into-data_scaled):\" data-toc-modified-id=\"data-(into-data_scaled):-1.3.1\"><span class=\"toc-item-num\">1.3.1&nbsp;&nbsp;</span>data (into data_scaled):</a></span></li><li><span><a href=\"#data_daily:\" data-toc-modified-id=\"data_daily:-1.3.2\"><span class=\"toc-item-num\">1.3.2&nbsp;&nbsp;</span>data_daily:</a></span></li><li><span><a href=\"#data_ad:\" data-toc-modified-id=\"data_ad:-1.3.3\"><span class=\"toc-item-num\">1.3.3&nbsp;&nbsp;</span>data_ad:</a></span></li></ul></li></ul></li><li><span><a href=\"#KMeans:\" data-toc-modified-id=\"KMeans:-2\"><span class=\"toc-item-num\">2&nbsp;&nbsp;</span>KMeans:</a></span><ul class=\"toc-item\"><li><span><a href=\"#KNN---KNeighborsRegressor\" data-toc-modified-id=\"KNN---KNeighborsRegressor-2.1\"><span class=\"toc-item-num\">2.1&nbsp;&nbsp;</span>KNN - KNeighborsRegressor</a></span><ul class=\"toc-item\"><li><span><a href=\"#data_ad:\" data-toc-modified-id=\"data_ad:-2.1.1\"><span class=\"toc-item-num\">2.1.1&nbsp;&nbsp;</span>data_ad:</a></span><ul class=\"toc-item\"><li><span><a href=\"#Baseline-KNN-Model-(Day-5,-Week-4)\" data-toc-modified-id=\"Baseline-KNN-Model-(Day-5,-Week-4)-2.1.1.1\"><span class=\"toc-item-num\">2.1.1.1&nbsp;&nbsp;</span>Baseline KNN Model (Day 5, Week 4)</a></span></li><li><span><a href=\"#GridSearchCV-(Day-5,-Week-4)\" data-toc-modified-id=\"GridSearchCV-(Day-5,-Week-4)-2.1.1.2\"><span class=\"toc-item-num\">2.1.1.2&nbsp;&nbsp;</span>GridSearchCV (Day 5, Week 4)</a></span></li><li><span><a href=\"#Multiple-Params-(Day-5,-Week-4):\" data-toc-modified-id=\"Multiple-Params-(Day-5,-Week-4):-2.1.1.3\"><span class=\"toc-item-num\">2.1.1.3&nbsp;&nbsp;</span>Multiple Params (Day 5, Week 4):</a></span></li><li><span><a href=\"#RandomizedSearchCV-(Day-5,-Week-4)\" data-toc-modified-id=\"RandomizedSearchCV-(Day-5,-Week-4)-2.1.1.4\"><span class=\"toc-item-num\">2.1.1.4&nbsp;&nbsp;</span>RandomizedSearchCV (Day 5, Week 4)</a></span></li><li><span><a href=\"#Take-the-best-model-and-generalise-(Day-5,-Week-4):\" data-toc-modified-id=\"Take-the-best-model-and-generalise-(Day-5,-Week-4):-2.1.1.5\"><span class=\"toc-item-num\">2.1.1.5&nbsp;&nbsp;</span>Take the best model and generalise (Day 5, Week 4):</a></span></li><li><span><a href=\"#cross_val_predict:\" data-toc-modified-id=\"cross_val_predict:-2.1.1.6\"><span class=\"toc-item-num\">2.1.1.6&nbsp;&nbsp;</span>cross_val_predict:</a></span></li></ul></li></ul></li><li><span><a href=\"#KMeans-Clustering\" data-toc-modified-id=\"KMeans-Clustering-2.2\"><span class=\"toc-item-num\">2.2&nbsp;&nbsp;</span>KMeans Clustering</a></span><ul class=\"toc-item\"><li><span><a href=\"#Elbow:\" data-toc-modified-id=\"Elbow:-2.2.1\"><span class=\"toc-item-num\">2.2.1&nbsp;&nbsp;</span>Elbow:</a></span></li><li><span><a href=\"#Pairplots:\" data-toc-modified-id=\"Pairplots:-2.2.2\"><span class=\"toc-item-num\">2.2.2&nbsp;&nbsp;</span>Pairplots:</a></span></li></ul></li></ul></li><li><span><a href=\"#Lin-Reg-/-Regression:\" data-toc-modified-id=\"Lin-Reg-/-Regression:-3\"><span class=\"toc-item-num\">3&nbsp;&nbsp;</span>Lin Reg / Regression:</a></span><ul class=\"toc-item\"><li><span><a href=\"#data_ad\" data-toc-modified-id=\"data_ad-3.1\"><span class=\"toc-item-num\">3.1&nbsp;&nbsp;</span>data_ad</a></span><ul class=\"toc-item\"><li><span><a href=\"#Predict-Unique-link-clicks:\" data-toc-modified-id=\"Predict-Unique-link-clicks:-3.1.1\"><span class=\"toc-item-num\">3.1.1&nbsp;&nbsp;</span>Predict Unique link clicks:</a></span><ul class=\"toc-item\"><li><span><a href=\"#Base-Model:\" data-toc-modified-id=\"Base-Model:-3.1.1.1\"><span class=\"toc-item-num\">3.1.1.1&nbsp;&nbsp;</span>Base Model:</a></span></li><li><span><a href=\"#Updated-model:\" data-toc-modified-id=\"Updated-model:-3.1.1.2\"><span class=\"toc-item-num\">3.1.1.2&nbsp;&nbsp;</span>Updated model:</a></span></li><li><span><a href=\"#cross_val_predict:\" data-toc-modified-id=\"cross_val_predict:-3.1.1.3\"><span class=\"toc-item-num\">3.1.1.3&nbsp;&nbsp;</span>cross_val_predict:</a></span></li></ul></li><li><span><a href=\"#Predict-Website-purchases:\" data-toc-modified-id=\"Predict-Website-purchases:-3.1.2\"><span class=\"toc-item-num\">3.1.2&nbsp;&nbsp;</span>Predict Website purchases:</a></span><ul class=\"toc-item\"><li><span><a href=\"#Base-model:\" data-toc-modified-id=\"Base-model:-3.1.2.1\"><span class=\"toc-item-num\">3.1.2.1&nbsp;&nbsp;</span>Base model:</a></span></li><li><span><a href=\"#Updated-model:\" data-toc-modified-id=\"Updated-model:-3.1.2.2\"><span class=\"toc-item-num\">3.1.2.2&nbsp;&nbsp;</span>Updated model:</a></span></li><li><span><a href=\"#cross_val_predict:\" data-toc-modified-id=\"cross_val_predict:-3.1.2.3\"><span class=\"toc-item-num\">3.1.2.3&nbsp;&nbsp;</span>cross_val_predict:</a></span></li><li><span><a href=\"#Predictions:\" data-toc-modified-id=\"Predictions:-3.1.2.4\"><span class=\"toc-item-num\">3.1.2.4&nbsp;&nbsp;</span>Predictions:</a></span></li><li><span><a href=\"#Updated-model-w/-registration-CR:\" data-toc-modified-id=\"Updated-model-w/-registration-CR:-3.1.2.5\"><span class=\"toc-item-num\">3.1.2.5&nbsp;&nbsp;</span>Updated model w/ registration CR:</a></span><ul class=\"toc-item\"><li><span><a href=\"#cross_val_predict:\" data-toc-modified-id=\"cross_val_predict:-3.1.2.5.1\"><span class=\"toc-item-num\">3.1.2.5.1&nbsp;&nbsp;</span>cross_val_predict:</a></span></li><li><span><a href=\"#Predictions:\" data-toc-modified-id=\"Predictions:-3.1.2.5.2\"><span class=\"toc-item-num\">3.1.2.5.2&nbsp;&nbsp;</span>Predictions:</a></span></li></ul></li></ul></li></ul></li><li><span><a href=\"#data_ad_scaled:\" data-toc-modified-id=\"data_ad_scaled:-3.2\"><span class=\"toc-item-num\">3.2&nbsp;&nbsp;</span>data_ad_scaled:</a></span><ul class=\"toc-item\"><li><span><a href=\"#base-model:\" data-toc-modified-id=\"base-model:-3.2.1\"><span class=\"toc-item-num\">3.2.1&nbsp;&nbsp;</span>base model:</a></span></li><li><span><a href=\"#Finetuned-the-model:\" data-toc-modified-id=\"Finetuned-the-model:-3.2.2\"><span class=\"toc-item-num\">3.2.2&nbsp;&nbsp;</span>Finetuned the model:</a></span></li><li><span><a href=\"#cross_val_predict:\" data-toc-modified-id=\"cross_val_predict:-3.2.3\"><span class=\"toc-item-num\">3.2.3&nbsp;&nbsp;</span>cross_val_predict:</a></span></li><li><span><a href=\"#Predictions:\" data-toc-modified-id=\"Predictions:-3.2.4\"><span class=\"toc-item-num\">3.2.4&nbsp;&nbsp;</span>Predictions:</a></span></li></ul></li><li><span><a href=\"#Data_daily:\" data-toc-modified-id=\"Data_daily:-3.3\"><span class=\"toc-item-num\">3.3&nbsp;&nbsp;</span>Data_daily:</a></span></li></ul></li><li><span><a href=\"#Log-Reg-/-Classification:\" data-toc-modified-id=\"Log-Reg-/-Classification:-4\"><span class=\"toc-item-num\">4&nbsp;&nbsp;</span>Log Reg / Classification:</a></span><ul class=\"toc-item\"><li><span><a href=\"#Log-Reg:\" data-toc-modified-id=\"Log-Reg:-4.1\"><span class=\"toc-item-num\">4.1&nbsp;&nbsp;</span>Log Reg:</a></span><ul class=\"toc-item\"><li><span><a href=\"#Predict-CTR_Class:\" data-toc-modified-id=\"Predict-CTR_Class:-4.1.1\"><span class=\"toc-item-num\">4.1.1&nbsp;&nbsp;</span>Predict CTR_Class:</a></span></li><li><span><a href=\"#Predict-CR_Class:\" data-toc-modified-id=\"Predict-CR_Class:-4.1.2\"><span class=\"toc-item-num\">4.1.2&nbsp;&nbsp;</span>Predict CR_Class:</a></span></li></ul></li><li><span><a href=\"#LogReg-w/:-pipe,-grid-&amp;-Pre-Processor-Tuning\" data-toc-modified-id=\"LogReg-w/:-pipe,-grid-&amp;-Pre-Processor-Tuning-4.2\"><span class=\"toc-item-num\">4.2&nbsp;&nbsp;</span>LogReg w/: pipe, grid &amp; Pre-Processor Tuning</a></span><ul class=\"toc-item\"><li><span><a href=\"#data_ad:\" data-toc-modified-id=\"data_ad:-4.2.1\"><span class=\"toc-item-num\">4.2.1&nbsp;&nbsp;</span>data_ad:</a></span></li><li><span><a href=\"#data_daily:\" data-toc-modified-id=\"data_daily:-4.2.2\"><span class=\"toc-item-num\">4.2.2&nbsp;&nbsp;</span>data_daily:</a></span></li></ul></li><li><span><a href=\"#Regularisation:\" data-toc-modified-id=\"Regularisation:-4.3\"><span class=\"toc-item-num\">4.3&nbsp;&nbsp;</span>Regularisation:</a></span><ul class=\"toc-item\"><li><span><a href=\"#Base-Model:\" data-toc-modified-id=\"Base-Model:-4.3.1\"><span class=\"toc-item-num\">4.3.1&nbsp;&nbsp;</span>Base Model:</a></span></li><li><span><a href=\"#L2-Penalty:\" data-toc-modified-id=\"L2-Penalty:-4.3.2\"><span class=\"toc-item-num\">4.3.2&nbsp;&nbsp;</span>L2 Penalty:</a></span></li><li><span><a href=\"#L1-Penalty:\" data-toc-modified-id=\"L1-Penalty:-4.3.3\"><span class=\"toc-item-num\">4.3.3&nbsp;&nbsp;</span>L1 Penalty:</a></span></li></ul></li><li><span><a href=\"#SVM:\" data-toc-modified-id=\"SVM:-4.4\"><span class=\"toc-item-num\">4.4&nbsp;&nbsp;</span>SVM:</a></span><ul class=\"toc-item\"><li><span><a href=\"#plot_decision_regions():\" data-toc-modified-id=\"plot_decision_regions():-4.4.1\"><span class=\"toc-item-num\">4.4.1&nbsp;&nbsp;</span>plot_decision_regions():</a></span></li><li><span><a href=\"#Random-Search-(SVM,-Day-5,-Week-4)\" data-toc-modified-id=\"Random-Search-(SVM,-Day-5,-Week-4)-4.4.2\"><span class=\"toc-item-num\">4.4.2&nbsp;&nbsp;</span>Random Search (SVM, Day 5, Week 4)</a></span></li><li><span><a href=\"#Gridsearch-/-SVC:\" data-toc-modified-id=\"Gridsearch-/-SVC:-4.4.3\"><span class=\"toc-item-num\">4.4.3&nbsp;&nbsp;</span>Gridsearch / SVC:</a></span><ul class=\"toc-item\"><li><span><a href=\"#Predict-CTR_class:\" data-toc-modified-id=\"Predict-CTR_class:-4.4.3.1\"><span class=\"toc-item-num\">4.4.3.1&nbsp;&nbsp;</span>Predict CTR_class:</a></span></li><li><span><a href=\"#Predict-CR_class\" data-toc-modified-id=\"Predict-CR_class-4.4.3.2\"><span class=\"toc-item-num\">4.4.3.2&nbsp;&nbsp;</span>Predict CR_class</a></span></li><li><span><a href=\"#Make-CR_class-predictions:\" data-toc-modified-id=\"Make-CR_class-predictions:-4.4.3.3\"><span class=\"toc-item-num\">4.4.3.3&nbsp;&nbsp;</span>Make CR_class predictions:</a></span></li></ul></li><li><span><a href=\"#Pipeline-(incl-KNN):\" data-toc-modified-id=\"Pipeline-(incl-KNN):-4.4.4\"><span class=\"toc-item-num\">4.4.4&nbsp;&nbsp;</span>Pipeline (incl KNN):</a></span></li><li><span><a href=\"#RandomizedSearch,-Pipeline-Tuning:\" data-toc-modified-id=\"RandomizedSearch,-Pipeline-Tuning:-4.4.5\"><span class=\"toc-item-num\">4.4.5&nbsp;&nbsp;</span>RandomizedSearch, Pipeline Tuning:</a></span><ul class=\"toc-item\"><li><span><a href=\"#data_ad\" data-toc-modified-id=\"data_ad-4.4.5.1\"><span class=\"toc-item-num\">4.4.5.1&nbsp;&nbsp;</span>data_ad</a></span></li><li><span><a href=\"#data_daily:\" data-toc-modified-id=\"data_daily:-4.4.5.2\"><span class=\"toc-item-num\">4.4.5.2&nbsp;&nbsp;</span>data_daily:</a></span></li></ul></li></ul></li></ul></li></ul></div>"
   ]
  },
  {
   "cell_type": "code",
   "execution_count": 36,
   "metadata": {
    "ExecuteTime": {
     "end_time": "2021-03-26T18:18:30.933242Z",
     "start_time": "2021-03-26T18:18:30.925693Z"
    }
   },
   "outputs": [],
   "source": [
    "import pyforest\n",
    "from sklearn.svm import SVC\n",
    "from sklearn.pipeline import Pipeline\n",
    "from sklearn.model_selection import GridSearchCV, RandomizedSearchCV, cross_val_score, cross_val_predict\n",
    "from sklearn.metrics import classification_report\n",
    "from sklearn.neighbors import KNeighborsClassifier\n",
    "from sklearn.inspection import permutation_importance\n",
    "from sklearn.impute import SimpleImputer\n",
    "from sklearn.svm import SVC\n",
    "from scipy.stats import uniform\n",
    "from sklearn.preprocessing import MinMaxScaler, StandardScaler\n",
    "from sklearn.linear_model import LinearRegression\n",
    "from sklearn.model_selection import train_test_split\n",
    "from sklearn.inspection import permutation_importance "
   ]
  },
  {
   "cell_type": "markdown",
   "metadata": {},
   "source": [
    "# Data:  "
   ]
  },
  {
   "cell_type": "markdown",
   "metadata": {},
   "source": [
    "## Load data: "
   ]
  },
  {
   "cell_type": "code",
   "execution_count": 1,
   "metadata": {
    "ExecuteTime": {
     "end_time": "2021-04-06T14:54:38.199914Z",
     "start_time": "2021-04-06T14:54:38.018793Z"
    }
   },
   "outputs": [
    {
     "data": {
      "application/javascript": [
       "\n",
       "        if (window._pyforest_update_imports_cell) { window._pyforest_update_imports_cell('import pandas as pd'); }\n",
       "    "
      ],
      "text/plain": [
       "<IPython.core.display.Javascript object>"
      ]
     },
     "metadata": {},
     "output_type": "display_data"
    },
    {
     "data": {
      "text/html": [
       "<div>\n",
       "<style scoped>\n",
       "    .dataframe tbody tr th:only-of-type {\n",
       "        vertical-align: middle;\n",
       "    }\n",
       "\n",
       "    .dataframe tbody tr th {\n",
       "        vertical-align: top;\n",
       "    }\n",
       "\n",
       "    .dataframe thead th {\n",
       "        text-align: right;\n",
       "    }\n",
       "</style>\n",
       "<table border=\"1\" class=\"dataframe\">\n",
       "  <thead>\n",
       "    <tr style=\"text-align: right;\">\n",
       "      <th></th>\n",
       "      <th>Date</th>\n",
       "      <th>Ad set name</th>\n",
       "      <th>Ad name</th>\n",
       "      <th>Campaign name</th>\n",
       "      <th>Impressions</th>\n",
       "      <th>Cost</th>\n",
       "      <th>Website purchases</th>\n",
       "      <th>Cost per website purchase</th>\n",
       "      <th>CPC (cost per link click)</th>\n",
       "      <th>CTR (link click-through rate)</th>\n",
       "      <th>...</th>\n",
       "      <th>Unique adds to cart</th>\n",
       "      <th>Website leads</th>\n",
       "      <th>Unique link clicks</th>\n",
       "      <th>Unique mobile app adds of payment info</th>\n",
       "      <th>Conversion rate ranking</th>\n",
       "      <th>Post shares</th>\n",
       "      <th>Return on ad spend (ROAS)</th>\n",
       "      <th>Unique completed registrations</th>\n",
       "      <th>Post comments</th>\n",
       "      <th>Impressions_2</th>\n",
       "    </tr>\n",
       "  </thead>\n",
       "  <tbody>\n",
       "    <tr>\n",
       "      <th>0</th>\n",
       "      <td>2020-08-01</td>\n",
       "      <td>Post: \"\"Here lies DeadHappy. It was a bit of a...</td>\n",
       "      <td>Post: \"\"Here lies DeadHappy. It was a bit of a...</td>\n",
       "      <td>Post: \"\"Here lies DeadHappy. It was a bit of a...</td>\n",
       "      <td>350.0</td>\n",
       "      <td>3.18</td>\n",
       "      <td>NaN</td>\n",
       "      <td>NaN</td>\n",
       "      <td>NaN</td>\n",
       "      <td>0.00</td>\n",
       "      <td>...</td>\n",
       "      <td>NaN</td>\n",
       "      <td>NaN</td>\n",
       "      <td>NaN</td>\n",
       "      <td>NaN</td>\n",
       "      <td>0.0</td>\n",
       "      <td>NaN</td>\n",
       "      <td>0.0</td>\n",
       "      <td>NaN</td>\n",
       "      <td>6.0</td>\n",
       "      <td>350.0</td>\n",
       "    </tr>\n",
       "    <tr>\n",
       "      <th>1</th>\n",
       "      <td>2020-08-01</td>\n",
       "      <td>customers-ll-1pc_all-placements</td>\n",
       "      <td>bread-4:5_video</td>\n",
       "      <td>pollenary_1-cold_wc-registration_uk-ll-1pc-25-44</td>\n",
       "      <td>16008.0</td>\n",
       "      <td>143.22</td>\n",
       "      <td>NaN</td>\n",
       "      <td>NaN</td>\n",
       "      <td>2.2</td>\n",
       "      <td>0.41</td>\n",
       "      <td>...</td>\n",
       "      <td>NaN</td>\n",
       "      <td>NaN</td>\n",
       "      <td>64.0</td>\n",
       "      <td>NaN</td>\n",
       "      <td>0.0</td>\n",
       "      <td>1.0</td>\n",
       "      <td>0.0</td>\n",
       "      <td>NaN</td>\n",
       "      <td>3.0</td>\n",
       "      <td>16008.0</td>\n",
       "    </tr>\n",
       "  </tbody>\n",
       "</table>\n",
       "<p>2 rows × 23 columns</p>\n",
       "</div>"
      ],
      "text/plain": [
       "         Date                                        Ad set name  \\\n",
       "0  2020-08-01  Post: \"\"Here lies DeadHappy. It was a bit of a...   \n",
       "1  2020-08-01                    customers-ll-1pc_all-placements   \n",
       "\n",
       "                                             Ad name  \\\n",
       "0  Post: \"\"Here lies DeadHappy. It was a bit of a...   \n",
       "1                                    bread-4:5_video   \n",
       "\n",
       "                                       Campaign name  Impressions    Cost  \\\n",
       "0  Post: \"\"Here lies DeadHappy. It was a bit of a...        350.0    3.18   \n",
       "1   pollenary_1-cold_wc-registration_uk-ll-1pc-25-44      16008.0  143.22   \n",
       "\n",
       "   Website purchases  Cost per website purchase  CPC (cost per link click)  \\\n",
       "0                NaN                        NaN                        NaN   \n",
       "1                NaN                        NaN                        2.2   \n",
       "\n",
       "   CTR (link click-through rate)  ...  Unique adds to cart  Website leads  \\\n",
       "0                           0.00  ...                  NaN            NaN   \n",
       "1                           0.41  ...                  NaN            NaN   \n",
       "\n",
       "   Unique link clicks  Unique mobile app adds of payment info  \\\n",
       "0                 NaN                                     NaN   \n",
       "1                64.0                                     NaN   \n",
       "\n",
       "   Conversion rate ranking  Post shares  Return on ad spend (ROAS)  \\\n",
       "0                      0.0          NaN                        0.0   \n",
       "1                      0.0          1.0                        0.0   \n",
       "\n",
       "   Unique completed registrations  Post comments  Impressions_2  \n",
       "0                             NaN            6.0          350.0  \n",
       "1                             NaN            3.0        16008.0  \n",
       "\n",
       "[2 rows x 23 columns]"
      ]
     },
     "metadata": {},
     "output_type": "display_data"
    },
    {
     "data": {
      "text/html": [
       "<div>\n",
       "<style scoped>\n",
       "    .dataframe tbody tr th:only-of-type {\n",
       "        vertical-align: middle;\n",
       "    }\n",
       "\n",
       "    .dataframe tbody tr th {\n",
       "        vertical-align: top;\n",
       "    }\n",
       "\n",
       "    .dataframe thead th {\n",
       "        text-align: right;\n",
       "    }\n",
       "</style>\n",
       "<table border=\"1\" class=\"dataframe\">\n",
       "  <thead>\n",
       "    <tr style=\"text-align: right;\">\n",
       "      <th></th>\n",
       "      <th>Impressions</th>\n",
       "      <th>Cost</th>\n",
       "      <th>Website purchases</th>\n",
       "      <th>Cost per website purchase</th>\n",
       "      <th>CPC (cost per link click)</th>\n",
       "      <th>CTR (link click-through rate)</th>\n",
       "      <th>Signup</th>\n",
       "      <th>Registration</th>\n",
       "      <th>Unique purchases</th>\n",
       "      <th>Unique adds to cart</th>\n",
       "      <th>Website leads</th>\n",
       "      <th>Unique link clicks</th>\n",
       "      <th>Unique mobile app adds of payment info</th>\n",
       "      <th>Conversion rate ranking</th>\n",
       "      <th>Post shares</th>\n",
       "      <th>Return on ad spend (ROAS)</th>\n",
       "      <th>Unique completed registrations</th>\n",
       "      <th>Post comments</th>\n",
       "      <th>Impressions_2</th>\n",
       "    </tr>\n",
       "  </thead>\n",
       "  <tbody>\n",
       "    <tr>\n",
       "      <th>count</th>\n",
       "      <td>8128.0</td>\n",
       "      <td>8128.0</td>\n",
       "      <td>1343.0</td>\n",
       "      <td>1343.0</td>\n",
       "      <td>6894.0</td>\n",
       "      <td>8128.0</td>\n",
       "      <td>125.0</td>\n",
       "      <td>3430.0</td>\n",
       "      <td>0.0</td>\n",
       "      <td>0.0</td>\n",
       "      <td>6.0</td>\n",
       "      <td>6894.0</td>\n",
       "      <td>0.0</td>\n",
       "      <td>8128.0</td>\n",
       "      <td>1184.0</td>\n",
       "      <td>8110.0</td>\n",
       "      <td>0.0</td>\n",
       "      <td>1902.0</td>\n",
       "      <td>8128.0</td>\n",
       "    </tr>\n",
       "    <tr>\n",
       "      <th>mean</th>\n",
       "      <td>8701.7</td>\n",
       "      <td>67.1</td>\n",
       "      <td>1.8</td>\n",
       "      <td>125.5</td>\n",
       "      <td>3.4</td>\n",
       "      <td>0.4</td>\n",
       "      <td>1.3</td>\n",
       "      <td>4.7</td>\n",
       "      <td>NaN</td>\n",
       "      <td>NaN</td>\n",
       "      <td>1.0</td>\n",
       "      <td>30.2</td>\n",
       "      <td>NaN</td>\n",
       "      <td>0.2</td>\n",
       "      <td>7.0</td>\n",
       "      <td>5.7</td>\n",
       "      <td>NaN</td>\n",
       "      <td>2.5</td>\n",
       "      <td>8701.7</td>\n",
       "    </tr>\n",
       "    <tr>\n",
       "      <th>std</th>\n",
       "      <td>20255.4</td>\n",
       "      <td>150.4</td>\n",
       "      <td>1.4</td>\n",
       "      <td>137.9</td>\n",
       "      <td>2.9</td>\n",
       "      <td>0.5</td>\n",
       "      <td>0.5</td>\n",
       "      <td>7.0</td>\n",
       "      <td>NaN</td>\n",
       "      <td>NaN</td>\n",
       "      <td>0.0</td>\n",
       "      <td>68.3</td>\n",
       "      <td>NaN</td>\n",
       "      <td>0.8</td>\n",
       "      <td>17.3</td>\n",
       "      <td>33.7</td>\n",
       "      <td>NaN</td>\n",
       "      <td>4.0</td>\n",
       "      <td>20255.4</td>\n",
       "    </tr>\n",
       "    <tr>\n",
       "      <th>min</th>\n",
       "      <td>1.0</td>\n",
       "      <td>0.0</td>\n",
       "      <td>1.0</td>\n",
       "      <td>1.8</td>\n",
       "      <td>0.0</td>\n",
       "      <td>0.0</td>\n",
       "      <td>1.0</td>\n",
       "      <td>1.0</td>\n",
       "      <td>NaN</td>\n",
       "      <td>NaN</td>\n",
       "      <td>1.0</td>\n",
       "      <td>1.0</td>\n",
       "      <td>NaN</td>\n",
       "      <td>0.0</td>\n",
       "      <td>1.0</td>\n",
       "      <td>0.0</td>\n",
       "      <td>NaN</td>\n",
       "      <td>1.0</td>\n",
       "      <td>1.0</td>\n",
       "    </tr>\n",
       "    <tr>\n",
       "      <th>25%</th>\n",
       "      <td>565.0</td>\n",
       "      <td>5.0</td>\n",
       "      <td>1.0</td>\n",
       "      <td>32.2</td>\n",
       "      <td>1.7</td>\n",
       "      <td>0.2</td>\n",
       "      <td>1.0</td>\n",
       "      <td>1.0</td>\n",
       "      <td>NaN</td>\n",
       "      <td>NaN</td>\n",
       "      <td>1.0</td>\n",
       "      <td>3.0</td>\n",
       "      <td>NaN</td>\n",
       "      <td>0.0</td>\n",
       "      <td>1.0</td>\n",
       "      <td>0.0</td>\n",
       "      <td>NaN</td>\n",
       "      <td>1.0</td>\n",
       "      <td>565.0</td>\n",
       "    </tr>\n",
       "    <tr>\n",
       "      <th>50%</th>\n",
       "      <td>1776.5</td>\n",
       "      <td>17.0</td>\n",
       "      <td>1.0</td>\n",
       "      <td>82.7</td>\n",
       "      <td>2.8</td>\n",
       "      <td>0.3</td>\n",
       "      <td>1.0</td>\n",
       "      <td>2.0</td>\n",
       "      <td>NaN</td>\n",
       "      <td>NaN</td>\n",
       "      <td>1.0</td>\n",
       "      <td>9.0</td>\n",
       "      <td>NaN</td>\n",
       "      <td>0.0</td>\n",
       "      <td>1.0</td>\n",
       "      <td>0.0</td>\n",
       "      <td>NaN</td>\n",
       "      <td>1.0</td>\n",
       "      <td>1776.5</td>\n",
       "    </tr>\n",
       "    <tr>\n",
       "      <th>75%</th>\n",
       "      <td>7760.0</td>\n",
       "      <td>59.9</td>\n",
       "      <td>2.0</td>\n",
       "      <td>172.5</td>\n",
       "      <td>4.2</td>\n",
       "      <td>0.5</td>\n",
       "      <td>1.0</td>\n",
       "      <td>5.0</td>\n",
       "      <td>NaN</td>\n",
       "      <td>NaN</td>\n",
       "      <td>1.0</td>\n",
       "      <td>26.0</td>\n",
       "      <td>NaN</td>\n",
       "      <td>0.0</td>\n",
       "      <td>4.0</td>\n",
       "      <td>0.0</td>\n",
       "      <td>NaN</td>\n",
       "      <td>2.0</td>\n",
       "      <td>7760.0</td>\n",
       "    </tr>\n",
       "    <tr>\n",
       "      <th>max</th>\n",
       "      <td>317885.0</td>\n",
       "      <td>2050.7</td>\n",
       "      <td>13.0</td>\n",
       "      <td>1092.2</td>\n",
       "      <td>38.8</td>\n",
       "      <td>12.5</td>\n",
       "      <td>4.0</td>\n",
       "      <td>63.0</td>\n",
       "      <td>NaN</td>\n",
       "      <td>NaN</td>\n",
       "      <td>1.0</td>\n",
       "      <td>1364.0</td>\n",
       "      <td>NaN</td>\n",
       "      <td>10.0</td>\n",
       "      <td>260.0</td>\n",
       "      <td>1143.4</td>\n",
       "      <td>NaN</td>\n",
       "      <td>84.0</td>\n",
       "      <td>317885.0</td>\n",
       "    </tr>\n",
       "  </tbody>\n",
       "</table>\n",
       "</div>"
      ],
      "text/plain": [
       "       Impressions    Cost  Website purchases  Cost per website purchase  \\\n",
       "count       8128.0  8128.0             1343.0                     1343.0   \n",
       "mean        8701.7    67.1                1.8                      125.5   \n",
       "std        20255.4   150.4                1.4                      137.9   \n",
       "min            1.0     0.0                1.0                        1.8   \n",
       "25%          565.0     5.0                1.0                       32.2   \n",
       "50%         1776.5    17.0                1.0                       82.7   \n",
       "75%         7760.0    59.9                2.0                      172.5   \n",
       "max       317885.0  2050.7               13.0                     1092.2   \n",
       "\n",
       "       CPC (cost per link click)  CTR (link click-through rate)  Signup  \\\n",
       "count                     6894.0                         8128.0   125.0   \n",
       "mean                         3.4                            0.4     1.3   \n",
       "std                          2.9                            0.5     0.5   \n",
       "min                          0.0                            0.0     1.0   \n",
       "25%                          1.7                            0.2     1.0   \n",
       "50%                          2.8                            0.3     1.0   \n",
       "75%                          4.2                            0.5     1.0   \n",
       "max                         38.8                           12.5     4.0   \n",
       "\n",
       "       Registration  Unique purchases  Unique adds to cart  Website leads  \\\n",
       "count        3430.0               0.0                  0.0            6.0   \n",
       "mean            4.7               NaN                  NaN            1.0   \n",
       "std             7.0               NaN                  NaN            0.0   \n",
       "min             1.0               NaN                  NaN            1.0   \n",
       "25%             1.0               NaN                  NaN            1.0   \n",
       "50%             2.0               NaN                  NaN            1.0   \n",
       "75%             5.0               NaN                  NaN            1.0   \n",
       "max            63.0               NaN                  NaN            1.0   \n",
       "\n",
       "       Unique link clicks  Unique mobile app adds of payment info  \\\n",
       "count              6894.0                                     0.0   \n",
       "mean                 30.2                                     NaN   \n",
       "std                  68.3                                     NaN   \n",
       "min                   1.0                                     NaN   \n",
       "25%                   3.0                                     NaN   \n",
       "50%                   9.0                                     NaN   \n",
       "75%                  26.0                                     NaN   \n",
       "max                1364.0                                     NaN   \n",
       "\n",
       "       Conversion rate ranking  Post shares  Return on ad spend (ROAS)  \\\n",
       "count                   8128.0       1184.0                     8110.0   \n",
       "mean                       0.2          7.0                        5.7   \n",
       "std                        0.8         17.3                       33.7   \n",
       "min                        0.0          1.0                        0.0   \n",
       "25%                        0.0          1.0                        0.0   \n",
       "50%                        0.0          1.0                        0.0   \n",
       "75%                        0.0          4.0                        0.0   \n",
       "max                       10.0        260.0                     1143.4   \n",
       "\n",
       "       Unique completed registrations  Post comments  Impressions_2  \n",
       "count                             0.0         1902.0         8128.0  \n",
       "mean                              NaN            2.5         8701.7  \n",
       "std                               NaN            4.0        20255.4  \n",
       "min                               NaN            1.0            1.0  \n",
       "25%                               NaN            1.0          565.0  \n",
       "50%                               NaN            1.0         1776.5  \n",
       "75%                               NaN            2.0         7760.0  \n",
       "max                               NaN           84.0       317885.0  "
      ]
     },
     "metadata": {},
     "output_type": "display_data"
    },
    {
     "name": "stdout",
     "output_type": "stream",
     "text": [
      "\n",
      "Variable:                                  Type:\n",
      "Date                                       object\n",
      "Ad set name                                object\n",
      "Ad name                                    object\n",
      "Campaign name                              object\n",
      "Impressions                               float64\n",
      "Cost                                      float64\n",
      "Website purchases                         float64\n",
      "Cost per website purchase                 float64\n",
      "CPC (cost per link click)                 float64\n",
      "CTR (link click-through rate)             float64\n",
      "Signup                                    float64\n",
      "Registration                              float64\n",
      "Unique purchases                          float64\n",
      "Unique adds to cart                       float64\n",
      "Website leads                             float64\n",
      "Unique link clicks                        float64\n",
      "Unique mobile app adds of payment info    float64\n",
      "Conversion rate ranking                   float64\n",
      "Post shares                               float64\n",
      "Return on ad spend (ROAS)                 float64\n",
      "Unique completed registrations            float64\n",
      "Post comments                             float64\n",
      "Impressions_2                             float64\n",
      "dtype: object\n"
     ]
    }
   ],
   "source": [
    "data = pd.read_csv(\"DH data sheet - Sheet1 (2).csv\")\n",
    "\n",
    "# Add a second column of Impressions, so we can count how many days is was Live.\n",
    "data[\"Impressions_2\"] = data.Impressions\n",
    "\n",
    "#Remove commas from Cost and make it a float: \n",
    "data[\"Cost\"] = data.Cost.replace('[^\\d.]', '', regex = True)                     \\\n",
    "                        .astype(float)\n",
    "\n",
    "display(data.head(2))\n",
    "\n",
    "display(data.describe().round(1))\n",
    "\n",
    "print(f\"\"\"\\nVariable:                                  Type:\\n{data.dtypes}\"\"\")"
   ]
  },
  {
   "cell_type": "markdown",
   "metadata": {},
   "source": [
    "## Group the data:"
   ]
  },
  {
   "cell_type": "markdown",
   "metadata": {},
   "source": [
    "### data_daily: "
   ]
  },
  {
   "cell_type": "code",
   "execution_count": 2,
   "metadata": {
    "ExecuteTime": {
     "end_time": "2021-04-06T14:54:40.530266Z",
     "start_time": "2021-04-06T14:54:40.310759Z"
    }
   },
   "outputs": [
    {
     "data": {
      "application/javascript": [
       "\n",
       "        if (window._pyforest_update_imports_cell) { window._pyforest_update_imports_cell('import pandas as pd\\nimport numpy as np'); }\n",
       "    "
      ],
      "text/plain": [
       "<IPython.core.display.Javascript object>"
      ]
     },
     "metadata": {},
     "output_type": "display_data"
    },
    {
     "data": {
      "application/javascript": [
       "\n",
       "        if (window._pyforest_update_imports_cell) { window._pyforest_update_imports_cell('import pandas as pd\\nimport numpy as np'); }\n",
       "    "
      ],
      "text/plain": [
       "<IPython.core.display.Javascript object>"
      ]
     },
     "metadata": {},
     "output_type": "display_data"
    },
    {
     "data": {
      "application/javascript": [
       "\n",
       "        if (window._pyforest_update_imports_cell) { window._pyforest_update_imports_cell('import pandas as pd\\nimport numpy as np'); }\n",
       "    "
      ],
      "text/plain": [
       "<IPython.core.display.Javascript object>"
      ]
     },
     "metadata": {},
     "output_type": "display_data"
    },
    {
     "data": {
      "application/javascript": [
       "\n",
       "        if (window._pyforest_update_imports_cell) { window._pyforest_update_imports_cell('import pandas as pd\\nimport numpy as np'); }\n",
       "    "
      ],
      "text/plain": [
       "<IPython.core.display.Javascript object>"
      ]
     },
     "metadata": {},
     "output_type": "display_data"
    },
    {
     "data": {
      "application/javascript": [
       "\n",
       "        if (window._pyforest_update_imports_cell) { window._pyforest_update_imports_cell('import pandas as pd\\nimport numpy as np'); }\n",
       "    "
      ],
      "text/plain": [
       "<IPython.core.display.Javascript object>"
      ]
     },
     "metadata": {},
     "output_type": "display_data"
    },
    {
     "data": {
      "application/javascript": [
       "\n",
       "        if (window._pyforest_update_imports_cell) { window._pyforest_update_imports_cell('import pandas as pd\\nimport numpy as np'); }\n",
       "    "
      ],
      "text/plain": [
       "<IPython.core.display.Javascript object>"
      ]
     },
     "metadata": {},
     "output_type": "display_data"
    },
    {
     "name": "stdout",
     "output_type": "stream",
     "text": [
      "0    6802\n",
      "1    1333\n",
      "Name: CR_class, dtype: int64\n",
      "Date                                       object\n",
      "Ad set name                                object\n",
      "Ad name                                    object\n",
      "Campaign name                              object\n",
      "Impressions                               float64\n",
      "Cost                                      float64\n",
      "Website purchases                         float64\n",
      "Cost per website purchase                 float64\n",
      "CPC (cost per link click)                 float64\n",
      "CTR (link click-through rate)             float64\n",
      "Signup                                    float64\n",
      "Registration                              float64\n",
      "Unique purchases                          float64\n",
      "Unique adds to cart                       float64\n",
      "Website leads                             float64\n",
      "Unique link clicks                        float64\n",
      "Unique mobile app adds of payment info    float64\n",
      "Conversion rate ranking                   float64\n",
      "Post shares                               float64\n",
      "Return on ad spend (ROAS)                 float64\n",
      "Unique completed registrations            float64\n",
      "Post comments                             float64\n",
      "Impressions_2                             float64\n",
      "CR                                        float64\n",
      "CR_class                                   object\n",
      "dtype: object\n",
      "Date                                      False\n",
      "Ad set name                               False\n",
      "Ad name                                   False\n",
      "Campaign name                             False\n",
      "Impressions                               False\n",
      "Cost                                      False\n",
      "Website purchases                         False\n",
      "Cost per website purchase                 False\n",
      "CPC (cost per link click)                 False\n",
      "CTR (link click-through rate)             False\n",
      "Signup                                    False\n",
      "Registration                              False\n",
      "Unique purchases                          False\n",
      "Unique adds to cart                       False\n",
      "Website leads                             False\n",
      "Unique link clicks                        False\n",
      "Unique mobile app adds of payment info    False\n",
      "Conversion rate ranking                   False\n",
      "Post shares                               False\n",
      "Return on ad spend (ROAS)                 False\n",
      "Unique completed registrations            False\n",
      "Post comments                             False\n",
      "Impressions_2                             False\n",
      "CR                                        False\n",
      "CR_class                                  False\n",
      "dtype: bool\n"
     ]
    },
    {
     "data": {
      "text/html": [
       "<div>\n",
       "<style scoped>\n",
       "    .dataframe tbody tr th:only-of-type {\n",
       "        vertical-align: middle;\n",
       "    }\n",
       "\n",
       "    .dataframe tbody tr th {\n",
       "        vertical-align: top;\n",
       "    }\n",
       "\n",
       "    .dataframe thead th {\n",
       "        text-align: right;\n",
       "    }\n",
       "</style>\n",
       "<table border=\"1\" class=\"dataframe\">\n",
       "  <thead>\n",
       "    <tr style=\"text-align: right;\">\n",
       "      <th></th>\n",
       "      <th>Date</th>\n",
       "      <th>Ad set name</th>\n",
       "      <th>Ad name</th>\n",
       "      <th>Campaign name</th>\n",
       "      <th>Impressions</th>\n",
       "      <th>Cost</th>\n",
       "      <th>Website purchases</th>\n",
       "      <th>Cost per website purchase</th>\n",
       "      <th>CPC (cost per link click)</th>\n",
       "      <th>CTR (link click-through rate)</th>\n",
       "      <th>...</th>\n",
       "      <th>Unique link clicks</th>\n",
       "      <th>Unique mobile app adds of payment info</th>\n",
       "      <th>Conversion rate ranking</th>\n",
       "      <th>Post shares</th>\n",
       "      <th>Return on ad spend (ROAS)</th>\n",
       "      <th>Unique completed registrations</th>\n",
       "      <th>Post comments</th>\n",
       "      <th>Impressions_2</th>\n",
       "      <th>CR</th>\n",
       "      <th>CR_class</th>\n",
       "    </tr>\n",
       "  </thead>\n",
       "  <tbody>\n",
       "    <tr>\n",
       "      <th>0</th>\n",
       "      <td>2020-08-01</td>\n",
       "      <td>Post: \"\"Here lies DeadHappy. It was a bit of a...</td>\n",
       "      <td>Post: \"\"Here lies DeadHappy. It was a bit of a...</td>\n",
       "      <td>Post: \"\"Here lies DeadHappy. It was a bit of a...</td>\n",
       "      <td>350.0</td>\n",
       "      <td>3.18</td>\n",
       "      <td>0.0</td>\n",
       "      <td>0.0</td>\n",
       "      <td>0.0</td>\n",
       "      <td>0.0</td>\n",
       "      <td>...</td>\n",
       "      <td>0.0</td>\n",
       "      <td>0.0</td>\n",
       "      <td>0.0</td>\n",
       "      <td>0.0</td>\n",
       "      <td>0.0</td>\n",
       "      <td>0.0</td>\n",
       "      <td>6.0</td>\n",
       "      <td>350.0</td>\n",
       "      <td>0.0</td>\n",
       "      <td>0</td>\n",
       "    </tr>\n",
       "  </tbody>\n",
       "</table>\n",
       "<p>1 rows × 25 columns</p>\n",
       "</div>"
      ],
      "text/plain": [
       "         Date                                        Ad set name  \\\n",
       "0  2020-08-01  Post: \"\"Here lies DeadHappy. It was a bit of a...   \n",
       "\n",
       "                                             Ad name  \\\n",
       "0  Post: \"\"Here lies DeadHappy. It was a bit of a...   \n",
       "\n",
       "                                       Campaign name  Impressions  Cost  \\\n",
       "0  Post: \"\"Here lies DeadHappy. It was a bit of a...        350.0  3.18   \n",
       "\n",
       "   Website purchases  Cost per website purchase  CPC (cost per link click)  \\\n",
       "0                0.0                        0.0                        0.0   \n",
       "\n",
       "   CTR (link click-through rate)  ...  Unique link clicks  \\\n",
       "0                            0.0  ...                 0.0   \n",
       "\n",
       "   Unique mobile app adds of payment info  Conversion rate ranking  \\\n",
       "0                                     0.0                      0.0   \n",
       "\n",
       "   Post shares  Return on ad spend (ROAS)  Unique completed registrations  \\\n",
       "0          0.0                        0.0                             0.0   \n",
       "\n",
       "   Post comments  Impressions_2   CR  CR_class  \n",
       "0            6.0          350.0  0.0         0  \n",
       "\n",
       "[1 rows x 25 columns]"
      ]
     },
     "execution_count": 2,
     "metadata": {},
     "output_type": "execute_result"
    }
   ],
   "source": [
    "data_daily = data.copy().replace(to_replace = np.nan, value = 0)\n",
    "\n",
    "# Add CR:\n",
    "data_daily[\"CR\"] = data_daily[\"Website purchases\"] / data_daily[\"Unique link clicks\"]  \n",
    "\n",
    "# Remove inf values: \n",
    "data_daily = data_daily.replace(np.inf, 0) \n",
    "\n",
    "# Remove NaN values: \n",
    "data_daily = data_daily.replace(to_replace = np.nan, value = 0) \n",
    "\n",
    "# Add CR_class:\n",
    "data_daily[\"CR_class\"] = pd.cut(data_daily.CR, \n",
    "                                bins = [data_daily.CR.min() - 1, \n",
    "                                        data_daily.CR.median(), \n",
    "                                        data_daily.CR.max() + 1], \n",
    "                                labels = [\"0\", \"1\"])\n",
    "\n",
    "data_daily = data_daily.replace(to_replace = np.nan, value = 0)\n",
    "\n",
    "data_daily = data_daily.replace(np.inf, 0) \n",
    "\n",
    "print(data_daily[\"CR_class\"].value_counts()) \n",
    "print(data_daily.dtypes) \n",
    "print(data_daily.isnull().any()) \n",
    "data_daily.head(1)"
   ]
  },
  {
   "cell_type": "markdown",
   "metadata": {},
   "source": [
    "### data_ad: "
   ]
  },
  {
   "cell_type": "code",
   "execution_count": 3,
   "metadata": {
    "ExecuteTime": {
     "end_time": "2021-04-06T14:54:42.037146Z",
     "start_time": "2021-04-06T14:54:41.877580Z"
    },
    "scrolled": false
   },
   "outputs": [
    {
     "data": {
      "application/javascript": [
       "\n",
       "        if (window._pyforest_update_imports_cell) { window._pyforest_update_imports_cell('import pandas as pd\\nimport numpy as np'); }\n",
       "    "
      ],
      "text/plain": [
       "<IPython.core.display.Javascript object>"
      ]
     },
     "metadata": {},
     "output_type": "display_data"
    },
    {
     "data": {
      "application/javascript": [
       "\n",
       "        if (window._pyforest_update_imports_cell) { window._pyforest_update_imports_cell('import pandas as pd\\nimport numpy as np'); }\n",
       "    "
      ],
      "text/plain": [
       "<IPython.core.display.Javascript object>"
      ]
     },
     "metadata": {},
     "output_type": "display_data"
    },
    {
     "data": {
      "application/javascript": [
       "\n",
       "        if (window._pyforest_update_imports_cell) { window._pyforest_update_imports_cell('import pandas as pd\\nimport numpy as np'); }\n",
       "    "
      ],
      "text/plain": [
       "<IPython.core.display.Javascript object>"
      ]
     },
     "metadata": {},
     "output_type": "display_data"
    },
    {
     "data": {
      "application/javascript": [
       "\n",
       "        if (window._pyforest_update_imports_cell) { window._pyforest_update_imports_cell('import pandas as pd\\nimport numpy as np'); }\n",
       "    "
      ],
      "text/plain": [
       "<IPython.core.display.Javascript object>"
      ]
     },
     "metadata": {},
     "output_type": "display_data"
    },
    {
     "name": "stdout",
     "output_type": "stream",
     "text": [
      "Maximum value in CR is: 0.18\n"
     ]
    },
    {
     "data": {
      "text/html": [
       "<div>\n",
       "<style scoped>\n",
       "    .dataframe tbody tr th:only-of-type {\n",
       "        vertical-align: middle;\n",
       "    }\n",
       "\n",
       "    .dataframe tbody tr th {\n",
       "        vertical-align: top;\n",
       "    }\n",
       "\n",
       "    .dataframe thead th {\n",
       "        text-align: right;\n",
       "    }\n",
       "</style>\n",
       "<table border=\"1\" class=\"dataframe\">\n",
       "  <thead>\n",
       "    <tr style=\"text-align: right;\">\n",
       "      <th></th>\n",
       "      <th>Impressions</th>\n",
       "      <th>Cost</th>\n",
       "      <th>Duration</th>\n",
       "      <th>Unique link clicks</th>\n",
       "      <th>Post shares</th>\n",
       "      <th>Post comments</th>\n",
       "      <th>Registration</th>\n",
       "      <th>Website purchases</th>\n",
       "      <th>CPC</th>\n",
       "      <th>CPM</th>\n",
       "      <th>CTR</th>\n",
       "      <th>CR</th>\n",
       "      <th>registration_CR</th>\n",
       "      <th>CPA</th>\n",
       "      <th>CTR_class</th>\n",
       "      <th>CR_class</th>\n",
       "    </tr>\n",
       "    <tr>\n",
       "      <th>Ad name</th>\n",
       "      <th></th>\n",
       "      <th></th>\n",
       "      <th></th>\n",
       "      <th></th>\n",
       "      <th></th>\n",
       "      <th></th>\n",
       "      <th></th>\n",
       "      <th></th>\n",
       "      <th></th>\n",
       "      <th></th>\n",
       "      <th></th>\n",
       "      <th></th>\n",
       "      <th></th>\n",
       "      <th></th>\n",
       "      <th></th>\n",
       "      <th></th>\n",
       "    </tr>\n",
       "  </thead>\n",
       "  <tbody>\n",
       "    <tr>\n",
       "      <th>5k-deathwish_single_w41-2020</th>\n",
       "      <td>58014.0</td>\n",
       "      <td>775.29</td>\n",
       "      <td>9</td>\n",
       "      <td>173.0</td>\n",
       "      <td>1.0</td>\n",
       "      <td>2.0</td>\n",
       "      <td>8.0</td>\n",
       "      <td>2.0</td>\n",
       "      <td>4.481445</td>\n",
       "      <td>13.363843</td>\n",
       "      <td>0.002982</td>\n",
       "      <td>0.011561</td>\n",
       "      <td>0.046243</td>\n",
       "      <td>387.645</td>\n",
       "      <td>1</td>\n",
       "      <td>1</td>\n",
       "    </tr>\n",
       "    <tr>\n",
       "      <th>Instagram post: Be more Mick!\\n🚀We’re growing at...</th>\n",
       "      <td>6272.0</td>\n",
       "      <td>20.00</td>\n",
       "      <td>5</td>\n",
       "      <td>94.0</td>\n",
       "      <td>1.0</td>\n",
       "      <td>0.0</td>\n",
       "      <td>0.0</td>\n",
       "      <td>0.0</td>\n",
       "      <td>0.212766</td>\n",
       "      <td>3.188776</td>\n",
       "      <td>0.014987</td>\n",
       "      <td>0.000000</td>\n",
       "      <td>0.000000</td>\n",
       "      <td>0.000</td>\n",
       "      <td>1</td>\n",
       "      <td>0</td>\n",
       "    </tr>\n",
       "    <tr>\n",
       "      <th>Post: \"\"Here lies DeadHappy. It was a bit of a sore...\"</th>\n",
       "      <td>646.0</td>\n",
       "      <td>4.64</td>\n",
       "      <td>2</td>\n",
       "      <td>0.0</td>\n",
       "      <td>0.0</td>\n",
       "      <td>12.0</td>\n",
       "      <td>0.0</td>\n",
       "      <td>0.0</td>\n",
       "      <td>0.000000</td>\n",
       "      <td>7.182663</td>\n",
       "      <td>0.000000</td>\n",
       "      <td>0.000000</td>\n",
       "      <td>0.000000</td>\n",
       "      <td>0.000</td>\n",
       "      <td>0</td>\n",
       "      <td>0</td>\n",
       "    </tr>\n",
       "  </tbody>\n",
       "</table>\n",
       "</div>"
      ],
      "text/plain": [
       "                                                    Impressions    Cost  \\\n",
       "Ad name                                                                   \n",
       "5k-deathwish_single_w41-2020                            58014.0  775.29   \n",
       "Instagram post: Be more Mick!\\n🚀We’re growing a...       6272.0   20.00   \n",
       "Post: \"\"Here lies DeadHappy. It was a bit of a ...        646.0    4.64   \n",
       "\n",
       "                                                    Duration  \\\n",
       "Ad name                                                        \n",
       "5k-deathwish_single_w41-2020                               9   \n",
       "Instagram post: Be more Mick!\\n🚀We’re growing a...         5   \n",
       "Post: \"\"Here lies DeadHappy. It was a bit of a ...         2   \n",
       "\n",
       "                                                    Unique link clicks  \\\n",
       "Ad name                                                                  \n",
       "5k-deathwish_single_w41-2020                                     173.0   \n",
       "Instagram post: Be more Mick!\\n🚀We’re growing a...                94.0   \n",
       "Post: \"\"Here lies DeadHappy. It was a bit of a ...                 0.0   \n",
       "\n",
       "                                                    Post shares  \\\n",
       "Ad name                                                           \n",
       "5k-deathwish_single_w41-2020                                1.0   \n",
       "Instagram post: Be more Mick!\\n🚀We’re growing a...          1.0   \n",
       "Post: \"\"Here lies DeadHappy. It was a bit of a ...          0.0   \n",
       "\n",
       "                                                    Post comments  \\\n",
       "Ad name                                                             \n",
       "5k-deathwish_single_w41-2020                                  2.0   \n",
       "Instagram post: Be more Mick!\\n🚀We’re growing a...            0.0   \n",
       "Post: \"\"Here lies DeadHappy. It was a bit of a ...           12.0   \n",
       "\n",
       "                                                    Registration  \\\n",
       "Ad name                                                            \n",
       "5k-deathwish_single_w41-2020                                 8.0   \n",
       "Instagram post: Be more Mick!\\n🚀We’re growing a...           0.0   \n",
       "Post: \"\"Here lies DeadHappy. It was a bit of a ...           0.0   \n",
       "\n",
       "                                                    Website purchases  \\\n",
       "Ad name                                                                 \n",
       "5k-deathwish_single_w41-2020                                      2.0   \n",
       "Instagram post: Be more Mick!\\n🚀We’re growing a...                0.0   \n",
       "Post: \"\"Here lies DeadHappy. It was a bit of a ...                0.0   \n",
       "\n",
       "                                                         CPC        CPM  \\\n",
       "Ad name                                                                   \n",
       "5k-deathwish_single_w41-2020                        4.481445  13.363843   \n",
       "Instagram post: Be more Mick!\\n🚀We’re growing a...  0.212766   3.188776   \n",
       "Post: \"\"Here lies DeadHappy. It was a bit of a ...  0.000000   7.182663   \n",
       "\n",
       "                                                         CTR        CR  \\\n",
       "Ad name                                                                  \n",
       "5k-deathwish_single_w41-2020                        0.002982  0.011561   \n",
       "Instagram post: Be more Mick!\\n🚀We’re growing a...  0.014987  0.000000   \n",
       "Post: \"\"Here lies DeadHappy. It was a bit of a ...  0.000000  0.000000   \n",
       "\n",
       "                                                    registration_CR      CPA  \\\n",
       "Ad name                                                                        \n",
       "5k-deathwish_single_w41-2020                               0.046243  387.645   \n",
       "Instagram post: Be more Mick!\\n🚀We’re growing a...         0.000000    0.000   \n",
       "Post: \"\"Here lies DeadHappy. It was a bit of a ...         0.000000    0.000   \n",
       "\n",
       "                                                   CTR_class CR_class  \n",
       "Ad name                                                                \n",
       "5k-deathwish_single_w41-2020                               1        1  \n",
       "Instagram post: Be more Mick!\\n🚀We’re growing a...         1        0  \n",
       "Post: \"\"Here lies DeadHappy. It was a bit of a ...         0        0  "
      ]
     },
     "metadata": {},
     "output_type": "display_data"
    },
    {
     "data": {
      "text/html": [
       "<div>\n",
       "<style scoped>\n",
       "    .dataframe tbody tr th:only-of-type {\n",
       "        vertical-align: middle;\n",
       "    }\n",
       "\n",
       "    .dataframe tbody tr th {\n",
       "        vertical-align: top;\n",
       "    }\n",
       "\n",
       "    .dataframe thead th {\n",
       "        text-align: right;\n",
       "    }\n",
       "</style>\n",
       "<table border=\"1\" class=\"dataframe\">\n",
       "  <thead>\n",
       "    <tr style=\"text-align: right;\">\n",
       "      <th></th>\n",
       "      <th>Impressions</th>\n",
       "      <th>Cost</th>\n",
       "      <th>Duration</th>\n",
       "      <th>Unique link clicks</th>\n",
       "      <th>Post shares</th>\n",
       "      <th>Post comments</th>\n",
       "      <th>Registration</th>\n",
       "      <th>Website purchases</th>\n",
       "      <th>CPC</th>\n",
       "      <th>CPM</th>\n",
       "      <th>CTR</th>\n",
       "      <th>CR</th>\n",
       "      <th>registration_CR</th>\n",
       "      <th>CPA</th>\n",
       "    </tr>\n",
       "  </thead>\n",
       "  <tbody>\n",
       "    <tr>\n",
       "      <th>count</th>\n",
       "      <td>196.00</td>\n",
       "      <td>196.00</td>\n",
       "      <td>196.00</td>\n",
       "      <td>196.00</td>\n",
       "      <td>196.00</td>\n",
       "      <td>196.00</td>\n",
       "      <td>196.00</td>\n",
       "      <td>196.00</td>\n",
       "      <td>196.00</td>\n",
       "      <td>196.00</td>\n",
       "      <td>196.00</td>\n",
       "      <td>196.00</td>\n",
       "      <td>196.00</td>\n",
       "      <td>196.00</td>\n",
       "    </tr>\n",
       "    <tr>\n",
       "      <th>mean</th>\n",
       "      <td>360852.45</td>\n",
       "      <td>2780.99</td>\n",
       "      <td>41.47</td>\n",
       "      <td>1063.18</td>\n",
       "      <td>42.36</td>\n",
       "      <td>23.91</td>\n",
       "      <td>81.95</td>\n",
       "      <td>12.09</td>\n",
       "      <td>3.80</td>\n",
       "      <td>7.29</td>\n",
       "      <td>0.00</td>\n",
       "      <td>0.01</td>\n",
       "      <td>0.07</td>\n",
       "      <td>142.86</td>\n",
       "    </tr>\n",
       "    <tr>\n",
       "      <th>std</th>\n",
       "      <td>1262854.31</td>\n",
       "      <td>9271.47</td>\n",
       "      <td>88.50</td>\n",
       "      <td>3800.01</td>\n",
       "      <td>202.95</td>\n",
       "      <td>86.71</td>\n",
       "      <td>278.96</td>\n",
       "      <td>40.59</td>\n",
       "      <td>9.74</td>\n",
       "      <td>3.90</td>\n",
       "      <td>0.00</td>\n",
       "      <td>0.02</td>\n",
       "      <td>0.08</td>\n",
       "      <td>237.63</td>\n",
       "    </tr>\n",
       "    <tr>\n",
       "      <th>min</th>\n",
       "      <td>0.00</td>\n",
       "      <td>0.00</td>\n",
       "      <td>0.00</td>\n",
       "      <td>0.00</td>\n",
       "      <td>0.00</td>\n",
       "      <td>0.00</td>\n",
       "      <td>0.00</td>\n",
       "      <td>0.00</td>\n",
       "      <td>0.00</td>\n",
       "      <td>0.00</td>\n",
       "      <td>0.00</td>\n",
       "      <td>0.00</td>\n",
       "      <td>0.00</td>\n",
       "      <td>0.00</td>\n",
       "    </tr>\n",
       "    <tr>\n",
       "      <th>25%</th>\n",
       "      <td>3889.50</td>\n",
       "      <td>16.00</td>\n",
       "      <td>4.00</td>\n",
       "      <td>7.00</td>\n",
       "      <td>0.00</td>\n",
       "      <td>0.00</td>\n",
       "      <td>0.00</td>\n",
       "      <td>0.00</td>\n",
       "      <td>0.76</td>\n",
       "      <td>4.57</td>\n",
       "      <td>0.00</td>\n",
       "      <td>0.00</td>\n",
       "      <td>0.00</td>\n",
       "      <td>0.00</td>\n",
       "    </tr>\n",
       "    <tr>\n",
       "      <th>50%</th>\n",
       "      <td>28193.00</td>\n",
       "      <td>173.36</td>\n",
       "      <td>8.00</td>\n",
       "      <td>69.50</td>\n",
       "      <td>2.00</td>\n",
       "      <td>2.50</td>\n",
       "      <td>4.00</td>\n",
       "      <td>0.00</td>\n",
       "      <td>2.47</td>\n",
       "      <td>7.07</td>\n",
       "      <td>0.00</td>\n",
       "      <td>0.00</td>\n",
       "      <td>0.04</td>\n",
       "      <td>0.00</td>\n",
       "    </tr>\n",
       "    <tr>\n",
       "      <th>75%</th>\n",
       "      <td>155253.75</td>\n",
       "      <td>1441.22</td>\n",
       "      <td>16.25</td>\n",
       "      <td>558.50</td>\n",
       "      <td>14.25</td>\n",
       "      <td>13.25</td>\n",
       "      <td>46.50</td>\n",
       "      <td>6.25</td>\n",
       "      <td>4.08</td>\n",
       "      <td>9.52</td>\n",
       "      <td>0.00</td>\n",
       "      <td>0.01</td>\n",
       "      <td>0.12</td>\n",
       "      <td>228.01</td>\n",
       "    </tr>\n",
       "    <tr>\n",
       "      <th>max</th>\n",
       "      <td>14744629.00</td>\n",
       "      <td>103903.94</td>\n",
       "      <td>474.00</td>\n",
       "      <td>39839.00</td>\n",
       "      <td>2463.00</td>\n",
       "      <td>988.00</td>\n",
       "      <td>3073.00</td>\n",
       "      <td>456.00</td>\n",
       "      <td>119.00</td>\n",
       "      <td>24.37</td>\n",
       "      <td>0.04</td>\n",
       "      <td>0.18</td>\n",
       "      <td>0.50</td>\n",
       "      <td>2032.77</td>\n",
       "    </tr>\n",
       "  </tbody>\n",
       "</table>\n",
       "</div>"
      ],
      "text/plain": [
       "       Impressions       Cost  Duration  Unique link clicks  Post shares  \\\n",
       "count       196.00     196.00    196.00              196.00       196.00   \n",
       "mean     360852.45    2780.99     41.47             1063.18        42.36   \n",
       "std     1262854.31    9271.47     88.50             3800.01       202.95   \n",
       "min           0.00       0.00      0.00                0.00         0.00   \n",
       "25%        3889.50      16.00      4.00                7.00         0.00   \n",
       "50%       28193.00     173.36      8.00               69.50         2.00   \n",
       "75%      155253.75    1441.22     16.25              558.50        14.25   \n",
       "max    14744629.00  103903.94    474.00            39839.00      2463.00   \n",
       "\n",
       "       Post comments  Registration  Website purchases     CPC     CPM     CTR  \\\n",
       "count         196.00        196.00             196.00  196.00  196.00  196.00   \n",
       "mean           23.91         81.95              12.09    3.80    7.29    0.00   \n",
       "std            86.71        278.96              40.59    9.74    3.90    0.00   \n",
       "min             0.00          0.00               0.00    0.00    0.00    0.00   \n",
       "25%             0.00          0.00               0.00    0.76    4.57    0.00   \n",
       "50%             2.50          4.00               0.00    2.47    7.07    0.00   \n",
       "75%            13.25         46.50               6.25    4.08    9.52    0.00   \n",
       "max           988.00       3073.00             456.00  119.00   24.37    0.04   \n",
       "\n",
       "           CR  registration_CR      CPA  \n",
       "count  196.00           196.00   196.00  \n",
       "mean     0.01             0.07   142.86  \n",
       "std      0.02             0.08   237.63  \n",
       "min      0.00             0.00     0.00  \n",
       "25%      0.00             0.00     0.00  \n",
       "50%      0.00             0.04     0.00  \n",
       "75%      0.01             0.12   228.01  \n",
       "max      0.18             0.50  2032.77  "
      ]
     },
     "metadata": {},
     "output_type": "display_data"
    },
    {
     "name": "stdout",
     "output_type": "stream",
     "text": [
      "\n",
      "Variable:             Type:\n",
      "Impressions           float64\n",
      "Cost                  float64\n",
      "Duration                int64\n",
      "Unique link clicks    float64\n",
      "Post shares           float64\n",
      "Post comments         float64\n",
      "Registration          float64\n",
      "Website purchases     float64\n",
      "CPC                   float64\n",
      "CPM                   float64\n",
      "CTR                   float64\n",
      "CR                    float64\n",
      "registration_CR       float64\n",
      "CPA                   float64\n",
      "CTR_class              object\n",
      "CR_class               object\n",
      "dtype: object\n",
      "\n",
      "Variable:             Empty values:\n",
      "Impressions           0\n",
      "Cost                  0\n",
      "Duration              0\n",
      "Unique link clicks    0\n",
      "Post shares           0\n",
      "Post comments         0\n",
      "Registration          0\n",
      "Website purchases     0\n",
      "CPC                   0\n",
      "CPM                   0\n",
      "CTR                   0\n",
      "CR                    0\n",
      "registration_CR       0\n",
      "CPA                   0\n",
      "CTR_class             0\n",
      "CR_class              0\n",
      "dtype: int64\n",
      "0    98\n",
      "1    98\n",
      "Name: CTR_class, dtype: int64\n",
      "0    127\n",
      "1     69\n",
      "Name: CR_class, dtype: int64\n"
     ]
    }
   ],
   "source": [
    "data_ad = data.groupby([\"Ad name\"])                                           \\\n",
    "              .agg({\"Impressions\" :  \"sum\", \n",
    "                    \"Cost\" : \"sum\", \n",
    "                    \"Impressions_2\" : \"count\", \n",
    "                    \"Unique link clicks\" : \"sum\", \n",
    "                    \"Post shares\" : \"sum\", \n",
    "                    \"Post comments\" : \"sum\", \n",
    "                    \"Registration\" : \"sum\", \n",
    "                    \"Website purchases\" : \"sum\"})                                          \\\n",
    "              .rename(columns = {\"Impressions_2\" : \"Duration\"})\n",
    " \n",
    "# Add CPC:\n",
    "data_ad[\"CPC\"] = data_ad[\"Cost\"] / data_ad[\"Unique link clicks\"]\n",
    "\n",
    "# Add CPM:\n",
    "data_ad[\"CPM\"] = data_ad[\"Cost\"] / data_ad.Impressions * 1000\n",
    "    \n",
    "# Add CTR:\n",
    "data_ad[\"CTR\"] = data_ad[\"Unique link clicks\"] / data_ad.Impressions \n",
    " \n",
    "# Add CR:\n",
    "data_ad[\"CR\"] = data_ad[\"Website purchases\"] / data_ad[\"Unique link clicks\"]   \n",
    "\n",
    "# Add registration_CR:\n",
    "data_ad[\"registration_CR\"] = data_ad.Registration / data_ad[\"Unique link clicks\"]   \n",
    "\n",
    "# Add CPA:\n",
    "data_ad[\"CPA\"] = data_ad[\"Cost\"] / data_ad[\"Website purchases\"]\n",
    " \n",
    "# Remove NaN values: \n",
    "data_ad = data_ad.replace(to_replace = np.nan, value = 0) \n",
    " \n",
    "# Add a CTR class to data_ad -> Above median average? If yes, it's a 1. If not, it's a 0: \n",
    "data_ad[\"CTR_class\"] = pd.cut(data_ad.CTR, \n",
    "                              bins = [data_ad.CTR.min() - 1, \n",
    "                                      data_ad.CTR.median(), \n",
    "                                      data_ad.CTR.max() + 1 ], \n",
    "                              labels = [\"0\", \"1\"])\n",
    "     \n",
    "# Add a CR class to data_ad -> Above median average? If yes, it's a 1. If not, it's a 0: \n",
    "data_ad[\"CR_class\"] = pd.cut(data_ad.CR, \n",
    "                              bins = [data_ad.CR.min() - 1, \n",
    "                                      data_ad.CR.mean(), \n",
    "                                      data_ad.CR.max() + 1], \n",
    "                              labels = [\"0\", \"1\"])\n",
    " \n",
    "# Remove inf values: \n",
    "data_ad = data_ad.replace(np.inf, 0) \n",
    "print(\"Maximum value in CR is:\", data_ad.CR.max().round(2))\n",
    "\n",
    "\n",
    "display(data_ad.head(3))\n",
    "display(data_ad.describe().round(2)) \n",
    "print(f\"\"\"\\nVariable:             Type:\n",
    "{data_ad.dtypes}\"\"\")\n",
    "print(f\"\\nVariable:             Empty values:\\n{data_ad.isnull().sum()}\") \n",
    "print(data_ad.CTR_class.value_counts())\n",
    "print(data_ad.CR_class.value_counts())"
   ]
  },
  {
   "cell_type": "markdown",
   "metadata": {},
   "source": [
    "## Scale Data"
   ]
  },
  {
   "cell_type": "markdown",
   "metadata": {},
   "source": [
    "### data (into data_scaled):"
   ]
  },
  {
   "cell_type": "code",
   "execution_count": 16,
   "metadata": {
    "ExecuteTime": {
     "end_time": "2021-04-06T14:54:58.202604Z",
     "start_time": "2021-04-06T14:54:58.162739Z"
    }
   },
   "outputs": [
    {
     "data": {
      "application/javascript": [
       "\n",
       "        if (window._pyforest_update_imports_cell) { window._pyforest_update_imports_cell('import pandas as pd\\nimport numpy as np'); }\n",
       "    "
      ],
      "text/plain": [
       "<IPython.core.display.Javascript object>"
      ]
     },
     "metadata": {},
     "output_type": "display_data"
    },
    {
     "data": {
      "text/html": [
       "<div>\n",
       "<style scoped>\n",
       "    .dataframe tbody tr th:only-of-type {\n",
       "        vertical-align: middle;\n",
       "    }\n",
       "\n",
       "    .dataframe tbody tr th {\n",
       "        vertical-align: top;\n",
       "    }\n",
       "\n",
       "    .dataframe thead th {\n",
       "        text-align: right;\n",
       "    }\n",
       "</style>\n",
       "<table border=\"1\" class=\"dataframe\">\n",
       "  <thead>\n",
       "    <tr style=\"text-align: right;\">\n",
       "      <th></th>\n",
       "      <th>Date</th>\n",
       "      <th>Ad set name</th>\n",
       "      <th>Ad name</th>\n",
       "      <th>Campaign name</th>\n",
       "      <th>Impressions</th>\n",
       "      <th>Cost</th>\n",
       "      <th>Website purchases</th>\n",
       "      <th>Cost per website purchase</th>\n",
       "      <th>CPC (cost per link click)</th>\n",
       "      <th>CTR (link click-through rate)</th>\n",
       "      <th>...</th>\n",
       "      <th>Unique adds to cart</th>\n",
       "      <th>Website leads</th>\n",
       "      <th>Unique link clicks</th>\n",
       "      <th>Unique mobile app adds of payment info</th>\n",
       "      <th>Conversion rate ranking</th>\n",
       "      <th>Post shares</th>\n",
       "      <th>Return on ad spend (ROAS)</th>\n",
       "      <th>Unique completed registrations</th>\n",
       "      <th>Post comments</th>\n",
       "      <th>Impressions_2</th>\n",
       "    </tr>\n",
       "  </thead>\n",
       "  <tbody>\n",
       "    <tr>\n",
       "      <th>0</th>\n",
       "      <td>2020-08-01</td>\n",
       "      <td>Post: \"\"Here lies DeadHappy. It was a bit of a...</td>\n",
       "      <td>Post: \"\"Here lies DeadHappy. It was a bit of a...</td>\n",
       "      <td>Post: \"\"Here lies DeadHappy. It was a bit of a...</td>\n",
       "      <td>350.0</td>\n",
       "      <td>3.18</td>\n",
       "      <td>0.0</td>\n",
       "      <td>0.0</td>\n",
       "      <td>0.0</td>\n",
       "      <td>0.0</td>\n",
       "      <td>...</td>\n",
       "      <td>0.0</td>\n",
       "      <td>0.0</td>\n",
       "      <td>0.0</td>\n",
       "      <td>0.0</td>\n",
       "      <td>0.0</td>\n",
       "      <td>0.0</td>\n",
       "      <td>0.0</td>\n",
       "      <td>0.0</td>\n",
       "      <td>6.0</td>\n",
       "      <td>350.0</td>\n",
       "    </tr>\n",
       "  </tbody>\n",
       "</table>\n",
       "<p>1 rows × 23 columns</p>\n",
       "</div>"
      ],
      "text/plain": [
       "         Date                                        Ad set name  \\\n",
       "0  2020-08-01  Post: \"\"Here lies DeadHappy. It was a bit of a...   \n",
       "\n",
       "                                             Ad name  \\\n",
       "0  Post: \"\"Here lies DeadHappy. It was a bit of a...   \n",
       "\n",
       "                                       Campaign name  Impressions  Cost  \\\n",
       "0  Post: \"\"Here lies DeadHappy. It was a bit of a...        350.0  3.18   \n",
       "\n",
       "   Website purchases  Cost per website purchase  CPC (cost per link click)  \\\n",
       "0                0.0                        0.0                        0.0   \n",
       "\n",
       "   CTR (link click-through rate)  ...  Unique adds to cart  Website leads  \\\n",
       "0                            0.0  ...                  0.0            0.0   \n",
       "\n",
       "   Unique link clicks  Unique mobile app adds of payment info  \\\n",
       "0                 0.0                                     0.0   \n",
       "\n",
       "   Conversion rate ranking  Post shares  Return on ad spend (ROAS)  \\\n",
       "0                      0.0          0.0                        0.0   \n",
       "\n",
       "   Unique completed registrations  Post comments  Impressions_2  \n",
       "0                             0.0            6.0          350.0  \n",
       "\n",
       "[1 rows x 23 columns]"
      ]
     },
     "execution_count": 16,
     "metadata": {},
     "output_type": "execute_result"
    }
   ],
   "source": [
    "data_scaled = data.copy()                                        \\\n",
    "                  .replace(to_replace = np.nan, value = 0)\n",
    " \n",
    "data_scaled.head(1)"
   ]
  },
  {
   "cell_type": "code",
   "execution_count": 17,
   "metadata": {
    "ExecuteTime": {
     "end_time": "2021-04-06T14:54:58.926317Z",
     "start_time": "2021-04-06T14:54:58.711240Z"
    }
   },
   "outputs": [
    {
     "data": {
      "text/html": [
       "<div>\n",
       "<style scoped>\n",
       "    .dataframe tbody tr th:only-of-type {\n",
       "        vertical-align: middle;\n",
       "    }\n",
       "\n",
       "    .dataframe tbody tr th {\n",
       "        vertical-align: top;\n",
       "    }\n",
       "\n",
       "    .dataframe thead th {\n",
       "        text-align: right;\n",
       "    }\n",
       "</style>\n",
       "<table border=\"1\" class=\"dataframe\">\n",
       "  <thead>\n",
       "    <tr style=\"text-align: right;\">\n",
       "      <th></th>\n",
       "      <th>Date</th>\n",
       "      <th>Ad set name</th>\n",
       "      <th>Ad name</th>\n",
       "      <th>Campaign name</th>\n",
       "      <th>Impressions</th>\n",
       "      <th>Cost</th>\n",
       "      <th>Website purchases</th>\n",
       "      <th>Cost per website purchase</th>\n",
       "      <th>CPC (cost per link click)</th>\n",
       "      <th>CTR (link click-through rate)</th>\n",
       "      <th>...</th>\n",
       "      <th>Unique adds to cart</th>\n",
       "      <th>Website leads</th>\n",
       "      <th>Unique link clicks</th>\n",
       "      <th>Unique mobile app adds of payment info</th>\n",
       "      <th>Conversion rate ranking</th>\n",
       "      <th>Post shares</th>\n",
       "      <th>Return on ad spend (ROAS)</th>\n",
       "      <th>Unique completed registrations</th>\n",
       "      <th>Post comments</th>\n",
       "      <th>Impressions_2</th>\n",
       "    </tr>\n",
       "  </thead>\n",
       "  <tbody>\n",
       "    <tr>\n",
       "      <th>0</th>\n",
       "      <td>2020-08-01</td>\n",
       "      <td>Post: \"\"Here lies DeadHappy. It was a bit of a...</td>\n",
       "      <td>Post: \"\"Here lies DeadHappy. It was a bit of a...</td>\n",
       "      <td>Post: \"\"Here lies DeadHappy. It was a bit of a...</td>\n",
       "      <td>-0.412119</td>\n",
       "      <td>-0.424648</td>\n",
       "      <td>-0.331911</td>\n",
       "      <td>0.0</td>\n",
       "      <td>-0.986912</td>\n",
       "      <td>-0.778827</td>\n",
       "      <td>...</td>\n",
       "      <td>0.0</td>\n",
       "      <td>0.0</td>\n",
       "      <td>-0.401605</td>\n",
       "      <td>0.0</td>\n",
       "      <td>0.0</td>\n",
       "      <td>-0.144887</td>\n",
       "      <td>0.0</td>\n",
       "      <td>0.0</td>\n",
       "      <td>2.490653</td>\n",
       "      <td>350.0</td>\n",
       "    </tr>\n",
       "  </tbody>\n",
       "</table>\n",
       "<p>1 rows × 23 columns</p>\n",
       "</div>"
      ],
      "text/plain": [
       "         Date                                        Ad set name  \\\n",
       "0  2020-08-01  Post: \"\"Here lies DeadHappy. It was a bit of a...   \n",
       "\n",
       "                                             Ad name  \\\n",
       "0  Post: \"\"Here lies DeadHappy. It was a bit of a...   \n",
       "\n",
       "                                       Campaign name  Impressions      Cost  \\\n",
       "0  Post: \"\"Here lies DeadHappy. It was a bit of a...    -0.412119 -0.424648   \n",
       "\n",
       "   Website purchases  Cost per website purchase  CPC (cost per link click)  \\\n",
       "0          -0.331911                        0.0                  -0.986912   \n",
       "\n",
       "   CTR (link click-through rate)  ...  Unique adds to cart  Website leads  \\\n",
       "0                      -0.778827  ...                  0.0            0.0   \n",
       "\n",
       "   Unique link clicks  Unique mobile app adds of payment info  \\\n",
       "0           -0.401605                                     0.0   \n",
       "\n",
       "   Conversion rate ranking  Post shares  Return on ad spend (ROAS)  \\\n",
       "0                      0.0    -0.144887                        0.0   \n",
       "\n",
       "   Unique completed registrations  Post comments  Impressions_2  \n",
       "0                             0.0       2.490653          350.0  \n",
       "\n",
       "[1 rows x 23 columns]"
      ]
     },
     "metadata": {},
     "output_type": "display_data"
    },
    {
     "data": {
      "text/html": [
       "<div>\n",
       "<style scoped>\n",
       "    .dataframe tbody tr th:only-of-type {\n",
       "        vertical-align: middle;\n",
       "    }\n",
       "\n",
       "    .dataframe tbody tr th {\n",
       "        vertical-align: top;\n",
       "    }\n",
       "\n",
       "    .dataframe thead th {\n",
       "        text-align: right;\n",
       "    }\n",
       "</style>\n",
       "<table border=\"1\" class=\"dataframe\">\n",
       "  <thead>\n",
       "    <tr style=\"text-align: right;\">\n",
       "      <th></th>\n",
       "      <th>Impressions</th>\n",
       "      <th>Cost</th>\n",
       "      <th>Website purchases</th>\n",
       "      <th>Cost per website purchase</th>\n",
       "      <th>CPC (cost per link click)</th>\n",
       "      <th>CTR (link click-through rate)</th>\n",
       "      <th>Signup</th>\n",
       "      <th>Registration</th>\n",
       "      <th>Unique purchases</th>\n",
       "      <th>Unique adds to cart</th>\n",
       "      <th>Website leads</th>\n",
       "      <th>Unique link clicks</th>\n",
       "      <th>Unique mobile app adds of payment info</th>\n",
       "      <th>Conversion rate ranking</th>\n",
       "      <th>Post shares</th>\n",
       "      <th>Return on ad spend (ROAS)</th>\n",
       "      <th>Unique completed registrations</th>\n",
       "      <th>Post comments</th>\n",
       "      <th>Impressions_2</th>\n",
       "    </tr>\n",
       "  </thead>\n",
       "  <tbody>\n",
       "    <tr>\n",
       "      <th>count</th>\n",
       "      <td>8135.00</td>\n",
       "      <td>8135.00</td>\n",
       "      <td>8135.00</td>\n",
       "      <td>8135.00</td>\n",
       "      <td>8135.00</td>\n",
       "      <td>8135.00</td>\n",
       "      <td>8135.00</td>\n",
       "      <td>8135.00</td>\n",
       "      <td>8135.0</td>\n",
       "      <td>8135.0</td>\n",
       "      <td>8135.00</td>\n",
       "      <td>8135.00</td>\n",
       "      <td>8135.0</td>\n",
       "      <td>8135.00</td>\n",
       "      <td>8135.00</td>\n",
       "      <td>8135.00</td>\n",
       "      <td>8135.0</td>\n",
       "      <td>8135.00</td>\n",
       "      <td>8135.00</td>\n",
       "    </tr>\n",
       "    <tr>\n",
       "      <th>mean</th>\n",
       "      <td>0.00</td>\n",
       "      <td>0.00</td>\n",
       "      <td>-0.00</td>\n",
       "      <td>20.72</td>\n",
       "      <td>-0.00</td>\n",
       "      <td>-0.00</td>\n",
       "      <td>0.02</td>\n",
       "      <td>0.00</td>\n",
       "      <td>0.0</td>\n",
       "      <td>0.0</td>\n",
       "      <td>0.00</td>\n",
       "      <td>-0.00</td>\n",
       "      <td>0.0</td>\n",
       "      <td>0.19</td>\n",
       "      <td>-0.00</td>\n",
       "      <td>5.65</td>\n",
       "      <td>0.0</td>\n",
       "      <td>0.00</td>\n",
       "      <td>8694.17</td>\n",
       "    </tr>\n",
       "    <tr>\n",
       "      <th>std</th>\n",
       "      <td>1.00</td>\n",
       "      <td>1.00</td>\n",
       "      <td>1.00</td>\n",
       "      <td>72.86</td>\n",
       "      <td>1.00</td>\n",
       "      <td>1.00</td>\n",
       "      <td>0.17</td>\n",
       "      <td>1.00</td>\n",
       "      <td>0.0</td>\n",
       "      <td>0.0</td>\n",
       "      <td>0.03</td>\n",
       "      <td>1.00</td>\n",
       "      <td>0.0</td>\n",
       "      <td>0.82</td>\n",
       "      <td>1.00</td>\n",
       "      <td>33.61</td>\n",
       "      <td>0.0</td>\n",
       "      <td>1.00</td>\n",
       "      <td>20248.25</td>\n",
       "    </tr>\n",
       "    <tr>\n",
       "      <th>min</th>\n",
       "      <td>-0.43</td>\n",
       "      <td>-0.45</td>\n",
       "      <td>-0.33</td>\n",
       "      <td>0.00</td>\n",
       "      <td>-0.99</td>\n",
       "      <td>-0.78</td>\n",
       "      <td>0.00</td>\n",
       "      <td>-0.39</td>\n",
       "      <td>0.0</td>\n",
       "      <td>0.0</td>\n",
       "      <td>0.00</td>\n",
       "      <td>-0.40</td>\n",
       "      <td>0.0</td>\n",
       "      <td>0.00</td>\n",
       "      <td>-0.14</td>\n",
       "      <td>0.00</td>\n",
       "      <td>0.0</td>\n",
       "      <td>-0.26</td>\n",
       "      <td>0.00</td>\n",
       "    </tr>\n",
       "    <tr>\n",
       "      <th>25%</th>\n",
       "      <td>-0.40</td>\n",
       "      <td>-0.41</td>\n",
       "      <td>-0.33</td>\n",
       "      <td>0.00</td>\n",
       "      <td>-0.66</td>\n",
       "      <td>-0.47</td>\n",
       "      <td>0.00</td>\n",
       "      <td>-0.39</td>\n",
       "      <td>0.0</td>\n",
       "      <td>0.0</td>\n",
       "      <td>0.00</td>\n",
       "      <td>-0.37</td>\n",
       "      <td>0.0</td>\n",
       "      <td>0.00</td>\n",
       "      <td>-0.14</td>\n",
       "      <td>0.00</td>\n",
       "      <td>0.0</td>\n",
       "      <td>-0.26</td>\n",
       "      <td>563.50</td>\n",
       "    </tr>\n",
       "    <tr>\n",
       "      <th>50%</th>\n",
       "      <td>-0.34</td>\n",
       "      <td>-0.33</td>\n",
       "      <td>-0.33</td>\n",
       "      <td>0.00</td>\n",
       "      <td>-0.16</td>\n",
       "      <td>-0.25</td>\n",
       "      <td>0.00</td>\n",
       "      <td>-0.39</td>\n",
       "      <td>0.0</td>\n",
       "      <td>0.0</td>\n",
       "      <td>0.00</td>\n",
       "      <td>-0.31</td>\n",
       "      <td>0.0</td>\n",
       "      <td>0.00</td>\n",
       "      <td>-0.14</td>\n",
       "      <td>0.00</td>\n",
       "      <td>0.0</td>\n",
       "      <td>-0.26</td>\n",
       "      <td>1772.00</td>\n",
       "    </tr>\n",
       "    <tr>\n",
       "      <th>75%</th>\n",
       "      <td>-0.05</td>\n",
       "      <td>-0.05</td>\n",
       "      <td>-0.33</td>\n",
       "      <td>0.00</td>\n",
       "      <td>0.34</td>\n",
       "      <td>0.16</td>\n",
       "      <td>0.00</td>\n",
       "      <td>0.01</td>\n",
       "      <td>0.0</td>\n",
       "      <td>0.0</td>\n",
       "      <td>0.00</td>\n",
       "      <td>-0.07</td>\n",
       "      <td>0.0</td>\n",
       "      <td>0.00</td>\n",
       "      <td>-0.14</td>\n",
       "      <td>0.00</td>\n",
       "      <td>0.0</td>\n",
       "      <td>-0.26</td>\n",
       "      <td>7751.00</td>\n",
       "    </tr>\n",
       "    <tr>\n",
       "      <th>max</th>\n",
       "      <td>15.27</td>\n",
       "      <td>13.20</td>\n",
       "      <td>14.48</td>\n",
       "      <td>1092.21</td>\n",
       "      <td>12.21</td>\n",
       "      <td>23.56</td>\n",
       "      <td>4.00</td>\n",
       "      <td>12.00</td>\n",
       "      <td>0.0</td>\n",
       "      <td>0.0</td>\n",
       "      <td>1.00</td>\n",
       "      <td>20.98</td>\n",
       "      <td>0.0</td>\n",
       "      <td>10.00</td>\n",
       "      <td>36.76</td>\n",
       "      <td>1143.38</td>\n",
       "      <td>0.0</td>\n",
       "      <td>38.31</td>\n",
       "      <td>317885.00</td>\n",
       "    </tr>\n",
       "  </tbody>\n",
       "</table>\n",
       "</div>"
      ],
      "text/plain": [
       "       Impressions     Cost  Website purchases  Cost per website purchase  \\\n",
       "count      8135.00  8135.00            8135.00                    8135.00   \n",
       "mean          0.00     0.00              -0.00                      20.72   \n",
       "std           1.00     1.00               1.00                      72.86   \n",
       "min          -0.43    -0.45              -0.33                       0.00   \n",
       "25%          -0.40    -0.41              -0.33                       0.00   \n",
       "50%          -0.34    -0.33              -0.33                       0.00   \n",
       "75%          -0.05    -0.05              -0.33                       0.00   \n",
       "max          15.27    13.20              14.48                    1092.21   \n",
       "\n",
       "       CPC (cost per link click)  CTR (link click-through rate)   Signup  \\\n",
       "count                    8135.00                        8135.00  8135.00   \n",
       "mean                       -0.00                          -0.00     0.02   \n",
       "std                         1.00                           1.00     0.17   \n",
       "min                        -0.99                          -0.78     0.00   \n",
       "25%                        -0.66                          -0.47     0.00   \n",
       "50%                        -0.16                          -0.25     0.00   \n",
       "75%                         0.34                           0.16     0.00   \n",
       "max                        12.21                          23.56     4.00   \n",
       "\n",
       "       Registration  Unique purchases  Unique adds to cart  Website leads  \\\n",
       "count       8135.00            8135.0               8135.0        8135.00   \n",
       "mean           0.00               0.0                  0.0           0.00   \n",
       "std            1.00               0.0                  0.0           0.03   \n",
       "min           -0.39               0.0                  0.0           0.00   \n",
       "25%           -0.39               0.0                  0.0           0.00   \n",
       "50%           -0.39               0.0                  0.0           0.00   \n",
       "75%            0.01               0.0                  0.0           0.00   \n",
       "max           12.00               0.0                  0.0           1.00   \n",
       "\n",
       "       Unique link clicks  Unique mobile app adds of payment info  \\\n",
       "count             8135.00                                  8135.0   \n",
       "mean                -0.00                                     0.0   \n",
       "std                  1.00                                     0.0   \n",
       "min                 -0.40                                     0.0   \n",
       "25%                 -0.37                                     0.0   \n",
       "50%                 -0.31                                     0.0   \n",
       "75%                 -0.07                                     0.0   \n",
       "max                 20.98                                     0.0   \n",
       "\n",
       "       Conversion rate ranking  Post shares  Return on ad spend (ROAS)  \\\n",
       "count                  8135.00      8135.00                    8135.00   \n",
       "mean                      0.19        -0.00                       5.65   \n",
       "std                       0.82         1.00                      33.61   \n",
       "min                       0.00        -0.14                       0.00   \n",
       "25%                       0.00        -0.14                       0.00   \n",
       "50%                       0.00        -0.14                       0.00   \n",
       "75%                       0.00        -0.14                       0.00   \n",
       "max                      10.00        36.76                    1143.38   \n",
       "\n",
       "       Unique completed registrations  Post comments  Impressions_2  \n",
       "count                          8135.0        8135.00        8135.00  \n",
       "mean                              0.0           0.00        8694.17  \n",
       "std                               0.0           1.00       20248.25  \n",
       "min                               0.0          -0.26           0.00  \n",
       "25%                               0.0          -0.26         563.50  \n",
       "50%                               0.0          -0.26        1772.00  \n",
       "75%                               0.0          -0.26        7751.00  \n",
       "max                               0.0          38.31      317885.00  "
      ]
     },
     "metadata": {},
     "output_type": "display_data"
    },
    {
     "data": {
      "text/plain": [
       "Date                                       object\n",
       "Ad set name                                object\n",
       "Ad name                                    object\n",
       "Campaign name                              object\n",
       "Impressions                               float64\n",
       "Cost                                      float64\n",
       "Website purchases                         float64\n",
       "Cost per website purchase                 float64\n",
       "CPC (cost per link click)                 float64\n",
       "CTR (link click-through rate)             float64\n",
       "Signup                                    float64\n",
       "Registration                              float64\n",
       "Unique purchases                          float64\n",
       "Unique adds to cart                       float64\n",
       "Website leads                             float64\n",
       "Unique link clicks                        float64\n",
       "Unique mobile app adds of payment info    float64\n",
       "Conversion rate ranking                   float64\n",
       "Post shares                               float64\n",
       "Return on ad spend (ROAS)                 float64\n",
       "Unique completed registrations            float64\n",
       "Post comments                             float64\n",
       "Impressions_2                             float64\n",
       "dtype: object"
      ]
     },
     "execution_count": 17,
     "metadata": {},
     "output_type": "execute_result"
    }
   ],
   "source": [
    "from sklearn.preprocessing import StandardScaler \n",
    "\n",
    "scaler = StandardScaler()\n",
    "\n",
    "scaler.fit(data_scaled[['Impressions', 'Cost', 'Unique link clicks', \n",
    "                        'Post shares', 'Post comments', 'Registration', \n",
    "                        'Website purchases', 'CPC (cost per link click)', \n",
    "                        'CTR (link click-through rate)']])\n",
    "\n",
    "data_scaled[['Impressions', 'Cost', 'Unique link clicks', \n",
    "             'Post shares', 'Post comments', 'Registration', \n",
    "             'Website purchases', 'CPC (cost per link click)', \n",
    "             'CTR (link click-through rate)']] = scaler.transform(data_scaled[['Impressions', 'Cost', \n",
    "                                                                               'Unique link clicks', \n",
    "                                                                               'Post shares', 'Post comments', \n",
    "                                                                               'Registration', \n",
    "                                                                               'Website purchases', \n",
    "                                                                               'CPC (cost per link click)', \n",
    "                                                                               'CTR (link click-through rate)']])\n",
    "display(data_scaled.head(1)) \n",
    "display(data_scaled.describe().round(2) )\n",
    "data_scaled.dtypes"
   ]
  },
  {
   "cell_type": "markdown",
   "metadata": {},
   "source": [
    "### data_daily: "
   ]
  },
  {
   "cell_type": "code",
   "execution_count": null,
   "metadata": {},
   "outputs": [],
   "source": []
  },
  {
   "cell_type": "markdown",
   "metadata": {},
   "source": [
    "### data_ad:"
   ]
  },
  {
   "cell_type": "code",
   "execution_count": 18,
   "metadata": {
    "ExecuteTime": {
     "end_time": "2021-04-06T14:55:02.269979Z",
     "start_time": "2021-04-06T14:55:02.246784Z"
    }
   },
   "outputs": [
    {
     "data": {
      "text/html": [
       "<div>\n",
       "<style scoped>\n",
       "    .dataframe tbody tr th:only-of-type {\n",
       "        vertical-align: middle;\n",
       "    }\n",
       "\n",
       "    .dataframe tbody tr th {\n",
       "        vertical-align: top;\n",
       "    }\n",
       "\n",
       "    .dataframe thead th {\n",
       "        text-align: right;\n",
       "    }\n",
       "</style>\n",
       "<table border=\"1\" class=\"dataframe\">\n",
       "  <thead>\n",
       "    <tr style=\"text-align: right;\">\n",
       "      <th></th>\n",
       "      <th>Impressions</th>\n",
       "      <th>Cost</th>\n",
       "      <th>Duration</th>\n",
       "      <th>Unique link clicks</th>\n",
       "      <th>Post shares</th>\n",
       "      <th>Post comments</th>\n",
       "      <th>Registration</th>\n",
       "      <th>Website purchases</th>\n",
       "      <th>CPC</th>\n",
       "      <th>CPM</th>\n",
       "      <th>CTR</th>\n",
       "      <th>CR</th>\n",
       "      <th>registration_CR</th>\n",
       "      <th>CPA</th>\n",
       "      <th>CTR_class</th>\n",
       "      <th>CR_class</th>\n",
       "    </tr>\n",
       "    <tr>\n",
       "      <th>Ad name</th>\n",
       "      <th></th>\n",
       "      <th></th>\n",
       "      <th></th>\n",
       "      <th></th>\n",
       "      <th></th>\n",
       "      <th></th>\n",
       "      <th></th>\n",
       "      <th></th>\n",
       "      <th></th>\n",
       "      <th></th>\n",
       "      <th></th>\n",
       "      <th></th>\n",
       "      <th></th>\n",
       "      <th></th>\n",
       "      <th></th>\n",
       "      <th></th>\n",
       "    </tr>\n",
       "  </thead>\n",
       "  <tbody>\n",
       "    <tr>\n",
       "      <th>5k-deathwish_single_w41-2020</th>\n",
       "      <td>58014.0</td>\n",
       "      <td>775.29</td>\n",
       "      <td>9</td>\n",
       "      <td>173.0</td>\n",
       "      <td>1.0</td>\n",
       "      <td>2.0</td>\n",
       "      <td>8.0</td>\n",
       "      <td>2.0</td>\n",
       "      <td>4.481445</td>\n",
       "      <td>13.363843</td>\n",
       "      <td>0.002982</td>\n",
       "      <td>0.011561</td>\n",
       "      <td>0.046243</td>\n",
       "      <td>387.645</td>\n",
       "      <td>1</td>\n",
       "      <td>1</td>\n",
       "    </tr>\n",
       "    <tr>\n",
       "      <th>Instagram post: Be more Mick!\\n🚀We’re growing at...</th>\n",
       "      <td>6272.0</td>\n",
       "      <td>20.00</td>\n",
       "      <td>5</td>\n",
       "      <td>94.0</td>\n",
       "      <td>1.0</td>\n",
       "      <td>0.0</td>\n",
       "      <td>0.0</td>\n",
       "      <td>0.0</td>\n",
       "      <td>0.212766</td>\n",
       "      <td>3.188776</td>\n",
       "      <td>0.014987</td>\n",
       "      <td>0.000000</td>\n",
       "      <td>0.000000</td>\n",
       "      <td>0.000</td>\n",
       "      <td>1</td>\n",
       "      <td>0</td>\n",
       "    </tr>\n",
       "    <tr>\n",
       "      <th>Post: \"\"Here lies DeadHappy. It was a bit of a sore...\"</th>\n",
       "      <td>646.0</td>\n",
       "      <td>4.64</td>\n",
       "      <td>2</td>\n",
       "      <td>0.0</td>\n",
       "      <td>0.0</td>\n",
       "      <td>12.0</td>\n",
       "      <td>0.0</td>\n",
       "      <td>0.0</td>\n",
       "      <td>0.000000</td>\n",
       "      <td>7.182663</td>\n",
       "      <td>0.000000</td>\n",
       "      <td>0.000000</td>\n",
       "      <td>0.000000</td>\n",
       "      <td>0.000</td>\n",
       "      <td>0</td>\n",
       "      <td>0</td>\n",
       "    </tr>\n",
       "  </tbody>\n",
       "</table>\n",
       "</div>"
      ],
      "text/plain": [
       "                                                    Impressions    Cost  \\\n",
       "Ad name                                                                   \n",
       "5k-deathwish_single_w41-2020                            58014.0  775.29   \n",
       "Instagram post: Be more Mick!\\n🚀We’re growing a...       6272.0   20.00   \n",
       "Post: \"\"Here lies DeadHappy. It was a bit of a ...        646.0    4.64   \n",
       "\n",
       "                                                    Duration  \\\n",
       "Ad name                                                        \n",
       "5k-deathwish_single_w41-2020                               9   \n",
       "Instagram post: Be more Mick!\\n🚀We’re growing a...         5   \n",
       "Post: \"\"Here lies DeadHappy. It was a bit of a ...         2   \n",
       "\n",
       "                                                    Unique link clicks  \\\n",
       "Ad name                                                                  \n",
       "5k-deathwish_single_w41-2020                                     173.0   \n",
       "Instagram post: Be more Mick!\\n🚀We’re growing a...                94.0   \n",
       "Post: \"\"Here lies DeadHappy. It was a bit of a ...                 0.0   \n",
       "\n",
       "                                                    Post shares  \\\n",
       "Ad name                                                           \n",
       "5k-deathwish_single_w41-2020                                1.0   \n",
       "Instagram post: Be more Mick!\\n🚀We’re growing a...          1.0   \n",
       "Post: \"\"Here lies DeadHappy. It was a bit of a ...          0.0   \n",
       "\n",
       "                                                    Post comments  \\\n",
       "Ad name                                                             \n",
       "5k-deathwish_single_w41-2020                                  2.0   \n",
       "Instagram post: Be more Mick!\\n🚀We’re growing a...            0.0   \n",
       "Post: \"\"Here lies DeadHappy. It was a bit of a ...           12.0   \n",
       "\n",
       "                                                    Registration  \\\n",
       "Ad name                                                            \n",
       "5k-deathwish_single_w41-2020                                 8.0   \n",
       "Instagram post: Be more Mick!\\n🚀We’re growing a...           0.0   \n",
       "Post: \"\"Here lies DeadHappy. It was a bit of a ...           0.0   \n",
       "\n",
       "                                                    Website purchases  \\\n",
       "Ad name                                                                 \n",
       "5k-deathwish_single_w41-2020                                      2.0   \n",
       "Instagram post: Be more Mick!\\n🚀We’re growing a...                0.0   \n",
       "Post: \"\"Here lies DeadHappy. It was a bit of a ...                0.0   \n",
       "\n",
       "                                                         CPC        CPM  \\\n",
       "Ad name                                                                   \n",
       "5k-deathwish_single_w41-2020                        4.481445  13.363843   \n",
       "Instagram post: Be more Mick!\\n🚀We’re growing a...  0.212766   3.188776   \n",
       "Post: \"\"Here lies DeadHappy. It was a bit of a ...  0.000000   7.182663   \n",
       "\n",
       "                                                         CTR        CR  \\\n",
       "Ad name                                                                  \n",
       "5k-deathwish_single_w41-2020                        0.002982  0.011561   \n",
       "Instagram post: Be more Mick!\\n🚀We’re growing a...  0.014987  0.000000   \n",
       "Post: \"\"Here lies DeadHappy. It was a bit of a ...  0.000000  0.000000   \n",
       "\n",
       "                                                    registration_CR      CPA  \\\n",
       "Ad name                                                                        \n",
       "5k-deathwish_single_w41-2020                               0.046243  387.645   \n",
       "Instagram post: Be more Mick!\\n🚀We’re growing a...         0.000000    0.000   \n",
       "Post: \"\"Here lies DeadHappy. It was a bit of a ...         0.000000    0.000   \n",
       "\n",
       "                                                   CTR_class CR_class  \n",
       "Ad name                                                                \n",
       "5k-deathwish_single_w41-2020                               1        1  \n",
       "Instagram post: Be more Mick!\\n🚀We’re growing a...         1        0  \n",
       "Post: \"\"Here lies DeadHappy. It was a bit of a ...         0        0  "
      ]
     },
     "execution_count": 18,
     "metadata": {},
     "output_type": "execute_result"
    }
   ],
   "source": [
    "data_ad_scaled = data_ad.copy()\n",
    "data_ad_scaled.head(3)"
   ]
  },
  {
   "cell_type": "code",
   "execution_count": 19,
   "metadata": {
    "ExecuteTime": {
     "end_time": "2021-04-06T14:55:02.870926Z",
     "start_time": "2021-04-06T14:55:02.717718Z"
    },
    "scrolled": false
   },
   "outputs": [
    {
     "data": {
      "text/html": [
       "<div>\n",
       "<style scoped>\n",
       "    .dataframe tbody tr th:only-of-type {\n",
       "        vertical-align: middle;\n",
       "    }\n",
       "\n",
       "    .dataframe tbody tr th {\n",
       "        vertical-align: top;\n",
       "    }\n",
       "\n",
       "    .dataframe thead th {\n",
       "        text-align: right;\n",
       "    }\n",
       "</style>\n",
       "<table border=\"1\" class=\"dataframe\">\n",
       "  <thead>\n",
       "    <tr style=\"text-align: right;\">\n",
       "      <th></th>\n",
       "      <th>Impressions</th>\n",
       "      <th>Cost</th>\n",
       "      <th>Duration</th>\n",
       "      <th>Unique link clicks</th>\n",
       "      <th>Post shares</th>\n",
       "      <th>Post comments</th>\n",
       "      <th>Registration</th>\n",
       "      <th>Website purchases</th>\n",
       "      <th>CPC</th>\n",
       "      <th>CPM</th>\n",
       "      <th>CTR</th>\n",
       "      <th>CR</th>\n",
       "      <th>registration_CR</th>\n",
       "      <th>CPA</th>\n",
       "      <th>CTR_class</th>\n",
       "      <th>CR_class</th>\n",
       "    </tr>\n",
       "    <tr>\n",
       "      <th>Ad name</th>\n",
       "      <th></th>\n",
       "      <th></th>\n",
       "      <th></th>\n",
       "      <th></th>\n",
       "      <th></th>\n",
       "      <th></th>\n",
       "      <th></th>\n",
       "      <th></th>\n",
       "      <th></th>\n",
       "      <th></th>\n",
       "      <th></th>\n",
       "      <th></th>\n",
       "      <th></th>\n",
       "      <th></th>\n",
       "      <th></th>\n",
       "      <th></th>\n",
       "    </tr>\n",
       "  </thead>\n",
       "  <tbody>\n",
       "    <tr>\n",
       "      <th>5k-deathwish_single_w41-2020</th>\n",
       "      <td>-0.240419</td>\n",
       "      <td>-0.216884</td>\n",
       "      <td>-0.367817</td>\n",
       "      <td>-0.234857</td>\n",
       "      <td>-0.204327</td>\n",
       "      <td>-0.253375</td>\n",
       "      <td>-0.265787</td>\n",
       "      <td>-0.249262</td>\n",
       "      <td>0.070573</td>\n",
       "      <td>1.563537</td>\n",
       "      <td>-0.120864</td>\n",
       "      <td>0.087545</td>\n",
       "      <td>-0.265763</td>\n",
       "      <td>387.645</td>\n",
       "      <td>1</td>\n",
       "      <td>1</td>\n",
       "    </tr>\n",
       "    <tr>\n",
       "      <th>Instagram post: Be more Mick!\\n🚀We’re growing at...</th>\n",
       "      <td>-0.281496</td>\n",
       "      <td>-0.298557</td>\n",
       "      <td>-0.413129</td>\n",
       "      <td>-0.255699</td>\n",
       "      <td>-0.204327</td>\n",
       "      <td>-0.276500</td>\n",
       "      <td>-0.294538</td>\n",
       "      <td>-0.298661</td>\n",
       "      <td>-0.368848</td>\n",
       "      <td>-1.054563</td>\n",
       "      <td>2.801061</td>\n",
       "      <td>-0.479871</td>\n",
       "      <td>-0.863723</td>\n",
       "      <td>0.000</td>\n",
       "      <td>1</td>\n",
       "      <td>0</td>\n",
       "    </tr>\n",
       "  </tbody>\n",
       "</table>\n",
       "</div>"
      ],
      "text/plain": [
       "                                                    Impressions      Cost  \\\n",
       "Ad name                                                                     \n",
       "5k-deathwish_single_w41-2020                          -0.240419 -0.216884   \n",
       "Instagram post: Be more Mick!\\n🚀We’re growing a...    -0.281496 -0.298557   \n",
       "\n",
       "                                                    Duration  \\\n",
       "Ad name                                                        \n",
       "5k-deathwish_single_w41-2020                       -0.367817   \n",
       "Instagram post: Be more Mick!\\n🚀We’re growing a... -0.413129   \n",
       "\n",
       "                                                    Unique link clicks  \\\n",
       "Ad name                                                                  \n",
       "5k-deathwish_single_w41-2020                                 -0.234857   \n",
       "Instagram post: Be more Mick!\\n🚀We’re growing a...           -0.255699   \n",
       "\n",
       "                                                    Post shares  \\\n",
       "Ad name                                                           \n",
       "5k-deathwish_single_w41-2020                          -0.204327   \n",
       "Instagram post: Be more Mick!\\n🚀We’re growing a...    -0.204327   \n",
       "\n",
       "                                                    Post comments  \\\n",
       "Ad name                                                             \n",
       "5k-deathwish_single_w41-2020                            -0.253375   \n",
       "Instagram post: Be more Mick!\\n🚀We’re growing a...      -0.276500   \n",
       "\n",
       "                                                    Registration  \\\n",
       "Ad name                                                            \n",
       "5k-deathwish_single_w41-2020                           -0.265787   \n",
       "Instagram post: Be more Mick!\\n🚀We’re growing a...     -0.294538   \n",
       "\n",
       "                                                    Website purchases  \\\n",
       "Ad name                                                                 \n",
       "5k-deathwish_single_w41-2020                                -0.249262   \n",
       "Instagram post: Be more Mick!\\n🚀We’re growing a...          -0.298661   \n",
       "\n",
       "                                                         CPC       CPM  \\\n",
       "Ad name                                                                  \n",
       "5k-deathwish_single_w41-2020                        0.070573  1.563537   \n",
       "Instagram post: Be more Mick!\\n🚀We’re growing a... -0.368848 -1.054563   \n",
       "\n",
       "                                                         CTR        CR  \\\n",
       "Ad name                                                                  \n",
       "5k-deathwish_single_w41-2020                       -0.120864  0.087545   \n",
       "Instagram post: Be more Mick!\\n🚀We’re growing a...  2.801061 -0.479871   \n",
       "\n",
       "                                                    registration_CR      CPA  \\\n",
       "Ad name                                                                        \n",
       "5k-deathwish_single_w41-2020                              -0.265763  387.645   \n",
       "Instagram post: Be more Mick!\\n🚀We’re growing a...        -0.863723    0.000   \n",
       "\n",
       "                                                   CTR_class CR_class  \n",
       "Ad name                                                                \n",
       "5k-deathwish_single_w41-2020                               1        1  \n",
       "Instagram post: Be more Mick!\\n🚀We’re growing a...         1        0  "
      ]
     },
     "metadata": {},
     "output_type": "display_data"
    },
    {
     "data": {
      "text/html": [
       "<div>\n",
       "<style scoped>\n",
       "    .dataframe tbody tr th:only-of-type {\n",
       "        vertical-align: middle;\n",
       "    }\n",
       "\n",
       "    .dataframe tbody tr th {\n",
       "        vertical-align: top;\n",
       "    }\n",
       "\n",
       "    .dataframe thead th {\n",
       "        text-align: right;\n",
       "    }\n",
       "</style>\n",
       "<table border=\"1\" class=\"dataframe\">\n",
       "  <thead>\n",
       "    <tr style=\"text-align: right;\">\n",
       "      <th></th>\n",
       "      <th>Impressions</th>\n",
       "      <th>Cost</th>\n",
       "      <th>Duration</th>\n",
       "      <th>Unique link clicks</th>\n",
       "      <th>Post shares</th>\n",
       "      <th>Post comments</th>\n",
       "      <th>Registration</th>\n",
       "      <th>Website purchases</th>\n",
       "      <th>CPC</th>\n",
       "      <th>CPM</th>\n",
       "      <th>CTR</th>\n",
       "      <th>CR</th>\n",
       "      <th>registration_CR</th>\n",
       "      <th>CPA</th>\n",
       "    </tr>\n",
       "  </thead>\n",
       "  <tbody>\n",
       "    <tr>\n",
       "      <th>count</th>\n",
       "      <td>196.00</td>\n",
       "      <td>196.00</td>\n",
       "      <td>196.00</td>\n",
       "      <td>196.00</td>\n",
       "      <td>196.00</td>\n",
       "      <td>196.00</td>\n",
       "      <td>196.00</td>\n",
       "      <td>196.00</td>\n",
       "      <td>196.00</td>\n",
       "      <td>196.00</td>\n",
       "      <td>196.00</td>\n",
       "      <td>196.00</td>\n",
       "      <td>196.00</td>\n",
       "      <td>196.00</td>\n",
       "    </tr>\n",
       "    <tr>\n",
       "      <th>mean</th>\n",
       "      <td>0.00</td>\n",
       "      <td>-0.00</td>\n",
       "      <td>-0.00</td>\n",
       "      <td>0.00</td>\n",
       "      <td>0.00</td>\n",
       "      <td>0.00</td>\n",
       "      <td>0.00</td>\n",
       "      <td>-0.00</td>\n",
       "      <td>0.00</td>\n",
       "      <td>0.00</td>\n",
       "      <td>0.00</td>\n",
       "      <td>-0.00</td>\n",
       "      <td>0.00</td>\n",
       "      <td>142.86</td>\n",
       "    </tr>\n",
       "    <tr>\n",
       "      <th>std</th>\n",
       "      <td>1.00</td>\n",
       "      <td>1.00</td>\n",
       "      <td>1.00</td>\n",
       "      <td>1.00</td>\n",
       "      <td>1.00</td>\n",
       "      <td>1.00</td>\n",
       "      <td>1.00</td>\n",
       "      <td>1.00</td>\n",
       "      <td>1.00</td>\n",
       "      <td>1.00</td>\n",
       "      <td>1.00</td>\n",
       "      <td>1.00</td>\n",
       "      <td>1.00</td>\n",
       "      <td>237.63</td>\n",
       "    </tr>\n",
       "    <tr>\n",
       "      <th>min</th>\n",
       "      <td>-0.29</td>\n",
       "      <td>-0.30</td>\n",
       "      <td>-0.47</td>\n",
       "      <td>-0.28</td>\n",
       "      <td>-0.21</td>\n",
       "      <td>-0.28</td>\n",
       "      <td>-0.29</td>\n",
       "      <td>-0.30</td>\n",
       "      <td>-0.39</td>\n",
       "      <td>-1.88</td>\n",
       "      <td>-0.85</td>\n",
       "      <td>-0.48</td>\n",
       "      <td>-0.86</td>\n",
       "      <td>0.00</td>\n",
       "    </tr>\n",
       "    <tr>\n",
       "      <th>25%</th>\n",
       "      <td>-0.28</td>\n",
       "      <td>-0.30</td>\n",
       "      <td>-0.42</td>\n",
       "      <td>-0.28</td>\n",
       "      <td>-0.21</td>\n",
       "      <td>-0.28</td>\n",
       "      <td>-0.29</td>\n",
       "      <td>-0.30</td>\n",
       "      <td>-0.31</td>\n",
       "      <td>-0.70</td>\n",
       "      <td>-0.47</td>\n",
       "      <td>-0.48</td>\n",
       "      <td>-0.86</td>\n",
       "      <td>0.00</td>\n",
       "    </tr>\n",
       "    <tr>\n",
       "      <th>50%</th>\n",
       "      <td>-0.26</td>\n",
       "      <td>-0.28</td>\n",
       "      <td>-0.38</td>\n",
       "      <td>-0.26</td>\n",
       "      <td>-0.20</td>\n",
       "      <td>-0.25</td>\n",
       "      <td>-0.28</td>\n",
       "      <td>-0.30</td>\n",
       "      <td>-0.14</td>\n",
       "      <td>-0.06</td>\n",
       "      <td>-0.24</td>\n",
       "      <td>-0.48</td>\n",
       "      <td>-0.29</td>\n",
       "      <td>0.00</td>\n",
       "    </tr>\n",
       "    <tr>\n",
       "      <th>75%</th>\n",
       "      <td>-0.16</td>\n",
       "      <td>-0.14</td>\n",
       "      <td>-0.29</td>\n",
       "      <td>-0.13</td>\n",
       "      <td>-0.14</td>\n",
       "      <td>-0.12</td>\n",
       "      <td>-0.13</td>\n",
       "      <td>-0.14</td>\n",
       "      <td>0.03</td>\n",
       "      <td>0.58</td>\n",
       "      <td>0.16</td>\n",
       "      <td>0.24</td>\n",
       "      <td>0.66</td>\n",
       "      <td>228.01</td>\n",
       "    </tr>\n",
       "    <tr>\n",
       "      <th>max</th>\n",
       "      <td>11.42</td>\n",
       "      <td>10.93</td>\n",
       "      <td>4.90</td>\n",
       "      <td>10.23</td>\n",
       "      <td>11.96</td>\n",
       "      <td>11.15</td>\n",
       "      <td>10.75</td>\n",
       "      <td>10.96</td>\n",
       "      <td>11.86</td>\n",
       "      <td>4.40</td>\n",
       "      <td>9.04</td>\n",
       "      <td>8.44</td>\n",
       "      <td>5.60</td>\n",
       "      <td>2032.77</td>\n",
       "    </tr>\n",
       "  </tbody>\n",
       "</table>\n",
       "</div>"
      ],
      "text/plain": [
       "       Impressions    Cost  Duration  Unique link clicks  Post shares  \\\n",
       "count       196.00  196.00    196.00              196.00       196.00   \n",
       "mean          0.00   -0.00     -0.00                0.00         0.00   \n",
       "std           1.00    1.00      1.00                1.00         1.00   \n",
       "min          -0.29   -0.30     -0.47               -0.28        -0.21   \n",
       "25%          -0.28   -0.30     -0.42               -0.28        -0.21   \n",
       "50%          -0.26   -0.28     -0.38               -0.26        -0.20   \n",
       "75%          -0.16   -0.14     -0.29               -0.13        -0.14   \n",
       "max          11.42   10.93      4.90               10.23        11.96   \n",
       "\n",
       "       Post comments  Registration  Website purchases     CPC     CPM     CTR  \\\n",
       "count         196.00        196.00             196.00  196.00  196.00  196.00   \n",
       "mean            0.00          0.00              -0.00    0.00    0.00    0.00   \n",
       "std             1.00          1.00               1.00    1.00    1.00    1.00   \n",
       "min            -0.28         -0.29              -0.30   -0.39   -1.88   -0.85   \n",
       "25%            -0.28         -0.29              -0.30   -0.31   -0.70   -0.47   \n",
       "50%            -0.25         -0.28              -0.30   -0.14   -0.06   -0.24   \n",
       "75%            -0.12         -0.13              -0.14    0.03    0.58    0.16   \n",
       "max            11.15         10.75              10.96   11.86    4.40    9.04   \n",
       "\n",
       "           CR  registration_CR      CPA  \n",
       "count  196.00           196.00   196.00  \n",
       "mean    -0.00             0.00   142.86  \n",
       "std      1.00             1.00   237.63  \n",
       "min     -0.48            -0.86     0.00  \n",
       "25%     -0.48            -0.86     0.00  \n",
       "50%     -0.48            -0.29     0.00  \n",
       "75%      0.24             0.66   228.01  \n",
       "max      8.44             5.60  2032.77  "
      ]
     },
     "execution_count": 19,
     "metadata": {},
     "output_type": "execute_result"
    }
   ],
   "source": [
    "from sklearn.preprocessing import StandardScaler \n",
    "\n",
    "scaler = StandardScaler()\n",
    "\n",
    "scaler.fit(data_ad_scaled[['Impressions', 'Cost', 'Duration', \n",
    "                           'Unique link clicks', \n",
    "                           'Post shares', 'Post comments', \n",
    "                           'Registration', \n",
    "                           'Website purchases', 'CPC', \n",
    "                           'CPM', 'CTR', 'CR', 'registration_CR']])\n",
    "\n",
    "data_ad_scaled[['Impressions', 'Cost', 'Duration', \n",
    "                'Unique link clicks', \n",
    "                'Post shares', 'Post comments', \n",
    "                'Registration', \n",
    "                'Website purchases', 'CPC', \n",
    "                'CPM', 'CTR', 'CR', \n",
    "                'registration_CR']] = scaler.transform(data_ad_scaled[['Impressions', 'Cost', \n",
    "                                                                       'Duration', 'Unique link clicks', \n",
    "                                                                       'Post shares', 'Post comments', \n",
    "                                                                       'Registration', 'Website purchases', \n",
    "                                                                       'CPC', 'CPM', 'CTR', 'CR',\n",
    "                                                                       'registration_CR']])\n",
    "display(data_ad_scaled.head(2)) \n",
    "data_ad_scaled.describe().round(2) "
   ]
  },
  {
   "cell_type": "markdown",
   "metadata": {},
   "source": [
    "# KMeans: "
   ]
  },
  {
   "cell_type": "markdown",
   "metadata": {},
   "source": [
    "## KNN - KNeighborsRegressor"
   ]
  },
  {
   "cell_type": "markdown",
   "metadata": {},
   "source": [
    "### data_ad: "
   ]
  },
  {
   "cell_type": "markdown",
   "metadata": {},
   "source": [
    "#### Baseline KNN Model (Day 5, Week 4)"
   ]
  },
  {
   "cell_type": "code",
   "execution_count": 146,
   "metadata": {
    "ExecuteTime": {
     "end_time": "2021-04-06T18:33:18.533134Z",
     "start_time": "2021-04-06T18:33:18.515683Z"
    }
   },
   "outputs": [],
   "source": [
    "from sklearn.model_selection import train_test_split\n",
    "\n",
    "# Split data_ad_scaled: \n",
    "X_scaled = data_ad_scaled[['Impressions', 'Cost', 'Duration', 'Unique link clicks', \n",
    "                    'Post shares', 'Post comments', 'Registration', \n",
    "                    'CPC', 'CPM', 'CTR', 'CTR_class']]\n",
    "y_scaled = data_ad_scaled[\"Website purchases\"]\n",
    " \n",
    "X_train_scaled, X_test_scaled,\\\n",
    "y_train_scaled, y_test_scaled = train_test_split(X_scaled, y_scaled, \n",
    "                                                 test_size = 0.3, random_state = 1)\n",
    "\n",
    "# Split data_ad: \n",
    "X = data_ad[['Impressions', 'Cost', 'Duration', 'Unique link clicks', \n",
    "                    'Post shares', 'Post comments', 'Registration', \n",
    "                    'CPC', 'CPM', 'CTR', 'CTR_class']]\n",
    "y = data_ad[\"Website purchases\"]\n",
    " \n",
    "X_train, X_test, y_train, y_test = train_test_split(X, y, test_size = 0.3,\n",
    "                                                    random_state = 1)"
   ]
  },
  {
   "cell_type": "code",
   "execution_count": 148,
   "metadata": {
    "ExecuteTime": {
     "end_time": "2021-04-06T18:33:22.912835Z",
     "start_time": "2021-04-06T18:33:22.860028Z"
    }
   },
   "outputs": [
    {
     "name": "stdout",
     "output_type": "stream",
     "text": [
      "The Baseline score is: 65.2%.\n"
     ]
    }
   ],
   "source": [
    "# Train the model with regular data only, no scaled data: \n",
    "model_knn_reg = KNeighborsRegressor(n_neighbors = 1)\n",
    "\n",
    "cv_result = cross_validate(model_knn_reg, X_train, y_train, cv = 5)\n",
    "\n",
    "print(f\"\"\"The Baseline score is: {(cv_result[\"test_score\"].mean() * 100).round(1)}%.\"\"\")"
   ]
  },
  {
   "cell_type": "code",
   "execution_count": 147,
   "metadata": {
    "ExecuteTime": {
     "end_time": "2021-04-06T18:33:19.281486Z",
     "start_time": "2021-04-06T18:33:19.215206Z"
    }
   },
   "outputs": [
    {
     "name": "stdout",
     "output_type": "stream",
     "text": [
      "The Baseline score is: 76.6%.\n"
     ]
    }
   ],
   "source": [
    "from sklearn.neighbors import KNeighborsRegressor\n",
    "from sklearn.model_selection import cross_validate\n",
    "\n",
    "model_knn_reg = KNeighborsRegressor(n_neighbors = 1)\n",
    "\n",
    "cv_result = cross_validate(model_knn_reg, X_train_scaled, \n",
    "                           y_train, cv = 5)\n",
    "\n",
    "print(f\"\"\"The Baseline score is: {(cv_result[\"test_score\"].mean() * 100).round(1)}%.\"\"\")"
   ]
  },
  {
   "cell_type": "markdown",
   "metadata": {},
   "source": [
    "#### GridSearchCV (Day 5, Week 4)"
   ]
  },
  {
   "cell_type": "code",
   "execution_count": 12,
   "metadata": {
    "ExecuteTime": {
     "end_time": "2021-04-06T14:55:20.851072Z",
     "start_time": "2021-04-06T14:55:15.623968Z"
    }
   },
   "outputs": [
    {
     "data": {
      "application/javascript": [
       "\n",
       "        if (window._pyforest_update_imports_cell) { window._pyforest_update_imports_cell('import numpy as np\\nimport pandas as pd'); }\n",
       "    "
      ],
      "text/plain": [
       "<IPython.core.display.Javascript object>"
      ]
     },
     "metadata": {},
     "output_type": "display_data"
    },
    {
     "data": {
      "text/plain": [
       "GridSearchCV(cv=5, estimator=KNeighborsRegressor(), n_jobs=-1,\n",
       "             param_grid={'n_neighbors': array([ 1,  2,  3,  4,  5,  6,  7,  8,  9, 10, 11, 12, 13, 14, 15, 16, 17,\n",
       "       18, 19, 20, 21, 22, 23, 24, 25, 26, 27, 28, 29, 30, 31, 32, 33, 34,\n",
       "       35, 36, 37, 38, 39, 40, 41, 42, 43, 44, 45, 46, 47, 48, 49, 50, 51,\n",
       "       52, 53, 54, 55, 56, 57, 58, 59, 60, 61, 62, 63, 64, 65, 66, 67, 68,\n",
       "       69, 70, 71, 72, 73, 74, 75, 76, 77, 78, 79, 80, 81, 82, 83, 84, 85,\n",
       "       86, 87, 88, 89, 90, 91, 92, 93, 94, 95, 96, 97, 98, 99])})"
      ]
     },
     "execution_count": 12,
     "metadata": {},
     "output_type": "execute_result"
    }
   ],
   "source": [
    "from sklearn.model_selection import GridSearchCV\n",
    "\n",
    "model_knn = KNeighborsRegressor()\n",
    "params = {\"n_neighbors\" : np.arange(1, 100, 1)}\n",
    "\n",
    "\n",
    "grid = GridSearchCV(model_knn, params, cv = 5, n_jobs = -1)\n",
    "\n",
    "grid.fit(X_train_scaled, y_train)"
   ]
  },
  {
   "cell_type": "code",
   "execution_count": 13,
   "metadata": {
    "ExecuteTime": {
     "end_time": "2021-04-06T14:55:20.861928Z",
     "start_time": "2021-04-06T14:55:20.856486Z"
    }
   },
   "outputs": [
    {
     "name": "stdout",
     "output_type": "stream",
     "text": [
      "The GridSearchCV score is: 77.0%. \n",
      "The best model is: KNeighborsRegressor(n_neighbors=1)\n"
     ]
    }
   ],
   "source": [
    "print(f\"\"\"The GridSearchCV score is: {(grid.best_score_ * 100).round()}%. \n",
    "The best model is: {grid.best_estimator_}\"\"\")"
   ]
  },
  {
   "cell_type": "markdown",
   "metadata": {},
   "source": [
    "#### Multiple Params (Day 5, Week 4): "
   ]
  },
  {
   "cell_type": "code",
   "execution_count": 14,
   "metadata": {
    "ExecuteTime": {
     "end_time": "2021-04-06T14:55:25.721970Z",
     "start_time": "2021-04-06T14:55:20.867580Z"
    }
   },
   "outputs": [
    {
     "data": {
      "application/javascript": [
       "\n",
       "        if (window._pyforest_update_imports_cell) { window._pyforest_update_imports_cell('import numpy as np\\nimport pandas as pd'); }\n",
       "    "
      ],
      "text/plain": [
       "<IPython.core.display.Javascript object>"
      ]
     },
     "metadata": {},
     "output_type": "display_data"
    },
    {
     "data": {
      "text/plain": [
       "GridSearchCV(cv=5, estimator=KNeighborsRegressor(), n_jobs=-1,\n",
       "             param_grid={'n_neighbors': array([ 1,  2,  3,  4,  5,  6,  7,  8,  9, 10, 11, 12, 13, 14, 15, 16, 17,\n",
       "       18, 19, 20, 21, 22, 23, 24, 25, 26, 27, 28, 29, 30, 31, 32, 33, 34,\n",
       "       35, 36, 37, 38, 39, 40, 41, 42, 43, 44, 45, 46, 47, 48, 49, 50, 51,\n",
       "       52, 53, 54, 55, 56, 57, 58, 59, 60, 61, 62, 63, 64, 65, 66, 67, 68,\n",
       "       69, 70, 71, 72, 73, 74, 75, 76, 77, 78, 79, 80, 81, 82, 83, 84, 85,\n",
       "       86, 87, 88, 89, 90, 91, 92, 93, 94, 95, 96, 97, 98, 99]),\n",
       "                         'p': [1, 2, 3]})"
      ]
     },
     "execution_count": 14,
     "metadata": {},
     "output_type": "execute_result"
    }
   ],
   "source": [
    "from sklearn.model_selection import GridSearchCV\n",
    "\n",
    "model_knn = KNeighborsRegressor()\n",
    "params = {\"n_neighbors\" : np.arange(1, 100, 1), \n",
    "          \"p\" : [1, 2, 3]}\n",
    "\n",
    "grid_multiple = GridSearchCV(model_knn, params, cv = 5, n_jobs = -1)\n",
    "\n",
    "grid_multiple.fit(X_train_scaled, y_train)"
   ]
  },
  {
   "cell_type": "code",
   "execution_count": 15,
   "metadata": {
    "ExecuteTime": {
     "end_time": "2021-04-06T14:55:25.734765Z",
     "start_time": "2021-04-06T14:55:25.727654Z"
    }
   },
   "outputs": [
    {
     "name": "stdout",
     "output_type": "stream",
     "text": [
      "The Multiple GridSearchCV score is: 77.0%. \n",
      "The best model is: KNeighborsRegressor(n_neighbors=1, p=1)\n"
     ]
    }
   ],
   "source": [
    "print(f\"\"\"The Multiple GridSearchCV score is: {(grid_multiple.best_score_ * 100).round()}%. \n",
    "The best model is: {grid_multiple.best_estimator_}\"\"\")"
   ]
  },
  {
   "cell_type": "markdown",
   "metadata": {},
   "source": [
    "#### RandomizedSearchCV (Day 5, Week 4)"
   ]
  },
  {
   "cell_type": "code",
   "execution_count": 16,
   "metadata": {
    "ExecuteTime": {
     "end_time": "2021-04-06T14:55:27.784776Z",
     "start_time": "2021-04-06T14:55:26.468162Z"
    }
   },
   "outputs": [
    {
     "data": {
      "application/javascript": [
       "\n",
       "        if (window._pyforest_update_imports_cell) { window._pyforest_update_imports_cell('import numpy as np\\nimport pandas as pd'); }\n",
       "    "
      ],
      "text/plain": [
       "<IPython.core.display.Javascript object>"
      ]
     },
     "metadata": {},
     "output_type": "display_data"
    },
    {
     "data": {
      "text/plain": [
       "RandomizedSearchCV(cv=5, estimator=KNeighborsRegressor(), n_iter=60, n_jobs=-1,\n",
       "                   param_distributions={'n_neighbors': array([ 1,  2,  3,  4,  5,  6,  7,  8,  9, 10, 11, 12, 13, 14, 15, 16, 17,\n",
       "       18, 19, 20, 21, 22, 23, 24, 25, 26, 27, 28, 29, 30, 31, 32, 33, 34,\n",
       "       35, 36, 37, 38, 39, 40, 41, 42, 43, 44, 45, 46, 47, 48, 49, 50]),\n",
       "                                        'p': [1, 2, 3]})"
      ]
     },
     "execution_count": 16,
     "metadata": {},
     "output_type": "execute_result"
    }
   ],
   "source": [
    "from sklearn.model_selection import RandomizedSearchCV\n",
    "\n",
    "model_knn_reg = KNeighborsRegressor()\n",
    "search_space = {\"n_neighbors\" : np.arange(1, 51, 1), \n",
    "                \"p\" : [1, 2 , 3]}\n",
    "\n",
    "random_search = RandomizedSearchCV(model_knn_reg, cv = 5, \n",
    "                                   param_distributions = search_space, \n",
    "                                   n_jobs = -1, n_iter = 60)\n",
    "\n",
    "random_search.fit(X_train_scaled, y_train)"
   ]
  },
  {
   "cell_type": "code",
   "execution_count": 17,
   "metadata": {
    "ExecuteTime": {
     "end_time": "2021-04-06T14:55:27.796026Z",
     "start_time": "2021-04-06T14:55:27.788805Z"
    }
   },
   "outputs": [
    {
     "name": "stdout",
     "output_type": "stream",
     "text": [
      "The RandomSearchCV score is: 77.0%. \n",
      "The best model is: KNeighborsRegressor(n_neighbors=1, p=1)\n"
     ]
    }
   ],
   "source": [
    "print(f\"\"\"The RandomSearchCV score is: {(random_search.best_score_ * 100).round()}%. \n",
    "The best model is: {random_search.best_estimator_}\"\"\")"
   ]
  },
  {
   "cell_type": "markdown",
   "metadata": {},
   "source": [
    "#### Take the best model and generalise (Day 5, Week 4): "
   ]
  },
  {
   "cell_type": "code",
   "execution_count": 18,
   "metadata": {
    "ExecuteTime": {
     "end_time": "2021-04-06T14:55:28.521490Z",
     "start_time": "2021-04-06T14:55:28.511519Z"
    }
   },
   "outputs": [
    {
     "data": {
      "text/plain": [
       "KNeighborsRegressor(n_neighbors=1, p=1)"
      ]
     },
     "execution_count": 18,
     "metadata": {},
     "output_type": "execute_result"
    }
   ],
   "source": [
    "best_model = grid_multiple.best_estimator_\n",
    "best_model"
   ]
  },
  {
   "cell_type": "code",
   "execution_count": 19,
   "metadata": {
    "ExecuteTime": {
     "end_time": "2021-04-06T14:55:29.084627Z",
     "start_time": "2021-04-06T14:55:29.072260Z"
    }
   },
   "outputs": [
    {
     "data": {
      "text/plain": [
       "array([ 5.,  0.,  0., 14.,  1.,  0.,  1.,  2.,  0.,  3.,  0.,  0.,  0.,\n",
       "        0.,  0.,  0.,  0.,  1.,  5.,  8.,  0.,  3., 32., 14.,  4.,  5.,\n",
       "        0.,  0., 54.,  0.,  0., 60.,  3.,  5.,  8.,  0.,  5.,  0.,  1.,\n",
       "       14.,  0.,  0.,  0.,  0., 10.,  0.,  0.,  8.,  0.,  0.,  1.,  0.,\n",
       "        4.,  8.,  1.,  2.,  1.,  5., 18.])"
      ]
     },
     "execution_count": 19,
     "metadata": {},
     "output_type": "execute_result"
    }
   ],
   "source": [
    "best_model.fit(X_train_scaled, y_train)\n",
    "\n",
    "y_predicted = best_model.predict(X_test_scaled)\n",
    "y_predicted"
   ]
  },
  {
   "cell_type": "code",
   "execution_count": 20,
   "metadata": {
    "ExecuteTime": {
     "end_time": "2021-04-06T14:55:29.395309Z",
     "start_time": "2021-04-06T14:55:29.385644Z"
    }
   },
   "outputs": [
    {
     "name": "stdout",
     "output_type": "stream",
     "text": [
      "The R2 score is: 72.4%\n"
     ]
    }
   ],
   "source": [
    "from sklearn.metrics import r2_score\n",
    "\n",
    "r2 = r2_score(y_test, y_predicted)\n",
    "print(f\"The R2 score is: {(r2*100).round(1)}%\")"
   ]
  },
  {
   "cell_type": "markdown",
   "metadata": {},
   "source": [
    "#### cross_val_predict: "
   ]
  },
  {
   "cell_type": "code",
   "execution_count": 21,
   "metadata": {
    "ExecuteTime": {
     "end_time": "2021-04-06T14:55:43.259822Z",
     "start_time": "2021-04-06T14:55:43.218347Z"
    },
    "scrolled": false
   },
   "outputs": [
    {
     "data": {
      "text/plain": [
       "array([-0.18010381, -0.2986608 , -0.29372093, -0.29372093, -0.2986608 ,\n",
       "       -0.2789013 , -0.2986608 , -0.2986608 , -0.29372093, -0.25420193])"
      ]
     },
     "execution_count": 21,
     "metadata": {},
     "output_type": "execute_result"
    }
   ],
   "source": [
    "from sklearn.model_selection import cross_val_predict\n",
    "\n",
    "model_knn_reg = KNeighborsRegressor()\n",
    "\n",
    "y_pred_knn_reg = cross_val_predict(model_knn_reg, X_scaled, y_scaled, cv = 5)\n",
    "y_pred_knn_reg[0:10]"
   ]
  },
  {
   "cell_type": "code",
   "execution_count": 150,
   "metadata": {
    "ExecuteTime": {
     "end_time": "2021-04-06T18:39:25.098274Z",
     "start_time": "2021-04-06T18:39:25.072208Z"
    }
   },
   "outputs": [
    {
     "data": {
      "application/javascript": [
       "\n",
       "        if (window._pyforest_update_imports_cell) { window._pyforest_update_imports_cell('import numpy as np\\nimport pandas as pd'); }\n",
       "    "
      ],
      "text/plain": [
       "<IPython.core.display.Javascript object>"
      ]
     },
     "metadata": {},
     "output_type": "display_data"
    },
    {
     "data": {
      "text/html": [
       "<div>\n",
       "<style scoped>\n",
       "    .dataframe tbody tr th:only-of-type {\n",
       "        vertical-align: middle;\n",
       "    }\n",
       "\n",
       "    .dataframe tbody tr th {\n",
       "        vertical-align: top;\n",
       "    }\n",
       "\n",
       "    .dataframe thead th {\n",
       "        text-align: right;\n",
       "    }\n",
       "</style>\n",
       "<table border=\"1\" class=\"dataframe\">\n",
       "  <thead>\n",
       "    <tr style=\"text-align: right;\">\n",
       "      <th></th>\n",
       "      <th>y_scaled</th>\n",
       "      <th>y_pred_knn_reg</th>\n",
       "      <th>delta</th>\n",
       "    </tr>\n",
       "  </thead>\n",
       "  <tbody>\n",
       "    <tr>\n",
       "      <th>174</th>\n",
       "      <td>-0.3</td>\n",
       "      <td>-0.29</td>\n",
       "      <td>0.00</td>\n",
       "    </tr>\n",
       "    <tr>\n",
       "      <th>18</th>\n",
       "      <td>-0.3</td>\n",
       "      <td>-0.27</td>\n",
       "      <td>0.02</td>\n",
       "    </tr>\n",
       "    <tr>\n",
       "      <th>26</th>\n",
       "      <td>-0.3</td>\n",
       "      <td>-0.30</td>\n",
       "      <td>0.00</td>\n",
       "    </tr>\n",
       "  </tbody>\n",
       "</table>\n",
       "</div>"
      ],
      "text/plain": [
       "     y_scaled  y_pred_knn_reg  delta\n",
       "174      -0.3           -0.29   0.00\n",
       "18       -0.3           -0.27   0.02\n",
       "26       -0.3           -0.30   0.00"
      ]
     },
     "execution_count": 150,
     "metadata": {},
     "output_type": "execute_result"
    }
   ],
   "source": [
    "result_knn_purchases = pd.DataFrame(zip(y_scaled, y_pred_knn_reg), \n",
    "                                    columns = [\"y_scaled\", \"y_pred_knn_reg\"])\n",
    "\n",
    "result_knn_purchases[\"delta\"] = result_knn_purchases.y_pred_knn_reg         \\\n",
    "                              - result_knn_purchases.y_scaled\n",
    "\n",
    "round(result_knn_purchases.sample(3), 2)"
   ]
  },
  {
   "cell_type": "code",
   "execution_count": 144,
   "metadata": {
    "ExecuteTime": {
     "end_time": "2021-04-06T18:32:10.061747Z",
     "start_time": "2021-04-06T18:32:10.049602Z"
    }
   },
   "outputs": [
    {
     "data": {
      "text/plain": [
       "-0.09"
      ]
     },
     "execution_count": 144,
     "metadata": {},
     "output_type": "execute_result"
    }
   ],
   "source": [
    "round(result_knn_purchases.delta.mean(), 2)"
   ]
  },
  {
   "cell_type": "markdown",
   "metadata": {},
   "source": [
    "## KMeans Clustering"
   ]
  },
  {
   "cell_type": "markdown",
   "metadata": {},
   "source": [
    "### Elbow: "
   ]
  },
  {
   "cell_type": "markdown",
   "metadata": {},
   "source": [
    "### Pairplots:"
   ]
  },
  {
   "cell_type": "code",
   "execution_count": null,
   "metadata": {},
   "outputs": [],
   "source": []
  },
  {
   "cell_type": "markdown",
   "metadata": {},
   "source": [
    "# Lin Reg / Regression:"
   ]
  },
  {
   "cell_type": "markdown",
   "metadata": {},
   "source": [
    "## data_ad"
   ]
  },
  {
   "cell_type": "markdown",
   "metadata": {},
   "source": [
    "### Predict Unique link clicks: "
   ]
  },
  {
   "cell_type": "markdown",
   "metadata": {},
   "source": [
    "#### Base Model: "
   ]
  },
  {
   "cell_type": "code",
   "execution_count": 4,
   "metadata": {
    "ExecuteTime": {
     "end_time": "2021-04-06T14:56:20.688972Z",
     "start_time": "2021-04-06T14:56:20.681880Z"
    }
   },
   "outputs": [
    {
     "data": {
      "text/plain": [
       "Index(['Impressions', 'Cost', 'Duration', 'Unique link clicks', 'Post shares',\n",
       "       'Post comments', 'Registration', 'Website purchases', 'CPC', 'CPM',\n",
       "       'CTR', 'CR', 'registration_CR', 'CPA', 'CTR_class', 'CR_class'],\n",
       "      dtype='object')"
      ]
     },
     "execution_count": 4,
     "metadata": {},
     "output_type": "execute_result"
    }
   ],
   "source": [
    "data_ad.columns"
   ]
  },
  {
   "cell_type": "code",
   "execution_count": 5,
   "metadata": {
    "ExecuteTime": {
     "end_time": "2021-04-06T14:56:21.513953Z",
     "start_time": "2021-04-06T14:56:21.484026Z"
    }
   },
   "outputs": [
    {
     "data": {
      "text/plain": [
       "95.85"
      ]
     },
     "execution_count": 5,
     "metadata": {},
     "output_type": "execute_result"
    }
   ],
   "source": [
    "#X = data_ad[[\"Cost per website purchase\"]] \n",
    "X_linreg_clicks = data_ad.drop(columns = [\"Unique link clicks\", \"Impressions\", \n",
    "                                          \"CTR\", \"CTR_class\"])\n",
    "y_linreg_clicks = data_ad[\"Unique link clicks\"] \n",
    " \n",
    "X_train, X_test, y_train, y_test = train_test_split(X_linreg_clicks, \n",
    "                                                    y_linreg_clicks, \n",
    "                                                    test_size = 0.3, \n",
    "                                                    random_state = 3) \n",
    " \n",
    "lin_model_clicks = LinearRegression() \n",
    " \n",
    "lin_model_clicks.fit(X_train, y_train) \n",
    "\n",
    "(lin_model_clicks.score(X_test, y_test) * 100).round(2)"
   ]
  },
  {
   "cell_type": "code",
   "execution_count": 6,
   "metadata": {
    "ExecuteTime": {
     "end_time": "2021-04-06T14:56:22.487806Z",
     "start_time": "2021-04-06T14:56:22.481624Z"
    }
   },
   "outputs": [
    {
     "name": "stdout",
     "output_type": "stream",
     "text": [
      "[ 3.90781446e-01 -2.16524020e+00 -3.33260167e-01  2.27717010e+01\n",
      " -1.27551802e+01  5.81341803e+01 -5.51414211e+00 -1.70250031e+01\n",
      " -2.41109026e+03  3.17201109e+02  8.46197913e-02 -1.24978690e+02]\n",
      "65.82467458166639\n"
     ]
    }
   ],
   "source": [
    "print(lin_model_clicks.coef_) \n",
    "print(lin_model_clicks.intercept_) "
   ]
  },
  {
   "cell_type": "code",
   "execution_count": 7,
   "metadata": {
    "ExecuteTime": {
     "end_time": "2021-04-06T14:56:26.466931Z",
     "start_time": "2021-04-06T14:56:23.048024Z"
    }
   },
   "outputs": [
    {
     "data": {
      "text/plain": [
       "{'importances_mean': array([1.80192379e+00, 7.43554859e-03, 6.16904498e-04, 5.46749672e-01,\n",
       "        1.75466454e+00, 7.56931413e-01, 3.56824089e-04, 5.39917639e-04,\n",
       "        4.37581956e-04, 1.29422604e-04, 5.87849670e-05, 5.23928805e-04]),\n",
       " 'importances_std': array([1.53255111e-01, 1.15997947e-03, 4.71713337e-04, 1.82042332e-02,\n",
       "        1.32263163e-01, 6.87845782e-02, 3.96565802e-04, 4.09257492e-04,\n",
       "        3.03184415e-04, 1.49985505e-04, 1.14734897e-04, 3.89665406e-04]),\n",
       " 'importances': array([[ 1.84812836e+00,  1.67884264e+00,  1.85144400e+00, ...,\n",
       "          1.85413295e+00,  1.83606988e+00,  1.88656153e+00],\n",
       "        [ 7.09875299e-03,  8.54828550e-03,  7.22325389e-03, ...,\n",
       "          6.39123163e-03,  8.11123485e-03,  5.40290334e-03],\n",
       "        [ 6.27368267e-04,  6.48028467e-04,  5.45720586e-04, ...,\n",
       "          6.39641794e-04,  4.87709675e-04,  7.75277111e-04],\n",
       "        ...,\n",
       "        [ 9.38194114e-05, -1.16060178e-04, -5.17956289e-05, ...,\n",
       "          3.06111435e-04,  2.46308166e-04,  1.87970461e-05],\n",
       "        [ 6.00891722e-05, -5.02919905e-05, -2.87125031e-05, ...,\n",
       "          1.00660080e-04,  1.36857781e-04,  1.17798817e-04],\n",
       "        [-1.37809550e-04,  9.60386033e-04,  8.42401458e-04, ...,\n",
       "          2.75105213e-04,  1.16912062e-04,  4.99914538e-04]])}"
      ]
     },
     "execution_count": 7,
     "metadata": {},
     "output_type": "execute_result"
    }
   ],
   "source": [
    "result = permutation_importance(lin_model_clicks, X_linreg_clicks, y_linreg_clicks, \n",
    "                                random_state = 5, n_repeats = 100) \n",
    "result"
   ]
  },
  {
   "cell_type": "code",
   "execution_count": 8,
   "metadata": {
    "ExecuteTime": {
     "end_time": "2021-04-06T14:56:26.482201Z",
     "start_time": "2021-04-06T14:56:26.470895Z"
    }
   },
   "outputs": [
    {
     "data": {
      "application/javascript": [
       "\n",
       "        if (window._pyforest_update_imports_cell) { window._pyforest_update_imports_cell('import pandas as pd\\nimport numpy as np'); }\n",
       "    "
      ],
      "text/plain": [
       "<IPython.core.display.Javascript object>"
      ]
     },
     "metadata": {},
     "output_type": "display_data"
    },
    {
     "data": {
      "text/plain": [
       "array([['Cost', 1.802],\n",
       "       ['Duration', 0.007],\n",
       "       ['Post shares', 0.001],\n",
       "       ['Post comments', 0.547],\n",
       "       ['Registration', 1.755],\n",
       "       ['Website purchases', 0.757],\n",
       "       ['CPC', 0.0],\n",
       "       ['CPM', 0.001],\n",
       "       ['CR', 0.0],\n",
       "       ['registration_CR', 0.0],\n",
       "       ['CPA', 0.0],\n",
       "       ['CR_class', 0.001]], dtype=object)"
      ]
     },
     "execution_count": 8,
     "metadata": {},
     "output_type": "execute_result"
    }
   ],
   "source": [
    "results = np.vstack((X_linreg_clicks.columns, \n",
    "                     (result.importances_mean).round(3))).T\n",
    "results"
   ]
  },
  {
   "cell_type": "code",
   "execution_count": 9,
   "metadata": {
    "ExecuteTime": {
     "end_time": "2021-04-06T14:56:26.504525Z",
     "start_time": "2021-04-06T14:56:26.487086Z"
    }
   },
   "outputs": [
    {
     "data": {
      "application/javascript": [
       "\n",
       "        if (window._pyforest_update_imports_cell) { window._pyforest_update_imports_cell('import pandas as pd\\nimport numpy as np'); }\n",
       "    "
      ],
      "text/plain": [
       "<IPython.core.display.Javascript object>"
      ]
     },
     "metadata": {},
     "output_type": "display_data"
    },
    {
     "data": {
      "text/html": [
       "<div>\n",
       "<style scoped>\n",
       "    .dataframe tbody tr th:only-of-type {\n",
       "        vertical-align: middle;\n",
       "    }\n",
       "\n",
       "    .dataframe tbody tr th {\n",
       "        vertical-align: top;\n",
       "    }\n",
       "\n",
       "    .dataframe thead th {\n",
       "        text-align: right;\n",
       "    }\n",
       "</style>\n",
       "<table border=\"1\" class=\"dataframe\">\n",
       "  <thead>\n",
       "    <tr style=\"text-align: right;\">\n",
       "      <th></th>\n",
       "      <th>Feature</th>\n",
       "      <th>Importance</th>\n",
       "    </tr>\n",
       "  </thead>\n",
       "  <tbody>\n",
       "    <tr>\n",
       "      <th>0</th>\n",
       "      <td>Cost</td>\n",
       "      <td>1.802</td>\n",
       "    </tr>\n",
       "    <tr>\n",
       "      <th>4</th>\n",
       "      <td>Registration</td>\n",
       "      <td>1.755</td>\n",
       "    </tr>\n",
       "    <tr>\n",
       "      <th>5</th>\n",
       "      <td>Website purchases</td>\n",
       "      <td>0.757</td>\n",
       "    </tr>\n",
       "    <tr>\n",
       "      <th>3</th>\n",
       "      <td>Post comments</td>\n",
       "      <td>0.547</td>\n",
       "    </tr>\n",
       "    <tr>\n",
       "      <th>1</th>\n",
       "      <td>Duration</td>\n",
       "      <td>0.007</td>\n",
       "    </tr>\n",
       "    <tr>\n",
       "      <th>2</th>\n",
       "      <td>Post shares</td>\n",
       "      <td>0.001</td>\n",
       "    </tr>\n",
       "    <tr>\n",
       "      <th>7</th>\n",
       "      <td>CPM</td>\n",
       "      <td>0.001</td>\n",
       "    </tr>\n",
       "    <tr>\n",
       "      <th>11</th>\n",
       "      <td>CR_class</td>\n",
       "      <td>0.001</td>\n",
       "    </tr>\n",
       "    <tr>\n",
       "      <th>6</th>\n",
       "      <td>CPC</td>\n",
       "      <td>0</td>\n",
       "    </tr>\n",
       "    <tr>\n",
       "      <th>8</th>\n",
       "      <td>CR</td>\n",
       "      <td>0</td>\n",
       "    </tr>\n",
       "    <tr>\n",
       "      <th>9</th>\n",
       "      <td>registration_CR</td>\n",
       "      <td>0</td>\n",
       "    </tr>\n",
       "    <tr>\n",
       "      <th>10</th>\n",
       "      <td>CPA</td>\n",
       "      <td>0</td>\n",
       "    </tr>\n",
       "  </tbody>\n",
       "</table>\n",
       "</div>"
      ],
      "text/plain": [
       "              Feature Importance\n",
       "0                Cost      1.802\n",
       "4        Registration      1.755\n",
       "5   Website purchases      0.757\n",
       "3       Post comments      0.547\n",
       "1            Duration      0.007\n",
       "2         Post shares      0.001\n",
       "7                 CPM      0.001\n",
       "11           CR_class      0.001\n",
       "6                 CPC          0\n",
       "8                  CR          0\n",
       "9     registration_CR          0\n",
       "10                CPA          0"
      ]
     },
     "execution_count": 9,
     "metadata": {},
     "output_type": "execute_result"
    }
   ],
   "source": [
    "pd.DataFrame(results, columns = [\"Feature\", \"Importance\"])                     \\\n",
    "  .sort_values([\"Importance\"], ascending = False)"
   ]
  },
  {
   "cell_type": "markdown",
   "metadata": {},
   "source": [
    "-> Run another Lin Reg model with only: Cost, Registration, Website purchases, Post comments."
   ]
  },
  {
   "cell_type": "markdown",
   "metadata": {},
   "source": [
    "#### Updated model: "
   ]
  },
  {
   "cell_type": "code",
   "execution_count": 10,
   "metadata": {
    "ExecuteTime": {
     "end_time": "2021-04-06T14:56:26.534773Z",
     "start_time": "2021-04-06T14:56:26.509835Z"
    },
    "scrolled": true
   },
   "outputs": [
    {
     "data": {
      "text/plain": [
       "95.64"
      ]
     },
     "execution_count": 10,
     "metadata": {},
     "output_type": "execute_result"
    }
   ],
   "source": [
    "X_linreg_clicks = data_ad[[\"Cost\", \"Registration\", \"Website purchases\", \"Post comments\", \"Duration\"]]\n",
    "y_linreg_clicks = data_ad[\"Unique link clicks\"] \n",
    " \n",
    "X_train, X_test, y_train, y_test = train_test_split(X_linreg_clicks, \n",
    "                                                    y_linreg_clicks, \n",
    "                                                    test_size = 0.3, \n",
    "                                                    random_state = 3) \n",
    " \n",
    "lin_model_clicks_updated = LinearRegression() \n",
    " \n",
    "lin_model_clicks_updated.fit(X_train, y_train) \n",
    "\n",
    "(lin_model_clicks_updated.score(X_test, y_test) * 100).round(2)"
   ]
  },
  {
   "cell_type": "markdown",
   "metadata": {},
   "source": [
    "-> By including more features we can improve our model. "
   ]
  },
  {
   "cell_type": "markdown",
   "metadata": {},
   "source": [
    "#### cross_val_predict: "
   ]
  },
  {
   "cell_type": "code",
   "execution_count": 11,
   "metadata": {
    "ExecuteTime": {
     "end_time": "2021-04-06T14:56:28.602242Z",
     "start_time": "2021-04-06T14:56:28.562067Z"
    }
   },
   "outputs": [
    {
     "data": {
      "text/plain": [
       "array([238.84371416, -93.77026585, 181.06050927, -70.30416664,\n",
       "       586.64301268,  92.24229537, -91.25811503, 150.93022475,\n",
       "       -88.41817201, -67.26772518])"
      ]
     },
     "metadata": {},
     "output_type": "display_data"
    },
    {
     "data": {
      "text/plain": [
       "196"
      ]
     },
     "execution_count": 11,
     "metadata": {},
     "output_type": "execute_result"
    }
   ],
   "source": [
    "from sklearn.model_selection import cross_val_predict\n",
    "y_pred_clicks = cross_val_predict(lin_model_clicks, X_linreg_clicks, \n",
    "                           y_linreg_clicks, cv = 5)\n",
    "display(y_pred_clicks[0:10])\n",
    "len(y_pred_clicks)"
   ]
  },
  {
   "cell_type": "code",
   "execution_count": 12,
   "metadata": {
    "ExecuteTime": {
     "end_time": "2021-04-06T14:56:28.963952Z",
     "start_time": "2021-04-06T14:56:28.922726Z"
    }
   },
   "outputs": [
    {
     "data": {
      "application/javascript": [
       "\n",
       "        if (window._pyforest_update_imports_cell) { window._pyforest_update_imports_cell('import pandas as pd\\nimport numpy as np'); }\n",
       "    "
      ],
      "text/plain": [
       "<IPython.core.display.Javascript object>"
      ]
     },
     "metadata": {},
     "output_type": "display_data"
    },
    {
     "data": {
      "text/html": [
       "<div>\n",
       "<style scoped>\n",
       "    .dataframe tbody tr th:only-of-type {\n",
       "        vertical-align: middle;\n",
       "    }\n",
       "\n",
       "    .dataframe tbody tr th {\n",
       "        vertical-align: top;\n",
       "    }\n",
       "\n",
       "    .dataframe thead th {\n",
       "        text-align: right;\n",
       "    }\n",
       "</style>\n",
       "<table border=\"1\" class=\"dataframe\">\n",
       "  <thead>\n",
       "    <tr style=\"text-align: right;\">\n",
       "      <th></th>\n",
       "      <th>y_linreg_clicks</th>\n",
       "      <th>y_pred_clicks</th>\n",
       "      <th>delta</th>\n",
       "    </tr>\n",
       "  </thead>\n",
       "  <tbody>\n",
       "    <tr>\n",
       "      <th>90</th>\n",
       "      <td>656.0</td>\n",
       "      <td>-52.790677</td>\n",
       "      <td>-708.790677</td>\n",
       "    </tr>\n",
       "    <tr>\n",
       "      <th>159</th>\n",
       "      <td>1871.0</td>\n",
       "      <td>2086.986066</td>\n",
       "      <td>215.986066</td>\n",
       "    </tr>\n",
       "    <tr>\n",
       "      <th>82</th>\n",
       "      <td>453.0</td>\n",
       "      <td>40.928084</td>\n",
       "      <td>-412.071916</td>\n",
       "    </tr>\n",
       "    <tr>\n",
       "      <th>55</th>\n",
       "      <td>0.0</td>\n",
       "      <td>171.819137</td>\n",
       "      <td>171.819137</td>\n",
       "    </tr>\n",
       "    <tr>\n",
       "      <th>126</th>\n",
       "      <td>420.0</td>\n",
       "      <td>200.235002</td>\n",
       "      <td>-219.764998</td>\n",
       "    </tr>\n",
       "  </tbody>\n",
       "</table>\n",
       "</div>"
      ],
      "text/plain": [
       "     y_linreg_clicks  y_pred_clicks       delta\n",
       "90             656.0     -52.790677 -708.790677\n",
       "159           1871.0    2086.986066  215.986066\n",
       "82             453.0      40.928084 -412.071916\n",
       "55               0.0     171.819137  171.819137\n",
       "126            420.0     200.235002 -219.764998"
      ]
     },
     "metadata": {},
     "output_type": "display_data"
    },
    {
     "data": {
      "text/plain": [
       "(196, 3)"
      ]
     },
     "execution_count": 12,
     "metadata": {},
     "output_type": "execute_result"
    }
   ],
   "source": [
    "comparision = pd.DataFrame(zip(y_linreg_clicks, y_pred_clicks), \n",
    "                           columns = [\"y_linreg_clicks\", \"y_pred_clicks\"])\n",
    "comparision[\"delta\"] = comparision.y_pred_clicks - comparision.y_linreg_clicks\n",
    "display(comparision.sample(5))\n",
    "comparision.shape"
   ]
  },
  {
   "cell_type": "code",
   "execution_count": 33,
   "metadata": {
    "ExecuteTime": {
     "end_time": "2021-04-06T14:56:30.207738Z",
     "start_time": "2021-04-06T14:56:30.190404Z"
    }
   },
   "outputs": [
    {
     "data": {
      "text/plain": [
       "-84.13051006933443"
      ]
     },
     "execution_count": 33,
     "metadata": {},
     "output_type": "execute_result"
    }
   ],
   "source": [
    "comparision.delta.mean()"
   ]
  },
  {
   "cell_type": "markdown",
   "metadata": {},
   "source": [
    "### Predict Website purchases: "
   ]
  },
  {
   "cell_type": "markdown",
   "metadata": {},
   "source": [
    "#### Base model:"
   ]
  },
  {
   "cell_type": "code",
   "execution_count": 108,
   "metadata": {},
   "outputs": [
    {
     "data": {
      "text/plain": [
       "Index(['Impressions', 'Cost', 'Duration', 'Unique link clicks', 'Post shares',\n",
       "       'Post comments', 'Registration', 'CPC', 'CPM', 'CTR', 'registration_CR',\n",
       "       'CPA', 'CTR_class'],\n",
       "      dtype='object')"
      ]
     },
     "execution_count": 108,
     "metadata": {},
     "output_type": "execute_result"
    }
   ],
   "source": [
    "columns = data_ad.drop(columns = [\"Website purchases\", \"CR\", \"CR_class\"]).columns \n",
    "columns"
   ]
  },
  {
   "cell_type": "code",
   "execution_count": 109,
   "metadata": {
    "ExecuteTime": {
     "end_time": "2021-04-06T14:56:32.557193Z",
     "start_time": "2021-04-06T14:56:32.539975Z"
    }
   },
   "outputs": [
    {
     "name": "stdout",
     "output_type": "stream",
     "text": [
      "The score of the base model is: 86.7%.\n"
     ]
    }
   ],
   "source": [
    "X_linreg_sales = data_ad[columns]\n",
    "y_linreg_sales = data_ad[\"Website purchases\"]\n",
    " \n",
    "X_train, X_test, y_train, y_test = train_test_split(X_linreg_sales, y_linreg_sales, \n",
    "                                                    test_size = 0.3, random_state = 1)\n",
    " \n",
    "lin_model_purchases = LinearRegression()\n",
    " \n",
    "lin_model_purchases.fit(X_train, y_train)\n",
    " \n",
    "print(f\"\"\"The score of the base model is: {(lin_model_purchases.score(X_test, y_test)*100).round(1)}%.\"\"\")"
   ]
  },
  {
   "cell_type": "code",
   "execution_count": 110,
   "metadata": {
    "ExecuteTime": {
     "end_time": "2021-04-06T14:56:36.586378Z",
     "start_time": "2021-04-06T14:56:32.971528Z"
    }
   },
   "outputs": [
    {
     "data": {
      "text/plain": [
       "{'importances_mean': array([ 4.37952014e-03,  1.47363817e-01,  8.21001553e-03,  1.92109995e-01,\n",
       "         9.55800192e-03,  1.09653869e-01,  2.44286550e+00,  1.56280077e-03,\n",
       "         6.81447955e-03, -1.87059470e-05,  3.51905114e-04,  1.60977293e-03,\n",
       "         4.02025364e-04]),\n",
       " 'importances_std': array([6.26303330e-04, 1.19657445e-02, 1.01401909e-03, 1.43865450e-02,\n",
       "        1.47691375e-03, 4.41132419e-03, 1.95383941e-01, 4.17615188e-04,\n",
       "        1.17922565e-03, 7.20794193e-05, 3.56659798e-04, 4.67024118e-04,\n",
       "        1.90961247e-04]),\n",
       " 'importances': array([[ 4.02297164e-03,  2.81034581e-03,  5.86767660e-03, ...,\n",
       "          6.31349624e-03,  3.94267806e-03,  4.34972658e-03],\n",
       "        [ 1.48377088e-01,  1.28721335e-01,  1.60153668e-01, ...,\n",
       "          1.60286628e-01,  1.47510129e-01,  1.52637075e-01],\n",
       "        [ 7.06024995e-03,  9.51418638e-03,  6.96734588e-03, ...,\n",
       "          6.74814823e-03,  8.41743690e-03,  7.21828075e-03],\n",
       "        ...,\n",
       "        [ 4.08845126e-04, -2.19933083e-05, -7.63178917e-06, ...,\n",
       "          1.54702008e-04,  6.28662901e-04,  6.52100607e-04],\n",
       "        [ 1.96721689e-03,  1.54078461e-03,  1.58116436e-03, ...,\n",
       "          1.30974107e-03,  1.99597358e-03,  1.62194867e-03],\n",
       "        [ 2.23011115e-04,  3.86969936e-04,  1.38272275e-04, ...,\n",
       "          2.96820190e-04,  4.33519921e-04,  5.22261486e-04]])}"
      ]
     },
     "execution_count": 110,
     "metadata": {},
     "output_type": "execute_result"
    }
   ],
   "source": [
    "result = permutation_importance(lin_model_purchases, X_linreg_sales, y_linreg_sales, \n",
    "                                random_state = 5, n_repeats = 100) \n",
    "result"
   ]
  },
  {
   "cell_type": "code",
   "execution_count": 111,
   "metadata": {
    "ExecuteTime": {
     "end_time": "2021-04-06T14:56:36.603485Z",
     "start_time": "2021-04-06T14:56:36.590212Z"
    },
    "scrolled": true
   },
   "outputs": [
    {
     "data": {
      "application/javascript": [
       "\n",
       "        if (window._pyforest_update_imports_cell) { window._pyforest_update_imports_cell('import pandas as pd\\nimport numpy as np'); }\n",
       "    "
      ],
      "text/plain": [
       "<IPython.core.display.Javascript object>"
      ]
     },
     "metadata": {},
     "output_type": "display_data"
    },
    {
     "data": {
      "text/plain": [
       "array([['Impressions', 0.0044],\n",
       "       ['Cost', 0.1474],\n",
       "       ['Duration', 0.0082],\n",
       "       ['Unique link clicks', 0.1921],\n",
       "       ['Post shares', 0.0096],\n",
       "       ['Post comments', 0.1097],\n",
       "       ['Registration', 2.4429],\n",
       "       ['CPC', 0.0016],\n",
       "       ['CPM', 0.0068],\n",
       "       ['CTR', -0.0],\n",
       "       ['registration_CR', 0.0004],\n",
       "       ['CPA', 0.0016],\n",
       "       ['CTR_class', 0.0004]], dtype=object)"
      ]
     },
     "execution_count": 111,
     "metadata": {},
     "output_type": "execute_result"
    }
   ],
   "source": [
    "results = np.vstack((X_linreg_sales.columns, \n",
    "                     (result.importances_mean).round(4))).T\n",
    "results"
   ]
  },
  {
   "cell_type": "code",
   "execution_count": 112,
   "metadata": {
    "ExecuteTime": {
     "end_time": "2021-04-06T14:56:36.625335Z",
     "start_time": "2021-04-06T14:56:36.608215Z"
    },
    "scrolled": false
   },
   "outputs": [
    {
     "data": {
      "application/javascript": [
       "\n",
       "        if (window._pyforest_update_imports_cell) { window._pyforest_update_imports_cell('import pandas as pd\\nimport numpy as np'); }\n",
       "    "
      ],
      "text/plain": [
       "<IPython.core.display.Javascript object>"
      ]
     },
     "metadata": {},
     "output_type": "display_data"
    },
    {
     "data": {
      "text/html": [
       "<div>\n",
       "<style scoped>\n",
       "    .dataframe tbody tr th:only-of-type {\n",
       "        vertical-align: middle;\n",
       "    }\n",
       "\n",
       "    .dataframe tbody tr th {\n",
       "        vertical-align: top;\n",
       "    }\n",
       "\n",
       "    .dataframe thead th {\n",
       "        text-align: right;\n",
       "    }\n",
       "</style>\n",
       "<table border=\"1\" class=\"dataframe\">\n",
       "  <thead>\n",
       "    <tr style=\"text-align: right;\">\n",
       "      <th></th>\n",
       "      <th>Feature</th>\n",
       "      <th>Importance</th>\n",
       "    </tr>\n",
       "  </thead>\n",
       "  <tbody>\n",
       "    <tr>\n",
       "      <th>6</th>\n",
       "      <td>Registration</td>\n",
       "      <td>2.4429</td>\n",
       "    </tr>\n",
       "    <tr>\n",
       "      <th>3</th>\n",
       "      <td>Unique link clicks</td>\n",
       "      <td>0.1921</td>\n",
       "    </tr>\n",
       "    <tr>\n",
       "      <th>1</th>\n",
       "      <td>Cost</td>\n",
       "      <td>0.1474</td>\n",
       "    </tr>\n",
       "    <tr>\n",
       "      <th>5</th>\n",
       "      <td>Post comments</td>\n",
       "      <td>0.1097</td>\n",
       "    </tr>\n",
       "    <tr>\n",
       "      <th>4</th>\n",
       "      <td>Post shares</td>\n",
       "      <td>0.0096</td>\n",
       "    </tr>\n",
       "    <tr>\n",
       "      <th>2</th>\n",
       "      <td>Duration</td>\n",
       "      <td>0.0082</td>\n",
       "    </tr>\n",
       "    <tr>\n",
       "      <th>8</th>\n",
       "      <td>CPM</td>\n",
       "      <td>0.0068</td>\n",
       "    </tr>\n",
       "    <tr>\n",
       "      <th>0</th>\n",
       "      <td>Impressions</td>\n",
       "      <td>0.0044</td>\n",
       "    </tr>\n",
       "    <tr>\n",
       "      <th>7</th>\n",
       "      <td>CPC</td>\n",
       "      <td>0.0016</td>\n",
       "    </tr>\n",
       "    <tr>\n",
       "      <th>11</th>\n",
       "      <td>CPA</td>\n",
       "      <td>0.0016</td>\n",
       "    </tr>\n",
       "    <tr>\n",
       "      <th>10</th>\n",
       "      <td>registration_CR</td>\n",
       "      <td>0.0004</td>\n",
       "    </tr>\n",
       "    <tr>\n",
       "      <th>12</th>\n",
       "      <td>CTR_class</td>\n",
       "      <td>0.0004</td>\n",
       "    </tr>\n",
       "    <tr>\n",
       "      <th>9</th>\n",
       "      <td>CTR</td>\n",
       "      <td>-0</td>\n",
       "    </tr>\n",
       "  </tbody>\n",
       "</table>\n",
       "</div>"
      ],
      "text/plain": [
       "               Feature Importance\n",
       "6         Registration     2.4429\n",
       "3   Unique link clicks     0.1921\n",
       "1                 Cost     0.1474\n",
       "5        Post comments     0.1097\n",
       "4          Post shares     0.0096\n",
       "2             Duration     0.0082\n",
       "8                  CPM     0.0068\n",
       "0          Impressions     0.0044\n",
       "7                  CPC     0.0016\n",
       "11                 CPA     0.0016\n",
       "10     registration_CR     0.0004\n",
       "12           CTR_class     0.0004\n",
       "9                  CTR         -0"
      ]
     },
     "execution_count": 112,
     "metadata": {},
     "output_type": "execute_result"
    }
   ],
   "source": [
    "pd.DataFrame(results, columns = [\"Feature\", \"Importance\"])                     \\\n",
    "  .sort_values([\"Importance\"], ascending = False)"
   ]
  },
  {
   "cell_type": "code",
   "execution_count": 113,
   "metadata": {},
   "outputs": [
    {
     "data": {
      "application/javascript": [
       "\n",
       "        if (window._pyforest_update_imports_cell) { window._pyforest_update_imports_cell('import pandas as pd\\nimport numpy as np'); }\n",
       "    "
      ],
      "text/plain": [
       "<IPython.core.display.Javascript object>"
      ]
     },
     "metadata": {},
     "output_type": "display_data"
    },
    {
     "data": {
      "text/html": [
       "<div>\n",
       "<style scoped>\n",
       "    .dataframe tbody tr th:only-of-type {\n",
       "        vertical-align: middle;\n",
       "    }\n",
       "\n",
       "    .dataframe tbody tr th {\n",
       "        vertical-align: top;\n",
       "    }\n",
       "\n",
       "    .dataframe thead th {\n",
       "        text-align: right;\n",
       "    }\n",
       "</style>\n",
       "<table border=\"1\" class=\"dataframe\">\n",
       "  <thead>\n",
       "    <tr style=\"text-align: right;\">\n",
       "      <th></th>\n",
       "      <th>y_sales</th>\n",
       "      <th>y_pred_sales</th>\n",
       "      <th>delta</th>\n",
       "    </tr>\n",
       "  </thead>\n",
       "  <tbody>\n",
       "    <tr>\n",
       "      <th>117</th>\n",
       "      <td>7.0</td>\n",
       "      <td>7.503673</td>\n",
       "      <td>-0.503673</td>\n",
       "    </tr>\n",
       "    <tr>\n",
       "      <th>2</th>\n",
       "      <td>0.0</td>\n",
       "      <td>-0.180179</td>\n",
       "      <td>0.180179</td>\n",
       "    </tr>\n",
       "    <tr>\n",
       "      <th>100</th>\n",
       "      <td>21.0</td>\n",
       "      <td>17.161113</td>\n",
       "      <td>3.838887</td>\n",
       "    </tr>\n",
       "    <tr>\n",
       "      <th>125</th>\n",
       "      <td>18.0</td>\n",
       "      <td>10.578216</td>\n",
       "      <td>7.421784</td>\n",
       "    </tr>\n",
       "    <tr>\n",
       "      <th>171</th>\n",
       "      <td>0.0</td>\n",
       "      <td>-1.476837</td>\n",
       "      <td>1.476837</td>\n",
       "    </tr>\n",
       "  </tbody>\n",
       "</table>\n",
       "</div>"
      ],
      "text/plain": [
       "     y_sales  y_pred_sales     delta\n",
       "117      7.0      7.503673 -0.503673\n",
       "2        0.0     -0.180179  0.180179\n",
       "100     21.0     17.161113  3.838887\n",
       "125     18.0     10.578216  7.421784\n",
       "171      0.0     -1.476837  1.476837"
      ]
     },
     "metadata": {},
     "output_type": "display_data"
    },
    {
     "data": {
      "text/plain": [
       "(196, 3)"
      ]
     },
     "metadata": {},
     "output_type": "display_data"
    },
    {
     "data": {
      "text/plain": [
       "0.02"
      ]
     },
     "execution_count": 113,
     "metadata": {},
     "output_type": "execute_result"
    }
   ],
   "source": [
    "y_pred_sales = cross_val_predict(lin_model_purchases_updated, \n",
    "                                 X_linreg_sales, y_linreg_sales, cv = 5)\n",
    "\n",
    "comparision = pd.DataFrame(zip(y_linreg_sales, y_pred_sales), \n",
    "                           columns = [\"y_sales\", \"y_pred_sales\"])\n",
    "comparision[\"delta\"] = comparision.y_sales - comparision.y_pred_sales\n",
    "display(comparision.sample(5))\n",
    "display(comparision.shape)\n",
    "round(comparision.delta.mean(), 2)"
   ]
  },
  {
   "cell_type": "markdown",
   "metadata": {},
   "source": [
    "#### Updated model:"
   ]
  },
  {
   "cell_type": "code",
   "execution_count": 115,
   "metadata": {
    "ExecuteTime": {
     "end_time": "2021-04-06T14:56:42.927688Z",
     "start_time": "2021-04-06T14:56:42.912128Z"
    },
    "scrolled": true
   },
   "outputs": [
    {
     "name": "stdout",
     "output_type": "stream",
     "text": [
      "The score of the updated model is: 90.7%.\n"
     ]
    }
   ],
   "source": [
    "columns = [\"Impressions\", \"Cost\", \"Duration\", \"Unique link clicks\",\n",
    "           \"Post shares\",  \"Post comments\", \"Registration\"]\n",
    "X_linreg_sales = data_ad[columns]\n",
    "y_linreg_sales = data_ad[\"Website purchases\"]\n",
    " \n",
    "X_train, X_test, y_train, y_test = train_test_split(X_linreg_sales, y_linreg_sales, \n",
    "                                                    test_size = 0.3, random_state = 1)\n",
    " \n",
    "lin_model_purchases_updated = LinearRegression()\n",
    " \n",
    "lin_model_purchases_updated.fit(X_train, y_train)\n",
    " \n",
    "print(f\"\"\"The score of the updated model is: {(lin_model_purchases_updated.score(X_test, y_test)*100).round(1)}%.\"\"\")"
   ]
  },
  {
   "cell_type": "markdown",
   "metadata": {},
   "source": [
    "#### cross_val_predict: "
   ]
  },
  {
   "cell_type": "code",
   "execution_count": 61,
   "metadata": {
    "ExecuteTime": {
     "end_time": "2021-04-06T14:56:44.840015Z",
     "start_time": "2021-04-06T14:56:44.803663Z"
    }
   },
   "outputs": [],
   "source": [
    "y_pred_sales = cross_val_predict(lin_model_purchases_updated, \n",
    "                                 X_linreg_sales, y_linreg_sales, cv = 5)"
   ]
  },
  {
   "cell_type": "code",
   "execution_count": 62,
   "metadata": {
    "ExecuteTime": {
     "end_time": "2021-04-06T14:56:45.228530Z",
     "start_time": "2021-04-06T14:56:45.208078Z"
    }
   },
   "outputs": [
    {
     "data": {
      "application/javascript": [
       "\n",
       "        if (window._pyforest_update_imports_cell) { window._pyforest_update_imports_cell('import pandas as pd\\nimport numpy as np'); }\n",
       "    "
      ],
      "text/plain": [
       "<IPython.core.display.Javascript object>"
      ]
     },
     "metadata": {},
     "output_type": "display_data"
    },
    {
     "data": {
      "text/html": [
       "<div>\n",
       "<style scoped>\n",
       "    .dataframe tbody tr th:only-of-type {\n",
       "        vertical-align: middle;\n",
       "    }\n",
       "\n",
       "    .dataframe tbody tr th {\n",
       "        vertical-align: top;\n",
       "    }\n",
       "\n",
       "    .dataframe thead th {\n",
       "        text-align: right;\n",
       "    }\n",
       "</style>\n",
       "<table border=\"1\" class=\"dataframe\">\n",
       "  <thead>\n",
       "    <tr style=\"text-align: right;\">\n",
       "      <th></th>\n",
       "      <th>y_sales</th>\n",
       "      <th>y_pred_sales</th>\n",
       "      <th>delta</th>\n",
       "    </tr>\n",
       "  </thead>\n",
       "  <tbody>\n",
       "    <tr>\n",
       "      <th>81</th>\n",
       "      <td>10.0</td>\n",
       "      <td>21.142718</td>\n",
       "      <td>-11.142718</td>\n",
       "    </tr>\n",
       "    <tr>\n",
       "      <th>170</th>\n",
       "      <td>14.0</td>\n",
       "      <td>12.081852</td>\n",
       "      <td>1.918148</td>\n",
       "    </tr>\n",
       "    <tr>\n",
       "      <th>41</th>\n",
       "      <td>0.0</td>\n",
       "      <td>-0.280376</td>\n",
       "      <td>0.280376</td>\n",
       "    </tr>\n",
       "    <tr>\n",
       "      <th>175</th>\n",
       "      <td>25.0</td>\n",
       "      <td>18.988774</td>\n",
       "      <td>6.011226</td>\n",
       "    </tr>\n",
       "    <tr>\n",
       "      <th>171</th>\n",
       "      <td>0.0</td>\n",
       "      <td>-0.291685</td>\n",
       "      <td>0.291685</td>\n",
       "    </tr>\n",
       "  </tbody>\n",
       "</table>\n",
       "</div>"
      ],
      "text/plain": [
       "     y_sales  y_pred_sales      delta\n",
       "81      10.0     21.142718 -11.142718\n",
       "170     14.0     12.081852   1.918148\n",
       "41       0.0     -0.280376   0.280376\n",
       "175     25.0     18.988774   6.011226\n",
       "171      0.0     -0.291685   0.291685"
      ]
     },
     "metadata": {},
     "output_type": "display_data"
    },
    {
     "data": {
      "text/plain": [
       "(196, 3)"
      ]
     },
     "execution_count": 62,
     "metadata": {},
     "output_type": "execute_result"
    }
   ],
   "source": [
    "comparision = pd.DataFrame(zip(y_linreg_sales, y_pred_sales), \n",
    "                           columns = [\"y_sales\", \"y_pred_sales\"])\n",
    "comparision[\"delta\"] = comparision.y_sales - comparision.y_pred_sales\n",
    "display(comparision.sample(5))\n",
    "comparision.shape"
   ]
  },
  {
   "cell_type": "code",
   "execution_count": 63,
   "metadata": {
    "ExecuteTime": {
     "end_time": "2021-04-06T14:56:45.859072Z",
     "start_time": "2021-04-06T14:56:45.847595Z"
    }
   },
   "outputs": [
    {
     "data": {
      "text/plain": [
       "0.06"
      ]
     },
     "execution_count": 63,
     "metadata": {},
     "output_type": "execute_result"
    }
   ],
   "source": [
    "comparision.delta.mean().round(2)"
   ]
  },
  {
   "cell_type": "markdown",
   "metadata": {},
   "source": [
    "#### Predictions:"
   ]
  },
  {
   "cell_type": "code",
   "execution_count": 65,
   "metadata": {
    "ExecuteTime": {
     "end_time": "2021-04-06T14:56:48.713943Z",
     "start_time": "2021-04-06T14:56:48.682091Z"
    }
   },
   "outputs": [
    {
     "data": {
      "text/html": [
       "<div>\n",
       "<style scoped>\n",
       "    .dataframe tbody tr th:only-of-type {\n",
       "        vertical-align: middle;\n",
       "    }\n",
       "\n",
       "    .dataframe tbody tr th {\n",
       "        vertical-align: top;\n",
       "    }\n",
       "\n",
       "    .dataframe thead th {\n",
       "        text-align: right;\n",
       "    }\n",
       "</style>\n",
       "<table border=\"1\" class=\"dataframe\">\n",
       "  <thead>\n",
       "    <tr style=\"text-align: right;\">\n",
       "      <th></th>\n",
       "      <th>Impressions</th>\n",
       "      <th>Cost</th>\n",
       "      <th>Duration</th>\n",
       "      <th>Unique link clicks</th>\n",
       "      <th>Post shares</th>\n",
       "      <th>Post comments</th>\n",
       "      <th>Registration</th>\n",
       "      <th>Website purchases</th>\n",
       "      <th>CPC</th>\n",
       "      <th>CPM</th>\n",
       "      <th>CTR</th>\n",
       "      <th>CR</th>\n",
       "      <th>registration_CR</th>\n",
       "      <th>CPA</th>\n",
       "      <th>CTR_class</th>\n",
       "      <th>CR_class</th>\n",
       "    </tr>\n",
       "    <tr>\n",
       "      <th>Ad name</th>\n",
       "      <th></th>\n",
       "      <th></th>\n",
       "      <th></th>\n",
       "      <th></th>\n",
       "      <th></th>\n",
       "      <th></th>\n",
       "      <th></th>\n",
       "      <th></th>\n",
       "      <th></th>\n",
       "      <th></th>\n",
       "      <th></th>\n",
       "      <th></th>\n",
       "      <th></th>\n",
       "      <th></th>\n",
       "      <th></th>\n",
       "      <th></th>\n",
       "    </tr>\n",
       "  </thead>\n",
       "  <tbody>\n",
       "    <tr>\n",
       "      <th>selfie-profiles-organic-outline-blue-bg-paul_static</th>\n",
       "      <td>19358.0</td>\n",
       "      <td>146.60</td>\n",
       "      <td>9</td>\n",
       "      <td>40.0</td>\n",
       "      <td>0.0</td>\n",
       "      <td>0.0</td>\n",
       "      <td>6.0</td>\n",
       "      <td>1.0</td>\n",
       "      <td>3.665000</td>\n",
       "      <td>7.573096</td>\n",
       "      <td>0.002066</td>\n",
       "      <td>0.025000</td>\n",
       "      <td>0.150000</td>\n",
       "      <td>146.600000</td>\n",
       "      <td>0</td>\n",
       "      <td>1</td>\n",
       "    </tr>\n",
       "    <tr>\n",
       "      <th>upsizing-30s-video_single_w39-2020</th>\n",
       "      <td>196714.0</td>\n",
       "      <td>2032.77</td>\n",
       "      <td>15</td>\n",
       "      <td>738.0</td>\n",
       "      <td>10.0</td>\n",
       "      <td>17.0</td>\n",
       "      <td>22.0</td>\n",
       "      <td>1.0</td>\n",
       "      <td>2.754431</td>\n",
       "      <td>10.333632</td>\n",
       "      <td>0.003752</td>\n",
       "      <td>0.001355</td>\n",
       "      <td>0.029810</td>\n",
       "      <td>2032.770000</td>\n",
       "      <td>1</td>\n",
       "      <td>0</td>\n",
       "    </tr>\n",
       "    <tr>\n",
       "      <th>chipolata-animatic_video_w39-2020</th>\n",
       "      <td>155478.0</td>\n",
       "      <td>2032.02</td>\n",
       "      <td>15</td>\n",
       "      <td>395.0</td>\n",
       "      <td>2.0</td>\n",
       "      <td>6.0</td>\n",
       "      <td>23.0</td>\n",
       "      <td>3.0</td>\n",
       "      <td>5.144354</td>\n",
       "      <td>13.069502</td>\n",
       "      <td>0.002541</td>\n",
       "      <td>0.007595</td>\n",
       "      <td>0.058228</td>\n",
       "      <td>677.340000</td>\n",
       "      <td>1</td>\n",
       "      <td>0</td>\n",
       "    </tr>\n",
       "    <tr>\n",
       "      <th>hollywood-60s-pid_video</th>\n",
       "      <td>221239.0</td>\n",
       "      <td>1544.93</td>\n",
       "      <td>12</td>\n",
       "      <td>708.0</td>\n",
       "      <td>6.0</td>\n",
       "      <td>12.0</td>\n",
       "      <td>25.0</td>\n",
       "      <td>6.0</td>\n",
       "      <td>2.182105</td>\n",
       "      <td>6.983082</td>\n",
       "      <td>0.003200</td>\n",
       "      <td>0.008475</td>\n",
       "      <td>0.035311</td>\n",
       "      <td>257.488333</td>\n",
       "      <td>1</td>\n",
       "      <td>0</td>\n",
       "    </tr>\n",
       "    <tr>\n",
       "      <th>swingers-v2-4:5_video</th>\n",
       "      <td>748400.0</td>\n",
       "      <td>4850.53</td>\n",
       "      <td>312</td>\n",
       "      <td>3077.0</td>\n",
       "      <td>33.0</td>\n",
       "      <td>63.0</td>\n",
       "      <td>132.0</td>\n",
       "      <td>16.0</td>\n",
       "      <td>1.576383</td>\n",
       "      <td>6.481200</td>\n",
       "      <td>0.004111</td>\n",
       "      <td>0.005200</td>\n",
       "      <td>0.042899</td>\n",
       "      <td>303.158125</td>\n",
       "      <td>1</td>\n",
       "      <td>0</td>\n",
       "    </tr>\n",
       "    <tr>\n",
       "      <th>trustpilot-richard_video</th>\n",
       "      <td>173239.0</td>\n",
       "      <td>2945.97</td>\n",
       "      <td>242</td>\n",
       "      <td>1231.0</td>\n",
       "      <td>6.0</td>\n",
       "      <td>40.0</td>\n",
       "      <td>79.0</td>\n",
       "      <td>25.0</td>\n",
       "      <td>2.393152</td>\n",
       "      <td>17.005236</td>\n",
       "      <td>0.007106</td>\n",
       "      <td>0.020309</td>\n",
       "      <td>0.064175</td>\n",
       "      <td>117.838800</td>\n",
       "      <td>1</td>\n",
       "      <td>1</td>\n",
       "    </tr>\n",
       "    <tr>\n",
       "      <th>selfie-profiles-stylised_carousel</th>\n",
       "      <td>1291548.0</td>\n",
       "      <td>12427.19</td>\n",
       "      <td>134</td>\n",
       "      <td>2581.0</td>\n",
       "      <td>14.0</td>\n",
       "      <td>44.0</td>\n",
       "      <td>379.0</td>\n",
       "      <td>56.0</td>\n",
       "      <td>4.814874</td>\n",
       "      <td>9.621934</td>\n",
       "      <td>0.001998</td>\n",
       "      <td>0.021697</td>\n",
       "      <td>0.146842</td>\n",
       "      <td>221.914107</td>\n",
       "      <td>0</td>\n",
       "      <td>1</td>\n",
       "    </tr>\n",
       "  </tbody>\n",
       "</table>\n",
       "</div>"
      ],
      "text/plain": [
       "                                                    Impressions      Cost  \\\n",
       "Ad name                                                                     \n",
       "selfie-profiles-organic-outline-blue-bg-paul_st...      19358.0    146.60   \n",
       "upsizing-30s-video_single_w39-2020                     196714.0   2032.77   \n",
       "chipolata-animatic_video_w39-2020                      155478.0   2032.02   \n",
       "hollywood-60s-pid_video                                221239.0   1544.93   \n",
       "swingers-v2-4:5_video                                  748400.0   4850.53   \n",
       "trustpilot-richard_video                               173239.0   2945.97   \n",
       "selfie-profiles-stylised_carousel                     1291548.0  12427.19   \n",
       "\n",
       "                                                    Duration  \\\n",
       "Ad name                                                        \n",
       "selfie-profiles-organic-outline-blue-bg-paul_st...         9   \n",
       "upsizing-30s-video_single_w39-2020                        15   \n",
       "chipolata-animatic_video_w39-2020                         15   \n",
       "hollywood-60s-pid_video                                   12   \n",
       "swingers-v2-4:5_video                                    312   \n",
       "trustpilot-richard_video                                 242   \n",
       "selfie-profiles-stylised_carousel                        134   \n",
       "\n",
       "                                                    Unique link clicks  \\\n",
       "Ad name                                                                  \n",
       "selfie-profiles-organic-outline-blue-bg-paul_st...                40.0   \n",
       "upsizing-30s-video_single_w39-2020                               738.0   \n",
       "chipolata-animatic_video_w39-2020                                395.0   \n",
       "hollywood-60s-pid_video                                          708.0   \n",
       "swingers-v2-4:5_video                                           3077.0   \n",
       "trustpilot-richard_video                                        1231.0   \n",
       "selfie-profiles-stylised_carousel                               2581.0   \n",
       "\n",
       "                                                    Post shares  \\\n",
       "Ad name                                                           \n",
       "selfie-profiles-organic-outline-blue-bg-paul_st...          0.0   \n",
       "upsizing-30s-video_single_w39-2020                         10.0   \n",
       "chipolata-animatic_video_w39-2020                           2.0   \n",
       "hollywood-60s-pid_video                                     6.0   \n",
       "swingers-v2-4:5_video                                      33.0   \n",
       "trustpilot-richard_video                                    6.0   \n",
       "selfie-profiles-stylised_carousel                          14.0   \n",
       "\n",
       "                                                    Post comments  \\\n",
       "Ad name                                                             \n",
       "selfie-profiles-organic-outline-blue-bg-paul_st...            0.0   \n",
       "upsizing-30s-video_single_w39-2020                           17.0   \n",
       "chipolata-animatic_video_w39-2020                             6.0   \n",
       "hollywood-60s-pid_video                                      12.0   \n",
       "swingers-v2-4:5_video                                        63.0   \n",
       "trustpilot-richard_video                                     40.0   \n",
       "selfie-profiles-stylised_carousel                            44.0   \n",
       "\n",
       "                                                    Registration  \\\n",
       "Ad name                                                            \n",
       "selfie-profiles-organic-outline-blue-bg-paul_st...           6.0   \n",
       "upsizing-30s-video_single_w39-2020                          22.0   \n",
       "chipolata-animatic_video_w39-2020                           23.0   \n",
       "hollywood-60s-pid_video                                     25.0   \n",
       "swingers-v2-4:5_video                                      132.0   \n",
       "trustpilot-richard_video                                    79.0   \n",
       "selfie-profiles-stylised_carousel                          379.0   \n",
       "\n",
       "                                                    Website purchases  \\\n",
       "Ad name                                                                 \n",
       "selfie-profiles-organic-outline-blue-bg-paul_st...                1.0   \n",
       "upsizing-30s-video_single_w39-2020                                1.0   \n",
       "chipolata-animatic_video_w39-2020                                 3.0   \n",
       "hollywood-60s-pid_video                                           6.0   \n",
       "swingers-v2-4:5_video                                            16.0   \n",
       "trustpilot-richard_video                                         25.0   \n",
       "selfie-profiles-stylised_carousel                                56.0   \n",
       "\n",
       "                                                         CPC        CPM  \\\n",
       "Ad name                                                                   \n",
       "selfie-profiles-organic-outline-blue-bg-paul_st...  3.665000   7.573096   \n",
       "upsizing-30s-video_single_w39-2020                  2.754431  10.333632   \n",
       "chipolata-animatic_video_w39-2020                   5.144354  13.069502   \n",
       "hollywood-60s-pid_video                             2.182105   6.983082   \n",
       "swingers-v2-4:5_video                               1.576383   6.481200   \n",
       "trustpilot-richard_video                            2.393152  17.005236   \n",
       "selfie-profiles-stylised_carousel                   4.814874   9.621934   \n",
       "\n",
       "                                                         CTR        CR  \\\n",
       "Ad name                                                                  \n",
       "selfie-profiles-organic-outline-blue-bg-paul_st...  0.002066  0.025000   \n",
       "upsizing-30s-video_single_w39-2020                  0.003752  0.001355   \n",
       "chipolata-animatic_video_w39-2020                   0.002541  0.007595   \n",
       "hollywood-60s-pid_video                             0.003200  0.008475   \n",
       "swingers-v2-4:5_video                               0.004111  0.005200   \n",
       "trustpilot-richard_video                            0.007106  0.020309   \n",
       "selfie-profiles-stylised_carousel                   0.001998  0.021697   \n",
       "\n",
       "                                                    registration_CR  \\\n",
       "Ad name                                                               \n",
       "selfie-profiles-organic-outline-blue-bg-paul_st...         0.150000   \n",
       "upsizing-30s-video_single_w39-2020                         0.029810   \n",
       "chipolata-animatic_video_w39-2020                          0.058228   \n",
       "hollywood-60s-pid_video                                    0.035311   \n",
       "swingers-v2-4:5_video                                      0.042899   \n",
       "trustpilot-richard_video                                   0.064175   \n",
       "selfie-profiles-stylised_carousel                          0.146842   \n",
       "\n",
       "                                                            CPA CTR_class  \\\n",
       "Ad name                                                                     \n",
       "selfie-profiles-organic-outline-blue-bg-paul_st...   146.600000         0   \n",
       "upsizing-30s-video_single_w39-2020                  2032.770000         1   \n",
       "chipolata-animatic_video_w39-2020                    677.340000         1   \n",
       "hollywood-60s-pid_video                              257.488333         1   \n",
       "swingers-v2-4:5_video                                303.158125         1   \n",
       "trustpilot-richard_video                             117.838800         1   \n",
       "selfie-profiles-stylised_carousel                    221.914107         0   \n",
       "\n",
       "                                                   CR_class  \n",
       "Ad name                                                      \n",
       "selfie-profiles-organic-outline-blue-bg-paul_st...        1  \n",
       "upsizing-30s-video_single_w39-2020                        0  \n",
       "chipolata-animatic_video_w39-2020                         0  \n",
       "hollywood-60s-pid_video                                   0  \n",
       "swingers-v2-4:5_video                                     0  \n",
       "trustpilot-richard_video                                  1  \n",
       "selfie-profiles-stylised_carousel                         1  "
      ]
     },
     "metadata": {},
     "output_type": "display_data"
    },
    {
     "name": "stdout",
     "output_type": "stream",
     "text": [
      "[ 1.   2.2  2.4  3.3 27.8 16.9 52.8]\n"
     ]
    }
   ],
   "source": [
    "# Find ads so we can define \"realistic\" test ads:\n",
    "ads = data_ad.loc[[\"selfie-profiles-organic-outline-blue-bg-paul_static\", \n",
    "                   \"upsizing-30s-video_single_w39-2020\", \n",
    "                   \"chipolata-animatic_video_w39-2020\", \n",
    "                   \"hollywood-60s-pid_video\", \"swingers-v2-4:5_video\", \n",
    "                   \"trustpilot-richard_video\", \"selfie-profiles-stylised_carousel\"],\n",
    "                  :]\n",
    "\n",
    "test_ads = data_ad.loc[[\"selfie-profiles-organic-outline-blue-bg-paul_static\", \n",
    "                        \"upsizing-30s-video_single_w39-2020\", \n",
    "                        \"chipolata-animatic_video_w39-2020\", \"hollywood-60s-pid_video\", \n",
    "                        \"swingers-v2-4:5_video\", \"trustpilot-richard_video\", \n",
    "                        \"selfie-profiles-stylised_carousel\"], \n",
    "                       [\"Impressions\", \"Cost\", \"Duration\", \"Unique link clicks\",\n",
    "                          \"Post shares\",  \"Post comments\", \"Registration\"]] \n",
    "\n",
    "display(ads) \n",
    "print(lin_model_purchases_updated.predict(test_ads).round(1)) "
   ]
  },
  {
   "cell_type": "code",
   "execution_count": 71,
   "metadata": {
    "ExecuteTime": {
     "end_time": "2021-04-06T14:56:49.777911Z",
     "start_time": "2021-04-06T14:56:49.377576Z"
    }
   },
   "outputs": [
    {
     "name": "stdout",
     "output_type": "stream",
     "text": [
      "The predicted number of Website Purchases of test_ad_1 is: 6.1\n"
     ]
    }
   ],
   "source": [
    "# Take one of those ads and see how they will scale:\n",
    "\n",
    "test_ad_3 = data_ad.loc[[\"chipolata-animatic_video_w39-2020\"], \n",
    "                        columns]\n",
    "\n",
    "print(f\"The predicted number of Website Purchases of test_ad_1 is:\",  \n",
    "      lin_model_purchases_updated.predict(test_ad_3 * 2.5).round(1)[0])"
   ]
  },
  {
   "cell_type": "code",
   "execution_count": 72,
   "metadata": {
    "ExecuteTime": {
     "end_time": "2021-04-06T14:56:49.898869Z",
     "start_time": "2021-04-06T14:56:49.883399Z"
    }
   },
   "outputs": [
    {
     "name": "stdout",
     "output_type": "stream",
     "text": [
      "[56.3]\n"
     ]
    }
   ],
   "source": [
    "# Come up with a fictive ad (based on test_ad_7) \n",
    "# for our 7 features and see what we get: \n",
    "\n",
    "# \"Impressions\", \"Cost\", \"Duration\", \"Unique link clicks\", \n",
    "# \"Post shares\",  \"Post comments\", \"Registration\": \n",
    " \n",
    "test_ad_8 = [[125_000, 11_000.19, 130, 2_500.0, 10.0, 40.0, 350.0]]\n",
    "\n",
    "print(lin_model_purchases_updated.predict(test_ad_8).round(1)) "
   ]
  },
  {
   "cell_type": "markdown",
   "metadata": {},
   "source": [
    "#### Updated model w/ registration CR: "
   ]
  },
  {
   "cell_type": "code",
   "execution_count": 92,
   "metadata": {},
   "outputs": [
    {
     "name": "stdout",
     "output_type": "stream",
     "text": [
      "['Impressions', 'Cost', 'Duration', 'Unique link clicks', 'Post shares', 'Post comments', 'Registration']\n"
     ]
    }
   ],
   "source": [
    "print(columns)"
   ]
  },
  {
   "cell_type": "code",
   "execution_count": 94,
   "metadata": {
    "ExecuteTime": {
     "end_time": "2021-04-06T14:56:52.398870Z",
     "start_time": "2021-04-06T14:56:52.383292Z"
    },
    "scrolled": true
   },
   "outputs": [
    {
     "name": "stdout",
     "output_type": "stream",
     "text": [
      "The score of the updated model is: 90.7%.\n"
     ]
    }
   ],
   "source": [
    "X_columns = [\"Impressions\", \"Cost\", \"Duration\", \"Unique link clicks\", \"Post shares\",  \n",
    "             \"Post comments\", \"Registration\", \"registration_CR\", \"CTR\"]\n",
    "X_linreg_sales = data_ad[X_columns]\n",
    "y_linreg_sales = data_ad[\"Website purchases\"]\n",
    " \n",
    "X_train, X_test, y_train, y_test = train_test_split(X_linreg_sales, y_linreg_sales, \n",
    "                                                    test_size = 0.3, random_state = 1)\n",
    " \n",
    "lin_model_updated_registrations = LinearRegression()\n",
    " \n",
    "lin_model_updated_registrations.fit(X_train, y_train)\n",
    " \n",
    "print(f\"\"\"The score of the updated model is: {(lin_model_updated_registrations.score(X_test, y_test)*100).round(1)}%.\"\"\")"
   ]
  },
  {
   "cell_type": "code",
   "execution_count": 96,
   "metadata": {},
   "outputs": [
    {
     "data": {
      "application/javascript": [
       "\n",
       "        if (window._pyforest_update_imports_cell) { window._pyforest_update_imports_cell('import pandas as pd\\nimport numpy as np'); }\n",
       "    "
      ],
      "text/plain": [
       "<IPython.core.display.Javascript object>"
      ]
     },
     "metadata": {},
     "output_type": "display_data"
    },
    {
     "data": {
      "application/javascript": [
       "\n",
       "        if (window._pyforest_update_imports_cell) { window._pyforest_update_imports_cell('import pandas as pd\\nimport numpy as np'); }\n",
       "    "
      ],
      "text/plain": [
       "<IPython.core.display.Javascript object>"
      ]
     },
     "metadata": {},
     "output_type": "display_data"
    },
    {
     "data": {
      "text/html": [
       "<div>\n",
       "<style scoped>\n",
       "    .dataframe tbody tr th:only-of-type {\n",
       "        vertical-align: middle;\n",
       "    }\n",
       "\n",
       "    .dataframe tbody tr th {\n",
       "        vertical-align: top;\n",
       "    }\n",
       "\n",
       "    .dataframe thead th {\n",
       "        text-align: right;\n",
       "    }\n",
       "</style>\n",
       "<table border=\"1\" class=\"dataframe\">\n",
       "  <thead>\n",
       "    <tr style=\"text-align: right;\">\n",
       "      <th></th>\n",
       "      <th>Features</th>\n",
       "      <th>Importances</th>\n",
       "    </tr>\n",
       "  </thead>\n",
       "  <tbody>\n",
       "    <tr>\n",
       "      <th>6</th>\n",
       "      <td>Registration</td>\n",
       "      <td>2.489</td>\n",
       "    </tr>\n",
       "    <tr>\n",
       "      <th>3</th>\n",
       "      <td>Unique link clicks</td>\n",
       "      <td>0.303</td>\n",
       "    </tr>\n",
       "    <tr>\n",
       "      <th>5</th>\n",
       "      <td>Post comments</td>\n",
       "      <td>0.106</td>\n",
       "    </tr>\n",
       "    <tr>\n",
       "      <th>1</th>\n",
       "      <td>Cost</td>\n",
       "      <td>0.077</td>\n",
       "    </tr>\n",
       "    <tr>\n",
       "      <th>0</th>\n",
       "      <td>Impressions</td>\n",
       "      <td>0.068</td>\n",
       "    </tr>\n",
       "    <tr>\n",
       "      <th>2</th>\n",
       "      <td>Duration</td>\n",
       "      <td>0.01</td>\n",
       "    </tr>\n",
       "    <tr>\n",
       "      <th>4</th>\n",
       "      <td>Post shares</td>\n",
       "      <td>0.001</td>\n",
       "    </tr>\n",
       "    <tr>\n",
       "      <th>7</th>\n",
       "      <td>registration_CR</td>\n",
       "      <td>-0</td>\n",
       "    </tr>\n",
       "    <tr>\n",
       "      <th>8</th>\n",
       "      <td>CTR</td>\n",
       "      <td>0</td>\n",
       "    </tr>\n",
       "  </tbody>\n",
       "</table>\n",
       "</div>"
      ],
      "text/plain": [
       "             Features Importances\n",
       "6        Registration       2.489\n",
       "3  Unique link clicks       0.303\n",
       "5       Post comments       0.106\n",
       "1                Cost       0.077\n",
       "0         Impressions       0.068\n",
       "2            Duration        0.01\n",
       "4         Post shares       0.001\n",
       "7     registration_CR          -0\n",
       "8                 CTR           0"
      ]
     },
     "execution_count": 96,
     "metadata": {},
     "output_type": "execute_result"
    }
   ],
   "source": [
    "#Importances: \n",
    "result = permutation_importance(lin_model_updated_registrations, X_linreg_sales, y_linreg_sales, \n",
    "                                random_state = 5, n_repeats = 100) \n",
    "\n",
    "results = np.vstack((X_linreg_sales.columns, \n",
    "                     (result.importances_mean).round(3))).T\n",
    "\n",
    "features = pd.DataFrame(results, columns = [\"Features\", \"Importances\"])         \\\n",
    "             .sort_values(\"Importances\", ascending = False)\n",
    "features"
   ]
  },
  {
   "cell_type": "markdown",
   "metadata": {},
   "source": [
    "##### cross_val_predict: "
   ]
  },
  {
   "cell_type": "code",
   "execution_count": 74,
   "metadata": {
    "ExecuteTime": {
     "end_time": "2021-04-06T14:56:54.284665Z",
     "start_time": "2021-04-06T14:56:54.234599Z"
    }
   },
   "outputs": [
    {
     "data": {
      "application/javascript": [
       "\n",
       "        if (window._pyforest_update_imports_cell) { window._pyforest_update_imports_cell('import pandas as pd\\nimport numpy as np'); }\n",
       "    "
      ],
      "text/plain": [
       "<IPython.core.display.Javascript object>"
      ]
     },
     "metadata": {},
     "output_type": "display_data"
    },
    {
     "data": {
      "text/html": [
       "<div>\n",
       "<style scoped>\n",
       "    .dataframe tbody tr th:only-of-type {\n",
       "        vertical-align: middle;\n",
       "    }\n",
       "\n",
       "    .dataframe tbody tr th {\n",
       "        vertical-align: top;\n",
       "    }\n",
       "\n",
       "    .dataframe thead th {\n",
       "        text-align: right;\n",
       "    }\n",
       "</style>\n",
       "<table border=\"1\" class=\"dataframe\">\n",
       "  <thead>\n",
       "    <tr style=\"text-align: right;\">\n",
       "      <th></th>\n",
       "      <th>y_sales</th>\n",
       "      <th>y_pred_sales</th>\n",
       "      <th>delta</th>\n",
       "    </tr>\n",
       "  </thead>\n",
       "  <tbody>\n",
       "    <tr>\n",
       "      <th>123</th>\n",
       "      <td>4.0</td>\n",
       "      <td>4.7</td>\n",
       "      <td>-0.7</td>\n",
       "    </tr>\n",
       "    <tr>\n",
       "      <th>97</th>\n",
       "      <td>0.0</td>\n",
       "      <td>1.0</td>\n",
       "      <td>-1.0</td>\n",
       "    </tr>\n",
       "    <tr>\n",
       "      <th>102</th>\n",
       "      <td>2.0</td>\n",
       "      <td>1.1</td>\n",
       "      <td>0.9</td>\n",
       "    </tr>\n",
       "    <tr>\n",
       "      <th>67</th>\n",
       "      <td>0.0</td>\n",
       "      <td>-0.9</td>\n",
       "      <td>0.9</td>\n",
       "    </tr>\n",
       "    <tr>\n",
       "      <th>111</th>\n",
       "      <td>0.0</td>\n",
       "      <td>1.6</td>\n",
       "      <td>-1.6</td>\n",
       "    </tr>\n",
       "  </tbody>\n",
       "</table>\n",
       "</div>"
      ],
      "text/plain": [
       "     y_sales  y_pred_sales  delta\n",
       "123      4.0           4.7   -0.7\n",
       "97       0.0           1.0   -1.0\n",
       "102      2.0           1.1    0.9\n",
       "67       0.0          -0.9    0.9\n",
       "111      0.0           1.6   -1.6"
      ]
     },
     "metadata": {},
     "output_type": "display_data"
    },
    {
     "data": {
      "text/plain": [
       "0.03"
      ]
     },
     "execution_count": 74,
     "metadata": {},
     "output_type": "execute_result"
    }
   ],
   "source": [
    "y_pred_sales = cross_val_predict(lin_model_updated_registrations, \n",
    "                                 X_linreg_sales, y_linreg_sales, cv = 5)\n",
    "\n",
    "comparision = pd.DataFrame(zip(y_linreg_sales, y_pred_sales), \n",
    "                           columns = [\"y_sales\", \"y_pred_sales\"])\n",
    "comparision[\"delta\"] = comparision.y_sales - comparision.y_pred_sales\n",
    "display(comparision.sample(5).round(1))\n",
    "comparision.delta.mean().round(2)"
   ]
  },
  {
   "cell_type": "markdown",
   "metadata": {},
   "source": [
    "##### Predictions: "
   ]
  },
  {
   "cell_type": "code",
   "execution_count": 75,
   "metadata": {
    "ExecuteTime": {
     "end_time": "2021-04-06T14:56:57.000234Z",
     "start_time": "2021-04-06T14:56:56.985108Z"
    }
   },
   "outputs": [
    {
     "name": "stdout",
     "output_type": "stream",
     "text": [
      "['Impressions', 'Cost', 'Duration', 'Unique link clicks', 'Post shares', 'Post comments', 'Registration', 'registration_CR']\n"
     ]
    }
   ],
   "source": [
    "print(X_columns)"
   ]
  },
  {
   "cell_type": "code",
   "execution_count": 49,
   "metadata": {
    "ExecuteTime": {
     "end_time": "2021-04-06T14:57:00.111100Z",
     "start_time": "2021-04-06T14:57:00.071568Z"
    },
    "scrolled": false
   },
   "outputs": [
    {
     "data": {
      "text/html": [
       "<div>\n",
       "<style scoped>\n",
       "    .dataframe tbody tr th:only-of-type {\n",
       "        vertical-align: middle;\n",
       "    }\n",
       "\n",
       "    .dataframe tbody tr th {\n",
       "        vertical-align: top;\n",
       "    }\n",
       "\n",
       "    .dataframe thead th {\n",
       "        text-align: right;\n",
       "    }\n",
       "</style>\n",
       "<table border=\"1\" class=\"dataframe\">\n",
       "  <thead>\n",
       "    <tr style=\"text-align: right;\">\n",
       "      <th></th>\n",
       "      <th>Impressions</th>\n",
       "      <th>Cost</th>\n",
       "      <th>Duration</th>\n",
       "      <th>Unique link clicks</th>\n",
       "      <th>Post shares</th>\n",
       "      <th>Post comments</th>\n",
       "      <th>Registration</th>\n",
       "      <th>Website purchases</th>\n",
       "      <th>CPC</th>\n",
       "      <th>CPM</th>\n",
       "      <th>CTR</th>\n",
       "      <th>CR</th>\n",
       "      <th>registration_CR</th>\n",
       "      <th>CPA</th>\n",
       "      <th>CTR_class</th>\n",
       "      <th>CR_class</th>\n",
       "    </tr>\n",
       "    <tr>\n",
       "      <th>Ad name</th>\n",
       "      <th></th>\n",
       "      <th></th>\n",
       "      <th></th>\n",
       "      <th></th>\n",
       "      <th></th>\n",
       "      <th></th>\n",
       "      <th></th>\n",
       "      <th></th>\n",
       "      <th></th>\n",
       "      <th></th>\n",
       "      <th></th>\n",
       "      <th></th>\n",
       "      <th></th>\n",
       "      <th></th>\n",
       "      <th></th>\n",
       "      <th></th>\n",
       "    </tr>\n",
       "  </thead>\n",
       "  <tbody>\n",
       "    <tr>\n",
       "      <th>selfie-profiles-organic-outline-blue-bg-paul_static</th>\n",
       "      <td>19358.0</td>\n",
       "      <td>146.60</td>\n",
       "      <td>9</td>\n",
       "      <td>40.0</td>\n",
       "      <td>0.0</td>\n",
       "      <td>0.0</td>\n",
       "      <td>6.0</td>\n",
       "      <td>1.0</td>\n",
       "      <td>3.665000</td>\n",
       "      <td>7.573096</td>\n",
       "      <td>0.002066</td>\n",
       "      <td>0.025000</td>\n",
       "      <td>0.150000</td>\n",
       "      <td>146.600000</td>\n",
       "      <td>0</td>\n",
       "      <td>1</td>\n",
       "    </tr>\n",
       "    <tr>\n",
       "      <th>upsizing-30s-video_single_w39-2020</th>\n",
       "      <td>196714.0</td>\n",
       "      <td>2032.77</td>\n",
       "      <td>15</td>\n",
       "      <td>738.0</td>\n",
       "      <td>10.0</td>\n",
       "      <td>17.0</td>\n",
       "      <td>22.0</td>\n",
       "      <td>1.0</td>\n",
       "      <td>2.754431</td>\n",
       "      <td>10.333632</td>\n",
       "      <td>0.003752</td>\n",
       "      <td>0.001355</td>\n",
       "      <td>0.029810</td>\n",
       "      <td>2032.770000</td>\n",
       "      <td>1</td>\n",
       "      <td>0</td>\n",
       "    </tr>\n",
       "    <tr>\n",
       "      <th>chipolata-animatic_video_w39-2020</th>\n",
       "      <td>155478.0</td>\n",
       "      <td>2032.02</td>\n",
       "      <td>15</td>\n",
       "      <td>395.0</td>\n",
       "      <td>2.0</td>\n",
       "      <td>6.0</td>\n",
       "      <td>23.0</td>\n",
       "      <td>3.0</td>\n",
       "      <td>5.144354</td>\n",
       "      <td>13.069502</td>\n",
       "      <td>0.002541</td>\n",
       "      <td>0.007595</td>\n",
       "      <td>0.058228</td>\n",
       "      <td>677.340000</td>\n",
       "      <td>1</td>\n",
       "      <td>0</td>\n",
       "    </tr>\n",
       "    <tr>\n",
       "      <th>hollywood-60s-pid_video</th>\n",
       "      <td>221239.0</td>\n",
       "      <td>1544.93</td>\n",
       "      <td>12</td>\n",
       "      <td>708.0</td>\n",
       "      <td>6.0</td>\n",
       "      <td>12.0</td>\n",
       "      <td>25.0</td>\n",
       "      <td>6.0</td>\n",
       "      <td>2.182105</td>\n",
       "      <td>6.983082</td>\n",
       "      <td>0.003200</td>\n",
       "      <td>0.008475</td>\n",
       "      <td>0.035311</td>\n",
       "      <td>257.488333</td>\n",
       "      <td>1</td>\n",
       "      <td>0</td>\n",
       "    </tr>\n",
       "    <tr>\n",
       "      <th>swingers-v2-4:5_video</th>\n",
       "      <td>748400.0</td>\n",
       "      <td>4850.53</td>\n",
       "      <td>312</td>\n",
       "      <td>3077.0</td>\n",
       "      <td>33.0</td>\n",
       "      <td>63.0</td>\n",
       "      <td>132.0</td>\n",
       "      <td>16.0</td>\n",
       "      <td>1.576383</td>\n",
       "      <td>6.481200</td>\n",
       "      <td>0.004111</td>\n",
       "      <td>0.005200</td>\n",
       "      <td>0.042899</td>\n",
       "      <td>303.158125</td>\n",
       "      <td>1</td>\n",
       "      <td>0</td>\n",
       "    </tr>\n",
       "    <tr>\n",
       "      <th>trustpilot-richard_video</th>\n",
       "      <td>173239.0</td>\n",
       "      <td>2945.97</td>\n",
       "      <td>242</td>\n",
       "      <td>1231.0</td>\n",
       "      <td>6.0</td>\n",
       "      <td>40.0</td>\n",
       "      <td>79.0</td>\n",
       "      <td>25.0</td>\n",
       "      <td>2.393152</td>\n",
       "      <td>17.005236</td>\n",
       "      <td>0.007106</td>\n",
       "      <td>0.020309</td>\n",
       "      <td>0.064175</td>\n",
       "      <td>117.838800</td>\n",
       "      <td>1</td>\n",
       "      <td>1</td>\n",
       "    </tr>\n",
       "    <tr>\n",
       "      <th>selfie-profiles-stylised_carousel</th>\n",
       "      <td>1291548.0</td>\n",
       "      <td>12427.19</td>\n",
       "      <td>134</td>\n",
       "      <td>2581.0</td>\n",
       "      <td>14.0</td>\n",
       "      <td>44.0</td>\n",
       "      <td>379.0</td>\n",
       "      <td>56.0</td>\n",
       "      <td>4.814874</td>\n",
       "      <td>9.621934</td>\n",
       "      <td>0.001998</td>\n",
       "      <td>0.021697</td>\n",
       "      <td>0.146842</td>\n",
       "      <td>221.914107</td>\n",
       "      <td>0</td>\n",
       "      <td>1</td>\n",
       "    </tr>\n",
       "  </tbody>\n",
       "</table>\n",
       "</div>"
      ],
      "text/plain": [
       "                                                    Impressions      Cost  \\\n",
       "Ad name                                                                     \n",
       "selfie-profiles-organic-outline-blue-bg-paul_st...      19358.0    146.60   \n",
       "upsizing-30s-video_single_w39-2020                     196714.0   2032.77   \n",
       "chipolata-animatic_video_w39-2020                      155478.0   2032.02   \n",
       "hollywood-60s-pid_video                                221239.0   1544.93   \n",
       "swingers-v2-4:5_video                                  748400.0   4850.53   \n",
       "trustpilot-richard_video                               173239.0   2945.97   \n",
       "selfie-profiles-stylised_carousel                     1291548.0  12427.19   \n",
       "\n",
       "                                                    Duration  \\\n",
       "Ad name                                                        \n",
       "selfie-profiles-organic-outline-blue-bg-paul_st...         9   \n",
       "upsizing-30s-video_single_w39-2020                        15   \n",
       "chipolata-animatic_video_w39-2020                         15   \n",
       "hollywood-60s-pid_video                                   12   \n",
       "swingers-v2-4:5_video                                    312   \n",
       "trustpilot-richard_video                                 242   \n",
       "selfie-profiles-stylised_carousel                        134   \n",
       "\n",
       "                                                    Unique link clicks  \\\n",
       "Ad name                                                                  \n",
       "selfie-profiles-organic-outline-blue-bg-paul_st...                40.0   \n",
       "upsizing-30s-video_single_w39-2020                               738.0   \n",
       "chipolata-animatic_video_w39-2020                                395.0   \n",
       "hollywood-60s-pid_video                                          708.0   \n",
       "swingers-v2-4:5_video                                           3077.0   \n",
       "trustpilot-richard_video                                        1231.0   \n",
       "selfie-profiles-stylised_carousel                               2581.0   \n",
       "\n",
       "                                                    Post shares  \\\n",
       "Ad name                                                           \n",
       "selfie-profiles-organic-outline-blue-bg-paul_st...          0.0   \n",
       "upsizing-30s-video_single_w39-2020                         10.0   \n",
       "chipolata-animatic_video_w39-2020                           2.0   \n",
       "hollywood-60s-pid_video                                     6.0   \n",
       "swingers-v2-4:5_video                                      33.0   \n",
       "trustpilot-richard_video                                    6.0   \n",
       "selfie-profiles-stylised_carousel                          14.0   \n",
       "\n",
       "                                                    Post comments  \\\n",
       "Ad name                                                             \n",
       "selfie-profiles-organic-outline-blue-bg-paul_st...            0.0   \n",
       "upsizing-30s-video_single_w39-2020                           17.0   \n",
       "chipolata-animatic_video_w39-2020                             6.0   \n",
       "hollywood-60s-pid_video                                      12.0   \n",
       "swingers-v2-4:5_video                                        63.0   \n",
       "trustpilot-richard_video                                     40.0   \n",
       "selfie-profiles-stylised_carousel                            44.0   \n",
       "\n",
       "                                                    Registration  \\\n",
       "Ad name                                                            \n",
       "selfie-profiles-organic-outline-blue-bg-paul_st...           6.0   \n",
       "upsizing-30s-video_single_w39-2020                          22.0   \n",
       "chipolata-animatic_video_w39-2020                           23.0   \n",
       "hollywood-60s-pid_video                                     25.0   \n",
       "swingers-v2-4:5_video                                      132.0   \n",
       "trustpilot-richard_video                                    79.0   \n",
       "selfie-profiles-stylised_carousel                          379.0   \n",
       "\n",
       "                                                    Website purchases  \\\n",
       "Ad name                                                                 \n",
       "selfie-profiles-organic-outline-blue-bg-paul_st...                1.0   \n",
       "upsizing-30s-video_single_w39-2020                                1.0   \n",
       "chipolata-animatic_video_w39-2020                                 3.0   \n",
       "hollywood-60s-pid_video                                           6.0   \n",
       "swingers-v2-4:5_video                                            16.0   \n",
       "trustpilot-richard_video                                         25.0   \n",
       "selfie-profiles-stylised_carousel                                56.0   \n",
       "\n",
       "                                                         CPC        CPM  \\\n",
       "Ad name                                                                   \n",
       "selfie-profiles-organic-outline-blue-bg-paul_st...  3.665000   7.573096   \n",
       "upsizing-30s-video_single_w39-2020                  2.754431  10.333632   \n",
       "chipolata-animatic_video_w39-2020                   5.144354  13.069502   \n",
       "hollywood-60s-pid_video                             2.182105   6.983082   \n",
       "swingers-v2-4:5_video                               1.576383   6.481200   \n",
       "trustpilot-richard_video                            2.393152  17.005236   \n",
       "selfie-profiles-stylised_carousel                   4.814874   9.621934   \n",
       "\n",
       "                                                         CTR        CR  \\\n",
       "Ad name                                                                  \n",
       "selfie-profiles-organic-outline-blue-bg-paul_st...  0.002066  0.025000   \n",
       "upsizing-30s-video_single_w39-2020                  0.003752  0.001355   \n",
       "chipolata-animatic_video_w39-2020                   0.002541  0.007595   \n",
       "hollywood-60s-pid_video                             0.003200  0.008475   \n",
       "swingers-v2-4:5_video                               0.004111  0.005200   \n",
       "trustpilot-richard_video                            0.007106  0.020309   \n",
       "selfie-profiles-stylised_carousel                   0.001998  0.021697   \n",
       "\n",
       "                                                    registration_CR  \\\n",
       "Ad name                                                               \n",
       "selfie-profiles-organic-outline-blue-bg-paul_st...         0.150000   \n",
       "upsizing-30s-video_single_w39-2020                         0.029810   \n",
       "chipolata-animatic_video_w39-2020                          0.058228   \n",
       "hollywood-60s-pid_video                                    0.035311   \n",
       "swingers-v2-4:5_video                                      0.042899   \n",
       "trustpilot-richard_video                                   0.064175   \n",
       "selfie-profiles-stylised_carousel                          0.146842   \n",
       "\n",
       "                                                            CPA CTR_class  \\\n",
       "Ad name                                                                     \n",
       "selfie-profiles-organic-outline-blue-bg-paul_st...   146.600000         0   \n",
       "upsizing-30s-video_single_w39-2020                  2032.770000         1   \n",
       "chipolata-animatic_video_w39-2020                    677.340000         1   \n",
       "hollywood-60s-pid_video                              257.488333         1   \n",
       "swingers-v2-4:5_video                                303.158125         1   \n",
       "trustpilot-richard_video                             117.838800         1   \n",
       "selfie-profiles-stylised_carousel                    221.914107         0   \n",
       "\n",
       "                                                   CR_class  \n",
       "Ad name                                                      \n",
       "selfie-profiles-organic-outline-blue-bg-paul_st...        1  \n",
       "upsizing-30s-video_single_w39-2020                        0  \n",
       "chipolata-animatic_video_w39-2020                         0  \n",
       "hollywood-60s-pid_video                                   0  \n",
       "swingers-v2-4:5_video                                     0  \n",
       "trustpilot-richard_video                                  1  \n",
       "selfie-profiles-stylised_carousel                         1  "
      ]
     },
     "metadata": {},
     "output_type": "display_data"
    },
    {
     "name": "stdout",
     "output_type": "stream",
     "text": [
      "[ 0.9  2.3  2.4  3.3 27.8 17.  52.7]\n"
     ]
    }
   ],
   "source": [
    "# Find ads so we can define \"realistic\" test ads:\n",
    "ads = data_ad.loc[[\"selfie-profiles-organic-outline-blue-bg-paul_static\", \n",
    "                   \"upsizing-30s-video_single_w39-2020\", \n",
    "                   \"chipolata-animatic_video_w39-2020\", \n",
    "                   \"hollywood-60s-pid_video\", \"swingers-v2-4:5_video\", \n",
    "                   \"trustpilot-richard_video\", \"selfie-profiles-stylised_carousel\"],\n",
    "                  :]\n",
    "\n",
    "test_ads = ads[X_columns]\n",
    "\n",
    "display(ads) \n",
    "print(lin_model_updated_registrations.predict(test_ads).round(1)) "
   ]
  },
  {
   "cell_type": "markdown",
   "metadata": {},
   "source": [
    "## data_ad_scaled:"
   ]
  },
  {
   "cell_type": "markdown",
   "metadata": {},
   "source": [
    "### base model: "
   ]
  },
  {
   "cell_type": "code",
   "execution_count": 20,
   "metadata": {
    "ExecuteTime": {
     "end_time": "2021-04-06T17:31:29.376698Z",
     "start_time": "2021-04-06T17:31:29.337283Z"
    }
   },
   "outputs": [
    {
     "name": "stdout",
     "output_type": "stream",
     "text": [
      "The score of the scaled, base model is: 86.7%.\n"
     ]
    }
   ],
   "source": [
    "X_linreg_sales_scaled = data_ad_scaled.drop(columns = [\"Website purchases\", \"CR\", \n",
    "                                                       \"CR_class\"]) \n",
    "y_linreg_sales_scaled = data_ad_scaled[\"Website purchases\"]\n",
    " \n",
    "X_train, X_test, y_train, y_test = train_test_split(X_linreg_sales_scaled, \n",
    "                                                    y_linreg_sales_scaled, \n",
    "                                                    test_size = 0.3, random_state = 1)\n",
    " \n",
    "lin_model_purchases_scaled = LinearRegression()\n",
    " \n",
    "lin_model_purchases_scaled.fit(X_train, y_train)\n",
    " \n",
    "print(f\"\"\"The score of the scaled, base model is: {(lin_model_purchases_scaled.score(X_test, y_test)*100).round(1)}%.\"\"\")"
   ]
  },
  {
   "cell_type": "code",
   "execution_count": 21,
   "metadata": {
    "ExecuteTime": {
     "end_time": "2021-04-06T17:31:34.247006Z",
     "start_time": "2021-04-06T17:31:29.961224Z"
    }
   },
   "outputs": [
    {
     "data": {
      "application/javascript": [
       "\n",
       "        if (window._pyforest_update_imports_cell) { window._pyforest_update_imports_cell('import pandas as pd\\nimport numpy as np'); }\n",
       "    "
      ],
      "text/plain": [
       "<IPython.core.display.Javascript object>"
      ]
     },
     "metadata": {},
     "output_type": "display_data"
    },
    {
     "data": {
      "text/plain": [
       "array([['Impressions', 0.004],\n",
       "       ['Cost', 0.147],\n",
       "       ['Duration', 0.008],\n",
       "       ['Unique link clicks', 0.192],\n",
       "       ['Post shares', 0.01],\n",
       "       ['Post comments', 0.11],\n",
       "       ['Registration', 2.443],\n",
       "       ['CPC', 0.002],\n",
       "       ['CPM', 0.007],\n",
       "       ['CTR', -0.0],\n",
       "       ['registration_CR', 0.0],\n",
       "       ['CPA', 0.002],\n",
       "       ['CTR_class', 0.0]], dtype=object)"
      ]
     },
     "execution_count": 21,
     "metadata": {},
     "output_type": "execute_result"
    }
   ],
   "source": [
    "result = permutation_importance(lin_model_purchases_scaled, \n",
    "                                X_linreg_sales_scaled, \n",
    "                                y_linreg_sales_scaled, \n",
    "                                random_state = 5, n_repeats = 100) \n",
    "\n",
    "result = np.vstack((X_linreg_sales_scaled.columns, \n",
    "                    (result.importances_mean).round(3))).T\n",
    "\n",
    "result"
   ]
  },
  {
   "cell_type": "code",
   "execution_count": 22,
   "metadata": {
    "ExecuteTime": {
     "end_time": "2021-04-06T17:31:34.276695Z",
     "start_time": "2021-04-06T17:31:34.254153Z"
    },
    "scrolled": false
   },
   "outputs": [
    {
     "data": {
      "application/javascript": [
       "\n",
       "        if (window._pyforest_update_imports_cell) { window._pyforest_update_imports_cell('import pandas as pd\\nimport numpy as np'); }\n",
       "    "
      ],
      "text/plain": [
       "<IPython.core.display.Javascript object>"
      ]
     },
     "metadata": {},
     "output_type": "display_data"
    },
    {
     "data": {
      "text/html": [
       "<div>\n",
       "<style scoped>\n",
       "    .dataframe tbody tr th:only-of-type {\n",
       "        vertical-align: middle;\n",
       "    }\n",
       "\n",
       "    .dataframe tbody tr th {\n",
       "        vertical-align: top;\n",
       "    }\n",
       "\n",
       "    .dataframe thead th {\n",
       "        text-align: right;\n",
       "    }\n",
       "</style>\n",
       "<table border=\"1\" class=\"dataframe\">\n",
       "  <thead>\n",
       "    <tr style=\"text-align: right;\">\n",
       "      <th></th>\n",
       "      <th>Feature</th>\n",
       "      <th>Importance</th>\n",
       "    </tr>\n",
       "  </thead>\n",
       "  <tbody>\n",
       "    <tr>\n",
       "      <th>6</th>\n",
       "      <td>Registration</td>\n",
       "      <td>2.443</td>\n",
       "    </tr>\n",
       "    <tr>\n",
       "      <th>3</th>\n",
       "      <td>Unique link clicks</td>\n",
       "      <td>0.192</td>\n",
       "    </tr>\n",
       "    <tr>\n",
       "      <th>1</th>\n",
       "      <td>Cost</td>\n",
       "      <td>0.147</td>\n",
       "    </tr>\n",
       "    <tr>\n",
       "      <th>5</th>\n",
       "      <td>Post comments</td>\n",
       "      <td>0.11</td>\n",
       "    </tr>\n",
       "    <tr>\n",
       "      <th>4</th>\n",
       "      <td>Post shares</td>\n",
       "      <td>0.01</td>\n",
       "    </tr>\n",
       "    <tr>\n",
       "      <th>2</th>\n",
       "      <td>Duration</td>\n",
       "      <td>0.008</td>\n",
       "    </tr>\n",
       "    <tr>\n",
       "      <th>8</th>\n",
       "      <td>CPM</td>\n",
       "      <td>0.007</td>\n",
       "    </tr>\n",
       "    <tr>\n",
       "      <th>0</th>\n",
       "      <td>Impressions</td>\n",
       "      <td>0.004</td>\n",
       "    </tr>\n",
       "    <tr>\n",
       "      <th>7</th>\n",
       "      <td>CPC</td>\n",
       "      <td>0.002</td>\n",
       "    </tr>\n",
       "    <tr>\n",
       "      <th>11</th>\n",
       "      <td>CPA</td>\n",
       "      <td>0.002</td>\n",
       "    </tr>\n",
       "    <tr>\n",
       "      <th>9</th>\n",
       "      <td>CTR</td>\n",
       "      <td>-0</td>\n",
       "    </tr>\n",
       "    <tr>\n",
       "      <th>10</th>\n",
       "      <td>registration_CR</td>\n",
       "      <td>0</td>\n",
       "    </tr>\n",
       "    <tr>\n",
       "      <th>12</th>\n",
       "      <td>CTR_class</td>\n",
       "      <td>0</td>\n",
       "    </tr>\n",
       "  </tbody>\n",
       "</table>\n",
       "</div>"
      ],
      "text/plain": [
       "               Feature Importance\n",
       "6         Registration      2.443\n",
       "3   Unique link clicks      0.192\n",
       "1                 Cost      0.147\n",
       "5        Post comments       0.11\n",
       "4          Post shares       0.01\n",
       "2             Duration      0.008\n",
       "8                  CPM      0.007\n",
       "0          Impressions      0.004\n",
       "7                  CPC      0.002\n",
       "11                 CPA      0.002\n",
       "9                  CTR         -0\n",
       "10     registration_CR          0\n",
       "12           CTR_class          0"
      ]
     },
     "execution_count": 22,
     "metadata": {},
     "output_type": "execute_result"
    }
   ],
   "source": [
    "pd.DataFrame(result, columns = [\"Feature\", \"Importance\"])            \\\n",
    "  .sort_values(\"Importance\", ascending = False)"
   ]
  },
  {
   "cell_type": "markdown",
   "metadata": {},
   "source": [
    "### Finetuned the model: "
   ]
  },
  {
   "cell_type": "code",
   "execution_count": 23,
   "metadata": {
    "ExecuteTime": {
     "end_time": "2021-04-06T17:42:49.750852Z",
     "start_time": "2021-04-06T17:42:49.745466Z"
    }
   },
   "outputs": [],
   "source": [
    "columns = [\"Registration\", \"Unique link clicks\", \"Cost\", \n",
    "           \"Post comments\", \"Post shares\", \"Duration\", \n",
    "           \"registration_CR\", \"CPA\", \"CPC\"]"
   ]
  },
  {
   "cell_type": "code",
   "execution_count": 24,
   "metadata": {
    "ExecuteTime": {
     "end_time": "2021-04-06T17:43:10.979504Z",
     "start_time": "2021-04-06T17:43:10.950817Z"
    }
   },
   "outputs": [
    {
     "name": "stdout",
     "output_type": "stream",
     "text": [
      "The score of the tuned, scaled model is: 91.5%.\n"
     ]
    }
   ],
   "source": [
    "X_linreg_sales_scaled = data_ad_scaled[columns]\n",
    "y_linreg_sales_scaled = data_ad_scaled[\"Website purchases\"]\n",
    " \n",
    "X_train, X_test, y_train, y_test = train_test_split(X_linreg_sales_scaled, \n",
    "                                                    y_linreg_sales_scaled, \n",
    "                                                    test_size = 0.3, random_state = 1)\n",
    " \n",
    "lin_model_purchases_scaled_tuned = LinearRegression()\n",
    " \n",
    "lin_model_purchases_scaled_tuned.fit(X_train, y_train)\n",
    " \n",
    "print(f\"\"\"The score of the tuned, scaled model is: {(lin_model_purchases_scaled_tuned.score(X_test, y_test)*100).round(1)}%.\"\"\")"
   ]
  },
  {
   "cell_type": "markdown",
   "metadata": {},
   "source": [
    "### cross_val_predict: "
   ]
  },
  {
   "cell_type": "code",
   "execution_count": 25,
   "metadata": {
    "ExecuteTime": {
     "end_time": "2021-04-06T18:25:31.379465Z",
     "start_time": "2021-04-06T18:25:31.305268Z"
    }
   },
   "outputs": [
    {
     "data": {
      "application/javascript": [
       "\n",
       "        if (window._pyforest_update_imports_cell) { window._pyforest_update_imports_cell('import pandas as pd\\nimport numpy as np'); }\n",
       "    "
      ],
      "text/plain": [
       "<IPython.core.display.Javascript object>"
      ]
     },
     "metadata": {},
     "output_type": "display_data"
    },
    {
     "ename": "NameError",
     "evalue": "name 'y_linreg_sales' is not defined",
     "output_type": "error",
     "traceback": [
      "\u001b[0;31m---------------------------------------------------------------------------\u001b[0m",
      "\u001b[0;31mNameError\u001b[0m                                 Traceback (most recent call last)",
      "\u001b[0;32m<ipython-input-25-8ec5672c38c8>\u001b[0m in \u001b[0;36m<module>\u001b[0;34m\u001b[0m\n\u001b[1;32m      1\u001b[0m y_pred_sales = cross_val_predict(lin_model_purchases_scaled_tuned, \n\u001b[1;32m      2\u001b[0m                                  X_linreg_sales_scaled, y_linreg_sales_scaled, cv = 5)\n\u001b[0;32m----> 3\u001b[0;31m comparision = pd.DataFrame(zip(y_linreg_sales, y_pred_sales), \n\u001b[0m\u001b[1;32m      4\u001b[0m                            columns = [\"y\", \"y_pred\"]) \n\u001b[1;32m      5\u001b[0m \u001b[0mcomparision\u001b[0m\u001b[0;34m[\u001b[0m\u001b[0;34m\"delta\"\u001b[0m\u001b[0;34m]\u001b[0m \u001b[0;34m=\u001b[0m \u001b[0mcomparision\u001b[0m\u001b[0;34m.\u001b[0m\u001b[0my\u001b[0m \u001b[0;34m-\u001b[0m \u001b[0mcomparision\u001b[0m\u001b[0;34m.\u001b[0m\u001b[0my_pred\u001b[0m\u001b[0;34m\u001b[0m\u001b[0;34m\u001b[0m\u001b[0m\n",
      "\u001b[0;31mNameError\u001b[0m: name 'y_linreg_sales' is not defined"
     ]
    }
   ],
   "source": [
    "y_pred_sales = cross_val_predict(lin_model_purchases_scaled_tuned, \n",
    "                                 X_linreg_sales_scaled, y_linreg_sales_scaled, cv = 5)\n",
    "comparision = pd.DataFrame(zip(y_linreg_sales, y_pred_sales), \n",
    "                           columns = [\"y\", \"y_pred\"]) \n",
    "comparision[\"delta\"] = comparision.y - comparision.y_pred \n",
    "display(comparision.sample(3))\n",
    "round(comparision.delta.min(), 2) "
   ]
  },
  {
   "cell_type": "markdown",
   "metadata": {},
   "source": [
    "### Predictions: "
   ]
  },
  {
   "cell_type": "code",
   "execution_count": 139,
   "metadata": {
    "ExecuteTime": {
     "end_time": "2021-04-06T18:23:42.049450Z",
     "start_time": "2021-04-06T18:23:42.011526Z"
    }
   },
   "outputs": [
    {
     "data": {
      "text/html": [
       "<div>\n",
       "<style scoped>\n",
       "    .dataframe tbody tr th:only-of-type {\n",
       "        vertical-align: middle;\n",
       "    }\n",
       "\n",
       "    .dataframe tbody tr th {\n",
       "        vertical-align: top;\n",
       "    }\n",
       "\n",
       "    .dataframe thead th {\n",
       "        text-align: right;\n",
       "    }\n",
       "</style>\n",
       "<table border=\"1\" class=\"dataframe\">\n",
       "  <thead>\n",
       "    <tr style=\"text-align: right;\">\n",
       "      <th></th>\n",
       "      <th>Impressions</th>\n",
       "      <th>Cost</th>\n",
       "      <th>Duration</th>\n",
       "      <th>Unique link clicks</th>\n",
       "      <th>Post shares</th>\n",
       "      <th>Post comments</th>\n",
       "      <th>Registration</th>\n",
       "      <th>Website purchases</th>\n",
       "      <th>CPC</th>\n",
       "      <th>CPM</th>\n",
       "      <th>CTR</th>\n",
       "      <th>CR</th>\n",
       "      <th>registration_CR</th>\n",
       "      <th>CPA</th>\n",
       "      <th>CTR_class</th>\n",
       "      <th>CR_class</th>\n",
       "    </tr>\n",
       "    <tr>\n",
       "      <th>Ad name</th>\n",
       "      <th></th>\n",
       "      <th></th>\n",
       "      <th></th>\n",
       "      <th></th>\n",
       "      <th></th>\n",
       "      <th></th>\n",
       "      <th></th>\n",
       "      <th></th>\n",
       "      <th></th>\n",
       "      <th></th>\n",
       "      <th></th>\n",
       "      <th></th>\n",
       "      <th></th>\n",
       "      <th></th>\n",
       "      <th></th>\n",
       "      <th></th>\n",
       "    </tr>\n",
       "  </thead>\n",
       "  <tbody>\n",
       "    <tr>\n",
       "      <th>selfie-profiles-organic-outline-blue-bg-paul_static</th>\n",
       "      <td>19358.0</td>\n",
       "      <td>146.60</td>\n",
       "      <td>9</td>\n",
       "      <td>40.0</td>\n",
       "      <td>0.0</td>\n",
       "      <td>0.0</td>\n",
       "      <td>6.0</td>\n",
       "      <td>1.0</td>\n",
       "      <td>3.665000</td>\n",
       "      <td>7.573096</td>\n",
       "      <td>0.002066</td>\n",
       "      <td>0.025000</td>\n",
       "      <td>0.150000</td>\n",
       "      <td>146.600000</td>\n",
       "      <td>0</td>\n",
       "      <td>1</td>\n",
       "    </tr>\n",
       "    <tr>\n",
       "      <th>upsizing-30s-video_single_w39-2020</th>\n",
       "      <td>196714.0</td>\n",
       "      <td>2032.77</td>\n",
       "      <td>15</td>\n",
       "      <td>738.0</td>\n",
       "      <td>10.0</td>\n",
       "      <td>17.0</td>\n",
       "      <td>22.0</td>\n",
       "      <td>1.0</td>\n",
       "      <td>2.754431</td>\n",
       "      <td>10.333632</td>\n",
       "      <td>0.003752</td>\n",
       "      <td>0.001355</td>\n",
       "      <td>0.029810</td>\n",
       "      <td>2032.770000</td>\n",
       "      <td>1</td>\n",
       "      <td>0</td>\n",
       "    </tr>\n",
       "    <tr>\n",
       "      <th>chipolata-animatic_video_w39-2020</th>\n",
       "      <td>155478.0</td>\n",
       "      <td>2032.02</td>\n",
       "      <td>15</td>\n",
       "      <td>395.0</td>\n",
       "      <td>2.0</td>\n",
       "      <td>6.0</td>\n",
       "      <td>23.0</td>\n",
       "      <td>3.0</td>\n",
       "      <td>5.144354</td>\n",
       "      <td>13.069502</td>\n",
       "      <td>0.002541</td>\n",
       "      <td>0.007595</td>\n",
       "      <td>0.058228</td>\n",
       "      <td>677.340000</td>\n",
       "      <td>1</td>\n",
       "      <td>0</td>\n",
       "    </tr>\n",
       "    <tr>\n",
       "      <th>hollywood-60s-pid_video</th>\n",
       "      <td>221239.0</td>\n",
       "      <td>1544.93</td>\n",
       "      <td>12</td>\n",
       "      <td>708.0</td>\n",
       "      <td>6.0</td>\n",
       "      <td>12.0</td>\n",
       "      <td>25.0</td>\n",
       "      <td>6.0</td>\n",
       "      <td>2.182105</td>\n",
       "      <td>6.983082</td>\n",
       "      <td>0.003200</td>\n",
       "      <td>0.008475</td>\n",
       "      <td>0.035311</td>\n",
       "      <td>257.488333</td>\n",
       "      <td>1</td>\n",
       "      <td>0</td>\n",
       "    </tr>\n",
       "    <tr>\n",
       "      <th>swingers-v2-4:5_video</th>\n",
       "      <td>748400.0</td>\n",
       "      <td>4850.53</td>\n",
       "      <td>312</td>\n",
       "      <td>3077.0</td>\n",
       "      <td>33.0</td>\n",
       "      <td>63.0</td>\n",
       "      <td>132.0</td>\n",
       "      <td>16.0</td>\n",
       "      <td>1.576383</td>\n",
       "      <td>6.481200</td>\n",
       "      <td>0.004111</td>\n",
       "      <td>0.005200</td>\n",
       "      <td>0.042899</td>\n",
       "      <td>303.158125</td>\n",
       "      <td>1</td>\n",
       "      <td>0</td>\n",
       "    </tr>\n",
       "    <tr>\n",
       "      <th>trustpilot-richard_video</th>\n",
       "      <td>173239.0</td>\n",
       "      <td>2945.97</td>\n",
       "      <td>242</td>\n",
       "      <td>1231.0</td>\n",
       "      <td>6.0</td>\n",
       "      <td>40.0</td>\n",
       "      <td>79.0</td>\n",
       "      <td>25.0</td>\n",
       "      <td>2.393152</td>\n",
       "      <td>17.005236</td>\n",
       "      <td>0.007106</td>\n",
       "      <td>0.020309</td>\n",
       "      <td>0.064175</td>\n",
       "      <td>117.838800</td>\n",
       "      <td>1</td>\n",
       "      <td>1</td>\n",
       "    </tr>\n",
       "    <tr>\n",
       "      <th>selfie-profiles-stylised_carousel</th>\n",
       "      <td>1291548.0</td>\n",
       "      <td>12427.19</td>\n",
       "      <td>134</td>\n",
       "      <td>2581.0</td>\n",
       "      <td>14.0</td>\n",
       "      <td>44.0</td>\n",
       "      <td>379.0</td>\n",
       "      <td>56.0</td>\n",
       "      <td>4.814874</td>\n",
       "      <td>9.621934</td>\n",
       "      <td>0.001998</td>\n",
       "      <td>0.021697</td>\n",
       "      <td>0.146842</td>\n",
       "      <td>221.914107</td>\n",
       "      <td>0</td>\n",
       "      <td>1</td>\n",
       "    </tr>\n",
       "  </tbody>\n",
       "</table>\n",
       "</div>"
      ],
      "text/plain": [
       "                                                    Impressions      Cost  \\\n",
       "Ad name                                                                     \n",
       "selfie-profiles-organic-outline-blue-bg-paul_st...      19358.0    146.60   \n",
       "upsizing-30s-video_single_w39-2020                     196714.0   2032.77   \n",
       "chipolata-animatic_video_w39-2020                      155478.0   2032.02   \n",
       "hollywood-60s-pid_video                                221239.0   1544.93   \n",
       "swingers-v2-4:5_video                                  748400.0   4850.53   \n",
       "trustpilot-richard_video                               173239.0   2945.97   \n",
       "selfie-profiles-stylised_carousel                     1291548.0  12427.19   \n",
       "\n",
       "                                                    Duration  \\\n",
       "Ad name                                                        \n",
       "selfie-profiles-organic-outline-blue-bg-paul_st...         9   \n",
       "upsizing-30s-video_single_w39-2020                        15   \n",
       "chipolata-animatic_video_w39-2020                         15   \n",
       "hollywood-60s-pid_video                                   12   \n",
       "swingers-v2-4:5_video                                    312   \n",
       "trustpilot-richard_video                                 242   \n",
       "selfie-profiles-stylised_carousel                        134   \n",
       "\n",
       "                                                    Unique link clicks  \\\n",
       "Ad name                                                                  \n",
       "selfie-profiles-organic-outline-blue-bg-paul_st...                40.0   \n",
       "upsizing-30s-video_single_w39-2020                               738.0   \n",
       "chipolata-animatic_video_w39-2020                                395.0   \n",
       "hollywood-60s-pid_video                                          708.0   \n",
       "swingers-v2-4:5_video                                           3077.0   \n",
       "trustpilot-richard_video                                        1231.0   \n",
       "selfie-profiles-stylised_carousel                               2581.0   \n",
       "\n",
       "                                                    Post shares  \\\n",
       "Ad name                                                           \n",
       "selfie-profiles-organic-outline-blue-bg-paul_st...          0.0   \n",
       "upsizing-30s-video_single_w39-2020                         10.0   \n",
       "chipolata-animatic_video_w39-2020                           2.0   \n",
       "hollywood-60s-pid_video                                     6.0   \n",
       "swingers-v2-4:5_video                                      33.0   \n",
       "trustpilot-richard_video                                    6.0   \n",
       "selfie-profiles-stylised_carousel                          14.0   \n",
       "\n",
       "                                                    Post comments  \\\n",
       "Ad name                                                             \n",
       "selfie-profiles-organic-outline-blue-bg-paul_st...            0.0   \n",
       "upsizing-30s-video_single_w39-2020                           17.0   \n",
       "chipolata-animatic_video_w39-2020                             6.0   \n",
       "hollywood-60s-pid_video                                      12.0   \n",
       "swingers-v2-4:5_video                                        63.0   \n",
       "trustpilot-richard_video                                     40.0   \n",
       "selfie-profiles-stylised_carousel                            44.0   \n",
       "\n",
       "                                                    Registration  \\\n",
       "Ad name                                                            \n",
       "selfie-profiles-organic-outline-blue-bg-paul_st...           6.0   \n",
       "upsizing-30s-video_single_w39-2020                          22.0   \n",
       "chipolata-animatic_video_w39-2020                           23.0   \n",
       "hollywood-60s-pid_video                                     25.0   \n",
       "swingers-v2-4:5_video                                      132.0   \n",
       "trustpilot-richard_video                                    79.0   \n",
       "selfie-profiles-stylised_carousel                          379.0   \n",
       "\n",
       "                                                    Website purchases  \\\n",
       "Ad name                                                                 \n",
       "selfie-profiles-organic-outline-blue-bg-paul_st...                1.0   \n",
       "upsizing-30s-video_single_w39-2020                                1.0   \n",
       "chipolata-animatic_video_w39-2020                                 3.0   \n",
       "hollywood-60s-pid_video                                           6.0   \n",
       "swingers-v2-4:5_video                                            16.0   \n",
       "trustpilot-richard_video                                         25.0   \n",
       "selfie-profiles-stylised_carousel                                56.0   \n",
       "\n",
       "                                                         CPC        CPM  \\\n",
       "Ad name                                                                   \n",
       "selfie-profiles-organic-outline-blue-bg-paul_st...  3.665000   7.573096   \n",
       "upsizing-30s-video_single_w39-2020                  2.754431  10.333632   \n",
       "chipolata-animatic_video_w39-2020                   5.144354  13.069502   \n",
       "hollywood-60s-pid_video                             2.182105   6.983082   \n",
       "swingers-v2-4:5_video                               1.576383   6.481200   \n",
       "trustpilot-richard_video                            2.393152  17.005236   \n",
       "selfie-profiles-stylised_carousel                   4.814874   9.621934   \n",
       "\n",
       "                                                         CTR        CR  \\\n",
       "Ad name                                                                  \n",
       "selfie-profiles-organic-outline-blue-bg-paul_st...  0.002066  0.025000   \n",
       "upsizing-30s-video_single_w39-2020                  0.003752  0.001355   \n",
       "chipolata-animatic_video_w39-2020                   0.002541  0.007595   \n",
       "hollywood-60s-pid_video                             0.003200  0.008475   \n",
       "swingers-v2-4:5_video                               0.004111  0.005200   \n",
       "trustpilot-richard_video                            0.007106  0.020309   \n",
       "selfie-profiles-stylised_carousel                   0.001998  0.021697   \n",
       "\n",
       "                                                    registration_CR  \\\n",
       "Ad name                                                               \n",
       "selfie-profiles-organic-outline-blue-bg-paul_st...         0.150000   \n",
       "upsizing-30s-video_single_w39-2020                         0.029810   \n",
       "chipolata-animatic_video_w39-2020                          0.058228   \n",
       "hollywood-60s-pid_video                                    0.035311   \n",
       "swingers-v2-4:5_video                                      0.042899   \n",
       "trustpilot-richard_video                                   0.064175   \n",
       "selfie-profiles-stylised_carousel                          0.146842   \n",
       "\n",
       "                                                            CPA CTR_class  \\\n",
       "Ad name                                                                     \n",
       "selfie-profiles-organic-outline-blue-bg-paul_st...   146.600000         0   \n",
       "upsizing-30s-video_single_w39-2020                  2032.770000         1   \n",
       "chipolata-animatic_video_w39-2020                    677.340000         1   \n",
       "hollywood-60s-pid_video                              257.488333         1   \n",
       "swingers-v2-4:5_video                                303.158125         1   \n",
       "trustpilot-richard_video                             117.838800         1   \n",
       "selfie-profiles-stylised_carousel                    221.914107         0   \n",
       "\n",
       "                                                   CR_class  \n",
       "Ad name                                                      \n",
       "selfie-profiles-organic-outline-blue-bg-paul_st...        1  \n",
       "upsizing-30s-video_single_w39-2020                        0  \n",
       "chipolata-animatic_video_w39-2020                         0  \n",
       "hollywood-60s-pid_video                                   0  \n",
       "swingers-v2-4:5_video                                     0  \n",
       "trustpilot-richard_video                                  1  \n",
       "selfie-profiles-stylised_carousel                         1  "
      ]
     },
     "metadata": {},
     "output_type": "display_data"
    },
    {
     "name": "stdout",
     "output_type": "stream",
     "text": [
      "[  -20.   -302.9  -393.1  -181.1  -264.4  -332.7 -2101.9]\n"
     ]
    }
   ],
   "source": [
    "ads = data_ad.loc[[\"selfie-profiles-organic-outline-blue-bg-paul_static\", \n",
    "                   \"upsizing-30s-video_single_w39-2020\", \n",
    "                   \"chipolata-animatic_video_w39-2020\", \n",
    "                   \"hollywood-60s-pid_video\", \"swingers-v2-4:5_video\", \n",
    "                   \"trustpilot-richard_video\", \"selfie-profiles-stylised_carousel\"],\n",
    "                  :]\n",
    "\n",
    "test_ads = ads[columns] \n",
    "\n",
    "display(ads) \n",
    "\n",
    "print(lin_model_purchases_scaled_tuned.predict(test_ads).round(1)) "
   ]
  },
  {
   "cell_type": "code",
   "execution_count": null,
   "metadata": {},
   "outputs": [],
   "source": []
  },
  {
   "cell_type": "markdown",
   "metadata": {},
   "source": [
    "## Data_daily: "
   ]
  },
  {
   "cell_type": "markdown",
   "metadata": {},
   "source": [
    "### Predict Clicks: "
   ]
  },
  {
   "cell_type": "code",
   "execution_count": 31,
   "metadata": {},
   "outputs": [
    {
     "data": {
      "text/plain": [
       "Date                                       object\n",
       "Ad set name                                object\n",
       "Ad name                                    object\n",
       "Campaign name                              object\n",
       "Impressions                               float64\n",
       "Cost                                      float64\n",
       "Website purchases                         float64\n",
       "Cost per website purchase                 float64\n",
       "CPC (cost per link click)                 float64\n",
       "CTR (link click-through rate)             float64\n",
       "Signup                                    float64\n",
       "Registration                              float64\n",
       "Unique purchases                          float64\n",
       "Unique adds to cart                       float64\n",
       "Website leads                             float64\n",
       "Unique link clicks                        float64\n",
       "Unique mobile app adds of payment info    float64\n",
       "Conversion rate ranking                   float64\n",
       "Post shares                               float64\n",
       "Return on ad spend (ROAS)                 float64\n",
       "Unique completed registrations            float64\n",
       "Post comments                             float64\n",
       "Impressions_2                             float64\n",
       "dtype: object"
      ]
     },
     "execution_count": 31,
     "metadata": {},
     "output_type": "execute_result"
    }
   ],
   "source": [
    "data.dtypes"
   ]
  },
  {
   "cell_type": "code",
   "execution_count": 33,
   "metadata": {},
   "outputs": [
    {
     "ename": "ValueError",
     "evalue": "Input contains NaN, infinity or a value too large for dtype('float64').",
     "output_type": "error",
     "traceback": [
      "\u001b[0;31m---------------------------------------------------------------------------\u001b[0m",
      "\u001b[0;31mValueError\u001b[0m                                Traceback (most recent call last)",
      "\u001b[0;32m<ipython-input-33-de7800f907af>\u001b[0m in \u001b[0;36m<module>\u001b[0;34m\u001b[0m\n\u001b[1;32m     10\u001b[0m \u001b[0mlin_model_clicks\u001b[0m \u001b[0;34m=\u001b[0m \u001b[0mLinearRegression\u001b[0m\u001b[0;34m(\u001b[0m\u001b[0;34m)\u001b[0m\u001b[0;34m\u001b[0m\u001b[0;34m\u001b[0m\u001b[0m\n\u001b[1;32m     11\u001b[0m \u001b[0;34m\u001b[0m\u001b[0m\n\u001b[0;32m---> 12\u001b[0;31m \u001b[0mlin_model_clicks\u001b[0m\u001b[0;34m.\u001b[0m\u001b[0mfit\u001b[0m\u001b[0;34m(\u001b[0m\u001b[0mX_train\u001b[0m\u001b[0;34m,\u001b[0m \u001b[0my_train\u001b[0m\u001b[0;34m)\u001b[0m\u001b[0;34m\u001b[0m\u001b[0;34m\u001b[0m\u001b[0m\n\u001b[0m\u001b[1;32m     13\u001b[0m \u001b[0;34m\u001b[0m\u001b[0m\n\u001b[1;32m     14\u001b[0m \u001b[0;34m(\u001b[0m\u001b[0mlin_model_clicks\u001b[0m\u001b[0;34m.\u001b[0m\u001b[0mscore\u001b[0m\u001b[0;34m(\u001b[0m\u001b[0mX_test\u001b[0m\u001b[0;34m,\u001b[0m \u001b[0my_test\u001b[0m\u001b[0;34m)\u001b[0m \u001b[0;34m*\u001b[0m \u001b[0;36m100\u001b[0m\u001b[0;34m)\u001b[0m\u001b[0;34m.\u001b[0m\u001b[0mround\u001b[0m\u001b[0;34m(\u001b[0m\u001b[0;36m2\u001b[0m\u001b[0;34m)\u001b[0m\u001b[0;34m\u001b[0m\u001b[0;34m\u001b[0m\u001b[0m\n",
      "\u001b[0;32m~/.pyenv/versions/3.7.7/envs/lewagon/lib/python3.7/site-packages/sklearn/linear_model/_base.py\u001b[0m in \u001b[0;36mfit\u001b[0;34m(self, X, y, sample_weight)\u001b[0m\n\u001b[1;32m    517\u001b[0m \u001b[0;34m\u001b[0m\u001b[0m\n\u001b[1;32m    518\u001b[0m         X, y = self._validate_data(X, y, accept_sparse=accept_sparse,\n\u001b[0;32m--> 519\u001b[0;31m                                    y_numeric=True, multi_output=True)\n\u001b[0m\u001b[1;32m    520\u001b[0m \u001b[0;34m\u001b[0m\u001b[0m\n\u001b[1;32m    521\u001b[0m         \u001b[0;32mif\u001b[0m \u001b[0msample_weight\u001b[0m \u001b[0;32mis\u001b[0m \u001b[0;32mnot\u001b[0m \u001b[0;32mNone\u001b[0m\u001b[0;34m:\u001b[0m\u001b[0;34m\u001b[0m\u001b[0;34m\u001b[0m\u001b[0m\n",
      "\u001b[0;32m~/.pyenv/versions/3.7.7/envs/lewagon/lib/python3.7/site-packages/sklearn/base.py\u001b[0m in \u001b[0;36m_validate_data\u001b[0;34m(self, X, y, reset, validate_separately, **check_params)\u001b[0m\n\u001b[1;32m    431\u001b[0m                 \u001b[0my\u001b[0m \u001b[0;34m=\u001b[0m \u001b[0mcheck_array\u001b[0m\u001b[0;34m(\u001b[0m\u001b[0my\u001b[0m\u001b[0;34m,\u001b[0m \u001b[0;34m**\u001b[0m\u001b[0mcheck_y_params\u001b[0m\u001b[0;34m)\u001b[0m\u001b[0;34m\u001b[0m\u001b[0;34m\u001b[0m\u001b[0m\n\u001b[1;32m    432\u001b[0m             \u001b[0;32melse\u001b[0m\u001b[0;34m:\u001b[0m\u001b[0;34m\u001b[0m\u001b[0;34m\u001b[0m\u001b[0m\n\u001b[0;32m--> 433\u001b[0;31m                 \u001b[0mX\u001b[0m\u001b[0;34m,\u001b[0m \u001b[0my\u001b[0m \u001b[0;34m=\u001b[0m \u001b[0mcheck_X_y\u001b[0m\u001b[0;34m(\u001b[0m\u001b[0mX\u001b[0m\u001b[0;34m,\u001b[0m \u001b[0my\u001b[0m\u001b[0;34m,\u001b[0m \u001b[0;34m**\u001b[0m\u001b[0mcheck_params\u001b[0m\u001b[0;34m)\u001b[0m\u001b[0;34m\u001b[0m\u001b[0;34m\u001b[0m\u001b[0m\n\u001b[0m\u001b[1;32m    434\u001b[0m             \u001b[0mout\u001b[0m \u001b[0;34m=\u001b[0m \u001b[0mX\u001b[0m\u001b[0;34m,\u001b[0m \u001b[0my\u001b[0m\u001b[0;34m\u001b[0m\u001b[0;34m\u001b[0m\u001b[0m\n\u001b[1;32m    435\u001b[0m \u001b[0;34m\u001b[0m\u001b[0m\n",
      "\u001b[0;32m~/.pyenv/versions/3.7.7/envs/lewagon/lib/python3.7/site-packages/sklearn/utils/validation.py\u001b[0m in \u001b[0;36minner_f\u001b[0;34m(*args, **kwargs)\u001b[0m\n\u001b[1;32m     61\u001b[0m             \u001b[0mextra_args\u001b[0m \u001b[0;34m=\u001b[0m \u001b[0mlen\u001b[0m\u001b[0;34m(\u001b[0m\u001b[0margs\u001b[0m\u001b[0;34m)\u001b[0m \u001b[0;34m-\u001b[0m \u001b[0mlen\u001b[0m\u001b[0;34m(\u001b[0m\u001b[0mall_args\u001b[0m\u001b[0;34m)\u001b[0m\u001b[0;34m\u001b[0m\u001b[0;34m\u001b[0m\u001b[0m\n\u001b[1;32m     62\u001b[0m             \u001b[0;32mif\u001b[0m \u001b[0mextra_args\u001b[0m \u001b[0;34m<=\u001b[0m \u001b[0;36m0\u001b[0m\u001b[0;34m:\u001b[0m\u001b[0;34m\u001b[0m\u001b[0;34m\u001b[0m\u001b[0m\n\u001b[0;32m---> 63\u001b[0;31m                 \u001b[0;32mreturn\u001b[0m \u001b[0mf\u001b[0m\u001b[0;34m(\u001b[0m\u001b[0;34m*\u001b[0m\u001b[0margs\u001b[0m\u001b[0;34m,\u001b[0m \u001b[0;34m**\u001b[0m\u001b[0mkwargs\u001b[0m\u001b[0;34m)\u001b[0m\u001b[0;34m\u001b[0m\u001b[0;34m\u001b[0m\u001b[0m\n\u001b[0m\u001b[1;32m     64\u001b[0m \u001b[0;34m\u001b[0m\u001b[0m\n\u001b[1;32m     65\u001b[0m             \u001b[0;31m# extra_args > 0\u001b[0m\u001b[0;34m\u001b[0m\u001b[0;34m\u001b[0m\u001b[0;34m\u001b[0m\u001b[0m\n",
      "\u001b[0;32m~/.pyenv/versions/3.7.7/envs/lewagon/lib/python3.7/site-packages/sklearn/utils/validation.py\u001b[0m in \u001b[0;36mcheck_X_y\u001b[0;34m(X, y, accept_sparse, accept_large_sparse, dtype, order, copy, force_all_finite, ensure_2d, allow_nd, multi_output, ensure_min_samples, ensure_min_features, y_numeric, estimator)\u001b[0m\n\u001b[1;32m    819\u001b[0m                     \u001b[0mensure_min_samples\u001b[0m\u001b[0;34m=\u001b[0m\u001b[0mensure_min_samples\u001b[0m\u001b[0;34m,\u001b[0m\u001b[0;34m\u001b[0m\u001b[0;34m\u001b[0m\u001b[0m\n\u001b[1;32m    820\u001b[0m                     \u001b[0mensure_min_features\u001b[0m\u001b[0;34m=\u001b[0m\u001b[0mensure_min_features\u001b[0m\u001b[0;34m,\u001b[0m\u001b[0;34m\u001b[0m\u001b[0;34m\u001b[0m\u001b[0m\n\u001b[0;32m--> 821\u001b[0;31m                     estimator=estimator)\n\u001b[0m\u001b[1;32m    822\u001b[0m     \u001b[0;32mif\u001b[0m \u001b[0mmulti_output\u001b[0m\u001b[0;34m:\u001b[0m\u001b[0;34m\u001b[0m\u001b[0;34m\u001b[0m\u001b[0m\n\u001b[1;32m    823\u001b[0m         y = check_array(y, accept_sparse='csr', force_all_finite=True,\n",
      "\u001b[0;32m~/.pyenv/versions/3.7.7/envs/lewagon/lib/python3.7/site-packages/sklearn/utils/validation.py\u001b[0m in \u001b[0;36minner_f\u001b[0;34m(*args, **kwargs)\u001b[0m\n\u001b[1;32m     61\u001b[0m             \u001b[0mextra_args\u001b[0m \u001b[0;34m=\u001b[0m \u001b[0mlen\u001b[0m\u001b[0;34m(\u001b[0m\u001b[0margs\u001b[0m\u001b[0;34m)\u001b[0m \u001b[0;34m-\u001b[0m \u001b[0mlen\u001b[0m\u001b[0;34m(\u001b[0m\u001b[0mall_args\u001b[0m\u001b[0;34m)\u001b[0m\u001b[0;34m\u001b[0m\u001b[0;34m\u001b[0m\u001b[0m\n\u001b[1;32m     62\u001b[0m             \u001b[0;32mif\u001b[0m \u001b[0mextra_args\u001b[0m \u001b[0;34m<=\u001b[0m \u001b[0;36m0\u001b[0m\u001b[0;34m:\u001b[0m\u001b[0;34m\u001b[0m\u001b[0;34m\u001b[0m\u001b[0m\n\u001b[0;32m---> 63\u001b[0;31m                 \u001b[0;32mreturn\u001b[0m \u001b[0mf\u001b[0m\u001b[0;34m(\u001b[0m\u001b[0;34m*\u001b[0m\u001b[0margs\u001b[0m\u001b[0;34m,\u001b[0m \u001b[0;34m**\u001b[0m\u001b[0mkwargs\u001b[0m\u001b[0;34m)\u001b[0m\u001b[0;34m\u001b[0m\u001b[0;34m\u001b[0m\u001b[0m\n\u001b[0m\u001b[1;32m     64\u001b[0m \u001b[0;34m\u001b[0m\u001b[0m\n\u001b[1;32m     65\u001b[0m             \u001b[0;31m# extra_args > 0\u001b[0m\u001b[0;34m\u001b[0m\u001b[0;34m\u001b[0m\u001b[0;34m\u001b[0m\u001b[0m\n",
      "\u001b[0;32m~/.pyenv/versions/3.7.7/envs/lewagon/lib/python3.7/site-packages/sklearn/utils/validation.py\u001b[0m in \u001b[0;36mcheck_array\u001b[0;34m(array, accept_sparse, accept_large_sparse, dtype, order, copy, force_all_finite, ensure_2d, allow_nd, ensure_min_samples, ensure_min_features, estimator)\u001b[0m\n\u001b[1;32m    662\u001b[0m         \u001b[0;32mif\u001b[0m \u001b[0mforce_all_finite\u001b[0m\u001b[0;34m:\u001b[0m\u001b[0;34m\u001b[0m\u001b[0;34m\u001b[0m\u001b[0m\n\u001b[1;32m    663\u001b[0m             _assert_all_finite(array,\n\u001b[0;32m--> 664\u001b[0;31m                                allow_nan=force_all_finite == 'allow-nan')\n\u001b[0m\u001b[1;32m    665\u001b[0m \u001b[0;34m\u001b[0m\u001b[0m\n\u001b[1;32m    666\u001b[0m     \u001b[0;32mif\u001b[0m \u001b[0mensure_min_samples\u001b[0m \u001b[0;34m>\u001b[0m \u001b[0;36m0\u001b[0m\u001b[0;34m:\u001b[0m\u001b[0;34m\u001b[0m\u001b[0;34m\u001b[0m\u001b[0m\n",
      "\u001b[0;32m~/.pyenv/versions/3.7.7/envs/lewagon/lib/python3.7/site-packages/sklearn/utils/validation.py\u001b[0m in \u001b[0;36m_assert_all_finite\u001b[0;34m(X, allow_nan, msg_dtype)\u001b[0m\n\u001b[1;32m    104\u001b[0m                     \u001b[0mmsg_err\u001b[0m\u001b[0;34m.\u001b[0m\u001b[0mformat\u001b[0m\u001b[0;34m\u001b[0m\u001b[0;34m\u001b[0m\u001b[0m\n\u001b[1;32m    105\u001b[0m                     (type_err,\n\u001b[0;32m--> 106\u001b[0;31m                      msg_dtype if msg_dtype is not None else X.dtype)\n\u001b[0m\u001b[1;32m    107\u001b[0m             )\n\u001b[1;32m    108\u001b[0m     \u001b[0;31m# for object dtype data, we only check for NaNs (GH-13254)\u001b[0m\u001b[0;34m\u001b[0m\u001b[0;34m\u001b[0m\u001b[0;34m\u001b[0m\u001b[0m\n",
      "\u001b[0;31mValueError\u001b[0m: Input contains NaN, infinity or a value too large for dtype('float64')."
     ]
    }
   ],
   "source": [
    "#X = data_ad[[\"Cost per website purchase\"]] \n",
    "X_linreg_clicks = data[[\"Impressions\"]] \n",
    "y_linreg_clicks = data[\"Unique link clicks\"] \n",
    " \n",
    "X_train, X_test, y_train, y_test = train_test_split(X_linreg_clicks, \n",
    "                                                    y_linreg_clicks, \n",
    "                                                    test_size = 0.3, \n",
    "                                                    random_state = 3) \n",
    " \n",
    "lin_model_clicks = LinearRegression() \n",
    " \n",
    "lin_model_clicks.fit(X_train, y_train) \n",
    "\n",
    "(lin_model_clicks.score(X_test, y_test) * 100).round(2)"
   ]
  },
  {
   "cell_type": "markdown",
   "metadata": {},
   "source": [
    "# Log Reg / Classification:"
   ]
  },
  {
   "cell_type": "markdown",
   "metadata": {},
   "source": [
    "## Log Reg:  "
   ]
  },
  {
   "cell_type": "markdown",
   "metadata": {},
   "source": [
    "### Predict CTR_Class:"
   ]
  },
  {
   "cell_type": "code",
   "execution_count": 53,
   "metadata": {
    "ExecuteTime": {
     "end_time": "2021-04-06T14:57:09.207856Z",
     "start_time": "2021-04-06T14:57:09.084392Z"
    }
   },
   "outputs": [
    {
     "name": "stdout",
     "output_type": "stream",
     "text": [
      "Score of the model is: 79.7%.\n"
     ]
    }
   ],
   "source": [
    "from sklearn.linear_model import LogisticRegression \n",
    " \n",
    "X_log_ad = data_ad.drop(columns = [\"CTR\", \"CTR_class\", \n",
    "                                   \"Unique link clicks\", \"Impressions\"])\n",
    "y_log_ad = data_ad[\"CTR_class\"] \n",
    "\n",
    "X_train_log_ad, X_test_log_ad,\\\n",
    "y_train_log_ad, y_test_log_ad = train_test_split(X_log_ad, y_log_ad,\n",
    "                                                 test_size = 0.3, random_state = 3)\n",
    "\n",
    "log_model = LogisticRegression(max_iter = 1_000)\n",
    " \n",
    "log_model.fit(X_train_log_ad, y_train_log_ad)\n",
    "\n",
    "print(f\"\"\"Score of the model is: {(log_model.score(X_test_log_ad, y_test_log_ad) * 100).round(1)}%.\"\"\")"
   ]
  },
  {
   "cell_type": "code",
   "execution_count": 54,
   "metadata": {
    "ExecuteTime": {
     "end_time": "2021-04-06T14:57:09.695285Z",
     "start_time": "2021-04-06T14:57:09.687005Z"
    }
   },
   "outputs": [
    {
     "data": {
      "text/plain": [
       "Index(['Cost', 'Duration', 'Post shares', 'Post comments', 'Registration',\n",
       "       'Website purchases', 'CPC', 'CPM', 'CR', 'registration_CR', 'CPA',\n",
       "       'CR_class'],\n",
       "      dtype='object')"
      ]
     },
     "execution_count": 54,
     "metadata": {},
     "output_type": "execute_result"
    }
   ],
   "source": [
    "columns = data_ad.columns.drop([\"CTR\", \"CTR_class\", \n",
    "                                \"Unique link clicks\", \"Impressions\"])\n",
    "columns"
   ]
  },
  {
   "cell_type": "code",
   "execution_count": 55,
   "metadata": {
    "ExecuteTime": {
     "end_time": "2021-04-06T14:57:10.441965Z",
     "start_time": "2021-04-06T14:57:10.419662Z"
    }
   },
   "outputs": [
    {
     "data": {
      "text/plain": [
       "Cost                     229.1\n",
       "Duration                     2\n",
       "Post shares                  0\n",
       "Post comments                0\n",
       "Registration                 8\n",
       "Website purchases            1\n",
       "CPC                     5.5878\n",
       "CPM                     7.6194\n",
       "CR                   0.0243902\n",
       "registration_CR       0.195122\n",
       "CPA                      229.1\n",
       "CR_class                     1\n",
       "Name: selfie-profiles-organic-outline-blue-bg-jordan-pid_static, dtype: object"
      ]
     },
     "metadata": {},
     "output_type": "display_data"
    },
    {
     "name": "stdout",
     "output_type": "stream",
     "text": [
      "['0']\n"
     ]
    },
    {
     "name": "stderr",
     "output_type": "stream",
     "text": [
      "/Users/Lucas/.pyenv/versions/3.7.7/envs/lewagon/lib/python3.7/site-packages/sklearn/utils/validation.py:63: FutureWarning: Arrays of bytes/strings is being converted to decimal numbers if dtype='numeric'. This behavior is deprecated in 0.24 and will be removed in 1.1 (renaming of 0.26). Please convert your data to numeric values explicitly instead.\n",
      "  return f(*args, **kwargs)\n"
     ]
    }
   ],
   "source": [
    "# Cost, Duration, Post shares, Post comments, Registration, \n",
    "# Website purchases, CPC, CPM, CR, CR_class \n",
    "\n",
    "display(data_ad.loc[\"\"\"selfie-profiles-organic-outline-blue-bg-jordan-pid_static\"\"\", \n",
    "                    columns])\n",
    "\n",
    "test_ad = [[\"200.1\", \"3\", \"0\", \"0\", \"7\", \"1\", \"5.45\", \n",
    "            \"7.24\", \"0.023\", \"0.195122\", \"200\", \"1\"]]\n",
    "\n",
    "print(log_model.predict(test_ad))"
   ]
  },
  {
   "cell_type": "markdown",
   "metadata": {},
   "source": [
    "### Predict CR_Class:"
   ]
  },
  {
   "cell_type": "code",
   "execution_count": 56,
   "metadata": {
    "ExecuteTime": {
     "end_time": "2021-04-06T14:57:12.216273Z",
     "start_time": "2021-04-06T14:57:12.110554Z"
    }
   },
   "outputs": [
    {
     "name": "stdout",
     "output_type": "stream",
     "text": [
      "Score of the model is: 86.4%.\n"
     ]
    }
   ],
   "source": [
    "from sklearn.linear_model import LogisticRegression \n",
    " \n",
    "X_log_ad = data_ad.drop(columns = [\"Website purchases\",\n",
    "                                   \"CR\", \"CR_class\"]) \n",
    "y_log_ad = data_ad[\"CR_class\"] \n",
    "\n",
    "X_train_log_ad, X_test_log_ad,\\\n",
    "y_train_log_ad, y_test_log_ad = train_test_split(X_log_ad, y_log_ad,\n",
    "                                                 test_size = 0.3, random_state = 3)\n",
    "\n",
    "log_model_cr_class = LogisticRegression(max_iter = 1_000)\n",
    " \n",
    "log_model_cr_class.fit(X_train_log_ad, y_train_log_ad)\n",
    "\n",
    "print(f\"\"\"Score of the model is: {(log_model_cr_class.score(X_test_log_ad, y_test_log_ad) * 100).round(1)}%.\"\"\")"
   ]
  },
  {
   "cell_type": "code",
   "execution_count": 57,
   "metadata": {
    "ExecuteTime": {
     "end_time": "2021-04-06T14:57:12.724713Z",
     "start_time": "2021-04-06T14:57:12.716301Z"
    }
   },
   "outputs": [
    {
     "data": {
      "text/plain": [
       "Index(['Impressions', 'Cost', 'Duration', 'Unique link clicks', 'Post shares',\n",
       "       'Post comments', 'Registration', 'CPC', 'CPM', 'CTR', 'registration_CR',\n",
       "       'CPA', 'CTR_class'],\n",
       "      dtype='object')"
      ]
     },
     "execution_count": 57,
     "metadata": {},
     "output_type": "execute_result"
    }
   ],
   "source": [
    "columns = data_ad.columns.drop([\"Website purchases\", \"CR\", \"CR_class\"])\n",
    "columns"
   ]
  },
  {
   "cell_type": "code",
   "execution_count": 58,
   "metadata": {
    "ExecuteTime": {
     "end_time": "2021-04-06T14:57:13.279213Z",
     "start_time": "2021-04-06T14:57:13.232924Z"
    }
   },
   "outputs": [
    {
     "data": {
      "text/plain": [
       "Impressions                86008\n",
       "Cost                      655.73\n",
       "Duration                       8\n",
       "Unique link clicks           150\n",
       "Post shares                    0\n",
       "Post comments                  1\n",
       "Registration                  15\n",
       "CPC                      4.37153\n",
       "CPM                      7.62406\n",
       "CTR                   0.00174402\n",
       "registration_CR              0.1\n",
       "CPA                            0\n",
       "CTR_class                      0\n",
       "Name: moves-with-you_static_2020-w45, dtype: object"
      ]
     },
     "metadata": {},
     "output_type": "display_data"
    },
    {
     "data": {
      "text/plain": [
       "Impressions                44853\n",
       "Cost                      372.76\n",
       "Duration                       9\n",
       "Unique link clicks           103\n",
       "Post shares                    0\n",
       "Post comments                  1\n",
       "Registration                  10\n",
       "CPC                      3.61903\n",
       "CPM                       8.3107\n",
       "CTR                   0.00229639\n",
       "registration_CR        0.0970874\n",
       "CPA                            0\n",
       "CTR_class                      0\n",
       "Name: selfie-jordan-skullman_static, dtype: object"
      ]
     },
     "metadata": {},
     "output_type": "display_data"
    },
    {
     "name": "stdout",
     "output_type": "stream",
     "text": [
      "The predicted class of test_ad_1 is: ['0']\n",
      "The predicted class of test_ad_2 is: ['0']\n"
     ]
    },
    {
     "name": "stderr",
     "output_type": "stream",
     "text": [
      "/Users/Lucas/.pyenv/versions/3.7.7/envs/lewagon/lib/python3.7/site-packages/sklearn/utils/validation.py:63: FutureWarning: Arrays of bytes/strings is being converted to decimal numbers if dtype='numeric'. This behavior is deprecated in 0.24 and will be removed in 1.1 (renaming of 0.26). Please convert your data to numeric values explicitly instead.\n",
      "  return f(*args, **kwargs)\n",
      "/Users/Lucas/.pyenv/versions/3.7.7/envs/lewagon/lib/python3.7/site-packages/sklearn/utils/validation.py:63: FutureWarning: Arrays of bytes/strings is being converted to decimal numbers if dtype='numeric'. This behavior is deprecated in 0.24 and will be removed in 1.1 (renaming of 0.26). Please convert your data to numeric values explicitly instead.\n",
      "  return f(*args, **kwargs)\n"
     ]
    }
   ],
   "source": [
    "display(data_ad.loc[\"\"\"moves-with-you_static_2020-w45\"\"\", columns])\n",
    "display(data_ad.loc[\"\"\"selfie-jordan-skullman_static\"\"\", columns])\n",
    "# Define Sample ad: Metrics to use: \n",
    "# Impressions, Cost, Duration, Unique link clicks, Post shares, Post comments, \n",
    "# Registration, CPC, CPM, CTR, CPA, CTR_class\n",
    " \n",
    "test_ad_1 = [[\"86008\", \"655.73\", \"8\", \"150\", \"0\", \"1\", \"15\", \"4.37153\", \n",
    "              \"7.62406\", \"0.00174402\", \"0.1\", \"0\", \"0\"]]\n",
    " \n",
    "test_ad_2 = [[\"44853\", \"372.76\", \"9\", \"103\", \"0\", \"1\", \"10\", \n",
    "              \"3.61903\", \"8.3107\", \"0.00229639\", \"0.0970874\", \"0\", \"0\"]]\n",
    "\n",
    "print(f\"\"\"The predicted class of test_ad_1 is: {log_model_cr_class.predict(test_ad_1)}\"\"\")\n",
    "print(f\"\"\"The predicted class of test_ad_2 is: {log_model_cr_class.predict(test_ad_2)}\"\"\")"
   ]
  },
  {
   "cell_type": "markdown",
   "metadata": {},
   "source": [
    "## LogReg w/: pipe, grid & Pre-Processor Tuning"
   ]
  },
  {
   "cell_type": "markdown",
   "metadata": {},
   "source": [
    "### data_ad: "
   ]
  },
  {
   "cell_type": "code",
   "execution_count": 26,
   "metadata": {
    "ExecuteTime": {
     "end_time": "2021-04-06T14:57:18.911244Z",
     "start_time": "2021-04-06T14:57:18.202174Z"
    }
   },
   "outputs": [
    {
     "ename": "NameError",
     "evalue": "name 'LogisticRegression' is not defined",
     "output_type": "error",
     "traceback": [
      "\u001b[0;31m---------------------------------------------------------------------------\u001b[0m",
      "\u001b[0;31mNameError\u001b[0m                                 Traceback (most recent call last)",
      "\u001b[0;32m<ipython-input-26-4afff0177de1>\u001b[0m in \u001b[0;36m<module>\u001b[0;34m\u001b[0m\n\u001b[1;32m      9\u001b[0m pipe = Pipeline([('scale', MinMaxScaler()),  \n\u001b[1;32m     10\u001b[0m                  \u001b[0;34m(\u001b[0m\u001b[0;34m'imputer'\u001b[0m\u001b[0;34m,\u001b[0m \u001b[0mKNNImputer\u001b[0m\u001b[0;34m(\u001b[0m\u001b[0;34m)\u001b[0m\u001b[0;34m)\u001b[0m\u001b[0;34m,\u001b[0m\u001b[0;34m\u001b[0m\u001b[0;34m\u001b[0m\u001b[0m\n\u001b[0;32m---> 11\u001b[0;31m                  ('model', LogisticRegression())])\n\u001b[0m\u001b[1;32m     12\u001b[0m \u001b[0;34m\u001b[0m\u001b[0m\n\u001b[1;32m     13\u001b[0m \u001b[0mparams\u001b[0m \u001b[0;34m=\u001b[0m \u001b[0;34m{\u001b[0m\u001b[0;34m\"imputer__n_neighbors\"\u001b[0m \u001b[0;34m:\u001b[0m \u001b[0mnp\u001b[0m\u001b[0;34m.\u001b[0m\u001b[0marange\u001b[0m\u001b[0;34m(\u001b[0m\u001b[0;36m1\u001b[0m\u001b[0;34m,\u001b[0m \u001b[0;36m10\u001b[0m\u001b[0;34m,\u001b[0m \u001b[0;36m1\u001b[0m\u001b[0;34m)\u001b[0m\u001b[0;34m}\u001b[0m\u001b[0;34m\u001b[0m\u001b[0;34m\u001b[0m\u001b[0m\n",
      "\u001b[0;31mNameError\u001b[0m: name 'LogisticRegression' is not defined"
     ]
    }
   ],
   "source": [
    "from sklearn.pipeline import Pipeline\n",
    "from sklearn.preprocessing import MinMaxScaler\n",
    "from sklearn.impute import KNNImputer\n",
    "from sklearn.model_selection import GridSearchCV\n",
    "\n",
    "X = data_ad.drop(columns = [\"Website purchases\", \"CR\", \"CR_class\"]) \n",
    "y = data_ad[\"CR_class\"] \n",
    "\n",
    "pipe = Pipeline([('scale', MinMaxScaler()),  \n",
    "                 ('imputer', KNNImputer()), \n",
    "                 ('model', LogisticRegression())])\n",
    "\n",
    "params = {\"imputer__n_neighbors\" : np.arange(1, 10, 1)}\n",
    "\n",
    "grid = GridSearchCV(pipe, params, scoring = \"accuracy\")\n",
    "\n",
    "grid.fit(X, y)\n",
    "\n",
    "grid.best_estimator_"
   ]
  },
  {
   "cell_type": "code",
   "execution_count": 27,
   "metadata": {
    "ExecuteTime": {
     "end_time": "2021-04-06T14:57:19.845431Z",
     "start_time": "2021-04-06T14:57:19.597397Z"
    }
   },
   "outputs": [
    {
     "ename": "NameError",
     "evalue": "name 'grid' is not defined",
     "output_type": "error",
     "traceback": [
      "\u001b[0;31m---------------------------------------------------------------------------\u001b[0m",
      "\u001b[0;31mNameError\u001b[0m                                 Traceback (most recent call last)",
      "\u001b[0;32m<ipython-input-27-e0b3fc192c80>\u001b[0m in \u001b[0;36m<module>\u001b[0;34m\u001b[0m\n\u001b[1;32m      1\u001b[0m \u001b[0;32mfrom\u001b[0m \u001b[0msklearn\u001b[0m\u001b[0;34m.\u001b[0m\u001b[0mmodel_selection\u001b[0m \u001b[0;32mimport\u001b[0m \u001b[0mcross_val_score\u001b[0m\u001b[0;34m\u001b[0m\u001b[0;34m\u001b[0m\u001b[0m\n\u001b[1;32m      2\u001b[0m \u001b[0;34m\u001b[0m\u001b[0m\n\u001b[0;32m----> 3\u001b[0;31m score_grid = cross_val_score(grid.best_estimator_, X, y, \n\u001b[0m\u001b[1;32m      4\u001b[0m                              cv = 10, scoring = \"accuracy\")\n\u001b[1;32m      5\u001b[0m \u001b[0mround\u001b[0m\u001b[0;34m(\u001b[0m\u001b[0mscore_grid\u001b[0m\u001b[0;34m.\u001b[0m\u001b[0mmean\u001b[0m\u001b[0;34m(\u001b[0m\u001b[0;34m)\u001b[0m \u001b[0;34m*\u001b[0m \u001b[0;36m100\u001b[0m\u001b[0;34m,\u001b[0m \u001b[0;36m2\u001b[0m\u001b[0;34m)\u001b[0m\u001b[0;34m\u001b[0m\u001b[0;34m\u001b[0m\u001b[0m\n",
      "\u001b[0;31mNameError\u001b[0m: name 'grid' is not defined"
     ]
    }
   ],
   "source": [
    "from sklearn.model_selection import cross_val_score\n",
    "\n",
    "score_grid = cross_val_score(grid.best_estimator_, X, y, \n",
    "                             cv = 10, scoring = \"accuracy\")\n",
    "round(score_grid.mean() * 100, 2)"
   ]
  },
  {
   "cell_type": "markdown",
   "metadata": {},
   "source": [
    "### data_daily:"
   ]
  },
  {
   "cell_type": "markdown",
   "metadata": {},
   "source": [
    "Seems not to be working due to nan's. Despite having an Imputer in there. "
   ]
  },
  {
   "cell_type": "code",
   "execution_count": 13,
   "metadata": {
    "ExecuteTime": {
     "end_time": "2021-04-06T14:57:27.311802Z",
     "start_time": "2021-04-06T14:57:26.506249Z"
    },
    "scrolled": true
   },
   "outputs": [
    {
     "ename": "NameError",
     "evalue": "name 'Pipeline' is not defined",
     "output_type": "error",
     "traceback": [
      "\u001b[0;31m---------------------------------------------------------------------------\u001b[0m",
      "\u001b[0;31mNameError\u001b[0m                                 Traceback (most recent call last)",
      "\u001b[0;32m<ipython-input-13-610262f1e7ed>\u001b[0m in \u001b[0;36m<module>\u001b[0;34m\u001b[0m\n\u001b[1;32m      3\u001b[0m \u001b[0my\u001b[0m \u001b[0;34m=\u001b[0m \u001b[0mdata_daily\u001b[0m\u001b[0;34m[\u001b[0m\u001b[0;34m\"CR_class\"\u001b[0m\u001b[0;34m]\u001b[0m\u001b[0;34m\u001b[0m\u001b[0;34m\u001b[0m\u001b[0m\n\u001b[1;32m      4\u001b[0m \u001b[0;34m\u001b[0m\u001b[0m\n\u001b[0;32m----> 5\u001b[0;31m pipe = Pipeline([('scale', MinMaxScaler()),  \n\u001b[0m\u001b[1;32m      6\u001b[0m                  \u001b[0;34m(\u001b[0m\u001b[0;34m'imputer'\u001b[0m\u001b[0;34m,\u001b[0m \u001b[0mKNNImputer\u001b[0m\u001b[0;34m(\u001b[0m\u001b[0;34m)\u001b[0m\u001b[0;34m)\u001b[0m\u001b[0;34m,\u001b[0m\u001b[0;34m\u001b[0m\u001b[0;34m\u001b[0m\u001b[0m\n\u001b[1;32m      7\u001b[0m                  ('model', LogisticRegression())])\n",
      "\u001b[0;31mNameError\u001b[0m: name 'Pipeline' is not defined"
     ]
    }
   ],
   "source": [
    "X = data_daily.drop(columns = [\"Website purchases\", \"CR\", \"CR_class\", \"Date\", \n",
    "                               \"Ad set name\", \"Ad name\", \"Campaign name\"]) \n",
    "y = data_daily[\"CR_class\"]\n",
    "\n",
    "pipe = Pipeline([('scale', MinMaxScaler()),  \n",
    "                 ('imputer', KNNImputer()), \n",
    "                 ('model', LogisticRegression())])\n",
    "\n",
    "params = {\"imputer__n_neighbors\" : np.arange(1, 3, 1)}\n",
    "\n",
    "grid = GridSearchCV(pipe, params, scoring = \"recall\")\n",
    "\n",
    "grid.fit(X, y)\n",
    "\n",
    "grid.best_estimator_"
   ]
  },
  {
   "cell_type": "markdown",
   "metadata": {},
   "source": [
    "## Regularisation: "
   ]
  },
  {
   "cell_type": "markdown",
   "metadata": {},
   "source": [
    "### Base Model: "
   ]
  },
  {
   "cell_type": "code",
   "execution_count": 63,
   "metadata": {
    "ExecuteTime": {
     "end_time": "2021-04-06T14:57:34.206423Z",
     "start_time": "2021-04-06T14:57:34.121829Z"
    }
   },
   "outputs": [
    {
     "data": {
      "application/javascript": [
       "\n",
       "        if (window._pyforest_update_imports_cell) { window._pyforest_update_imports_cell('import numpy as np\\nimport pandas as pd'); }\n",
       "    "
      ],
      "text/plain": [
       "<IPython.core.display.Javascript object>"
      ]
     },
     "metadata": {},
     "output_type": "display_data"
    },
    {
     "data": {
      "text/plain": [
       "array([[  10.5731636 ,  -86.27454844,    4.73176259, -100.75733765,\n",
       "        -117.76031229,   22.63205717,  198.97186489,  -10.2965579 ,\n",
       "           5.11853971,   -4.1084071 ,    5.30348965,    2.20818054,\n",
       "          -0.40400907]])"
      ]
     },
     "execution_count": 63,
     "metadata": {},
     "output_type": "execute_result"
    }
   ],
   "source": [
    "#Based on Day 5, Week 4: \n",
    "from sklearn.linear_model import LogisticRegression\n",
    "from sklearn.preprocessing import MinMaxScaler\n",
    " \n",
    "X = data_ad.drop(columns = [\"CR\", \"Website purchases\", \"CR_class\"])\n",
    "y = data_ad[\"CR_class\"]\n",
    "\n",
    "#X = data_ad.drop(columns = [\"CTR_class\", \"Unique link clicks\", \"CTR\"])\n",
    "#y = data_ad[\"CTR_class\"]\n",
    " \n",
    "# MinMaxScale the data: \n",
    "scaler = MinMaxScaler()\n",
    "X_scaled = scaler.fit_transform(X)\n",
    "X_scaled = pd.DataFrame(X_scaled, columns = X.columns)\n",
    "X_scaled.head(2)\n",
    " \n",
    "log_model = LogisticRegression(penalty = 'none', max_iter = 500) \n",
    "\n",
    "log_model.fit(X_scaled, y) \n",
    "\n",
    "log_model.coef_"
   ]
  },
  {
   "cell_type": "code",
   "execution_count": 64,
   "metadata": {
    "ExecuteTime": {
     "end_time": "2021-04-06T14:57:34.862046Z",
     "start_time": "2021-04-06T14:57:34.841750Z"
    }
   },
   "outputs": [
    {
     "data": {
      "application/javascript": [
       "\n",
       "        if (window._pyforest_update_imports_cell) { window._pyforest_update_imports_cell('import numpy as np\\nimport pandas as pd'); }\n",
       "    "
      ],
      "text/plain": [
       "<IPython.core.display.Javascript object>"
      ]
     },
     "metadata": {},
     "output_type": "display_data"
    },
    {
     "data": {
      "application/javascript": [
       "\n",
       "        if (window._pyforest_update_imports_cell) { window._pyforest_update_imports_cell('import numpy as np\\nimport pandas as pd'); }\n",
       "    "
      ],
      "text/plain": [
       "<IPython.core.display.Javascript object>"
      ]
     },
     "metadata": {},
     "output_type": "display_data"
    },
    {
     "data": {
      "text/html": [
       "<div>\n",
       "<style scoped>\n",
       "    .dataframe tbody tr th:only-of-type {\n",
       "        vertical-align: middle;\n",
       "    }\n",
       "\n",
       "    .dataframe tbody tr th {\n",
       "        vertical-align: top;\n",
       "    }\n",
       "\n",
       "    .dataframe thead th {\n",
       "        text-align: right;\n",
       "    }\n",
       "</style>\n",
       "<table border=\"1\" class=\"dataframe\">\n",
       "  <thead>\n",
       "    <tr style=\"text-align: right;\">\n",
       "      <th></th>\n",
       "      <th>Coefficient</th>\n",
       "      <th>Importance</th>\n",
       "    </tr>\n",
       "  </thead>\n",
       "  <tbody>\n",
       "    <tr>\n",
       "      <th>6</th>\n",
       "      <td>Registration</td>\n",
       "      <td>198.972</td>\n",
       "    </tr>\n",
       "    <tr>\n",
       "      <th>5</th>\n",
       "      <td>Post comments</td>\n",
       "      <td>22.6321</td>\n",
       "    </tr>\n",
       "    <tr>\n",
       "      <th>0</th>\n",
       "      <td>Impressions</td>\n",
       "      <td>10.5732</td>\n",
       "    </tr>\n",
       "    <tr>\n",
       "      <th>10</th>\n",
       "      <td>registration_CR</td>\n",
       "      <td>5.30349</td>\n",
       "    </tr>\n",
       "    <tr>\n",
       "      <th>8</th>\n",
       "      <td>CPM</td>\n",
       "      <td>5.11854</td>\n",
       "    </tr>\n",
       "    <tr>\n",
       "      <th>2</th>\n",
       "      <td>Duration</td>\n",
       "      <td>4.73176</td>\n",
       "    </tr>\n",
       "    <tr>\n",
       "      <th>11</th>\n",
       "      <td>CPA</td>\n",
       "      <td>2.20818</td>\n",
       "    </tr>\n",
       "    <tr>\n",
       "      <th>12</th>\n",
       "      <td>CTR_class</td>\n",
       "      <td>-0.404009</td>\n",
       "    </tr>\n",
       "    <tr>\n",
       "      <th>9</th>\n",
       "      <td>CTR</td>\n",
       "      <td>-4.10841</td>\n",
       "    </tr>\n",
       "    <tr>\n",
       "      <th>7</th>\n",
       "      <td>CPC</td>\n",
       "      <td>-10.2966</td>\n",
       "    </tr>\n",
       "    <tr>\n",
       "      <th>1</th>\n",
       "      <td>Cost</td>\n",
       "      <td>-86.2745</td>\n",
       "    </tr>\n",
       "    <tr>\n",
       "      <th>3</th>\n",
       "      <td>Unique link clicks</td>\n",
       "      <td>-100.757</td>\n",
       "    </tr>\n",
       "    <tr>\n",
       "      <th>4</th>\n",
       "      <td>Post shares</td>\n",
       "      <td>-117.76</td>\n",
       "    </tr>\n",
       "  </tbody>\n",
       "</table>\n",
       "</div>"
      ],
      "text/plain": [
       "           Coefficient Importance\n",
       "6         Registration    198.972\n",
       "5        Post comments    22.6321\n",
       "0          Impressions    10.5732\n",
       "10     registration_CR    5.30349\n",
       "8                  CPM    5.11854\n",
       "2             Duration    4.73176\n",
       "11                 CPA    2.20818\n",
       "12           CTR_class  -0.404009\n",
       "9                  CTR   -4.10841\n",
       "7                  CPC   -10.2966\n",
       "1                 Cost   -86.2745\n",
       "3   Unique link clicks   -100.757\n",
       "4          Post shares    -117.76"
      ]
     },
     "execution_count": 64,
     "metadata": {},
     "output_type": "execute_result"
    }
   ],
   "source": [
    "features = pd.DataFrame(np.vstack((X.columns, log_model.coef_)).T, \n",
    "                        columns = [\"Coefficient\", \"Importance\"])            \\\n",
    "             .sort_values(\"Importance\", ascending = False)\n",
    "features"
   ]
  },
  {
   "cell_type": "markdown",
   "metadata": {},
   "source": [
    "### L2 Penalty: "
   ]
  },
  {
   "cell_type": "code",
   "execution_count": 65,
   "metadata": {
    "ExecuteTime": {
     "end_time": "2021-04-06T14:57:36.361660Z",
     "start_time": "2021-04-06T14:57:36.348199Z"
    },
    "scrolled": true
   },
   "outputs": [
    {
     "data": {
      "text/plain": [
       "array([[ 0.13485081,  0.15721316,  0.30648665,  0.08684106, -0.09070725,\n",
       "         0.01054094,  0.19394368, -0.00951064,  0.49855977, -0.09854949,\n",
       "         0.73248276,  0.1658772 , -0.08034082]])"
      ]
     },
     "execution_count": 65,
     "metadata": {},
     "output_type": "execute_result"
    }
   ],
   "source": [
    "log_model_l2 = LogisticRegression(penalty = 'l2', max_iter = 50_000, C = 0.1)\n",
    "\n",
    "log_model_l2.fit(X_scaled, y)\n",
    "\n",
    "log_model_l2.coef_"
   ]
  },
  {
   "cell_type": "code",
   "execution_count": 66,
   "metadata": {
    "ExecuteTime": {
     "end_time": "2021-04-06T14:57:36.949028Z",
     "start_time": "2021-04-06T14:57:36.922441Z"
    }
   },
   "outputs": [
    {
     "data": {
      "application/javascript": [
       "\n",
       "        if (window._pyforest_update_imports_cell) { window._pyforest_update_imports_cell('import numpy as np\\nimport pandas as pd'); }\n",
       "    "
      ],
      "text/plain": [
       "<IPython.core.display.Javascript object>"
      ]
     },
     "metadata": {},
     "output_type": "display_data"
    },
    {
     "data": {
      "application/javascript": [
       "\n",
       "        if (window._pyforest_update_imports_cell) { window._pyforest_update_imports_cell('import numpy as np\\nimport pandas as pd'); }\n",
       "    "
      ],
      "text/plain": [
       "<IPython.core.display.Javascript object>"
      ]
     },
     "metadata": {},
     "output_type": "display_data"
    },
    {
     "data": {
      "text/html": [
       "<div>\n",
       "<style scoped>\n",
       "    .dataframe tbody tr th:only-of-type {\n",
       "        vertical-align: middle;\n",
       "    }\n",
       "\n",
       "    .dataframe tbody tr th {\n",
       "        vertical-align: top;\n",
       "    }\n",
       "\n",
       "    .dataframe thead th {\n",
       "        text-align: right;\n",
       "    }\n",
       "</style>\n",
       "<table border=\"1\" class=\"dataframe\">\n",
       "  <thead>\n",
       "    <tr style=\"text-align: right;\">\n",
       "      <th></th>\n",
       "      <th>Coefficient</th>\n",
       "      <th>Importance</th>\n",
       "    </tr>\n",
       "  </thead>\n",
       "  <tbody>\n",
       "    <tr>\n",
       "      <th>10</th>\n",
       "      <td>registration_CR</td>\n",
       "      <td>0.732483</td>\n",
       "    </tr>\n",
       "    <tr>\n",
       "      <th>8</th>\n",
       "      <td>CPM</td>\n",
       "      <td>0.49856</td>\n",
       "    </tr>\n",
       "    <tr>\n",
       "      <th>2</th>\n",
       "      <td>Duration</td>\n",
       "      <td>0.306487</td>\n",
       "    </tr>\n",
       "    <tr>\n",
       "      <th>6</th>\n",
       "      <td>Registration</td>\n",
       "      <td>0.193944</td>\n",
       "    </tr>\n",
       "    <tr>\n",
       "      <th>11</th>\n",
       "      <td>CPA</td>\n",
       "      <td>0.165877</td>\n",
       "    </tr>\n",
       "    <tr>\n",
       "      <th>1</th>\n",
       "      <td>Cost</td>\n",
       "      <td>0.157213</td>\n",
       "    </tr>\n",
       "    <tr>\n",
       "      <th>0</th>\n",
       "      <td>Impressions</td>\n",
       "      <td>0.134851</td>\n",
       "    </tr>\n",
       "    <tr>\n",
       "      <th>3</th>\n",
       "      <td>Unique link clicks</td>\n",
       "      <td>0.0868411</td>\n",
       "    </tr>\n",
       "    <tr>\n",
       "      <th>5</th>\n",
       "      <td>Post comments</td>\n",
       "      <td>0.0105409</td>\n",
       "    </tr>\n",
       "    <tr>\n",
       "      <th>7</th>\n",
       "      <td>CPC</td>\n",
       "      <td>-0.00951064</td>\n",
       "    </tr>\n",
       "    <tr>\n",
       "      <th>12</th>\n",
       "      <td>CTR_class</td>\n",
       "      <td>-0.0803408</td>\n",
       "    </tr>\n",
       "    <tr>\n",
       "      <th>4</th>\n",
       "      <td>Post shares</td>\n",
       "      <td>-0.0907073</td>\n",
       "    </tr>\n",
       "    <tr>\n",
       "      <th>9</th>\n",
       "      <td>CTR</td>\n",
       "      <td>-0.0985495</td>\n",
       "    </tr>\n",
       "  </tbody>\n",
       "</table>\n",
       "</div>"
      ],
      "text/plain": [
       "           Coefficient  Importance\n",
       "10     registration_CR    0.732483\n",
       "8                  CPM     0.49856\n",
       "2             Duration    0.306487\n",
       "6         Registration    0.193944\n",
       "11                 CPA    0.165877\n",
       "1                 Cost    0.157213\n",
       "0          Impressions    0.134851\n",
       "3   Unique link clicks   0.0868411\n",
       "5        Post comments   0.0105409\n",
       "7                  CPC -0.00951064\n",
       "12           CTR_class  -0.0803408\n",
       "4          Post shares  -0.0907073\n",
       "9                  CTR  -0.0985495"
      ]
     },
     "execution_count": 66,
     "metadata": {},
     "output_type": "execute_result"
    }
   ],
   "source": [
    "features_l2 = pd.DataFrame(np.vstack((X.columns, log_model_l2.coef_)).T, \n",
    "                        columns = [\"Coefficient\", \"Importance\"])            \\\n",
    "             .sort_values(\"Importance\", ascending = False)\n",
    "features_l2"
   ]
  },
  {
   "cell_type": "markdown",
   "metadata": {},
   "source": [
    "### L1 Penalty: "
   ]
  },
  {
   "cell_type": "code",
   "execution_count": 67,
   "metadata": {
    "ExecuteTime": {
     "end_time": "2021-04-06T14:57:38.456618Z",
     "start_time": "2021-04-06T14:57:38.445348Z"
    }
   },
   "outputs": [
    {
     "data": {
      "text/plain": [
       "array([[0., 0., 0., 0., 0., 0., 0., 0., 0., 0., 0., 0., 0.]])"
      ]
     },
     "execution_count": 67,
     "metadata": {},
     "output_type": "execute_result"
    }
   ],
   "source": [
    "model_log_l1 = LogisticRegression(penalty = \"l1\", max_iter = 5000, \n",
    "                                  solver = \"liblinear\", C = 0.1)\n",
    "\n",
    "model_log_l1.fit(X_scaled, y)\n",
    "\n",
    "model_log_l1.coef_"
   ]
  },
  {
   "cell_type": "code",
   "execution_count": 68,
   "metadata": {
    "ExecuteTime": {
     "end_time": "2021-04-06T14:57:39.229469Z",
     "start_time": "2021-04-06T14:57:39.209976Z"
    }
   },
   "outputs": [
    {
     "data": {
      "application/javascript": [
       "\n",
       "        if (window._pyforest_update_imports_cell) { window._pyforest_update_imports_cell('import numpy as np\\nimport pandas as pd'); }\n",
       "    "
      ],
      "text/plain": [
       "<IPython.core.display.Javascript object>"
      ]
     },
     "metadata": {},
     "output_type": "display_data"
    },
    {
     "data": {
      "application/javascript": [
       "\n",
       "        if (window._pyforest_update_imports_cell) { window._pyforest_update_imports_cell('import numpy as np\\nimport pandas as pd'); }\n",
       "    "
      ],
      "text/plain": [
       "<IPython.core.display.Javascript object>"
      ]
     },
     "metadata": {},
     "output_type": "display_data"
    },
    {
     "data": {
      "text/html": [
       "<div>\n",
       "<style scoped>\n",
       "    .dataframe tbody tr th:only-of-type {\n",
       "        vertical-align: middle;\n",
       "    }\n",
       "\n",
       "    .dataframe tbody tr th {\n",
       "        vertical-align: top;\n",
       "    }\n",
       "\n",
       "    .dataframe thead th {\n",
       "        text-align: right;\n",
       "    }\n",
       "</style>\n",
       "<table border=\"1\" class=\"dataframe\">\n",
       "  <thead>\n",
       "    <tr style=\"text-align: right;\">\n",
       "      <th></th>\n",
       "      <th>Coefficient</th>\n",
       "      <th>Importance</th>\n",
       "    </tr>\n",
       "  </thead>\n",
       "  <tbody>\n",
       "    <tr>\n",
       "      <th>0</th>\n",
       "      <td>Impressions</td>\n",
       "      <td>0</td>\n",
       "    </tr>\n",
       "    <tr>\n",
       "      <th>1</th>\n",
       "      <td>Cost</td>\n",
       "      <td>0</td>\n",
       "    </tr>\n",
       "    <tr>\n",
       "      <th>2</th>\n",
       "      <td>Duration</td>\n",
       "      <td>0</td>\n",
       "    </tr>\n",
       "    <tr>\n",
       "      <th>3</th>\n",
       "      <td>Unique link clicks</td>\n",
       "      <td>0</td>\n",
       "    </tr>\n",
       "    <tr>\n",
       "      <th>4</th>\n",
       "      <td>Post shares</td>\n",
       "      <td>0</td>\n",
       "    </tr>\n",
       "    <tr>\n",
       "      <th>5</th>\n",
       "      <td>Post comments</td>\n",
       "      <td>0</td>\n",
       "    </tr>\n",
       "    <tr>\n",
       "      <th>6</th>\n",
       "      <td>Registration</td>\n",
       "      <td>0</td>\n",
       "    </tr>\n",
       "    <tr>\n",
       "      <th>7</th>\n",
       "      <td>CPC</td>\n",
       "      <td>0</td>\n",
       "    </tr>\n",
       "    <tr>\n",
       "      <th>8</th>\n",
       "      <td>CPM</td>\n",
       "      <td>0</td>\n",
       "    </tr>\n",
       "    <tr>\n",
       "      <th>9</th>\n",
       "      <td>CTR</td>\n",
       "      <td>0</td>\n",
       "    </tr>\n",
       "    <tr>\n",
       "      <th>10</th>\n",
       "      <td>registration_CR</td>\n",
       "      <td>0</td>\n",
       "    </tr>\n",
       "    <tr>\n",
       "      <th>11</th>\n",
       "      <td>CPA</td>\n",
       "      <td>0</td>\n",
       "    </tr>\n",
       "    <tr>\n",
       "      <th>12</th>\n",
       "      <td>CTR_class</td>\n",
       "      <td>0</td>\n",
       "    </tr>\n",
       "  </tbody>\n",
       "</table>\n",
       "</div>"
      ],
      "text/plain": [
       "           Coefficient Importance\n",
       "0          Impressions          0\n",
       "1                 Cost          0\n",
       "2             Duration          0\n",
       "3   Unique link clicks          0\n",
       "4          Post shares          0\n",
       "5        Post comments          0\n",
       "6         Registration          0\n",
       "7                  CPC          0\n",
       "8                  CPM          0\n",
       "9                  CTR          0\n",
       "10     registration_CR          0\n",
       "11                 CPA          0\n",
       "12           CTR_class          0"
      ]
     },
     "execution_count": 68,
     "metadata": {},
     "output_type": "execute_result"
    }
   ],
   "source": [
    "features_l1 = pd.DataFrame(np.vstack((X.columns, model_log_l1.coef_)).T, \n",
    "                        columns = [\"Coefficient\", \"Importance\"])            \\\n",
    "             .sort_values(\"Importance\", ascending = False)\n",
    "features_l1"
   ]
  },
  {
   "cell_type": "markdown",
   "metadata": {},
   "source": [
    "## SVM: "
   ]
  },
  {
   "cell_type": "markdown",
   "metadata": {},
   "source": [
    "### plot_decision_regions(): "
   ]
  },
  {
   "cell_type": "code",
   "execution_count": 69,
   "metadata": {
    "ExecuteTime": {
     "end_time": "2021-04-06T14:57:46.747755Z",
     "start_time": "2021-04-06T14:57:46.038084Z"
    }
   },
   "outputs": [
    {
     "name": "stderr",
     "output_type": "stream",
     "text": [
      "/Users/Lucas/.pyenv/versions/3.7.7/envs/lewagon/lib/python3.7/site-packages/sklearn/utils/validation.py:63: DataConversionWarning: A column-vector y was passed when a 1d array was expected. Please change the shape of y to (n_samples, ), for example using ravel().\n",
      "  return f(*args, **kwargs)\n"
     ]
    },
    {
     "ename": "TypeError",
     "evalue": "plot_decision_regions() got an unexpected keyword argument 'classifier'",
     "output_type": "error",
     "traceback": [
      "\u001b[0;31m---------------------------------------------------------------------------\u001b[0m",
      "\u001b[0;31mTypeError\u001b[0m                                 Traceback (most recent call last)",
      "\u001b[0;32m<ipython-input-69-67687c4a4d1d>\u001b[0m in \u001b[0;36m<module>\u001b[0;34m\u001b[0m\n\u001b[1;32m     10\u001b[0m \u001b[0msvm\u001b[0m\u001b[0;34m.\u001b[0m\u001b[0mfit\u001b[0m\u001b[0;34m(\u001b[0m\u001b[0mX\u001b[0m\u001b[0;34m,\u001b[0m \u001b[0my\u001b[0m\u001b[0;34m)\u001b[0m\u001b[0;34m\u001b[0m\u001b[0;34m\u001b[0m\u001b[0m\n\u001b[1;32m     11\u001b[0m \u001b[0;34m\u001b[0m\u001b[0m\n\u001b[0;32m---> 12\u001b[0;31m \u001b[0mplot_decision_regions\u001b[0m\u001b[0;34m(\u001b[0m\u001b[0mX\u001b[0m\u001b[0;34m,\u001b[0m \u001b[0my\u001b[0m\u001b[0;34m,\u001b[0m \u001b[0mclassifier\u001b[0m \u001b[0;34m=\u001b[0m \u001b[0msvm\u001b[0m\u001b[0;34m)\u001b[0m\u001b[0;34m\u001b[0m\u001b[0;34m\u001b[0m\u001b[0m\n\u001b[0m",
      "\u001b[0;31mTypeError\u001b[0m: plot_decision_regions() got an unexpected keyword argument 'classifier'"
     ]
    }
   ],
   "source": [
    "from sklearn.pipeline import Pipeline\n",
    "from sklearn.svm import SVC\n",
    "from mlxtend.plotting import plot_decision_regions\n",
    "\n",
    "X = data_ad[[\"Impressions\"]]\n",
    "y = data_ad[[\"Website purchases\"]]\n",
    "\n",
    "svm = SVC(kernel = \"rbf\", C = 0.1, gamma = 50)\n",
    "\n",
    "svm.fit(X, y)\n",
    "\n",
    "plot_decision_regions(X, y, classifier = svm)"
   ]
  },
  {
   "cell_type": "markdown",
   "metadata": {},
   "source": [
    "### Random Search (SVM, Day 5, Week 4)"
   ]
  },
  {
   "cell_type": "code",
   "execution_count": 70,
   "metadata": {
    "ExecuteTime": {
     "end_time": "2021-04-06T14:57:51.346269Z",
     "start_time": "2021-04-06T14:57:51.323041Z"
    }
   },
   "outputs": [
    {
     "ename": "ValueError",
     "evalue": "__len__() should return >= 0",
     "output_type": "error",
     "traceback": [
      "\u001b[0;31m---------------------------------------------------------------------------\u001b[0m",
      "\u001b[0;31mValueError\u001b[0m                                Traceback (most recent call last)",
      "\u001b[0;32m<ipython-input-70-15b9111b8b56>\u001b[0m in \u001b[0;36m<module>\u001b[0;34m\u001b[0m\n\u001b[1;32m     10\u001b[0m                                   scoring = \"accuracy\", n_iter = -1)\n\u001b[1;32m     11\u001b[0m \u001b[0;34m\u001b[0m\u001b[0m\n\u001b[0;32m---> 12\u001b[0;31m \u001b[0mrandom_search\u001b[0m\u001b[0;34m.\u001b[0m\u001b[0mfit\u001b[0m\u001b[0;34m(\u001b[0m\u001b[0mX\u001b[0m\u001b[0;34m,\u001b[0m \u001b[0my\u001b[0m\u001b[0;34m)\u001b[0m\u001b[0;34m\u001b[0m\u001b[0;34m\u001b[0m\u001b[0m\n\u001b[0m",
      "\u001b[0;32m~/.pyenv/versions/3.7.7/envs/lewagon/lib/python3.7/site-packages/sklearn/utils/validation.py\u001b[0m in \u001b[0;36minner_f\u001b[0;34m(*args, **kwargs)\u001b[0m\n\u001b[1;32m     61\u001b[0m             \u001b[0mextra_args\u001b[0m \u001b[0;34m=\u001b[0m \u001b[0mlen\u001b[0m\u001b[0;34m(\u001b[0m\u001b[0margs\u001b[0m\u001b[0;34m)\u001b[0m \u001b[0;34m-\u001b[0m \u001b[0mlen\u001b[0m\u001b[0;34m(\u001b[0m\u001b[0mall_args\u001b[0m\u001b[0;34m)\u001b[0m\u001b[0;34m\u001b[0m\u001b[0;34m\u001b[0m\u001b[0m\n\u001b[1;32m     62\u001b[0m             \u001b[0;32mif\u001b[0m \u001b[0mextra_args\u001b[0m \u001b[0;34m<=\u001b[0m \u001b[0;36m0\u001b[0m\u001b[0;34m:\u001b[0m\u001b[0;34m\u001b[0m\u001b[0;34m\u001b[0m\u001b[0m\n\u001b[0;32m---> 63\u001b[0;31m                 \u001b[0;32mreturn\u001b[0m \u001b[0mf\u001b[0m\u001b[0;34m(\u001b[0m\u001b[0;34m*\u001b[0m\u001b[0margs\u001b[0m\u001b[0;34m,\u001b[0m \u001b[0;34m**\u001b[0m\u001b[0mkwargs\u001b[0m\u001b[0;34m)\u001b[0m\u001b[0;34m\u001b[0m\u001b[0;34m\u001b[0m\u001b[0m\n\u001b[0m\u001b[1;32m     64\u001b[0m \u001b[0;34m\u001b[0m\u001b[0m\n\u001b[1;32m     65\u001b[0m             \u001b[0;31m# extra_args > 0\u001b[0m\u001b[0;34m\u001b[0m\u001b[0;34m\u001b[0m\u001b[0;34m\u001b[0m\u001b[0m\n",
      "\u001b[0;32m~/.pyenv/versions/3.7.7/envs/lewagon/lib/python3.7/site-packages/sklearn/model_selection/_search.py\u001b[0m in \u001b[0;36mfit\u001b[0;34m(self, X, y, groups, **fit_params)\u001b[0m\n\u001b[1;32m    839\u001b[0m                 \u001b[0;32mreturn\u001b[0m \u001b[0mresults\u001b[0m\u001b[0;34m\u001b[0m\u001b[0;34m\u001b[0m\u001b[0m\n\u001b[1;32m    840\u001b[0m \u001b[0;34m\u001b[0m\u001b[0m\n\u001b[0;32m--> 841\u001b[0;31m             \u001b[0mself\u001b[0m\u001b[0;34m.\u001b[0m\u001b[0m_run_search\u001b[0m\u001b[0;34m(\u001b[0m\u001b[0mevaluate_candidates\u001b[0m\u001b[0;34m)\u001b[0m\u001b[0;34m\u001b[0m\u001b[0;34m\u001b[0m\u001b[0m\n\u001b[0m\u001b[1;32m    842\u001b[0m \u001b[0;34m\u001b[0m\u001b[0m\n\u001b[1;32m    843\u001b[0m             \u001b[0;31m# multimetric is determined here because in the case of a callable\u001b[0m\u001b[0;34m\u001b[0m\u001b[0;34m\u001b[0m\u001b[0;34m\u001b[0m\u001b[0m\n",
      "\u001b[0;32m~/.pyenv/versions/3.7.7/envs/lewagon/lib/python3.7/site-packages/sklearn/model_selection/_search.py\u001b[0m in \u001b[0;36m_run_search\u001b[0;34m(self, evaluate_candidates)\u001b[0m\n\u001b[1;32m   1619\u001b[0m         evaluate_candidates(ParameterSampler(\n\u001b[1;32m   1620\u001b[0m             \u001b[0mself\u001b[0m\u001b[0;34m.\u001b[0m\u001b[0mparam_distributions\u001b[0m\u001b[0;34m,\u001b[0m \u001b[0mself\u001b[0m\u001b[0;34m.\u001b[0m\u001b[0mn_iter\u001b[0m\u001b[0;34m,\u001b[0m\u001b[0;34m\u001b[0m\u001b[0;34m\u001b[0m\u001b[0m\n\u001b[0;32m-> 1621\u001b[0;31m             random_state=self.random_state))\n\u001b[0m",
      "\u001b[0;32m~/.pyenv/versions/3.7.7/envs/lewagon/lib/python3.7/site-packages/sklearn/model_selection/_search.py\u001b[0m in \u001b[0;36mevaluate_candidates\u001b[0;34m(candidate_params, cv, more_results)\u001b[0m\n\u001b[1;32m    785\u001b[0m                                     more_results=None):\n\u001b[1;32m    786\u001b[0m                 \u001b[0mcv\u001b[0m \u001b[0;34m=\u001b[0m \u001b[0mcv\u001b[0m \u001b[0;32mor\u001b[0m \u001b[0mcv_orig\u001b[0m\u001b[0;34m\u001b[0m\u001b[0;34m\u001b[0m\u001b[0m\n\u001b[0;32m--> 787\u001b[0;31m                 \u001b[0mcandidate_params\u001b[0m \u001b[0;34m=\u001b[0m \u001b[0mlist\u001b[0m\u001b[0;34m(\u001b[0m\u001b[0mcandidate_params\u001b[0m\u001b[0;34m)\u001b[0m\u001b[0;34m\u001b[0m\u001b[0;34m\u001b[0m\u001b[0m\n\u001b[0m\u001b[1;32m    788\u001b[0m                 \u001b[0mn_candidates\u001b[0m \u001b[0;34m=\u001b[0m \u001b[0mlen\u001b[0m\u001b[0;34m(\u001b[0m\u001b[0mcandidate_params\u001b[0m\u001b[0;34m)\u001b[0m\u001b[0;34m\u001b[0m\u001b[0;34m\u001b[0m\u001b[0m\n\u001b[1;32m    789\u001b[0m \u001b[0;34m\u001b[0m\u001b[0m\n",
      "\u001b[0;31mValueError\u001b[0m: __len__() should return >= 0"
     ]
    }
   ],
   "source": [
    "from sklearn.model_selection import RandomizedSearchCV\n",
    "from scipy import stats\n",
    "\n",
    "model = SVC()\n",
    "\n",
    "search_space = {\"kernel\" : [\"sigmoid\"], \n",
    "               \"C\" : stats.uniform(0.01, 1_000)}\n",
    "\n",
    "random_search = RandomizedSearchCV(model, search_space, cv = 5, verbose = 0, \n",
    "                                  scoring = \"accuracy\", n_iter = -1)\n",
    "\n",
    "random_search.fit(X, y)"
   ]
  },
  {
   "cell_type": "markdown",
   "metadata": {},
   "source": [
    "### Gridsearch / SVC:"
   ]
  },
  {
   "cell_type": "markdown",
   "metadata": {},
   "source": [
    "#### Predict CTR_class: "
   ]
  },
  {
   "cell_type": "code",
   "execution_count": 71,
   "metadata": {
    "ExecuteTime": {
     "end_time": "2021-04-06T14:58:41.927371Z",
     "start_time": "2021-04-06T14:57:56.127952Z"
    }
   },
   "outputs": [
    {
     "data": {
      "application/javascript": [
       "\n",
       "        if (window._pyforest_update_imports_cell) { window._pyforest_update_imports_cell('import numpy as np\\nimport pandas as pd'); }\n",
       "    "
      ],
      "text/plain": [
       "<IPython.core.display.Javascript object>"
      ]
     },
     "metadata": {},
     "output_type": "display_data"
    },
    {
     "data": {
      "application/javascript": [
       "\n",
       "        if (window._pyforest_update_imports_cell) { window._pyforest_update_imports_cell('import numpy as np\\nimport pandas as pd'); }\n",
       "    "
      ],
      "text/plain": [
       "<IPython.core.display.Javascript object>"
      ]
     },
     "metadata": {},
     "output_type": "display_data"
    },
    {
     "name": "stdout",
     "output_type": "stream",
     "text": [
      "Score of the model is: 76.3%.\n",
      "Pipeline(steps=[('scaler', StandardScaler()), ('SVM', SVC(C=94, gamma=0.09))])\n",
      "              precision    recall  f1-score   support\n",
      "\n",
      "           0       0.92      0.67      0.77        36\n",
      "           1       0.64      0.91      0.75        23\n",
      "\n",
      "    accuracy                           0.76        59\n",
      "   macro avg       0.78      0.79      0.76        59\n",
      "weighted avg       0.81      0.76      0.76        59\n",
      "\n"
     ]
    }
   ],
   "source": [
    "from sklearn.model_selection import GridSearchCV\n",
    "\n",
    "X = data_ad.drop(columns = [\"CTR_class\", \"Impressions\", \"Unique link clicks\", \"CTR\"])\n",
    "y = data_ad[\"CTR_class\"]\n",
    "\n",
    "X_train, X_test, y_train, y_test = train_test_split(X, y, test_size = 0.3, \n",
    "                                                    random_state = 3) \n",
    "\n",
    "steps = [(\"scaler\", StandardScaler()), \n",
    "         (\"SVM\", SVC())]\n",
    "\n",
    "pipeline = Pipeline(steps) \n",
    "\n",
    "parameters = {\"SVM__C\" : np.arange(1, 100, 1), \n",
    "              \"SVM__gamma\" : np.arange(0.01, 0.11, 0.01)} \n",
    "\n",
    "cv = GridSearchCV(pipeline, parameters, scoring = \"accuracy\") \n",
    "\n",
    "cv.fit(X_train, y_train) \n",
    "\n",
    "y_pred = cv.predict(X_test) \n",
    "\n",
    "print(f\"\"\"Score of the model is: {(cv.score(X_test, y_test)*100).round(1)}%.\"\"\")\n",
    "print(cv.best_estimator_)\n",
    "print(classification_report(y_test, y_pred))"
   ]
  },
  {
   "cell_type": "markdown",
   "metadata": {},
   "source": [
    "#### Predict CR_class"
   ]
  },
  {
   "cell_type": "code",
   "execution_count": 72,
   "metadata": {
    "ExecuteTime": {
     "end_time": "2021-04-06T14:59:20.453148Z",
     "start_time": "2021-04-06T14:58:41.932673Z"
    },
    "scrolled": true
   },
   "outputs": [
    {
     "data": {
      "application/javascript": [
       "\n",
       "        if (window._pyforest_update_imports_cell) { window._pyforest_update_imports_cell('import numpy as np\\nimport pandas as pd'); }\n",
       "    "
      ],
      "text/plain": [
       "<IPython.core.display.Javascript object>"
      ]
     },
     "metadata": {},
     "output_type": "display_data"
    },
    {
     "data": {
      "application/javascript": [
       "\n",
       "        if (window._pyforest_update_imports_cell) { window._pyforest_update_imports_cell('import numpy as np\\nimport pandas as pd'); }\n",
       "    "
      ],
      "text/plain": [
       "<IPython.core.display.Javascript object>"
      ]
     },
     "metadata": {},
     "output_type": "display_data"
    },
    {
     "name": "stdout",
     "output_type": "stream",
     "text": [
      "-> The Score of this model is: 89.8%.\n",
      "Pipeline(steps=[('scaler', StandardScaler()),\n",
      "                ('SVM', SVC(C=64, gamma=0.09999999999999999))])\n",
      "              precision    recall  f1-score   support\n",
      "\n",
      "           0       0.92      0.92      0.92        36\n",
      "           1       0.87      0.87      0.87        23\n",
      "\n",
      "    accuracy                           0.90        59\n",
      "   macro avg       0.89      0.89      0.89        59\n",
      "weighted avg       0.90      0.90      0.90        59\n",
      "\n"
     ]
    }
   ],
   "source": [
    "from sklearn.model_selection import GridSearchCV\n",
    "\n",
    "X = data_ad.drop(columns = [\"CR_class\", \"Website purchases\", \"CR\"])\n",
    "y = data_ad[\"CR_class\"]\n",
    "\n",
    "X_train, X_test, y_train, y_test = train_test_split(X, y, test_size = 0.3, \n",
    "                                                    random_state = 3) \n",
    "\n",
    "steps = [(\"scaler\", StandardScaler()), \n",
    "         (\"SVM\", SVC())]\n",
    "\n",
    "pipeline = Pipeline(steps) \n",
    "\n",
    "parameters = {\"SVM__C\" : np.arange(1, 85, 1), \n",
    "              \"SVM__gamma\" : np.arange(0.01, 0.11, 0.01)} \n",
    "\n",
    "cv_CR_class = GridSearchCV(pipeline, parameters, scoring = \"accuracy\") \n",
    "\n",
    "cv_CR_class.fit(X_train, y_train) \n",
    "\n",
    "y_pred = cv_CR_class.predict(X_test) \n",
    "\n",
    "print(f\"\"\"-> The Score of this model is: {(cv_CR_class.score(X_test, y_test) * 100).round(1)}%.\"\"\")\n",
    "print(cv_CR_class.best_estimator_)\n",
    "print(classification_report(y_test, y_pred))"
   ]
  },
  {
   "cell_type": "markdown",
   "metadata": {},
   "source": [
    "#### Make CR_class predictions: "
   ]
  },
  {
   "cell_type": "code",
   "execution_count": 73,
   "metadata": {
    "ExecuteTime": {
     "end_time": "2021-04-06T14:59:20.494675Z",
     "start_time": "2021-04-06T14:59:20.459223Z"
    },
    "scrolled": false
   },
   "outputs": [
    {
     "data": {
      "text/html": [
       "<div>\n",
       "<style scoped>\n",
       "    .dataframe tbody tr th:only-of-type {\n",
       "        vertical-align: middle;\n",
       "    }\n",
       "\n",
       "    .dataframe tbody tr th {\n",
       "        vertical-align: top;\n",
       "    }\n",
       "\n",
       "    .dataframe thead th {\n",
       "        text-align: right;\n",
       "    }\n",
       "</style>\n",
       "<table border=\"1\" class=\"dataframe\">\n",
       "  <thead>\n",
       "    <tr style=\"text-align: right;\">\n",
       "      <th></th>\n",
       "      <th>Impressions</th>\n",
       "      <th>Cost</th>\n",
       "      <th>Duration</th>\n",
       "      <th>Unique link clicks</th>\n",
       "      <th>Post shares</th>\n",
       "      <th>Post comments</th>\n",
       "      <th>Registration</th>\n",
       "      <th>Website purchases</th>\n",
       "      <th>CPC</th>\n",
       "      <th>CPM</th>\n",
       "      <th>CTR</th>\n",
       "      <th>CR</th>\n",
       "      <th>registration_CR</th>\n",
       "      <th>CPA</th>\n",
       "      <th>CTR_class</th>\n",
       "      <th>CR_class</th>\n",
       "    </tr>\n",
       "    <tr>\n",
       "      <th>Ad name</th>\n",
       "      <th></th>\n",
       "      <th></th>\n",
       "      <th></th>\n",
       "      <th></th>\n",
       "      <th></th>\n",
       "      <th></th>\n",
       "      <th></th>\n",
       "      <th></th>\n",
       "      <th></th>\n",
       "      <th></th>\n",
       "      <th></th>\n",
       "      <th></th>\n",
       "      <th></th>\n",
       "      <th></th>\n",
       "      <th></th>\n",
       "      <th></th>\n",
       "    </tr>\n",
       "  </thead>\n",
       "  <tbody>\n",
       "    <tr>\n",
       "      <th>on-hold-stills_single_w36-2020</th>\n",
       "      <td>257483.0</td>\n",
       "      <td>1482.57</td>\n",
       "      <td>8</td>\n",
       "      <td>659.0</td>\n",
       "      <td>0.0</td>\n",
       "      <td>8.0</td>\n",
       "      <td>76.0</td>\n",
       "      <td>14.0</td>\n",
       "      <td>2.25</td>\n",
       "      <td>5.76</td>\n",
       "      <td>0.00</td>\n",
       "      <td>0.02</td>\n",
       "      <td>0.12</td>\n",
       "      <td>105.90</td>\n",
       "      <td>1</td>\n",
       "      <td>1</td>\n",
       "    </tr>\n",
       "    <tr>\n",
       "      <th>give-a-lot--paying-too-much_video</th>\n",
       "      <td>222247.0</td>\n",
       "      <td>1555.06</td>\n",
       "      <td>56</td>\n",
       "      <td>499.0</td>\n",
       "      <td>5.0</td>\n",
       "      <td>17.0</td>\n",
       "      <td>39.0</td>\n",
       "      <td>5.0</td>\n",
       "      <td>3.12</td>\n",
       "      <td>7.00</td>\n",
       "      <td>0.00</td>\n",
       "      <td>0.01</td>\n",
       "      <td>0.08</td>\n",
       "      <td>311.01</td>\n",
       "      <td>0</td>\n",
       "      <td>1</td>\n",
       "    </tr>\n",
       "    <tr>\n",
       "      <th>selfie-profiles-stylised_carousel</th>\n",
       "      <td>1291548.0</td>\n",
       "      <td>12427.19</td>\n",
       "      <td>134</td>\n",
       "      <td>2581.0</td>\n",
       "      <td>14.0</td>\n",
       "      <td>44.0</td>\n",
       "      <td>379.0</td>\n",
       "      <td>56.0</td>\n",
       "      <td>4.81</td>\n",
       "      <td>9.62</td>\n",
       "      <td>0.00</td>\n",
       "      <td>0.02</td>\n",
       "      <td>0.15</td>\n",
       "      <td>221.91</td>\n",
       "      <td>0</td>\n",
       "      <td>1</td>\n",
       "    </tr>\n",
       "    <tr>\n",
       "      <th>give-a-lot-we-think-LI-is-shit-PID_static</th>\n",
       "      <td>12901.0</td>\n",
       "      <td>167.16</td>\n",
       "      <td>4</td>\n",
       "      <td>71.0</td>\n",
       "      <td>0.0</td>\n",
       "      <td>1.0</td>\n",
       "      <td>15.0</td>\n",
       "      <td>0.0</td>\n",
       "      <td>2.35</td>\n",
       "      <td>12.96</td>\n",
       "      <td>0.01</td>\n",
       "      <td>0.00</td>\n",
       "      <td>0.21</td>\n",
       "      <td>0.00</td>\n",
       "      <td>1</td>\n",
       "      <td>0</td>\n",
       "    </tr>\n",
       "    <tr>\n",
       "      <th>selfie-profiles-organic-outline-blue-bg-nicola_static</th>\n",
       "      <td>31752.0</td>\n",
       "      <td>281.74</td>\n",
       "      <td>9</td>\n",
       "      <td>68.0</td>\n",
       "      <td>1.0</td>\n",
       "      <td>1.0</td>\n",
       "      <td>19.0</td>\n",
       "      <td>3.0</td>\n",
       "      <td>4.14</td>\n",
       "      <td>8.87</td>\n",
       "      <td>0.00</td>\n",
       "      <td>0.04</td>\n",
       "      <td>0.28</td>\n",
       "      <td>93.91</td>\n",
       "      <td>0</td>\n",
       "      <td>1</td>\n",
       "    </tr>\n",
       "  </tbody>\n",
       "</table>\n",
       "</div>"
      ],
      "text/plain": [
       "                                                    Impressions      Cost  \\\n",
       "Ad name                                                                     \n",
       "on-hold-stills_single_w36-2020                         257483.0   1482.57   \n",
       "give-a-lot--paying-too-much_video                      222247.0   1555.06   \n",
       "selfie-profiles-stylised_carousel                     1291548.0  12427.19   \n",
       "give-a-lot-we-think-LI-is-shit-PID_static               12901.0    167.16   \n",
       "selfie-profiles-organic-outline-blue-bg-nicola_...      31752.0    281.74   \n",
       "\n",
       "                                                    Duration  \\\n",
       "Ad name                                                        \n",
       "on-hold-stills_single_w36-2020                             8   \n",
       "give-a-lot--paying-too-much_video                         56   \n",
       "selfie-profiles-stylised_carousel                        134   \n",
       "give-a-lot-we-think-LI-is-shit-PID_static                  4   \n",
       "selfie-profiles-organic-outline-blue-bg-nicola_...         9   \n",
       "\n",
       "                                                    Unique link clicks  \\\n",
       "Ad name                                                                  \n",
       "on-hold-stills_single_w36-2020                                   659.0   \n",
       "give-a-lot--paying-too-much_video                                499.0   \n",
       "selfie-profiles-stylised_carousel                               2581.0   \n",
       "give-a-lot-we-think-LI-is-shit-PID_static                         71.0   \n",
       "selfie-profiles-organic-outline-blue-bg-nicola_...                68.0   \n",
       "\n",
       "                                                    Post shares  \\\n",
       "Ad name                                                           \n",
       "on-hold-stills_single_w36-2020                              0.0   \n",
       "give-a-lot--paying-too-much_video                           5.0   \n",
       "selfie-profiles-stylised_carousel                          14.0   \n",
       "give-a-lot-we-think-LI-is-shit-PID_static                   0.0   \n",
       "selfie-profiles-organic-outline-blue-bg-nicola_...          1.0   \n",
       "\n",
       "                                                    Post comments  \\\n",
       "Ad name                                                             \n",
       "on-hold-stills_single_w36-2020                                8.0   \n",
       "give-a-lot--paying-too-much_video                            17.0   \n",
       "selfie-profiles-stylised_carousel                            44.0   \n",
       "give-a-lot-we-think-LI-is-shit-PID_static                     1.0   \n",
       "selfie-profiles-organic-outline-blue-bg-nicola_...            1.0   \n",
       "\n",
       "                                                    Registration  \\\n",
       "Ad name                                                            \n",
       "on-hold-stills_single_w36-2020                              76.0   \n",
       "give-a-lot--paying-too-much_video                           39.0   \n",
       "selfie-profiles-stylised_carousel                          379.0   \n",
       "give-a-lot-we-think-LI-is-shit-PID_static                   15.0   \n",
       "selfie-profiles-organic-outline-blue-bg-nicola_...          19.0   \n",
       "\n",
       "                                                    Website purchases   CPC  \\\n",
       "Ad name                                                                       \n",
       "on-hold-stills_single_w36-2020                                   14.0  2.25   \n",
       "give-a-lot--paying-too-much_video                                 5.0  3.12   \n",
       "selfie-profiles-stylised_carousel                                56.0  4.81   \n",
       "give-a-lot-we-think-LI-is-shit-PID_static                         0.0  2.35   \n",
       "selfie-profiles-organic-outline-blue-bg-nicola_...                3.0  4.14   \n",
       "\n",
       "                                                      CPM   CTR    CR  \\\n",
       "Ad name                                                                 \n",
       "on-hold-stills_single_w36-2020                       5.76  0.00  0.02   \n",
       "give-a-lot--paying-too-much_video                    7.00  0.00  0.01   \n",
       "selfie-profiles-stylised_carousel                    9.62  0.00  0.02   \n",
       "give-a-lot-we-think-LI-is-shit-PID_static           12.96  0.01  0.00   \n",
       "selfie-profiles-organic-outline-blue-bg-nicola_...   8.87  0.00  0.04   \n",
       "\n",
       "                                                    registration_CR     CPA  \\\n",
       "Ad name                                                                       \n",
       "on-hold-stills_single_w36-2020                                 0.12  105.90   \n",
       "give-a-lot--paying-too-much_video                              0.08  311.01   \n",
       "selfie-profiles-stylised_carousel                              0.15  221.91   \n",
       "give-a-lot-we-think-LI-is-shit-PID_static                      0.21    0.00   \n",
       "selfie-profiles-organic-outline-blue-bg-nicola_...             0.28   93.91   \n",
       "\n",
       "                                                   CTR_class CR_class  \n",
       "Ad name                                                                \n",
       "on-hold-stills_single_w36-2020                             1        1  \n",
       "give-a-lot--paying-too-much_video                          0        1  \n",
       "selfie-profiles-stylised_carousel                          0        1  \n",
       "give-a-lot-we-think-LI-is-shit-PID_static                  1        0  \n",
       "selfie-profiles-organic-outline-blue-bg-nicola_...         0        1  "
      ]
     },
     "metadata": {},
     "output_type": "display_data"
    },
    {
     "name": "stdout",
     "output_type": "stream",
     "text": [
      "['0' '1' '1' '1' '1']\n"
     ]
    }
   ],
   "source": [
    "test_ads = data_ad.loc[[\"on-hold-stills_single_w36-2020\", \"give-a-lot--paying-too-much_video\", \n",
    "                        \"selfie-profiles-stylised_carousel\", \"give-a-lot-we-think-LI-is-shit-PID_static\", \n",
    "                        \"selfie-profiles-organic-outline-blue-bg-nicola_static\"]]\n",
    "display(test_ads.round(2))\n",
    "print(cv_CR_class.predict(test_ads.drop(columns = [\"CR_class\", \"Website purchases\", \"CR\"])))"
   ]
  },
  {
   "cell_type": "code",
   "execution_count": 82,
   "metadata": {
    "ExecuteTime": {
     "end_time": "2021-04-06T15:10:42.391669Z",
     "start_time": "2021-04-06T15:10:42.306655Z"
    }
   },
   "outputs": [
    {
     "data": {
      "text/html": [
       "<div>\n",
       "<style scoped>\n",
       "    .dataframe tbody tr th:only-of-type {\n",
       "        vertical-align: middle;\n",
       "    }\n",
       "\n",
       "    .dataframe tbody tr th {\n",
       "        vertical-align: top;\n",
       "    }\n",
       "\n",
       "    .dataframe thead th {\n",
       "        text-align: right;\n",
       "    }\n",
       "</style>\n",
       "<table border=\"1\" class=\"dataframe\">\n",
       "  <thead>\n",
       "    <tr style=\"text-align: right;\">\n",
       "      <th></th>\n",
       "      <th>Impressions</th>\n",
       "      <th>Cost</th>\n",
       "      <th>Duration</th>\n",
       "      <th>Unique link clicks</th>\n",
       "      <th>Post shares</th>\n",
       "      <th>Post comments</th>\n",
       "      <th>Registration</th>\n",
       "      <th>Website purchases</th>\n",
       "      <th>CPC</th>\n",
       "      <th>CPM</th>\n",
       "      <th>CTR</th>\n",
       "      <th>CR</th>\n",
       "      <th>registration_CR</th>\n",
       "      <th>CPA</th>\n",
       "      <th>CTR_class</th>\n",
       "      <th>CR_class</th>\n",
       "    </tr>\n",
       "    <tr>\n",
       "      <th>Ad name</th>\n",
       "      <th></th>\n",
       "      <th></th>\n",
       "      <th></th>\n",
       "      <th></th>\n",
       "      <th></th>\n",
       "      <th></th>\n",
       "      <th></th>\n",
       "      <th></th>\n",
       "      <th></th>\n",
       "      <th></th>\n",
       "      <th></th>\n",
       "      <th></th>\n",
       "      <th></th>\n",
       "      <th></th>\n",
       "      <th></th>\n",
       "      <th></th>\n",
       "    </tr>\n",
       "  </thead>\n",
       "  <tbody>\n",
       "    <tr>\n",
       "      <th>li-in-under-5-mins-v2 _video_2020-w45</th>\n",
       "      <td>10472.0</td>\n",
       "      <td>108.02</td>\n",
       "      <td>5</td>\n",
       "      <td>32.0</td>\n",
       "      <td>0.0</td>\n",
       "      <td>0.0</td>\n",
       "      <td>3.0</td>\n",
       "      <td>0.0</td>\n",
       "      <td>3.375625</td>\n",
       "      <td>10.315126</td>\n",
       "      <td>0.003056</td>\n",
       "      <td>0.0</td>\n",
       "      <td>0.093750</td>\n",
       "      <td>0.0</td>\n",
       "      <td>1</td>\n",
       "      <td>0</td>\n",
       "    </tr>\n",
       "    <tr>\n",
       "      <th>give-a-lot-we-think-LI-is-shit-PID_static</th>\n",
       "      <td>12901.0</td>\n",
       "      <td>167.16</td>\n",
       "      <td>4</td>\n",
       "      <td>71.0</td>\n",
       "      <td>0.0</td>\n",
       "      <td>1.0</td>\n",
       "      <td>15.0</td>\n",
       "      <td>0.0</td>\n",
       "      <td>2.354366</td>\n",
       "      <td>12.957135</td>\n",
       "      <td>0.005503</td>\n",
       "      <td>0.0</td>\n",
       "      <td>0.211268</td>\n",
       "      <td>0.0</td>\n",
       "      <td>1</td>\n",
       "      <td>0</td>\n",
       "    </tr>\n",
       "  </tbody>\n",
       "</table>\n",
       "</div>"
      ],
      "text/plain": [
       "                                           Impressions    Cost  Duration  \\\n",
       "Ad name                                                                    \n",
       "li-in-under-5-mins-v2 _video_2020-w45          10472.0  108.02         5   \n",
       "give-a-lot-we-think-LI-is-shit-PID_static      12901.0  167.16         4   \n",
       "\n",
       "                                           Unique link clicks  Post shares  \\\n",
       "Ad name                                                                      \n",
       "li-in-under-5-mins-v2 _video_2020-w45                    32.0          0.0   \n",
       "give-a-lot-we-think-LI-is-shit-PID_static                71.0          0.0   \n",
       "\n",
       "                                           Post comments  Registration  \\\n",
       "Ad name                                                                  \n",
       "li-in-under-5-mins-v2 _video_2020-w45                0.0           3.0   \n",
       "give-a-lot-we-think-LI-is-shit-PID_static            1.0          15.0   \n",
       "\n",
       "                                           Website purchases       CPC  \\\n",
       "Ad name                                                                  \n",
       "li-in-under-5-mins-v2 _video_2020-w45                    0.0  3.375625   \n",
       "give-a-lot-we-think-LI-is-shit-PID_static                0.0  2.354366   \n",
       "\n",
       "                                                 CPM       CTR   CR  \\\n",
       "Ad name                                                               \n",
       "li-in-under-5-mins-v2 _video_2020-w45      10.315126  0.003056  0.0   \n",
       "give-a-lot-we-think-LI-is-shit-PID_static  12.957135  0.005503  0.0   \n",
       "\n",
       "                                           registration_CR  CPA CTR_class  \\\n",
       "Ad name                                                                     \n",
       "li-in-under-5-mins-v2 _video_2020-w45             0.093750  0.0         1   \n",
       "give-a-lot-we-think-LI-is-shit-PID_static         0.211268  0.0         1   \n",
       "\n",
       "                                          CR_class  \n",
       "Ad name                                             \n",
       "li-in-under-5-mins-v2 _video_2020-w45            0  \n",
       "give-a-lot-we-think-LI-is-shit-PID_static        0  "
      ]
     },
     "metadata": {},
     "output_type": "display_data"
    },
    {
     "data": {
      "text/html": [
       "<div>\n",
       "<style scoped>\n",
       "    .dataframe tbody tr th:only-of-type {\n",
       "        vertical-align: middle;\n",
       "    }\n",
       "\n",
       "    .dataframe tbody tr th {\n",
       "        vertical-align: top;\n",
       "    }\n",
       "\n",
       "    .dataframe thead th {\n",
       "        text-align: right;\n",
       "    }\n",
       "</style>\n",
       "<table border=\"1\" class=\"dataframe\">\n",
       "  <thead>\n",
       "    <tr style=\"text-align: right;\">\n",
       "      <th></th>\n",
       "      <th>Impressions</th>\n",
       "      <th>Cost</th>\n",
       "      <th>Duration</th>\n",
       "      <th>Unique link clicks</th>\n",
       "      <th>Post shares</th>\n",
       "      <th>Post comments</th>\n",
       "      <th>Registration</th>\n",
       "      <th>Website purchases</th>\n",
       "      <th>CPC</th>\n",
       "      <th>CPM</th>\n",
       "      <th>CTR</th>\n",
       "      <th>CR</th>\n",
       "      <th>registration_CR</th>\n",
       "      <th>CPA</th>\n",
       "      <th>CTR_class</th>\n",
       "      <th>CR_class</th>\n",
       "    </tr>\n",
       "    <tr>\n",
       "      <th>Ad name</th>\n",
       "      <th></th>\n",
       "      <th></th>\n",
       "      <th></th>\n",
       "      <th></th>\n",
       "      <th></th>\n",
       "      <th></th>\n",
       "      <th></th>\n",
       "      <th></th>\n",
       "      <th></th>\n",
       "      <th></th>\n",
       "      <th></th>\n",
       "      <th></th>\n",
       "      <th></th>\n",
       "      <th></th>\n",
       "      <th></th>\n",
       "      <th></th>\n",
       "    </tr>\n",
       "  </thead>\n",
       "  <tbody>\n",
       "    <tr>\n",
       "      <th>li-in-under-5-mins-v2 _video_2020-w45</th>\n",
       "      <td>104720.0</td>\n",
       "      <td>1080.2</td>\n",
       "      <td>50</td>\n",
       "      <td>320.0</td>\n",
       "      <td>0.0</td>\n",
       "      <td>0.0</td>\n",
       "      <td>30.0</td>\n",
       "      <td>0.0</td>\n",
       "      <td>33.756250</td>\n",
       "      <td>103.151261</td>\n",
       "      <td>0.030558</td>\n",
       "      <td>0.0</td>\n",
       "      <td>0.937500</td>\n",
       "      <td>0.0</td>\n",
       "      <td>1111111111</td>\n",
       "      <td>0000000000</td>\n",
       "    </tr>\n",
       "    <tr>\n",
       "      <th>give-a-lot-we-think-LI-is-shit-PID_static</th>\n",
       "      <td>129010.0</td>\n",
       "      <td>1671.6</td>\n",
       "      <td>40</td>\n",
       "      <td>710.0</td>\n",
       "      <td>0.0</td>\n",
       "      <td>10.0</td>\n",
       "      <td>150.0</td>\n",
       "      <td>0.0</td>\n",
       "      <td>23.543662</td>\n",
       "      <td>129.571351</td>\n",
       "      <td>0.055034</td>\n",
       "      <td>0.0</td>\n",
       "      <td>2.112676</td>\n",
       "      <td>0.0</td>\n",
       "      <td>1111111111</td>\n",
       "      <td>0000000000</td>\n",
       "    </tr>\n",
       "  </tbody>\n",
       "</table>\n",
       "</div>"
      ],
      "text/plain": [
       "                                           Impressions    Cost  Duration  \\\n",
       "Ad name                                                                    \n",
       "li-in-under-5-mins-v2 _video_2020-w45         104720.0  1080.2        50   \n",
       "give-a-lot-we-think-LI-is-shit-PID_static     129010.0  1671.6        40   \n",
       "\n",
       "                                           Unique link clicks  Post shares  \\\n",
       "Ad name                                                                      \n",
       "li-in-under-5-mins-v2 _video_2020-w45                   320.0          0.0   \n",
       "give-a-lot-we-think-LI-is-shit-PID_static               710.0          0.0   \n",
       "\n",
       "                                           Post comments  Registration  \\\n",
       "Ad name                                                                  \n",
       "li-in-under-5-mins-v2 _video_2020-w45                0.0          30.0   \n",
       "give-a-lot-we-think-LI-is-shit-PID_static           10.0         150.0   \n",
       "\n",
       "                                           Website purchases        CPC  \\\n",
       "Ad name                                                                   \n",
       "li-in-under-5-mins-v2 _video_2020-w45                    0.0  33.756250   \n",
       "give-a-lot-we-think-LI-is-shit-PID_static                0.0  23.543662   \n",
       "\n",
       "                                                  CPM       CTR   CR  \\\n",
       "Ad name                                                                \n",
       "li-in-under-5-mins-v2 _video_2020-w45      103.151261  0.030558  0.0   \n",
       "give-a-lot-we-think-LI-is-shit-PID_static  129.571351  0.055034  0.0   \n",
       "\n",
       "                                           registration_CR  CPA   CTR_class  \\\n",
       "Ad name                                                                       \n",
       "li-in-under-5-mins-v2 _video_2020-w45             0.937500  0.0  1111111111   \n",
       "give-a-lot-we-think-LI-is-shit-PID_static         2.112676  0.0  1111111111   \n",
       "\n",
       "                                             CR_class  \n",
       "Ad name                                                \n",
       "li-in-under-5-mins-v2 _video_2020-w45      0000000000  \n",
       "give-a-lot-we-think-LI-is-shit-PID_static  0000000000  "
      ]
     },
     "metadata": {},
     "output_type": "display_data"
    },
    {
     "name": "stdout",
     "output_type": "stream",
     "text": [
      "['0' '0']\n"
     ]
    }
   ],
   "source": [
    "# Scale a test_ad: #.drop(columns = [\"CR_class\", \"Website purchases\", \"CR\"])\n",
    "test_ad = data_ad.loc[[\"li-in-under-5-mins-v2 _video_2020-w45\", \n",
    "                       \"give-a-lot-we-think-LI-is-shit-PID_static\"]]\n",
    "test_ad_scaled = test_ad * 10\n",
    "\n",
    "display(test_ad)\n",
    "display(test_ad_scaled)\n",
    "\n",
    "print(cv_CR_class.predict(test_ad_scaled.drop(columns = [\"CR_class\", \"Website purchases\", \"CR\"])))"
   ]
  },
  {
   "cell_type": "code",
   "execution_count": 84,
   "metadata": {
    "ExecuteTime": {
     "end_time": "2021-04-06T15:20:07.802870Z",
     "start_time": "2021-04-06T15:20:07.792167Z"
    }
   },
   "outputs": [
    {
     "name": "stdout",
     "output_type": "stream",
     "text": [
      "['0']\n"
     ]
    }
   ],
   "source": [
    "# Create a fictive ad, based on the ad above. \n",
    "test_ad_1 = [[10472.0, \n",
    "              108.2, \n",
    "              50, \n",
    "              320.0, \n",
    "              0.0, \n",
    "              0.0, \n",
    "              50.0,  #registrations\n",
    "              33.756250, \n",
    "              103.151261, \n",
    "              0.030558, \n",
    "              0, \n",
    "              0.0, \n",
    "              1]]\n",
    "print(cv_CR_class.predict(test_ad_1))"
   ]
  },
  {
   "cell_type": "markdown",
   "metadata": {},
   "source": [
    "### Pipeline (incl KNN): "
   ]
  },
  {
   "cell_type": "code",
   "execution_count": 76,
   "metadata": {
    "ExecuteTime": {
     "end_time": "2021-04-06T14:59:32.615479Z",
     "start_time": "2021-04-06T14:59:32.072593Z"
    }
   },
   "outputs": [
    {
     "data": {
      "application/javascript": [
       "\n",
       "        if (window._pyforest_update_imports_cell) { window._pyforest_update_imports_cell('import numpy as np\\nimport pandas as pd'); }\n",
       "    "
      ],
      "text/plain": [
       "<IPython.core.display.Javascript object>"
      ]
     },
     "metadata": {},
     "output_type": "display_data"
    },
    {
     "name": "stdout",
     "output_type": "stream",
     "text": [
      "{'knn__n_neighbors': 6}\n",
      "-> Score of this model is: 69.5%.\n",
      "              precision    recall  f1-score   support\n",
      "\n",
      "           0       0.80      0.67      0.73        36\n",
      "           1       0.59      0.74      0.65        23\n",
      "\n",
      "    accuracy                           0.69        59\n",
      "   macro avg       0.69      0.70      0.69        59\n",
      "weighted avg       0.72      0.69      0.70        59\n",
      "\n"
     ]
    }
   ],
   "source": [
    "X = data_ad.drop(columns = [\"CTR_class\", \"Impressions\", \"Unique link clicks\"])\n",
    "y = data_ad[\"CTR_class\"] \n",
    " \n",
    "X_train, X_test, y_train, y_test = train_test_split(X, y, test_size = 0.3, \n",
    "                                                    random_state = 3) \n",
    "    \n",
    "steps = [(\"scaler\", StandardScaler()), \n",
    "         (\"knn\", KNeighborsClassifier())]\n",
    " \n",
    "pipeline = Pipeline(steps) \n",
    " \n",
    "parameters = {\"knn__n_neighbors\": np.arange(1, 10)}\n",
    " \n",
    "cv = GridSearchCV(pipeline, param_grid = parameters) \n",
    " \n",
    "cv.fit(X_train, y_train)\n",
    "\n",
    "y_pred = cv.predict(X_test)\n",
    "\n",
    "print(cv.best_params_)\n",
    "print(f\"\"\"-> Score of this model is: {(cv.score(X_test, y_test) * 100).round(1)}%.\"\"\")\n",
    "print(classification_report(y_test, y_pred))"
   ]
  },
  {
   "cell_type": "markdown",
   "metadata": {},
   "source": [
    "### RandomizedSearch, Pipeline Tuning: "
   ]
  },
  {
   "cell_type": "markdown",
   "metadata": {},
   "source": [
    "#### data_ad"
   ]
  },
  {
   "cell_type": "code",
   "execution_count": 77,
   "metadata": {
    "ExecuteTime": {
     "end_time": "2021-04-06T14:59:36.127964Z",
     "start_time": "2021-04-06T14:59:35.408663Z"
    }
   },
   "outputs": [
    {
     "name": "stdout",
     "output_type": "stream",
     "text": [
      "Pipeline(steps=[('preprocessing',\n",
      "                 Pipeline(steps=[('imputer',\n",
      "                                  SimpleImputer(strategy='most_frequent')),\n",
      "                                 ('scaler', MinMaxScaler())])),\n",
      "                ('model_svm', SVC(C=6.518996766649138, kernel='poly'))])\n",
      "nan\n"
     ]
    },
    {
     "name": "stderr",
     "output_type": "stream",
     "text": [
      "/Users/Lucas/.pyenv/versions/3.7.7/envs/lewagon/lib/python3.7/site-packages/sklearn/model_selection/_search.py:921: UserWarning: One or more of the test scores are non-finite: [nan nan nan nan nan nan nan nan nan nan]\n",
      "  category=UserWarning\n"
     ]
    }
   ],
   "source": [
    "X = data_ad.drop(columns = [\"Website purchases\", \"CR\", \"CR_class\"]) \n",
    "y = data_ad[\"CR_class\"] \n",
    "\n",
    "pre_pipe = Pipeline([('imputer', SimpleImputer()), \n",
    "                     ('scaler', MinMaxScaler())])\n",
    "\n",
    "final_pipe = Pipeline([('preprocessing', pre_pipe), \n",
    "                       ('model_svm', SVC())])\n",
    "\n",
    "param_distributions = {\"preprocessing__imputer__strategy\" : [\"mean\", \"median\", \n",
    "                                                             \"most_frequent\"], \n",
    "                       \"model_svm__kernel\" : [\"linear\", \"poly\", \"rbf\", \"sigmoid\"], \n",
    "                       \"model_svm__C\" : uniform(0.1, 10)}\n",
    "\n",
    "random_search = RandomizedSearchCV(final_pipe, param_distributions, \n",
    "                                   scoring = \"precision\", cv = 5, n_jobs = -1)\n",
    "\n",
    "random_search.fit(X, y)\n",
    "\n",
    "tuned_pipe = random_search.best_estimator_\n",
    "print(tuned_pipe)\n",
    "print(random_search.best_score_)"
   ]
  },
  {
   "cell_type": "code",
   "execution_count": 78,
   "metadata": {
    "ExecuteTime": {
     "end_time": "2021-04-06T14:59:36.864005Z",
     "start_time": "2021-04-06T14:59:36.669621Z"
    }
   },
   "outputs": [
    {
     "name": "stdout",
     "output_type": "stream",
     "text": [
      "The score is:  84.7\n"
     ]
    }
   ],
   "source": [
    "score = cross_val_score(tuned_pipe, X, y, cv = 10)\n",
    "\n",
    "print(\"The score is: \", round(score.mean(), 3) * 100)"
   ]
  },
  {
   "cell_type": "markdown",
   "metadata": {},
   "source": [
    "#### data_daily: "
   ]
  },
  {
   "cell_type": "code",
   "execution_count": 91,
   "metadata": {
    "ExecuteTime": {
     "end_time": "2021-04-06T17:20:20.068436Z",
     "start_time": "2021-04-06T17:19:55.748902Z"
    },
    "scrolled": true
   },
   "outputs": [
    {
     "name": "stderr",
     "output_type": "stream",
     "text": [
      "/Users/Lucas/.pyenv/versions/3.7.7/envs/lewagon/lib/python3.7/site-packages/sklearn/model_selection/_search.py:921: UserWarning: One or more of the test scores are non-finite: [nan nan nan nan nan nan nan nan nan nan]\n",
      "  category=UserWarning\n"
     ]
    },
    {
     "name": "stdout",
     "output_type": "stream",
     "text": [
      "Pipeline(steps=[('preprocessing',\n",
      "                 Pipeline(steps=[('imputer',\n",
      "                                  SimpleImputer(strategy='most_frequent')),\n",
      "                                 ('scaler', MinMaxScaler())])),\n",
      "                ('model_svm', SVC(C=5.0692691915388615, kernel='sigmoid'))])\n",
      "nan\n"
     ]
    }
   ],
   "source": [
    "from sklearn.pipeline import Pipeline\n",
    "from sklearn.impute import SimpleImputer\n",
    "from sklearn.svm import SVC\n",
    "from sklearn.model_selection import RandomizedSearchCV\n",
    "from scipy.stats import uniform\n",
    "\n",
    "#X = data_daily.drop(columns = [\"Website purchases\", \"CR\", \"CR_class\", \"Date\", \n",
    "#                               \"Ad set name\", \"Ad name\", \"Campaign name\"])\n",
    "X = data_daily[[\"Impressions\"]]\n",
    "y = data_daily[\"CR_class\"] \n",
    "\n",
    "pre_pipe = Pipeline([('imputer', SimpleImputer()), \n",
    "                     ('scaler', MinMaxScaler())]) \n",
    "\n",
    "final_pipe = Pipeline([('preprocessing', pre_pipe), \n",
    "                       ('model_svm', SVC())])\n",
    "\n",
    "param_distributions = {\"preprocessing__imputer__strategy\" : [\"mean\", \"median\", \n",
    "                                                             \"most_frequent\"], \n",
    "                       \"model_svm__kernel\" : [\"linear\", \"poly\", \"rbf\", \"sigmoid\"], \n",
    "                       \"model_svm__C\" : uniform(0.1, 10)}\n",
    "\n",
    "random_search_daily = RandomizedSearchCV(final_pipe, param_distributions, \n",
    "                                   scoring = \"precision\", cv = 5, n_jobs = -1)\n",
    "\n",
    "random_search_daily.fit(X, y)\n",
    "\n",
    "tuned_pipe_day = random_search_daily.best_estimator_\n",
    "print(tuned_pipe_day)\n",
    "print(random_search_daily.best_score_)"
   ]
  },
  {
   "cell_type": "code",
   "execution_count": 92,
   "metadata": {
    "ExecuteTime": {
     "end_time": "2021-04-06T17:20:23.851154Z",
     "start_time": "2021-04-06T17:20:20.072594Z"
    },
    "scrolled": true
   },
   "outputs": [
    {
     "name": "stdout",
     "output_type": "stream",
     "text": [
      "The score is:  80.10000000000001\n"
     ]
    }
   ],
   "source": [
    "score = cross_val_score(tuned_pipe_day, X, y, cv = 10)\n",
    "\n",
    "print(\"The score is: \", round(score.mean(), 3) * 100)"
   ]
  },
  {
   "cell_type": "code",
   "execution_count": 99,
   "metadata": {
    "ExecuteTime": {
     "end_time": "2021-04-06T17:29:39.646233Z",
     "start_time": "2021-04-06T17:29:38.931875Z"
    }
   },
   "outputs": [
    {
     "name": "stdout",
     "output_type": "stream",
     "text": [
      "['0' '0' '0' ... '0' '1' '1']\n",
      "['0' '0' '0' ... '0' '1' '1']\n"
     ]
    }
   ],
   "source": [
    "y_pred_daily = random_search_daily.predict(X)\n",
    "print(y_pred_daily)\n",
    "\n",
    "print(tuned_pipe_day.predict(X))"
   ]
  },
  {
   "cell_type": "code",
   "execution_count": null,
   "metadata": {},
   "outputs": [],
   "source": []
  }
 ],
 "metadata": {
  "kernelspec": {
   "display_name": "Python 3",
   "language": "python",
   "name": "python3"
  },
  "language_info": {
   "codemirror_mode": {
    "name": "ipython",
    "version": 3
   },
   "file_extension": ".py",
   "mimetype": "text/x-python",
   "name": "python",
   "nbconvert_exporter": "python",
   "pygments_lexer": "ipython3",
   "version": "3.7.7"
  },
  "toc": {
   "base_numbering": 1,
   "nav_menu": {},
   "number_sections": true,
   "sideBar": true,
   "skip_h1_title": false,
   "title_cell": "Table of Contents",
   "title_sidebar": "Contents",
   "toc_cell": true,
   "toc_position": {
    "height": "calc(100% - 180px)",
    "left": "10px",
    "top": "150px",
    "width": "254px"
   },
   "toc_section_display": true,
   "toc_window_display": true
  }
 },
 "nbformat": 4,
 "nbformat_minor": 4
}
