{
 "cells": [
  {
   "cell_type": "markdown",
   "metadata": {
    "toc": true
   },
   "source": [
    "<h1>Table of Contents<span class=\"tocSkip\"></span></h1>\n",
    "<div class=\"toc\"><ul class=\"toc-item\"></ul></div>"
   ]
  },
  {
   "cell_type": "code",
   "execution_count": 1,
   "metadata": {},
   "outputs": [],
   "source": [
    "import numpy as np\n",
    "import pandas as pd"
   ]
  },
  {
   "cell_type": "code",
   "execution_count": 3,
   "metadata": {},
   "outputs": [],
   "source": [
    "data = pd.read_csv(\"DH data sheet - Sheet1.csv\")"
   ]
  },
  {
   "cell_type": "code",
   "execution_count": 8,
   "metadata": {},
   "outputs": [
    {
     "data": {
      "text/html": [
       "<div>\n",
       "<style scoped>\n",
       "    .dataframe tbody tr th:only-of-type {\n",
       "        vertical-align: middle;\n",
       "    }\n",
       "\n",
       "    .dataframe tbody tr th {\n",
       "        vertical-align: top;\n",
       "    }\n",
       "\n",
       "    .dataframe thead th {\n",
       "        text-align: right;\n",
       "    }\n",
       "</style>\n",
       "<table border=\"1\" class=\"dataframe\">\n",
       "  <thead>\n",
       "    <tr style=\"text-align: right;\">\n",
       "      <th></th>\n",
       "      <th>Date</th>\n",
       "      <th>Ad set name</th>\n",
       "      <th>Ad name</th>\n",
       "      <th>Campaign name</th>\n",
       "      <th>Impressions</th>\n",
       "      <th>Cost</th>\n",
       "      <th>Website purchases</th>\n",
       "      <th>Cost per website purchase</th>\n",
       "      <th>CPC (cost per link click)</th>\n",
       "      <th>CTR (link click-through rate)</th>\n",
       "      <th>...</th>\n",
       "      <th>Unique purchases</th>\n",
       "      <th>Unique adds to cart</th>\n",
       "      <th>Website leads</th>\n",
       "      <th>Unique link clicks</th>\n",
       "      <th>Unique mobile app adds of payment info</th>\n",
       "      <th>Conversion rate ranking</th>\n",
       "      <th>Post shares</th>\n",
       "      <th>Return on ad spend (ROAS)</th>\n",
       "      <th>Unique completed registrations</th>\n",
       "      <th>Post comments</th>\n",
       "    </tr>\n",
       "  </thead>\n",
       "  <tbody>\n",
       "    <tr>\n",
       "      <th>0</th>\n",
       "      <td>2020-11-22</td>\n",
       "      <td>Post: \"Who's going to give Dale his next day a...</td>\n",
       "      <td>Post: \"Who's going to give Dale his next day a...</td>\n",
       "      <td>Post: \"Who's going to give Dale his next day a...</td>\n",
       "      <td>716</td>\n",
       "      <td>1.98</td>\n",
       "      <td>NaN</td>\n",
       "      <td>NaN</td>\n",
       "      <td>0.18</td>\n",
       "      <td>1.54</td>\n",
       "      <td>...</td>\n",
       "      <td>NaN</td>\n",
       "      <td>NaN</td>\n",
       "      <td>NaN</td>\n",
       "      <td>11.0</td>\n",
       "      <td>NaN</td>\n",
       "      <td>3</td>\n",
       "      <td>NaN</td>\n",
       "      <td>0.0</td>\n",
       "      <td>NaN</td>\n",
       "      <td>NaN</td>\n",
       "    </tr>\n",
       "    <tr>\n",
       "      <th>1</th>\n",
       "      <td>2020-11-22</td>\n",
       "      <td>Post: \"✨⚰️  Glittery coffins\"</td>\n",
       "      <td>Post: \"✨⚰️  Glittery coffins\"</td>\n",
       "      <td>Post: \"✨⚰️  Glittery coffins\"</td>\n",
       "      <td>398</td>\n",
       "      <td>2.10</td>\n",
       "      <td>NaN</td>\n",
       "      <td>NaN</td>\n",
       "      <td>1.05</td>\n",
       "      <td>0.50</td>\n",
       "      <td>...</td>\n",
       "      <td>NaN</td>\n",
       "      <td>NaN</td>\n",
       "      <td>NaN</td>\n",
       "      <td>2.0</td>\n",
       "      <td>NaN</td>\n",
       "      <td>0</td>\n",
       "      <td>1.0</td>\n",
       "      <td>0.0</td>\n",
       "      <td>NaN</td>\n",
       "      <td>1.0</td>\n",
       "    </tr>\n",
       "    <tr>\n",
       "      <th>2</th>\n",
       "      <td>2020-11-22</td>\n",
       "      <td>customers-ll-1pc_all-placements_insomnia-video...</td>\n",
       "      <td>insomnia_video</td>\n",
       "      <td>pollenary_0-incubator-creative_wc-registration_uk</td>\n",
       "      <td>11872</td>\n",
       "      <td>117.19</td>\n",
       "      <td>NaN</td>\n",
       "      <td>NaN</td>\n",
       "      <td>1.63</td>\n",
       "      <td>0.61</td>\n",
       "      <td>...</td>\n",
       "      <td>NaN</td>\n",
       "      <td>NaN</td>\n",
       "      <td>NaN</td>\n",
       "      <td>69.0</td>\n",
       "      <td>NaN</td>\n",
       "      <td>3</td>\n",
       "      <td>1.0</td>\n",
       "      <td>0.0</td>\n",
       "      <td>NaN</td>\n",
       "      <td>2.0</td>\n",
       "    </tr>\n",
       "  </tbody>\n",
       "</table>\n",
       "<p>3 rows × 22 columns</p>\n",
       "</div>"
      ],
      "text/plain": [
       "         Date                                        Ad set name  \\\n",
       "0  2020-11-22  Post: \"Who's going to give Dale his next day a...   \n",
       "1  2020-11-22                      Post: \"✨⚰️  Glittery coffins\"   \n",
       "2  2020-11-22  customers-ll-1pc_all-placements_insomnia-video...   \n",
       "\n",
       "                                             Ad name  \\\n",
       "0  Post: \"Who's going to give Dale his next day a...   \n",
       "1                      Post: \"✨⚰️  Glittery coffins\"   \n",
       "2                                     insomnia_video   \n",
       "\n",
       "                                       Campaign name  Impressions    Cost  \\\n",
       "0  Post: \"Who's going to give Dale his next day a...          716    1.98   \n",
       "1                      Post: \"✨⚰️  Glittery coffins\"          398    2.10   \n",
       "2  pollenary_0-incubator-creative_wc-registration_uk        11872  117.19   \n",
       "\n",
       "  Website purchases  Cost per website purchase  CPC (cost per link click)  \\\n",
       "0               NaN                        NaN                       0.18   \n",
       "1               NaN                        NaN                       1.05   \n",
       "2               NaN                        NaN                       1.63   \n",
       "\n",
       "   CTR (link click-through rate)  ...  Unique purchases  Unique adds to cart  \\\n",
       "0                           1.54  ...               NaN                  NaN   \n",
       "1                           0.50  ...               NaN                  NaN   \n",
       "2                           0.61  ...               NaN                  NaN   \n",
       "\n",
       "   Website leads  Unique link clicks  Unique mobile app adds of payment info  \\\n",
       "0            NaN                11.0                                     NaN   \n",
       "1            NaN                 2.0                                     NaN   \n",
       "2            NaN                69.0                                     NaN   \n",
       "\n",
       "   Conversion rate ranking  Post shares  Return on ad spend (ROAS)  \\\n",
       "0                        3          NaN                        0.0   \n",
       "1                        0          1.0                        0.0   \n",
       "2                        3          1.0                        0.0   \n",
       "\n",
       "   Unique completed registrations  Post comments  \n",
       "0                             NaN            NaN  \n",
       "1                             NaN            1.0  \n",
       "2                             NaN            2.0  \n",
       "\n",
       "[3 rows x 22 columns]"
      ]
     },
     "metadata": {},
     "output_type": "display_data"
    },
    {
     "data": {
      "text/plain": [
       "(8774, 22)"
      ]
     },
     "metadata": {},
     "output_type": "display_data"
    },
    {
     "data": {
      "text/plain": [
       "Index(['Date', 'Ad set name', 'Ad name', 'Campaign name', 'Impressions',\n",
       "       'Cost', 'Website purchases', 'Cost per website purchase',\n",
       "       'CPC (cost per link click)', 'CTR (link click-through rate)', 'Signup',\n",
       "       'Registration', 'Unique purchases', 'Unique adds to cart',\n",
       "       'Website leads', 'Unique link clicks',\n",
       "       'Unique mobile app adds of payment info', 'Conversion rate ranking',\n",
       "       'Post shares', 'Return on ad spend (ROAS)',\n",
       "       'Unique completed registrations', 'Post comments'],\n",
       "      dtype='object')"
      ]
     },
     "execution_count": 8,
     "metadata": {},
     "output_type": "execute_result"
    }
   ],
   "source": [
    "display(data.head(3))\n",
    "display(data.shape)\n",
    "data.columns"
   ]
  }
 ],
 "metadata": {
  "kernelspec": {
   "display_name": "Python 3",
   "language": "python",
   "name": "python3"
  },
  "language_info": {
   "codemirror_mode": {
    "name": "ipython",
    "version": 3
   },
   "file_extension": ".py",
   "mimetype": "text/x-python",
   "name": "python",
   "nbconvert_exporter": "python",
   "pygments_lexer": "ipython3",
   "version": "3.7.7"
  },
  "toc": {
   "base_numbering": 1,
   "nav_menu": {},
   "number_sections": true,
   "sideBar": true,
   "skip_h1_title": false,
   "title_cell": "Table of Contents",
   "title_sidebar": "Contents",
   "toc_cell": true,
   "toc_position": {},
   "toc_section_display": true,
   "toc_window_display": false
  }
 },
 "nbformat": 4,
 "nbformat_minor": 4
}
