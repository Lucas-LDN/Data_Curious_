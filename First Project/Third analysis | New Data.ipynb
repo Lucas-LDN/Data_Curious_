{
 "cells": [
  {
   "cell_type": "markdown",
   "metadata": {
    "toc": true
   },
   "source": [
    "<h1>Table of Contents<span class=\"tocSkip\"></span></h1>\n",
    "<div class=\"toc\"><ul class=\"toc-item\"><li><span><a href=\"#Data:\" data-toc-modified-id=\"Data:-1\"><span class=\"toc-item-num\">1&nbsp;&nbsp;</span>Data:</a></span><ul class=\"toc-item\"><li><span><a href=\"#Load-data:\" data-toc-modified-id=\"Load-data:-1.1\"><span class=\"toc-item-num\">1.1&nbsp;&nbsp;</span>Load data:</a></span></li><li><span><a href=\"#Group-Data-into-data_ad:\" data-toc-modified-id=\"Group-Data-into-data_ad:-1.2\"><span class=\"toc-item-num\">1.2&nbsp;&nbsp;</span>Group Data into data_ad:</a></span></li><li><span><a href=\"#Scale-Data\" data-toc-modified-id=\"Scale-Data-1.3\"><span class=\"toc-item-num\">1.3&nbsp;&nbsp;</span>Scale Data</a></span><ul class=\"toc-item\"><li><span><a href=\"#data-(into-data_scaled):\" data-toc-modified-id=\"data-(into-data_scaled):-1.3.1\"><span class=\"toc-item-num\">1.3.1&nbsp;&nbsp;</span>data (into data_scaled):</a></span></li><li><span><a href=\"#data_daily:\" data-toc-modified-id=\"data_daily:-1.3.2\"><span class=\"toc-item-num\">1.3.2&nbsp;&nbsp;</span>data_daily:</a></span></li><li><span><a href=\"#data_ad:\" data-toc-modified-id=\"data_ad:-1.3.3\"><span class=\"toc-item-num\">1.3.3&nbsp;&nbsp;</span>data_ad:</a></span></li></ul></li></ul></li><li><span><a href=\"#KMeans:\" data-toc-modified-id=\"KMeans:-2\"><span class=\"toc-item-num\">2&nbsp;&nbsp;</span>KMeans:</a></span><ul class=\"toc-item\"><li><span><a href=\"#KNN---KNeighborsRegressor\" data-toc-modified-id=\"KNN---KNeighborsRegressor-2.1\"><span class=\"toc-item-num\">2.1&nbsp;&nbsp;</span>KNN - KNeighborsRegressor</a></span><ul class=\"toc-item\"><li><span><a href=\"#data_ad:\" data-toc-modified-id=\"data_ad:-2.1.1\"><span class=\"toc-item-num\">2.1.1&nbsp;&nbsp;</span>data_ad:</a></span><ul class=\"toc-item\"><li><span><a href=\"#Baseline-KNN-Model-(Day-5,-Week-4)\" data-toc-modified-id=\"Baseline-KNN-Model-(Day-5,-Week-4)-2.1.1.1\"><span class=\"toc-item-num\">2.1.1.1&nbsp;&nbsp;</span>Baseline KNN Model (Day 5, Week 4)</a></span></li><li><span><a href=\"#GridSearchCV-(Day-5,-Week-4)\" data-toc-modified-id=\"GridSearchCV-(Day-5,-Week-4)-2.1.1.2\"><span class=\"toc-item-num\">2.1.1.2&nbsp;&nbsp;</span>GridSearchCV (Day 5, Week 4)</a></span></li><li><span><a href=\"#Multiple-Params-(Day-5,-Week-4):\" data-toc-modified-id=\"Multiple-Params-(Day-5,-Week-4):-2.1.1.3\"><span class=\"toc-item-num\">2.1.1.3&nbsp;&nbsp;</span>Multiple Params (Day 5, Week 4):</a></span></li><li><span><a href=\"#RandomizedSearchCV-(Day-5,-Week-4)\" data-toc-modified-id=\"RandomizedSearchCV-(Day-5,-Week-4)-2.1.1.4\"><span class=\"toc-item-num\">2.1.1.4&nbsp;&nbsp;</span>RandomizedSearchCV (Day 5, Week 4)</a></span></li><li><span><a href=\"#Take-the-best-model-and-generalise-(Day-5,-Week-4):\" data-toc-modified-id=\"Take-the-best-model-and-generalise-(Day-5,-Week-4):-2.1.1.5\"><span class=\"toc-item-num\">2.1.1.5&nbsp;&nbsp;</span>Take the best model and generalise (Day 5, Week 4):</a></span></li><li><span><a href=\"#cross_val_predict:\" data-toc-modified-id=\"cross_val_predict:-2.1.1.6\"><span class=\"toc-item-num\">2.1.1.6&nbsp;&nbsp;</span>cross_val_predict:</a></span></li></ul></li></ul></li><li><span><a href=\"#KMeans-Clustering\" data-toc-modified-id=\"KMeans-Clustering-2.2\"><span class=\"toc-item-num\">2.2&nbsp;&nbsp;</span>KMeans Clustering</a></span><ul class=\"toc-item\"><li><span><a href=\"#Elbow:\" data-toc-modified-id=\"Elbow:-2.2.1\"><span class=\"toc-item-num\">2.2.1&nbsp;&nbsp;</span>Elbow:</a></span></li><li><span><a href=\"#Pairplots:\" data-toc-modified-id=\"Pairplots:-2.2.2\"><span class=\"toc-item-num\">2.2.2&nbsp;&nbsp;</span>Pairplots:</a></span></li></ul></li></ul></li><li><span><a href=\"#Log-Reg:\" data-toc-modified-id=\"Log-Reg:-3\"><span class=\"toc-item-num\">3&nbsp;&nbsp;</span>Log Reg:</a></span><ul class=\"toc-item\"><li><span><a href=\"#data_ad:\" data-toc-modified-id=\"data_ad:-3.1\"><span class=\"toc-item-num\">3.1&nbsp;&nbsp;</span>data_ad:</a></span><ul class=\"toc-item\"><li><span><a href=\"#Predict-CTR_class:\" data-toc-modified-id=\"Predict-CTR_class:-3.1.1\"><span class=\"toc-item-num\">3.1.1&nbsp;&nbsp;</span>Predict CTR_class:</a></span></li><li><span><a href=\"#Predict-CR_Class:\" data-toc-modified-id=\"Predict-CR_Class:-3.1.2\"><span class=\"toc-item-num\">3.1.2&nbsp;&nbsp;</span>Predict CR_Class:</a></span></li></ul></li></ul></li><li><span><a href=\"#Lin-Reg\" data-toc-modified-id=\"Lin-Reg-4\"><span class=\"toc-item-num\">4&nbsp;&nbsp;</span>Lin Reg</a></span><ul class=\"toc-item\"><li><span><a href=\"#data_ad\" data-toc-modified-id=\"data_ad-4.1\"><span class=\"toc-item-num\">4.1&nbsp;&nbsp;</span>data_ad</a></span><ul class=\"toc-item\"><li><span><a href=\"#Predict-Unique-link-clicks:\" data-toc-modified-id=\"Predict-Unique-link-clicks:-4.1.1\"><span class=\"toc-item-num\">4.1.1&nbsp;&nbsp;</span>Predict Unique link clicks:</a></span><ul class=\"toc-item\"><li><span><a href=\"#Base-Model:\" data-toc-modified-id=\"Base-Model:-4.1.1.1\"><span class=\"toc-item-num\">4.1.1.1&nbsp;&nbsp;</span>Base Model:</a></span></li><li><span><a href=\"#Updated-model:\" data-toc-modified-id=\"Updated-model:-4.1.1.2\"><span class=\"toc-item-num\">4.1.1.2&nbsp;&nbsp;</span>Updated model:</a></span></li><li><span><a href=\"#cross_val_predict:\" data-toc-modified-id=\"cross_val_predict:-4.1.1.3\"><span class=\"toc-item-num\">4.1.1.3&nbsp;&nbsp;</span>cross_val_predict:</a></span></li></ul></li><li><span><a href=\"#Predict-Website-purchases:\" data-toc-modified-id=\"Predict-Website-purchases:-4.1.2\"><span class=\"toc-item-num\">4.1.2&nbsp;&nbsp;</span>Predict Website purchases:</a></span><ul class=\"toc-item\"><li><span><a href=\"#Base-model:\" data-toc-modified-id=\"Base-model:-4.1.2.1\"><span class=\"toc-item-num\">4.1.2.1&nbsp;&nbsp;</span>Base model:</a></span></li><li><span><a href=\"#Updated-model:\" data-toc-modified-id=\"Updated-model:-4.1.2.2\"><span class=\"toc-item-num\">4.1.2.2&nbsp;&nbsp;</span>Updated model:</a></span></li><li><span><a href=\"#cross_val_predict:\" data-toc-modified-id=\"cross_val_predict:-4.1.2.3\"><span class=\"toc-item-num\">4.1.2.3&nbsp;&nbsp;</span>cross_val_predict:</a></span></li><li><span><a href=\"#Predictions:\" data-toc-modified-id=\"Predictions:-4.1.2.4\"><span class=\"toc-item-num\">4.1.2.4&nbsp;&nbsp;</span>Predictions:</a></span></li></ul></li></ul></li></ul></li></ul></div>"
   ]
  },
  {
   "cell_type": "code",
   "execution_count": 1,
   "metadata": {
    "ExecuteTime": {
     "end_time": "2021-03-15T18:20:47.867186Z",
     "start_time": "2021-03-15T18:20:47.860208Z"
    }
   },
   "outputs": [],
   "source": [
    "import pyforest"
   ]
  },
  {
   "cell_type": "markdown",
   "metadata": {},
   "source": [
    "# Data:  "
   ]
  },
  {
   "cell_type": "markdown",
   "metadata": {
    "heading_collapsed": true
   },
   "source": [
    "## Load data: "
   ]
  },
  {
   "cell_type": "code",
   "execution_count": 2,
   "metadata": {
    "ExecuteTime": {
     "end_time": "2021-03-15T18:20:50.836959Z",
     "start_time": "2021-03-15T18:20:49.022245Z"
    },
    "hidden": true
   },
   "outputs": [
    {
     "data": {
      "application/javascript": [
       "\n",
       "        if (window._pyforest_update_imports_cell) { window._pyforest_update_imports_cell('import pandas as pd'); }\n",
       "    "
      ],
      "text/plain": [
       "<IPython.core.display.Javascript object>"
      ]
     },
     "metadata": {},
     "output_type": "display_data"
    },
    {
     "data": {
      "text/html": [
       "<div>\n",
       "<style scoped>\n",
       "    .dataframe tbody tr th:only-of-type {\n",
       "        vertical-align: middle;\n",
       "    }\n",
       "\n",
       "    .dataframe tbody tr th {\n",
       "        vertical-align: top;\n",
       "    }\n",
       "\n",
       "    .dataframe thead th {\n",
       "        text-align: right;\n",
       "    }\n",
       "</style>\n",
       "<table border=\"1\" class=\"dataframe\">\n",
       "  <thead>\n",
       "    <tr style=\"text-align: right;\">\n",
       "      <th></th>\n",
       "      <th>Date</th>\n",
       "      <th>Ad set name</th>\n",
       "      <th>Ad name</th>\n",
       "      <th>Campaign name</th>\n",
       "      <th>Impressions</th>\n",
       "      <th>Cost</th>\n",
       "      <th>Website purchases</th>\n",
       "      <th>Cost per website purchase</th>\n",
       "      <th>CPC (cost per link click)</th>\n",
       "      <th>CTR (link click-through rate)</th>\n",
       "      <th>...</th>\n",
       "      <th>Unique adds to cart</th>\n",
       "      <th>Website leads</th>\n",
       "      <th>Unique link clicks</th>\n",
       "      <th>Unique mobile app adds of payment info</th>\n",
       "      <th>Conversion rate ranking</th>\n",
       "      <th>Post shares</th>\n",
       "      <th>Return on ad spend (ROAS)</th>\n",
       "      <th>Unique completed registrations</th>\n",
       "      <th>Post comments</th>\n",
       "      <th>Impressions_2</th>\n",
       "    </tr>\n",
       "  </thead>\n",
       "  <tbody>\n",
       "    <tr>\n",
       "      <th>0</th>\n",
       "      <td>2020-08-01</td>\n",
       "      <td>Post: \"\"Here lies DeadHappy. It was a bit of a...</td>\n",
       "      <td>Post: \"\"Here lies DeadHappy. It was a bit of a...</td>\n",
       "      <td>Post: \"\"Here lies DeadHappy. It was a bit of a...</td>\n",
       "      <td>350.0</td>\n",
       "      <td>3.18</td>\n",
       "      <td>NaN</td>\n",
       "      <td>NaN</td>\n",
       "      <td>NaN</td>\n",
       "      <td>0.00</td>\n",
       "      <td>...</td>\n",
       "      <td>NaN</td>\n",
       "      <td>NaN</td>\n",
       "      <td>NaN</td>\n",
       "      <td>NaN</td>\n",
       "      <td>0.0</td>\n",
       "      <td>NaN</td>\n",
       "      <td>0.0</td>\n",
       "      <td>NaN</td>\n",
       "      <td>6.0</td>\n",
       "      <td>350.0</td>\n",
       "    </tr>\n",
       "    <tr>\n",
       "      <th>1</th>\n",
       "      <td>2020-08-01</td>\n",
       "      <td>customers-ll-1pc_all-placements</td>\n",
       "      <td>bread-4:5_video</td>\n",
       "      <td>pollenary_1-cold_wc-registration_uk-ll-1pc-25-44</td>\n",
       "      <td>16008.0</td>\n",
       "      <td>143.22</td>\n",
       "      <td>NaN</td>\n",
       "      <td>NaN</td>\n",
       "      <td>2.2</td>\n",
       "      <td>0.41</td>\n",
       "      <td>...</td>\n",
       "      <td>NaN</td>\n",
       "      <td>NaN</td>\n",
       "      <td>64.0</td>\n",
       "      <td>NaN</td>\n",
       "      <td>0.0</td>\n",
       "      <td>1.0</td>\n",
       "      <td>0.0</td>\n",
       "      <td>NaN</td>\n",
       "      <td>3.0</td>\n",
       "      <td>16008.0</td>\n",
       "    </tr>\n",
       "  </tbody>\n",
       "</table>\n",
       "<p>2 rows × 23 columns</p>\n",
       "</div>"
      ],
      "text/plain": [
       "         Date                                        Ad set name  \\\n",
       "0  2020-08-01  Post: \"\"Here lies DeadHappy. It was a bit of a...   \n",
       "1  2020-08-01                    customers-ll-1pc_all-placements   \n",
       "\n",
       "                                             Ad name  \\\n",
       "0  Post: \"\"Here lies DeadHappy. It was a bit of a...   \n",
       "1                                    bread-4:5_video   \n",
       "\n",
       "                                       Campaign name  Impressions    Cost  \\\n",
       "0  Post: \"\"Here lies DeadHappy. It was a bit of a...        350.0    3.18   \n",
       "1   pollenary_1-cold_wc-registration_uk-ll-1pc-25-44      16008.0  143.22   \n",
       "\n",
       "   Website purchases  Cost per website purchase  CPC (cost per link click)  \\\n",
       "0                NaN                        NaN                        NaN   \n",
       "1                NaN                        NaN                        2.2   \n",
       "\n",
       "   CTR (link click-through rate)  ...  Unique adds to cart  Website leads  \\\n",
       "0                           0.00  ...                  NaN            NaN   \n",
       "1                           0.41  ...                  NaN            NaN   \n",
       "\n",
       "   Unique link clicks  Unique mobile app adds of payment info  \\\n",
       "0                 NaN                                     NaN   \n",
       "1                64.0                                     NaN   \n",
       "\n",
       "   Conversion rate ranking  Post shares  Return on ad spend (ROAS)  \\\n",
       "0                      0.0          NaN                        0.0   \n",
       "1                      0.0          1.0                        0.0   \n",
       "\n",
       "   Unique completed registrations  Post comments  Impressions_2  \n",
       "0                             NaN            6.0          350.0  \n",
       "1                             NaN            3.0        16008.0  \n",
       "\n",
       "[2 rows x 23 columns]"
      ]
     },
     "metadata": {},
     "output_type": "display_data"
    },
    {
     "data": {
      "text/html": [
       "<div>\n",
       "<style scoped>\n",
       "    .dataframe tbody tr th:only-of-type {\n",
       "        vertical-align: middle;\n",
       "    }\n",
       "\n",
       "    .dataframe tbody tr th {\n",
       "        vertical-align: top;\n",
       "    }\n",
       "\n",
       "    .dataframe thead th {\n",
       "        text-align: right;\n",
       "    }\n",
       "</style>\n",
       "<table border=\"1\" class=\"dataframe\">\n",
       "  <thead>\n",
       "    <tr style=\"text-align: right;\">\n",
       "      <th></th>\n",
       "      <th>Impressions</th>\n",
       "      <th>Cost</th>\n",
       "      <th>Website purchases</th>\n",
       "      <th>Cost per website purchase</th>\n",
       "      <th>CPC (cost per link click)</th>\n",
       "      <th>CTR (link click-through rate)</th>\n",
       "      <th>Signup</th>\n",
       "      <th>Registration</th>\n",
       "      <th>Unique purchases</th>\n",
       "      <th>Unique adds to cart</th>\n",
       "      <th>Website leads</th>\n",
       "      <th>Unique link clicks</th>\n",
       "      <th>Unique mobile app adds of payment info</th>\n",
       "      <th>Conversion rate ranking</th>\n",
       "      <th>Post shares</th>\n",
       "      <th>Return on ad spend (ROAS)</th>\n",
       "      <th>Unique completed registrations</th>\n",
       "      <th>Post comments</th>\n",
       "      <th>Impressions_2</th>\n",
       "    </tr>\n",
       "  </thead>\n",
       "  <tbody>\n",
       "    <tr>\n",
       "      <th>count</th>\n",
       "      <td>8128.0</td>\n",
       "      <td>8128.0</td>\n",
       "      <td>1343.0</td>\n",
       "      <td>1343.0</td>\n",
       "      <td>6894.0</td>\n",
       "      <td>8128.0</td>\n",
       "      <td>125.0</td>\n",
       "      <td>3430.0</td>\n",
       "      <td>0.0</td>\n",
       "      <td>0.0</td>\n",
       "      <td>6.0</td>\n",
       "      <td>6894.0</td>\n",
       "      <td>0.0</td>\n",
       "      <td>8128.0</td>\n",
       "      <td>1184.0</td>\n",
       "      <td>8110.0</td>\n",
       "      <td>0.0</td>\n",
       "      <td>1902.0</td>\n",
       "      <td>8128.0</td>\n",
       "    </tr>\n",
       "    <tr>\n",
       "      <th>mean</th>\n",
       "      <td>8701.7</td>\n",
       "      <td>67.1</td>\n",
       "      <td>1.8</td>\n",
       "      <td>125.5</td>\n",
       "      <td>3.4</td>\n",
       "      <td>0.4</td>\n",
       "      <td>1.3</td>\n",
       "      <td>4.7</td>\n",
       "      <td>NaN</td>\n",
       "      <td>NaN</td>\n",
       "      <td>1.0</td>\n",
       "      <td>30.2</td>\n",
       "      <td>NaN</td>\n",
       "      <td>0.2</td>\n",
       "      <td>7.0</td>\n",
       "      <td>5.7</td>\n",
       "      <td>NaN</td>\n",
       "      <td>2.5</td>\n",
       "      <td>8701.7</td>\n",
       "    </tr>\n",
       "    <tr>\n",
       "      <th>std</th>\n",
       "      <td>20255.4</td>\n",
       "      <td>150.4</td>\n",
       "      <td>1.4</td>\n",
       "      <td>137.9</td>\n",
       "      <td>2.9</td>\n",
       "      <td>0.5</td>\n",
       "      <td>0.5</td>\n",
       "      <td>7.0</td>\n",
       "      <td>NaN</td>\n",
       "      <td>NaN</td>\n",
       "      <td>0.0</td>\n",
       "      <td>68.3</td>\n",
       "      <td>NaN</td>\n",
       "      <td>0.8</td>\n",
       "      <td>17.3</td>\n",
       "      <td>33.7</td>\n",
       "      <td>NaN</td>\n",
       "      <td>4.0</td>\n",
       "      <td>20255.4</td>\n",
       "    </tr>\n",
       "    <tr>\n",
       "      <th>min</th>\n",
       "      <td>1.0</td>\n",
       "      <td>0.0</td>\n",
       "      <td>1.0</td>\n",
       "      <td>1.8</td>\n",
       "      <td>0.0</td>\n",
       "      <td>0.0</td>\n",
       "      <td>1.0</td>\n",
       "      <td>1.0</td>\n",
       "      <td>NaN</td>\n",
       "      <td>NaN</td>\n",
       "      <td>1.0</td>\n",
       "      <td>1.0</td>\n",
       "      <td>NaN</td>\n",
       "      <td>0.0</td>\n",
       "      <td>1.0</td>\n",
       "      <td>0.0</td>\n",
       "      <td>NaN</td>\n",
       "      <td>1.0</td>\n",
       "      <td>1.0</td>\n",
       "    </tr>\n",
       "    <tr>\n",
       "      <th>25%</th>\n",
       "      <td>565.0</td>\n",
       "      <td>5.0</td>\n",
       "      <td>1.0</td>\n",
       "      <td>32.2</td>\n",
       "      <td>1.7</td>\n",
       "      <td>0.2</td>\n",
       "      <td>1.0</td>\n",
       "      <td>1.0</td>\n",
       "      <td>NaN</td>\n",
       "      <td>NaN</td>\n",
       "      <td>1.0</td>\n",
       "      <td>3.0</td>\n",
       "      <td>NaN</td>\n",
       "      <td>0.0</td>\n",
       "      <td>1.0</td>\n",
       "      <td>0.0</td>\n",
       "      <td>NaN</td>\n",
       "      <td>1.0</td>\n",
       "      <td>565.0</td>\n",
       "    </tr>\n",
       "    <tr>\n",
       "      <th>50%</th>\n",
       "      <td>1776.5</td>\n",
       "      <td>17.0</td>\n",
       "      <td>1.0</td>\n",
       "      <td>82.7</td>\n",
       "      <td>2.8</td>\n",
       "      <td>0.3</td>\n",
       "      <td>1.0</td>\n",
       "      <td>2.0</td>\n",
       "      <td>NaN</td>\n",
       "      <td>NaN</td>\n",
       "      <td>1.0</td>\n",
       "      <td>9.0</td>\n",
       "      <td>NaN</td>\n",
       "      <td>0.0</td>\n",
       "      <td>1.0</td>\n",
       "      <td>0.0</td>\n",
       "      <td>NaN</td>\n",
       "      <td>1.0</td>\n",
       "      <td>1776.5</td>\n",
       "    </tr>\n",
       "    <tr>\n",
       "      <th>75%</th>\n",
       "      <td>7760.0</td>\n",
       "      <td>59.9</td>\n",
       "      <td>2.0</td>\n",
       "      <td>172.5</td>\n",
       "      <td>4.2</td>\n",
       "      <td>0.5</td>\n",
       "      <td>1.0</td>\n",
       "      <td>5.0</td>\n",
       "      <td>NaN</td>\n",
       "      <td>NaN</td>\n",
       "      <td>1.0</td>\n",
       "      <td>26.0</td>\n",
       "      <td>NaN</td>\n",
       "      <td>0.0</td>\n",
       "      <td>4.0</td>\n",
       "      <td>0.0</td>\n",
       "      <td>NaN</td>\n",
       "      <td>2.0</td>\n",
       "      <td>7760.0</td>\n",
       "    </tr>\n",
       "    <tr>\n",
       "      <th>max</th>\n",
       "      <td>317885.0</td>\n",
       "      <td>2050.7</td>\n",
       "      <td>13.0</td>\n",
       "      <td>1092.2</td>\n",
       "      <td>38.8</td>\n",
       "      <td>12.5</td>\n",
       "      <td>4.0</td>\n",
       "      <td>63.0</td>\n",
       "      <td>NaN</td>\n",
       "      <td>NaN</td>\n",
       "      <td>1.0</td>\n",
       "      <td>1364.0</td>\n",
       "      <td>NaN</td>\n",
       "      <td>10.0</td>\n",
       "      <td>260.0</td>\n",
       "      <td>1143.4</td>\n",
       "      <td>NaN</td>\n",
       "      <td>84.0</td>\n",
       "      <td>317885.0</td>\n",
       "    </tr>\n",
       "  </tbody>\n",
       "</table>\n",
       "</div>"
      ],
      "text/plain": [
       "       Impressions    Cost  Website purchases  Cost per website purchase  \\\n",
       "count       8128.0  8128.0             1343.0                     1343.0   \n",
       "mean        8701.7    67.1                1.8                      125.5   \n",
       "std        20255.4   150.4                1.4                      137.9   \n",
       "min            1.0     0.0                1.0                        1.8   \n",
       "25%          565.0     5.0                1.0                       32.2   \n",
       "50%         1776.5    17.0                1.0                       82.7   \n",
       "75%         7760.0    59.9                2.0                      172.5   \n",
       "max       317885.0  2050.7               13.0                     1092.2   \n",
       "\n",
       "       CPC (cost per link click)  CTR (link click-through rate)  Signup  \\\n",
       "count                     6894.0                         8128.0   125.0   \n",
       "mean                         3.4                            0.4     1.3   \n",
       "std                          2.9                            0.5     0.5   \n",
       "min                          0.0                            0.0     1.0   \n",
       "25%                          1.7                            0.2     1.0   \n",
       "50%                          2.8                            0.3     1.0   \n",
       "75%                          4.2                            0.5     1.0   \n",
       "max                         38.8                           12.5     4.0   \n",
       "\n",
       "       Registration  Unique purchases  Unique adds to cart  Website leads  \\\n",
       "count        3430.0               0.0                  0.0            6.0   \n",
       "mean            4.7               NaN                  NaN            1.0   \n",
       "std             7.0               NaN                  NaN            0.0   \n",
       "min             1.0               NaN                  NaN            1.0   \n",
       "25%             1.0               NaN                  NaN            1.0   \n",
       "50%             2.0               NaN                  NaN            1.0   \n",
       "75%             5.0               NaN                  NaN            1.0   \n",
       "max            63.0               NaN                  NaN            1.0   \n",
       "\n",
       "       Unique link clicks  Unique mobile app adds of payment info  \\\n",
       "count              6894.0                                     0.0   \n",
       "mean                 30.2                                     NaN   \n",
       "std                  68.3                                     NaN   \n",
       "min                   1.0                                     NaN   \n",
       "25%                   3.0                                     NaN   \n",
       "50%                   9.0                                     NaN   \n",
       "75%                  26.0                                     NaN   \n",
       "max                1364.0                                     NaN   \n",
       "\n",
       "       Conversion rate ranking  Post shares  Return on ad spend (ROAS)  \\\n",
       "count                   8128.0       1184.0                     8110.0   \n",
       "mean                       0.2          7.0                        5.7   \n",
       "std                        0.8         17.3                       33.7   \n",
       "min                        0.0          1.0                        0.0   \n",
       "25%                        0.0          1.0                        0.0   \n",
       "50%                        0.0          1.0                        0.0   \n",
       "75%                        0.0          4.0                        0.0   \n",
       "max                       10.0        260.0                     1143.4   \n",
       "\n",
       "       Unique completed registrations  Post comments  Impressions_2  \n",
       "count                             0.0         1902.0         8128.0  \n",
       "mean                              NaN            2.5         8701.7  \n",
       "std                               NaN            4.0        20255.4  \n",
       "min                               NaN            1.0            1.0  \n",
       "25%                               NaN            1.0          565.0  \n",
       "50%                               NaN            1.0         1776.5  \n",
       "75%                               NaN            2.0         7760.0  \n",
       "max                               NaN           84.0       317885.0  "
      ]
     },
     "metadata": {},
     "output_type": "display_data"
    },
    {
     "name": "stdout",
     "output_type": "stream",
     "text": [
      "\n",
      "Variable:                                  Type:\n",
      "Date                                       object\n",
      "Ad set name                                object\n",
      "Ad name                                    object\n",
      "Campaign name                              object\n",
      "Impressions                               float64\n",
      "Cost                                      float64\n",
      "Website purchases                         float64\n",
      "Cost per website purchase                 float64\n",
      "CPC (cost per link click)                 float64\n",
      "CTR (link click-through rate)             float64\n",
      "Signup                                    float64\n",
      "Registration                              float64\n",
      "Unique purchases                          float64\n",
      "Unique adds to cart                       float64\n",
      "Website leads                             float64\n",
      "Unique link clicks                        float64\n",
      "Unique mobile app adds of payment info    float64\n",
      "Conversion rate ranking                   float64\n",
      "Post shares                               float64\n",
      "Return on ad spend (ROAS)                 float64\n",
      "Unique completed registrations            float64\n",
      "Post comments                             float64\n",
      "Impressions_2                             float64\n",
      "dtype: object\n"
     ]
    }
   ],
   "source": [
    "data = pd.read_csv(\"DH data sheet - Sheet1 (2).csv\")\n",
    "\n",
    "# Add a second column of Impressions, so we can count how many days is was Live.\n",
    "data[\"Impressions_2\"] = data.Impressions\n",
    "\n",
    "#Remove commas from Cost and make it a float: \n",
    "data[\"Cost\"] = data.Cost.replace('[^\\d.]', '', regex = True)                     \\\n",
    "                        .astype(float)\n",
    "\n",
    "display(data.head(2))\n",
    "\n",
    "display(data.describe().round(1))\n",
    "\n",
    "print(f\"\"\"\\nVariable:                                  Type:\\n{data.dtypes}\"\"\")"
   ]
  },
  {
   "cell_type": "markdown",
   "metadata": {
    "heading_collapsed": true
   },
   "source": [
    "##  Group Data into data_ad: "
   ]
  },
  {
   "cell_type": "code",
   "execution_count": 3,
   "metadata": {
    "ExecuteTime": {
     "end_time": "2021-03-15T18:20:51.135034Z",
     "start_time": "2021-03-15T18:20:50.842765Z"
    },
    "hidden": true
   },
   "outputs": [
    {
     "data": {
      "application/javascript": [
       "\n",
       "        if (window._pyforest_update_imports_cell) { window._pyforest_update_imports_cell('import numpy as np\\nimport pandas as pd'); }\n",
       "    "
      ],
      "text/plain": [
       "<IPython.core.display.Javascript object>"
      ]
     },
     "metadata": {},
     "output_type": "display_data"
    },
    {
     "data": {
      "application/javascript": [
       "\n",
       "        if (window._pyforest_update_imports_cell) { window._pyforest_update_imports_cell('import numpy as np\\nimport pandas as pd'); }\n",
       "    "
      ],
      "text/plain": [
       "<IPython.core.display.Javascript object>"
      ]
     },
     "metadata": {},
     "output_type": "display_data"
    },
    {
     "data": {
      "application/javascript": [
       "\n",
       "        if (window._pyforest_update_imports_cell) { window._pyforest_update_imports_cell('import numpy as np\\nimport pandas as pd'); }\n",
       "    "
      ],
      "text/plain": [
       "<IPython.core.display.Javascript object>"
      ]
     },
     "metadata": {},
     "output_type": "display_data"
    },
    {
     "data": {
      "application/javascript": [
       "\n",
       "        if (window._pyforest_update_imports_cell) { window._pyforest_update_imports_cell('import numpy as np\\nimport pandas as pd'); }\n",
       "    "
      ],
      "text/plain": [
       "<IPython.core.display.Javascript object>"
      ]
     },
     "metadata": {},
     "output_type": "display_data"
    },
    {
     "name": "stdout",
     "output_type": "stream",
     "text": [
      "Maximum value in CR is: 0.18\n"
     ]
    },
    {
     "data": {
      "text/html": [
       "<div>\n",
       "<style scoped>\n",
       "    .dataframe tbody tr th:only-of-type {\n",
       "        vertical-align: middle;\n",
       "    }\n",
       "\n",
       "    .dataframe tbody tr th {\n",
       "        vertical-align: top;\n",
       "    }\n",
       "\n",
       "    .dataframe thead th {\n",
       "        text-align: right;\n",
       "    }\n",
       "</style>\n",
       "<table border=\"1\" class=\"dataframe\">\n",
       "  <thead>\n",
       "    <tr style=\"text-align: right;\">\n",
       "      <th></th>\n",
       "      <th>Impressions</th>\n",
       "      <th>Cost</th>\n",
       "      <th>Duration</th>\n",
       "      <th>Unique link clicks</th>\n",
       "      <th>Post shares</th>\n",
       "      <th>Post comments</th>\n",
       "      <th>Registration</th>\n",
       "      <th>Website purchases</th>\n",
       "      <th>CPC</th>\n",
       "      <th>CPM</th>\n",
       "      <th>CTR</th>\n",
       "      <th>CR</th>\n",
       "      <th>CPA</th>\n",
       "      <th>CTR_class</th>\n",
       "      <th>CR_class</th>\n",
       "    </tr>\n",
       "    <tr>\n",
       "      <th>Ad name</th>\n",
       "      <th></th>\n",
       "      <th></th>\n",
       "      <th></th>\n",
       "      <th></th>\n",
       "      <th></th>\n",
       "      <th></th>\n",
       "      <th></th>\n",
       "      <th></th>\n",
       "      <th></th>\n",
       "      <th></th>\n",
       "      <th></th>\n",
       "      <th></th>\n",
       "      <th></th>\n",
       "      <th></th>\n",
       "      <th></th>\n",
       "    </tr>\n",
       "  </thead>\n",
       "  <tbody>\n",
       "    <tr>\n",
       "      <th>5k-deathwish_single_w41-2020</th>\n",
       "      <td>58014.0</td>\n",
       "      <td>775.29</td>\n",
       "      <td>9</td>\n",
       "      <td>173.0</td>\n",
       "      <td>1.0</td>\n",
       "      <td>2.0</td>\n",
       "      <td>8.0</td>\n",
       "      <td>2.0</td>\n",
       "      <td>4.481445</td>\n",
       "      <td>13.363843</td>\n",
       "      <td>0.002982</td>\n",
       "      <td>0.011561</td>\n",
       "      <td>387.645</td>\n",
       "      <td>1</td>\n",
       "      <td>1</td>\n",
       "    </tr>\n",
       "    <tr>\n",
       "      <th>Instagram post: Be more Mick!\\n🚀We’re growing at...</th>\n",
       "      <td>6272.0</td>\n",
       "      <td>20.00</td>\n",
       "      <td>5</td>\n",
       "      <td>94.0</td>\n",
       "      <td>1.0</td>\n",
       "      <td>0.0</td>\n",
       "      <td>0.0</td>\n",
       "      <td>0.0</td>\n",
       "      <td>0.212766</td>\n",
       "      <td>3.188776</td>\n",
       "      <td>0.014987</td>\n",
       "      <td>0.000000</td>\n",
       "      <td>0.000</td>\n",
       "      <td>1</td>\n",
       "      <td>0</td>\n",
       "    </tr>\n",
       "    <tr>\n",
       "      <th>Post: \"\"Here lies DeadHappy. It was a bit of a sore...\"</th>\n",
       "      <td>646.0</td>\n",
       "      <td>4.64</td>\n",
       "      <td>2</td>\n",
       "      <td>0.0</td>\n",
       "      <td>0.0</td>\n",
       "      <td>12.0</td>\n",
       "      <td>0.0</td>\n",
       "      <td>0.0</td>\n",
       "      <td>0.000000</td>\n",
       "      <td>7.182663</td>\n",
       "      <td>0.000000</td>\n",
       "      <td>0.000000</td>\n",
       "      <td>0.000</td>\n",
       "      <td>0</td>\n",
       "      <td>0</td>\n",
       "    </tr>\n",
       "  </tbody>\n",
       "</table>\n",
       "</div>"
      ],
      "text/plain": [
       "                                                    Impressions    Cost  \\\n",
       "Ad name                                                                   \n",
       "5k-deathwish_single_w41-2020                            58014.0  775.29   \n",
       "Instagram post: Be more Mick!\\n🚀We’re growing a...       6272.0   20.00   \n",
       "Post: \"\"Here lies DeadHappy. It was a bit of a ...        646.0    4.64   \n",
       "\n",
       "                                                    Duration  \\\n",
       "Ad name                                                        \n",
       "5k-deathwish_single_w41-2020                               9   \n",
       "Instagram post: Be more Mick!\\n🚀We’re growing a...         5   \n",
       "Post: \"\"Here lies DeadHappy. It was a bit of a ...         2   \n",
       "\n",
       "                                                    Unique link clicks  \\\n",
       "Ad name                                                                  \n",
       "5k-deathwish_single_w41-2020                                     173.0   \n",
       "Instagram post: Be more Mick!\\n🚀We’re growing a...                94.0   \n",
       "Post: \"\"Here lies DeadHappy. It was a bit of a ...                 0.0   \n",
       "\n",
       "                                                    Post shares  \\\n",
       "Ad name                                                           \n",
       "5k-deathwish_single_w41-2020                                1.0   \n",
       "Instagram post: Be more Mick!\\n🚀We’re growing a...          1.0   \n",
       "Post: \"\"Here lies DeadHappy. It was a bit of a ...          0.0   \n",
       "\n",
       "                                                    Post comments  \\\n",
       "Ad name                                                             \n",
       "5k-deathwish_single_w41-2020                                  2.0   \n",
       "Instagram post: Be more Mick!\\n🚀We’re growing a...            0.0   \n",
       "Post: \"\"Here lies DeadHappy. It was a bit of a ...           12.0   \n",
       "\n",
       "                                                    Registration  \\\n",
       "Ad name                                                            \n",
       "5k-deathwish_single_w41-2020                                 8.0   \n",
       "Instagram post: Be more Mick!\\n🚀We’re growing a...           0.0   \n",
       "Post: \"\"Here lies DeadHappy. It was a bit of a ...           0.0   \n",
       "\n",
       "                                                    Website purchases  \\\n",
       "Ad name                                                                 \n",
       "5k-deathwish_single_w41-2020                                      2.0   \n",
       "Instagram post: Be more Mick!\\n🚀We’re growing a...                0.0   \n",
       "Post: \"\"Here lies DeadHappy. It was a bit of a ...                0.0   \n",
       "\n",
       "                                                         CPC        CPM  \\\n",
       "Ad name                                                                   \n",
       "5k-deathwish_single_w41-2020                        4.481445  13.363843   \n",
       "Instagram post: Be more Mick!\\n🚀We’re growing a...  0.212766   3.188776   \n",
       "Post: \"\"Here lies DeadHappy. It was a bit of a ...  0.000000   7.182663   \n",
       "\n",
       "                                                         CTR        CR  \\\n",
       "Ad name                                                                  \n",
       "5k-deathwish_single_w41-2020                        0.002982  0.011561   \n",
       "Instagram post: Be more Mick!\\n🚀We’re growing a...  0.014987  0.000000   \n",
       "Post: \"\"Here lies DeadHappy. It was a bit of a ...  0.000000  0.000000   \n",
       "\n",
       "                                                        CPA CTR_class CR_class  \n",
       "Ad name                                                                         \n",
       "5k-deathwish_single_w41-2020                        387.645         1        1  \n",
       "Instagram post: Be more Mick!\\n🚀We’re growing a...    0.000         1        0  \n",
       "Post: \"\"Here lies DeadHappy. It was a bit of a ...    0.000         0        0  "
      ]
     },
     "metadata": {},
     "output_type": "display_data"
    },
    {
     "data": {
      "text/html": [
       "<div>\n",
       "<style scoped>\n",
       "    .dataframe tbody tr th:only-of-type {\n",
       "        vertical-align: middle;\n",
       "    }\n",
       "\n",
       "    .dataframe tbody tr th {\n",
       "        vertical-align: top;\n",
       "    }\n",
       "\n",
       "    .dataframe thead th {\n",
       "        text-align: right;\n",
       "    }\n",
       "</style>\n",
       "<table border=\"1\" class=\"dataframe\">\n",
       "  <thead>\n",
       "    <tr style=\"text-align: right;\">\n",
       "      <th></th>\n",
       "      <th>Impressions</th>\n",
       "      <th>Cost</th>\n",
       "      <th>Duration</th>\n",
       "      <th>Unique link clicks</th>\n",
       "      <th>Post shares</th>\n",
       "      <th>Post comments</th>\n",
       "      <th>Registration</th>\n",
       "      <th>Website purchases</th>\n",
       "      <th>CPC</th>\n",
       "      <th>CPM</th>\n",
       "      <th>CTR</th>\n",
       "      <th>CR</th>\n",
       "      <th>CPA</th>\n",
       "    </tr>\n",
       "  </thead>\n",
       "  <tbody>\n",
       "    <tr>\n",
       "      <th>count</th>\n",
       "      <td>196.00</td>\n",
       "      <td>196.00</td>\n",
       "      <td>196.00</td>\n",
       "      <td>196.00</td>\n",
       "      <td>196.00</td>\n",
       "      <td>196.00</td>\n",
       "      <td>196.00</td>\n",
       "      <td>196.00</td>\n",
       "      <td>196.00</td>\n",
       "      <td>196.00</td>\n",
       "      <td>196.00</td>\n",
       "      <td>196.00</td>\n",
       "      <td>196.00</td>\n",
       "    </tr>\n",
       "    <tr>\n",
       "      <th>mean</th>\n",
       "      <td>360852.45</td>\n",
       "      <td>2780.99</td>\n",
       "      <td>41.47</td>\n",
       "      <td>1063.18</td>\n",
       "      <td>42.36</td>\n",
       "      <td>23.91</td>\n",
       "      <td>81.95</td>\n",
       "      <td>12.09</td>\n",
       "      <td>3.80</td>\n",
       "      <td>7.29</td>\n",
       "      <td>0.00</td>\n",
       "      <td>0.01</td>\n",
       "      <td>142.86</td>\n",
       "    </tr>\n",
       "    <tr>\n",
       "      <th>std</th>\n",
       "      <td>1262854.31</td>\n",
       "      <td>9271.47</td>\n",
       "      <td>88.50</td>\n",
       "      <td>3800.01</td>\n",
       "      <td>202.95</td>\n",
       "      <td>86.71</td>\n",
       "      <td>278.96</td>\n",
       "      <td>40.59</td>\n",
       "      <td>9.74</td>\n",
       "      <td>3.90</td>\n",
       "      <td>0.00</td>\n",
       "      <td>0.02</td>\n",
       "      <td>237.63</td>\n",
       "    </tr>\n",
       "    <tr>\n",
       "      <th>min</th>\n",
       "      <td>0.00</td>\n",
       "      <td>0.00</td>\n",
       "      <td>0.00</td>\n",
       "      <td>0.00</td>\n",
       "      <td>0.00</td>\n",
       "      <td>0.00</td>\n",
       "      <td>0.00</td>\n",
       "      <td>0.00</td>\n",
       "      <td>0.00</td>\n",
       "      <td>0.00</td>\n",
       "      <td>0.00</td>\n",
       "      <td>0.00</td>\n",
       "      <td>0.00</td>\n",
       "    </tr>\n",
       "    <tr>\n",
       "      <th>25%</th>\n",
       "      <td>3889.50</td>\n",
       "      <td>16.00</td>\n",
       "      <td>4.00</td>\n",
       "      <td>7.00</td>\n",
       "      <td>0.00</td>\n",
       "      <td>0.00</td>\n",
       "      <td>0.00</td>\n",
       "      <td>0.00</td>\n",
       "      <td>0.76</td>\n",
       "      <td>4.57</td>\n",
       "      <td>0.00</td>\n",
       "      <td>0.00</td>\n",
       "      <td>0.00</td>\n",
       "    </tr>\n",
       "    <tr>\n",
       "      <th>50%</th>\n",
       "      <td>28193.00</td>\n",
       "      <td>173.36</td>\n",
       "      <td>8.00</td>\n",
       "      <td>69.50</td>\n",
       "      <td>2.00</td>\n",
       "      <td>2.50</td>\n",
       "      <td>4.00</td>\n",
       "      <td>0.00</td>\n",
       "      <td>2.47</td>\n",
       "      <td>7.07</td>\n",
       "      <td>0.00</td>\n",
       "      <td>0.00</td>\n",
       "      <td>0.00</td>\n",
       "    </tr>\n",
       "    <tr>\n",
       "      <th>75%</th>\n",
       "      <td>155253.75</td>\n",
       "      <td>1441.22</td>\n",
       "      <td>16.25</td>\n",
       "      <td>558.50</td>\n",
       "      <td>14.25</td>\n",
       "      <td>13.25</td>\n",
       "      <td>46.50</td>\n",
       "      <td>6.25</td>\n",
       "      <td>4.08</td>\n",
       "      <td>9.52</td>\n",
       "      <td>0.00</td>\n",
       "      <td>0.01</td>\n",
       "      <td>228.01</td>\n",
       "    </tr>\n",
       "    <tr>\n",
       "      <th>max</th>\n",
       "      <td>14744629.00</td>\n",
       "      <td>103903.94</td>\n",
       "      <td>474.00</td>\n",
       "      <td>39839.00</td>\n",
       "      <td>2463.00</td>\n",
       "      <td>988.00</td>\n",
       "      <td>3073.00</td>\n",
       "      <td>456.00</td>\n",
       "      <td>119.00</td>\n",
       "      <td>24.37</td>\n",
       "      <td>0.04</td>\n",
       "      <td>0.18</td>\n",
       "      <td>2032.77</td>\n",
       "    </tr>\n",
       "  </tbody>\n",
       "</table>\n",
       "</div>"
      ],
      "text/plain": [
       "       Impressions       Cost  Duration  Unique link clicks  Post shares  \\\n",
       "count       196.00     196.00    196.00              196.00       196.00   \n",
       "mean     360852.45    2780.99     41.47             1063.18        42.36   \n",
       "std     1262854.31    9271.47     88.50             3800.01       202.95   \n",
       "min           0.00       0.00      0.00                0.00         0.00   \n",
       "25%        3889.50      16.00      4.00                7.00         0.00   \n",
       "50%       28193.00     173.36      8.00               69.50         2.00   \n",
       "75%      155253.75    1441.22     16.25              558.50        14.25   \n",
       "max    14744629.00  103903.94    474.00            39839.00      2463.00   \n",
       "\n",
       "       Post comments  Registration  Website purchases     CPC     CPM     CTR  \\\n",
       "count         196.00        196.00             196.00  196.00  196.00  196.00   \n",
       "mean           23.91         81.95              12.09    3.80    7.29    0.00   \n",
       "std            86.71        278.96              40.59    9.74    3.90    0.00   \n",
       "min             0.00          0.00               0.00    0.00    0.00    0.00   \n",
       "25%             0.00          0.00               0.00    0.76    4.57    0.00   \n",
       "50%             2.50          4.00               0.00    2.47    7.07    0.00   \n",
       "75%            13.25         46.50               6.25    4.08    9.52    0.00   \n",
       "max           988.00       3073.00             456.00  119.00   24.37    0.04   \n",
       "\n",
       "           CR      CPA  \n",
       "count  196.00   196.00  \n",
       "mean     0.01   142.86  \n",
       "std      0.02   237.63  \n",
       "min      0.00     0.00  \n",
       "25%      0.00     0.00  \n",
       "50%      0.00     0.00  \n",
       "75%      0.01   228.01  \n",
       "max      0.18  2032.77  "
      ]
     },
     "metadata": {},
     "output_type": "display_data"
    },
    {
     "name": "stdout",
     "output_type": "stream",
     "text": [
      "\n",
      "Variable:             Type:\n",
      "Impressions           float64\n",
      "Cost                  float64\n",
      "Duration                int64\n",
      "Unique link clicks    float64\n",
      "Post shares           float64\n",
      "Post comments         float64\n",
      "Registration          float64\n",
      "Website purchases     float64\n",
      "CPC                   float64\n",
      "CPM                   float64\n",
      "CTR                   float64\n",
      "CR                    float64\n",
      "CPA                   float64\n",
      "CTR_class              object\n",
      "CR_class               object\n",
      "dtype: object\n",
      "\n",
      "Variable:             Empty values:\n",
      "Impressions           0\n",
      "Cost                  0\n",
      "Duration              0\n",
      "Unique link clicks    0\n",
      "Post shares           0\n",
      "Post comments         0\n",
      "Registration          0\n",
      "Website purchases     0\n",
      "CPC                   0\n",
      "CPM                   0\n",
      "CTR                   0\n",
      "CR                    0\n",
      "CPA                   0\n",
      "CTR_class             0\n",
      "CR_class              0\n",
      "dtype: int64\n",
      "0    98\n",
      "1    98\n",
      "Name: CTR_class, dtype: int64\n",
      "0    102\n",
      "1     94\n",
      "Name: CR_class, dtype: int64\n"
     ]
    }
   ],
   "source": [
    "data_ad = data.groupby([\"Ad name\"])                                           \\\n",
    "              .agg({\"Impressions\" :  \"sum\", \n",
    "                    \"Cost\" : \"sum\", \n",
    "                    \"Impressions_2\" : \"count\", \n",
    "                    \"Unique link clicks\" : \"sum\", \n",
    "                    \"Post shares\" : \"sum\", \n",
    "                    \"Post comments\" : \"sum\", \n",
    "                    \"Registration\" : \"sum\", \n",
    "                    \"Website purchases\" : \"sum\"})                                          \\\n",
    "              .rename(columns = {\"Impressions_2\" : \"Duration\"})\n",
    " \n",
    "# Add CPC: \n",
    "data_ad[\"CPC\"] = data_ad[\"Cost\"] / data_ad[\"Unique link clicks\"]\n",
    "\n",
    "# Add CPM: \n",
    "data_ad[\"CPM\"] = data_ad[\"Cost\"] / data_ad.Impressions * 1000\n",
    "    \n",
    "# Add CTR:\n",
    "data_ad[\"CTR\"] = data_ad[\"Unique link clicks\"] / data_ad.Impressions \n",
    " \n",
    "# Add CR: \n",
    "data_ad[\"CR\"] = data_ad[\"Website purchases\"] / data_ad[\"Unique link clicks\"]   \n",
    "\n",
    "# Add CPA: \n",
    "data_ad[\"CPA\"] = data_ad[\"Cost\"] / data_ad[\"Website purchases\"]\n",
    " \n",
    "# Remove NaN values: \n",
    "data_ad = data_ad.replace(to_replace = np.nan, value = 0) \n",
    " \n",
    "# Add a CTR class to data_ad -> Above median average? If yes, it's a 1. If not, it's a 0: \n",
    "data_ad[\"CTR_class\"] = pd.cut(data_ad.CTR, \n",
    "                              bins = [data_ad.CTR.min() - 1, \n",
    "                                      data_ad.CTR.median(), \n",
    "                                      data_ad.CTR.max() + 1 ], \n",
    "                              labels = [\"0\", \"1\"])\n",
    "     \n",
    "# Add a CR class to data_ad -> Above median average? If yes, it's a 1. If not, it's a 0: \n",
    "data_ad[\"CR_class\"] = pd.cut(data_ad.CR, \n",
    "                              bins = [data_ad.CR.min() - 1, \n",
    "                                      data_ad.CR.median(), \n",
    "                                      data_ad.CR.max() + 1], \n",
    "                              labels = [\"0\", \"1\"])\n",
    " \n",
    "# Remove inf values: \n",
    "data_ad = data_ad.replace(np.inf, 0) \n",
    "print(\"Maximum value in CR is:\", data_ad.CR.max().round(2))\n",
    "\n",
    "\n",
    "display(data_ad.head(3))\n",
    "display(data_ad.describe().round(2)) \n",
    "print(f\"\"\"\\nVariable:             Type:\n",
    "{data_ad.dtypes}\"\"\")\n",
    "print(f\"\\nVariable:             Empty values:\\n{data_ad.isnull().sum()}\") \n",
    "print(data_ad.CTR_class.value_counts())\n",
    "print(data_ad.CR_class.value_counts())"
   ]
  },
  {
   "cell_type": "markdown",
   "metadata": {},
   "source": [
    "## Scale Data"
   ]
  },
  {
   "cell_type": "markdown",
   "metadata": {
    "heading_collapsed": true
   },
   "source": [
    "### data (into data_scaled):"
   ]
  },
  {
   "cell_type": "code",
   "execution_count": 4,
   "metadata": {
    "ExecuteTime": {
     "end_time": "2021-03-15T18:20:54.551836Z",
     "start_time": "2021-03-15T18:20:54.499759Z"
    },
    "hidden": true
   },
   "outputs": [
    {
     "data": {
      "application/javascript": [
       "\n",
       "        if (window._pyforest_update_imports_cell) { window._pyforest_update_imports_cell('import numpy as np\\nimport pandas as pd'); }\n",
       "    "
      ],
      "text/plain": [
       "<IPython.core.display.Javascript object>"
      ]
     },
     "metadata": {},
     "output_type": "display_data"
    },
    {
     "data": {
      "text/html": [
       "<div>\n",
       "<style scoped>\n",
       "    .dataframe tbody tr th:only-of-type {\n",
       "        vertical-align: middle;\n",
       "    }\n",
       "\n",
       "    .dataframe tbody tr th {\n",
       "        vertical-align: top;\n",
       "    }\n",
       "\n",
       "    .dataframe thead th {\n",
       "        text-align: right;\n",
       "    }\n",
       "</style>\n",
       "<table border=\"1\" class=\"dataframe\">\n",
       "  <thead>\n",
       "    <tr style=\"text-align: right;\">\n",
       "      <th></th>\n",
       "      <th>Date</th>\n",
       "      <th>Ad set name</th>\n",
       "      <th>Ad name</th>\n",
       "      <th>Campaign name</th>\n",
       "      <th>Impressions</th>\n",
       "      <th>Cost</th>\n",
       "      <th>Website purchases</th>\n",
       "      <th>Cost per website purchase</th>\n",
       "      <th>CPC (cost per link click)</th>\n",
       "      <th>CTR (link click-through rate)</th>\n",
       "      <th>...</th>\n",
       "      <th>Unique adds to cart</th>\n",
       "      <th>Website leads</th>\n",
       "      <th>Unique link clicks</th>\n",
       "      <th>Unique mobile app adds of payment info</th>\n",
       "      <th>Conversion rate ranking</th>\n",
       "      <th>Post shares</th>\n",
       "      <th>Return on ad spend (ROAS)</th>\n",
       "      <th>Unique completed registrations</th>\n",
       "      <th>Post comments</th>\n",
       "      <th>Impressions_2</th>\n",
       "    </tr>\n",
       "  </thead>\n",
       "  <tbody>\n",
       "    <tr>\n",
       "      <th>0</th>\n",
       "      <td>2020-08-01</td>\n",
       "      <td>Post: \"\"Here lies DeadHappy. It was a bit of a...</td>\n",
       "      <td>Post: \"\"Here lies DeadHappy. It was a bit of a...</td>\n",
       "      <td>Post: \"\"Here lies DeadHappy. It was a bit of a...</td>\n",
       "      <td>350.0</td>\n",
       "      <td>3.18</td>\n",
       "      <td>0.0</td>\n",
       "      <td>0.0</td>\n",
       "      <td>0.0</td>\n",
       "      <td>0.0</td>\n",
       "      <td>...</td>\n",
       "      <td>0.0</td>\n",
       "      <td>0.0</td>\n",
       "      <td>0.0</td>\n",
       "      <td>0.0</td>\n",
       "      <td>0.0</td>\n",
       "      <td>0.0</td>\n",
       "      <td>0.0</td>\n",
       "      <td>0.0</td>\n",
       "      <td>6.0</td>\n",
       "      <td>350.0</td>\n",
       "    </tr>\n",
       "  </tbody>\n",
       "</table>\n",
       "<p>1 rows × 23 columns</p>\n",
       "</div>"
      ],
      "text/plain": [
       "         Date                                        Ad set name  \\\n",
       "0  2020-08-01  Post: \"\"Here lies DeadHappy. It was a bit of a...   \n",
       "\n",
       "                                             Ad name  \\\n",
       "0  Post: \"\"Here lies DeadHappy. It was a bit of a...   \n",
       "\n",
       "                                       Campaign name  Impressions  Cost  \\\n",
       "0  Post: \"\"Here lies DeadHappy. It was a bit of a...        350.0  3.18   \n",
       "\n",
       "   Website purchases  Cost per website purchase  CPC (cost per link click)  \\\n",
       "0                0.0                        0.0                        0.0   \n",
       "\n",
       "   CTR (link click-through rate)  ...  Unique adds to cart  Website leads  \\\n",
       "0                            0.0  ...                  0.0            0.0   \n",
       "\n",
       "   Unique link clicks  Unique mobile app adds of payment info  \\\n",
       "0                 0.0                                     0.0   \n",
       "\n",
       "   Conversion rate ranking  Post shares  Return on ad spend (ROAS)  \\\n",
       "0                      0.0          0.0                        0.0   \n",
       "\n",
       "   Unique completed registrations  Post comments  Impressions_2  \n",
       "0                             0.0            6.0          350.0  \n",
       "\n",
       "[1 rows x 23 columns]"
      ]
     },
     "execution_count": 4,
     "metadata": {},
     "output_type": "execute_result"
    }
   ],
   "source": [
    "data_scaled = data.copy()                                        \\\n",
    "                  .replace(to_replace = np.nan, value = 0)\n",
    " \n",
    "data_scaled.head(1)"
   ]
  },
  {
   "cell_type": "code",
   "execution_count": 5,
   "metadata": {
    "ExecuteTime": {
     "end_time": "2021-03-15T18:20:56.890466Z",
     "start_time": "2021-03-15T18:20:55.244842Z"
    },
    "hidden": true
   },
   "outputs": [
    {
     "data": {
      "text/html": [
       "<div>\n",
       "<style scoped>\n",
       "    .dataframe tbody tr th:only-of-type {\n",
       "        vertical-align: middle;\n",
       "    }\n",
       "\n",
       "    .dataframe tbody tr th {\n",
       "        vertical-align: top;\n",
       "    }\n",
       "\n",
       "    .dataframe thead th {\n",
       "        text-align: right;\n",
       "    }\n",
       "</style>\n",
       "<table border=\"1\" class=\"dataframe\">\n",
       "  <thead>\n",
       "    <tr style=\"text-align: right;\">\n",
       "      <th></th>\n",
       "      <th>Date</th>\n",
       "      <th>Ad set name</th>\n",
       "      <th>Ad name</th>\n",
       "      <th>Campaign name</th>\n",
       "      <th>Impressions</th>\n",
       "      <th>Cost</th>\n",
       "      <th>Website purchases</th>\n",
       "      <th>Cost per website purchase</th>\n",
       "      <th>CPC (cost per link click)</th>\n",
       "      <th>CTR (link click-through rate)</th>\n",
       "      <th>...</th>\n",
       "      <th>Unique adds to cart</th>\n",
       "      <th>Website leads</th>\n",
       "      <th>Unique link clicks</th>\n",
       "      <th>Unique mobile app adds of payment info</th>\n",
       "      <th>Conversion rate ranking</th>\n",
       "      <th>Post shares</th>\n",
       "      <th>Return on ad spend (ROAS)</th>\n",
       "      <th>Unique completed registrations</th>\n",
       "      <th>Post comments</th>\n",
       "      <th>Impressions_2</th>\n",
       "    </tr>\n",
       "  </thead>\n",
       "  <tbody>\n",
       "    <tr>\n",
       "      <th>0</th>\n",
       "      <td>2020-08-01</td>\n",
       "      <td>Post: \"\"Here lies DeadHappy. It was a bit of a...</td>\n",
       "      <td>Post: \"\"Here lies DeadHappy. It was a bit of a...</td>\n",
       "      <td>Post: \"\"Here lies DeadHappy. It was a bit of a...</td>\n",
       "      <td>-0.412119</td>\n",
       "      <td>-0.424648</td>\n",
       "      <td>-0.331911</td>\n",
       "      <td>0.0</td>\n",
       "      <td>-0.986912</td>\n",
       "      <td>-0.778827</td>\n",
       "      <td>...</td>\n",
       "      <td>0.0</td>\n",
       "      <td>0.0</td>\n",
       "      <td>-0.401605</td>\n",
       "      <td>0.0</td>\n",
       "      <td>0.0</td>\n",
       "      <td>-0.144887</td>\n",
       "      <td>0.0</td>\n",
       "      <td>0.0</td>\n",
       "      <td>2.490653</td>\n",
       "      <td>350.0</td>\n",
       "    </tr>\n",
       "  </tbody>\n",
       "</table>\n",
       "<p>1 rows × 23 columns</p>\n",
       "</div>"
      ],
      "text/plain": [
       "         Date                                        Ad set name  \\\n",
       "0  2020-08-01  Post: \"\"Here lies DeadHappy. It was a bit of a...   \n",
       "\n",
       "                                             Ad name  \\\n",
       "0  Post: \"\"Here lies DeadHappy. It was a bit of a...   \n",
       "\n",
       "                                       Campaign name  Impressions      Cost  \\\n",
       "0  Post: \"\"Here lies DeadHappy. It was a bit of a...    -0.412119 -0.424648   \n",
       "\n",
       "   Website purchases  Cost per website purchase  CPC (cost per link click)  \\\n",
       "0          -0.331911                        0.0                  -0.986912   \n",
       "\n",
       "   CTR (link click-through rate)  ...  Unique adds to cart  Website leads  \\\n",
       "0                      -0.778827  ...                  0.0            0.0   \n",
       "\n",
       "   Unique link clicks  Unique mobile app adds of payment info  \\\n",
       "0           -0.401605                                     0.0   \n",
       "\n",
       "   Conversion rate ranking  Post shares  Return on ad spend (ROAS)  \\\n",
       "0                      0.0    -0.144887                        0.0   \n",
       "\n",
       "   Unique completed registrations  Post comments  Impressions_2  \n",
       "0                             0.0       2.490653          350.0  \n",
       "\n",
       "[1 rows x 23 columns]"
      ]
     },
     "metadata": {},
     "output_type": "display_data"
    },
    {
     "data": {
      "text/html": [
       "<div>\n",
       "<style scoped>\n",
       "    .dataframe tbody tr th:only-of-type {\n",
       "        vertical-align: middle;\n",
       "    }\n",
       "\n",
       "    .dataframe tbody tr th {\n",
       "        vertical-align: top;\n",
       "    }\n",
       "\n",
       "    .dataframe thead th {\n",
       "        text-align: right;\n",
       "    }\n",
       "</style>\n",
       "<table border=\"1\" class=\"dataframe\">\n",
       "  <thead>\n",
       "    <tr style=\"text-align: right;\">\n",
       "      <th></th>\n",
       "      <th>Impressions</th>\n",
       "      <th>Cost</th>\n",
       "      <th>Website purchases</th>\n",
       "      <th>Cost per website purchase</th>\n",
       "      <th>CPC (cost per link click)</th>\n",
       "      <th>CTR (link click-through rate)</th>\n",
       "      <th>Signup</th>\n",
       "      <th>Registration</th>\n",
       "      <th>Unique purchases</th>\n",
       "      <th>Unique adds to cart</th>\n",
       "      <th>Website leads</th>\n",
       "      <th>Unique link clicks</th>\n",
       "      <th>Unique mobile app adds of payment info</th>\n",
       "      <th>Conversion rate ranking</th>\n",
       "      <th>Post shares</th>\n",
       "      <th>Return on ad spend (ROAS)</th>\n",
       "      <th>Unique completed registrations</th>\n",
       "      <th>Post comments</th>\n",
       "      <th>Impressions_2</th>\n",
       "    </tr>\n",
       "  </thead>\n",
       "  <tbody>\n",
       "    <tr>\n",
       "      <th>count</th>\n",
       "      <td>8135.00</td>\n",
       "      <td>8135.00</td>\n",
       "      <td>8135.00</td>\n",
       "      <td>8135.00</td>\n",
       "      <td>8135.00</td>\n",
       "      <td>8135.00</td>\n",
       "      <td>8135.00</td>\n",
       "      <td>8135.00</td>\n",
       "      <td>8135.0</td>\n",
       "      <td>8135.0</td>\n",
       "      <td>8135.00</td>\n",
       "      <td>8135.00</td>\n",
       "      <td>8135.0</td>\n",
       "      <td>8135.00</td>\n",
       "      <td>8135.00</td>\n",
       "      <td>8135.00</td>\n",
       "      <td>8135.0</td>\n",
       "      <td>8135.00</td>\n",
       "      <td>8135.00</td>\n",
       "    </tr>\n",
       "    <tr>\n",
       "      <th>mean</th>\n",
       "      <td>0.00</td>\n",
       "      <td>0.00</td>\n",
       "      <td>-0.00</td>\n",
       "      <td>20.72</td>\n",
       "      <td>-0.00</td>\n",
       "      <td>-0.00</td>\n",
       "      <td>0.02</td>\n",
       "      <td>0.00</td>\n",
       "      <td>0.0</td>\n",
       "      <td>0.0</td>\n",
       "      <td>0.00</td>\n",
       "      <td>-0.00</td>\n",
       "      <td>0.0</td>\n",
       "      <td>0.19</td>\n",
       "      <td>-0.00</td>\n",
       "      <td>5.65</td>\n",
       "      <td>0.0</td>\n",
       "      <td>0.00</td>\n",
       "      <td>8694.17</td>\n",
       "    </tr>\n",
       "    <tr>\n",
       "      <th>std</th>\n",
       "      <td>1.00</td>\n",
       "      <td>1.00</td>\n",
       "      <td>1.00</td>\n",
       "      <td>72.86</td>\n",
       "      <td>1.00</td>\n",
       "      <td>1.00</td>\n",
       "      <td>0.17</td>\n",
       "      <td>1.00</td>\n",
       "      <td>0.0</td>\n",
       "      <td>0.0</td>\n",
       "      <td>0.03</td>\n",
       "      <td>1.00</td>\n",
       "      <td>0.0</td>\n",
       "      <td>0.82</td>\n",
       "      <td>1.00</td>\n",
       "      <td>33.61</td>\n",
       "      <td>0.0</td>\n",
       "      <td>1.00</td>\n",
       "      <td>20248.25</td>\n",
       "    </tr>\n",
       "    <tr>\n",
       "      <th>min</th>\n",
       "      <td>-0.43</td>\n",
       "      <td>-0.45</td>\n",
       "      <td>-0.33</td>\n",
       "      <td>0.00</td>\n",
       "      <td>-0.99</td>\n",
       "      <td>-0.78</td>\n",
       "      <td>0.00</td>\n",
       "      <td>-0.39</td>\n",
       "      <td>0.0</td>\n",
       "      <td>0.0</td>\n",
       "      <td>0.00</td>\n",
       "      <td>-0.40</td>\n",
       "      <td>0.0</td>\n",
       "      <td>0.00</td>\n",
       "      <td>-0.14</td>\n",
       "      <td>0.00</td>\n",
       "      <td>0.0</td>\n",
       "      <td>-0.26</td>\n",
       "      <td>0.00</td>\n",
       "    </tr>\n",
       "    <tr>\n",
       "      <th>25%</th>\n",
       "      <td>-0.40</td>\n",
       "      <td>-0.41</td>\n",
       "      <td>-0.33</td>\n",
       "      <td>0.00</td>\n",
       "      <td>-0.66</td>\n",
       "      <td>-0.47</td>\n",
       "      <td>0.00</td>\n",
       "      <td>-0.39</td>\n",
       "      <td>0.0</td>\n",
       "      <td>0.0</td>\n",
       "      <td>0.00</td>\n",
       "      <td>-0.37</td>\n",
       "      <td>0.0</td>\n",
       "      <td>0.00</td>\n",
       "      <td>-0.14</td>\n",
       "      <td>0.00</td>\n",
       "      <td>0.0</td>\n",
       "      <td>-0.26</td>\n",
       "      <td>563.50</td>\n",
       "    </tr>\n",
       "    <tr>\n",
       "      <th>50%</th>\n",
       "      <td>-0.34</td>\n",
       "      <td>-0.33</td>\n",
       "      <td>-0.33</td>\n",
       "      <td>0.00</td>\n",
       "      <td>-0.16</td>\n",
       "      <td>-0.25</td>\n",
       "      <td>0.00</td>\n",
       "      <td>-0.39</td>\n",
       "      <td>0.0</td>\n",
       "      <td>0.0</td>\n",
       "      <td>0.00</td>\n",
       "      <td>-0.31</td>\n",
       "      <td>0.0</td>\n",
       "      <td>0.00</td>\n",
       "      <td>-0.14</td>\n",
       "      <td>0.00</td>\n",
       "      <td>0.0</td>\n",
       "      <td>-0.26</td>\n",
       "      <td>1772.00</td>\n",
       "    </tr>\n",
       "    <tr>\n",
       "      <th>75%</th>\n",
       "      <td>-0.05</td>\n",
       "      <td>-0.05</td>\n",
       "      <td>-0.33</td>\n",
       "      <td>0.00</td>\n",
       "      <td>0.34</td>\n",
       "      <td>0.16</td>\n",
       "      <td>0.00</td>\n",
       "      <td>0.01</td>\n",
       "      <td>0.0</td>\n",
       "      <td>0.0</td>\n",
       "      <td>0.00</td>\n",
       "      <td>-0.07</td>\n",
       "      <td>0.0</td>\n",
       "      <td>0.00</td>\n",
       "      <td>-0.14</td>\n",
       "      <td>0.00</td>\n",
       "      <td>0.0</td>\n",
       "      <td>-0.26</td>\n",
       "      <td>7751.00</td>\n",
       "    </tr>\n",
       "    <tr>\n",
       "      <th>max</th>\n",
       "      <td>15.27</td>\n",
       "      <td>13.20</td>\n",
       "      <td>14.48</td>\n",
       "      <td>1092.21</td>\n",
       "      <td>12.21</td>\n",
       "      <td>23.56</td>\n",
       "      <td>4.00</td>\n",
       "      <td>12.00</td>\n",
       "      <td>0.0</td>\n",
       "      <td>0.0</td>\n",
       "      <td>1.00</td>\n",
       "      <td>20.98</td>\n",
       "      <td>0.0</td>\n",
       "      <td>10.00</td>\n",
       "      <td>36.76</td>\n",
       "      <td>1143.38</td>\n",
       "      <td>0.0</td>\n",
       "      <td>38.31</td>\n",
       "      <td>317885.00</td>\n",
       "    </tr>\n",
       "  </tbody>\n",
       "</table>\n",
       "</div>"
      ],
      "text/plain": [
       "       Impressions     Cost  Website purchases  Cost per website purchase  \\\n",
       "count      8135.00  8135.00            8135.00                    8135.00   \n",
       "mean          0.00     0.00              -0.00                      20.72   \n",
       "std           1.00     1.00               1.00                      72.86   \n",
       "min          -0.43    -0.45              -0.33                       0.00   \n",
       "25%          -0.40    -0.41              -0.33                       0.00   \n",
       "50%          -0.34    -0.33              -0.33                       0.00   \n",
       "75%          -0.05    -0.05              -0.33                       0.00   \n",
       "max          15.27    13.20              14.48                    1092.21   \n",
       "\n",
       "       CPC (cost per link click)  CTR (link click-through rate)   Signup  \\\n",
       "count                    8135.00                        8135.00  8135.00   \n",
       "mean                       -0.00                          -0.00     0.02   \n",
       "std                         1.00                           1.00     0.17   \n",
       "min                        -0.99                          -0.78     0.00   \n",
       "25%                        -0.66                          -0.47     0.00   \n",
       "50%                        -0.16                          -0.25     0.00   \n",
       "75%                         0.34                           0.16     0.00   \n",
       "max                        12.21                          23.56     4.00   \n",
       "\n",
       "       Registration  Unique purchases  Unique adds to cart  Website leads  \\\n",
       "count       8135.00            8135.0               8135.0        8135.00   \n",
       "mean           0.00               0.0                  0.0           0.00   \n",
       "std            1.00               0.0                  0.0           0.03   \n",
       "min           -0.39               0.0                  0.0           0.00   \n",
       "25%           -0.39               0.0                  0.0           0.00   \n",
       "50%           -0.39               0.0                  0.0           0.00   \n",
       "75%            0.01               0.0                  0.0           0.00   \n",
       "max           12.00               0.0                  0.0           1.00   \n",
       "\n",
       "       Unique link clicks  Unique mobile app adds of payment info  \\\n",
       "count             8135.00                                  8135.0   \n",
       "mean                -0.00                                     0.0   \n",
       "std                  1.00                                     0.0   \n",
       "min                 -0.40                                     0.0   \n",
       "25%                 -0.37                                     0.0   \n",
       "50%                 -0.31                                     0.0   \n",
       "75%                 -0.07                                     0.0   \n",
       "max                 20.98                                     0.0   \n",
       "\n",
       "       Conversion rate ranking  Post shares  Return on ad spend (ROAS)  \\\n",
       "count                  8135.00      8135.00                    8135.00   \n",
       "mean                      0.19        -0.00                       5.65   \n",
       "std                       0.82         1.00                      33.61   \n",
       "min                       0.00        -0.14                       0.00   \n",
       "25%                       0.00        -0.14                       0.00   \n",
       "50%                       0.00        -0.14                       0.00   \n",
       "75%                       0.00        -0.14                       0.00   \n",
       "max                      10.00        36.76                    1143.38   \n",
       "\n",
       "       Unique completed registrations  Post comments  Impressions_2  \n",
       "count                          8135.0        8135.00        8135.00  \n",
       "mean                              0.0           0.00        8694.17  \n",
       "std                               0.0           1.00       20248.25  \n",
       "min                               0.0          -0.26           0.00  \n",
       "25%                               0.0          -0.26         563.50  \n",
       "50%                               0.0          -0.26        1772.00  \n",
       "75%                               0.0          -0.26        7751.00  \n",
       "max                               0.0          38.31      317885.00  "
      ]
     },
     "metadata": {},
     "output_type": "display_data"
    },
    {
     "data": {
      "text/plain": [
       "Date                                       object\n",
       "Ad set name                                object\n",
       "Ad name                                    object\n",
       "Campaign name                              object\n",
       "Impressions                               float64\n",
       "Cost                                      float64\n",
       "Website purchases                         float64\n",
       "Cost per website purchase                 float64\n",
       "CPC (cost per link click)                 float64\n",
       "CTR (link click-through rate)             float64\n",
       "Signup                                    float64\n",
       "Registration                              float64\n",
       "Unique purchases                          float64\n",
       "Unique adds to cart                       float64\n",
       "Website leads                             float64\n",
       "Unique link clicks                        float64\n",
       "Unique mobile app adds of payment info    float64\n",
       "Conversion rate ranking                   float64\n",
       "Post shares                               float64\n",
       "Return on ad spend (ROAS)                 float64\n",
       "Unique completed registrations            float64\n",
       "Post comments                             float64\n",
       "Impressions_2                             float64\n",
       "dtype: object"
      ]
     },
     "execution_count": 5,
     "metadata": {},
     "output_type": "execute_result"
    }
   ],
   "source": [
    "from sklearn.preprocessing import StandardScaler \n",
    "\n",
    "scaler = StandardScaler()\n",
    "\n",
    "scaler.fit(data_scaled[['Impressions', 'Cost', 'Unique link clicks', \n",
    "                        'Post shares', 'Post comments', 'Registration', \n",
    "                        'Website purchases', 'CPC (cost per link click)', \n",
    "                        'CTR (link click-through rate)']])\n",
    "\n",
    "data_scaled[['Impressions', 'Cost', 'Unique link clicks', \n",
    "             'Post shares', 'Post comments', 'Registration', \n",
    "             'Website purchases', 'CPC (cost per link click)', \n",
    "             'CTR (link click-through rate)']] = scaler.transform(data_scaled[['Impressions', 'Cost', \n",
    "                                                                               'Unique link clicks', \n",
    "                                                                               'Post shares', 'Post comments', \n",
    "                                                                               'Registration', \n",
    "                                                                               'Website purchases', \n",
    "                                                                               'CPC (cost per link click)', \n",
    "                                                                               'CTR (link click-through rate)']])\n",
    "display(data_scaled.head(1)) \n",
    "display(data_scaled.describe().round(2) )\n",
    "data_scaled.dtypes"
   ]
  },
  {
   "cell_type": "markdown",
   "metadata": {
    "heading_collapsed": true
   },
   "source": [
    "### data_daily: "
   ]
  },
  {
   "cell_type": "markdown",
   "metadata": {
    "heading_collapsed": true
   },
   "source": [
    "### data_ad:"
   ]
  },
  {
   "cell_type": "code",
   "execution_count": 6,
   "metadata": {
    "ExecuteTime": {
     "end_time": "2021-03-15T18:20:57.225160Z",
     "start_time": "2021-03-15T18:20:57.199033Z"
    },
    "hidden": true
   },
   "outputs": [
    {
     "data": {
      "text/html": [
       "<div>\n",
       "<style scoped>\n",
       "    .dataframe tbody tr th:only-of-type {\n",
       "        vertical-align: middle;\n",
       "    }\n",
       "\n",
       "    .dataframe tbody tr th {\n",
       "        vertical-align: top;\n",
       "    }\n",
       "\n",
       "    .dataframe thead th {\n",
       "        text-align: right;\n",
       "    }\n",
       "</style>\n",
       "<table border=\"1\" class=\"dataframe\">\n",
       "  <thead>\n",
       "    <tr style=\"text-align: right;\">\n",
       "      <th></th>\n",
       "      <th>Impressions</th>\n",
       "      <th>Cost</th>\n",
       "      <th>Duration</th>\n",
       "      <th>Unique link clicks</th>\n",
       "      <th>Post shares</th>\n",
       "      <th>Post comments</th>\n",
       "      <th>Registration</th>\n",
       "      <th>Website purchases</th>\n",
       "      <th>CPC</th>\n",
       "      <th>CPM</th>\n",
       "      <th>CTR</th>\n",
       "      <th>CR</th>\n",
       "      <th>CPA</th>\n",
       "      <th>CTR_class</th>\n",
       "      <th>CR_class</th>\n",
       "    </tr>\n",
       "    <tr>\n",
       "      <th>Ad name</th>\n",
       "      <th></th>\n",
       "      <th></th>\n",
       "      <th></th>\n",
       "      <th></th>\n",
       "      <th></th>\n",
       "      <th></th>\n",
       "      <th></th>\n",
       "      <th></th>\n",
       "      <th></th>\n",
       "      <th></th>\n",
       "      <th></th>\n",
       "      <th></th>\n",
       "      <th></th>\n",
       "      <th></th>\n",
       "      <th></th>\n",
       "    </tr>\n",
       "  </thead>\n",
       "  <tbody>\n",
       "    <tr>\n",
       "      <th>5k-deathwish_single_w41-2020</th>\n",
       "      <td>58014.0</td>\n",
       "      <td>775.29</td>\n",
       "      <td>9</td>\n",
       "      <td>173.0</td>\n",
       "      <td>1.0</td>\n",
       "      <td>2.0</td>\n",
       "      <td>8.0</td>\n",
       "      <td>2.0</td>\n",
       "      <td>4.481445</td>\n",
       "      <td>13.363843</td>\n",
       "      <td>0.002982</td>\n",
       "      <td>0.011561</td>\n",
       "      <td>387.645</td>\n",
       "      <td>1</td>\n",
       "      <td>1</td>\n",
       "    </tr>\n",
       "    <tr>\n",
       "      <th>Instagram post: Be more Mick!\\n🚀We’re growing at...</th>\n",
       "      <td>6272.0</td>\n",
       "      <td>20.00</td>\n",
       "      <td>5</td>\n",
       "      <td>94.0</td>\n",
       "      <td>1.0</td>\n",
       "      <td>0.0</td>\n",
       "      <td>0.0</td>\n",
       "      <td>0.0</td>\n",
       "      <td>0.212766</td>\n",
       "      <td>3.188776</td>\n",
       "      <td>0.014987</td>\n",
       "      <td>0.000000</td>\n",
       "      <td>0.000</td>\n",
       "      <td>1</td>\n",
       "      <td>0</td>\n",
       "    </tr>\n",
       "    <tr>\n",
       "      <th>Post: \"\"Here lies DeadHappy. It was a bit of a sore...\"</th>\n",
       "      <td>646.0</td>\n",
       "      <td>4.64</td>\n",
       "      <td>2</td>\n",
       "      <td>0.0</td>\n",
       "      <td>0.0</td>\n",
       "      <td>12.0</td>\n",
       "      <td>0.0</td>\n",
       "      <td>0.0</td>\n",
       "      <td>0.000000</td>\n",
       "      <td>7.182663</td>\n",
       "      <td>0.000000</td>\n",
       "      <td>0.000000</td>\n",
       "      <td>0.000</td>\n",
       "      <td>0</td>\n",
       "      <td>0</td>\n",
       "    </tr>\n",
       "  </tbody>\n",
       "</table>\n",
       "</div>"
      ],
      "text/plain": [
       "                                                    Impressions    Cost  \\\n",
       "Ad name                                                                   \n",
       "5k-deathwish_single_w41-2020                            58014.0  775.29   \n",
       "Instagram post: Be more Mick!\\n🚀We’re growing a...       6272.0   20.00   \n",
       "Post: \"\"Here lies DeadHappy. It was a bit of a ...        646.0    4.64   \n",
       "\n",
       "                                                    Duration  \\\n",
       "Ad name                                                        \n",
       "5k-deathwish_single_w41-2020                               9   \n",
       "Instagram post: Be more Mick!\\n🚀We’re growing a...         5   \n",
       "Post: \"\"Here lies DeadHappy. It was a bit of a ...         2   \n",
       "\n",
       "                                                    Unique link clicks  \\\n",
       "Ad name                                                                  \n",
       "5k-deathwish_single_w41-2020                                     173.0   \n",
       "Instagram post: Be more Mick!\\n🚀We’re growing a...                94.0   \n",
       "Post: \"\"Here lies DeadHappy. It was a bit of a ...                 0.0   \n",
       "\n",
       "                                                    Post shares  \\\n",
       "Ad name                                                           \n",
       "5k-deathwish_single_w41-2020                                1.0   \n",
       "Instagram post: Be more Mick!\\n🚀We’re growing a...          1.0   \n",
       "Post: \"\"Here lies DeadHappy. It was a bit of a ...          0.0   \n",
       "\n",
       "                                                    Post comments  \\\n",
       "Ad name                                                             \n",
       "5k-deathwish_single_w41-2020                                  2.0   \n",
       "Instagram post: Be more Mick!\\n🚀We’re growing a...            0.0   \n",
       "Post: \"\"Here lies DeadHappy. It was a bit of a ...           12.0   \n",
       "\n",
       "                                                    Registration  \\\n",
       "Ad name                                                            \n",
       "5k-deathwish_single_w41-2020                                 8.0   \n",
       "Instagram post: Be more Mick!\\n🚀We’re growing a...           0.0   \n",
       "Post: \"\"Here lies DeadHappy. It was a bit of a ...           0.0   \n",
       "\n",
       "                                                    Website purchases  \\\n",
       "Ad name                                                                 \n",
       "5k-deathwish_single_w41-2020                                      2.0   \n",
       "Instagram post: Be more Mick!\\n🚀We’re growing a...                0.0   \n",
       "Post: \"\"Here lies DeadHappy. It was a bit of a ...                0.0   \n",
       "\n",
       "                                                         CPC        CPM  \\\n",
       "Ad name                                                                   \n",
       "5k-deathwish_single_w41-2020                        4.481445  13.363843   \n",
       "Instagram post: Be more Mick!\\n🚀We’re growing a...  0.212766   3.188776   \n",
       "Post: \"\"Here lies DeadHappy. It was a bit of a ...  0.000000   7.182663   \n",
       "\n",
       "                                                         CTR        CR  \\\n",
       "Ad name                                                                  \n",
       "5k-deathwish_single_w41-2020                        0.002982  0.011561   \n",
       "Instagram post: Be more Mick!\\n🚀We’re growing a...  0.014987  0.000000   \n",
       "Post: \"\"Here lies DeadHappy. It was a bit of a ...  0.000000  0.000000   \n",
       "\n",
       "                                                        CPA CTR_class CR_class  \n",
       "Ad name                                                                         \n",
       "5k-deathwish_single_w41-2020                        387.645         1        1  \n",
       "Instagram post: Be more Mick!\\n🚀We’re growing a...    0.000         1        0  \n",
       "Post: \"\"Here lies DeadHappy. It was a bit of a ...    0.000         0        0  "
      ]
     },
     "execution_count": 6,
     "metadata": {},
     "output_type": "execute_result"
    }
   ],
   "source": [
    "data_ad_scaled = data_ad.copy()\n",
    "data_ad_scaled.head(3)"
   ]
  },
  {
   "cell_type": "code",
   "execution_count": 7,
   "metadata": {
    "ExecuteTime": {
     "end_time": "2021-03-15T18:20:57.978504Z",
     "start_time": "2021-03-15T18:20:57.773830Z"
    },
    "hidden": true
   },
   "outputs": [
    {
     "data": {
      "text/html": [
       "<div>\n",
       "<style scoped>\n",
       "    .dataframe tbody tr th:only-of-type {\n",
       "        vertical-align: middle;\n",
       "    }\n",
       "\n",
       "    .dataframe tbody tr th {\n",
       "        vertical-align: top;\n",
       "    }\n",
       "\n",
       "    .dataframe thead th {\n",
       "        text-align: right;\n",
       "    }\n",
       "</style>\n",
       "<table border=\"1\" class=\"dataframe\">\n",
       "  <thead>\n",
       "    <tr style=\"text-align: right;\">\n",
       "      <th></th>\n",
       "      <th>Impressions</th>\n",
       "      <th>Cost</th>\n",
       "      <th>Duration</th>\n",
       "      <th>Unique link clicks</th>\n",
       "      <th>Post shares</th>\n",
       "      <th>Post comments</th>\n",
       "      <th>Registration</th>\n",
       "      <th>Website purchases</th>\n",
       "      <th>CPC</th>\n",
       "      <th>CPM</th>\n",
       "      <th>CTR</th>\n",
       "      <th>CR</th>\n",
       "      <th>CPA</th>\n",
       "      <th>CTR_class</th>\n",
       "      <th>CR_class</th>\n",
       "    </tr>\n",
       "    <tr>\n",
       "      <th>Ad name</th>\n",
       "      <th></th>\n",
       "      <th></th>\n",
       "      <th></th>\n",
       "      <th></th>\n",
       "      <th></th>\n",
       "      <th></th>\n",
       "      <th></th>\n",
       "      <th></th>\n",
       "      <th></th>\n",
       "      <th></th>\n",
       "      <th></th>\n",
       "      <th></th>\n",
       "      <th></th>\n",
       "      <th></th>\n",
       "      <th></th>\n",
       "    </tr>\n",
       "  </thead>\n",
       "  <tbody>\n",
       "    <tr>\n",
       "      <th>5k-deathwish_single_w41-2020</th>\n",
       "      <td>-0.240419</td>\n",
       "      <td>-0.216884</td>\n",
       "      <td>-0.367817</td>\n",
       "      <td>-0.234857</td>\n",
       "      <td>-0.204327</td>\n",
       "      <td>-0.253375</td>\n",
       "      <td>-0.265787</td>\n",
       "      <td>-0.249262</td>\n",
       "      <td>0.070573</td>\n",
       "      <td>1.563537</td>\n",
       "      <td>-0.120864</td>\n",
       "      <td>0.087545</td>\n",
       "      <td>387.645</td>\n",
       "      <td>1</td>\n",
       "      <td>1</td>\n",
       "    </tr>\n",
       "    <tr>\n",
       "      <th>Instagram post: Be more Mick!\\n🚀We’re growing at...</th>\n",
       "      <td>-0.281496</td>\n",
       "      <td>-0.298557</td>\n",
       "      <td>-0.413129</td>\n",
       "      <td>-0.255699</td>\n",
       "      <td>-0.204327</td>\n",
       "      <td>-0.276500</td>\n",
       "      <td>-0.294538</td>\n",
       "      <td>-0.298661</td>\n",
       "      <td>-0.368848</td>\n",
       "      <td>-1.054563</td>\n",
       "      <td>2.801061</td>\n",
       "      <td>-0.479871</td>\n",
       "      <td>0.000</td>\n",
       "      <td>1</td>\n",
       "      <td>0</td>\n",
       "    </tr>\n",
       "  </tbody>\n",
       "</table>\n",
       "</div>"
      ],
      "text/plain": [
       "                                                    Impressions      Cost  \\\n",
       "Ad name                                                                     \n",
       "5k-deathwish_single_w41-2020                          -0.240419 -0.216884   \n",
       "Instagram post: Be more Mick!\\n🚀We’re growing a...    -0.281496 -0.298557   \n",
       "\n",
       "                                                    Duration  \\\n",
       "Ad name                                                        \n",
       "5k-deathwish_single_w41-2020                       -0.367817   \n",
       "Instagram post: Be more Mick!\\n🚀We’re growing a... -0.413129   \n",
       "\n",
       "                                                    Unique link clicks  \\\n",
       "Ad name                                                                  \n",
       "5k-deathwish_single_w41-2020                                 -0.234857   \n",
       "Instagram post: Be more Mick!\\n🚀We’re growing a...           -0.255699   \n",
       "\n",
       "                                                    Post shares  \\\n",
       "Ad name                                                           \n",
       "5k-deathwish_single_w41-2020                          -0.204327   \n",
       "Instagram post: Be more Mick!\\n🚀We’re growing a...    -0.204327   \n",
       "\n",
       "                                                    Post comments  \\\n",
       "Ad name                                                             \n",
       "5k-deathwish_single_w41-2020                            -0.253375   \n",
       "Instagram post: Be more Mick!\\n🚀We’re growing a...      -0.276500   \n",
       "\n",
       "                                                    Registration  \\\n",
       "Ad name                                                            \n",
       "5k-deathwish_single_w41-2020                           -0.265787   \n",
       "Instagram post: Be more Mick!\\n🚀We’re growing a...     -0.294538   \n",
       "\n",
       "                                                    Website purchases  \\\n",
       "Ad name                                                                 \n",
       "5k-deathwish_single_w41-2020                                -0.249262   \n",
       "Instagram post: Be more Mick!\\n🚀We’re growing a...          -0.298661   \n",
       "\n",
       "                                                         CPC       CPM  \\\n",
       "Ad name                                                                  \n",
       "5k-deathwish_single_w41-2020                        0.070573  1.563537   \n",
       "Instagram post: Be more Mick!\\n🚀We’re growing a... -0.368848 -1.054563   \n",
       "\n",
       "                                                         CTR        CR  \\\n",
       "Ad name                                                                  \n",
       "5k-deathwish_single_w41-2020                       -0.120864  0.087545   \n",
       "Instagram post: Be more Mick!\\n🚀We’re growing a...  2.801061 -0.479871   \n",
       "\n",
       "                                                        CPA CTR_class CR_class  \n",
       "Ad name                                                                         \n",
       "5k-deathwish_single_w41-2020                        387.645         1        1  \n",
       "Instagram post: Be more Mick!\\n🚀We’re growing a...    0.000         1        0  "
      ]
     },
     "metadata": {},
     "output_type": "display_data"
    },
    {
     "data": {
      "text/html": [
       "<div>\n",
       "<style scoped>\n",
       "    .dataframe tbody tr th:only-of-type {\n",
       "        vertical-align: middle;\n",
       "    }\n",
       "\n",
       "    .dataframe tbody tr th {\n",
       "        vertical-align: top;\n",
       "    }\n",
       "\n",
       "    .dataframe thead th {\n",
       "        text-align: right;\n",
       "    }\n",
       "</style>\n",
       "<table border=\"1\" class=\"dataframe\">\n",
       "  <thead>\n",
       "    <tr style=\"text-align: right;\">\n",
       "      <th></th>\n",
       "      <th>Impressions</th>\n",
       "      <th>Cost</th>\n",
       "      <th>Duration</th>\n",
       "      <th>Unique link clicks</th>\n",
       "      <th>Post shares</th>\n",
       "      <th>Post comments</th>\n",
       "      <th>Registration</th>\n",
       "      <th>Website purchases</th>\n",
       "      <th>CPC</th>\n",
       "      <th>CPM</th>\n",
       "      <th>CTR</th>\n",
       "      <th>CR</th>\n",
       "      <th>CPA</th>\n",
       "    </tr>\n",
       "  </thead>\n",
       "  <tbody>\n",
       "    <tr>\n",
       "      <th>count</th>\n",
       "      <td>196.00</td>\n",
       "      <td>196.00</td>\n",
       "      <td>196.00</td>\n",
       "      <td>196.00</td>\n",
       "      <td>196.00</td>\n",
       "      <td>196.00</td>\n",
       "      <td>196.00</td>\n",
       "      <td>196.00</td>\n",
       "      <td>196.00</td>\n",
       "      <td>196.00</td>\n",
       "      <td>196.00</td>\n",
       "      <td>196.00</td>\n",
       "      <td>196.00</td>\n",
       "    </tr>\n",
       "    <tr>\n",
       "      <th>mean</th>\n",
       "      <td>0.00</td>\n",
       "      <td>-0.00</td>\n",
       "      <td>-0.00</td>\n",
       "      <td>0.00</td>\n",
       "      <td>0.00</td>\n",
       "      <td>0.00</td>\n",
       "      <td>0.00</td>\n",
       "      <td>-0.00</td>\n",
       "      <td>0.00</td>\n",
       "      <td>0.00</td>\n",
       "      <td>0.00</td>\n",
       "      <td>-0.00</td>\n",
       "      <td>142.86</td>\n",
       "    </tr>\n",
       "    <tr>\n",
       "      <th>std</th>\n",
       "      <td>1.00</td>\n",
       "      <td>1.00</td>\n",
       "      <td>1.00</td>\n",
       "      <td>1.00</td>\n",
       "      <td>1.00</td>\n",
       "      <td>1.00</td>\n",
       "      <td>1.00</td>\n",
       "      <td>1.00</td>\n",
       "      <td>1.00</td>\n",
       "      <td>1.00</td>\n",
       "      <td>1.00</td>\n",
       "      <td>1.00</td>\n",
       "      <td>237.63</td>\n",
       "    </tr>\n",
       "    <tr>\n",
       "      <th>min</th>\n",
       "      <td>-0.29</td>\n",
       "      <td>-0.30</td>\n",
       "      <td>-0.47</td>\n",
       "      <td>-0.28</td>\n",
       "      <td>-0.21</td>\n",
       "      <td>-0.28</td>\n",
       "      <td>-0.29</td>\n",
       "      <td>-0.30</td>\n",
       "      <td>-0.39</td>\n",
       "      <td>-1.88</td>\n",
       "      <td>-0.85</td>\n",
       "      <td>-0.48</td>\n",
       "      <td>0.00</td>\n",
       "    </tr>\n",
       "    <tr>\n",
       "      <th>25%</th>\n",
       "      <td>-0.28</td>\n",
       "      <td>-0.30</td>\n",
       "      <td>-0.42</td>\n",
       "      <td>-0.28</td>\n",
       "      <td>-0.21</td>\n",
       "      <td>-0.28</td>\n",
       "      <td>-0.29</td>\n",
       "      <td>-0.30</td>\n",
       "      <td>-0.31</td>\n",
       "      <td>-0.70</td>\n",
       "      <td>-0.47</td>\n",
       "      <td>-0.48</td>\n",
       "      <td>0.00</td>\n",
       "    </tr>\n",
       "    <tr>\n",
       "      <th>50%</th>\n",
       "      <td>-0.26</td>\n",
       "      <td>-0.28</td>\n",
       "      <td>-0.38</td>\n",
       "      <td>-0.26</td>\n",
       "      <td>-0.20</td>\n",
       "      <td>-0.25</td>\n",
       "      <td>-0.28</td>\n",
       "      <td>-0.30</td>\n",
       "      <td>-0.14</td>\n",
       "      <td>-0.06</td>\n",
       "      <td>-0.24</td>\n",
       "      <td>-0.48</td>\n",
       "      <td>0.00</td>\n",
       "    </tr>\n",
       "    <tr>\n",
       "      <th>75%</th>\n",
       "      <td>-0.16</td>\n",
       "      <td>-0.14</td>\n",
       "      <td>-0.29</td>\n",
       "      <td>-0.13</td>\n",
       "      <td>-0.14</td>\n",
       "      <td>-0.12</td>\n",
       "      <td>-0.13</td>\n",
       "      <td>-0.14</td>\n",
       "      <td>0.03</td>\n",
       "      <td>0.58</td>\n",
       "      <td>0.16</td>\n",
       "      <td>0.24</td>\n",
       "      <td>228.01</td>\n",
       "    </tr>\n",
       "    <tr>\n",
       "      <th>max</th>\n",
       "      <td>11.42</td>\n",
       "      <td>10.93</td>\n",
       "      <td>4.90</td>\n",
       "      <td>10.23</td>\n",
       "      <td>11.96</td>\n",
       "      <td>11.15</td>\n",
       "      <td>10.75</td>\n",
       "      <td>10.96</td>\n",
       "      <td>11.86</td>\n",
       "      <td>4.40</td>\n",
       "      <td>9.04</td>\n",
       "      <td>8.44</td>\n",
       "      <td>2032.77</td>\n",
       "    </tr>\n",
       "  </tbody>\n",
       "</table>\n",
       "</div>"
      ],
      "text/plain": [
       "       Impressions    Cost  Duration  Unique link clicks  Post shares  \\\n",
       "count       196.00  196.00    196.00              196.00       196.00   \n",
       "mean          0.00   -0.00     -0.00                0.00         0.00   \n",
       "std           1.00    1.00      1.00                1.00         1.00   \n",
       "min          -0.29   -0.30     -0.47               -0.28        -0.21   \n",
       "25%          -0.28   -0.30     -0.42               -0.28        -0.21   \n",
       "50%          -0.26   -0.28     -0.38               -0.26        -0.20   \n",
       "75%          -0.16   -0.14     -0.29               -0.13        -0.14   \n",
       "max          11.42   10.93      4.90               10.23        11.96   \n",
       "\n",
       "       Post comments  Registration  Website purchases     CPC     CPM     CTR  \\\n",
       "count         196.00        196.00             196.00  196.00  196.00  196.00   \n",
       "mean            0.00          0.00              -0.00    0.00    0.00    0.00   \n",
       "std             1.00          1.00               1.00    1.00    1.00    1.00   \n",
       "min            -0.28         -0.29              -0.30   -0.39   -1.88   -0.85   \n",
       "25%            -0.28         -0.29              -0.30   -0.31   -0.70   -0.47   \n",
       "50%            -0.25         -0.28              -0.30   -0.14   -0.06   -0.24   \n",
       "75%            -0.12         -0.13              -0.14    0.03    0.58    0.16   \n",
       "max            11.15         10.75              10.96   11.86    4.40    9.04   \n",
       "\n",
       "           CR      CPA  \n",
       "count  196.00   196.00  \n",
       "mean    -0.00   142.86  \n",
       "std      1.00   237.63  \n",
       "min     -0.48     0.00  \n",
       "25%     -0.48     0.00  \n",
       "50%     -0.48     0.00  \n",
       "75%      0.24   228.01  \n",
       "max      8.44  2032.77  "
      ]
     },
     "execution_count": 7,
     "metadata": {},
     "output_type": "execute_result"
    }
   ],
   "source": [
    "from sklearn.preprocessing import StandardScaler \n",
    "\n",
    "scaler = StandardScaler()\n",
    "\n",
    "scaler.fit(data_ad_scaled[['Impressions', 'Cost', 'Duration', \n",
    "                           'Unique link clicks', \n",
    "                           'Post shares', 'Post comments', \n",
    "                           'Registration', \n",
    "                           'Website purchases', 'CPC', \n",
    "                           'CPM', 'CTR', 'CR']])\n",
    "\n",
    "data_ad_scaled[['Impressions', 'Cost', 'Duration', \n",
    "                'Unique link clicks', \n",
    "                'Post shares', 'Post comments', \n",
    "                'Registration', \n",
    "                'Website purchases', 'CPC', \n",
    "                'CPM', 'CTR', 'CR']] = scaler.transform(data_ad_scaled[['Impressions', 'Cost', \n",
    "                                                                        'Duration', 'Unique link clicks', \n",
    "                                                                        'Post shares', 'Post comments', \n",
    "                                                                        'Registration', 'Website purchases', \n",
    "                                                                        'CPC', 'CPM', 'CTR', 'CR']])\n",
    "display(data_ad_scaled.head(2)) \n",
    "data_ad_scaled.describe().round(2) "
   ]
  },
  {
   "cell_type": "markdown",
   "metadata": {},
   "source": [
    "# KMeans: "
   ]
  },
  {
   "cell_type": "markdown",
   "metadata": {},
   "source": [
    "## KNN - KNeighborsRegressor"
   ]
  },
  {
   "cell_type": "markdown",
   "metadata": {},
   "source": [
    "### data_ad: "
   ]
  },
  {
   "cell_type": "markdown",
   "metadata": {
    "heading_collapsed": true
   },
   "source": [
    "#### Baseline KNN Model (Day 5, Week 4)"
   ]
  },
  {
   "cell_type": "code",
   "execution_count": 8,
   "metadata": {
    "ExecuteTime": {
     "end_time": "2021-03-15T18:21:01.504056Z",
     "start_time": "2021-03-15T18:21:01.351879Z"
    },
    "hidden": true
   },
   "outputs": [],
   "source": [
    "from sklearn.model_selection import train_test_split\n",
    "\n",
    "# Split data_ad_scaled: \n",
    "X_scaled = data_ad_scaled[['Impressions', 'Cost', 'Duration', 'Unique link clicks', \n",
    "                    'Post shares', 'Post comments', 'Registration', \n",
    "                    'CPC', 'CPM', 'CTR', 'CTR_class']]\n",
    "y_scaled = data_ad_scaled[\"Website purchases\"]\n",
    " \n",
    "X_train_scaled, X_test_scaled,\\\n",
    "y_train_scaled, y_test_scaled = train_test_split(X_scaled, y_scaled, \n",
    "                                                 test_size = 0.3, random_state = 1)\n",
    "\n",
    "# Split data_ad: \n",
    "X = data_ad[['Impressions', 'Cost', 'Duration', 'Unique link clicks', \n",
    "                    'Post shares', 'Post comments', 'Registration', \n",
    "                    'CPC', 'CPM', 'CTR', 'CTR_class']]\n",
    "y = data_ad[\"Website purchases\"]\n",
    " \n",
    "X_train, X_test, y_train, y_test = train_test_split(X, y, test_size = 0.3,\n",
    "                                                    random_state = 1)"
   ]
  },
  {
   "cell_type": "code",
   "execution_count": 9,
   "metadata": {
    "ExecuteTime": {
     "end_time": "2021-03-15T18:21:02.365417Z",
     "start_time": "2021-03-15T18:21:02.055821Z"
    },
    "hidden": true
   },
   "outputs": [
    {
     "name": "stdout",
     "output_type": "stream",
     "text": [
      "The Baseline score is: 76.6%.\n"
     ]
    }
   ],
   "source": [
    "from sklearn.neighbors import KNeighborsRegressor\n",
    "from sklearn.model_selection import cross_validate\n",
    "\n",
    "model_knn_reg = KNeighborsRegressor(n_neighbors = 1)\n",
    "\n",
    "cv_result = cross_validate(model_knn_reg, X_train_scaled, \n",
    "                           y_train, cv = 5)\n",
    "\n",
    "print(f\"\"\"The Baseline score is: {(cv_result[\"test_score\"].mean() * 100).round(1)}%.\"\"\")"
   ]
  },
  {
   "cell_type": "markdown",
   "metadata": {
    "heading_collapsed": true
   },
   "source": [
    "#### GridSearchCV (Day 5, Week 4)"
   ]
  },
  {
   "cell_type": "code",
   "execution_count": 10,
   "metadata": {
    "ExecuteTime": {
     "end_time": "2021-03-15T18:21:10.146015Z",
     "start_time": "2021-03-15T18:21:03.061492Z"
    },
    "hidden": true
   },
   "outputs": [
    {
     "data": {
      "application/javascript": [
       "\n",
       "        if (window._pyforest_update_imports_cell) { window._pyforest_update_imports_cell('import numpy as np\\nimport pandas as pd'); }\n",
       "    "
      ],
      "text/plain": [
       "<IPython.core.display.Javascript object>"
      ]
     },
     "metadata": {},
     "output_type": "display_data"
    },
    {
     "data": {
      "text/plain": [
       "GridSearchCV(cv=5, estimator=KNeighborsRegressor(), n_jobs=-1,\n",
       "             param_grid={'n_neighbors': array([ 1,  2,  3,  4,  5,  6,  7,  8,  9, 10, 11, 12, 13, 14, 15, 16, 17,\n",
       "       18, 19, 20, 21, 22, 23, 24, 25, 26, 27, 28, 29, 30, 31, 32, 33, 34,\n",
       "       35, 36, 37, 38, 39, 40, 41, 42, 43, 44, 45, 46, 47, 48, 49, 50, 51,\n",
       "       52, 53, 54, 55, 56, 57, 58, 59, 60, 61, 62, 63, 64, 65, 66, 67, 68,\n",
       "       69, 70, 71, 72, 73, 74, 75, 76, 77, 78, 79, 80, 81, 82, 83, 84, 85,\n",
       "       86, 87, 88, 89, 90, 91, 92, 93, 94, 95, 96, 97, 98, 99])})"
      ]
     },
     "execution_count": 10,
     "metadata": {},
     "output_type": "execute_result"
    }
   ],
   "source": [
    "from sklearn.model_selection import GridSearchCV\n",
    "\n",
    "model_knn = KNeighborsRegressor()\n",
    "params = {\"n_neighbors\" : np.arange(1, 100, 1)}\n",
    "\n",
    "\n",
    "grid = GridSearchCV(model_knn, params, cv = 5, n_jobs = -1)\n",
    "\n",
    "grid.fit(X_train_scaled, y_train)"
   ]
  },
  {
   "cell_type": "code",
   "execution_count": 11,
   "metadata": {
    "ExecuteTime": {
     "end_time": "2021-03-15T18:21:10.161008Z",
     "start_time": "2021-03-15T18:21:10.155534Z"
    },
    "hidden": true
   },
   "outputs": [
    {
     "name": "stdout",
     "output_type": "stream",
     "text": [
      "The GridSearchCV score is: 77.0%. \n",
      "The best model is: KNeighborsRegressor(n_neighbors=1)\n"
     ]
    }
   ],
   "source": [
    "print(f\"\"\"The GridSearchCV score is: {(grid.best_score_ * 100).round()}%. \n",
    "The best model is: {grid.best_estimator_}\"\"\")"
   ]
  },
  {
   "cell_type": "markdown",
   "metadata": {
    "heading_collapsed": true
   },
   "source": [
    "#### Multiple Params (Day 5, Week 4): "
   ]
  },
  {
   "cell_type": "code",
   "execution_count": 12,
   "metadata": {
    "ExecuteTime": {
     "end_time": "2021-03-15T18:21:19.180504Z",
     "start_time": "2021-03-15T18:21:10.166108Z"
    },
    "hidden": true
   },
   "outputs": [
    {
     "data": {
      "application/javascript": [
       "\n",
       "        if (window._pyforest_update_imports_cell) { window._pyforest_update_imports_cell('import numpy as np\\nimport pandas as pd'); }\n",
       "    "
      ],
      "text/plain": [
       "<IPython.core.display.Javascript object>"
      ]
     },
     "metadata": {},
     "output_type": "display_data"
    },
    {
     "data": {
      "text/plain": [
       "GridSearchCV(cv=5, estimator=KNeighborsRegressor(), n_jobs=-1,\n",
       "             param_grid={'n_neighbors': array([ 1,  2,  3,  4,  5,  6,  7,  8,  9, 10, 11, 12, 13, 14, 15, 16, 17,\n",
       "       18, 19, 20, 21, 22, 23, 24, 25, 26, 27, 28, 29, 30, 31, 32, 33, 34,\n",
       "       35, 36, 37, 38, 39, 40, 41, 42, 43, 44, 45, 46, 47, 48, 49, 50, 51,\n",
       "       52, 53, 54, 55, 56, 57, 58, 59, 60, 61, 62, 63, 64, 65, 66, 67, 68,\n",
       "       69, 70, 71, 72, 73, 74, 75, 76, 77, 78, 79, 80, 81, 82, 83, 84, 85,\n",
       "       86, 87, 88, 89, 90, 91, 92, 93, 94, 95, 96, 97, 98, 99]),\n",
       "                         'p': [1, 2, 3]})"
      ]
     },
     "execution_count": 12,
     "metadata": {},
     "output_type": "execute_result"
    }
   ],
   "source": [
    "from sklearn.model_selection import GridSearchCV\n",
    "\n",
    "model_knn = KNeighborsRegressor()\n",
    "params = {\"n_neighbors\" : np.arange(1, 100, 1), \n",
    "          \"p\" : [1, 2, 3]}\n",
    "\n",
    "grid_multiple = GridSearchCV(model_knn, params, cv = 5, n_jobs = -1)\n",
    "\n",
    "grid_multiple.fit(X_train_scaled, y_train)"
   ]
  },
  {
   "cell_type": "code",
   "execution_count": 13,
   "metadata": {
    "ExecuteTime": {
     "end_time": "2021-03-15T18:21:19.224196Z",
     "start_time": "2021-03-15T18:21:19.191325Z"
    },
    "hidden": true
   },
   "outputs": [
    {
     "name": "stdout",
     "output_type": "stream",
     "text": [
      "The Multiple GridSearchCV score is: 77.0%. \n",
      "The best model is: KNeighborsRegressor(n_neighbors=1, p=1)\n"
     ]
    }
   ],
   "source": [
    "print(f\"\"\"The Multiple GridSearchCV score is: {(grid_multiple.best_score_ * 100).round()}%. \n",
    "The best model is: {grid_multiple.best_estimator_}\"\"\")"
   ]
  },
  {
   "cell_type": "markdown",
   "metadata": {
    "heading_collapsed": true
   },
   "source": [
    "#### RandomizedSearchCV (Day 5, Week 4)"
   ]
  },
  {
   "cell_type": "code",
   "execution_count": 14,
   "metadata": {
    "ExecuteTime": {
     "end_time": "2021-03-15T18:21:20.954360Z",
     "start_time": "2021-03-15T18:21:19.233376Z"
    },
    "hidden": true
   },
   "outputs": [
    {
     "data": {
      "application/javascript": [
       "\n",
       "        if (window._pyforest_update_imports_cell) { window._pyforest_update_imports_cell('import numpy as np\\nimport pandas as pd'); }\n",
       "    "
      ],
      "text/plain": [
       "<IPython.core.display.Javascript object>"
      ]
     },
     "metadata": {},
     "output_type": "display_data"
    },
    {
     "data": {
      "text/plain": [
       "RandomizedSearchCV(cv=5, estimator=KNeighborsRegressor(), n_iter=60, n_jobs=-1,\n",
       "                   param_distributions={'n_neighbors': array([ 1,  2,  3,  4,  5,  6,  7,  8,  9, 10, 11, 12, 13, 14, 15, 16, 17,\n",
       "       18, 19, 20, 21, 22, 23, 24, 25, 26, 27, 28, 29, 30, 31, 32, 33, 34,\n",
       "       35, 36, 37, 38, 39, 40, 41, 42, 43, 44, 45, 46, 47, 48, 49, 50]),\n",
       "                                        'p': [1, 2, 3]})"
      ]
     },
     "execution_count": 14,
     "metadata": {},
     "output_type": "execute_result"
    }
   ],
   "source": [
    "from sklearn.model_selection import RandomizedSearchCV\n",
    "\n",
    "model_knn_reg = KNeighborsRegressor()\n",
    "search_space = {\"n_neighbors\" : np.arange(1, 51, 1), \n",
    "                \"p\" : [1, 2 , 3]}\n",
    "\n",
    "random_search = RandomizedSearchCV(model_knn_reg, cv = 5, \n",
    "                                   param_distributions = search_space, \n",
    "                                   n_jobs = -1, n_iter = 60)\n",
    "\n",
    "random_search.fit(X_train_scaled, y_train)"
   ]
  },
  {
   "cell_type": "code",
   "execution_count": 15,
   "metadata": {
    "ExecuteTime": {
     "end_time": "2021-03-15T18:21:20.964262Z",
     "start_time": "2021-03-15T18:21:20.956537Z"
    },
    "hidden": true
   },
   "outputs": [
    {
     "name": "stdout",
     "output_type": "stream",
     "text": [
      "The RandomSearchCV score is: 74.0%. \n",
      "The best model is: KNeighborsRegressor(n_neighbors=2)\n"
     ]
    }
   ],
   "source": [
    "print(f\"\"\"The RandomSearchCV score is: {(random_search.best_score_ * 100).round()}%. \n",
    "The best model is: {random_search.best_estimator_}\"\"\")"
   ]
  },
  {
   "cell_type": "markdown",
   "metadata": {
    "heading_collapsed": true
   },
   "source": [
    "#### Take the best model and generalise (Day 5, Week 4): "
   ]
  },
  {
   "cell_type": "code",
   "execution_count": 16,
   "metadata": {
    "ExecuteTime": {
     "end_time": "2021-03-15T18:21:20.978687Z",
     "start_time": "2021-03-15T18:21:20.969431Z"
    },
    "hidden": true
   },
   "outputs": [
    {
     "data": {
      "text/plain": [
       "KNeighborsRegressor(n_neighbors=1, p=1)"
      ]
     },
     "execution_count": 16,
     "metadata": {},
     "output_type": "execute_result"
    }
   ],
   "source": [
    "best_model = grid_multiple.best_estimator_\n",
    "best_model"
   ]
  },
  {
   "cell_type": "code",
   "execution_count": 17,
   "metadata": {
    "ExecuteTime": {
     "end_time": "2021-03-15T18:21:21.109695Z",
     "start_time": "2021-03-15T18:21:21.020025Z"
    },
    "hidden": true
   },
   "outputs": [
    {
     "data": {
      "text/plain": [
       "array([ 5.,  0.,  0., 14.,  1.,  0.,  1.,  2.,  0.,  3.,  0.,  0.,  0.,\n",
       "        0.,  0.,  0.,  0.,  1.,  5.,  8.,  0.,  3., 32., 14.,  4.,  5.,\n",
       "        0.,  0., 54.,  0.,  0., 60.,  3.,  5.,  8.,  0.,  5.,  0.,  1.,\n",
       "       14.,  0.,  0.,  0.,  0., 10.,  0.,  0.,  8.,  0.,  0.,  1.,  0.,\n",
       "        4.,  8.,  1.,  2.,  1.,  5., 18.])"
      ]
     },
     "execution_count": 17,
     "metadata": {},
     "output_type": "execute_result"
    }
   ],
   "source": [
    "best_model.fit(X_train_scaled, y_train)\n",
    "\n",
    "y_predicted = best_model.predict(X_test_scaled)\n",
    "y_predicted"
   ]
  },
  {
   "cell_type": "code",
   "execution_count": 18,
   "metadata": {
    "ExecuteTime": {
     "end_time": "2021-03-15T18:21:21.132044Z",
     "start_time": "2021-03-15T18:21:21.118430Z"
    },
    "hidden": true
   },
   "outputs": [
    {
     "name": "stdout",
     "output_type": "stream",
     "text": [
      "The R2 score is: 72.4%\n"
     ]
    }
   ],
   "source": [
    "from sklearn.metrics import r2_score\n",
    "\n",
    "r2 = r2_score(y_test, y_predicted)\n",
    "print(f\"The R2 score is: {(r2*100).round(1)}%\")"
   ]
  },
  {
   "cell_type": "markdown",
   "metadata": {
    "heading_collapsed": true
   },
   "source": [
    "#### cross_val_predict: "
   ]
  },
  {
   "cell_type": "code",
   "execution_count": 48,
   "metadata": {
    "ExecuteTime": {
     "end_time": "2021-03-15T18:32:52.378294Z",
     "start_time": "2021-03-15T18:32:52.320965Z"
    },
    "hidden": true,
    "scrolled": false
   },
   "outputs": [
    {
     "data": {
      "text/plain": [
       "array([-0.18010381, -0.2986608 , -0.29372093, -0.29372093, -0.2986608 ,\n",
       "       -0.2789013 , -0.2986608 , -0.2986608 , -0.29372093, -0.25420193])"
      ]
     },
     "execution_count": 48,
     "metadata": {},
     "output_type": "execute_result"
    }
   ],
   "source": [
    "from sklearn.model_selection import cross_val_predict\n",
    "\n",
    "model_knn_reg = KNeighborsRegressor()\n",
    "\n",
    "y_pred_knn_reg = cross_val_predict(model_knn_reg, X_scaled, y_scaled, cv = 5)\n",
    "y_pred_knn_reg[0:10]"
   ]
  },
  {
   "cell_type": "code",
   "execution_count": 20,
   "metadata": {
    "ExecuteTime": {
     "end_time": "2021-03-15T18:21:21.247639Z",
     "start_time": "2021-03-15T18:21:21.196154Z"
    },
    "hidden": true
   },
   "outputs": [
    {
     "data": {
      "application/javascript": [
       "\n",
       "        if (window._pyforest_update_imports_cell) { window._pyforest_update_imports_cell('import numpy as np\\nimport pandas as pd'); }\n",
       "    "
      ],
      "text/plain": [
       "<IPython.core.display.Javascript object>"
      ]
     },
     "metadata": {},
     "output_type": "display_data"
    },
    {
     "data": {
      "text/html": [
       "<div>\n",
       "<style scoped>\n",
       "    .dataframe tbody tr th:only-of-type {\n",
       "        vertical-align: middle;\n",
       "    }\n",
       "\n",
       "    .dataframe tbody tr th {\n",
       "        vertical-align: top;\n",
       "    }\n",
       "\n",
       "    .dataframe thead th {\n",
       "        text-align: right;\n",
       "    }\n",
       "</style>\n",
       "<table border=\"1\" class=\"dataframe\">\n",
       "  <thead>\n",
       "    <tr style=\"text-align: right;\">\n",
       "      <th></th>\n",
       "      <th>y_scaled</th>\n",
       "      <th>y_pred_knn_reg</th>\n",
       "      <th>delta</th>\n",
       "    </tr>\n",
       "  </thead>\n",
       "  <tbody>\n",
       "    <tr>\n",
       "      <th>173</th>\n",
       "      <td>1.010406</td>\n",
       "      <td>0.852330</td>\n",
       "      <td>-0.158076</td>\n",
       "    </tr>\n",
       "    <tr>\n",
       "      <th>72</th>\n",
       "      <td>-0.298661</td>\n",
       "      <td>-0.298661</td>\n",
       "      <td>0.000000</td>\n",
       "    </tr>\n",
       "    <tr>\n",
       "      <th>185</th>\n",
       "      <td>10.964254</td>\n",
       "      <td>1.687169</td>\n",
       "      <td>-9.277085</td>\n",
       "    </tr>\n",
       "  </tbody>\n",
       "</table>\n",
       "</div>"
      ],
      "text/plain": [
       "      y_scaled  y_pred_knn_reg     delta\n",
       "173   1.010406        0.852330 -0.158076\n",
       "72   -0.298661       -0.298661  0.000000\n",
       "185  10.964254        1.687169 -9.277085"
      ]
     },
     "execution_count": 20,
     "metadata": {},
     "output_type": "execute_result"
    }
   ],
   "source": [
    "result_knn_purchases = pd.DataFrame(zip(y_scaled, y_pred_knn_reg), \n",
    "                                    columns = [\"y_scaled\", \"y_pred_knn_reg\"])\n",
    "\n",
    "result_knn_purchases[\"delta\"] = result_knn_purchases.y_pred_knn_reg         \\\n",
    "                              - result_knn_purchases.y_scaled\n",
    "\n",
    "result_knn_purchases.sample(3)"
   ]
  },
  {
   "cell_type": "code",
   "execution_count": 21,
   "metadata": {
    "ExecuteTime": {
     "end_time": "2021-03-15T18:21:21.279921Z",
     "start_time": "2021-03-15T18:21:21.257902Z"
    },
    "hidden": true
   },
   "outputs": [
    {
     "data": {
      "text/plain": [
       "-0.09410965764813141"
      ]
     },
     "execution_count": 21,
     "metadata": {},
     "output_type": "execute_result"
    }
   ],
   "source": [
    "result_knn_purchases.delta.mean()"
   ]
  },
  {
   "cell_type": "markdown",
   "metadata": {},
   "source": [
    "## KMeans Clustering"
   ]
  },
  {
   "cell_type": "markdown",
   "metadata": {
    "heading_collapsed": true
   },
   "source": [
    "### Elbow: "
   ]
  },
  {
   "cell_type": "markdown",
   "metadata": {
    "heading_collapsed": true
   },
   "source": [
    "### Pairplots:"
   ]
  },
  {
   "cell_type": "markdown",
   "metadata": {},
   "source": [
    "# Log Reg:"
   ]
  },
  {
   "cell_type": "markdown",
   "metadata": {},
   "source": [
    "## data_ad:"
   ]
  },
  {
   "cell_type": "markdown",
   "metadata": {
    "heading_collapsed": true
   },
   "source": [
    "### Predict CTR_class:"
   ]
  },
  {
   "cell_type": "code",
   "execution_count": 22,
   "metadata": {
    "ExecuteTime": {
     "end_time": "2021-03-15T18:21:21.305938Z",
     "start_time": "2021-03-15T18:21:21.291465Z"
    },
    "hidden": true
   },
   "outputs": [
    {
     "data": {
      "text/plain": [
       "Index(['Impressions', 'Cost', 'Duration', 'Unique link clicks', 'Post shares',\n",
       "       'Post comments', 'Registration', 'Website purchases', 'CPC', 'CPM',\n",
       "       'CTR', 'CR', 'CPA', 'CTR_class', 'CR_class'],\n",
       "      dtype='object')"
      ]
     },
     "execution_count": 22,
     "metadata": {},
     "output_type": "execute_result"
    }
   ],
   "source": [
    "data_ad.columns"
   ]
  },
  {
   "cell_type": "code",
   "execution_count": 23,
   "metadata": {
    "ExecuteTime": {
     "end_time": "2021-03-15T18:21:21.376963Z",
     "start_time": "2021-03-15T18:21:21.310386Z"
    },
    "hidden": true
   },
   "outputs": [
    {
     "name": "stderr",
     "output_type": "stream",
     "text": [
      "/Users/Lucas/.pyenv/versions/3.7.7/envs/lewagon/lib/python3.7/site-packages/sklearn/linear_model/_logistic.py:765: ConvergenceWarning: lbfgs failed to converge (status=1):\n",
      "STOP: TOTAL NO. of ITERATIONS REACHED LIMIT.\n",
      "\n",
      "Increase the number of iterations (max_iter) or scale the data as shown in:\n",
      "    https://scikit-learn.org/stable/modules/preprocessing.html\n",
      "Please also refer to the documentation for alternative solver options:\n",
      "    https://scikit-learn.org/stable/modules/linear_model.html#logistic-regression\n",
      "  extra_warning_msg=_LOGISTIC_SOLVER_CONVERGENCE_MSG)\n"
     ]
    },
    {
     "data": {
      "text/plain": [
       "0.559322033898305"
      ]
     },
     "execution_count": 23,
     "metadata": {},
     "output_type": "execute_result"
    }
   ],
   "source": [
    "from sklearn.linear_model import LogisticRegression \n",
    " \n",
    "X_log_ad = data_ad.drop(columns = [\"CTR\", \"CTR_class\", \n",
    "                                   \"Unique link clicks\", \"Impressions\"])\n",
    "y_log_ad = data_ad[\"CTR_class\"] \n",
    "\n",
    "X_train_log_ad, X_test_log_ad,\\\n",
    "y_train_log_ad, y_test_log_ad = train_test_split(X_log_ad, y_log_ad,\n",
    "                                                 test_size = 0.3, random_state = 3)\n",
    "\n",
    "log_model = LogisticRegression()\n",
    " \n",
    "log_model.fit(X_train_log_ad, y_train_log_ad)\n",
    " \n",
    "log_model.score(X_test_log_ad, y_test_log_ad)"
   ]
  },
  {
   "cell_type": "code",
   "execution_count": 24,
   "metadata": {
    "ExecuteTime": {
     "end_time": "2021-03-15T18:21:23.843645Z",
     "start_time": "2021-03-15T18:21:23.821146Z"
    },
    "hidden": true
   },
   "outputs": [
    {
     "data": {
      "text/plain": [
       "Impressions                30068\n",
       "Cost                       229.1\n",
       "Duration                       2\n",
       "Unique link clicks            41\n",
       "Post shares                    0\n",
       "Post comments                  0\n",
       "Registration                   8\n",
       "Website purchases              1\n",
       "CPC                       5.5878\n",
       "CPM                       7.6194\n",
       "CTR                   0.00136358\n",
       "CR                     0.0243902\n",
       "CPA                        229.1\n",
       "CTR_class                      0\n",
       "CR_class                       1\n",
       "Name: selfie-profiles-organic-outline-blue-bg-jordan-pid_static, dtype: object"
      ]
     },
     "metadata": {},
     "output_type": "display_data"
    },
    {
     "name": "stdout",
     "output_type": "stream",
     "text": [
      "['0']\n"
     ]
    },
    {
     "name": "stderr",
     "output_type": "stream",
     "text": [
      "/Users/Lucas/.pyenv/versions/3.7.7/envs/lewagon/lib/python3.7/site-packages/sklearn/utils/validation.py:63: FutureWarning: Arrays of bytes/strings is being converted to decimal numbers if dtype='numeric'. This behavior is deprecated in 0.24 and will be removed in 1.1 (renaming of 0.26). Please convert your data to numeric values explicitly instead.\n",
      "  return f(*args, **kwargs)\n"
     ]
    }
   ],
   "source": [
    "# Cost, Duration, Post shares, Post comments, Registration, \n",
    "# Website purchases, CPC, CPM, CR, CR_class \n",
    "\n",
    "display(data_ad.loc[\"\"\"selfie-profiles-organic-outline-blue-bg-jordan-pid_static\"\"\"])\n",
    "\n",
    "test_ad = [[\"200.1\", \"3\", \"0\", \"0\", \"7\", \"1\", \n",
    "            \"5.45\", \"7.24\", \"0.023\", \"200\", \"1\"]]\n",
    "\n",
    "print(log_model.predict(test_ad))"
   ]
  },
  {
   "cell_type": "markdown",
   "metadata": {
    "heading_collapsed": true
   },
   "source": [
    "### Predict CR_Class:"
   ]
  },
  {
   "cell_type": "code",
   "execution_count": 25,
   "metadata": {
    "ExecuteTime": {
     "end_time": "2021-03-15T18:21:25.524345Z",
     "start_time": "2021-03-15T18:21:25.459921Z"
    },
    "hidden": true
   },
   "outputs": [
    {
     "name": "stderr",
     "output_type": "stream",
     "text": [
      "/Users/Lucas/.pyenv/versions/3.7.7/envs/lewagon/lib/python3.7/site-packages/sklearn/linear_model/_logistic.py:765: ConvergenceWarning: lbfgs failed to converge (status=1):\n",
      "STOP: TOTAL NO. of ITERATIONS REACHED LIMIT.\n",
      "\n",
      "Increase the number of iterations (max_iter) or scale the data as shown in:\n",
      "    https://scikit-learn.org/stable/modules/preprocessing.html\n",
      "Please also refer to the documentation for alternative solver options:\n",
      "    https://scikit-learn.org/stable/modules/linear_model.html#logistic-regression\n",
      "  extra_warning_msg=_LOGISTIC_SOLVER_CONVERGENCE_MSG)\n"
     ]
    },
    {
     "data": {
      "text/plain": [
       "0.9491525423728814"
      ]
     },
     "execution_count": 25,
     "metadata": {},
     "output_type": "execute_result"
    }
   ],
   "source": [
    "from sklearn.linear_model import LogisticRegression \n",
    " \n",
    "X_log_ad = data_ad.drop(columns = [\"Website purchases\",\n",
    "                                   \"CR\", \"CR_class\"]) \n",
    "y_log_ad = data_ad[\"CR_class\"] \n",
    "\n",
    "X_train_log_ad, X_test_log_ad,\\\n",
    "y_train_log_ad, y_test_log_ad = train_test_split(X_log_ad, y_log_ad,\n",
    "                                                 test_size = 0.3, random_state = 3)\n",
    "\n",
    "log_model_cr_class = LogisticRegression()\n",
    " \n",
    "log_model_cr_class.fit(X_train_log_ad, y_train_log_ad)\n",
    " \n",
    "log_model_cr_class.score(X_test_log_ad, y_test_log_ad)"
   ]
  },
  {
   "cell_type": "code",
   "execution_count": 26,
   "metadata": {
    "ExecuteTime": {
     "end_time": "2021-03-15T18:21:26.364953Z",
     "start_time": "2021-03-15T18:21:26.338084Z"
    },
    "hidden": true
   },
   "outputs": [
    {
     "data": {
      "text/plain": [
       "Impressions                86008\n",
       "Cost                      655.73\n",
       "Duration                       8\n",
       "Unique link clicks           150\n",
       "Post shares                    0\n",
       "Post comments                  1\n",
       "Registration                  15\n",
       "Website purchases              0\n",
       "CPC                      4.37153\n",
       "CPM                      7.62406\n",
       "CTR                   0.00174402\n",
       "CR                             0\n",
       "CPA                            0\n",
       "CTR_class                      0\n",
       "CR_class                       0\n",
       "Name: moves-with-you_static_2020-w45, dtype: object"
      ]
     },
     "metadata": {},
     "output_type": "display_data"
    },
    {
     "data": {
      "text/plain": [
       "Impressions                44853\n",
       "Cost                      372.76\n",
       "Duration                       9\n",
       "Unique link clicks           103\n",
       "Post shares                    0\n",
       "Post comments                  1\n",
       "Registration                  10\n",
       "Website purchases              0\n",
       "CPC                      3.61903\n",
       "CPM                       8.3107\n",
       "CTR                   0.00229639\n",
       "CR                             0\n",
       "CPA                            0\n",
       "CTR_class                      0\n",
       "CR_class                       0\n",
       "Name: selfie-jordan-skullman_static, dtype: object"
      ]
     },
     "metadata": {},
     "output_type": "display_data"
    },
    {
     "name": "stdout",
     "output_type": "stream",
     "text": [
      "The predicted class of test_ad_1 is: ['0']\n",
      "The predicted class of test_ad_2 is: ['0']\n"
     ]
    },
    {
     "name": "stderr",
     "output_type": "stream",
     "text": [
      "/Users/Lucas/.pyenv/versions/3.7.7/envs/lewagon/lib/python3.7/site-packages/sklearn/utils/validation.py:63: FutureWarning: Arrays of bytes/strings is being converted to decimal numbers if dtype='numeric'. This behavior is deprecated in 0.24 and will be removed in 1.1 (renaming of 0.26). Please convert your data to numeric values explicitly instead.\n",
      "  return f(*args, **kwargs)\n",
      "/Users/Lucas/.pyenv/versions/3.7.7/envs/lewagon/lib/python3.7/site-packages/sklearn/utils/validation.py:63: FutureWarning: Arrays of bytes/strings is being converted to decimal numbers if dtype='numeric'. This behavior is deprecated in 0.24 and will be removed in 1.1 (renaming of 0.26). Please convert your data to numeric values explicitly instead.\n",
      "  return f(*args, **kwargs)\n"
     ]
    }
   ],
   "source": [
    "display(data_ad.loc[\"\"\"moves-with-you_static_2020-w45\"\"\"])\n",
    "display(data_ad.loc[\"\"\"selfie-jordan-skullman_static\"\"\"])\n",
    "# Define Sample ad: Metrics to use: \n",
    "# Impressions, Cost, Duration, Unique link clicks, Post shares, Post comments, Registration\n",
    "# CPC, CPM, CTR, CPA, CTR_class\n",
    " \n",
    "test_ad_1 = [[\"86008\", \"655.73\", \"8\", \"150\", \"0\", \"1\", \"15\", \"4.37153\", \n",
    "              \"7.62406\", \"0.00174402\", \"0\", \"0\"]]\n",
    " \n",
    "test_ad_2 = [[\"44853\", \"372.76\", \"9\", \"103\", \"0\", \"1\", \"10\", \n",
    "              \"3.61903\", \"8.3107\", \"0.00229639\", \"0\", \"0\"]]\n",
    "\n",
    "print(f\"\"\"The predicted class of test_ad_1 is: {log_model_cr_class.predict(test_ad_1)}\"\"\")\n",
    "print(f\"\"\"The predicted class of test_ad_2 is: {log_model_cr_class.predict(test_ad_2)}\"\"\")"
   ]
  },
  {
   "cell_type": "markdown",
   "metadata": {},
   "source": [
    "# Lin Reg"
   ]
  },
  {
   "cell_type": "markdown",
   "metadata": {},
   "source": [
    "## data_ad"
   ]
  },
  {
   "cell_type": "markdown",
   "metadata": {},
   "source": [
    "### Predict Unique link clicks: "
   ]
  },
  {
   "cell_type": "markdown",
   "metadata": {
    "heading_collapsed": true
   },
   "source": [
    "#### Base Model: "
   ]
  },
  {
   "cell_type": "code",
   "execution_count": 27,
   "metadata": {
    "ExecuteTime": {
     "end_time": "2021-03-15T18:21:28.491443Z",
     "start_time": "2021-03-15T18:21:28.462941Z"
    },
    "hidden": true
   },
   "outputs": [
    {
     "data": {
      "text/plain": [
       "96.45"
      ]
     },
     "execution_count": 27,
     "metadata": {},
     "output_type": "execute_result"
    }
   ],
   "source": [
    "from sklearn.linear_model import LinearRegression \n",
    "from sklearn.model_selection import train_test_split  \n",
    " \n",
    "#X = data_ad[[\"Cost per website purchase\"]] \n",
    "X_linreg_clicks = data_ad.drop(columns = [\"Unique link clicks\", \"Impressions\", \"CTR\"])\n",
    "y_linreg_clicks = data_ad[\"Unique link clicks\"] \n",
    " \n",
    "X_train, X_test, y_train, y_test = train_test_split(X_linreg_clicks, \n",
    "                                                    y_linreg_clicks, \n",
    "                                                    test_size = 0.3, \n",
    "                                                    random_state = 3) \n",
    " \n",
    "lin_model_clicks = LinearRegression() \n",
    " \n",
    "lin_model_clicks.fit(X_train, y_train) \n",
    "\n",
    "(lin_model_clicks.score(X_test, y_test) * 100).round(2)"
   ]
  },
  {
   "cell_type": "code",
   "execution_count": 28,
   "metadata": {
    "ExecuteTime": {
     "end_time": "2021-03-15T18:21:29.195009Z",
     "start_time": "2021-03-15T18:21:29.186206Z"
    },
    "hidden": true
   },
   "outputs": [
    {
     "name": "stdout",
     "output_type": "stream",
     "text": [
      "[ 3.87744318e-01 -2.28070688e+00 -6.77897071e-01  2.35854276e+01\n",
      " -1.19678033e+01  5.30132440e+01  7.67248879e-02 -2.75537528e+01\n",
      " -7.16186394e+02  2.26387081e-01  3.67914356e+02 -1.48167956e+02]\n",
      "-59.76955371864369\n"
     ]
    }
   ],
   "source": [
    "print(lin_model_clicks.coef_) \n",
    "print(lin_model_clicks.intercept_) "
   ]
  },
  {
   "cell_type": "code",
   "execution_count": 29,
   "metadata": {
    "ExecuteTime": {
     "end_time": "2021-03-15T18:21:33.739066Z",
     "start_time": "2021-03-15T18:21:29.700873Z"
    },
    "hidden": true
   },
   "outputs": [
    {
     "data": {
      "text/plain": [
       "{'importances_mean': array([1.77530343e+00, 7.80481071e-03, 2.57043831e-03, 5.85473980e-01,\n",
       "        1.54400451e+00, 6.29890733e-01, 1.04433154e-06, 1.48278217e-03,\n",
       "        4.79722401e-05, 4.60619338e-04, 4.34667927e-03, 6.17958409e-04]),\n",
       " 'importances_std': array([1.50703238e-01, 1.25156531e-03, 9.53731340e-04, 1.93861953e-02,\n",
       "        1.16474253e-01, 5.78791368e-02, 5.29925810e-06, 6.37182834e-04,\n",
       "        8.50962469e-05, 2.96329194e-04, 1.15908791e-03, 4.56052363e-04]),\n",
       " 'importances': array([[1.82472242e+00, 1.65541407e+00, 1.83113134e+00, ...,\n",
       "         1.82313908e+00, 1.79900158e+00, 1.84776977e+00],\n",
       "        [7.37989239e-03, 9.19340188e-03, 6.69823385e-03, ...,\n",
       "         6.27464020e-03, 9.03175813e-03, 6.04523578e-03],\n",
       "        [2.87274259e-03, 3.09683577e-03, 2.31427190e-03, ...,\n",
       "         2.18859641e-03, 2.44413107e-03, 3.28190832e-03],\n",
       "        ...,\n",
       "        [3.68415802e-04, 8.74474425e-05, 2.84891982e-04, ...,\n",
       "         5.88059411e-04, 4.31350703e-04, 6.11992239e-04],\n",
       "        [4.94347847e-03, 5.67034067e-03, 2.00116709e-03, ...,\n",
       "         4.79598600e-03, 2.10116400e-03, 5.39892778e-03],\n",
       "        [4.23681517e-04, 1.25659687e-03, 1.24570375e-03, ...,\n",
       "         1.59219911e-04, 3.57900448e-04, 3.94044011e-04]])}"
      ]
     },
     "execution_count": 29,
     "metadata": {},
     "output_type": "execute_result"
    }
   ],
   "source": [
    "from sklearn.inspection import permutation_importance \n",
    " \n",
    "result = permutation_importance(lin_model_clicks, X_linreg_clicks, y_linreg_clicks, \n",
    "                                random_state = 5, n_repeats = 100) \n",
    "result"
   ]
  },
  {
   "cell_type": "code",
   "execution_count": 30,
   "metadata": {
    "ExecuteTime": {
     "end_time": "2021-03-15T18:21:33.761062Z",
     "start_time": "2021-03-15T18:21:33.745530Z"
    },
    "hidden": true
   },
   "outputs": [
    {
     "data": {
      "application/javascript": [
       "\n",
       "        if (window._pyforest_update_imports_cell) { window._pyforest_update_imports_cell('import numpy as np\\nimport pandas as pd'); }\n",
       "    "
      ],
      "text/plain": [
       "<IPython.core.display.Javascript object>"
      ]
     },
     "metadata": {},
     "output_type": "display_data"
    },
    {
     "data": {
      "text/plain": [
       "array([['Cost', 1.775],\n",
       "       ['Duration', 0.008],\n",
       "       ['Post shares', 0.003],\n",
       "       ['Post comments', 0.585],\n",
       "       ['Registration', 1.544],\n",
       "       ['Website purchases', 0.63],\n",
       "       ['CPC', 0.0],\n",
       "       ['CPM', 0.001],\n",
       "       ['CR', 0.0],\n",
       "       ['CPA', 0.0],\n",
       "       ['CTR_class', 0.004],\n",
       "       ['CR_class', 0.001]], dtype=object)"
      ]
     },
     "execution_count": 30,
     "metadata": {},
     "output_type": "execute_result"
    }
   ],
   "source": [
    "results = np.vstack((X_linreg_clicks.columns, \n",
    "                     (result.importances_mean).round(3))).T\n",
    "results"
   ]
  },
  {
   "cell_type": "code",
   "execution_count": 31,
   "metadata": {
    "ExecuteTime": {
     "end_time": "2021-03-15T18:21:33.794726Z",
     "start_time": "2021-03-15T18:21:33.767728Z"
    },
    "hidden": true
   },
   "outputs": [
    {
     "data": {
      "application/javascript": [
       "\n",
       "        if (window._pyforest_update_imports_cell) { window._pyforest_update_imports_cell('import numpy as np\\nimport pandas as pd'); }\n",
       "    "
      ],
      "text/plain": [
       "<IPython.core.display.Javascript object>"
      ]
     },
     "metadata": {},
     "output_type": "display_data"
    },
    {
     "data": {
      "text/html": [
       "<div>\n",
       "<style scoped>\n",
       "    .dataframe tbody tr th:only-of-type {\n",
       "        vertical-align: middle;\n",
       "    }\n",
       "\n",
       "    .dataframe tbody tr th {\n",
       "        vertical-align: top;\n",
       "    }\n",
       "\n",
       "    .dataframe thead th {\n",
       "        text-align: right;\n",
       "    }\n",
       "</style>\n",
       "<table border=\"1\" class=\"dataframe\">\n",
       "  <thead>\n",
       "    <tr style=\"text-align: right;\">\n",
       "      <th></th>\n",
       "      <th>Feature</th>\n",
       "      <th>Importance</th>\n",
       "    </tr>\n",
       "  </thead>\n",
       "  <tbody>\n",
       "    <tr>\n",
       "      <th>0</th>\n",
       "      <td>Cost</td>\n",
       "      <td>1.775</td>\n",
       "    </tr>\n",
       "    <tr>\n",
       "      <th>4</th>\n",
       "      <td>Registration</td>\n",
       "      <td>1.544</td>\n",
       "    </tr>\n",
       "    <tr>\n",
       "      <th>5</th>\n",
       "      <td>Website purchases</td>\n",
       "      <td>0.63</td>\n",
       "    </tr>\n",
       "    <tr>\n",
       "      <th>3</th>\n",
       "      <td>Post comments</td>\n",
       "      <td>0.585</td>\n",
       "    </tr>\n",
       "    <tr>\n",
       "      <th>1</th>\n",
       "      <td>Duration</td>\n",
       "      <td>0.008</td>\n",
       "    </tr>\n",
       "    <tr>\n",
       "      <th>10</th>\n",
       "      <td>CTR_class</td>\n",
       "      <td>0.004</td>\n",
       "    </tr>\n",
       "    <tr>\n",
       "      <th>2</th>\n",
       "      <td>Post shares</td>\n",
       "      <td>0.003</td>\n",
       "    </tr>\n",
       "    <tr>\n",
       "      <th>7</th>\n",
       "      <td>CPM</td>\n",
       "      <td>0.001</td>\n",
       "    </tr>\n",
       "    <tr>\n",
       "      <th>11</th>\n",
       "      <td>CR_class</td>\n",
       "      <td>0.001</td>\n",
       "    </tr>\n",
       "    <tr>\n",
       "      <th>6</th>\n",
       "      <td>CPC</td>\n",
       "      <td>0</td>\n",
       "    </tr>\n",
       "    <tr>\n",
       "      <th>8</th>\n",
       "      <td>CR</td>\n",
       "      <td>0</td>\n",
       "    </tr>\n",
       "    <tr>\n",
       "      <th>9</th>\n",
       "      <td>CPA</td>\n",
       "      <td>0</td>\n",
       "    </tr>\n",
       "  </tbody>\n",
       "</table>\n",
       "</div>"
      ],
      "text/plain": [
       "              Feature Importance\n",
       "0                Cost      1.775\n",
       "4        Registration      1.544\n",
       "5   Website purchases       0.63\n",
       "3       Post comments      0.585\n",
       "1            Duration      0.008\n",
       "10          CTR_class      0.004\n",
       "2         Post shares      0.003\n",
       "7                 CPM      0.001\n",
       "11           CR_class      0.001\n",
       "6                 CPC          0\n",
       "8                  CR          0\n",
       "9                 CPA          0"
      ]
     },
     "execution_count": 31,
     "metadata": {},
     "output_type": "execute_result"
    }
   ],
   "source": [
    "pd.DataFrame(results, columns = [\"Feature\", \"Importance\"])                     \\\n",
    "  .sort_values([\"Importance\"], ascending = False)"
   ]
  },
  {
   "cell_type": "markdown",
   "metadata": {
    "ExecuteTime": {
     "end_time": "2021-03-12T18:51:32.982220Z",
     "start_time": "2021-03-12T18:51:32.955078Z"
    },
    "hidden": true
   },
   "source": [
    "-> Run another Lin Reg model with only: Cost, Registration, Website purchases, Post comments."
   ]
  },
  {
   "cell_type": "markdown",
   "metadata": {
    "heading_collapsed": true
   },
   "source": [
    "#### Updated model: "
   ]
  },
  {
   "cell_type": "code",
   "execution_count": 32,
   "metadata": {
    "ExecuteTime": {
     "end_time": "2021-03-15T18:21:33.847126Z",
     "start_time": "2021-03-15T18:21:33.800137Z"
    },
    "hidden": true
   },
   "outputs": [
    {
     "data": {
      "text/plain": [
       "95.64"
      ]
     },
     "execution_count": 32,
     "metadata": {},
     "output_type": "execute_result"
    }
   ],
   "source": [
    "X_linreg_clicks = data_ad[[\"Cost\", \"Registration\", \"Website purchases\", \"Post comments\", \"Duration\"]]\n",
    "y_linreg_clicks = data_ad[\"Unique link clicks\"] \n",
    " \n",
    "X_train, X_test, y_train, y_test = train_test_split(X_linreg_clicks, \n",
    "                                                    y_linreg_clicks, \n",
    "                                                    test_size = 0.3, \n",
    "                                                    random_state = 3) \n",
    " \n",
    "lin_model_clicks_updated = LinearRegression() \n",
    " \n",
    "lin_model_clicks_updated.fit(X_train, y_train) \n",
    "\n",
    "(lin_model_clicks_updated.score(X_test, y_test) * 100).round(2)"
   ]
  },
  {
   "cell_type": "markdown",
   "metadata": {
    "hidden": true
   },
   "source": [
    "-> By including more features we can improve our model. "
   ]
  },
  {
   "cell_type": "markdown",
   "metadata": {
    "heading_collapsed": true
   },
   "source": [
    "#### cross_val_predict: "
   ]
  },
  {
   "cell_type": "code",
   "execution_count": 47,
   "metadata": {
    "ExecuteTime": {
     "end_time": "2021-03-15T18:22:53.196126Z",
     "start_time": "2021-03-15T18:22:53.145690Z"
    },
    "hidden": true
   },
   "outputs": [
    {
     "data": {
      "text/plain": [
       "array([238.84371416, -93.77026585, 181.06050927, -70.30416664,\n",
       "       586.64301268,  92.24229537, -91.25811503, 150.93022475,\n",
       "       -88.41817201, -67.26772518])"
      ]
     },
     "metadata": {},
     "output_type": "display_data"
    },
    {
     "data": {
      "text/plain": [
       "196"
      ]
     },
     "execution_count": 47,
     "metadata": {},
     "output_type": "execute_result"
    }
   ],
   "source": [
    "y_pred_clicks = cross_val_predict(lin_model_clicks, X_linreg_clicks, \n",
    "                           y_linreg_clicks, cv = 5)\n",
    "display(y_pred_clicks[0:10])\n",
    "len(y_pred_clicks)"
   ]
  },
  {
   "cell_type": "code",
   "execution_count": 34,
   "metadata": {
    "ExecuteTime": {
     "end_time": "2021-03-15T18:21:36.920418Z",
     "start_time": "2021-03-15T18:21:36.894388Z"
    },
    "hidden": true
   },
   "outputs": [
    {
     "data": {
      "application/javascript": [
       "\n",
       "        if (window._pyforest_update_imports_cell) { window._pyforest_update_imports_cell('import numpy as np\\nimport pandas as pd'); }\n",
       "    "
      ],
      "text/plain": [
       "<IPython.core.display.Javascript object>"
      ]
     },
     "metadata": {},
     "output_type": "display_data"
    },
    {
     "data": {
      "text/html": [
       "<div>\n",
       "<style scoped>\n",
       "    .dataframe tbody tr th:only-of-type {\n",
       "        vertical-align: middle;\n",
       "    }\n",
       "\n",
       "    .dataframe tbody tr th {\n",
       "        vertical-align: top;\n",
       "    }\n",
       "\n",
       "    .dataframe thead th {\n",
       "        text-align: right;\n",
       "    }\n",
       "</style>\n",
       "<table border=\"1\" class=\"dataframe\">\n",
       "  <thead>\n",
       "    <tr style=\"text-align: right;\">\n",
       "      <th></th>\n",
       "      <th>y_linreg_clicks</th>\n",
       "      <th>y_pred_clicks</th>\n",
       "      <th>delta</th>\n",
       "    </tr>\n",
       "  </thead>\n",
       "  <tbody>\n",
       "    <tr>\n",
       "      <th>0</th>\n",
       "      <td>173.0</td>\n",
       "      <td>238.843714</td>\n",
       "      <td>65.843714</td>\n",
       "    </tr>\n",
       "    <tr>\n",
       "      <th>1</th>\n",
       "      <td>94.0</td>\n",
       "      <td>-93.770266</td>\n",
       "      <td>-187.770266</td>\n",
       "    </tr>\n",
       "    <tr>\n",
       "      <th>2</th>\n",
       "      <td>0.0</td>\n",
       "      <td>181.060509</td>\n",
       "      <td>181.060509</td>\n",
       "    </tr>\n",
       "  </tbody>\n",
       "</table>\n",
       "</div>"
      ],
      "text/plain": [
       "   y_linreg_clicks  y_pred_clicks       delta\n",
       "0            173.0     238.843714   65.843714\n",
       "1             94.0     -93.770266 -187.770266\n",
       "2              0.0     181.060509  181.060509"
      ]
     },
     "metadata": {},
     "output_type": "display_data"
    },
    {
     "data": {
      "text/plain": [
       "(196, 3)"
      ]
     },
     "execution_count": 34,
     "metadata": {},
     "output_type": "execute_result"
    }
   ],
   "source": [
    "comparision = pd.DataFrame(zip(y_linreg_clicks, y_pred_clicks), \n",
    "                           columns = [\"y_linreg_clicks\", \"y_pred_clicks\"])\n",
    "comparision[\"delta\"] = comparision.y_pred_clicks - comparision.y_linreg_clicks\n",
    "display(comparision.head(3))\n",
    "comparision.shape"
   ]
  },
  {
   "cell_type": "code",
   "execution_count": 35,
   "metadata": {
    "ExecuteTime": {
     "end_time": "2021-03-15T18:21:58.509862Z",
     "start_time": "2021-03-15T18:21:58.502392Z"
    },
    "hidden": true
   },
   "outputs": [
    {
     "data": {
      "text/plain": [
       "-84.13051006933443"
      ]
     },
     "execution_count": 35,
     "metadata": {},
     "output_type": "execute_result"
    }
   ],
   "source": [
    "comparision.delta.mean()"
   ]
  },
  {
   "cell_type": "markdown",
   "metadata": {},
   "source": [
    "### Predict Website purchases: "
   ]
  },
  {
   "cell_type": "markdown",
   "metadata": {},
   "source": [
    "#### Base model:"
   ]
  },
  {
   "cell_type": "code",
   "execution_count": 49,
   "metadata": {
    "ExecuteTime": {
     "end_time": "2021-03-15T18:33:28.490335Z",
     "start_time": "2021-03-15T18:33:28.468392Z"
    }
   },
   "outputs": [
    {
     "name": "stdout",
     "output_type": "stream",
     "text": [
      "Score of the model is: 87.23%.\n"
     ]
    }
   ],
   "source": [
    "X_linreg_sales = data_ad.drop(columns = [\"Website purchases\", \"CR\", \"CR_class\"]) \n",
    "y_linreg_sales = data_ad[\"Website purchases\"]\n",
    " \n",
    "X_train, X_test, y_train, y_test = train_test_split(X_linreg_sales, y_linreg_sales, \n",
    "                                                    test_size = 0.3, random_state = 1)\n",
    " \n",
    "lin_model_purchases = LinearRegression()\n",
    " \n",
    "lin_model_purchases.fit(X_train, y_train)\n",
    " \n",
    "print(f\"\"\"Score of the model is: {(lin_model_purchases.score(X_test, y_test)*100).round(2)}%.\"\"\")"
   ]
  },
  {
   "cell_type": "code",
   "execution_count": 50,
   "metadata": {
    "ExecuteTime": {
     "end_time": "2021-03-15T18:33:38.957003Z",
     "start_time": "2021-03-15T18:33:30.871327Z"
    }
   },
   "outputs": [
    {
     "data": {
      "text/plain": [
       "{'importances_mean': array([6.25812116e-03, 1.11806207e-01, 7.99662004e-03, 1.96487122e-01,\n",
       "        1.07498522e-02, 1.15161229e-01, 2.30263044e+00, 1.74441321e-03,\n",
       "        4.80454821e-03, 1.47417689e-05, 1.71594232e-03, 3.42255245e-04]),\n",
       " 'importances_std': array([7.77033773e-04, 9.12492595e-03, 1.01511682e-03, 1.48202542e-02,\n",
       "        1.59813517e-03, 4.46732672e-03, 1.84429944e-01, 4.45513176e-04,\n",
       "        9.53706671e-04, 1.07780857e-04, 4.56806485e-04, 1.72410057e-04]),\n",
       " 'importances': array([[ 5.95503166e-03,  4.36824792e-03,  7.94834509e-03, ...,\n",
       "          8.55772438e-03,  5.84029130e-03,  6.32960063e-03],\n",
       "        [ 1.12613734e-01,  9.67480511e-02,  1.22047777e-01, ...,\n",
       "          1.22792928e-01,  1.12058626e-01,  1.16002951e-01],\n",
       "        [ 6.77764791e-03,  9.18442556e-03,  6.65087841e-03, ...,\n",
       "          6.57546639e-03,  8.04627646e-03,  6.73644106e-03],\n",
       "        ...,\n",
       "        [ 8.06211149e-05, -2.23971667e-04,  8.60648517e-05, ...,\n",
       "          3.94741839e-05,  1.08359137e-05, -4.89956022e-05],\n",
       "        [ 2.13000578e-03,  1.63325226e-03,  1.81110392e-03, ...,\n",
       "          1.53134689e-03,  1.81654868e-03,  1.71830621e-03],\n",
       "        [ 1.92007067e-04,  3.03645660e-04,  1.26121224e-04, ...,\n",
       "          2.53800314e-04,  3.51964121e-04,  4.87513355e-04]])}"
      ]
     },
     "execution_count": 50,
     "metadata": {},
     "output_type": "execute_result"
    }
   ],
   "source": [
    "from sklearn.inspection import permutation_importance \n",
    " \n",
    "result = permutation_importance(lin_model_purchases, X_linreg_sales, y_linreg_sales, \n",
    "                                random_state = 5, n_repeats = 100) \n",
    "result"
   ]
  },
  {
   "cell_type": "code",
   "execution_count": 51,
   "metadata": {
    "ExecuteTime": {
     "end_time": "2021-03-15T18:33:38.979097Z",
     "start_time": "2021-03-15T18:33:38.963048Z"
    }
   },
   "outputs": [
    {
     "data": {
      "application/javascript": [
       "\n",
       "        if (window._pyforest_update_imports_cell) { window._pyforest_update_imports_cell('import numpy as np\\nimport pandas as pd'); }\n",
       "    "
      ],
      "text/plain": [
       "<IPython.core.display.Javascript object>"
      ]
     },
     "metadata": {},
     "output_type": "display_data"
    },
    {
     "data": {
      "text/plain": [
       "array([['Impressions', 0.01],\n",
       "       ['Cost', 0.11],\n",
       "       ['Duration', 0.01],\n",
       "       ['Unique link clicks', 0.2],\n",
       "       ['Post shares', 0.01],\n",
       "       ['Post comments', 0.12],\n",
       "       ['Registration', 2.3],\n",
       "       ['CPC', 0.0],\n",
       "       ['CPM', 0.0],\n",
       "       ['CTR', 0.0],\n",
       "       ['CPA', 0.0],\n",
       "       ['CTR_class', 0.0]], dtype=object)"
      ]
     },
     "execution_count": 51,
     "metadata": {},
     "output_type": "execute_result"
    }
   ],
   "source": [
    "results = np.vstack((X_linreg_sales.columns, \n",
    "                     (result.importances_mean).round(2))).T\n",
    "results"
   ]
  },
  {
   "cell_type": "code",
   "execution_count": 53,
   "metadata": {
    "ExecuteTime": {
     "end_time": "2021-03-15T18:33:47.624189Z",
     "start_time": "2021-03-15T18:33:47.601380Z"
    }
   },
   "outputs": [
    {
     "data": {
      "application/javascript": [
       "\n",
       "        if (window._pyforest_update_imports_cell) { window._pyforest_update_imports_cell('import numpy as np\\nimport pandas as pd'); }\n",
       "    "
      ],
      "text/plain": [
       "<IPython.core.display.Javascript object>"
      ]
     },
     "metadata": {},
     "output_type": "display_data"
    },
    {
     "data": {
      "text/html": [
       "<div>\n",
       "<style scoped>\n",
       "    .dataframe tbody tr th:only-of-type {\n",
       "        vertical-align: middle;\n",
       "    }\n",
       "\n",
       "    .dataframe tbody tr th {\n",
       "        vertical-align: top;\n",
       "    }\n",
       "\n",
       "    .dataframe thead th {\n",
       "        text-align: right;\n",
       "    }\n",
       "</style>\n",
       "<table border=\"1\" class=\"dataframe\">\n",
       "  <thead>\n",
       "    <tr style=\"text-align: right;\">\n",
       "      <th></th>\n",
       "      <th>Feature</th>\n",
       "      <th>Importance</th>\n",
       "    </tr>\n",
       "  </thead>\n",
       "  <tbody>\n",
       "    <tr>\n",
       "      <th>6</th>\n",
       "      <td>Registration</td>\n",
       "      <td>2.3</td>\n",
       "    </tr>\n",
       "    <tr>\n",
       "      <th>3</th>\n",
       "      <td>Unique link clicks</td>\n",
       "      <td>0.2</td>\n",
       "    </tr>\n",
       "    <tr>\n",
       "      <th>5</th>\n",
       "      <td>Post comments</td>\n",
       "      <td>0.12</td>\n",
       "    </tr>\n",
       "    <tr>\n",
       "      <th>1</th>\n",
       "      <td>Cost</td>\n",
       "      <td>0.11</td>\n",
       "    </tr>\n",
       "    <tr>\n",
       "      <th>0</th>\n",
       "      <td>Impressions</td>\n",
       "      <td>0.01</td>\n",
       "    </tr>\n",
       "    <tr>\n",
       "      <th>2</th>\n",
       "      <td>Duration</td>\n",
       "      <td>0.01</td>\n",
       "    </tr>\n",
       "    <tr>\n",
       "      <th>4</th>\n",
       "      <td>Post shares</td>\n",
       "      <td>0.01</td>\n",
       "    </tr>\n",
       "    <tr>\n",
       "      <th>7</th>\n",
       "      <td>CPC</td>\n",
       "      <td>0</td>\n",
       "    </tr>\n",
       "    <tr>\n",
       "      <th>8</th>\n",
       "      <td>CPM</td>\n",
       "      <td>0</td>\n",
       "    </tr>\n",
       "    <tr>\n",
       "      <th>9</th>\n",
       "      <td>CTR</td>\n",
       "      <td>0</td>\n",
       "    </tr>\n",
       "    <tr>\n",
       "      <th>10</th>\n",
       "      <td>CPA</td>\n",
       "      <td>0</td>\n",
       "    </tr>\n",
       "    <tr>\n",
       "      <th>11</th>\n",
       "      <td>CTR_class</td>\n",
       "      <td>0</td>\n",
       "    </tr>\n",
       "  </tbody>\n",
       "</table>\n",
       "</div>"
      ],
      "text/plain": [
       "               Feature Importance\n",
       "6         Registration        2.3\n",
       "3   Unique link clicks        0.2\n",
       "5        Post comments       0.12\n",
       "1                 Cost       0.11\n",
       "0          Impressions       0.01\n",
       "2             Duration       0.01\n",
       "4          Post shares       0.01\n",
       "7                  CPC          0\n",
       "8                  CPM          0\n",
       "9                  CTR          0\n",
       "10                 CPA          0\n",
       "11           CTR_class          0"
      ]
     },
     "execution_count": 53,
     "metadata": {},
     "output_type": "execute_result"
    }
   ],
   "source": [
    "pd.DataFrame(results, columns = [\"Feature\", \"Importance\"])                     \\\n",
    "  .sort_values([\"Importance\"], ascending = False)"
   ]
  },
  {
   "cell_type": "markdown",
   "metadata": {},
   "source": [
    "#### Updated model:"
   ]
  },
  {
   "cell_type": "code",
   "execution_count": 55,
   "metadata": {
    "ExecuteTime": {
     "end_time": "2021-03-15T18:34:21.080180Z",
     "start_time": "2021-03-15T18:34:21.036275Z"
    },
    "scrolled": true
   },
   "outputs": [
    {
     "name": "stdout",
     "output_type": "stream",
     "text": [
      "Score of the model is: 90.7%.\n"
     ]
    }
   ],
   "source": [
    "X_linreg_sales = data_ad[[\"Impressions\", \"Cost\", \"Duration\", \"Unique link clicks\",\n",
    "                          \"Post shares\",  \"Post comments\", \"Registration\"]]\n",
    "y_linreg_sales = data_ad[\"Website purchases\"]\n",
    " \n",
    "X_train, X_test, y_train, y_test = train_test_split(X_linreg_sales, y_linreg_sales, \n",
    "                                                    test_size = 0.3, random_state = 1)\n",
    " \n",
    "lin_model_purchases_updated = LinearRegression()\n",
    " \n",
    "lin_model_purchases_updated.fit(X_train, y_train)\n",
    " \n",
    "print(f\"\"\"Score of the model is: {(lin_model_purchases_updated.score(X_test, y_test)*100).round(2)}%.\"\"\")"
   ]
  },
  {
   "cell_type": "markdown",
   "metadata": {},
   "source": [
    "#### cross_val_predict: "
   ]
  },
  {
   "cell_type": "code",
   "execution_count": 56,
   "metadata": {
    "ExecuteTime": {
     "end_time": "2021-03-15T18:34:22.604121Z",
     "start_time": "2021-03-15T18:34:22.565041Z"
    }
   },
   "outputs": [],
   "source": [
    "y_pred_sales = cross_val_predict(lin_model_purchases_updated, \n",
    "                                 X_linreg_sales, y_linreg_sales, cv = 5)"
   ]
  },
  {
   "cell_type": "code",
   "execution_count": 57,
   "metadata": {
    "ExecuteTime": {
     "end_time": "2021-03-15T18:34:23.411948Z",
     "start_time": "2021-03-15T18:34:23.386810Z"
    }
   },
   "outputs": [
    {
     "data": {
      "application/javascript": [
       "\n",
       "        if (window._pyforest_update_imports_cell) { window._pyforest_update_imports_cell('import numpy as np\\nimport pandas as pd'); }\n",
       "    "
      ],
      "text/plain": [
       "<IPython.core.display.Javascript object>"
      ]
     },
     "metadata": {},
     "output_type": "display_data"
    },
    {
     "data": {
      "text/html": [
       "<div>\n",
       "<style scoped>\n",
       "    .dataframe tbody tr th:only-of-type {\n",
       "        vertical-align: middle;\n",
       "    }\n",
       "\n",
       "    .dataframe tbody tr th {\n",
       "        vertical-align: top;\n",
       "    }\n",
       "\n",
       "    .dataframe thead th {\n",
       "        text-align: right;\n",
       "    }\n",
       "</style>\n",
       "<table border=\"1\" class=\"dataframe\">\n",
       "  <thead>\n",
       "    <tr style=\"text-align: right;\">\n",
       "      <th></th>\n",
       "      <th>y_sales</th>\n",
       "      <th>y_pred_sales</th>\n",
       "      <th>delta</th>\n",
       "    </tr>\n",
       "  </thead>\n",
       "  <tbody>\n",
       "    <tr>\n",
       "      <th>0</th>\n",
       "      <td>2.0</td>\n",
       "      <td>0.628993</td>\n",
       "      <td>1.371007</td>\n",
       "    </tr>\n",
       "    <tr>\n",
       "      <th>1</th>\n",
       "      <td>0.0</td>\n",
       "      <td>0.048745</td>\n",
       "      <td>-0.048745</td>\n",
       "    </tr>\n",
       "    <tr>\n",
       "      <th>2</th>\n",
       "      <td>0.0</td>\n",
       "      <td>-1.494019</td>\n",
       "      <td>1.494019</td>\n",
       "    </tr>\n",
       "  </tbody>\n",
       "</table>\n",
       "</div>"
      ],
      "text/plain": [
       "   y_sales  y_pred_sales     delta\n",
       "0      2.0      0.628993  1.371007\n",
       "1      0.0      0.048745 -0.048745\n",
       "2      0.0     -1.494019  1.494019"
      ]
     },
     "metadata": {},
     "output_type": "display_data"
    },
    {
     "data": {
      "text/plain": [
       "(196, 3)"
      ]
     },
     "execution_count": 57,
     "metadata": {},
     "output_type": "execute_result"
    }
   ],
   "source": [
    "comparision = pd.DataFrame(zip(y_linreg_sales, y_pred_sales), \n",
    "                           columns = [\"y_sales\", \"y_pred_sales\"])\n",
    "comparision[\"delta\"] = comparision.y_sales - comparision.y_pred_sales\n",
    "display(comparision.head(3))\n",
    "comparision.shape"
   ]
  },
  {
   "cell_type": "code",
   "execution_count": 58,
   "metadata": {
    "ExecuteTime": {
     "end_time": "2021-03-15T18:34:26.013073Z",
     "start_time": "2021-03-15T18:34:25.996191Z"
    }
   },
   "outputs": [
    {
     "data": {
      "text/plain": [
       "0.0615022202474161"
      ]
     },
     "execution_count": 58,
     "metadata": {},
     "output_type": "execute_result"
    }
   ],
   "source": [
    "comparision.delta.mean() "
   ]
  },
  {
   "cell_type": "markdown",
   "metadata": {},
   "source": [
    "#### Predictions:"
   ]
  },
  {
   "cell_type": "code",
   "execution_count": 184,
   "metadata": {
    "ExecuteTime": {
     "end_time": "2021-03-15T19:46:15.515383Z",
     "start_time": "2021-03-15T19:46:15.484268Z"
    }
   },
   "outputs": [
    {
     "data": {
      "text/html": [
       "<div>\n",
       "<style scoped>\n",
       "    .dataframe tbody tr th:only-of-type {\n",
       "        vertical-align: middle;\n",
       "    }\n",
       "\n",
       "    .dataframe tbody tr th {\n",
       "        vertical-align: top;\n",
       "    }\n",
       "\n",
       "    .dataframe thead th {\n",
       "        text-align: right;\n",
       "    }\n",
       "</style>\n",
       "<table border=\"1\" class=\"dataframe\">\n",
       "  <thead>\n",
       "    <tr style=\"text-align: right;\">\n",
       "      <th></th>\n",
       "      <th>Impressions</th>\n",
       "      <th>Cost</th>\n",
       "      <th>Duration</th>\n",
       "      <th>Unique link clicks</th>\n",
       "      <th>Post shares</th>\n",
       "      <th>Post comments</th>\n",
       "      <th>Registration</th>\n",
       "      <th>Website purchases</th>\n",
       "      <th>CPC</th>\n",
       "      <th>CPM</th>\n",
       "      <th>CTR</th>\n",
       "      <th>CR</th>\n",
       "      <th>CPA</th>\n",
       "      <th>CTR_class</th>\n",
       "      <th>CR_class</th>\n",
       "    </tr>\n",
       "    <tr>\n",
       "      <th>Ad name</th>\n",
       "      <th></th>\n",
       "      <th></th>\n",
       "      <th></th>\n",
       "      <th></th>\n",
       "      <th></th>\n",
       "      <th></th>\n",
       "      <th></th>\n",
       "      <th></th>\n",
       "      <th></th>\n",
       "      <th></th>\n",
       "      <th></th>\n",
       "      <th></th>\n",
       "      <th></th>\n",
       "      <th></th>\n",
       "      <th></th>\n",
       "    </tr>\n",
       "  </thead>\n",
       "  <tbody>\n",
       "    <tr>\n",
       "      <th>process_carousel</th>\n",
       "      <td>496352.0</td>\n",
       "      <td>4113.25</td>\n",
       "      <td>24</td>\n",
       "      <td>892.0</td>\n",
       "      <td>14.0</td>\n",
       "      <td>27.0</td>\n",
       "      <td>201.0</td>\n",
       "      <td>19.0</td>\n",
       "      <td>4.611267</td>\n",
       "      <td>8.286962</td>\n",
       "      <td>0.001797</td>\n",
       "      <td>0.021300</td>\n",
       "      <td>216.486842</td>\n",
       "      <td>0</td>\n",
       "      <td>1</td>\n",
       "    </tr>\n",
       "    <tr>\n",
       "      <th>Post: \"🦐 Strange additions to the Christmas meal?\"</th>\n",
       "      <td>2287.0</td>\n",
       "      <td>10.00</td>\n",
       "      <td>4</td>\n",
       "      <td>0.0</td>\n",
       "      <td>0.0</td>\n",
       "      <td>13.0</td>\n",
       "      <td>0.0</td>\n",
       "      <td>0.0</td>\n",
       "      <td>0.000000</td>\n",
       "      <td>4.372540</td>\n",
       "      <td>0.000000</td>\n",
       "      <td>0.000000</td>\n",
       "      <td>0.000000</td>\n",
       "      <td>0</td>\n",
       "      <td>0</td>\n",
       "    </tr>\n",
       "    <tr>\n",
       "      <th>selfie-profiles-stylised_carousel</th>\n",
       "      <td>1291548.0</td>\n",
       "      <td>12427.19</td>\n",
       "      <td>134</td>\n",
       "      <td>2581.0</td>\n",
       "      <td>14.0</td>\n",
       "      <td>44.0</td>\n",
       "      <td>379.0</td>\n",
       "      <td>56.0</td>\n",
       "      <td>4.814874</td>\n",
       "      <td>9.621934</td>\n",
       "      <td>0.001998</td>\n",
       "      <td>0.021697</td>\n",
       "      <td>221.914107</td>\n",
       "      <td>0</td>\n",
       "      <td>1</td>\n",
       "    </tr>\n",
       "  </tbody>\n",
       "</table>\n",
       "</div>"
      ],
      "text/plain": [
       "                                                    Impressions      Cost  \\\n",
       "Ad name                                                                     \n",
       "process_carousel                                       496352.0   4113.25   \n",
       "Post: \"🦐 Strange additions to the Christmas meal?\"       2287.0     10.00   \n",
       "selfie-profiles-stylised_carousel                     1291548.0  12427.19   \n",
       "\n",
       "                                                    Duration  \\\n",
       "Ad name                                                        \n",
       "process_carousel                                          24   \n",
       "Post: \"🦐 Strange additions to the Christmas meal?\"         4   \n",
       "selfie-profiles-stylised_carousel                        134   \n",
       "\n",
       "                                                    Unique link clicks  \\\n",
       "Ad name                                                                  \n",
       "process_carousel                                                 892.0   \n",
       "Post: \"🦐 Strange additions to the Christmas meal?\"                 0.0   \n",
       "selfie-profiles-stylised_carousel                               2581.0   \n",
       "\n",
       "                                                    Post shares  \\\n",
       "Ad name                                                           \n",
       "process_carousel                                           14.0   \n",
       "Post: \"🦐 Strange additions to the Christmas meal?\"          0.0   \n",
       "selfie-profiles-stylised_carousel                          14.0   \n",
       "\n",
       "                                                    Post comments  \\\n",
       "Ad name                                                             \n",
       "process_carousel                                             27.0   \n",
       "Post: \"🦐 Strange additions to the Christmas meal?\"           13.0   \n",
       "selfie-profiles-stylised_carousel                            44.0   \n",
       "\n",
       "                                                    Registration  \\\n",
       "Ad name                                                            \n",
       "process_carousel                                           201.0   \n",
       "Post: \"🦐 Strange additions to the Christmas meal?\"           0.0   \n",
       "selfie-profiles-stylised_carousel                          379.0   \n",
       "\n",
       "                                                    Website purchases  \\\n",
       "Ad name                                                                 \n",
       "process_carousel                                                 19.0   \n",
       "Post: \"🦐 Strange additions to the Christmas meal?\"                0.0   \n",
       "selfie-profiles-stylised_carousel                                56.0   \n",
       "\n",
       "                                                         CPC       CPM  \\\n",
       "Ad name                                                                  \n",
       "process_carousel                                    4.611267  8.286962   \n",
       "Post: \"🦐 Strange additions to the Christmas meal?\"  0.000000  4.372540   \n",
       "selfie-profiles-stylised_carousel                   4.814874  9.621934   \n",
       "\n",
       "                                                         CTR        CR  \\\n",
       "Ad name                                                                  \n",
       "process_carousel                                    0.001797  0.021300   \n",
       "Post: \"🦐 Strange additions to the Christmas meal?\"  0.000000  0.000000   \n",
       "selfie-profiles-stylised_carousel                   0.001998  0.021697   \n",
       "\n",
       "                                                           CPA CTR_class  \\\n",
       "Ad name                                                                    \n",
       "process_carousel                                    216.486842         0   \n",
       "Post: \"🦐 Strange additions to the Christmas meal?\"    0.000000         0   \n",
       "selfie-profiles-stylised_carousel                   221.914107         0   \n",
       "\n",
       "                                                   CR_class  \n",
       "Ad name                                                      \n",
       "process_carousel                                          1  \n",
       "Post: \"🦐 Strange additions to the Christmas meal?\"        0  \n",
       "selfie-profiles-stylised_carousel                         1  "
      ]
     },
     "execution_count": 184,
     "metadata": {},
     "output_type": "execute_result"
    }
   ],
   "source": [
    "data_ad.sample(3)"
   ]
  },
  {
   "cell_type": "code",
   "execution_count": 187,
   "metadata": {
    "ExecuteTime": {
     "end_time": "2021-03-15T19:47:12.964542Z",
     "start_time": "2021-03-15T19:47:12.892504Z"
    }
   },
   "outputs": [
    {
     "data": {
      "text/html": [
       "<div>\n",
       "<style scoped>\n",
       "    .dataframe tbody tr th:only-of-type {\n",
       "        vertical-align: middle;\n",
       "    }\n",
       "\n",
       "    .dataframe tbody tr th {\n",
       "        vertical-align: top;\n",
       "    }\n",
       "\n",
       "    .dataframe thead th {\n",
       "        text-align: right;\n",
       "    }\n",
       "</style>\n",
       "<table border=\"1\" class=\"dataframe\">\n",
       "  <thead>\n",
       "    <tr style=\"text-align: right;\">\n",
       "      <th></th>\n",
       "      <th>Impressions</th>\n",
       "      <th>Cost</th>\n",
       "      <th>Duration</th>\n",
       "      <th>Unique link clicks</th>\n",
       "      <th>Post shares</th>\n",
       "      <th>Post comments</th>\n",
       "      <th>Registration</th>\n",
       "      <th>Website purchases</th>\n",
       "      <th>CPC</th>\n",
       "      <th>CPM</th>\n",
       "      <th>CTR</th>\n",
       "      <th>CR</th>\n",
       "      <th>CPA</th>\n",
       "      <th>CTR_class</th>\n",
       "      <th>CR_class</th>\n",
       "    </tr>\n",
       "    <tr>\n",
       "      <th>Ad name</th>\n",
       "      <th></th>\n",
       "      <th></th>\n",
       "      <th></th>\n",
       "      <th></th>\n",
       "      <th></th>\n",
       "      <th></th>\n",
       "      <th></th>\n",
       "      <th></th>\n",
       "      <th></th>\n",
       "      <th></th>\n",
       "      <th></th>\n",
       "      <th></th>\n",
       "      <th></th>\n",
       "      <th></th>\n",
       "      <th></th>\n",
       "    </tr>\n",
       "  </thead>\n",
       "  <tbody>\n",
       "    <tr>\n",
       "      <th>selfie-profiles-organic-outline-blue-bg-paul_static</th>\n",
       "      <td>19358.0</td>\n",
       "      <td>146.60</td>\n",
       "      <td>9</td>\n",
       "      <td>40.0</td>\n",
       "      <td>0.0</td>\n",
       "      <td>0.0</td>\n",
       "      <td>6.0</td>\n",
       "      <td>1.0</td>\n",
       "      <td>3.665000</td>\n",
       "      <td>7.573096</td>\n",
       "      <td>0.002066</td>\n",
       "      <td>0.025000</td>\n",
       "      <td>146.600000</td>\n",
       "      <td>0</td>\n",
       "      <td>1</td>\n",
       "    </tr>\n",
       "    <tr>\n",
       "      <th>upsizing-30s-video_single_w39-2020</th>\n",
       "      <td>196714.0</td>\n",
       "      <td>2032.77</td>\n",
       "      <td>15</td>\n",
       "      <td>738.0</td>\n",
       "      <td>10.0</td>\n",
       "      <td>17.0</td>\n",
       "      <td>22.0</td>\n",
       "      <td>1.0</td>\n",
       "      <td>2.754431</td>\n",
       "      <td>10.333632</td>\n",
       "      <td>0.003752</td>\n",
       "      <td>0.001355</td>\n",
       "      <td>2032.770000</td>\n",
       "      <td>1</td>\n",
       "      <td>1</td>\n",
       "    </tr>\n",
       "    <tr>\n",
       "      <th>chipolata-animatic_video_w39-2020</th>\n",
       "      <td>155478.0</td>\n",
       "      <td>2032.02</td>\n",
       "      <td>15</td>\n",
       "      <td>395.0</td>\n",
       "      <td>2.0</td>\n",
       "      <td>6.0</td>\n",
       "      <td>23.0</td>\n",
       "      <td>3.0</td>\n",
       "      <td>5.144354</td>\n",
       "      <td>13.069502</td>\n",
       "      <td>0.002541</td>\n",
       "      <td>0.007595</td>\n",
       "      <td>677.340000</td>\n",
       "      <td>1</td>\n",
       "      <td>1</td>\n",
       "    </tr>\n",
       "    <tr>\n",
       "      <th>hollywood-60s-pid_video</th>\n",
       "      <td>221239.0</td>\n",
       "      <td>1544.93</td>\n",
       "      <td>12</td>\n",
       "      <td>708.0</td>\n",
       "      <td>6.0</td>\n",
       "      <td>12.0</td>\n",
       "      <td>25.0</td>\n",
       "      <td>6.0</td>\n",
       "      <td>2.182105</td>\n",
       "      <td>6.983082</td>\n",
       "      <td>0.003200</td>\n",
       "      <td>0.008475</td>\n",
       "      <td>257.488333</td>\n",
       "      <td>1</td>\n",
       "      <td>1</td>\n",
       "    </tr>\n",
       "    <tr>\n",
       "      <th>swingers-v2-4:5_video</th>\n",
       "      <td>748400.0</td>\n",
       "      <td>4850.53</td>\n",
       "      <td>312</td>\n",
       "      <td>3077.0</td>\n",
       "      <td>33.0</td>\n",
       "      <td>63.0</td>\n",
       "      <td>132.0</td>\n",
       "      <td>16.0</td>\n",
       "      <td>1.576383</td>\n",
       "      <td>6.481200</td>\n",
       "      <td>0.004111</td>\n",
       "      <td>0.005200</td>\n",
       "      <td>303.158125</td>\n",
       "      <td>1</td>\n",
       "      <td>1</td>\n",
       "    </tr>\n",
       "    <tr>\n",
       "      <th>trustpilot-richard_video</th>\n",
       "      <td>173239.0</td>\n",
       "      <td>2945.97</td>\n",
       "      <td>242</td>\n",
       "      <td>1231.0</td>\n",
       "      <td>6.0</td>\n",
       "      <td>40.0</td>\n",
       "      <td>79.0</td>\n",
       "      <td>25.0</td>\n",
       "      <td>2.393152</td>\n",
       "      <td>17.005236</td>\n",
       "      <td>0.007106</td>\n",
       "      <td>0.020309</td>\n",
       "      <td>117.838800</td>\n",
       "      <td>1</td>\n",
       "      <td>1</td>\n",
       "    </tr>\n",
       "    <tr>\n",
       "      <th>selfie-profiles-stylised_carousel</th>\n",
       "      <td>1291548.0</td>\n",
       "      <td>12427.19</td>\n",
       "      <td>134</td>\n",
       "      <td>2581.0</td>\n",
       "      <td>14.0</td>\n",
       "      <td>44.0</td>\n",
       "      <td>379.0</td>\n",
       "      <td>56.0</td>\n",
       "      <td>4.814874</td>\n",
       "      <td>9.621934</td>\n",
       "      <td>0.001998</td>\n",
       "      <td>0.021697</td>\n",
       "      <td>221.914107</td>\n",
       "      <td>0</td>\n",
       "      <td>1</td>\n",
       "    </tr>\n",
       "  </tbody>\n",
       "</table>\n",
       "</div>"
      ],
      "text/plain": [
       "                                                    Impressions      Cost  \\\n",
       "Ad name                                                                     \n",
       "selfie-profiles-organic-outline-blue-bg-paul_st...      19358.0    146.60   \n",
       "upsizing-30s-video_single_w39-2020                     196714.0   2032.77   \n",
       "chipolata-animatic_video_w39-2020                      155478.0   2032.02   \n",
       "hollywood-60s-pid_video                                221239.0   1544.93   \n",
       "swingers-v2-4:5_video                                  748400.0   4850.53   \n",
       "trustpilot-richard_video                               173239.0   2945.97   \n",
       "selfie-profiles-stylised_carousel                     1291548.0  12427.19   \n",
       "\n",
       "                                                    Duration  \\\n",
       "Ad name                                                        \n",
       "selfie-profiles-organic-outline-blue-bg-paul_st...         9   \n",
       "upsizing-30s-video_single_w39-2020                        15   \n",
       "chipolata-animatic_video_w39-2020                         15   \n",
       "hollywood-60s-pid_video                                   12   \n",
       "swingers-v2-4:5_video                                    312   \n",
       "trustpilot-richard_video                                 242   \n",
       "selfie-profiles-stylised_carousel                        134   \n",
       "\n",
       "                                                    Unique link clicks  \\\n",
       "Ad name                                                                  \n",
       "selfie-profiles-organic-outline-blue-bg-paul_st...                40.0   \n",
       "upsizing-30s-video_single_w39-2020                               738.0   \n",
       "chipolata-animatic_video_w39-2020                                395.0   \n",
       "hollywood-60s-pid_video                                          708.0   \n",
       "swingers-v2-4:5_video                                           3077.0   \n",
       "trustpilot-richard_video                                        1231.0   \n",
       "selfie-profiles-stylised_carousel                               2581.0   \n",
       "\n",
       "                                                    Post shares  \\\n",
       "Ad name                                                           \n",
       "selfie-profiles-organic-outline-blue-bg-paul_st...          0.0   \n",
       "upsizing-30s-video_single_w39-2020                         10.0   \n",
       "chipolata-animatic_video_w39-2020                           2.0   \n",
       "hollywood-60s-pid_video                                     6.0   \n",
       "swingers-v2-4:5_video                                      33.0   \n",
       "trustpilot-richard_video                                    6.0   \n",
       "selfie-profiles-stylised_carousel                          14.0   \n",
       "\n",
       "                                                    Post comments  \\\n",
       "Ad name                                                             \n",
       "selfie-profiles-organic-outline-blue-bg-paul_st...            0.0   \n",
       "upsizing-30s-video_single_w39-2020                           17.0   \n",
       "chipolata-animatic_video_w39-2020                             6.0   \n",
       "hollywood-60s-pid_video                                      12.0   \n",
       "swingers-v2-4:5_video                                        63.0   \n",
       "trustpilot-richard_video                                     40.0   \n",
       "selfie-profiles-stylised_carousel                            44.0   \n",
       "\n",
       "                                                    Registration  \\\n",
       "Ad name                                                            \n",
       "selfie-profiles-organic-outline-blue-bg-paul_st...           6.0   \n",
       "upsizing-30s-video_single_w39-2020                          22.0   \n",
       "chipolata-animatic_video_w39-2020                           23.0   \n",
       "hollywood-60s-pid_video                                     25.0   \n",
       "swingers-v2-4:5_video                                      132.0   \n",
       "trustpilot-richard_video                                    79.0   \n",
       "selfie-profiles-stylised_carousel                          379.0   \n",
       "\n",
       "                                                    Website purchases  \\\n",
       "Ad name                                                                 \n",
       "selfie-profiles-organic-outline-blue-bg-paul_st...                1.0   \n",
       "upsizing-30s-video_single_w39-2020                                1.0   \n",
       "chipolata-animatic_video_w39-2020                                 3.0   \n",
       "hollywood-60s-pid_video                                           6.0   \n",
       "swingers-v2-4:5_video                                            16.0   \n",
       "trustpilot-richard_video                                         25.0   \n",
       "selfie-profiles-stylised_carousel                                56.0   \n",
       "\n",
       "                                                         CPC        CPM  \\\n",
       "Ad name                                                                   \n",
       "selfie-profiles-organic-outline-blue-bg-paul_st...  3.665000   7.573096   \n",
       "upsizing-30s-video_single_w39-2020                  2.754431  10.333632   \n",
       "chipolata-animatic_video_w39-2020                   5.144354  13.069502   \n",
       "hollywood-60s-pid_video                             2.182105   6.983082   \n",
       "swingers-v2-4:5_video                               1.576383   6.481200   \n",
       "trustpilot-richard_video                            2.393152  17.005236   \n",
       "selfie-profiles-stylised_carousel                   4.814874   9.621934   \n",
       "\n",
       "                                                         CTR        CR  \\\n",
       "Ad name                                                                  \n",
       "selfie-profiles-organic-outline-blue-bg-paul_st...  0.002066  0.025000   \n",
       "upsizing-30s-video_single_w39-2020                  0.003752  0.001355   \n",
       "chipolata-animatic_video_w39-2020                   0.002541  0.007595   \n",
       "hollywood-60s-pid_video                             0.003200  0.008475   \n",
       "swingers-v2-4:5_video                               0.004111  0.005200   \n",
       "trustpilot-richard_video                            0.007106  0.020309   \n",
       "selfie-profiles-stylised_carousel                   0.001998  0.021697   \n",
       "\n",
       "                                                            CPA CTR_class  \\\n",
       "Ad name                                                                     \n",
       "selfie-profiles-organic-outline-blue-bg-paul_st...   146.600000         0   \n",
       "upsizing-30s-video_single_w39-2020                  2032.770000         1   \n",
       "chipolata-animatic_video_w39-2020                    677.340000         1   \n",
       "hollywood-60s-pid_video                              257.488333         1   \n",
       "swingers-v2-4:5_video                                303.158125         1   \n",
       "trustpilot-richard_video                             117.838800         1   \n",
       "selfie-profiles-stylised_carousel                    221.914107         0   \n",
       "\n",
       "                                                   CR_class  \n",
       "Ad name                                                      \n",
       "selfie-profiles-organic-outline-blue-bg-paul_st...        1  \n",
       "upsizing-30s-video_single_w39-2020                        1  \n",
       "chipolata-animatic_video_w39-2020                         1  \n",
       "hollywood-60s-pid_video                                   1  \n",
       "swingers-v2-4:5_video                                     1  \n",
       "trustpilot-richard_video                                  1  \n",
       "selfie-profiles-stylised_carousel                         1  "
      ]
     },
     "metadata": {},
     "output_type": "display_data"
    },
    {
     "name": "stdout",
     "output_type": "stream",
     "text": [
      "[ 1.   2.2  2.4  3.3 27.8 16.9 52.8]\n"
     ]
    }
   ],
   "source": [
    "#Find ads so we can define \"realistic\" test ads:\n",
    "\n",
    "#test_ads = data_ad.loc[[\"trustpilot-richard_video\", \"hollywood-60s-pid_video\"], \n",
    "#                      \"Impressions\" : \"Registration\"] \n",
    "\n",
    "ads = data_ad.loc[[\"selfie-profiles-organic-outline-blue-bg-paul_static\", \n",
    "                   \"upsizing-30s-video_single_w39-2020\", \n",
    "                   \"chipolata-animatic_video_w39-2020\", \n",
    "                   \"hollywood-60s-pid_video\", \"swingers-v2-4:5_video\", \n",
    "                   \"trustpilot-richard_video\", \"selfie-profiles-stylised_carousel\"],\n",
    "                  :]\n",
    "\n",
    "test_ads = data_ad.loc[[\"selfie-profiles-organic-outline-blue-bg-paul_static\", \n",
    "                        \"upsizing-30s-video_single_w39-2020\", \n",
    "                        \"chipolata-animatic_video_w39-2020\", \"hollywood-60s-pid_video\", \n",
    "                        \"swingers-v2-4:5_video\", \"trustpilot-richard_video\", \n",
    "                        \"selfie-profiles-stylised_carousel\"], \n",
    "                       \"Impressions\" : \"Registration\"] \n",
    "\n",
    "display(ads)\n",
    "print(lin_model_purchases_updated.predict(test_ads).round(1)) "
   ]
  },
  {
   "cell_type": "code",
   "execution_count": 194,
   "metadata": {
    "ExecuteTime": {
     "end_time": "2021-03-15T19:50:18.975325Z",
     "start_time": "2021-03-15T19:50:18.955767Z"
    }
   },
   "outputs": [
    {
     "name": "stdout",
     "output_type": "stream",
     "text": [
      "[4.6]\n"
     ]
    }
   ],
   "source": [
    "test_ad_2 = data_ad.loc[[\"upsizing-30s-video_single_w39-2020\"], \n",
    "                        \"Impressions\" : \"Registration\"]\n",
    "\n",
    "print(lin_model_purchases_updated.predict(test_ad_4 * 2).round(1)) "
   ]
  },
  {
   "cell_type": "code",
   "execution_count": 195,
   "metadata": {
    "ExecuteTime": {
     "end_time": "2021-03-15T19:50:19.326430Z",
     "start_time": "2021-03-15T19:50:19.313220Z"
    }
   },
   "outputs": [
    {
     "name": "stdout",
     "output_type": "stream",
     "text": [
      "The predicted number of Website Purchases of test_ad_1 is: 4.9\n"
     ]
    }
   ],
   "source": [
    "test_ad_3 = data_ad.loc[[\"chipolata-animatic_video_w39-2020\"], \n",
    "                        \"Impressions\" : \"Registration\"]\n",
    "print(f\"The predicted number of Website Purchases of test_ad_1 is:\",  \n",
    "      lin_model_purchases_updated.predict(test_ad_1 * 2).round(1)[0])"
   ]
  },
  {
   "cell_type": "code",
   "execution_count": 196,
   "metadata": {
    "ExecuteTime": {
     "end_time": "2021-03-15T19:50:20.699890Z",
     "start_time": "2021-03-15T19:50:20.679827Z"
    },
    "scrolled": true
   },
   "outputs": [
    {
     "name": "stdout",
     "output_type": "stream",
     "text": [
      "[16.9]\n"
     ]
    }
   ],
   "source": [
    "# \"Impressions\", \"Cost\", \"Duration\", \"Unique link clicks\", \n",
    "# \"Post shares\",  \"Post comments\", \"Registration\" \n",
    " \n",
    "test_ad_5 = data_ad.loc[[\"trustpilot-richard_video\"], \"Impressions\" : \"Registration\"]\n",
    "\n",
    "print(lin_model_purchases_updated.predict(test_ad_5).round(1)) "
   ]
  },
  {
   "cell_type": "code",
   "execution_count": null,
   "metadata": {},
   "outputs": [],
   "source": []
  }
 ],
 "metadata": {
  "kernelspec": {
   "display_name": "Python 3",
   "language": "python",
   "name": "python3"
  },
  "language_info": {
   "codemirror_mode": {
    "name": "ipython",
    "version": 3
   },
   "file_extension": ".py",
   "mimetype": "text/x-python",
   "name": "python",
   "nbconvert_exporter": "python",
   "pygments_lexer": "ipython3",
   "version": "3.7.7"
  },
  "toc": {
   "base_numbering": 1,
   "nav_menu": {},
   "number_sections": true,
   "sideBar": true,
   "skip_h1_title": false,
   "title_cell": "Table of Contents",
   "title_sidebar": "Contents",
   "toc_cell": true,
   "toc_position": {
    "height": "calc(100% - 180px)",
    "left": "10px",
    "top": "150px",
    "width": "254px"
   },
   "toc_section_display": true,
   "toc_window_display": true
  }
 },
 "nbformat": 4,
 "nbformat_minor": 4
}
