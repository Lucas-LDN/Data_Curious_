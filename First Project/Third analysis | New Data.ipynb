{
 "cells": [
  {
   "cell_type": "markdown",
   "metadata": {
    "toc": true
   },
   "source": [
    "<h1>Table of Contents<span class=\"tocSkip\"></span></h1>\n",
    "<div class=\"toc\"><ul class=\"toc-item\"><li><span><a href=\"#Data:\" data-toc-modified-id=\"Data:-1\"><span class=\"toc-item-num\">1&nbsp;&nbsp;</span>Data:</a></span><ul class=\"toc-item\"><li><span><a href=\"#Load-data:\" data-toc-modified-id=\"Load-data:-1.1\"><span class=\"toc-item-num\">1.1&nbsp;&nbsp;</span>Load data:</a></span></li><li><span><a href=\"#Group-the-data:\" data-toc-modified-id=\"Group-the-data:-1.2\"><span class=\"toc-item-num\">1.2&nbsp;&nbsp;</span>Group the data:</a></span><ul class=\"toc-item\"><li><span><a href=\"#data_daily:\" data-toc-modified-id=\"data_daily:-1.2.1\"><span class=\"toc-item-num\">1.2.1&nbsp;&nbsp;</span>data_daily:</a></span></li><li><span><a href=\"#data_ad:\" data-toc-modified-id=\"data_ad:-1.2.2\"><span class=\"toc-item-num\">1.2.2&nbsp;&nbsp;</span>data_ad:</a></span></li><li><span><a href=\"#Split-into-train,-test:\" data-toc-modified-id=\"Split-into-train,-test:-1.2.3\"><span class=\"toc-item-num\">1.2.3&nbsp;&nbsp;</span>Split into train, test:</a></span></li></ul></li><li><span><a href=\"#Scale-Data\" data-toc-modified-id=\"Scale-Data-1.3\"><span class=\"toc-item-num\">1.3&nbsp;&nbsp;</span>Scale Data</a></span><ul class=\"toc-item\"><li><span><a href=\"#data-(into-data_scaled):\" data-toc-modified-id=\"data-(into-data_scaled):-1.3.1\"><span class=\"toc-item-num\">1.3.1&nbsp;&nbsp;</span>data (into data_scaled):</a></span></li><li><span><a href=\"#data_daily:\" data-toc-modified-id=\"data_daily:-1.3.2\"><span class=\"toc-item-num\">1.3.2&nbsp;&nbsp;</span>data_daily:</a></span></li><li><span><a href=\"#data_ad:\" data-toc-modified-id=\"data_ad:-1.3.3\"><span class=\"toc-item-num\">1.3.3&nbsp;&nbsp;</span>data_ad:</a></span></li></ul></li></ul></li><li><span><a href=\"#KMeans:\" data-toc-modified-id=\"KMeans:-2\"><span class=\"toc-item-num\">2&nbsp;&nbsp;</span>KMeans:</a></span><ul class=\"toc-item\"><li><span><a href=\"#KNN---KNeighborsRegressor\" data-toc-modified-id=\"KNN---KNeighborsRegressor-2.1\"><span class=\"toc-item-num\">2.1&nbsp;&nbsp;</span>KNN - KNeighborsRegressor</a></span><ul class=\"toc-item\"><li><span><a href=\"#data_ad:\" data-toc-modified-id=\"data_ad:-2.1.1\"><span class=\"toc-item-num\">2.1.1&nbsp;&nbsp;</span>data_ad:</a></span><ul class=\"toc-item\"><li><span><a href=\"#Baseline-KNN-Model-(Day-5,-Week-4)\" data-toc-modified-id=\"Baseline-KNN-Model-(Day-5,-Week-4)-2.1.1.1\"><span class=\"toc-item-num\">2.1.1.1&nbsp;&nbsp;</span>Baseline KNN Model (Day 5, Week 4)</a></span></li><li><span><a href=\"#GridSearchCV-(Day-5,-Week-4)\" data-toc-modified-id=\"GridSearchCV-(Day-5,-Week-4)-2.1.1.2\"><span class=\"toc-item-num\">2.1.1.2&nbsp;&nbsp;</span>GridSearchCV (Day 5, Week 4)</a></span></li><li><span><a href=\"#Multiple-Params-(Day-5,-Week-4):\" data-toc-modified-id=\"Multiple-Params-(Day-5,-Week-4):-2.1.1.3\"><span class=\"toc-item-num\">2.1.1.3&nbsp;&nbsp;</span>Multiple Params (Day 5, Week 4):</a></span></li><li><span><a href=\"#RandomizedSearchCV-(Day-5,-Week-4)\" data-toc-modified-id=\"RandomizedSearchCV-(Day-5,-Week-4)-2.1.1.4\"><span class=\"toc-item-num\">2.1.1.4&nbsp;&nbsp;</span>RandomizedSearchCV (Day 5, Week 4)</a></span></li><li><span><a href=\"#Take-the-best-model-and-generalise-(Day-5,-Week-4):\" data-toc-modified-id=\"Take-the-best-model-and-generalise-(Day-5,-Week-4):-2.1.1.5\"><span class=\"toc-item-num\">2.1.1.5&nbsp;&nbsp;</span>Take the best model and generalise (Day 5, Week 4):</a></span></li><li><span><a href=\"#cross_val_predict:\" data-toc-modified-id=\"cross_val_predict:-2.1.1.6\"><span class=\"toc-item-num\">2.1.1.6&nbsp;&nbsp;</span>cross_val_predict:</a></span></li></ul></li></ul></li><li><span><a href=\"#KMeans-Clustering\" data-toc-modified-id=\"KMeans-Clustering-2.2\"><span class=\"toc-item-num\">2.2&nbsp;&nbsp;</span>KMeans Clustering</a></span><ul class=\"toc-item\"><li><span><a href=\"#Elbow:\" data-toc-modified-id=\"Elbow:-2.2.1\"><span class=\"toc-item-num\">2.2.1&nbsp;&nbsp;</span>Elbow:</a></span></li><li><span><a href=\"#Pairplots:\" data-toc-modified-id=\"Pairplots:-2.2.2\"><span class=\"toc-item-num\">2.2.2&nbsp;&nbsp;</span>Pairplots:</a></span></li></ul></li></ul></li><li><span><a href=\"#Lin-Reg-/-Regression:\" data-toc-modified-id=\"Lin-Reg-/-Regression:-3\"><span class=\"toc-item-num\">3&nbsp;&nbsp;</span>Lin Reg / Regression:</a></span><ul class=\"toc-item\"><li><span><a href=\"#data_ad\" data-toc-modified-id=\"data_ad-3.1\"><span class=\"toc-item-num\">3.1&nbsp;&nbsp;</span>data_ad</a></span><ul class=\"toc-item\"><li><span><a href=\"#Predict-Unique-link-clicks:\" data-toc-modified-id=\"Predict-Unique-link-clicks:-3.1.1\"><span class=\"toc-item-num\">3.1.1&nbsp;&nbsp;</span>Predict Unique link clicks:</a></span><ul class=\"toc-item\"><li><span><a href=\"#Base-Model:\" data-toc-modified-id=\"Base-Model:-3.1.1.1\"><span class=\"toc-item-num\">3.1.1.1&nbsp;&nbsp;</span>Base Model:</a></span></li><li><span><a href=\"#Updated-model:\" data-toc-modified-id=\"Updated-model:-3.1.1.2\"><span class=\"toc-item-num\">3.1.1.2&nbsp;&nbsp;</span>Updated model:</a></span></li><li><span><a href=\"#cross_val_predict:\" data-toc-modified-id=\"cross_val_predict:-3.1.1.3\"><span class=\"toc-item-num\">3.1.1.3&nbsp;&nbsp;</span>cross_val_predict:</a></span></li></ul></li><li><span><a href=\"#Predict-Website-purchases:\" data-toc-modified-id=\"Predict-Website-purchases:-3.1.2\"><span class=\"toc-item-num\">3.1.2&nbsp;&nbsp;</span>Predict Website purchases:</a></span><ul class=\"toc-item\"><li><span><a href=\"#Base-model:\" data-toc-modified-id=\"Base-model:-3.1.2.1\"><span class=\"toc-item-num\">3.1.2.1&nbsp;&nbsp;</span>Base model:</a></span></li><li><span><a href=\"#Updated-model:\" data-toc-modified-id=\"Updated-model:-3.1.2.2\"><span class=\"toc-item-num\">3.1.2.2&nbsp;&nbsp;</span>Updated model:</a></span></li><li><span><a href=\"#cross_val_predict:\" data-toc-modified-id=\"cross_val_predict:-3.1.2.3\"><span class=\"toc-item-num\">3.1.2.3&nbsp;&nbsp;</span>cross_val_predict:</a></span></li><li><span><a href=\"#Predictions:\" data-toc-modified-id=\"Predictions:-3.1.2.4\"><span class=\"toc-item-num\">3.1.2.4&nbsp;&nbsp;</span>Predictions:</a></span></li><li><span><a href=\"#Updated-model-w/-registration-CR:\" data-toc-modified-id=\"Updated-model-w/-registration-CR:-3.1.2.5\"><span class=\"toc-item-num\">3.1.2.5&nbsp;&nbsp;</span>Updated model w/ registration CR:</a></span><ul class=\"toc-item\"><li><span><a href=\"#cross_val_predict:\" data-toc-modified-id=\"cross_val_predict:-3.1.2.5.1\"><span class=\"toc-item-num\">3.1.2.5.1&nbsp;&nbsp;</span>cross_val_predict:</a></span></li><li><span><a href=\"#Predictions:\" data-toc-modified-id=\"Predictions:-3.1.2.5.2\"><span class=\"toc-item-num\">3.1.2.5.2&nbsp;&nbsp;</span>Predictions:</a></span></li></ul></li></ul></li></ul></li><li><span><a href=\"#data_ad_scaled:\" data-toc-modified-id=\"data_ad_scaled:-3.2\"><span class=\"toc-item-num\">3.2&nbsp;&nbsp;</span>data_ad_scaled:</a></span><ul class=\"toc-item\"><li><span><a href=\"#base-model:\" data-toc-modified-id=\"base-model:-3.2.1\"><span class=\"toc-item-num\">3.2.1&nbsp;&nbsp;</span>base model:</a></span></li></ul></li></ul></li><li><span><a href=\"#Log-Reg-/-Classification:\" data-toc-modified-id=\"Log-Reg-/-Classification:-4\"><span class=\"toc-item-num\">4&nbsp;&nbsp;</span>Log Reg / Classification:</a></span><ul class=\"toc-item\"><li><span><a href=\"#Log-Reg:\" data-toc-modified-id=\"Log-Reg:-4.1\"><span class=\"toc-item-num\">4.1&nbsp;&nbsp;</span>Log Reg:</a></span><ul class=\"toc-item\"><li><span><a href=\"#Predict-CTR_Class:\" data-toc-modified-id=\"Predict-CTR_Class:-4.1.1\"><span class=\"toc-item-num\">4.1.1&nbsp;&nbsp;</span>Predict CTR_Class:</a></span></li><li><span><a href=\"#Predict-CR_Class:\" data-toc-modified-id=\"Predict-CR_Class:-4.1.2\"><span class=\"toc-item-num\">4.1.2&nbsp;&nbsp;</span>Predict CR_Class:</a></span></li></ul></li><li><span><a href=\"#LogReg-w/:-pipe,-grid-&amp;-Pre-Processor-Tuning\" data-toc-modified-id=\"LogReg-w/:-pipe,-grid-&amp;-Pre-Processor-Tuning-4.2\"><span class=\"toc-item-num\">4.2&nbsp;&nbsp;</span>LogReg w/: pipe, grid &amp; Pre-Processor Tuning</a></span><ul class=\"toc-item\"><li><span><a href=\"#data_ad:\" data-toc-modified-id=\"data_ad:-4.2.1\"><span class=\"toc-item-num\">4.2.1&nbsp;&nbsp;</span>data_ad:</a></span></li><li><span><a href=\"#data_daily:\" data-toc-modified-id=\"data_daily:-4.2.2\"><span class=\"toc-item-num\">4.2.2&nbsp;&nbsp;</span>data_daily:</a></span></li></ul></li><li><span><a href=\"#Regularisation:\" data-toc-modified-id=\"Regularisation:-4.3\"><span class=\"toc-item-num\">4.3&nbsp;&nbsp;</span>Regularisation:</a></span><ul class=\"toc-item\"><li><span><a href=\"#Base-Model:\" data-toc-modified-id=\"Base-Model:-4.3.1\"><span class=\"toc-item-num\">4.3.1&nbsp;&nbsp;</span>Base Model:</a></span></li><li><span><a href=\"#L2-Penalty:\" data-toc-modified-id=\"L2-Penalty:-4.3.2\"><span class=\"toc-item-num\">4.3.2&nbsp;&nbsp;</span>L2 Penalty:</a></span></li><li><span><a href=\"#L1-Penalty:\" data-toc-modified-id=\"L1-Penalty:-4.3.3\"><span class=\"toc-item-num\">4.3.3&nbsp;&nbsp;</span>L1 Penalty:</a></span></li></ul></li><li><span><a href=\"#SVM:\" data-toc-modified-id=\"SVM:-4.4\"><span class=\"toc-item-num\">4.4&nbsp;&nbsp;</span>SVM:</a></span><ul class=\"toc-item\"><li><span><a href=\"#plot_decision_regions():\" data-toc-modified-id=\"plot_decision_regions():-4.4.1\"><span class=\"toc-item-num\">4.4.1&nbsp;&nbsp;</span>plot_decision_regions():</a></span></li><li><span><a href=\"#Random-Search-(SVM,-Day-5,-Week-4)\" data-toc-modified-id=\"Random-Search-(SVM,-Day-5,-Week-4)-4.4.2\"><span class=\"toc-item-num\">4.4.2&nbsp;&nbsp;</span>Random Search (SVM, Day 5, Week 4)</a></span></li><li><span><a href=\"#Gridsearch-/-SVC:\" data-toc-modified-id=\"Gridsearch-/-SVC:-4.4.3\"><span class=\"toc-item-num\">4.4.3&nbsp;&nbsp;</span>Gridsearch / SVC:</a></span><ul class=\"toc-item\"><li><span><a href=\"#Predict-CTR_class:\" data-toc-modified-id=\"Predict-CTR_class:-4.4.3.1\"><span class=\"toc-item-num\">4.4.3.1&nbsp;&nbsp;</span>Predict CTR_class:</a></span></li><li><span><a href=\"#Predict-CR_class\" data-toc-modified-id=\"Predict-CR_class-4.4.3.2\"><span class=\"toc-item-num\">4.4.3.2&nbsp;&nbsp;</span>Predict CR_class</a></span></li><li><span><a href=\"#Make-CR_class-predictions:\" data-toc-modified-id=\"Make-CR_class-predictions:-4.4.3.3\"><span class=\"toc-item-num\">4.4.3.3&nbsp;&nbsp;</span>Make CR_class predictions:</a></span></li></ul></li><li><span><a href=\"#Pipeline-(incl-KNN):\" data-toc-modified-id=\"Pipeline-(incl-KNN):-4.4.4\"><span class=\"toc-item-num\">4.4.4&nbsp;&nbsp;</span>Pipeline (incl KNN):</a></span></li><li><span><a href=\"#RandomizedSearch,-Pipeline-Tuning:\" data-toc-modified-id=\"RandomizedSearch,-Pipeline-Tuning:-4.4.5\"><span class=\"toc-item-num\">4.4.5&nbsp;&nbsp;</span>RandomizedSearch, Pipeline Tuning:</a></span><ul class=\"toc-item\"><li><span><a href=\"#data_ad\" data-toc-modified-id=\"data_ad-4.4.5.1\"><span class=\"toc-item-num\">4.4.5.1&nbsp;&nbsp;</span>data_ad</a></span></li><li><span><a href=\"#data_daily:\" data-toc-modified-id=\"data_daily:-4.4.5.2\"><span class=\"toc-item-num\">4.4.5.2&nbsp;&nbsp;</span>data_daily:</a></span></li></ul></li></ul></li></ul></li></ul></div>"
   ]
  },
  {
   "cell_type": "code",
   "execution_count": 27,
   "metadata": {
    "ExecuteTime": {
     "end_time": "2021-03-26T18:18:30.933242Z",
     "start_time": "2021-03-26T18:18:30.925693Z"
    }
   },
   "outputs": [],
   "source": [
    "import pyforest\n",
    "from sklearn.svm import SVC\n",
    "from sklearn.pipeline import Pipeline\n",
    "from sklearn.model_selection import GridSearchCV, RandomizedSearchCV, cross_val_score, cross_val_predict\n",
    "from sklearn.metrics import classification_report\n",
    "from sklearn.neighbors import KNeighborsClassifier\n",
    "from sklearn.inspection import permutation_importance\n",
    "from sklearn.impute import SimpleImputer\n",
    "from sklearn.svm import SVC\n",
    "from scipy.stats import uniform\n",
    "from sklearn.preprocessing import MinMaxScaler, StandardScaler"
   ]
  },
  {
   "cell_type": "markdown",
   "metadata": {},
   "source": [
    "# Data:  "
   ]
  },
  {
   "cell_type": "markdown",
   "metadata": {},
   "source": [
    "## Load data: "
   ]
  },
  {
   "cell_type": "code",
   "execution_count": 2,
   "metadata": {
    "ExecuteTime": {
     "end_time": "2021-03-26T18:13:17.794197Z",
     "start_time": "2021-03-26T18:13:16.907916Z"
    }
   },
   "outputs": [
    {
     "data": {
      "application/javascript": [
       "\n",
       "        if (window._pyforest_update_imports_cell) { window._pyforest_update_imports_cell('import pandas as pd'); }\n",
       "    "
      ],
      "text/plain": [
       "<IPython.core.display.Javascript object>"
      ]
     },
     "metadata": {},
     "output_type": "display_data"
    },
    {
     "data": {
      "text/html": [
       "<div>\n",
       "<style scoped>\n",
       "    .dataframe tbody tr th:only-of-type {\n",
       "        vertical-align: middle;\n",
       "    }\n",
       "\n",
       "    .dataframe tbody tr th {\n",
       "        vertical-align: top;\n",
       "    }\n",
       "\n",
       "    .dataframe thead th {\n",
       "        text-align: right;\n",
       "    }\n",
       "</style>\n",
       "<table border=\"1\" class=\"dataframe\">\n",
       "  <thead>\n",
       "    <tr style=\"text-align: right;\">\n",
       "      <th></th>\n",
       "      <th>Date</th>\n",
       "      <th>Ad set name</th>\n",
       "      <th>Ad name</th>\n",
       "      <th>Campaign name</th>\n",
       "      <th>Impressions</th>\n",
       "      <th>Cost</th>\n",
       "      <th>Website purchases</th>\n",
       "      <th>Cost per website purchase</th>\n",
       "      <th>CPC (cost per link click)</th>\n",
       "      <th>CTR (link click-through rate)</th>\n",
       "      <th>...</th>\n",
       "      <th>Unique adds to cart</th>\n",
       "      <th>Website leads</th>\n",
       "      <th>Unique link clicks</th>\n",
       "      <th>Unique mobile app adds of payment info</th>\n",
       "      <th>Conversion rate ranking</th>\n",
       "      <th>Post shares</th>\n",
       "      <th>Return on ad spend (ROAS)</th>\n",
       "      <th>Unique completed registrations</th>\n",
       "      <th>Post comments</th>\n",
       "      <th>Impressions_2</th>\n",
       "    </tr>\n",
       "  </thead>\n",
       "  <tbody>\n",
       "    <tr>\n",
       "      <th>0</th>\n",
       "      <td>2020-08-01</td>\n",
       "      <td>Post: \"\"Here lies DeadHappy. It was a bit of a...</td>\n",
       "      <td>Post: \"\"Here lies DeadHappy. It was a bit of a...</td>\n",
       "      <td>Post: \"\"Here lies DeadHappy. It was a bit of a...</td>\n",
       "      <td>350.0</td>\n",
       "      <td>3.18</td>\n",
       "      <td>NaN</td>\n",
       "      <td>NaN</td>\n",
       "      <td>NaN</td>\n",
       "      <td>0.00</td>\n",
       "      <td>...</td>\n",
       "      <td>NaN</td>\n",
       "      <td>NaN</td>\n",
       "      <td>NaN</td>\n",
       "      <td>NaN</td>\n",
       "      <td>0.0</td>\n",
       "      <td>NaN</td>\n",
       "      <td>0.0</td>\n",
       "      <td>NaN</td>\n",
       "      <td>6.0</td>\n",
       "      <td>350.0</td>\n",
       "    </tr>\n",
       "    <tr>\n",
       "      <th>1</th>\n",
       "      <td>2020-08-01</td>\n",
       "      <td>customers-ll-1pc_all-placements</td>\n",
       "      <td>bread-4:5_video</td>\n",
       "      <td>pollenary_1-cold_wc-registration_uk-ll-1pc-25-44</td>\n",
       "      <td>16008.0</td>\n",
       "      <td>143.22</td>\n",
       "      <td>NaN</td>\n",
       "      <td>NaN</td>\n",
       "      <td>2.2</td>\n",
       "      <td>0.41</td>\n",
       "      <td>...</td>\n",
       "      <td>NaN</td>\n",
       "      <td>NaN</td>\n",
       "      <td>64.0</td>\n",
       "      <td>NaN</td>\n",
       "      <td>0.0</td>\n",
       "      <td>1.0</td>\n",
       "      <td>0.0</td>\n",
       "      <td>NaN</td>\n",
       "      <td>3.0</td>\n",
       "      <td>16008.0</td>\n",
       "    </tr>\n",
       "  </tbody>\n",
       "</table>\n",
       "<p>2 rows × 23 columns</p>\n",
       "</div>"
      ],
      "text/plain": [
       "         Date                                        Ad set name  \\\n",
       "0  2020-08-01  Post: \"\"Here lies DeadHappy. It was a bit of a...   \n",
       "1  2020-08-01                    customers-ll-1pc_all-placements   \n",
       "\n",
       "                                             Ad name  \\\n",
       "0  Post: \"\"Here lies DeadHappy. It was a bit of a...   \n",
       "1                                    bread-4:5_video   \n",
       "\n",
       "                                       Campaign name  Impressions    Cost  \\\n",
       "0  Post: \"\"Here lies DeadHappy. It was a bit of a...        350.0    3.18   \n",
       "1   pollenary_1-cold_wc-registration_uk-ll-1pc-25-44      16008.0  143.22   \n",
       "\n",
       "   Website purchases  Cost per website purchase  CPC (cost per link click)  \\\n",
       "0                NaN                        NaN                        NaN   \n",
       "1                NaN                        NaN                        2.2   \n",
       "\n",
       "   CTR (link click-through rate)  ...  Unique adds to cart  Website leads  \\\n",
       "0                           0.00  ...                  NaN            NaN   \n",
       "1                           0.41  ...                  NaN            NaN   \n",
       "\n",
       "   Unique link clicks  Unique mobile app adds of payment info  \\\n",
       "0                 NaN                                     NaN   \n",
       "1                64.0                                     NaN   \n",
       "\n",
       "   Conversion rate ranking  Post shares  Return on ad spend (ROAS)  \\\n",
       "0                      0.0          NaN                        0.0   \n",
       "1                      0.0          1.0                        0.0   \n",
       "\n",
       "   Unique completed registrations  Post comments  Impressions_2  \n",
       "0                             NaN            6.0          350.0  \n",
       "1                             NaN            3.0        16008.0  \n",
       "\n",
       "[2 rows x 23 columns]"
      ]
     },
     "metadata": {},
     "output_type": "display_data"
    },
    {
     "data": {
      "text/html": [
       "<div>\n",
       "<style scoped>\n",
       "    .dataframe tbody tr th:only-of-type {\n",
       "        vertical-align: middle;\n",
       "    }\n",
       "\n",
       "    .dataframe tbody tr th {\n",
       "        vertical-align: top;\n",
       "    }\n",
       "\n",
       "    .dataframe thead th {\n",
       "        text-align: right;\n",
       "    }\n",
       "</style>\n",
       "<table border=\"1\" class=\"dataframe\">\n",
       "  <thead>\n",
       "    <tr style=\"text-align: right;\">\n",
       "      <th></th>\n",
       "      <th>Impressions</th>\n",
       "      <th>Cost</th>\n",
       "      <th>Website purchases</th>\n",
       "      <th>Cost per website purchase</th>\n",
       "      <th>CPC (cost per link click)</th>\n",
       "      <th>CTR (link click-through rate)</th>\n",
       "      <th>Signup</th>\n",
       "      <th>Registration</th>\n",
       "      <th>Unique purchases</th>\n",
       "      <th>Unique adds to cart</th>\n",
       "      <th>Website leads</th>\n",
       "      <th>Unique link clicks</th>\n",
       "      <th>Unique mobile app adds of payment info</th>\n",
       "      <th>Conversion rate ranking</th>\n",
       "      <th>Post shares</th>\n",
       "      <th>Return on ad spend (ROAS)</th>\n",
       "      <th>Unique completed registrations</th>\n",
       "      <th>Post comments</th>\n",
       "      <th>Impressions_2</th>\n",
       "    </tr>\n",
       "  </thead>\n",
       "  <tbody>\n",
       "    <tr>\n",
       "      <th>count</th>\n",
       "      <td>8128.0</td>\n",
       "      <td>8128.0</td>\n",
       "      <td>1343.0</td>\n",
       "      <td>1343.0</td>\n",
       "      <td>6894.0</td>\n",
       "      <td>8128.0</td>\n",
       "      <td>125.0</td>\n",
       "      <td>3430.0</td>\n",
       "      <td>0.0</td>\n",
       "      <td>0.0</td>\n",
       "      <td>6.0</td>\n",
       "      <td>6894.0</td>\n",
       "      <td>0.0</td>\n",
       "      <td>8128.0</td>\n",
       "      <td>1184.0</td>\n",
       "      <td>8110.0</td>\n",
       "      <td>0.0</td>\n",
       "      <td>1902.0</td>\n",
       "      <td>8128.0</td>\n",
       "    </tr>\n",
       "    <tr>\n",
       "      <th>mean</th>\n",
       "      <td>8701.7</td>\n",
       "      <td>67.1</td>\n",
       "      <td>1.8</td>\n",
       "      <td>125.5</td>\n",
       "      <td>3.4</td>\n",
       "      <td>0.4</td>\n",
       "      <td>1.3</td>\n",
       "      <td>4.7</td>\n",
       "      <td>NaN</td>\n",
       "      <td>NaN</td>\n",
       "      <td>1.0</td>\n",
       "      <td>30.2</td>\n",
       "      <td>NaN</td>\n",
       "      <td>0.2</td>\n",
       "      <td>7.0</td>\n",
       "      <td>5.7</td>\n",
       "      <td>NaN</td>\n",
       "      <td>2.5</td>\n",
       "      <td>8701.7</td>\n",
       "    </tr>\n",
       "    <tr>\n",
       "      <th>std</th>\n",
       "      <td>20255.4</td>\n",
       "      <td>150.4</td>\n",
       "      <td>1.4</td>\n",
       "      <td>137.9</td>\n",
       "      <td>2.9</td>\n",
       "      <td>0.5</td>\n",
       "      <td>0.5</td>\n",
       "      <td>7.0</td>\n",
       "      <td>NaN</td>\n",
       "      <td>NaN</td>\n",
       "      <td>0.0</td>\n",
       "      <td>68.3</td>\n",
       "      <td>NaN</td>\n",
       "      <td>0.8</td>\n",
       "      <td>17.3</td>\n",
       "      <td>33.7</td>\n",
       "      <td>NaN</td>\n",
       "      <td>4.0</td>\n",
       "      <td>20255.4</td>\n",
       "    </tr>\n",
       "    <tr>\n",
       "      <th>min</th>\n",
       "      <td>1.0</td>\n",
       "      <td>0.0</td>\n",
       "      <td>1.0</td>\n",
       "      <td>1.8</td>\n",
       "      <td>0.0</td>\n",
       "      <td>0.0</td>\n",
       "      <td>1.0</td>\n",
       "      <td>1.0</td>\n",
       "      <td>NaN</td>\n",
       "      <td>NaN</td>\n",
       "      <td>1.0</td>\n",
       "      <td>1.0</td>\n",
       "      <td>NaN</td>\n",
       "      <td>0.0</td>\n",
       "      <td>1.0</td>\n",
       "      <td>0.0</td>\n",
       "      <td>NaN</td>\n",
       "      <td>1.0</td>\n",
       "      <td>1.0</td>\n",
       "    </tr>\n",
       "    <tr>\n",
       "      <th>25%</th>\n",
       "      <td>565.0</td>\n",
       "      <td>5.0</td>\n",
       "      <td>1.0</td>\n",
       "      <td>32.2</td>\n",
       "      <td>1.7</td>\n",
       "      <td>0.2</td>\n",
       "      <td>1.0</td>\n",
       "      <td>1.0</td>\n",
       "      <td>NaN</td>\n",
       "      <td>NaN</td>\n",
       "      <td>1.0</td>\n",
       "      <td>3.0</td>\n",
       "      <td>NaN</td>\n",
       "      <td>0.0</td>\n",
       "      <td>1.0</td>\n",
       "      <td>0.0</td>\n",
       "      <td>NaN</td>\n",
       "      <td>1.0</td>\n",
       "      <td>565.0</td>\n",
       "    </tr>\n",
       "    <tr>\n",
       "      <th>50%</th>\n",
       "      <td>1776.5</td>\n",
       "      <td>17.0</td>\n",
       "      <td>1.0</td>\n",
       "      <td>82.7</td>\n",
       "      <td>2.8</td>\n",
       "      <td>0.3</td>\n",
       "      <td>1.0</td>\n",
       "      <td>2.0</td>\n",
       "      <td>NaN</td>\n",
       "      <td>NaN</td>\n",
       "      <td>1.0</td>\n",
       "      <td>9.0</td>\n",
       "      <td>NaN</td>\n",
       "      <td>0.0</td>\n",
       "      <td>1.0</td>\n",
       "      <td>0.0</td>\n",
       "      <td>NaN</td>\n",
       "      <td>1.0</td>\n",
       "      <td>1776.5</td>\n",
       "    </tr>\n",
       "    <tr>\n",
       "      <th>75%</th>\n",
       "      <td>7760.0</td>\n",
       "      <td>59.9</td>\n",
       "      <td>2.0</td>\n",
       "      <td>172.5</td>\n",
       "      <td>4.2</td>\n",
       "      <td>0.5</td>\n",
       "      <td>1.0</td>\n",
       "      <td>5.0</td>\n",
       "      <td>NaN</td>\n",
       "      <td>NaN</td>\n",
       "      <td>1.0</td>\n",
       "      <td>26.0</td>\n",
       "      <td>NaN</td>\n",
       "      <td>0.0</td>\n",
       "      <td>4.0</td>\n",
       "      <td>0.0</td>\n",
       "      <td>NaN</td>\n",
       "      <td>2.0</td>\n",
       "      <td>7760.0</td>\n",
       "    </tr>\n",
       "    <tr>\n",
       "      <th>max</th>\n",
       "      <td>317885.0</td>\n",
       "      <td>2050.7</td>\n",
       "      <td>13.0</td>\n",
       "      <td>1092.2</td>\n",
       "      <td>38.8</td>\n",
       "      <td>12.5</td>\n",
       "      <td>4.0</td>\n",
       "      <td>63.0</td>\n",
       "      <td>NaN</td>\n",
       "      <td>NaN</td>\n",
       "      <td>1.0</td>\n",
       "      <td>1364.0</td>\n",
       "      <td>NaN</td>\n",
       "      <td>10.0</td>\n",
       "      <td>260.0</td>\n",
       "      <td>1143.4</td>\n",
       "      <td>NaN</td>\n",
       "      <td>84.0</td>\n",
       "      <td>317885.0</td>\n",
       "    </tr>\n",
       "  </tbody>\n",
       "</table>\n",
       "</div>"
      ],
      "text/plain": [
       "       Impressions    Cost  Website purchases  Cost per website purchase  \\\n",
       "count       8128.0  8128.0             1343.0                     1343.0   \n",
       "mean        8701.7    67.1                1.8                      125.5   \n",
       "std        20255.4   150.4                1.4                      137.9   \n",
       "min            1.0     0.0                1.0                        1.8   \n",
       "25%          565.0     5.0                1.0                       32.2   \n",
       "50%         1776.5    17.0                1.0                       82.7   \n",
       "75%         7760.0    59.9                2.0                      172.5   \n",
       "max       317885.0  2050.7               13.0                     1092.2   \n",
       "\n",
       "       CPC (cost per link click)  CTR (link click-through rate)  Signup  \\\n",
       "count                     6894.0                         8128.0   125.0   \n",
       "mean                         3.4                            0.4     1.3   \n",
       "std                          2.9                            0.5     0.5   \n",
       "min                          0.0                            0.0     1.0   \n",
       "25%                          1.7                            0.2     1.0   \n",
       "50%                          2.8                            0.3     1.0   \n",
       "75%                          4.2                            0.5     1.0   \n",
       "max                         38.8                           12.5     4.0   \n",
       "\n",
       "       Registration  Unique purchases  Unique adds to cart  Website leads  \\\n",
       "count        3430.0               0.0                  0.0            6.0   \n",
       "mean            4.7               NaN                  NaN            1.0   \n",
       "std             7.0               NaN                  NaN            0.0   \n",
       "min             1.0               NaN                  NaN            1.0   \n",
       "25%             1.0               NaN                  NaN            1.0   \n",
       "50%             2.0               NaN                  NaN            1.0   \n",
       "75%             5.0               NaN                  NaN            1.0   \n",
       "max            63.0               NaN                  NaN            1.0   \n",
       "\n",
       "       Unique link clicks  Unique mobile app adds of payment info  \\\n",
       "count              6894.0                                     0.0   \n",
       "mean                 30.2                                     NaN   \n",
       "std                  68.3                                     NaN   \n",
       "min                   1.0                                     NaN   \n",
       "25%                   3.0                                     NaN   \n",
       "50%                   9.0                                     NaN   \n",
       "75%                  26.0                                     NaN   \n",
       "max                1364.0                                     NaN   \n",
       "\n",
       "       Conversion rate ranking  Post shares  Return on ad spend (ROAS)  \\\n",
       "count                   8128.0       1184.0                     8110.0   \n",
       "mean                       0.2          7.0                        5.7   \n",
       "std                        0.8         17.3                       33.7   \n",
       "min                        0.0          1.0                        0.0   \n",
       "25%                        0.0          1.0                        0.0   \n",
       "50%                        0.0          1.0                        0.0   \n",
       "75%                        0.0          4.0                        0.0   \n",
       "max                       10.0        260.0                     1143.4   \n",
       "\n",
       "       Unique completed registrations  Post comments  Impressions_2  \n",
       "count                             0.0         1902.0         8128.0  \n",
       "mean                              NaN            2.5         8701.7  \n",
       "std                               NaN            4.0        20255.4  \n",
       "min                               NaN            1.0            1.0  \n",
       "25%                               NaN            1.0          565.0  \n",
       "50%                               NaN            1.0         1776.5  \n",
       "75%                               NaN            2.0         7760.0  \n",
       "max                               NaN           84.0       317885.0  "
      ]
     },
     "metadata": {},
     "output_type": "display_data"
    },
    {
     "name": "stdout",
     "output_type": "stream",
     "text": [
      "\n",
      "Variable:                                  Type:\n",
      "Date                                       object\n",
      "Ad set name                                object\n",
      "Ad name                                    object\n",
      "Campaign name                              object\n",
      "Impressions                               float64\n",
      "Cost                                      float64\n",
      "Website purchases                         float64\n",
      "Cost per website purchase                 float64\n",
      "CPC (cost per link click)                 float64\n",
      "CTR (link click-through rate)             float64\n",
      "Signup                                    float64\n",
      "Registration                              float64\n",
      "Unique purchases                          float64\n",
      "Unique adds to cart                       float64\n",
      "Website leads                             float64\n",
      "Unique link clicks                        float64\n",
      "Unique mobile app adds of payment info    float64\n",
      "Conversion rate ranking                   float64\n",
      "Post shares                               float64\n",
      "Return on ad spend (ROAS)                 float64\n",
      "Unique completed registrations            float64\n",
      "Post comments                             float64\n",
      "Impressions_2                             float64\n",
      "dtype: object\n"
     ]
    }
   ],
   "source": [
    "data = pd.read_csv(\"DH data sheet - Sheet1 (2).csv\")\n",
    "\n",
    "# Add a second column of Impressions, so we can count how many days is was Live.\n",
    "data[\"Impressions_2\"] = data.Impressions\n",
    "\n",
    "#Remove commas from Cost and make it a float: \n",
    "data[\"Cost\"] = data.Cost.replace('[^\\d.]', '', regex = True)                     \\\n",
    "                        .astype(float)\n",
    "\n",
    "display(data.head(2))\n",
    "\n",
    "display(data.describe().round(1))\n",
    "\n",
    "print(f\"\"\"\\nVariable:                                  Type:\\n{data.dtypes}\"\"\")"
   ]
  },
  {
   "cell_type": "markdown",
   "metadata": {},
   "source": [
    "## Group the data:"
   ]
  },
  {
   "cell_type": "markdown",
   "metadata": {},
   "source": [
    "### data_daily: "
   ]
  },
  {
   "cell_type": "code",
   "execution_count": 11,
   "metadata": {
    "ExecuteTime": {
     "end_time": "2021-03-26T18:14:07.080453Z",
     "start_time": "2021-03-26T18:14:06.984631Z"
    }
   },
   "outputs": [
    {
     "data": {
      "application/javascript": [
       "\n",
       "        if (window._pyforest_update_imports_cell) { window._pyforest_update_imports_cell('import pandas as pd\\nimport numpy as np'); }\n",
       "    "
      ],
      "text/plain": [
       "<IPython.core.display.Javascript object>"
      ]
     },
     "metadata": {},
     "output_type": "display_data"
    },
    {
     "data": {
      "application/javascript": [
       "\n",
       "        if (window._pyforest_update_imports_cell) { window._pyforest_update_imports_cell('import pandas as pd\\nimport numpy as np'); }\n",
       "    "
      ],
      "text/plain": [
       "<IPython.core.display.Javascript object>"
      ]
     },
     "metadata": {},
     "output_type": "display_data"
    },
    {
     "data": {
      "application/javascript": [
       "\n",
       "        if (window._pyforest_update_imports_cell) { window._pyforest_update_imports_cell('import pandas as pd\\nimport numpy as np'); }\n",
       "    "
      ],
      "text/plain": [
       "<IPython.core.display.Javascript object>"
      ]
     },
     "metadata": {},
     "output_type": "display_data"
    },
    {
     "data": {
      "application/javascript": [
       "\n",
       "        if (window._pyforest_update_imports_cell) { window._pyforest_update_imports_cell('import pandas as pd\\nimport numpy as np'); }\n",
       "    "
      ],
      "text/plain": [
       "<IPython.core.display.Javascript object>"
      ]
     },
     "metadata": {},
     "output_type": "display_data"
    },
    {
     "data": {
      "application/javascript": [
       "\n",
       "        if (window._pyforest_update_imports_cell) { window._pyforest_update_imports_cell('import pandas as pd\\nimport numpy as np'); }\n",
       "    "
      ],
      "text/plain": [
       "<IPython.core.display.Javascript object>"
      ]
     },
     "metadata": {},
     "output_type": "display_data"
    },
    {
     "data": {
      "application/javascript": [
       "\n",
       "        if (window._pyforest_update_imports_cell) { window._pyforest_update_imports_cell('import pandas as pd\\nimport numpy as np'); }\n",
       "    "
      ],
      "text/plain": [
       "<IPython.core.display.Javascript object>"
      ]
     },
     "metadata": {},
     "output_type": "display_data"
    },
    {
     "name": "stdout",
     "output_type": "stream",
     "text": [
      "0    6802\n",
      "1    1333\n",
      "Name: CR_class, dtype: int64\n",
      "Date                                       object\n",
      "Ad set name                                object\n",
      "Ad name                                    object\n",
      "Campaign name                              object\n",
      "Impressions                               float64\n",
      "Cost                                      float64\n",
      "Website purchases                         float64\n",
      "Cost per website purchase                 float64\n",
      "CPC (cost per link click)                 float64\n",
      "CTR (link click-through rate)             float64\n",
      "Signup                                    float64\n",
      "Registration                              float64\n",
      "Unique purchases                          float64\n",
      "Unique adds to cart                       float64\n",
      "Website leads                             float64\n",
      "Unique link clicks                        float64\n",
      "Unique mobile app adds of payment info    float64\n",
      "Conversion rate ranking                   float64\n",
      "Post shares                               float64\n",
      "Return on ad spend (ROAS)                 float64\n",
      "Unique completed registrations            float64\n",
      "Post comments                             float64\n",
      "Impressions_2                             float64\n",
      "CR                                        float64\n",
      "CR_class                                   object\n",
      "dtype: object\n",
      "Date                                      False\n",
      "Ad set name                               False\n",
      "Ad name                                   False\n",
      "Campaign name                             False\n",
      "Impressions                               False\n",
      "Cost                                      False\n",
      "Website purchases                         False\n",
      "Cost per website purchase                 False\n",
      "CPC (cost per link click)                 False\n",
      "CTR (link click-through rate)             False\n",
      "Signup                                    False\n",
      "Registration                              False\n",
      "Unique purchases                          False\n",
      "Unique adds to cart                       False\n",
      "Website leads                             False\n",
      "Unique link clicks                        False\n",
      "Unique mobile app adds of payment info    False\n",
      "Conversion rate ranking                   False\n",
      "Post shares                               False\n",
      "Return on ad spend (ROAS)                 False\n",
      "Unique completed registrations            False\n",
      "Post comments                             False\n",
      "Impressions_2                             False\n",
      "CR                                        False\n",
      "CR_class                                  False\n",
      "dtype: bool\n"
     ]
    },
    {
     "data": {
      "text/html": [
       "<div>\n",
       "<style scoped>\n",
       "    .dataframe tbody tr th:only-of-type {\n",
       "        vertical-align: middle;\n",
       "    }\n",
       "\n",
       "    .dataframe tbody tr th {\n",
       "        vertical-align: top;\n",
       "    }\n",
       "\n",
       "    .dataframe thead th {\n",
       "        text-align: right;\n",
       "    }\n",
       "</style>\n",
       "<table border=\"1\" class=\"dataframe\">\n",
       "  <thead>\n",
       "    <tr style=\"text-align: right;\">\n",
       "      <th></th>\n",
       "      <th>Date</th>\n",
       "      <th>Ad set name</th>\n",
       "      <th>Ad name</th>\n",
       "      <th>Campaign name</th>\n",
       "      <th>Impressions</th>\n",
       "      <th>Cost</th>\n",
       "      <th>Website purchases</th>\n",
       "      <th>Cost per website purchase</th>\n",
       "      <th>CPC (cost per link click)</th>\n",
       "      <th>CTR (link click-through rate)</th>\n",
       "      <th>...</th>\n",
       "      <th>Unique link clicks</th>\n",
       "      <th>Unique mobile app adds of payment info</th>\n",
       "      <th>Conversion rate ranking</th>\n",
       "      <th>Post shares</th>\n",
       "      <th>Return on ad spend (ROAS)</th>\n",
       "      <th>Unique completed registrations</th>\n",
       "      <th>Post comments</th>\n",
       "      <th>Impressions_2</th>\n",
       "      <th>CR</th>\n",
       "      <th>CR_class</th>\n",
       "    </tr>\n",
       "  </thead>\n",
       "  <tbody>\n",
       "    <tr>\n",
       "      <th>0</th>\n",
       "      <td>2020-08-01</td>\n",
       "      <td>Post: \"\"Here lies DeadHappy. It was a bit of a...</td>\n",
       "      <td>Post: \"\"Here lies DeadHappy. It was a bit of a...</td>\n",
       "      <td>Post: \"\"Here lies DeadHappy. It was a bit of a...</td>\n",
       "      <td>350.0</td>\n",
       "      <td>3.18</td>\n",
       "      <td>0.0</td>\n",
       "      <td>0.0</td>\n",
       "      <td>0.0</td>\n",
       "      <td>0.0</td>\n",
       "      <td>...</td>\n",
       "      <td>0.0</td>\n",
       "      <td>0.0</td>\n",
       "      <td>0.0</td>\n",
       "      <td>0.0</td>\n",
       "      <td>0.0</td>\n",
       "      <td>0.0</td>\n",
       "      <td>6.0</td>\n",
       "      <td>350.0</td>\n",
       "      <td>0.0</td>\n",
       "      <td>0</td>\n",
       "    </tr>\n",
       "  </tbody>\n",
       "</table>\n",
       "<p>1 rows × 25 columns</p>\n",
       "</div>"
      ],
      "text/plain": [
       "         Date                                        Ad set name  \\\n",
       "0  2020-08-01  Post: \"\"Here lies DeadHappy. It was a bit of a...   \n",
       "\n",
       "                                             Ad name  \\\n",
       "0  Post: \"\"Here lies DeadHappy. It was a bit of a...   \n",
       "\n",
       "                                       Campaign name  Impressions  Cost  \\\n",
       "0  Post: \"\"Here lies DeadHappy. It was a bit of a...        350.0  3.18   \n",
       "\n",
       "   Website purchases  Cost per website purchase  CPC (cost per link click)  \\\n",
       "0                0.0                        0.0                        0.0   \n",
       "\n",
       "   CTR (link click-through rate)  ...  Unique link clicks  \\\n",
       "0                            0.0  ...                 0.0   \n",
       "\n",
       "   Unique mobile app adds of payment info  Conversion rate ranking  \\\n",
       "0                                     0.0                      0.0   \n",
       "\n",
       "   Post shares  Return on ad spend (ROAS)  Unique completed registrations  \\\n",
       "0          0.0                        0.0                             0.0   \n",
       "\n",
       "   Post comments  Impressions_2   CR  CR_class  \n",
       "0            6.0          350.0  0.0         0  \n",
       "\n",
       "[1 rows x 25 columns]"
      ]
     },
     "execution_count": 11,
     "metadata": {},
     "output_type": "execute_result"
    }
   ],
   "source": [
    "data_daily = data.copy().replace(to_replace = np.nan, value = 0)\n",
    "\n",
    "# Add CR:\n",
    "data_daily[\"CR\"] = data_daily[\"Website purchases\"] / data_daily[\"Unique link clicks\"]  \n",
    "\n",
    "# Remove inf values: \n",
    "data_daily = data_daily.replace(np.inf, 0) \n",
    "\n",
    "# Remove NaN values: \n",
    "data_daily = data_daily.replace(to_replace = np.nan, value = 0) \n",
    "\n",
    "# Add CR_class:\n",
    "data_daily[\"CR_class\"] = pd.cut(data_daily.CR, \n",
    "                                bins = [data_daily.CR.min() - 1, \n",
    "                                        data_daily.CR.median(), \n",
    "                                        data_daily.CR.max() + 1], \n",
    "                                labels = [\"0\", \"1\"])\n",
    "\n",
    "data_daily = data_daily.replace(to_replace = np.nan, value = 0)\n",
    "\n",
    "data_daily = data_daily.replace(np.inf, 0) \n",
    "\n",
    "print(data_daily[\"CR_class\"].value_counts()) \n",
    "print(data_daily.dtypes) \n",
    "print(data_daily.isnull().any()) \n",
    "data_daily.head(1)"
   ]
  },
  {
   "cell_type": "markdown",
   "metadata": {},
   "source": [
    "### data_ad: "
   ]
  },
  {
   "cell_type": "code",
   "execution_count": 12,
   "metadata": {
    "ExecuteTime": {
     "end_time": "2021-03-26T18:14:09.309803Z",
     "start_time": "2021-03-26T18:14:09.076691Z"
    },
    "scrolled": false
   },
   "outputs": [
    {
     "data": {
      "application/javascript": [
       "\n",
       "        if (window._pyforest_update_imports_cell) { window._pyforest_update_imports_cell('import pandas as pd\\nimport numpy as np'); }\n",
       "    "
      ],
      "text/plain": [
       "<IPython.core.display.Javascript object>"
      ]
     },
     "metadata": {},
     "output_type": "display_data"
    },
    {
     "data": {
      "application/javascript": [
       "\n",
       "        if (window._pyforest_update_imports_cell) { window._pyforest_update_imports_cell('import pandas as pd\\nimport numpy as np'); }\n",
       "    "
      ],
      "text/plain": [
       "<IPython.core.display.Javascript object>"
      ]
     },
     "metadata": {},
     "output_type": "display_data"
    },
    {
     "data": {
      "application/javascript": [
       "\n",
       "        if (window._pyforest_update_imports_cell) { window._pyforest_update_imports_cell('import pandas as pd\\nimport numpy as np'); }\n",
       "    "
      ],
      "text/plain": [
       "<IPython.core.display.Javascript object>"
      ]
     },
     "metadata": {},
     "output_type": "display_data"
    },
    {
     "data": {
      "application/javascript": [
       "\n",
       "        if (window._pyforest_update_imports_cell) { window._pyforest_update_imports_cell('import pandas as pd\\nimport numpy as np'); }\n",
       "    "
      ],
      "text/plain": [
       "<IPython.core.display.Javascript object>"
      ]
     },
     "metadata": {},
     "output_type": "display_data"
    },
    {
     "name": "stdout",
     "output_type": "stream",
     "text": [
      "Maximum value in CR is: 0.18\n"
     ]
    },
    {
     "data": {
      "text/html": [
       "<div>\n",
       "<style scoped>\n",
       "    .dataframe tbody tr th:only-of-type {\n",
       "        vertical-align: middle;\n",
       "    }\n",
       "\n",
       "    .dataframe tbody tr th {\n",
       "        vertical-align: top;\n",
       "    }\n",
       "\n",
       "    .dataframe thead th {\n",
       "        text-align: right;\n",
       "    }\n",
       "</style>\n",
       "<table border=\"1\" class=\"dataframe\">\n",
       "  <thead>\n",
       "    <tr style=\"text-align: right;\">\n",
       "      <th></th>\n",
       "      <th>Impressions</th>\n",
       "      <th>Cost</th>\n",
       "      <th>Duration</th>\n",
       "      <th>Unique link clicks</th>\n",
       "      <th>Post shares</th>\n",
       "      <th>Post comments</th>\n",
       "      <th>Registration</th>\n",
       "      <th>Website purchases</th>\n",
       "      <th>CPC</th>\n",
       "      <th>CPM</th>\n",
       "      <th>CTR</th>\n",
       "      <th>CR</th>\n",
       "      <th>registration_CR</th>\n",
       "      <th>CPA</th>\n",
       "      <th>CTR_class</th>\n",
       "      <th>CR_class</th>\n",
       "    </tr>\n",
       "    <tr>\n",
       "      <th>Ad name</th>\n",
       "      <th></th>\n",
       "      <th></th>\n",
       "      <th></th>\n",
       "      <th></th>\n",
       "      <th></th>\n",
       "      <th></th>\n",
       "      <th></th>\n",
       "      <th></th>\n",
       "      <th></th>\n",
       "      <th></th>\n",
       "      <th></th>\n",
       "      <th></th>\n",
       "      <th></th>\n",
       "      <th></th>\n",
       "      <th></th>\n",
       "      <th></th>\n",
       "    </tr>\n",
       "  </thead>\n",
       "  <tbody>\n",
       "    <tr>\n",
       "      <th>5k-deathwish_single_w41-2020</th>\n",
       "      <td>58014.0</td>\n",
       "      <td>775.29</td>\n",
       "      <td>9</td>\n",
       "      <td>173.0</td>\n",
       "      <td>1.0</td>\n",
       "      <td>2.0</td>\n",
       "      <td>8.0</td>\n",
       "      <td>2.0</td>\n",
       "      <td>4.481445</td>\n",
       "      <td>13.363843</td>\n",
       "      <td>0.002982</td>\n",
       "      <td>0.011561</td>\n",
       "      <td>0.046243</td>\n",
       "      <td>387.645</td>\n",
       "      <td>1</td>\n",
       "      <td>1</td>\n",
       "    </tr>\n",
       "    <tr>\n",
       "      <th>Instagram post: Be more Mick!\\n🚀We’re growing at...</th>\n",
       "      <td>6272.0</td>\n",
       "      <td>20.00</td>\n",
       "      <td>5</td>\n",
       "      <td>94.0</td>\n",
       "      <td>1.0</td>\n",
       "      <td>0.0</td>\n",
       "      <td>0.0</td>\n",
       "      <td>0.0</td>\n",
       "      <td>0.212766</td>\n",
       "      <td>3.188776</td>\n",
       "      <td>0.014987</td>\n",
       "      <td>0.000000</td>\n",
       "      <td>0.000000</td>\n",
       "      <td>0.000</td>\n",
       "      <td>1</td>\n",
       "      <td>0</td>\n",
       "    </tr>\n",
       "    <tr>\n",
       "      <th>Post: \"\"Here lies DeadHappy. It was a bit of a sore...\"</th>\n",
       "      <td>646.0</td>\n",
       "      <td>4.64</td>\n",
       "      <td>2</td>\n",
       "      <td>0.0</td>\n",
       "      <td>0.0</td>\n",
       "      <td>12.0</td>\n",
       "      <td>0.0</td>\n",
       "      <td>0.0</td>\n",
       "      <td>0.000000</td>\n",
       "      <td>7.182663</td>\n",
       "      <td>0.000000</td>\n",
       "      <td>0.000000</td>\n",
       "      <td>0.000000</td>\n",
       "      <td>0.000</td>\n",
       "      <td>0</td>\n",
       "      <td>0</td>\n",
       "    </tr>\n",
       "  </tbody>\n",
       "</table>\n",
       "</div>"
      ],
      "text/plain": [
       "                                                    Impressions    Cost  \\\n",
       "Ad name                                                                   \n",
       "5k-deathwish_single_w41-2020                            58014.0  775.29   \n",
       "Instagram post: Be more Mick!\\n🚀We’re growing a...       6272.0   20.00   \n",
       "Post: \"\"Here lies DeadHappy. It was a bit of a ...        646.0    4.64   \n",
       "\n",
       "                                                    Duration  \\\n",
       "Ad name                                                        \n",
       "5k-deathwish_single_w41-2020                               9   \n",
       "Instagram post: Be more Mick!\\n🚀We’re growing a...         5   \n",
       "Post: \"\"Here lies DeadHappy. It was a bit of a ...         2   \n",
       "\n",
       "                                                    Unique link clicks  \\\n",
       "Ad name                                                                  \n",
       "5k-deathwish_single_w41-2020                                     173.0   \n",
       "Instagram post: Be more Mick!\\n🚀We’re growing a...                94.0   \n",
       "Post: \"\"Here lies DeadHappy. It was a bit of a ...                 0.0   \n",
       "\n",
       "                                                    Post shares  \\\n",
       "Ad name                                                           \n",
       "5k-deathwish_single_w41-2020                                1.0   \n",
       "Instagram post: Be more Mick!\\n🚀We’re growing a...          1.0   \n",
       "Post: \"\"Here lies DeadHappy. It was a bit of a ...          0.0   \n",
       "\n",
       "                                                    Post comments  \\\n",
       "Ad name                                                             \n",
       "5k-deathwish_single_w41-2020                                  2.0   \n",
       "Instagram post: Be more Mick!\\n🚀We’re growing a...            0.0   \n",
       "Post: \"\"Here lies DeadHappy. It was a bit of a ...           12.0   \n",
       "\n",
       "                                                    Registration  \\\n",
       "Ad name                                                            \n",
       "5k-deathwish_single_w41-2020                                 8.0   \n",
       "Instagram post: Be more Mick!\\n🚀We’re growing a...           0.0   \n",
       "Post: \"\"Here lies DeadHappy. It was a bit of a ...           0.0   \n",
       "\n",
       "                                                    Website purchases  \\\n",
       "Ad name                                                                 \n",
       "5k-deathwish_single_w41-2020                                      2.0   \n",
       "Instagram post: Be more Mick!\\n🚀We’re growing a...                0.0   \n",
       "Post: \"\"Here lies DeadHappy. It was a bit of a ...                0.0   \n",
       "\n",
       "                                                         CPC        CPM  \\\n",
       "Ad name                                                                   \n",
       "5k-deathwish_single_w41-2020                        4.481445  13.363843   \n",
       "Instagram post: Be more Mick!\\n🚀We’re growing a...  0.212766   3.188776   \n",
       "Post: \"\"Here lies DeadHappy. It was a bit of a ...  0.000000   7.182663   \n",
       "\n",
       "                                                         CTR        CR  \\\n",
       "Ad name                                                                  \n",
       "5k-deathwish_single_w41-2020                        0.002982  0.011561   \n",
       "Instagram post: Be more Mick!\\n🚀We’re growing a...  0.014987  0.000000   \n",
       "Post: \"\"Here lies DeadHappy. It was a bit of a ...  0.000000  0.000000   \n",
       "\n",
       "                                                    registration_CR      CPA  \\\n",
       "Ad name                                                                        \n",
       "5k-deathwish_single_w41-2020                               0.046243  387.645   \n",
       "Instagram post: Be more Mick!\\n🚀We’re growing a...         0.000000    0.000   \n",
       "Post: \"\"Here lies DeadHappy. It was a bit of a ...         0.000000    0.000   \n",
       "\n",
       "                                                   CTR_class CR_class  \n",
       "Ad name                                                                \n",
       "5k-deathwish_single_w41-2020                               1        1  \n",
       "Instagram post: Be more Mick!\\n🚀We’re growing a...         1        0  \n",
       "Post: \"\"Here lies DeadHappy. It was a bit of a ...         0        0  "
      ]
     },
     "metadata": {},
     "output_type": "display_data"
    },
    {
     "data": {
      "text/html": [
       "<div>\n",
       "<style scoped>\n",
       "    .dataframe tbody tr th:only-of-type {\n",
       "        vertical-align: middle;\n",
       "    }\n",
       "\n",
       "    .dataframe tbody tr th {\n",
       "        vertical-align: top;\n",
       "    }\n",
       "\n",
       "    .dataframe thead th {\n",
       "        text-align: right;\n",
       "    }\n",
       "</style>\n",
       "<table border=\"1\" class=\"dataframe\">\n",
       "  <thead>\n",
       "    <tr style=\"text-align: right;\">\n",
       "      <th></th>\n",
       "      <th>Impressions</th>\n",
       "      <th>Cost</th>\n",
       "      <th>Duration</th>\n",
       "      <th>Unique link clicks</th>\n",
       "      <th>Post shares</th>\n",
       "      <th>Post comments</th>\n",
       "      <th>Registration</th>\n",
       "      <th>Website purchases</th>\n",
       "      <th>CPC</th>\n",
       "      <th>CPM</th>\n",
       "      <th>CTR</th>\n",
       "      <th>CR</th>\n",
       "      <th>registration_CR</th>\n",
       "      <th>CPA</th>\n",
       "    </tr>\n",
       "  </thead>\n",
       "  <tbody>\n",
       "    <tr>\n",
       "      <th>count</th>\n",
       "      <td>196.00</td>\n",
       "      <td>196.00</td>\n",
       "      <td>196.00</td>\n",
       "      <td>196.00</td>\n",
       "      <td>196.00</td>\n",
       "      <td>196.00</td>\n",
       "      <td>196.00</td>\n",
       "      <td>196.00</td>\n",
       "      <td>196.00</td>\n",
       "      <td>196.00</td>\n",
       "      <td>196.00</td>\n",
       "      <td>196.00</td>\n",
       "      <td>196.00</td>\n",
       "      <td>196.00</td>\n",
       "    </tr>\n",
       "    <tr>\n",
       "      <th>mean</th>\n",
       "      <td>360852.45</td>\n",
       "      <td>2780.99</td>\n",
       "      <td>41.47</td>\n",
       "      <td>1063.18</td>\n",
       "      <td>42.36</td>\n",
       "      <td>23.91</td>\n",
       "      <td>81.95</td>\n",
       "      <td>12.09</td>\n",
       "      <td>3.80</td>\n",
       "      <td>7.29</td>\n",
       "      <td>0.00</td>\n",
       "      <td>0.01</td>\n",
       "      <td>0.07</td>\n",
       "      <td>142.86</td>\n",
       "    </tr>\n",
       "    <tr>\n",
       "      <th>std</th>\n",
       "      <td>1262854.31</td>\n",
       "      <td>9271.47</td>\n",
       "      <td>88.50</td>\n",
       "      <td>3800.01</td>\n",
       "      <td>202.95</td>\n",
       "      <td>86.71</td>\n",
       "      <td>278.96</td>\n",
       "      <td>40.59</td>\n",
       "      <td>9.74</td>\n",
       "      <td>3.90</td>\n",
       "      <td>0.00</td>\n",
       "      <td>0.02</td>\n",
       "      <td>0.08</td>\n",
       "      <td>237.63</td>\n",
       "    </tr>\n",
       "    <tr>\n",
       "      <th>min</th>\n",
       "      <td>0.00</td>\n",
       "      <td>0.00</td>\n",
       "      <td>0.00</td>\n",
       "      <td>0.00</td>\n",
       "      <td>0.00</td>\n",
       "      <td>0.00</td>\n",
       "      <td>0.00</td>\n",
       "      <td>0.00</td>\n",
       "      <td>0.00</td>\n",
       "      <td>0.00</td>\n",
       "      <td>0.00</td>\n",
       "      <td>0.00</td>\n",
       "      <td>0.00</td>\n",
       "      <td>0.00</td>\n",
       "    </tr>\n",
       "    <tr>\n",
       "      <th>25%</th>\n",
       "      <td>3889.50</td>\n",
       "      <td>16.00</td>\n",
       "      <td>4.00</td>\n",
       "      <td>7.00</td>\n",
       "      <td>0.00</td>\n",
       "      <td>0.00</td>\n",
       "      <td>0.00</td>\n",
       "      <td>0.00</td>\n",
       "      <td>0.76</td>\n",
       "      <td>4.57</td>\n",
       "      <td>0.00</td>\n",
       "      <td>0.00</td>\n",
       "      <td>0.00</td>\n",
       "      <td>0.00</td>\n",
       "    </tr>\n",
       "    <tr>\n",
       "      <th>50%</th>\n",
       "      <td>28193.00</td>\n",
       "      <td>173.36</td>\n",
       "      <td>8.00</td>\n",
       "      <td>69.50</td>\n",
       "      <td>2.00</td>\n",
       "      <td>2.50</td>\n",
       "      <td>4.00</td>\n",
       "      <td>0.00</td>\n",
       "      <td>2.47</td>\n",
       "      <td>7.07</td>\n",
       "      <td>0.00</td>\n",
       "      <td>0.00</td>\n",
       "      <td>0.04</td>\n",
       "      <td>0.00</td>\n",
       "    </tr>\n",
       "    <tr>\n",
       "      <th>75%</th>\n",
       "      <td>155253.75</td>\n",
       "      <td>1441.22</td>\n",
       "      <td>16.25</td>\n",
       "      <td>558.50</td>\n",
       "      <td>14.25</td>\n",
       "      <td>13.25</td>\n",
       "      <td>46.50</td>\n",
       "      <td>6.25</td>\n",
       "      <td>4.08</td>\n",
       "      <td>9.52</td>\n",
       "      <td>0.00</td>\n",
       "      <td>0.01</td>\n",
       "      <td>0.12</td>\n",
       "      <td>228.01</td>\n",
       "    </tr>\n",
       "    <tr>\n",
       "      <th>max</th>\n",
       "      <td>14744629.00</td>\n",
       "      <td>103903.94</td>\n",
       "      <td>474.00</td>\n",
       "      <td>39839.00</td>\n",
       "      <td>2463.00</td>\n",
       "      <td>988.00</td>\n",
       "      <td>3073.00</td>\n",
       "      <td>456.00</td>\n",
       "      <td>119.00</td>\n",
       "      <td>24.37</td>\n",
       "      <td>0.04</td>\n",
       "      <td>0.18</td>\n",
       "      <td>0.50</td>\n",
       "      <td>2032.77</td>\n",
       "    </tr>\n",
       "  </tbody>\n",
       "</table>\n",
       "</div>"
      ],
      "text/plain": [
       "       Impressions       Cost  Duration  Unique link clicks  Post shares  \\\n",
       "count       196.00     196.00    196.00              196.00       196.00   \n",
       "mean     360852.45    2780.99     41.47             1063.18        42.36   \n",
       "std     1262854.31    9271.47     88.50             3800.01       202.95   \n",
       "min           0.00       0.00      0.00                0.00         0.00   \n",
       "25%        3889.50      16.00      4.00                7.00         0.00   \n",
       "50%       28193.00     173.36      8.00               69.50         2.00   \n",
       "75%      155253.75    1441.22     16.25              558.50        14.25   \n",
       "max    14744629.00  103903.94    474.00            39839.00      2463.00   \n",
       "\n",
       "       Post comments  Registration  Website purchases     CPC     CPM     CTR  \\\n",
       "count         196.00        196.00             196.00  196.00  196.00  196.00   \n",
       "mean           23.91         81.95              12.09    3.80    7.29    0.00   \n",
       "std            86.71        278.96              40.59    9.74    3.90    0.00   \n",
       "min             0.00          0.00               0.00    0.00    0.00    0.00   \n",
       "25%             0.00          0.00               0.00    0.76    4.57    0.00   \n",
       "50%             2.50          4.00               0.00    2.47    7.07    0.00   \n",
       "75%            13.25         46.50               6.25    4.08    9.52    0.00   \n",
       "max           988.00       3073.00             456.00  119.00   24.37    0.04   \n",
       "\n",
       "           CR  registration_CR      CPA  \n",
       "count  196.00           196.00   196.00  \n",
       "mean     0.01             0.07   142.86  \n",
       "std      0.02             0.08   237.63  \n",
       "min      0.00             0.00     0.00  \n",
       "25%      0.00             0.00     0.00  \n",
       "50%      0.00             0.04     0.00  \n",
       "75%      0.01             0.12   228.01  \n",
       "max      0.18             0.50  2032.77  "
      ]
     },
     "metadata": {},
     "output_type": "display_data"
    },
    {
     "name": "stdout",
     "output_type": "stream",
     "text": [
      "\n",
      "Variable:             Type:\n",
      "Impressions           float64\n",
      "Cost                  float64\n",
      "Duration                int64\n",
      "Unique link clicks    float64\n",
      "Post shares           float64\n",
      "Post comments         float64\n",
      "Registration          float64\n",
      "Website purchases     float64\n",
      "CPC                   float64\n",
      "CPM                   float64\n",
      "CTR                   float64\n",
      "CR                    float64\n",
      "registration_CR       float64\n",
      "CPA                   float64\n",
      "CTR_class              object\n",
      "CR_class               object\n",
      "dtype: object\n",
      "\n",
      "Variable:             Empty values:\n",
      "Impressions           0\n",
      "Cost                  0\n",
      "Duration              0\n",
      "Unique link clicks    0\n",
      "Post shares           0\n",
      "Post comments         0\n",
      "Registration          0\n",
      "Website purchases     0\n",
      "CPC                   0\n",
      "CPM                   0\n",
      "CTR                   0\n",
      "CR                    0\n",
      "registration_CR       0\n",
      "CPA                   0\n",
      "CTR_class             0\n",
      "CR_class              0\n",
      "dtype: int64\n",
      "0    98\n",
      "1    98\n",
      "Name: CTR_class, dtype: int64\n",
      "0    127\n",
      "1     69\n",
      "Name: CR_class, dtype: int64\n"
     ]
    }
   ],
   "source": [
    "data_ad = data.groupby([\"Ad name\"])                                           \\\n",
    "              .agg({\"Impressions\" :  \"sum\", \n",
    "                    \"Cost\" : \"sum\", \n",
    "                    \"Impressions_2\" : \"count\", \n",
    "                    \"Unique link clicks\" : \"sum\", \n",
    "                    \"Post shares\" : \"sum\", \n",
    "                    \"Post comments\" : \"sum\", \n",
    "                    \"Registration\" : \"sum\", \n",
    "                    \"Website purchases\" : \"sum\"})                                          \\\n",
    "              .rename(columns = {\"Impressions_2\" : \"Duration\"})\n",
    " \n",
    "# Add CPC:\n",
    "data_ad[\"CPC\"] = data_ad[\"Cost\"] / data_ad[\"Unique link clicks\"]\n",
    "\n",
    "# Add CPM:\n",
    "data_ad[\"CPM\"] = data_ad[\"Cost\"] / data_ad.Impressions * 1000\n",
    "    \n",
    "# Add CTR:\n",
    "data_ad[\"CTR\"] = data_ad[\"Unique link clicks\"] / data_ad.Impressions \n",
    " \n",
    "# Add CR:\n",
    "data_ad[\"CR\"] = data_ad[\"Website purchases\"] / data_ad[\"Unique link clicks\"]   \n",
    "\n",
    "# Add registration_CR:\n",
    "data_ad[\"registration_CR\"] = data_ad.Registration / data_ad[\"Unique link clicks\"]   \n",
    "\n",
    "# Add CPA:\n",
    "data_ad[\"CPA\"] = data_ad[\"Cost\"] / data_ad[\"Website purchases\"]\n",
    " \n",
    "# Remove NaN values: \n",
    "data_ad = data_ad.replace(to_replace = np.nan, value = 0) \n",
    " \n",
    "# Add a CTR class to data_ad -> Above median average? If yes, it's a 1. If not, it's a 0: \n",
    "data_ad[\"CTR_class\"] = pd.cut(data_ad.CTR, \n",
    "                              bins = [data_ad.CTR.min() - 1, \n",
    "                                      data_ad.CTR.median(), \n",
    "                                      data_ad.CTR.max() + 1 ], \n",
    "                              labels = [\"0\", \"1\"])\n",
    "     \n",
    "# Add a CR class to data_ad -> Above median average? If yes, it's a 1. If not, it's a 0: \n",
    "data_ad[\"CR_class\"] = pd.cut(data_ad.CR, \n",
    "                              bins = [data_ad.CR.min() - 1, \n",
    "                                      data_ad.CR.mean(), \n",
    "                                      data_ad.CR.max() + 1], \n",
    "                              labels = [\"0\", \"1\"])\n",
    " \n",
    "# Remove inf values: \n",
    "data_ad = data_ad.replace(np.inf, 0) \n",
    "print(\"Maximum value in CR is:\", data_ad.CR.max().round(2))\n",
    "\n",
    "\n",
    "display(data_ad.head(3))\n",
    "display(data_ad.describe().round(2)) \n",
    "print(f\"\"\"\\nVariable:             Type:\n",
    "{data_ad.dtypes}\"\"\")\n",
    "print(f\"\\nVariable:             Empty values:\\n{data_ad.isnull().sum()}\") \n",
    "print(data_ad.CTR_class.value_counts())\n",
    "print(data_ad.CR_class.value_counts())"
   ]
  },
  {
   "cell_type": "markdown",
   "metadata": {
    "heading_collapsed": true
   },
   "source": [
    "## Scale Data"
   ]
  },
  {
   "cell_type": "markdown",
   "metadata": {
    "hidden": true
   },
   "source": [
    "### data (into data_scaled):"
   ]
  },
  {
   "cell_type": "code",
   "execution_count": null,
   "metadata": {
    "hidden": true
   },
   "outputs": [],
   "source": [
    "data_scaled = data.copy()                                        \\\n",
    "                  .replace(to_replace = np.nan, value = 0)\n",
    " \n",
    "data_scaled.head(1)"
   ]
  },
  {
   "cell_type": "code",
   "execution_count": null,
   "metadata": {
    "hidden": true
   },
   "outputs": [],
   "source": [
    "from sklearn.preprocessing import StandardScaler \n",
    "\n",
    "scaler = StandardScaler()\n",
    "\n",
    "scaler.fit(data_scaled[['Impressions', 'Cost', 'Unique link clicks', \n",
    "                        'Post shares', 'Post comments', 'Registration', \n",
    "                        'Website purchases', 'CPC (cost per link click)', \n",
    "                        'CTR (link click-through rate)']])\n",
    "\n",
    "data_scaled[['Impressions', 'Cost', 'Unique link clicks', \n",
    "             'Post shares', 'Post comments', 'Registration', \n",
    "             'Website purchases', 'CPC (cost per link click)', \n",
    "             'CTR (link click-through rate)']] = scaler.transform(data_scaled[['Impressions', 'Cost', \n",
    "                                                                               'Unique link clicks', \n",
    "                                                                               'Post shares', 'Post comments', \n",
    "                                                                               'Registration', \n",
    "                                                                               'Website purchases', \n",
    "                                                                               'CPC (cost per link click)', \n",
    "                                                                               'CTR (link click-through rate)']])\n",
    "display(data_scaled.head(1)) \n",
    "display(data_scaled.describe().round(2) )\n",
    "data_scaled.dtypes"
   ]
  },
  {
   "cell_type": "markdown",
   "metadata": {
    "hidden": true
   },
   "source": [
    "### data_daily: "
   ]
  },
  {
   "cell_type": "code",
   "execution_count": null,
   "metadata": {
    "hidden": true
   },
   "outputs": [],
   "source": []
  },
  {
   "cell_type": "markdown",
   "metadata": {
    "hidden": true
   },
   "source": [
    "### data_ad:"
   ]
  },
  {
   "cell_type": "code",
   "execution_count": null,
   "metadata": {
    "hidden": true
   },
   "outputs": [],
   "source": [
    "data_ad_scaled = data_ad.copy()\n",
    "data_ad_scaled.head(3)"
   ]
  },
  {
   "cell_type": "code",
   "execution_count": null,
   "metadata": {
    "hidden": true,
    "scrolled": false
   },
   "outputs": [],
   "source": [
    "from sklearn.preprocessing import StandardScaler \n",
    "\n",
    "scaler = StandardScaler()\n",
    "\n",
    "scaler.fit(data_ad_scaled[['Impressions', 'Cost', 'Duration', \n",
    "                           'Unique link clicks', \n",
    "                           'Post shares', 'Post comments', \n",
    "                           'Registration', \n",
    "                           'Website purchases', 'CPC', \n",
    "                           'CPM', 'CTR', 'CR', 'registration_CR']])\n",
    "\n",
    "data_ad_scaled[['Impressions', 'Cost', 'Duration', \n",
    "                'Unique link clicks', \n",
    "                'Post shares', 'Post comments', \n",
    "                'Registration', \n",
    "                'Website purchases', 'CPC', \n",
    "                'CPM', 'CTR', 'CR', \n",
    "                'registration_CR']] = scaler.transform(data_ad_scaled[['Impressions', 'Cost', \n",
    "                                                                       'Duration', 'Unique link clicks', \n",
    "                                                                       'Post shares', 'Post comments', \n",
    "                                                                       'Registration', 'Website purchases', \n",
    "                                                                       'CPC', 'CPM', 'CTR', 'CR',\n",
    "                                                                       'registration_CR']])\n",
    "display(data_ad_scaled.head(2)) \n",
    "data_ad_scaled.describe().round(2) "
   ]
  },
  {
   "cell_type": "markdown",
   "metadata": {
    "heading_collapsed": true
   },
   "source": [
    "# KMeans: "
   ]
  },
  {
   "cell_type": "markdown",
   "metadata": {
    "hidden": true
   },
   "source": [
    "## KNN - KNeighborsRegressor"
   ]
  },
  {
   "cell_type": "markdown",
   "metadata": {
    "hidden": true
   },
   "source": [
    "### data_ad: "
   ]
  },
  {
   "cell_type": "markdown",
   "metadata": {
    "heading_collapsed": true,
    "hidden": true
   },
   "source": [
    "#### Baseline KNN Model (Day 5, Week 4)"
   ]
  },
  {
   "cell_type": "code",
   "execution_count": null,
   "metadata": {
    "hidden": true
   },
   "outputs": [],
   "source": [
    "from sklearn.model_selection import train_test_split\n",
    "\n",
    "# Split data_ad_scaled: \n",
    "X_scaled = data_ad_scaled[['Impressions', 'Cost', 'Duration', 'Unique link clicks', \n",
    "                    'Post shares', 'Post comments', 'Registration', \n",
    "                    'CPC', 'CPM', 'CTR', 'CTR_class']]\n",
    "y_scaled = data_ad_scaled[\"Website purchases\"]\n",
    " \n",
    "X_train_scaled, X_test_scaled,\\\n",
    "y_train_scaled, y_test_scaled = train_test_split(X_scaled, y_scaled, \n",
    "                                                 test_size = 0.3, random_state = 1)\n",
    "\n",
    "# Split data_ad: \n",
    "X = data_ad[['Impressions', 'Cost', 'Duration', 'Unique link clicks', \n",
    "                    'Post shares', 'Post comments', 'Registration', \n",
    "                    'CPC', 'CPM', 'CTR', 'CTR_class']]\n",
    "y = data_ad[\"Website purchases\"]\n",
    " \n",
    "X_train, X_test, y_train, y_test = train_test_split(X, y, test_size = 0.3,\n",
    "                                                    random_state = 1)"
   ]
  },
  {
   "cell_type": "code",
   "execution_count": null,
   "metadata": {
    "hidden": true
   },
   "outputs": [],
   "source": [
    "from sklearn.neighbors import KNeighborsRegressor\n",
    "from sklearn.model_selection import cross_validate\n",
    "\n",
    "model_knn_reg = KNeighborsRegressor(n_neighbors = 1)\n",
    "\n",
    "cv_result = cross_validate(model_knn_reg, X_train_scaled, \n",
    "                           y_train, cv = 5)\n",
    "\n",
    "print(f\"\"\"The Baseline score is: {(cv_result[\"test_score\"].mean() * 100).round(1)}%.\"\"\")"
   ]
  },
  {
   "cell_type": "markdown",
   "metadata": {
    "heading_collapsed": true,
    "hidden": true
   },
   "source": [
    "#### GridSearchCV (Day 5, Week 4)"
   ]
  },
  {
   "cell_type": "code",
   "execution_count": null,
   "metadata": {
    "hidden": true
   },
   "outputs": [],
   "source": [
    "from sklearn.model_selection import GridSearchCV\n",
    "\n",
    "model_knn = KNeighborsRegressor()\n",
    "params = {\"n_neighbors\" : np.arange(1, 100, 1)}\n",
    "\n",
    "\n",
    "grid = GridSearchCV(model_knn, params, cv = 5, n_jobs = -1)\n",
    "\n",
    "grid.fit(X_train_scaled, y_train)"
   ]
  },
  {
   "cell_type": "code",
   "execution_count": null,
   "metadata": {
    "hidden": true
   },
   "outputs": [],
   "source": [
    "print(f\"\"\"The GridSearchCV score is: {(grid.best_score_ * 100).round()}%. \n",
    "The best model is: {grid.best_estimator_}\"\"\")"
   ]
  },
  {
   "cell_type": "markdown",
   "metadata": {
    "heading_collapsed": true,
    "hidden": true
   },
   "source": [
    "#### Multiple Params (Day 5, Week 4): "
   ]
  },
  {
   "cell_type": "code",
   "execution_count": null,
   "metadata": {
    "hidden": true
   },
   "outputs": [],
   "source": [
    "from sklearn.model_selection import GridSearchCV\n",
    "\n",
    "model_knn = KNeighborsRegressor()\n",
    "params = {\"n_neighbors\" : np.arange(1, 100, 1), \n",
    "          \"p\" : [1, 2, 3]}\n",
    "\n",
    "grid_multiple = GridSearchCV(model_knn, params, cv = 5, n_jobs = -1)\n",
    "\n",
    "grid_multiple.fit(X_train_scaled, y_train)"
   ]
  },
  {
   "cell_type": "code",
   "execution_count": null,
   "metadata": {
    "hidden": true
   },
   "outputs": [],
   "source": [
    "print(f\"\"\"The Multiple GridSearchCV score is: {(grid_multiple.best_score_ * 100).round()}%. \n",
    "The best model is: {grid_multiple.best_estimator_}\"\"\")"
   ]
  },
  {
   "cell_type": "markdown",
   "metadata": {
    "heading_collapsed": true,
    "hidden": true
   },
   "source": [
    "#### RandomizedSearchCV (Day 5, Week 4)"
   ]
  },
  {
   "cell_type": "code",
   "execution_count": null,
   "metadata": {
    "hidden": true
   },
   "outputs": [],
   "source": [
    "from sklearn.model_selection import RandomizedSearchCV\n",
    "\n",
    "model_knn_reg = KNeighborsRegressor()\n",
    "search_space = {\"n_neighbors\" : np.arange(1, 51, 1), \n",
    "                \"p\" : [1, 2 , 3]}\n",
    "\n",
    "random_search = RandomizedSearchCV(model_knn_reg, cv = 5, \n",
    "                                   param_distributions = search_space, \n",
    "                                   n_jobs = -1, n_iter = 60)\n",
    "\n",
    "random_search.fit(X_train_scaled, y_train)"
   ]
  },
  {
   "cell_type": "code",
   "execution_count": null,
   "metadata": {
    "hidden": true
   },
   "outputs": [],
   "source": [
    "print(f\"\"\"The RandomSearchCV score is: {(random_search.best_score_ * 100).round()}%. \n",
    "The best model is: {random_search.best_estimator_}\"\"\")"
   ]
  },
  {
   "cell_type": "markdown",
   "metadata": {
    "heading_collapsed": true,
    "hidden": true
   },
   "source": [
    "#### Take the best model and generalise (Day 5, Week 4): "
   ]
  },
  {
   "cell_type": "code",
   "execution_count": null,
   "metadata": {
    "hidden": true
   },
   "outputs": [],
   "source": [
    "best_model = grid_multiple.best_estimator_\n",
    "best_model"
   ]
  },
  {
   "cell_type": "code",
   "execution_count": null,
   "metadata": {
    "hidden": true
   },
   "outputs": [],
   "source": [
    "best_model.fit(X_train_scaled, y_train)\n",
    "\n",
    "y_predicted = best_model.predict(X_test_scaled)\n",
    "y_predicted"
   ]
  },
  {
   "cell_type": "code",
   "execution_count": null,
   "metadata": {
    "hidden": true
   },
   "outputs": [],
   "source": [
    "from sklearn.metrics import r2_score\n",
    "\n",
    "r2 = r2_score(y_test, y_predicted)\n",
    "print(f\"The R2 score is: {(r2*100).round(1)}%\")"
   ]
  },
  {
   "cell_type": "markdown",
   "metadata": {
    "heading_collapsed": true,
    "hidden": true
   },
   "source": [
    "#### cross_val_predict: "
   ]
  },
  {
   "cell_type": "code",
   "execution_count": null,
   "metadata": {
    "hidden": true,
    "scrolled": false
   },
   "outputs": [],
   "source": [
    "from sklearn.model_selection import cross_val_predict\n",
    "\n",
    "model_knn_reg = KNeighborsRegressor()\n",
    "\n",
    "y_pred_knn_reg = cross_val_predict(model_knn_reg, X_scaled, y_scaled, cv = 5)\n",
    "y_pred_knn_reg[0:10]"
   ]
  },
  {
   "cell_type": "code",
   "execution_count": null,
   "metadata": {
    "hidden": true
   },
   "outputs": [],
   "source": [
    "result_knn_purchases = pd.DataFrame(zip(y_scaled, y_pred_knn_reg), \n",
    "                                    columns = [\"y_scaled\", \"y_pred_knn_reg\"])\n",
    "\n",
    "result_knn_purchases[\"delta\"] = result_knn_purchases.y_pred_knn_reg         \\\n",
    "                              - result_knn_purchases.y_scaled\n",
    "\n",
    "result_knn_purchases.sample(3)"
   ]
  },
  {
   "cell_type": "code",
   "execution_count": null,
   "metadata": {
    "hidden": true
   },
   "outputs": [],
   "source": [
    "result_knn_purchases.delta.mean()"
   ]
  },
  {
   "cell_type": "markdown",
   "metadata": {
    "hidden": true
   },
   "source": [
    "## KMeans Clustering"
   ]
  },
  {
   "cell_type": "markdown",
   "metadata": {
    "heading_collapsed": true,
    "hidden": true
   },
   "source": [
    "### Elbow: "
   ]
  },
  {
   "cell_type": "markdown",
   "metadata": {
    "heading_collapsed": true,
    "hidden": true
   },
   "source": [
    "### Pairplots:"
   ]
  },
  {
   "cell_type": "code",
   "execution_count": null,
   "metadata": {
    "hidden": true
   },
   "outputs": [],
   "source": []
  },
  {
   "cell_type": "markdown",
   "metadata": {
    "heading_collapsed": true
   },
   "source": [
    "# Lin Reg / Regression:"
   ]
  },
  {
   "cell_type": "markdown",
   "metadata": {
    "hidden": true
   },
   "source": [
    "## data_ad"
   ]
  },
  {
   "cell_type": "markdown",
   "metadata": {
    "hidden": true
   },
   "source": [
    "### Predict Unique link clicks: "
   ]
  },
  {
   "cell_type": "markdown",
   "metadata": {
    "heading_collapsed": true,
    "hidden": true
   },
   "source": [
    "#### Base Model: "
   ]
  },
  {
   "cell_type": "code",
   "execution_count": null,
   "metadata": {
    "hidden": true
   },
   "outputs": [],
   "source": [
    "data_ad.columns"
   ]
  },
  {
   "cell_type": "code",
   "execution_count": null,
   "metadata": {
    "hidden": true
   },
   "outputs": [],
   "source": [
    "from sklearn.linear_model import LinearRegression \n",
    "from sklearn.model_selection import train_test_split  \n",
    " \n",
    "#X = data_ad[[\"Cost per website purchase\"]] \n",
    "X_linreg_clicks = data_ad.drop(columns = [\"Unique link clicks\", \"Impressions\", \n",
    "                                          \"CTR\", \"CTR_class\"])\n",
    "y_linreg_clicks = data_ad[\"Unique link clicks\"] \n",
    " \n",
    "X_train, X_test, y_train, y_test = train_test_split(X_linreg_clicks, \n",
    "                                                    y_linreg_clicks, \n",
    "                                                    test_size = 0.3, \n",
    "                                                    random_state = 3) \n",
    " \n",
    "lin_model_clicks = LinearRegression() \n",
    " \n",
    "lin_model_clicks.fit(X_train, y_train) \n",
    "\n",
    "(lin_model_clicks.score(X_test, y_test) * 100).round(2)"
   ]
  },
  {
   "cell_type": "code",
   "execution_count": null,
   "metadata": {
    "hidden": true
   },
   "outputs": [],
   "source": [
    "print(lin_model_clicks.coef_) \n",
    "print(lin_model_clicks.intercept_) "
   ]
  },
  {
   "cell_type": "code",
   "execution_count": null,
   "metadata": {
    "hidden": true
   },
   "outputs": [],
   "source": [
    "from sklearn.inspection import permutation_importance \n",
    " \n",
    "result = permutation_importance(lin_model_clicks, X_linreg_clicks, y_linreg_clicks, \n",
    "                                random_state = 5, n_repeats = 100) \n",
    "result"
   ]
  },
  {
   "cell_type": "code",
   "execution_count": null,
   "metadata": {
    "hidden": true
   },
   "outputs": [],
   "source": [
    "results = np.vstack((X_linreg_clicks.columns, \n",
    "                     (result.importances_mean).round(3))).T\n",
    "results"
   ]
  },
  {
   "cell_type": "code",
   "execution_count": null,
   "metadata": {
    "hidden": true
   },
   "outputs": [],
   "source": [
    "pd.DataFrame(results, columns = [\"Feature\", \"Importance\"])                     \\\n",
    "  .sort_values([\"Importance\"], ascending = False)"
   ]
  },
  {
   "cell_type": "markdown",
   "metadata": {
    "hidden": true
   },
   "source": [
    "-> Run another Lin Reg model with only: Cost, Registration, Website purchases, Post comments."
   ]
  },
  {
   "cell_type": "markdown",
   "metadata": {
    "heading_collapsed": true,
    "hidden": true
   },
   "source": [
    "#### Updated model: "
   ]
  },
  {
   "cell_type": "code",
   "execution_count": null,
   "metadata": {
    "hidden": true,
    "scrolled": true
   },
   "outputs": [],
   "source": [
    "X_linreg_clicks = data_ad[[\"Cost\", \"Registration\", \"Website purchases\", \"Post comments\", \"Duration\"]]\n",
    "y_linreg_clicks = data_ad[\"Unique link clicks\"] \n",
    " \n",
    "X_train, X_test, y_train, y_test = train_test_split(X_linreg_clicks, \n",
    "                                                    y_linreg_clicks, \n",
    "                                                    test_size = 0.3, \n",
    "                                                    random_state = 3) \n",
    " \n",
    "lin_model_clicks_updated = LinearRegression() \n",
    " \n",
    "lin_model_clicks_updated.fit(X_train, y_train) \n",
    "\n",
    "(lin_model_clicks_updated.score(X_test, y_test) * 100).round(2)"
   ]
  },
  {
   "cell_type": "markdown",
   "metadata": {
    "hidden": true
   },
   "source": [
    "-> By including more features we can improve our model. "
   ]
  },
  {
   "cell_type": "markdown",
   "metadata": {
    "heading_collapsed": true,
    "hidden": true
   },
   "source": [
    "#### cross_val_predict: "
   ]
  },
  {
   "cell_type": "code",
   "execution_count": null,
   "metadata": {
    "hidden": true
   },
   "outputs": [],
   "source": [
    "from sklearn.model_selection import cross_val_predict\n",
    "y_pred_clicks = cross_val_predict(lin_model_clicks, X_linreg_clicks, \n",
    "                           y_linreg_clicks, cv = 5)\n",
    "display(y_pred_clicks[0:10])\n",
    "len(y_pred_clicks)"
   ]
  },
  {
   "cell_type": "code",
   "execution_count": null,
   "metadata": {
    "hidden": true
   },
   "outputs": [],
   "source": [
    "comparision = pd.DataFrame(zip(y_linreg_clicks, y_pred_clicks), \n",
    "                           columns = [\"y_linreg_clicks\", \"y_pred_clicks\"])\n",
    "comparision[\"delta\"] = comparision.y_pred_clicks - comparision.y_linreg_clicks\n",
    "display(comparision.sample(5))\n",
    "comparision.shape"
   ]
  },
  {
   "cell_type": "code",
   "execution_count": null,
   "metadata": {
    "hidden": true
   },
   "outputs": [],
   "source": [
    "comparision.delta.mean()"
   ]
  },
  {
   "cell_type": "markdown",
   "metadata": {
    "hidden": true
   },
   "source": [
    "### Predict Website purchases: "
   ]
  },
  {
   "cell_type": "markdown",
   "metadata": {
    "heading_collapsed": true,
    "hidden": true
   },
   "source": [
    "#### Base model:"
   ]
  },
  {
   "cell_type": "code",
   "execution_count": null,
   "metadata": {
    "hidden": true
   },
   "outputs": [],
   "source": [
    "X_linreg_sales = data_ad.drop(columns = [\"Website purchases\", \"CR\", \"CR_class\"]) \n",
    "y_linreg_sales = data_ad[\"Website purchases\"]\n",
    " \n",
    "X_train, X_test, y_train, y_test = train_test_split(X_linreg_sales, y_linreg_sales, \n",
    "                                                    test_size = 0.3, random_state = 1)\n",
    " \n",
    "lin_model_purchases = LinearRegression()\n",
    " \n",
    "lin_model_purchases.fit(X_train, y_train)\n",
    " \n",
    "print(f\"\"\"The score of the base model is: {(lin_model_purchases.score(X_test, y_test)*100).round(1)}%.\"\"\")"
   ]
  },
  {
   "cell_type": "code",
   "execution_count": null,
   "metadata": {
    "hidden": true
   },
   "outputs": [],
   "source": [
    "result = permutation_importance(lin_model_purchases, X_linreg_sales, y_linreg_sales, \n",
    "                                random_state = 5, n_repeats = 100) \n",
    "result"
   ]
  },
  {
   "cell_type": "code",
   "execution_count": null,
   "metadata": {
    "hidden": true,
    "scrolled": true
   },
   "outputs": [],
   "source": [
    "results = np.vstack((X_linreg_sales.columns, \n",
    "                     (result.importances_mean).round(4))).T\n",
    "results"
   ]
  },
  {
   "cell_type": "code",
   "execution_count": null,
   "metadata": {
    "hidden": true,
    "scrolled": false
   },
   "outputs": [],
   "source": [
    "pd.DataFrame(results, columns = [\"Feature\", \"Importance\"])                     \\\n",
    "  .sort_values([\"Importance\"], ascending = False)"
   ]
  },
  {
   "cell_type": "markdown",
   "metadata": {
    "heading_collapsed": true,
    "hidden": true
   },
   "source": [
    "#### Updated model:"
   ]
  },
  {
   "cell_type": "code",
   "execution_count": null,
   "metadata": {
    "hidden": true,
    "scrolled": true
   },
   "outputs": [],
   "source": [
    "#X_linreg_sales = data_ad.drop(columns = [\"Website purchases\", \"CR\", \"CR_class\", \n",
    "#                                         \"CTR\", \"CTR_class\", \"CPM\"])\n",
    "\n",
    "X_linreg_sales = data_ad[[\"Impressions\", \"Cost\", \"Duration\", \"Unique link clicks\",\n",
    "                          \"Post shares\",  \"Post comments\", \"Registration\"]]\n",
    "y_linreg_sales = data_ad[\"Website purchases\"]\n",
    " \n",
    "X_train, X_test, y_train, y_test = train_test_split(X_linreg_sales, y_linreg_sales, \n",
    "                                                    test_size = 0.3, random_state = 1)\n",
    " \n",
    "lin_model_purchases_updated = LinearRegression()\n",
    " \n",
    "lin_model_purchases_updated.fit(X_train, y_train)\n",
    " \n",
    "print(f\"\"\"The score of the updated model is: {(lin_model_purchases_updated.score(X_test, y_test)*100).round(1)}%.\"\"\")"
   ]
  },
  {
   "cell_type": "markdown",
   "metadata": {
    "heading_collapsed": true,
    "hidden": true
   },
   "source": [
    "#### cross_val_predict: "
   ]
  },
  {
   "cell_type": "code",
   "execution_count": null,
   "metadata": {
    "hidden": true
   },
   "outputs": [],
   "source": [
    "y_pred_sales = cross_val_predict(lin_model_purchases_updated, \n",
    "                                 X_linreg_sales, y_linreg_sales, cv = 5)"
   ]
  },
  {
   "cell_type": "code",
   "execution_count": null,
   "metadata": {
    "hidden": true
   },
   "outputs": [],
   "source": [
    "comparision = pd.DataFrame(zip(y_linreg_sales, y_pred_sales), \n",
    "                           columns = [\"y_sales\", \"y_pred_sales\"])\n",
    "comparision[\"delta\"] = comparision.y_sales - comparision.y_pred_sales\n",
    "display(comparision.sample(5))\n",
    "comparision.shape"
   ]
  },
  {
   "cell_type": "code",
   "execution_count": null,
   "metadata": {
    "hidden": true
   },
   "outputs": [],
   "source": [
    "comparision.delta.mean().round(2)"
   ]
  },
  {
   "cell_type": "markdown",
   "metadata": {
    "heading_collapsed": true,
    "hidden": true
   },
   "source": [
    "#### Predictions:"
   ]
  },
  {
   "cell_type": "code",
   "execution_count": null,
   "metadata": {
    "hidden": true
   },
   "outputs": [],
   "source": [
    "#ads = data_ad.loc[[\"selfie-profiles-organic-outline-blue-bg-paul_static\", \n",
    "#                   \"upsizing-30s-video_single_w39-2020\", \n",
    "#                   \"chipolata-animatic_video_w39-2020\", \n",
    "#                   \"hollywood-60s-pid_video\", \"swingers-v2-4:5_video\", \n",
    "#                   \"trustpilot-richard_video\", \"selfie-profiles-stylised_carousel\"],\n",
    "#                  :]\n",
    "\n",
    "#test_ads = ads.drop(columns = [\"Website purchases\", \"CR\", \"CR_class\", \n",
    "#                               \"CTR\", \"CTR_class\", \"CPM\"])\n",
    "#ads"
   ]
  },
  {
   "cell_type": "code",
   "execution_count": null,
   "metadata": {
    "hidden": true
   },
   "outputs": [],
   "source": [
    "# Find ads so we can define \"realistic\" test ads:\n",
    "ads = data_ad.loc[[\"selfie-profiles-organic-outline-blue-bg-paul_static\", \n",
    "                   \"upsizing-30s-video_single_w39-2020\", \n",
    "                   \"chipolata-animatic_video_w39-2020\", \n",
    "                   \"hollywood-60s-pid_video\", \"swingers-v2-4:5_video\", \n",
    "                   \"trustpilot-richard_video\", \"selfie-profiles-stylised_carousel\"],\n",
    "                  :]\n",
    "\n",
    "test_ads = data_ad.loc[[\"selfie-profiles-organic-outline-blue-bg-paul_static\", \n",
    "                        \"upsizing-30s-video_single_w39-2020\", \n",
    "                        \"chipolata-animatic_video_w39-2020\", \"hollywood-60s-pid_video\", \n",
    "                        \"swingers-v2-4:5_video\", \"trustpilot-richard_video\", \n",
    "                        \"selfie-profiles-stylised_carousel\"], \n",
    "                       [\"Impressions\", \"Cost\", \"Duration\", \"Unique link clicks\",\n",
    "                          \"Post shares\",  \"Post comments\", \"Registration\"]] \n",
    "\n",
    "display(ads) \n",
    "print(lin_model_purchases_updated.predict(test_ads).round(1)) "
   ]
  },
  {
   "cell_type": "code",
   "execution_count": null,
   "metadata": {
    "hidden": true
   },
   "outputs": [],
   "source": [
    "# Take one of those ads and see how they will scale:\n",
    "\n",
    "test_ad_3 = data_ad.loc[[\"chipolata-animatic_video_w39-2020\"], \n",
    "                        [\"Impressions\", \"Cost\", \"Duration\", \"Unique link clicks\",\n",
    "                         \"Post shares\",  \"Post comments\", \"Registration\", \n",
    "                         \"registration_CR\"]]\n",
    "print(f\"The predicted number of Website Purchases of test_ad_1 is:\",  \n",
    "      lin_model_purchases_updated.predict(test_ad_3 * 2.5).round(1)[0])"
   ]
  },
  {
   "cell_type": "code",
   "execution_count": null,
   "metadata": {
    "hidden": true
   },
   "outputs": [],
   "source": [
    "# Come up with a fictive ad (based on test_ad_7) \n",
    "# for our 7 features and see what we get: \n",
    "\n",
    "# \"Impressions\", \"Cost\", \"Duration\", \"Unique link clicks\", \n",
    "# \"Post shares\",  \"Post comments\", \"Registration\": \n",
    " \n",
    "test_ad_8 = [[125_000, 11_000.19, 130, 2_500.0, 10.0, 40.0, 350.0]]\n",
    "\n",
    "print(lin_model_purchases_updated.predict(test_ad_8).round(1)) "
   ]
  },
  {
   "cell_type": "markdown",
   "metadata": {
    "heading_collapsed": true,
    "hidden": true
   },
   "source": [
    "#### Updated model w/ registration CR: "
   ]
  },
  {
   "cell_type": "code",
   "execution_count": null,
   "metadata": {
    "hidden": true,
    "scrolled": true
   },
   "outputs": [],
   "source": [
    "#X_linreg_sales = data_ad.drop(columns = [\"Website purchases\", \"CR\", \"CR_class\", \n",
    "#                                         \"CTR\", \"CTR_class\", \"CPM\"])\n",
    "\n",
    "X_columns = [\"Impressions\", \"Cost\", \"Duration\", \"Unique link clicks\", \"Post shares\",  \n",
    "             \"Post comments\", \"Registration\", \"registration_CR\"]\n",
    "X_linreg_sales = data_ad[X_columns]\n",
    "y_linreg_sales = data_ad[\"Website purchases\"]\n",
    " \n",
    "X_train, X_test, y_train, y_test = train_test_split(X_linreg_sales, y_linreg_sales, \n",
    "                                                    test_size = 0.3, random_state = 1)\n",
    " \n",
    "lin_model_updated_registrations = LinearRegression()\n",
    " \n",
    "lin_model_updated_registrations.fit(X_train, y_train)\n",
    " \n",
    "print(f\"\"\"The score of the updated model is: {(lin_model_updated_registrations.score(X_test, y_test)*100).round(1)}%.\"\"\")"
   ]
  },
  {
   "cell_type": "markdown",
   "metadata": {
    "hidden": true
   },
   "source": [
    "##### cross_val_predict: "
   ]
  },
  {
   "cell_type": "code",
   "execution_count": null,
   "metadata": {
    "hidden": true
   },
   "outputs": [],
   "source": [
    "y_pred_sales = cross_val_predict(lin_model_updated_registrations, \n",
    "                                 X_linreg_sales, y_linreg_sales, cv = 5)\n",
    "\n",
    "comparision = pd.DataFrame(zip(y_linreg_sales, y_pred_sales), \n",
    "                           columns = [\"y_sales\", \"y_pred_sales\"])\n",
    "comparision[\"delta\"] = comparision.y_sales - comparision.y_pred_sales\n",
    "display(comparision.sample(5).round(1))\n",
    "comparision.delta.mean().round(2)"
   ]
  },
  {
   "cell_type": "markdown",
   "metadata": {
    "hidden": true
   },
   "source": [
    "##### Predictions: "
   ]
  },
  {
   "cell_type": "code",
   "execution_count": null,
   "metadata": {
    "hidden": true
   },
   "outputs": [],
   "source": [
    "print(X_columns)"
   ]
  },
  {
   "cell_type": "code",
   "execution_count": null,
   "metadata": {
    "hidden": true
   },
   "outputs": [],
   "source": [
    "# Find ads so we can define \"realistic\" test ads:\n",
    "ads = data_ad.loc[[\"selfie-profiles-organic-outline-blue-bg-paul_static\", \n",
    "                   \"upsizing-30s-video_single_w39-2020\", \n",
    "                   \"chipolata-animatic_video_w39-2020\", \n",
    "                   \"hollywood-60s-pid_video\", \"swingers-v2-4:5_video\", \n",
    "                   \"trustpilot-richard_video\", \"selfie-profiles-stylised_carousel\"],\n",
    "                  :]\n",
    "\n",
    "test_ads = ads[X_columns]\n",
    "\n",
    "display(ads) \n",
    "print(lin_model_updated_registrations.predict(test_ads).round(1)) "
   ]
  },
  {
   "cell_type": "markdown",
   "metadata": {
    "hidden": true
   },
   "source": [
    "## data_ad_scaled:"
   ]
  },
  {
   "cell_type": "markdown",
   "metadata": {
    "heading_collapsed": true,
    "hidden": true
   },
   "source": [
    "### base model: "
   ]
  },
  {
   "cell_type": "code",
   "execution_count": null,
   "metadata": {
    "hidden": true
   },
   "outputs": [],
   "source": [
    "X_linreg_sales_scaled = data_ad_scaled.drop(columns = [\"Website purchases\", \"CR\", \n",
    "                                                       \"CR_class\"]) \n",
    "y_linreg_sales_scaled = data_ad_scaled[\"Website purchases\"]\n",
    " \n",
    "X_train, X_test, y_train, y_test = train_test_split(X_linreg_sales_scaled, \n",
    "                                                    y_linreg_sales_scaled, \n",
    "                                                    test_size = 0.3, random_state = 1)\n",
    " \n",
    "lin_model_purchases_scaled = LinearRegression()\n",
    " \n",
    "lin_model_purchases_scaled.fit(X_train, y_train)\n",
    " \n",
    "print(f\"\"\"The score of the scaled, base model is: {(lin_model_purchases_scaled.score(X_test, y_test)*100).round(1)}%.\"\"\")"
   ]
  },
  {
   "cell_type": "code",
   "execution_count": null,
   "metadata": {
    "hidden": true
   },
   "outputs": [],
   "source": [
    "result = permutation_importance(lin_model_purchases_scaled, \n",
    "                                X_linreg_sales_scaled, \n",
    "                                y_linreg_sales_scaled, \n",
    "                                random_state = 5, n_repeats = 100) \n",
    "\n",
    "result = np.vstack((X_linreg_sales_scaled.columns, \n",
    "                    (result.importances_mean).round(3))).T\n",
    "\n",
    "result"
   ]
  },
  {
   "cell_type": "code",
   "execution_count": null,
   "metadata": {
    "hidden": true,
    "scrolled": false
   },
   "outputs": [],
   "source": [
    "pd.DataFrame(result, columns = [\"Feature\", \"Importance\"])            \\\n",
    "  .sort_values(\"Importance\", ascending = False)"
   ]
  },
  {
   "cell_type": "code",
   "execution_count": null,
   "metadata": {
    "hidden": true
   },
   "outputs": [],
   "source": []
  },
  {
   "cell_type": "markdown",
   "metadata": {},
   "source": [
    "# Log Reg / Classification:"
   ]
  },
  {
   "cell_type": "markdown",
   "metadata": {},
   "source": [
    "## Log Reg:  "
   ]
  },
  {
   "cell_type": "markdown",
   "metadata": {
    "heading_collapsed": true
   },
   "source": [
    "### Predict CTR_Class:"
   ]
  },
  {
   "cell_type": "code",
   "execution_count": null,
   "metadata": {
    "hidden": true
   },
   "outputs": [],
   "source": [
    "from sklearn.linear_model import LogisticRegression \n",
    " \n",
    "X_log_ad = data_ad.drop(columns = [\"CTR\", \"CTR_class\", \n",
    "                                   \"Unique link clicks\", \"Impressions\"])\n",
    "y_log_ad = data_ad[\"CTR_class\"] \n",
    "\n",
    "X_train_log_ad, X_test_log_ad,\\\n",
    "y_train_log_ad, y_test_log_ad = train_test_split(X_log_ad, y_log_ad,\n",
    "                                                 test_size = 0.3, random_state = 3)\n",
    "\n",
    "log_model = LogisticRegression(max_iter = 1_000)\n",
    " \n",
    "log_model.fit(X_train_log_ad, y_train_log_ad)\n",
    "\n",
    "print(f\"\"\"Score of the model is: {(log_model.score(X_test_log_ad, y_test_log_ad) * 100).round(1)}%.\"\"\")"
   ]
  },
  {
   "cell_type": "code",
   "execution_count": null,
   "metadata": {
    "hidden": true
   },
   "outputs": [],
   "source": [
    "columns = data_ad.columns.drop([\"CTR\", \"CTR_class\", \n",
    "                                \"Unique link clicks\", \"Impressions\"])\n",
    "columns"
   ]
  },
  {
   "cell_type": "code",
   "execution_count": null,
   "metadata": {
    "hidden": true
   },
   "outputs": [],
   "source": [
    "# Cost, Duration, Post shares, Post comments, Registration, \n",
    "# Website purchases, CPC, CPM, CR, CR_class \n",
    "\n",
    "display(data_ad.loc[\"\"\"selfie-profiles-organic-outline-blue-bg-jordan-pid_static\"\"\", \n",
    "                    columns])\n",
    "\n",
    "test_ad = [[\"200.1\", \"3\", \"0\", \"0\", \"7\", \"1\", \"5.45\", \n",
    "            \"7.24\", \"0.023\", \"0.195122\", \"200\", \"1\"]]\n",
    "\n",
    "print(log_model.predict(test_ad))"
   ]
  },
  {
   "cell_type": "markdown",
   "metadata": {
    "heading_collapsed": true
   },
   "source": [
    "### Predict CR_Class:"
   ]
  },
  {
   "cell_type": "code",
   "execution_count": null,
   "metadata": {
    "hidden": true
   },
   "outputs": [],
   "source": [
    "from sklearn.linear_model import LogisticRegression \n",
    " \n",
    "X_log_ad = data_ad.drop(columns = [\"Website purchases\",\n",
    "                                   \"CR\", \"CR_class\"]) \n",
    "y_log_ad = data_ad[\"CR_class\"] \n",
    "\n",
    "X_train_log_ad, X_test_log_ad,\\\n",
    "y_train_log_ad, y_test_log_ad = train_test_split(X_log_ad, y_log_ad,\n",
    "                                                 test_size = 0.3, random_state = 3)\n",
    "\n",
    "log_model_cr_class = LogisticRegression(max_iter = 1_000)\n",
    " \n",
    "log_model_cr_class.fit(X_train_log_ad, y_train_log_ad)\n",
    "\n",
    "print(f\"\"\"Score of the model is: {(log_model_cr_class.score(X_test_log_ad, y_test_log_ad) * 100).round(1)}%.\"\"\")"
   ]
  },
  {
   "cell_type": "code",
   "execution_count": null,
   "metadata": {
    "hidden": true
   },
   "outputs": [],
   "source": [
    "columns = data_ad.columns.drop([\"Website purchases\", \"CR\", \"CR_class\"])\n",
    "columns"
   ]
  },
  {
   "cell_type": "code",
   "execution_count": null,
   "metadata": {
    "hidden": true
   },
   "outputs": [],
   "source": [
    "display(data_ad.loc[\"\"\"moves-with-you_static_2020-w45\"\"\", columns])\n",
    "display(data_ad.loc[\"\"\"selfie-jordan-skullman_static\"\"\", columns])\n",
    "# Define Sample ad: Metrics to use: \n",
    "# Impressions, Cost, Duration, Unique link clicks, Post shares, Post comments, \n",
    "# Registration, CPC, CPM, CTR, CPA, CTR_class\n",
    " \n",
    "test_ad_1 = [[\"86008\", \"655.73\", \"8\", \"150\", \"0\", \"1\", \"15\", \"4.37153\", \n",
    "              \"7.62406\", \"0.00174402\", \"0.1\", \"0\", \"0\"]]\n",
    " \n",
    "test_ad_2 = [[\"44853\", \"372.76\", \"9\", \"103\", \"0\", \"1\", \"10\", \n",
    "              \"3.61903\", \"8.3107\", \"0.00229639\", \"0.0970874\", \"0\", \"0\"]]\n",
    "\n",
    "print(f\"\"\"The predicted class of test_ad_1 is: {log_model_cr_class.predict(test_ad_1)}\"\"\")\n",
    "print(f\"\"\"The predicted class of test_ad_2 is: {log_model_cr_class.predict(test_ad_2)}\"\"\")"
   ]
  },
  {
   "cell_type": "markdown",
   "metadata": {},
   "source": [
    "## LogReg w/: pipe, grid & Pre-Processor Tuning"
   ]
  },
  {
   "cell_type": "markdown",
   "metadata": {},
   "source": [
    "### data_ad: "
   ]
  },
  {
   "cell_type": "code",
   "execution_count": null,
   "metadata": {},
   "outputs": [],
   "source": [
    "from sklearn.pipeline import Pipeline\n",
    "from sklearn.preprocessing import MinMaxScaler\n",
    "from sklearn.impute import KNNImputer\n",
    "from sklearn.model_selection import GridSearchCV\n",
    "\n",
    "X = data_ad.drop(columns = [\"Website purchases\", \"CR\", \"CR_class\"]) \n",
    "y = data_ad[\"CR_class\"] \n",
    "\n",
    "pipe = Pipeline([('scale', MinMaxScaler()),  \n",
    "                 ('imputer', KNNImputer()), \n",
    "                 ('model', LogisticRegression())])\n",
    "\n",
    "params = {\"imputer__n_neighbors\" : np.arange(1, 10, 1)}\n",
    "\n",
    "grid = GridSearchCV(pipe, params, scoring = \"accuracy\")\n",
    "\n",
    "grid.fit(X, y)\n",
    "\n",
    "grid.best_estimator_"
   ]
  },
  {
   "cell_type": "code",
   "execution_count": null,
   "metadata": {},
   "outputs": [],
   "source": [
    "from sklearn.model_selection import cross_val_score\n",
    "\n",
    "score_grid = cross_val_score(grid.best_estimator_, X, y, \n",
    "                             cv = 10, scoring = \"accuracy\")\n",
    "round(score_grid.mean() * 100, 2)"
   ]
  },
  {
   "cell_type": "markdown",
   "metadata": {},
   "source": [
    "### data_daily:"
   ]
  },
  {
   "cell_type": "markdown",
   "metadata": {},
   "source": [
    "Seems not to be working due to nan's. Despit having an Imputer in there. "
   ]
  },
  {
   "cell_type": "code",
   "execution_count": null,
   "metadata": {
    "scrolled": true
   },
   "outputs": [],
   "source": [
    "X = data_daily.drop(columns = [\"Website purchases\", \"CR\", \"CR_class\", \"Date\", \n",
    "                               \"Ad set name\", \"Ad name\", \"Campaign name\"]) \n",
    "y = data_daily[\"CR_class\"]\n",
    "\n",
    "pipe = Pipeline([('scale', MinMaxScaler()),  \n",
    "                 ('imputer', KNNImputer()), \n",
    "                 ('model', LogisticRegression())])\n",
    "\n",
    "params = {\"imputer__n_neighbors\" : np.arange(1, 3, 1)}\n",
    "\n",
    "grid = GridSearchCV(pipe, params, scoring = \"recall\")\n",
    "\n",
    "grid.fit(X, y)\n",
    "\n",
    "grid.best_estimator_"
   ]
  },
  {
   "cell_type": "code",
   "execution_count": null,
   "metadata": {},
   "outputs": [],
   "source": []
  },
  {
   "cell_type": "markdown",
   "metadata": {},
   "source": [
    "## Regularisation: "
   ]
  },
  {
   "cell_type": "markdown",
   "metadata": {
    "heading_collapsed": true
   },
   "source": [
    "### Base Model: "
   ]
  },
  {
   "cell_type": "code",
   "execution_count": null,
   "metadata": {
    "hidden": true
   },
   "outputs": [],
   "source": [
    "#Based on Day 5, Week 4: \n",
    "from sklearn.linear_model import LogisticRegression\n",
    "from sklearn.preprocessing import MinMaxScaler\n",
    " \n",
    "X = data_ad.drop(columns = [\"CR\", \"Website purchases\", \"CR_class\"])\n",
    "y = data_ad[\"CR_class\"]\n",
    "\n",
    "#X = data_ad.drop(columns = [\"CTR_class\", \"Unique link clicks\", \"CTR\"])\n",
    "#y = data_ad[\"CTR_class\"]\n",
    " \n",
    "# MinMaxScale the data: \n",
    "scaler = MinMaxScaler()\n",
    "X_scaled = scaler.fit_transform(X)\n",
    "X_scaled = pd.DataFrame(X_scaled, columns = X.columns)\n",
    "X_scaled.head(2)\n",
    " \n",
    "log_model = LogisticRegression(penalty = 'none', max_iter = 500) \n",
    "\n",
    "log_model.fit(X_scaled, y) \n",
    "\n",
    "log_model.coef_"
   ]
  },
  {
   "cell_type": "code",
   "execution_count": null,
   "metadata": {
    "hidden": true
   },
   "outputs": [],
   "source": [
    "features = pd.DataFrame(np.vstack((X.columns, log_model.coef_)).T, \n",
    "                        columns = [\"Coefficient\", \"Importance\"])            \\\n",
    "             .sort_values(\"Importance\", ascending = False)\n",
    "features"
   ]
  },
  {
   "cell_type": "markdown",
   "metadata": {
    "heading_collapsed": true
   },
   "source": [
    "### L2 Penalty: "
   ]
  },
  {
   "cell_type": "code",
   "execution_count": null,
   "metadata": {
    "hidden": true,
    "scrolled": true
   },
   "outputs": [],
   "source": [
    "log_model_l2 = LogisticRegression(penalty = 'l2', max_iter = 50_000, C = 0.1)\n",
    "\n",
    "log_model_l2.fit(X_scaled, y)\n",
    "\n",
    "log_model_l2.coef_"
   ]
  },
  {
   "cell_type": "code",
   "execution_count": null,
   "metadata": {
    "hidden": true
   },
   "outputs": [],
   "source": [
    "features_l2 = pd.DataFrame(np.vstack((X.columns, log_model_l2.coef_)).T, \n",
    "                        columns = [\"Coefficient\", \"Importance\"])            \\\n",
    "             .sort_values(\"Importance\", ascending = False)\n",
    "features_l2"
   ]
  },
  {
   "cell_type": "markdown",
   "metadata": {
    "heading_collapsed": true
   },
   "source": [
    "### L1 Penalty: "
   ]
  },
  {
   "cell_type": "code",
   "execution_count": null,
   "metadata": {
    "hidden": true
   },
   "outputs": [],
   "source": [
    "model_log_l1 = LogisticRegression(penalty = \"l1\", max_iter = 5000, \n",
    "                                  solver = \"liblinear\", C = 0.1)\n",
    "\n",
    "model_log_l1.fit(X_scaled, y)\n",
    "\n",
    "model_log_l1.coef_"
   ]
  },
  {
   "cell_type": "code",
   "execution_count": null,
   "metadata": {
    "hidden": true
   },
   "outputs": [],
   "source": [
    "features_l1 = pd.DataFrame(np.vstack((X.columns, model_log_l1.coef_)).T, \n",
    "                        columns = [\"Coefficient\", \"Importance\"])            \\\n",
    "             .sort_values(\"Importance\", ascending = False)\n",
    "features_l1"
   ]
  },
  {
   "cell_type": "markdown",
   "metadata": {},
   "source": [
    "## SVM: "
   ]
  },
  {
   "cell_type": "markdown",
   "metadata": {},
   "source": [
    "### plot_decision_regions(): "
   ]
  },
  {
   "cell_type": "code",
   "execution_count": null,
   "metadata": {},
   "outputs": [],
   "source": [
    "from sklearn.pipeline import Pipeline\n",
    "from sklearn.svm import SVC\n",
    "from mlxtend.plotting import plot_decision_regions\n",
    "\n",
    "X = data_ad[[\"Impressions\"]]\n",
    "y = data_ad[[\"Website purchases\"]]\n",
    "\n",
    "svm = SVC(kernel = \"rbf\", C = 0.1, gamma = 50)\n",
    "\n",
    "svm.fit(X, y)\n",
    "\n",
    "plot_decision_regions(X, y, classifier = svm)"
   ]
  },
  {
   "cell_type": "markdown",
   "metadata": {},
   "source": [
    "### Random Search (SVM, Day 5, Week 4)"
   ]
  },
  {
   "cell_type": "code",
   "execution_count": null,
   "metadata": {},
   "outputs": [],
   "source": [
    "from sklearn.model_selection import RandomizedSearchCV\n",
    "from scipy import stats\n",
    "\n",
    "model = SVC()\n",
    "\n",
    "search_space = {\"kernel\" : [\"sigmoid\"], \n",
    "               \"C\" : stats.uniform(0.01, 1_000)}\n",
    "\n",
    "random_search = RandomizedSearchCV(model, search_space, cv = 5, verbose = 0, \n",
    "                                  scoring = \"accuracy\", n_iter = -1)\n",
    "\n",
    "random_search.fit(X, y)"
   ]
  },
  {
   "cell_type": "markdown",
   "metadata": {},
   "source": [
    "### Gridsearch / SVC:"
   ]
  },
  {
   "cell_type": "markdown",
   "metadata": {},
   "source": [
    "#### Predict CTR_class: "
   ]
  },
  {
   "cell_type": "code",
   "execution_count": null,
   "metadata": {},
   "outputs": [],
   "source": [
    "from sklearn.model_selection import GridSearchCV\n",
    "\n",
    "X = data_ad.drop(columns = [\"CTR_class\", \"Impressions\", \"Unique link clicks\", \"CTR\"])\n",
    "y = data_ad[\"CTR_class\"]\n",
    "\n",
    "X_train, X_test, y_train, y_test = train_test_split(X, y, test_size = 0.3, \n",
    "                                                    random_state = 3) \n",
    "\n",
    "steps = [(\"scaler\", StandardScaler()), \n",
    "         (\"SVM\", SVC())]\n",
    "\n",
    "pipeline = Pipeline(steps) \n",
    "\n",
    "parameters = {\"SVM__C\" : np.arange(1, 100, 1), \n",
    "              \"SVM__gamma\" : np.arange(0.01, 0.11, 0.01)} \n",
    "\n",
    "cv = GridSearchCV(pipeline, parameters, scoring = \"accuracy\") \n",
    "\n",
    "cv.fit(X_train, y_train) \n",
    "\n",
    "y_pred = cv.predict(X_test) \n",
    "\n",
    "print(f\"\"\"Score of the model is: {(cv.score(X_test, y_test)*100).round(1)}%.\"\"\")\n",
    "print(cv.best_estimator_)\n",
    "print(classification_report(y_test, y_pred))"
   ]
  },
  {
   "cell_type": "markdown",
   "metadata": {
    "heading_collapsed": true
   },
   "source": [
    "#### Predict CR_class"
   ]
  },
  {
   "cell_type": "code",
   "execution_count": null,
   "metadata": {
    "hidden": true,
    "scrolled": true
   },
   "outputs": [],
   "source": [
    "from sklearn.model_selection import GridSearchCV\n",
    "\n",
    "X = data_ad.drop(columns = [\"CR_class\", \"Website purchases\", \"CR\"])\n",
    "y = data_ad[\"CR_class\"]\n",
    "\n",
    "X_train, X_test, y_train, y_test = train_test_split(X, y, test_size = 0.3, \n",
    "                                                    random_state = 3) \n",
    "\n",
    "steps = [(\"scaler\", StandardScaler()), \n",
    "         (\"SVM\", SVC())]\n",
    "\n",
    "pipeline = Pipeline(steps) \n",
    "\n",
    "parameters = {\"SVM__C\" : np.arange(1, 85, 1), \n",
    "              \"SVM__gamma\" : np.arange(0.01, 0.11, 0.01)} \n",
    "\n",
    "cv_CR_class = GridSearchCV(pipeline, parameters, scoring = \"accuracy\") \n",
    "\n",
    "cv_CR_class.fit(X_train, y_train) \n",
    "\n",
    "y_pred = cv_CR_class.predict(X_test) \n",
    "\n",
    "print(f\"\"\"-> The Score of this model is: {(cv_CR_class.score(X_test, y_test) * 100).round(1)}%.\"\"\")\n",
    "print(cv_CR_class.best_estimator_)\n",
    "print(classification_report(y_test, y_pred))"
   ]
  },
  {
   "cell_type": "markdown",
   "metadata": {
    "heading_collapsed": true
   },
   "source": [
    "#### Make CR_class predictions: "
   ]
  },
  {
   "cell_type": "code",
   "execution_count": null,
   "metadata": {
    "hidden": true,
    "scrolled": false
   },
   "outputs": [],
   "source": [
    "test_ads = data_ad.loc[[\"on-hold-stills_single_w36-2020\", \"give-a-lot--paying-too-much_video\", \n",
    "                        \"selfie-profiles-stylised_carousel\", \"give-a-lot-we-think-LI-is-shit-PID_static\", \n",
    "                        \"selfie-profiles-organic-outline-blue-bg-nicola_static\"]]\n",
    "display(test_ads.round(2))\n",
    "print(cv_CR_class.predict(test_ads.drop(columns = [\"CR_class\", \"Website purchases\", \"CR\"])))"
   ]
  },
  {
   "cell_type": "code",
   "execution_count": null,
   "metadata": {
    "hidden": true
   },
   "outputs": [],
   "source": [
    "# Scale a test_ad: \n",
    "test_ad = data_ad.loc[[\"li-in-under-5-mins-v2 _video_2020-w45\", \n",
    "                       \"give-a-lot-we-think-LI-is-shit-PID_static\"]]\n",
    "test_ad_scaled = test_ad * 10\n",
    "\n",
    "display(test_ad)\n",
    "display(test_ad_scaled)\n",
    "\n",
    "print(cv_CR_class.predict(test_ad_scaled.drop(columns = [\"CR_class\", \"Website purchases\", \"CR\"])))"
   ]
  },
  {
   "cell_type": "code",
   "execution_count": null,
   "metadata": {
    "hidden": true
   },
   "outputs": [],
   "source": [
    "# Create a fictive ad, based on the ad above. \n",
    "test_ad_1 = [[10472.0, \n",
    "              108.2, \n",
    "              50, \n",
    "              320.0, \n",
    "              0.0, \n",
    "              0.0, \n",
    "              50.0,  #registrations\n",
    "              33.756250, \n",
    "              103.151261, \n",
    "              0.030558, \n",
    "              0.0, \n",
    "              1]]\n",
    "cv_CR_class.predict(test_ad_1)"
   ]
  },
  {
   "cell_type": "markdown",
   "metadata": {},
   "source": [
    "### Pipeline (incl KNN): "
   ]
  },
  {
   "cell_type": "code",
   "execution_count": null,
   "metadata": {},
   "outputs": [],
   "source": [
    "X = data_ad.drop(columns = [\"CTR_class\", \"Impressions\", \"Unique link clicks\"])\n",
    "y = data_ad[\"CTR_class\"] \n",
    " \n",
    "X_train, X_test, y_train, y_test = train_test_split(X, y, test_size = 0.3, \n",
    "                                                    random_state = 3) \n",
    "    \n",
    "steps = [(\"scaler\", StandardScaler()), \n",
    "         (\"knn\", KNeighborsClassifier())]\n",
    " \n",
    "pipeline = Pipeline(steps) \n",
    " \n",
    "parameters = {\"knn__n_neighbors\": np.arange(1, 10)}\n",
    " \n",
    "cv = GridSearchCV(pipeline, param_grid = parameters) \n",
    " \n",
    "cv.fit(X_train, y_train)\n",
    "\n",
    "y_pred = cv.predict(X_test)\n",
    "\n",
    "print(cv.best_params_)\n",
    "print(f\"\"\"-> Score of this model is: {(cv.score(X_test, y_test) * 100).round(1)}%.\"\"\")\n",
    "print(classification_report(y_test, y_pred))"
   ]
  },
  {
   "cell_type": "markdown",
   "metadata": {},
   "source": [
    "### RandomizedSearch, Pipeline Tuning: "
   ]
  },
  {
   "cell_type": "markdown",
   "metadata": {},
   "source": [
    "#### data_ad"
   ]
  },
  {
   "cell_type": "code",
   "execution_count": 23,
   "metadata": {
    "ExecuteTime": {
     "end_time": "2021-03-26T18:16:53.967341Z",
     "start_time": "2021-03-26T18:16:53.327370Z"
    }
   },
   "outputs": [
    {
     "name": "stdout",
     "output_type": "stream",
     "text": [
      "Pipeline(steps=[('preprocessing',\n",
      "                 Pipeline(steps=[('imputer',\n",
      "                                  SimpleImputer(strategy='most_frequent')),\n",
      "                                 ('scaler', MinMaxScaler())])),\n",
      "                ('model_svm', SVC(C=1.1199847322593592, kernel='poly'))])\n",
      "nan\n"
     ]
    },
    {
     "name": "stderr",
     "output_type": "stream",
     "text": [
      "/Users/Lucas/.pyenv/versions/3.7.7/envs/lewagon/lib/python3.7/site-packages/sklearn/model_selection/_search.py:921: UserWarning: One or more of the test scores are non-finite: [nan nan nan nan nan nan nan nan nan nan]\n",
      "  category=UserWarning\n"
     ]
    }
   ],
   "source": [
    "X = data_ad.drop(columns = [\"Website purchases\", \"CR\", \"CR_class\"]) \n",
    "y = data_ad[\"CR_class\"] \n",
    "\n",
    "pre_pipe = Pipeline([('imputer', SimpleImputer()), \n",
    "                     ('scaler', MinMaxScaler())])\n",
    "\n",
    "final_pipe = Pipeline([('preprocessing', pre_pipe), \n",
    "                       ('model_svm', SVC())])\n",
    "\n",
    "param_distributions = {\"preprocessing__imputer__strategy\" : [\"mean\", \"median\", \n",
    "                                                             \"most_frequent\"], \n",
    "                       \"model_svm__kernel\" : [\"linear\", \"poly\", \"rbf\", \"sigmoid\"], \n",
    "                       \"model_svm__C\" : uniform(0.1, 10)}\n",
    "\n",
    "random_search = RandomizedSearchCV(final_pipe, param_distributions, \n",
    "                                   scoring = \"precision\", cv = 5, n_jobs = -1)\n",
    "\n",
    "random_search.fit(X, y)\n",
    "\n",
    "tuned_pipe = random_search.best_estimator_\n",
    "print(tuned_pipe)\n",
    "print(random_search.best_score_)"
   ]
  },
  {
   "cell_type": "code",
   "execution_count": 24,
   "metadata": {
    "ExecuteTime": {
     "end_time": "2021-03-26T18:16:54.158030Z",
     "start_time": "2021-03-26T18:16:53.973613Z"
    }
   },
   "outputs": [
    {
     "name": "stdout",
     "output_type": "stream",
     "text": [
      "The score is:  75.5\n"
     ]
    }
   ],
   "source": [
    "score = cross_val_score(tuned_pipe, X, y, cv = 10)\n",
    "\n",
    "print(\"The score is: \", round(score.mean(), 3) * 100)"
   ]
  },
  {
   "cell_type": "markdown",
   "metadata": {},
   "source": [
    "#### data_daily: "
   ]
  },
  {
   "cell_type": "code",
   "execution_count": 26,
   "metadata": {
    "ExecuteTime": {
     "end_time": "2021-03-26T18:17:56.738101Z",
     "start_time": "2021-03-26T18:17:28.816761Z"
    }
   },
   "outputs": [
    {
     "name": "stderr",
     "output_type": "stream",
     "text": [
      "/Users/Lucas/.pyenv/versions/3.7.7/envs/lewagon/lib/python3.7/site-packages/sklearn/model_selection/_search.py:921: UserWarning: One or more of the test scores are non-finite: [nan nan nan nan nan nan nan nan nan nan]\n",
      "  category=UserWarning\n"
     ]
    },
    {
     "name": "stdout",
     "output_type": "stream",
     "text": [
      "Pipeline(steps=[('preprocessing',\n",
      "                 Pipeline(steps=[('imputer', SimpleImputer(strategy='median')),\n",
      "                                 ('scaler', MinMaxScaler())])),\n",
      "                ('model_svm', SVC(C=5.870309175401985))])\n",
      "nan\n"
     ]
    }
   ],
   "source": [
    "from sklearn.pipeline import Pipeline\n",
    "from sklearn.impute import SimpleImputer\n",
    "from sklearn.svm import SVC\n",
    "from sklearn.model_selection import RandomizedSearchCV\n",
    "from scipy.stats import uniform\n",
    "\n",
    "#X = data_daily.drop(columns = [\"Website purchases\", \"CR\", \"CR_class\", \"Date\", \n",
    "#                               \"Ad set name\", \"Ad name\", \"Campaign name\"])\n",
    "X = data_daily[[\"Impressions\"]]\n",
    "y = data_daily[\"CR_class\"] \n",
    "\n",
    "pre_pipe = Pipeline([('imputer', SimpleImputer()), \n",
    "                     ('scaler', MinMaxScaler())]) \n",
    "\n",
    "final_pipe = Pipeline([('preprocessing', pre_pipe), \n",
    "                       ('model_svm', SVC())])\n",
    "\n",
    "param_distributions = {\"preprocessing__imputer__strategy\" : [\"mean\", \"median\", \n",
    "                                                             \"most_frequent\"], \n",
    "                       \"model_svm__kernel\" : [\"linear\", \"poly\", \"rbf\", \"sigmoid\"], \n",
    "                       \"model_svm__C\" : uniform(0.1, 10)}\n",
    "\n",
    "random_search = RandomizedSearchCV(final_pipe, param_distributions, \n",
    "                                   scoring = \"precision\", cv = 5, n_jobs = -1)\n",
    "\n",
    "random_search.fit(X, y)\n",
    "\n",
    "tuned_pipe = random_search.best_estimator_\n",
    "print(tuned_pipe)\n",
    "print(random_search.best_score_)"
   ]
  },
  {
   "cell_type": "code",
   "execution_count": 28,
   "metadata": {
    "ExecuteTime": {
     "end_time": "2021-03-26T18:19:20.160567Z",
     "start_time": "2021-03-26T18:18:58.695687Z"
    }
   },
   "outputs": [
    {
     "name": "stdout",
     "output_type": "stream",
     "text": [
      "The score is:  86.4\n"
     ]
    }
   ],
   "source": [
    "score = cross_val_score(tuned_pipe, X, y, cv = 10)\n",
    "\n",
    "print(\"The score is: \", round(score.mean(), 3) * 100)"
   ]
  },
  {
   "cell_type": "code",
   "execution_count": null,
   "metadata": {},
   "outputs": [],
   "source": []
  }
 ],
 "metadata": {
  "kernelspec": {
   "display_name": "Python 3",
   "language": "python",
   "name": "python3"
  },
  "language_info": {
   "codemirror_mode": {
    "name": "ipython",
    "version": 3
   },
   "file_extension": ".py",
   "mimetype": "text/x-python",
   "name": "python",
   "nbconvert_exporter": "python",
   "pygments_lexer": "ipython3",
   "version": "3.7.7"
  },
  "toc": {
   "base_numbering": 1,
   "nav_menu": {},
   "number_sections": true,
   "sideBar": true,
   "skip_h1_title": false,
   "title_cell": "Table of Contents",
   "title_sidebar": "Contents",
   "toc_cell": true,
   "toc_position": {
    "height": "calc(100% - 180px)",
    "left": "10px",
    "top": "150px",
    "width": "254px"
   },
   "toc_section_display": true,
   "toc_window_display": true
  }
 },
 "nbformat": 4,
 "nbformat_minor": 4
}
