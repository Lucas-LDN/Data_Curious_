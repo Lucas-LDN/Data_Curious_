{
 "cells": [
  {
   "cell_type": "markdown",
   "metadata": {
    "toc": true
   },
   "source": [
    "<h1>Table of Contents<span class=\"tocSkip\"></span></h1>\n",
    "<div class=\"toc\"><ul class=\"toc-item\"><li><span><a href=\"#Data:\" data-toc-modified-id=\"Data:-1\"><span class=\"toc-item-num\">1&nbsp;&nbsp;</span>Data:</a></span><ul class=\"toc-item\"><li><span><a href=\"#Load-data:\" data-toc-modified-id=\"Load-data:-1.1\"><span class=\"toc-item-num\">1.1&nbsp;&nbsp;</span>Load data:</a></span></li><li><span><a href=\"#Group-Data-into-data_ad:\" data-toc-modified-id=\"Group-Data-into-data_ad:-1.2\"><span class=\"toc-item-num\">1.2&nbsp;&nbsp;</span>Group Data into data_ad:</a></span><ul class=\"toc-item\"><li><span><a href=\"#Split-into-train,-test:\" data-toc-modified-id=\"Split-into-train,-test:-1.2.1\"><span class=\"toc-item-num\">1.2.1&nbsp;&nbsp;</span>Split into train, test:</a></span></li></ul></li><li><span><a href=\"#Scale-Data\" data-toc-modified-id=\"Scale-Data-1.3\"><span class=\"toc-item-num\">1.3&nbsp;&nbsp;</span>Scale Data</a></span><ul class=\"toc-item\"><li><span><a href=\"#data-(into-data_scaled):\" data-toc-modified-id=\"data-(into-data_scaled):-1.3.1\"><span class=\"toc-item-num\">1.3.1&nbsp;&nbsp;</span>data (into data_scaled):</a></span></li><li><span><a href=\"#data_daily:\" data-toc-modified-id=\"data_daily:-1.3.2\"><span class=\"toc-item-num\">1.3.2&nbsp;&nbsp;</span>data_daily:</a></span></li><li><span><a href=\"#data_ad:\" data-toc-modified-id=\"data_ad:-1.3.3\"><span class=\"toc-item-num\">1.3.3&nbsp;&nbsp;</span>data_ad:</a></span></li></ul></li></ul></li><li><span><a href=\"#KMeans:\" data-toc-modified-id=\"KMeans:-2\"><span class=\"toc-item-num\">2&nbsp;&nbsp;</span>KMeans:</a></span><ul class=\"toc-item\"><li><span><a href=\"#KNN---KNeighborsRegressor\" data-toc-modified-id=\"KNN---KNeighborsRegressor-2.1\"><span class=\"toc-item-num\">2.1&nbsp;&nbsp;</span>KNN - KNeighborsRegressor</a></span><ul class=\"toc-item\"><li><span><a href=\"#data_ad:\" data-toc-modified-id=\"data_ad:-2.1.1\"><span class=\"toc-item-num\">2.1.1&nbsp;&nbsp;</span>data_ad:</a></span><ul class=\"toc-item\"><li><span><a href=\"#Baseline-KNN-Model-(Day-5,-Week-4)\" data-toc-modified-id=\"Baseline-KNN-Model-(Day-5,-Week-4)-2.1.1.1\"><span class=\"toc-item-num\">2.1.1.1&nbsp;&nbsp;</span>Baseline KNN Model (Day 5, Week 4)</a></span></li><li><span><a href=\"#GridSearchCV-(Day-5,-Week-4)\" data-toc-modified-id=\"GridSearchCV-(Day-5,-Week-4)-2.1.1.2\"><span class=\"toc-item-num\">2.1.1.2&nbsp;&nbsp;</span>GridSearchCV (Day 5, Week 4)</a></span></li><li><span><a href=\"#Multiple-Params-(Day-5,-Week-4):\" data-toc-modified-id=\"Multiple-Params-(Day-5,-Week-4):-2.1.1.3\"><span class=\"toc-item-num\">2.1.1.3&nbsp;&nbsp;</span>Multiple Params (Day 5, Week 4):</a></span></li><li><span><a href=\"#RandomizedSearchCV-(Day-5,-Week-4)\" data-toc-modified-id=\"RandomizedSearchCV-(Day-5,-Week-4)-2.1.1.4\"><span class=\"toc-item-num\">2.1.1.4&nbsp;&nbsp;</span>RandomizedSearchCV (Day 5, Week 4)</a></span></li><li><span><a href=\"#Take-the-best-model-and-generalise-(Day-5,-Week-4):\" data-toc-modified-id=\"Take-the-best-model-and-generalise-(Day-5,-Week-4):-2.1.1.5\"><span class=\"toc-item-num\">2.1.1.5&nbsp;&nbsp;</span>Take the best model and generalise (Day 5, Week 4):</a></span></li><li><span><a href=\"#cross_val_predict:\" data-toc-modified-id=\"cross_val_predict:-2.1.1.6\"><span class=\"toc-item-num\">2.1.1.6&nbsp;&nbsp;</span>cross_val_predict:</a></span></li></ul></li></ul></li><li><span><a href=\"#KMeans-Clustering\" data-toc-modified-id=\"KMeans-Clustering-2.2\"><span class=\"toc-item-num\">2.2&nbsp;&nbsp;</span>KMeans Clustering</a></span><ul class=\"toc-item\"><li><span><a href=\"#Elbow:\" data-toc-modified-id=\"Elbow:-2.2.1\"><span class=\"toc-item-num\">2.2.1&nbsp;&nbsp;</span>Elbow:</a></span></li><li><span><a href=\"#Pairplots:\" data-toc-modified-id=\"Pairplots:-2.2.2\"><span class=\"toc-item-num\">2.2.2&nbsp;&nbsp;</span>Pairplots:</a></span></li></ul></li></ul></li><li><span><a href=\"#Log-Reg:\" data-toc-modified-id=\"Log-Reg:-3\"><span class=\"toc-item-num\">3&nbsp;&nbsp;</span>Log Reg:</a></span><ul class=\"toc-item\"><li><span><a href=\"#data_ad:\" data-toc-modified-id=\"data_ad:-3.1\"><span class=\"toc-item-num\">3.1&nbsp;&nbsp;</span>data_ad:</a></span></li></ul></li><li><span><a href=\"#Lin-Reg-/-Regression:\" data-toc-modified-id=\"Lin-Reg-/-Regression:-4\"><span class=\"toc-item-num\">4&nbsp;&nbsp;</span>Lin Reg / Regression:</a></span><ul class=\"toc-item\"><li><span><a href=\"#data_ad\" data-toc-modified-id=\"data_ad-4.1\"><span class=\"toc-item-num\">4.1&nbsp;&nbsp;</span>data_ad</a></span><ul class=\"toc-item\"><li><span><a href=\"#Predict-Unique-link-clicks:\" data-toc-modified-id=\"Predict-Unique-link-clicks:-4.1.1\"><span class=\"toc-item-num\">4.1.1&nbsp;&nbsp;</span>Predict Unique link clicks:</a></span><ul class=\"toc-item\"><li><span><a href=\"#Base-Model:\" data-toc-modified-id=\"Base-Model:-4.1.1.1\"><span class=\"toc-item-num\">4.1.1.1&nbsp;&nbsp;</span>Base Model:</a></span></li><li><span><a href=\"#Updated-model:\" data-toc-modified-id=\"Updated-model:-4.1.1.2\"><span class=\"toc-item-num\">4.1.1.2&nbsp;&nbsp;</span>Updated model:</a></span></li><li><span><a href=\"#cross_val_predict:\" data-toc-modified-id=\"cross_val_predict:-4.1.1.3\"><span class=\"toc-item-num\">4.1.1.3&nbsp;&nbsp;</span>cross_val_predict:</a></span></li></ul></li><li><span><a href=\"#Predict-Website-purchases:\" data-toc-modified-id=\"Predict-Website-purchases:-4.1.2\"><span class=\"toc-item-num\">4.1.2&nbsp;&nbsp;</span>Predict Website purchases:</a></span><ul class=\"toc-item\"><li><span><a href=\"#Base-model:\" data-toc-modified-id=\"Base-model:-4.1.2.1\"><span class=\"toc-item-num\">4.1.2.1&nbsp;&nbsp;</span>Base model:</a></span></li><li><span><a href=\"#Updated-model:\" data-toc-modified-id=\"Updated-model:-4.1.2.2\"><span class=\"toc-item-num\">4.1.2.2&nbsp;&nbsp;</span>Updated model:</a></span></li><li><span><a href=\"#cross_val_predict:\" data-toc-modified-id=\"cross_val_predict:-4.1.2.3\"><span class=\"toc-item-num\">4.1.2.3&nbsp;&nbsp;</span>cross_val_predict:</a></span></li><li><span><a href=\"#Predictions:\" data-toc-modified-id=\"Predictions:-4.1.2.4\"><span class=\"toc-item-num\">4.1.2.4&nbsp;&nbsp;</span>Predictions:</a></span></li></ul></li></ul></li></ul></li><li><span><a href=\"#Log-Reg-/-Classification:\" data-toc-modified-id=\"Log-Reg-/-Classification:-5\"><span class=\"toc-item-num\">5&nbsp;&nbsp;</span>Log Reg / Classification:</a></span><ul class=\"toc-item\"><li><span><a href=\"#Log-Reg:\" data-toc-modified-id=\"Log-Reg:-5.1\"><span class=\"toc-item-num\">5.1&nbsp;&nbsp;</span>Log Reg:</a></span><ul class=\"toc-item\"><li><span><a href=\"#Predict-CTR_Class:\" data-toc-modified-id=\"Predict-CTR_Class:-5.1.1\"><span class=\"toc-item-num\">5.1.1&nbsp;&nbsp;</span>Predict CTR_Class:</a></span></li><li><span><a href=\"#Predict-CR_Class:\" data-toc-modified-id=\"Predict-CR_Class:-5.1.2\"><span class=\"toc-item-num\">5.1.2&nbsp;&nbsp;</span>Predict CR_Class:</a></span></li></ul></li><li><span><a href=\"#Regularisation:\" data-toc-modified-id=\"Regularisation:-5.2\"><span class=\"toc-item-num\">5.2&nbsp;&nbsp;</span>Regularisation:</a></span><ul class=\"toc-item\"><li><span><a href=\"#Base-Model:\" data-toc-modified-id=\"Base-Model:-5.2.1\"><span class=\"toc-item-num\">5.2.1&nbsp;&nbsp;</span>Base Model:</a></span></li><li><span><a href=\"#L2-Penalty:\" data-toc-modified-id=\"L2-Penalty:-5.2.2\"><span class=\"toc-item-num\">5.2.2&nbsp;&nbsp;</span>L2 Penalty:</a></span></li><li><span><a href=\"#L1-Penalty:\" data-toc-modified-id=\"L1-Penalty:-5.2.3\"><span class=\"toc-item-num\">5.2.3&nbsp;&nbsp;</span>L1 Penalty:</a></span></li></ul></li><li><span><a href=\"#SVM:\" data-toc-modified-id=\"SVM:-5.3\"><span class=\"toc-item-num\">5.3&nbsp;&nbsp;</span>SVM:</a></span><ul class=\"toc-item\"><li><span><a href=\"#plot_decision_regions():\" data-toc-modified-id=\"plot_decision_regions():-5.3.1\"><span class=\"toc-item-num\">5.3.1&nbsp;&nbsp;</span>plot_decision_regions():</a></span></li><li><span><a href=\"#Random-Search-(SVM,-Day-5,-Week-4)\" data-toc-modified-id=\"Random-Search-(SVM,-Day-5,-Week-4)-5.3.2\"><span class=\"toc-item-num\">5.3.2&nbsp;&nbsp;</span>Random Search (SVM, Day 5, Week 4)</a></span></li><li><span><a href=\"#Gridsearch-/-SVC:\" data-toc-modified-id=\"Gridsearch-/-SVC:-5.3.3\"><span class=\"toc-item-num\">5.3.3&nbsp;&nbsp;</span>Gridsearch / SVC:</a></span></li><li><span><a href=\"#Pipeline-(incl-KNN):\" data-toc-modified-id=\"Pipeline-(incl-KNN):-5.3.4\"><span class=\"toc-item-num\">5.3.4&nbsp;&nbsp;</span>Pipeline (incl KNN):</a></span></li></ul></li></ul></li></ul></div>"
   ]
  },
  {
   "cell_type": "code",
   "execution_count": 99,
   "metadata": {
    "ExecuteTime": {
     "end_time": "2021-03-22T18:15:55.205918Z",
     "start_time": "2021-03-22T18:15:55.202066Z"
    }
   },
   "outputs": [],
   "source": [
    "import pyforest"
   ]
  },
  {
   "cell_type": "markdown",
   "metadata": {},
   "source": [
    "# Data:  "
   ]
  },
  {
   "cell_type": "markdown",
   "metadata": {},
   "source": [
    "## Load data: "
   ]
  },
  {
   "cell_type": "code",
   "execution_count": 98,
   "metadata": {
    "ExecuteTime": {
     "end_time": "2021-03-22T16:42:46.019743Z",
     "start_time": "2021-03-22T16:42:45.043133Z"
    }
   },
   "outputs": [
    {
     "data": {
      "application/javascript": [
       "\n",
       "        if (window._pyforest_update_imports_cell) { window._pyforest_update_imports_cell('import numpy as np\\nimport pandas as pd'); }\n",
       "    "
      ],
      "text/plain": [
       "<IPython.core.display.Javascript object>"
      ]
     },
     "metadata": {},
     "output_type": "display_data"
    },
    {
     "data": {
      "text/html": [
       "<div>\n",
       "<style scoped>\n",
       "    .dataframe tbody tr th:only-of-type {\n",
       "        vertical-align: middle;\n",
       "    }\n",
       "\n",
       "    .dataframe tbody tr th {\n",
       "        vertical-align: top;\n",
       "    }\n",
       "\n",
       "    .dataframe thead th {\n",
       "        text-align: right;\n",
       "    }\n",
       "</style>\n",
       "<table border=\"1\" class=\"dataframe\">\n",
       "  <thead>\n",
       "    <tr style=\"text-align: right;\">\n",
       "      <th></th>\n",
       "      <th>Date</th>\n",
       "      <th>Ad set name</th>\n",
       "      <th>Ad name</th>\n",
       "      <th>Campaign name</th>\n",
       "      <th>Impressions</th>\n",
       "      <th>Cost</th>\n",
       "      <th>Website purchases</th>\n",
       "      <th>Cost per website purchase</th>\n",
       "      <th>CPC (cost per link click)</th>\n",
       "      <th>CTR (link click-through rate)</th>\n",
       "      <th>...</th>\n",
       "      <th>Unique adds to cart</th>\n",
       "      <th>Website leads</th>\n",
       "      <th>Unique link clicks</th>\n",
       "      <th>Unique mobile app adds of payment info</th>\n",
       "      <th>Conversion rate ranking</th>\n",
       "      <th>Post shares</th>\n",
       "      <th>Return on ad spend (ROAS)</th>\n",
       "      <th>Unique completed registrations</th>\n",
       "      <th>Post comments</th>\n",
       "      <th>Impressions_2</th>\n",
       "    </tr>\n",
       "  </thead>\n",
       "  <tbody>\n",
       "    <tr>\n",
       "      <th>8133</th>\n",
       "      <td>2021-02-05</td>\n",
       "      <td>visitors-2-7_all-placements</td>\n",
       "      <td>trustpilot-richard_video</td>\n",
       "      <td>pollenary_3-hot_wc-purchase_uk</td>\n",
       "      <td>76.0</td>\n",
       "      <td>1.37</td>\n",
       "      <td>NaN</td>\n",
       "      <td>NaN</td>\n",
       "      <td>NaN</td>\n",
       "      <td>0.00</td>\n",
       "      <td>...</td>\n",
       "      <td>NaN</td>\n",
       "      <td>NaN</td>\n",
       "      <td>NaN</td>\n",
       "      <td>NaN</td>\n",
       "      <td>0.0</td>\n",
       "      <td>NaN</td>\n",
       "      <td>0.0</td>\n",
       "      <td>NaN</td>\n",
       "      <td>NaN</td>\n",
       "      <td>76.0</td>\n",
       "    </tr>\n",
       "    <tr>\n",
       "      <th>8134</th>\n",
       "      <td>2021-02-05</td>\n",
       "      <td>visitors-2-7_all-placements</td>\n",
       "      <td>vid-onhold-original-1:1</td>\n",
       "      <td>pollenary_3-hot_wc-purchase_uk</td>\n",
       "      <td>66.0</td>\n",
       "      <td>1.13</td>\n",
       "      <td>NaN</td>\n",
       "      <td>NaN</td>\n",
       "      <td>1.13</td>\n",
       "      <td>1.52</td>\n",
       "      <td>...</td>\n",
       "      <td>NaN</td>\n",
       "      <td>NaN</td>\n",
       "      <td>1.0</td>\n",
       "      <td>NaN</td>\n",
       "      <td>0.0</td>\n",
       "      <td>NaN</td>\n",
       "      <td>0.0</td>\n",
       "      <td>NaN</td>\n",
       "      <td>NaN</td>\n",
       "      <td>66.0</td>\n",
       "    </tr>\n",
       "  </tbody>\n",
       "</table>\n",
       "<p>2 rows × 23 columns</p>\n",
       "</div>"
      ],
      "text/plain": [
       "            Date                  Ad set name                   Ad name  \\\n",
       "8133  2021-02-05  visitors-2-7_all-placements  trustpilot-richard_video   \n",
       "8134  2021-02-05  visitors-2-7_all-placements   vid-onhold-original-1:1   \n",
       "\n",
       "                       Campaign name  Impressions  Cost  Website purchases  \\\n",
       "8133  pollenary_3-hot_wc-purchase_uk         76.0  1.37                NaN   \n",
       "8134  pollenary_3-hot_wc-purchase_uk         66.0  1.13                NaN   \n",
       "\n",
       "      Cost per website purchase  CPC (cost per link click)  \\\n",
       "8133                        NaN                        NaN   \n",
       "8134                        NaN                       1.13   \n",
       "\n",
       "      CTR (link click-through rate)  ...  Unique adds to cart  Website leads  \\\n",
       "8133                           0.00  ...                  NaN            NaN   \n",
       "8134                           1.52  ...                  NaN            NaN   \n",
       "\n",
       "      Unique link clicks  Unique mobile app adds of payment info  \\\n",
       "8133                 NaN                                     NaN   \n",
       "8134                 1.0                                     NaN   \n",
       "\n",
       "      Conversion rate ranking  Post shares  Return on ad spend (ROAS)  \\\n",
       "8133                      0.0          NaN                        0.0   \n",
       "8134                      0.0          NaN                        0.0   \n",
       "\n",
       "      Unique completed registrations  Post comments  Impressions_2  \n",
       "8133                             NaN            NaN           76.0  \n",
       "8134                             NaN            NaN           66.0  \n",
       "\n",
       "[2 rows x 23 columns]"
      ]
     },
     "metadata": {},
     "output_type": "display_data"
    },
    {
     "data": {
      "text/html": [
       "<div>\n",
       "<style scoped>\n",
       "    .dataframe tbody tr th:only-of-type {\n",
       "        vertical-align: middle;\n",
       "    }\n",
       "\n",
       "    .dataframe tbody tr th {\n",
       "        vertical-align: top;\n",
       "    }\n",
       "\n",
       "    .dataframe thead th {\n",
       "        text-align: right;\n",
       "    }\n",
       "</style>\n",
       "<table border=\"1\" class=\"dataframe\">\n",
       "  <thead>\n",
       "    <tr style=\"text-align: right;\">\n",
       "      <th></th>\n",
       "      <th>Impressions</th>\n",
       "      <th>Cost</th>\n",
       "      <th>Website purchases</th>\n",
       "      <th>Cost per website purchase</th>\n",
       "      <th>CPC (cost per link click)</th>\n",
       "      <th>CTR (link click-through rate)</th>\n",
       "      <th>Signup</th>\n",
       "      <th>Registration</th>\n",
       "      <th>Unique purchases</th>\n",
       "      <th>Unique adds to cart</th>\n",
       "      <th>Website leads</th>\n",
       "      <th>Unique link clicks</th>\n",
       "      <th>Unique mobile app adds of payment info</th>\n",
       "      <th>Conversion rate ranking</th>\n",
       "      <th>Post shares</th>\n",
       "      <th>Return on ad spend (ROAS)</th>\n",
       "      <th>Unique completed registrations</th>\n",
       "      <th>Post comments</th>\n",
       "      <th>Impressions_2</th>\n",
       "    </tr>\n",
       "  </thead>\n",
       "  <tbody>\n",
       "    <tr>\n",
       "      <th>count</th>\n",
       "      <td>8128.0</td>\n",
       "      <td>8128.0</td>\n",
       "      <td>1343.0</td>\n",
       "      <td>1343.0</td>\n",
       "      <td>6894.0</td>\n",
       "      <td>8128.0</td>\n",
       "      <td>125.0</td>\n",
       "      <td>3430.0</td>\n",
       "      <td>0.0</td>\n",
       "      <td>0.0</td>\n",
       "      <td>6.0</td>\n",
       "      <td>6894.0</td>\n",
       "      <td>0.0</td>\n",
       "      <td>8128.0</td>\n",
       "      <td>1184.0</td>\n",
       "      <td>8110.0</td>\n",
       "      <td>0.0</td>\n",
       "      <td>1902.0</td>\n",
       "      <td>8128.0</td>\n",
       "    </tr>\n",
       "    <tr>\n",
       "      <th>mean</th>\n",
       "      <td>8701.7</td>\n",
       "      <td>67.1</td>\n",
       "      <td>1.8</td>\n",
       "      <td>125.5</td>\n",
       "      <td>3.4</td>\n",
       "      <td>0.4</td>\n",
       "      <td>1.3</td>\n",
       "      <td>4.7</td>\n",
       "      <td>NaN</td>\n",
       "      <td>NaN</td>\n",
       "      <td>1.0</td>\n",
       "      <td>30.2</td>\n",
       "      <td>NaN</td>\n",
       "      <td>0.2</td>\n",
       "      <td>7.0</td>\n",
       "      <td>5.7</td>\n",
       "      <td>NaN</td>\n",
       "      <td>2.5</td>\n",
       "      <td>8701.7</td>\n",
       "    </tr>\n",
       "    <tr>\n",
       "      <th>std</th>\n",
       "      <td>20255.4</td>\n",
       "      <td>150.4</td>\n",
       "      <td>1.4</td>\n",
       "      <td>137.9</td>\n",
       "      <td>2.9</td>\n",
       "      <td>0.5</td>\n",
       "      <td>0.5</td>\n",
       "      <td>7.0</td>\n",
       "      <td>NaN</td>\n",
       "      <td>NaN</td>\n",
       "      <td>0.0</td>\n",
       "      <td>68.3</td>\n",
       "      <td>NaN</td>\n",
       "      <td>0.8</td>\n",
       "      <td>17.3</td>\n",
       "      <td>33.7</td>\n",
       "      <td>NaN</td>\n",
       "      <td>4.0</td>\n",
       "      <td>20255.4</td>\n",
       "    </tr>\n",
       "    <tr>\n",
       "      <th>min</th>\n",
       "      <td>1.0</td>\n",
       "      <td>0.0</td>\n",
       "      <td>1.0</td>\n",
       "      <td>1.8</td>\n",
       "      <td>0.0</td>\n",
       "      <td>0.0</td>\n",
       "      <td>1.0</td>\n",
       "      <td>1.0</td>\n",
       "      <td>NaN</td>\n",
       "      <td>NaN</td>\n",
       "      <td>1.0</td>\n",
       "      <td>1.0</td>\n",
       "      <td>NaN</td>\n",
       "      <td>0.0</td>\n",
       "      <td>1.0</td>\n",
       "      <td>0.0</td>\n",
       "      <td>NaN</td>\n",
       "      <td>1.0</td>\n",
       "      <td>1.0</td>\n",
       "    </tr>\n",
       "    <tr>\n",
       "      <th>25%</th>\n",
       "      <td>565.0</td>\n",
       "      <td>5.0</td>\n",
       "      <td>1.0</td>\n",
       "      <td>32.2</td>\n",
       "      <td>1.7</td>\n",
       "      <td>0.2</td>\n",
       "      <td>1.0</td>\n",
       "      <td>1.0</td>\n",
       "      <td>NaN</td>\n",
       "      <td>NaN</td>\n",
       "      <td>1.0</td>\n",
       "      <td>3.0</td>\n",
       "      <td>NaN</td>\n",
       "      <td>0.0</td>\n",
       "      <td>1.0</td>\n",
       "      <td>0.0</td>\n",
       "      <td>NaN</td>\n",
       "      <td>1.0</td>\n",
       "      <td>565.0</td>\n",
       "    </tr>\n",
       "    <tr>\n",
       "      <th>50%</th>\n",
       "      <td>1776.5</td>\n",
       "      <td>17.0</td>\n",
       "      <td>1.0</td>\n",
       "      <td>82.7</td>\n",
       "      <td>2.8</td>\n",
       "      <td>0.3</td>\n",
       "      <td>1.0</td>\n",
       "      <td>2.0</td>\n",
       "      <td>NaN</td>\n",
       "      <td>NaN</td>\n",
       "      <td>1.0</td>\n",
       "      <td>9.0</td>\n",
       "      <td>NaN</td>\n",
       "      <td>0.0</td>\n",
       "      <td>1.0</td>\n",
       "      <td>0.0</td>\n",
       "      <td>NaN</td>\n",
       "      <td>1.0</td>\n",
       "      <td>1776.5</td>\n",
       "    </tr>\n",
       "    <tr>\n",
       "      <th>75%</th>\n",
       "      <td>7760.0</td>\n",
       "      <td>59.9</td>\n",
       "      <td>2.0</td>\n",
       "      <td>172.5</td>\n",
       "      <td>4.2</td>\n",
       "      <td>0.5</td>\n",
       "      <td>1.0</td>\n",
       "      <td>5.0</td>\n",
       "      <td>NaN</td>\n",
       "      <td>NaN</td>\n",
       "      <td>1.0</td>\n",
       "      <td>26.0</td>\n",
       "      <td>NaN</td>\n",
       "      <td>0.0</td>\n",
       "      <td>4.0</td>\n",
       "      <td>0.0</td>\n",
       "      <td>NaN</td>\n",
       "      <td>2.0</td>\n",
       "      <td>7760.0</td>\n",
       "    </tr>\n",
       "    <tr>\n",
       "      <th>max</th>\n",
       "      <td>317885.0</td>\n",
       "      <td>2050.7</td>\n",
       "      <td>13.0</td>\n",
       "      <td>1092.2</td>\n",
       "      <td>38.8</td>\n",
       "      <td>12.5</td>\n",
       "      <td>4.0</td>\n",
       "      <td>63.0</td>\n",
       "      <td>NaN</td>\n",
       "      <td>NaN</td>\n",
       "      <td>1.0</td>\n",
       "      <td>1364.0</td>\n",
       "      <td>NaN</td>\n",
       "      <td>10.0</td>\n",
       "      <td>260.0</td>\n",
       "      <td>1143.4</td>\n",
       "      <td>NaN</td>\n",
       "      <td>84.0</td>\n",
       "      <td>317885.0</td>\n",
       "    </tr>\n",
       "  </tbody>\n",
       "</table>\n",
       "</div>"
      ],
      "text/plain": [
       "       Impressions    Cost  Website purchases  Cost per website purchase  \\\n",
       "count       8128.0  8128.0             1343.0                     1343.0   \n",
       "mean        8701.7    67.1                1.8                      125.5   \n",
       "std        20255.4   150.4                1.4                      137.9   \n",
       "min            1.0     0.0                1.0                        1.8   \n",
       "25%          565.0     5.0                1.0                       32.2   \n",
       "50%         1776.5    17.0                1.0                       82.7   \n",
       "75%         7760.0    59.9                2.0                      172.5   \n",
       "max       317885.0  2050.7               13.0                     1092.2   \n",
       "\n",
       "       CPC (cost per link click)  CTR (link click-through rate)  Signup  \\\n",
       "count                     6894.0                         8128.0   125.0   \n",
       "mean                         3.4                            0.4     1.3   \n",
       "std                          2.9                            0.5     0.5   \n",
       "min                          0.0                            0.0     1.0   \n",
       "25%                          1.7                            0.2     1.0   \n",
       "50%                          2.8                            0.3     1.0   \n",
       "75%                          4.2                            0.5     1.0   \n",
       "max                         38.8                           12.5     4.0   \n",
       "\n",
       "       Registration  Unique purchases  Unique adds to cart  Website leads  \\\n",
       "count        3430.0               0.0                  0.0            6.0   \n",
       "mean            4.7               NaN                  NaN            1.0   \n",
       "std             7.0               NaN                  NaN            0.0   \n",
       "min             1.0               NaN                  NaN            1.0   \n",
       "25%             1.0               NaN                  NaN            1.0   \n",
       "50%             2.0               NaN                  NaN            1.0   \n",
       "75%             5.0               NaN                  NaN            1.0   \n",
       "max            63.0               NaN                  NaN            1.0   \n",
       "\n",
       "       Unique link clicks  Unique mobile app adds of payment info  \\\n",
       "count              6894.0                                     0.0   \n",
       "mean                 30.2                                     NaN   \n",
       "std                  68.3                                     NaN   \n",
       "min                   1.0                                     NaN   \n",
       "25%                   3.0                                     NaN   \n",
       "50%                   9.0                                     NaN   \n",
       "75%                  26.0                                     NaN   \n",
       "max                1364.0                                     NaN   \n",
       "\n",
       "       Conversion rate ranking  Post shares  Return on ad spend (ROAS)  \\\n",
       "count                   8128.0       1184.0                     8110.0   \n",
       "mean                       0.2          7.0                        5.7   \n",
       "std                        0.8         17.3                       33.7   \n",
       "min                        0.0          1.0                        0.0   \n",
       "25%                        0.0          1.0                        0.0   \n",
       "50%                        0.0          1.0                        0.0   \n",
       "75%                        0.0          4.0                        0.0   \n",
       "max                       10.0        260.0                     1143.4   \n",
       "\n",
       "       Unique completed registrations  Post comments  Impressions_2  \n",
       "count                             0.0         1902.0         8128.0  \n",
       "mean                              NaN            2.5         8701.7  \n",
       "std                               NaN            4.0        20255.4  \n",
       "min                               NaN            1.0            1.0  \n",
       "25%                               NaN            1.0          565.0  \n",
       "50%                               NaN            1.0         1776.5  \n",
       "75%                               NaN            2.0         7760.0  \n",
       "max                               NaN           84.0       317885.0  "
      ]
     },
     "metadata": {},
     "output_type": "display_data"
    },
    {
     "name": "stdout",
     "output_type": "stream",
     "text": [
      "\n",
      "Variable:                                  Type:\n",
      "Date                                       object\n",
      "Ad set name                                object\n",
      "Ad name                                    object\n",
      "Campaign name                              object\n",
      "Impressions                               float64\n",
      "Cost                                      float64\n",
      "Website purchases                         float64\n",
      "Cost per website purchase                 float64\n",
      "CPC (cost per link click)                 float64\n",
      "CTR (link click-through rate)             float64\n",
      "Signup                                    float64\n",
      "Registration                              float64\n",
      "Unique purchases                          float64\n",
      "Unique adds to cart                       float64\n",
      "Website leads                             float64\n",
      "Unique link clicks                        float64\n",
      "Unique mobile app adds of payment info    float64\n",
      "Conversion rate ranking                   float64\n",
      "Post shares                               float64\n",
      "Return on ad spend (ROAS)                 float64\n",
      "Unique completed registrations            float64\n",
      "Post comments                             float64\n",
      "Impressions_2                             float64\n",
      "dtype: object\n"
     ]
    }
   ],
   "source": [
    "data = pd.read_csv(\"DH data sheet - Sheet1 (2).csv\")\n",
    "\n",
    "# Add a second column of Impressions, so we can count how many days is was Live.\n",
    "data[\"Impressions_2\"] = data.Impressions\n",
    "\n",
    "#Remove commas from Cost and make it a float: \n",
    "data[\"Cost\"] = data.Cost.replace('[^\\d.]', '', regex = True)                     \\\n",
    "                        .astype(float)\n",
    "\n",
    "display(data.tail(2))\n",
    "\n",
    "display(data.describe().round(1))\n",
    "\n",
    "print(f\"\"\"\\nVariable:                                  Type:\\n{data.dtypes}\"\"\")"
   ]
  },
  {
   "cell_type": "markdown",
   "metadata": {},
   "source": [
    "##  Group Data into data_ad: "
   ]
  },
  {
   "cell_type": "code",
   "execution_count": 49,
   "metadata": {
    "ExecuteTime": {
     "end_time": "2021-03-22T15:39:59.526144Z",
     "start_time": "2021-03-22T15:39:59.254384Z"
    },
    "scrolled": false
   },
   "outputs": [
    {
     "data": {
      "application/javascript": [
       "\n",
       "        if (window._pyforest_update_imports_cell) { window._pyforest_update_imports_cell('import numpy as np\\nimport pandas as pd'); }\n",
       "    "
      ],
      "text/plain": [
       "<IPython.core.display.Javascript object>"
      ]
     },
     "metadata": {},
     "output_type": "display_data"
    },
    {
     "data": {
      "application/javascript": [
       "\n",
       "        if (window._pyforest_update_imports_cell) { window._pyforest_update_imports_cell('import numpy as np\\nimport pandas as pd'); }\n",
       "    "
      ],
      "text/plain": [
       "<IPython.core.display.Javascript object>"
      ]
     },
     "metadata": {},
     "output_type": "display_data"
    },
    {
     "data": {
      "application/javascript": [
       "\n",
       "        if (window._pyforest_update_imports_cell) { window._pyforest_update_imports_cell('import numpy as np\\nimport pandas as pd'); }\n",
       "    "
      ],
      "text/plain": [
       "<IPython.core.display.Javascript object>"
      ]
     },
     "metadata": {},
     "output_type": "display_data"
    },
    {
     "data": {
      "application/javascript": [
       "\n",
       "        if (window._pyforest_update_imports_cell) { window._pyforest_update_imports_cell('import numpy as np\\nimport pandas as pd'); }\n",
       "    "
      ],
      "text/plain": [
       "<IPython.core.display.Javascript object>"
      ]
     },
     "metadata": {},
     "output_type": "display_data"
    },
    {
     "name": "stdout",
     "output_type": "stream",
     "text": [
      "Maximum value in CR is: 0.18\n"
     ]
    },
    {
     "data": {
      "text/html": [
       "<div>\n",
       "<style scoped>\n",
       "    .dataframe tbody tr th:only-of-type {\n",
       "        vertical-align: middle;\n",
       "    }\n",
       "\n",
       "    .dataframe tbody tr th {\n",
       "        vertical-align: top;\n",
       "    }\n",
       "\n",
       "    .dataframe thead th {\n",
       "        text-align: right;\n",
       "    }\n",
       "</style>\n",
       "<table border=\"1\" class=\"dataframe\">\n",
       "  <thead>\n",
       "    <tr style=\"text-align: right;\">\n",
       "      <th></th>\n",
       "      <th>Impressions</th>\n",
       "      <th>Cost</th>\n",
       "      <th>Duration</th>\n",
       "      <th>Unique link clicks</th>\n",
       "      <th>Post shares</th>\n",
       "      <th>Post comments</th>\n",
       "      <th>Registration</th>\n",
       "      <th>Website purchases</th>\n",
       "      <th>CPC</th>\n",
       "      <th>CPM</th>\n",
       "      <th>CTR</th>\n",
       "      <th>CR</th>\n",
       "      <th>CPA</th>\n",
       "      <th>CTR_class</th>\n",
       "      <th>CR_class</th>\n",
       "    </tr>\n",
       "    <tr>\n",
       "      <th>Ad name</th>\n",
       "      <th></th>\n",
       "      <th></th>\n",
       "      <th></th>\n",
       "      <th></th>\n",
       "      <th></th>\n",
       "      <th></th>\n",
       "      <th></th>\n",
       "      <th></th>\n",
       "      <th></th>\n",
       "      <th></th>\n",
       "      <th></th>\n",
       "      <th></th>\n",
       "      <th></th>\n",
       "      <th></th>\n",
       "      <th></th>\n",
       "    </tr>\n",
       "  </thead>\n",
       "  <tbody>\n",
       "    <tr>\n",
       "      <th>5k-deathwish_single_w41-2020</th>\n",
       "      <td>58014.0</td>\n",
       "      <td>775.29</td>\n",
       "      <td>9</td>\n",
       "      <td>173.0</td>\n",
       "      <td>1.0</td>\n",
       "      <td>2.0</td>\n",
       "      <td>8.0</td>\n",
       "      <td>2.0</td>\n",
       "      <td>4.481445</td>\n",
       "      <td>13.363843</td>\n",
       "      <td>0.002982</td>\n",
       "      <td>0.011561</td>\n",
       "      <td>387.645</td>\n",
       "      <td>1</td>\n",
       "      <td>1</td>\n",
       "    </tr>\n",
       "    <tr>\n",
       "      <th>Instagram post: Be more Mick!\\n🚀We’re growing at...</th>\n",
       "      <td>6272.0</td>\n",
       "      <td>20.00</td>\n",
       "      <td>5</td>\n",
       "      <td>94.0</td>\n",
       "      <td>1.0</td>\n",
       "      <td>0.0</td>\n",
       "      <td>0.0</td>\n",
       "      <td>0.0</td>\n",
       "      <td>0.212766</td>\n",
       "      <td>3.188776</td>\n",
       "      <td>0.014987</td>\n",
       "      <td>0.000000</td>\n",
       "      <td>0.000</td>\n",
       "      <td>1</td>\n",
       "      <td>0</td>\n",
       "    </tr>\n",
       "    <tr>\n",
       "      <th>Post: \"\"Here lies DeadHappy. It was a bit of a sore...\"</th>\n",
       "      <td>646.0</td>\n",
       "      <td>4.64</td>\n",
       "      <td>2</td>\n",
       "      <td>0.0</td>\n",
       "      <td>0.0</td>\n",
       "      <td>12.0</td>\n",
       "      <td>0.0</td>\n",
       "      <td>0.0</td>\n",
       "      <td>0.000000</td>\n",
       "      <td>7.182663</td>\n",
       "      <td>0.000000</td>\n",
       "      <td>0.000000</td>\n",
       "      <td>0.000</td>\n",
       "      <td>0</td>\n",
       "      <td>0</td>\n",
       "    </tr>\n",
       "  </tbody>\n",
       "</table>\n",
       "</div>"
      ],
      "text/plain": [
       "                                                    Impressions    Cost  \\\n",
       "Ad name                                                                   \n",
       "5k-deathwish_single_w41-2020                            58014.0  775.29   \n",
       "Instagram post: Be more Mick!\\n🚀We’re growing a...       6272.0   20.00   \n",
       "Post: \"\"Here lies DeadHappy. It was a bit of a ...        646.0    4.64   \n",
       "\n",
       "                                                    Duration  \\\n",
       "Ad name                                                        \n",
       "5k-deathwish_single_w41-2020                               9   \n",
       "Instagram post: Be more Mick!\\n🚀We’re growing a...         5   \n",
       "Post: \"\"Here lies DeadHappy. It was a bit of a ...         2   \n",
       "\n",
       "                                                    Unique link clicks  \\\n",
       "Ad name                                                                  \n",
       "5k-deathwish_single_w41-2020                                     173.0   \n",
       "Instagram post: Be more Mick!\\n🚀We’re growing a...                94.0   \n",
       "Post: \"\"Here lies DeadHappy. It was a bit of a ...                 0.0   \n",
       "\n",
       "                                                    Post shares  \\\n",
       "Ad name                                                           \n",
       "5k-deathwish_single_w41-2020                                1.0   \n",
       "Instagram post: Be more Mick!\\n🚀We’re growing a...          1.0   \n",
       "Post: \"\"Here lies DeadHappy. It was a bit of a ...          0.0   \n",
       "\n",
       "                                                    Post comments  \\\n",
       "Ad name                                                             \n",
       "5k-deathwish_single_w41-2020                                  2.0   \n",
       "Instagram post: Be more Mick!\\n🚀We’re growing a...            0.0   \n",
       "Post: \"\"Here lies DeadHappy. It was a bit of a ...           12.0   \n",
       "\n",
       "                                                    Registration  \\\n",
       "Ad name                                                            \n",
       "5k-deathwish_single_w41-2020                                 8.0   \n",
       "Instagram post: Be more Mick!\\n🚀We’re growing a...           0.0   \n",
       "Post: \"\"Here lies DeadHappy. It was a bit of a ...           0.0   \n",
       "\n",
       "                                                    Website purchases  \\\n",
       "Ad name                                                                 \n",
       "5k-deathwish_single_w41-2020                                      2.0   \n",
       "Instagram post: Be more Mick!\\n🚀We’re growing a...                0.0   \n",
       "Post: \"\"Here lies DeadHappy. It was a bit of a ...                0.0   \n",
       "\n",
       "                                                         CPC        CPM  \\\n",
       "Ad name                                                                   \n",
       "5k-deathwish_single_w41-2020                        4.481445  13.363843   \n",
       "Instagram post: Be more Mick!\\n🚀We’re growing a...  0.212766   3.188776   \n",
       "Post: \"\"Here lies DeadHappy. It was a bit of a ...  0.000000   7.182663   \n",
       "\n",
       "                                                         CTR        CR  \\\n",
       "Ad name                                                                  \n",
       "5k-deathwish_single_w41-2020                        0.002982  0.011561   \n",
       "Instagram post: Be more Mick!\\n🚀We’re growing a...  0.014987  0.000000   \n",
       "Post: \"\"Here lies DeadHappy. It was a bit of a ...  0.000000  0.000000   \n",
       "\n",
       "                                                        CPA CTR_class CR_class  \n",
       "Ad name                                                                         \n",
       "5k-deathwish_single_w41-2020                        387.645         1        1  \n",
       "Instagram post: Be more Mick!\\n🚀We’re growing a...    0.000         1        0  \n",
       "Post: \"\"Here lies DeadHappy. It was a bit of a ...    0.000         0        0  "
      ]
     },
     "metadata": {},
     "output_type": "display_data"
    },
    {
     "data": {
      "text/html": [
       "<div>\n",
       "<style scoped>\n",
       "    .dataframe tbody tr th:only-of-type {\n",
       "        vertical-align: middle;\n",
       "    }\n",
       "\n",
       "    .dataframe tbody tr th {\n",
       "        vertical-align: top;\n",
       "    }\n",
       "\n",
       "    .dataframe thead th {\n",
       "        text-align: right;\n",
       "    }\n",
       "</style>\n",
       "<table border=\"1\" class=\"dataframe\">\n",
       "  <thead>\n",
       "    <tr style=\"text-align: right;\">\n",
       "      <th></th>\n",
       "      <th>Impressions</th>\n",
       "      <th>Cost</th>\n",
       "      <th>Duration</th>\n",
       "      <th>Unique link clicks</th>\n",
       "      <th>Post shares</th>\n",
       "      <th>Post comments</th>\n",
       "      <th>Registration</th>\n",
       "      <th>Website purchases</th>\n",
       "      <th>CPC</th>\n",
       "      <th>CPM</th>\n",
       "      <th>CTR</th>\n",
       "      <th>CR</th>\n",
       "      <th>CPA</th>\n",
       "    </tr>\n",
       "  </thead>\n",
       "  <tbody>\n",
       "    <tr>\n",
       "      <th>count</th>\n",
       "      <td>196.00</td>\n",
       "      <td>196.00</td>\n",
       "      <td>196.00</td>\n",
       "      <td>196.00</td>\n",
       "      <td>196.00</td>\n",
       "      <td>196.00</td>\n",
       "      <td>196.00</td>\n",
       "      <td>196.00</td>\n",
       "      <td>196.00</td>\n",
       "      <td>196.00</td>\n",
       "      <td>196.00</td>\n",
       "      <td>196.00</td>\n",
       "      <td>196.00</td>\n",
       "    </tr>\n",
       "    <tr>\n",
       "      <th>mean</th>\n",
       "      <td>360852.45</td>\n",
       "      <td>2780.99</td>\n",
       "      <td>41.47</td>\n",
       "      <td>1063.18</td>\n",
       "      <td>42.36</td>\n",
       "      <td>23.91</td>\n",
       "      <td>81.95</td>\n",
       "      <td>12.09</td>\n",
       "      <td>3.80</td>\n",
       "      <td>7.29</td>\n",
       "      <td>0.00</td>\n",
       "      <td>0.01</td>\n",
       "      <td>142.86</td>\n",
       "    </tr>\n",
       "    <tr>\n",
       "      <th>std</th>\n",
       "      <td>1262854.31</td>\n",
       "      <td>9271.47</td>\n",
       "      <td>88.50</td>\n",
       "      <td>3800.01</td>\n",
       "      <td>202.95</td>\n",
       "      <td>86.71</td>\n",
       "      <td>278.96</td>\n",
       "      <td>40.59</td>\n",
       "      <td>9.74</td>\n",
       "      <td>3.90</td>\n",
       "      <td>0.00</td>\n",
       "      <td>0.02</td>\n",
       "      <td>237.63</td>\n",
       "    </tr>\n",
       "    <tr>\n",
       "      <th>min</th>\n",
       "      <td>0.00</td>\n",
       "      <td>0.00</td>\n",
       "      <td>0.00</td>\n",
       "      <td>0.00</td>\n",
       "      <td>0.00</td>\n",
       "      <td>0.00</td>\n",
       "      <td>0.00</td>\n",
       "      <td>0.00</td>\n",
       "      <td>0.00</td>\n",
       "      <td>0.00</td>\n",
       "      <td>0.00</td>\n",
       "      <td>0.00</td>\n",
       "      <td>0.00</td>\n",
       "    </tr>\n",
       "    <tr>\n",
       "      <th>25%</th>\n",
       "      <td>3889.50</td>\n",
       "      <td>16.00</td>\n",
       "      <td>4.00</td>\n",
       "      <td>7.00</td>\n",
       "      <td>0.00</td>\n",
       "      <td>0.00</td>\n",
       "      <td>0.00</td>\n",
       "      <td>0.00</td>\n",
       "      <td>0.76</td>\n",
       "      <td>4.57</td>\n",
       "      <td>0.00</td>\n",
       "      <td>0.00</td>\n",
       "      <td>0.00</td>\n",
       "    </tr>\n",
       "    <tr>\n",
       "      <th>50%</th>\n",
       "      <td>28193.00</td>\n",
       "      <td>173.36</td>\n",
       "      <td>8.00</td>\n",
       "      <td>69.50</td>\n",
       "      <td>2.00</td>\n",
       "      <td>2.50</td>\n",
       "      <td>4.00</td>\n",
       "      <td>0.00</td>\n",
       "      <td>2.47</td>\n",
       "      <td>7.07</td>\n",
       "      <td>0.00</td>\n",
       "      <td>0.00</td>\n",
       "      <td>0.00</td>\n",
       "    </tr>\n",
       "    <tr>\n",
       "      <th>75%</th>\n",
       "      <td>155253.75</td>\n",
       "      <td>1441.22</td>\n",
       "      <td>16.25</td>\n",
       "      <td>558.50</td>\n",
       "      <td>14.25</td>\n",
       "      <td>13.25</td>\n",
       "      <td>46.50</td>\n",
       "      <td>6.25</td>\n",
       "      <td>4.08</td>\n",
       "      <td>9.52</td>\n",
       "      <td>0.00</td>\n",
       "      <td>0.01</td>\n",
       "      <td>228.01</td>\n",
       "    </tr>\n",
       "    <tr>\n",
       "      <th>max</th>\n",
       "      <td>14744629.00</td>\n",
       "      <td>103903.94</td>\n",
       "      <td>474.00</td>\n",
       "      <td>39839.00</td>\n",
       "      <td>2463.00</td>\n",
       "      <td>988.00</td>\n",
       "      <td>3073.00</td>\n",
       "      <td>456.00</td>\n",
       "      <td>119.00</td>\n",
       "      <td>24.37</td>\n",
       "      <td>0.04</td>\n",
       "      <td>0.18</td>\n",
       "      <td>2032.77</td>\n",
       "    </tr>\n",
       "  </tbody>\n",
       "</table>\n",
       "</div>"
      ],
      "text/plain": [
       "       Impressions       Cost  Duration  Unique link clicks  Post shares  \\\n",
       "count       196.00     196.00    196.00              196.00       196.00   \n",
       "mean     360852.45    2780.99     41.47             1063.18        42.36   \n",
       "std     1262854.31    9271.47     88.50             3800.01       202.95   \n",
       "min           0.00       0.00      0.00                0.00         0.00   \n",
       "25%        3889.50      16.00      4.00                7.00         0.00   \n",
       "50%       28193.00     173.36      8.00               69.50         2.00   \n",
       "75%      155253.75    1441.22     16.25              558.50        14.25   \n",
       "max    14744629.00  103903.94    474.00            39839.00      2463.00   \n",
       "\n",
       "       Post comments  Registration  Website purchases     CPC     CPM     CTR  \\\n",
       "count         196.00        196.00             196.00  196.00  196.00  196.00   \n",
       "mean           23.91         81.95              12.09    3.80    7.29    0.00   \n",
       "std            86.71        278.96              40.59    9.74    3.90    0.00   \n",
       "min             0.00          0.00               0.00    0.00    0.00    0.00   \n",
       "25%             0.00          0.00               0.00    0.76    4.57    0.00   \n",
       "50%             2.50          4.00               0.00    2.47    7.07    0.00   \n",
       "75%            13.25         46.50               6.25    4.08    9.52    0.00   \n",
       "max           988.00       3073.00             456.00  119.00   24.37    0.04   \n",
       "\n",
       "           CR      CPA  \n",
       "count  196.00   196.00  \n",
       "mean     0.01   142.86  \n",
       "std      0.02   237.63  \n",
       "min      0.00     0.00  \n",
       "25%      0.00     0.00  \n",
       "50%      0.00     0.00  \n",
       "75%      0.01   228.01  \n",
       "max      0.18  2032.77  "
      ]
     },
     "metadata": {},
     "output_type": "display_data"
    },
    {
     "name": "stdout",
     "output_type": "stream",
     "text": [
      "\n",
      "Variable:             Type:\n",
      "Impressions           float64\n",
      "Cost                  float64\n",
      "Duration                int64\n",
      "Unique link clicks    float64\n",
      "Post shares           float64\n",
      "Post comments         float64\n",
      "Registration          float64\n",
      "Website purchases     float64\n",
      "CPC                   float64\n",
      "CPM                   float64\n",
      "CTR                   float64\n",
      "CR                    float64\n",
      "CPA                   float64\n",
      "CTR_class              object\n",
      "CR_class               object\n",
      "dtype: object\n",
      "\n",
      "Variable:             Empty values:\n",
      "Impressions           0\n",
      "Cost                  0\n",
      "Duration              0\n",
      "Unique link clicks    0\n",
      "Post shares           0\n",
      "Post comments         0\n",
      "Registration          0\n",
      "Website purchases     0\n",
      "CPC                   0\n",
      "CPM                   0\n",
      "CTR                   0\n",
      "CR                    0\n",
      "CPA                   0\n",
      "CTR_class             0\n",
      "CR_class              0\n",
      "dtype: int64\n",
      "1    98\n",
      "0    98\n",
      "Name: CTR_class, dtype: int64\n",
      "0    102\n",
      "1     94\n",
      "Name: CR_class, dtype: int64\n"
     ]
    }
   ],
   "source": [
    "data_ad = data.groupby([\"Ad name\"])                                           \\\n",
    "              .agg({\"Impressions\" :  \"sum\", \n",
    "                    \"Cost\" : \"sum\", \n",
    "                    \"Impressions_2\" : \"count\", \n",
    "                    \"Unique link clicks\" : \"sum\", \n",
    "                    \"Post shares\" : \"sum\", \n",
    "                    \"Post comments\" : \"sum\", \n",
    "                    \"Registration\" : \"sum\", \n",
    "                    \"Website purchases\" : \"sum\"})                                          \\\n",
    "              .rename(columns = {\"Impressions_2\" : \"Duration\"})\n",
    " \n",
    "# Add CPC: \n",
    "data_ad[\"CPC\"] = data_ad[\"Cost\"] / data_ad[\"Unique link clicks\"]\n",
    "\n",
    "# Add CPM: \n",
    "data_ad[\"CPM\"] = data_ad[\"Cost\"] / data_ad.Impressions * 1000\n",
    "    \n",
    "# Add CTR:\n",
    "data_ad[\"CTR\"] = data_ad[\"Unique link clicks\"] / data_ad.Impressions \n",
    " \n",
    "# Add CR: \n",
    "data_ad[\"CR\"] = data_ad[\"Website purchases\"] / data_ad[\"Unique link clicks\"]   \n",
    "\n",
    "# Add CPA: \n",
    "data_ad[\"CPA\"] = data_ad[\"Cost\"] / data_ad[\"Website purchases\"]\n",
    " \n",
    "# Remove NaN values: \n",
    "data_ad = data_ad.replace(to_replace = np.nan, value = 0) \n",
    " \n",
    "# Add a CTR class to data_ad -> Above median average? If yes, it's a 1. If not, it's a 0: \n",
    "data_ad[\"CTR_class\"] = pd.cut(data_ad.CTR, \n",
    "                              bins = [data_ad.CTR.min() - 1, \n",
    "                                      data_ad.CTR.median(), \n",
    "                                      data_ad.CTR.max() + 1 ], \n",
    "                              labels = [\"0\", \"1\"])\n",
    "     \n",
    "# Add a CR class to data_ad -> Above median average? If yes, it's a 1. If not, it's a 0: \n",
    "data_ad[\"CR_class\"] = pd.cut(data_ad.CR, \n",
    "                              bins = [data_ad.CR.min() - 1, \n",
    "                                      data_ad.CR.median(), \n",
    "                                      data_ad.CR.max() + 1], \n",
    "                              labels = [\"0\", \"1\"])\n",
    " \n",
    "# Remove inf values: \n",
    "data_ad = data_ad.replace(np.inf, 0) \n",
    "print(\"Maximum value in CR is:\", data_ad.CR.max().round(2))\n",
    "\n",
    "\n",
    "display(data_ad.head(3))\n",
    "display(data_ad.describe().round(2)) \n",
    "print(f\"\"\"\\nVariable:             Type:\n",
    "{data_ad.dtypes}\"\"\")\n",
    "print(f\"\\nVariable:             Empty values:\\n{data_ad.isnull().sum()}\") \n",
    "print(data_ad.CTR_class.value_counts())\n",
    "print(data_ad.CR_class.value_counts())"
   ]
  },
  {
   "cell_type": "markdown",
   "metadata": {},
   "source": [
    "### Split into train, test:"
   ]
  },
  {
   "cell_type": "code",
   "execution_count": 50,
   "metadata": {
    "ExecuteTime": {
     "end_time": "2021-03-22T15:40:02.558786Z",
     "start_time": "2021-03-22T15:40:02.548715Z"
    }
   },
   "outputs": [
    {
     "data": {
      "text/plain": [
       "Index(['Impressions', 'Cost', 'Duration', 'Unique link clicks', 'Post shares',\n",
       "       'Post comments', 'Registration', 'Website purchases', 'CPC', 'CPM',\n",
       "       'CTR', 'CR', 'CPA', 'CTR_class', 'CR_class'],\n",
       "      dtype='object')"
      ]
     },
     "execution_count": 50,
     "metadata": {},
     "output_type": "execute_result"
    }
   ],
   "source": [
    "data_ad.columns"
   ]
  },
  {
   "cell_type": "code",
   "execution_count": 51,
   "metadata": {
    "ExecuteTime": {
     "end_time": "2021-03-22T15:40:02.954705Z",
     "start_time": "2021-03-22T15:40:02.945615Z"
    }
   },
   "outputs": [],
   "source": [
    "from sklearn.model_selection import train_test_split\n",
    "\n",
    "X = data_ad.drop(columns = [\"Website purchases\", \"CR\", \"CR_class\"])\n",
    "y = data_ad[\"Website purchases\"] \n",
    " \n",
    "X_train, X_test, y_train, y_test = train_test_split(X, y, \n",
    "                                                    test_size = 0.3, \n",
    "                                                    random_state = 5) "
   ]
  },
  {
   "cell_type": "markdown",
   "metadata": {},
   "source": [
    "## Scale Data"
   ]
  },
  {
   "cell_type": "markdown",
   "metadata": {},
   "source": [
    "### data (into data_scaled):"
   ]
  },
  {
   "cell_type": "code",
   "execution_count": 52,
   "metadata": {
    "ExecuteTime": {
     "end_time": "2021-03-22T15:40:07.945630Z",
     "start_time": "2021-03-22T15:40:07.877564Z"
    }
   },
   "outputs": [
    {
     "data": {
      "application/javascript": [
       "\n",
       "        if (window._pyforest_update_imports_cell) { window._pyforest_update_imports_cell('import numpy as np\\nimport pandas as pd'); }\n",
       "    "
      ],
      "text/plain": [
       "<IPython.core.display.Javascript object>"
      ]
     },
     "metadata": {},
     "output_type": "display_data"
    },
    {
     "data": {
      "text/html": [
       "<div>\n",
       "<style scoped>\n",
       "    .dataframe tbody tr th:only-of-type {\n",
       "        vertical-align: middle;\n",
       "    }\n",
       "\n",
       "    .dataframe tbody tr th {\n",
       "        vertical-align: top;\n",
       "    }\n",
       "\n",
       "    .dataframe thead th {\n",
       "        text-align: right;\n",
       "    }\n",
       "</style>\n",
       "<table border=\"1\" class=\"dataframe\">\n",
       "  <thead>\n",
       "    <tr style=\"text-align: right;\">\n",
       "      <th></th>\n",
       "      <th>Date</th>\n",
       "      <th>Ad set name</th>\n",
       "      <th>Ad name</th>\n",
       "      <th>Campaign name</th>\n",
       "      <th>Impressions</th>\n",
       "      <th>Cost</th>\n",
       "      <th>Website purchases</th>\n",
       "      <th>Cost per website purchase</th>\n",
       "      <th>CPC (cost per link click)</th>\n",
       "      <th>CTR (link click-through rate)</th>\n",
       "      <th>...</th>\n",
       "      <th>Unique adds to cart</th>\n",
       "      <th>Website leads</th>\n",
       "      <th>Unique link clicks</th>\n",
       "      <th>Unique mobile app adds of payment info</th>\n",
       "      <th>Conversion rate ranking</th>\n",
       "      <th>Post shares</th>\n",
       "      <th>Return on ad spend (ROAS)</th>\n",
       "      <th>Unique completed registrations</th>\n",
       "      <th>Post comments</th>\n",
       "      <th>Impressions_2</th>\n",
       "    </tr>\n",
       "  </thead>\n",
       "  <tbody>\n",
       "    <tr>\n",
       "      <th>0</th>\n",
       "      <td>2020-08-01</td>\n",
       "      <td>Post: \"\"Here lies DeadHappy. It was a bit of a...</td>\n",
       "      <td>Post: \"\"Here lies DeadHappy. It was a bit of a...</td>\n",
       "      <td>Post: \"\"Here lies DeadHappy. It was a bit of a...</td>\n",
       "      <td>350.0</td>\n",
       "      <td>3.18</td>\n",
       "      <td>0.0</td>\n",
       "      <td>0.0</td>\n",
       "      <td>0.0</td>\n",
       "      <td>0.0</td>\n",
       "      <td>...</td>\n",
       "      <td>0.0</td>\n",
       "      <td>0.0</td>\n",
       "      <td>0.0</td>\n",
       "      <td>0.0</td>\n",
       "      <td>0.0</td>\n",
       "      <td>0.0</td>\n",
       "      <td>0.0</td>\n",
       "      <td>0.0</td>\n",
       "      <td>6.0</td>\n",
       "      <td>350.0</td>\n",
       "    </tr>\n",
       "  </tbody>\n",
       "</table>\n",
       "<p>1 rows × 23 columns</p>\n",
       "</div>"
      ],
      "text/plain": [
       "         Date                                        Ad set name  \\\n",
       "0  2020-08-01  Post: \"\"Here lies DeadHappy. It was a bit of a...   \n",
       "\n",
       "                                             Ad name  \\\n",
       "0  Post: \"\"Here lies DeadHappy. It was a bit of a...   \n",
       "\n",
       "                                       Campaign name  Impressions  Cost  \\\n",
       "0  Post: \"\"Here lies DeadHappy. It was a bit of a...        350.0  3.18   \n",
       "\n",
       "   Website purchases  Cost per website purchase  CPC (cost per link click)  \\\n",
       "0                0.0                        0.0                        0.0   \n",
       "\n",
       "   CTR (link click-through rate)  ...  Unique adds to cart  Website leads  \\\n",
       "0                            0.0  ...                  0.0            0.0   \n",
       "\n",
       "   Unique link clicks  Unique mobile app adds of payment info  \\\n",
       "0                 0.0                                     0.0   \n",
       "\n",
       "   Conversion rate ranking  Post shares  Return on ad spend (ROAS)  \\\n",
       "0                      0.0          0.0                        0.0   \n",
       "\n",
       "   Unique completed registrations  Post comments  Impressions_2  \n",
       "0                             0.0            6.0          350.0  \n",
       "\n",
       "[1 rows x 23 columns]"
      ]
     },
     "execution_count": 52,
     "metadata": {},
     "output_type": "execute_result"
    }
   ],
   "source": [
    "data_scaled = data.copy()                                        \\\n",
    "                  .replace(to_replace = np.nan, value = 0)\n",
    " \n",
    "data_scaled.head(1)"
   ]
  },
  {
   "cell_type": "code",
   "execution_count": 53,
   "metadata": {
    "ExecuteTime": {
     "end_time": "2021-03-22T15:40:08.935433Z",
     "start_time": "2021-03-22T15:40:08.673369Z"
    }
   },
   "outputs": [
    {
     "data": {
      "text/html": [
       "<div>\n",
       "<style scoped>\n",
       "    .dataframe tbody tr th:only-of-type {\n",
       "        vertical-align: middle;\n",
       "    }\n",
       "\n",
       "    .dataframe tbody tr th {\n",
       "        vertical-align: top;\n",
       "    }\n",
       "\n",
       "    .dataframe thead th {\n",
       "        text-align: right;\n",
       "    }\n",
       "</style>\n",
       "<table border=\"1\" class=\"dataframe\">\n",
       "  <thead>\n",
       "    <tr style=\"text-align: right;\">\n",
       "      <th></th>\n",
       "      <th>Date</th>\n",
       "      <th>Ad set name</th>\n",
       "      <th>Ad name</th>\n",
       "      <th>Campaign name</th>\n",
       "      <th>Impressions</th>\n",
       "      <th>Cost</th>\n",
       "      <th>Website purchases</th>\n",
       "      <th>Cost per website purchase</th>\n",
       "      <th>CPC (cost per link click)</th>\n",
       "      <th>CTR (link click-through rate)</th>\n",
       "      <th>...</th>\n",
       "      <th>Unique adds to cart</th>\n",
       "      <th>Website leads</th>\n",
       "      <th>Unique link clicks</th>\n",
       "      <th>Unique mobile app adds of payment info</th>\n",
       "      <th>Conversion rate ranking</th>\n",
       "      <th>Post shares</th>\n",
       "      <th>Return on ad spend (ROAS)</th>\n",
       "      <th>Unique completed registrations</th>\n",
       "      <th>Post comments</th>\n",
       "      <th>Impressions_2</th>\n",
       "    </tr>\n",
       "  </thead>\n",
       "  <tbody>\n",
       "    <tr>\n",
       "      <th>0</th>\n",
       "      <td>2020-08-01</td>\n",
       "      <td>Post: \"\"Here lies DeadHappy. It was a bit of a...</td>\n",
       "      <td>Post: \"\"Here lies DeadHappy. It was a bit of a...</td>\n",
       "      <td>Post: \"\"Here lies DeadHappy. It was a bit of a...</td>\n",
       "      <td>-0.412119</td>\n",
       "      <td>-0.424648</td>\n",
       "      <td>-0.331911</td>\n",
       "      <td>0.0</td>\n",
       "      <td>-0.986912</td>\n",
       "      <td>-0.778827</td>\n",
       "      <td>...</td>\n",
       "      <td>0.0</td>\n",
       "      <td>0.0</td>\n",
       "      <td>-0.401605</td>\n",
       "      <td>0.0</td>\n",
       "      <td>0.0</td>\n",
       "      <td>-0.144887</td>\n",
       "      <td>0.0</td>\n",
       "      <td>0.0</td>\n",
       "      <td>2.490653</td>\n",
       "      <td>350.0</td>\n",
       "    </tr>\n",
       "  </tbody>\n",
       "</table>\n",
       "<p>1 rows × 23 columns</p>\n",
       "</div>"
      ],
      "text/plain": [
       "         Date                                        Ad set name  \\\n",
       "0  2020-08-01  Post: \"\"Here lies DeadHappy. It was a bit of a...   \n",
       "\n",
       "                                             Ad name  \\\n",
       "0  Post: \"\"Here lies DeadHappy. It was a bit of a...   \n",
       "\n",
       "                                       Campaign name  Impressions      Cost  \\\n",
       "0  Post: \"\"Here lies DeadHappy. It was a bit of a...    -0.412119 -0.424648   \n",
       "\n",
       "   Website purchases  Cost per website purchase  CPC (cost per link click)  \\\n",
       "0          -0.331911                        0.0                  -0.986912   \n",
       "\n",
       "   CTR (link click-through rate)  ...  Unique adds to cart  Website leads  \\\n",
       "0                      -0.778827  ...                  0.0            0.0   \n",
       "\n",
       "   Unique link clicks  Unique mobile app adds of payment info  \\\n",
       "0           -0.401605                                     0.0   \n",
       "\n",
       "   Conversion rate ranking  Post shares  Return on ad spend (ROAS)  \\\n",
       "0                      0.0    -0.144887                        0.0   \n",
       "\n",
       "   Unique completed registrations  Post comments  Impressions_2  \n",
       "0                             0.0       2.490653          350.0  \n",
       "\n",
       "[1 rows x 23 columns]"
      ]
     },
     "metadata": {},
     "output_type": "display_data"
    },
    {
     "data": {
      "text/html": [
       "<div>\n",
       "<style scoped>\n",
       "    .dataframe tbody tr th:only-of-type {\n",
       "        vertical-align: middle;\n",
       "    }\n",
       "\n",
       "    .dataframe tbody tr th {\n",
       "        vertical-align: top;\n",
       "    }\n",
       "\n",
       "    .dataframe thead th {\n",
       "        text-align: right;\n",
       "    }\n",
       "</style>\n",
       "<table border=\"1\" class=\"dataframe\">\n",
       "  <thead>\n",
       "    <tr style=\"text-align: right;\">\n",
       "      <th></th>\n",
       "      <th>Impressions</th>\n",
       "      <th>Cost</th>\n",
       "      <th>Website purchases</th>\n",
       "      <th>Cost per website purchase</th>\n",
       "      <th>CPC (cost per link click)</th>\n",
       "      <th>CTR (link click-through rate)</th>\n",
       "      <th>Signup</th>\n",
       "      <th>Registration</th>\n",
       "      <th>Unique purchases</th>\n",
       "      <th>Unique adds to cart</th>\n",
       "      <th>Website leads</th>\n",
       "      <th>Unique link clicks</th>\n",
       "      <th>Unique mobile app adds of payment info</th>\n",
       "      <th>Conversion rate ranking</th>\n",
       "      <th>Post shares</th>\n",
       "      <th>Return on ad spend (ROAS)</th>\n",
       "      <th>Unique completed registrations</th>\n",
       "      <th>Post comments</th>\n",
       "      <th>Impressions_2</th>\n",
       "    </tr>\n",
       "  </thead>\n",
       "  <tbody>\n",
       "    <tr>\n",
       "      <th>count</th>\n",
       "      <td>8135.00</td>\n",
       "      <td>8135.00</td>\n",
       "      <td>8135.00</td>\n",
       "      <td>8135.00</td>\n",
       "      <td>8135.00</td>\n",
       "      <td>8135.00</td>\n",
       "      <td>8135.00</td>\n",
       "      <td>8135.00</td>\n",
       "      <td>8135.0</td>\n",
       "      <td>8135.0</td>\n",
       "      <td>8135.00</td>\n",
       "      <td>8135.00</td>\n",
       "      <td>8135.0</td>\n",
       "      <td>8135.00</td>\n",
       "      <td>8135.00</td>\n",
       "      <td>8135.00</td>\n",
       "      <td>8135.0</td>\n",
       "      <td>8135.00</td>\n",
       "      <td>8135.00</td>\n",
       "    </tr>\n",
       "    <tr>\n",
       "      <th>mean</th>\n",
       "      <td>0.00</td>\n",
       "      <td>0.00</td>\n",
       "      <td>-0.00</td>\n",
       "      <td>20.72</td>\n",
       "      <td>-0.00</td>\n",
       "      <td>-0.00</td>\n",
       "      <td>0.02</td>\n",
       "      <td>0.00</td>\n",
       "      <td>0.0</td>\n",
       "      <td>0.0</td>\n",
       "      <td>0.00</td>\n",
       "      <td>-0.00</td>\n",
       "      <td>0.0</td>\n",
       "      <td>0.19</td>\n",
       "      <td>-0.00</td>\n",
       "      <td>5.65</td>\n",
       "      <td>0.0</td>\n",
       "      <td>0.00</td>\n",
       "      <td>8694.17</td>\n",
       "    </tr>\n",
       "    <tr>\n",
       "      <th>std</th>\n",
       "      <td>1.00</td>\n",
       "      <td>1.00</td>\n",
       "      <td>1.00</td>\n",
       "      <td>72.86</td>\n",
       "      <td>1.00</td>\n",
       "      <td>1.00</td>\n",
       "      <td>0.17</td>\n",
       "      <td>1.00</td>\n",
       "      <td>0.0</td>\n",
       "      <td>0.0</td>\n",
       "      <td>0.03</td>\n",
       "      <td>1.00</td>\n",
       "      <td>0.0</td>\n",
       "      <td>0.82</td>\n",
       "      <td>1.00</td>\n",
       "      <td>33.61</td>\n",
       "      <td>0.0</td>\n",
       "      <td>1.00</td>\n",
       "      <td>20248.25</td>\n",
       "    </tr>\n",
       "    <tr>\n",
       "      <th>min</th>\n",
       "      <td>-0.43</td>\n",
       "      <td>-0.45</td>\n",
       "      <td>-0.33</td>\n",
       "      <td>0.00</td>\n",
       "      <td>-0.99</td>\n",
       "      <td>-0.78</td>\n",
       "      <td>0.00</td>\n",
       "      <td>-0.39</td>\n",
       "      <td>0.0</td>\n",
       "      <td>0.0</td>\n",
       "      <td>0.00</td>\n",
       "      <td>-0.40</td>\n",
       "      <td>0.0</td>\n",
       "      <td>0.00</td>\n",
       "      <td>-0.14</td>\n",
       "      <td>0.00</td>\n",
       "      <td>0.0</td>\n",
       "      <td>-0.26</td>\n",
       "      <td>0.00</td>\n",
       "    </tr>\n",
       "    <tr>\n",
       "      <th>25%</th>\n",
       "      <td>-0.40</td>\n",
       "      <td>-0.41</td>\n",
       "      <td>-0.33</td>\n",
       "      <td>0.00</td>\n",
       "      <td>-0.66</td>\n",
       "      <td>-0.47</td>\n",
       "      <td>0.00</td>\n",
       "      <td>-0.39</td>\n",
       "      <td>0.0</td>\n",
       "      <td>0.0</td>\n",
       "      <td>0.00</td>\n",
       "      <td>-0.37</td>\n",
       "      <td>0.0</td>\n",
       "      <td>0.00</td>\n",
       "      <td>-0.14</td>\n",
       "      <td>0.00</td>\n",
       "      <td>0.0</td>\n",
       "      <td>-0.26</td>\n",
       "      <td>563.50</td>\n",
       "    </tr>\n",
       "    <tr>\n",
       "      <th>50%</th>\n",
       "      <td>-0.34</td>\n",
       "      <td>-0.33</td>\n",
       "      <td>-0.33</td>\n",
       "      <td>0.00</td>\n",
       "      <td>-0.16</td>\n",
       "      <td>-0.25</td>\n",
       "      <td>0.00</td>\n",
       "      <td>-0.39</td>\n",
       "      <td>0.0</td>\n",
       "      <td>0.0</td>\n",
       "      <td>0.00</td>\n",
       "      <td>-0.31</td>\n",
       "      <td>0.0</td>\n",
       "      <td>0.00</td>\n",
       "      <td>-0.14</td>\n",
       "      <td>0.00</td>\n",
       "      <td>0.0</td>\n",
       "      <td>-0.26</td>\n",
       "      <td>1772.00</td>\n",
       "    </tr>\n",
       "    <tr>\n",
       "      <th>75%</th>\n",
       "      <td>-0.05</td>\n",
       "      <td>-0.05</td>\n",
       "      <td>-0.33</td>\n",
       "      <td>0.00</td>\n",
       "      <td>0.34</td>\n",
       "      <td>0.16</td>\n",
       "      <td>0.00</td>\n",
       "      <td>0.01</td>\n",
       "      <td>0.0</td>\n",
       "      <td>0.0</td>\n",
       "      <td>0.00</td>\n",
       "      <td>-0.07</td>\n",
       "      <td>0.0</td>\n",
       "      <td>0.00</td>\n",
       "      <td>-0.14</td>\n",
       "      <td>0.00</td>\n",
       "      <td>0.0</td>\n",
       "      <td>-0.26</td>\n",
       "      <td>7751.00</td>\n",
       "    </tr>\n",
       "    <tr>\n",
       "      <th>max</th>\n",
       "      <td>15.27</td>\n",
       "      <td>13.20</td>\n",
       "      <td>14.48</td>\n",
       "      <td>1092.21</td>\n",
       "      <td>12.21</td>\n",
       "      <td>23.56</td>\n",
       "      <td>4.00</td>\n",
       "      <td>12.00</td>\n",
       "      <td>0.0</td>\n",
       "      <td>0.0</td>\n",
       "      <td>1.00</td>\n",
       "      <td>20.98</td>\n",
       "      <td>0.0</td>\n",
       "      <td>10.00</td>\n",
       "      <td>36.76</td>\n",
       "      <td>1143.38</td>\n",
       "      <td>0.0</td>\n",
       "      <td>38.31</td>\n",
       "      <td>317885.00</td>\n",
       "    </tr>\n",
       "  </tbody>\n",
       "</table>\n",
       "</div>"
      ],
      "text/plain": [
       "       Impressions     Cost  Website purchases  Cost per website purchase  \\\n",
       "count      8135.00  8135.00            8135.00                    8135.00   \n",
       "mean          0.00     0.00              -0.00                      20.72   \n",
       "std           1.00     1.00               1.00                      72.86   \n",
       "min          -0.43    -0.45              -0.33                       0.00   \n",
       "25%          -0.40    -0.41              -0.33                       0.00   \n",
       "50%          -0.34    -0.33              -0.33                       0.00   \n",
       "75%          -0.05    -0.05              -0.33                       0.00   \n",
       "max          15.27    13.20              14.48                    1092.21   \n",
       "\n",
       "       CPC (cost per link click)  CTR (link click-through rate)   Signup  \\\n",
       "count                    8135.00                        8135.00  8135.00   \n",
       "mean                       -0.00                          -0.00     0.02   \n",
       "std                         1.00                           1.00     0.17   \n",
       "min                        -0.99                          -0.78     0.00   \n",
       "25%                        -0.66                          -0.47     0.00   \n",
       "50%                        -0.16                          -0.25     0.00   \n",
       "75%                         0.34                           0.16     0.00   \n",
       "max                        12.21                          23.56     4.00   \n",
       "\n",
       "       Registration  Unique purchases  Unique adds to cart  Website leads  \\\n",
       "count       8135.00            8135.0               8135.0        8135.00   \n",
       "mean           0.00               0.0                  0.0           0.00   \n",
       "std            1.00               0.0                  0.0           0.03   \n",
       "min           -0.39               0.0                  0.0           0.00   \n",
       "25%           -0.39               0.0                  0.0           0.00   \n",
       "50%           -0.39               0.0                  0.0           0.00   \n",
       "75%            0.01               0.0                  0.0           0.00   \n",
       "max           12.00               0.0                  0.0           1.00   \n",
       "\n",
       "       Unique link clicks  Unique mobile app adds of payment info  \\\n",
       "count             8135.00                                  8135.0   \n",
       "mean                -0.00                                     0.0   \n",
       "std                  1.00                                     0.0   \n",
       "min                 -0.40                                     0.0   \n",
       "25%                 -0.37                                     0.0   \n",
       "50%                 -0.31                                     0.0   \n",
       "75%                 -0.07                                     0.0   \n",
       "max                 20.98                                     0.0   \n",
       "\n",
       "       Conversion rate ranking  Post shares  Return on ad spend (ROAS)  \\\n",
       "count                  8135.00      8135.00                    8135.00   \n",
       "mean                      0.19        -0.00                       5.65   \n",
       "std                       0.82         1.00                      33.61   \n",
       "min                       0.00        -0.14                       0.00   \n",
       "25%                       0.00        -0.14                       0.00   \n",
       "50%                       0.00        -0.14                       0.00   \n",
       "75%                       0.00        -0.14                       0.00   \n",
       "max                      10.00        36.76                    1143.38   \n",
       "\n",
       "       Unique completed registrations  Post comments  Impressions_2  \n",
       "count                          8135.0        8135.00        8135.00  \n",
       "mean                              0.0           0.00        8694.17  \n",
       "std                               0.0           1.00       20248.25  \n",
       "min                               0.0          -0.26           0.00  \n",
       "25%                               0.0          -0.26         563.50  \n",
       "50%                               0.0          -0.26        1772.00  \n",
       "75%                               0.0          -0.26        7751.00  \n",
       "max                               0.0          38.31      317885.00  "
      ]
     },
     "metadata": {},
     "output_type": "display_data"
    },
    {
     "data": {
      "text/plain": [
       "Date                                       object\n",
       "Ad set name                                object\n",
       "Ad name                                    object\n",
       "Campaign name                              object\n",
       "Impressions                               float64\n",
       "Cost                                      float64\n",
       "Website purchases                         float64\n",
       "Cost per website purchase                 float64\n",
       "CPC (cost per link click)                 float64\n",
       "CTR (link click-through rate)             float64\n",
       "Signup                                    float64\n",
       "Registration                              float64\n",
       "Unique purchases                          float64\n",
       "Unique adds to cart                       float64\n",
       "Website leads                             float64\n",
       "Unique link clicks                        float64\n",
       "Unique mobile app adds of payment info    float64\n",
       "Conversion rate ranking                   float64\n",
       "Post shares                               float64\n",
       "Return on ad spend (ROAS)                 float64\n",
       "Unique completed registrations            float64\n",
       "Post comments                             float64\n",
       "Impressions_2                             float64\n",
       "dtype: object"
      ]
     },
     "execution_count": 53,
     "metadata": {},
     "output_type": "execute_result"
    }
   ],
   "source": [
    "from sklearn.preprocessing import StandardScaler \n",
    "\n",
    "scaler = StandardScaler()\n",
    "\n",
    "scaler.fit(data_scaled[['Impressions', 'Cost', 'Unique link clicks', \n",
    "                        'Post shares', 'Post comments', 'Registration', \n",
    "                        'Website purchases', 'CPC (cost per link click)', \n",
    "                        'CTR (link click-through rate)']])\n",
    "\n",
    "data_scaled[['Impressions', 'Cost', 'Unique link clicks', \n",
    "             'Post shares', 'Post comments', 'Registration', \n",
    "             'Website purchases', 'CPC (cost per link click)', \n",
    "             'CTR (link click-through rate)']] = scaler.transform(data_scaled[['Impressions', 'Cost', \n",
    "                                                                               'Unique link clicks', \n",
    "                                                                               'Post shares', 'Post comments', \n",
    "                                                                               'Registration', \n",
    "                                                                               'Website purchases', \n",
    "                                                                               'CPC (cost per link click)', \n",
    "                                                                               'CTR (link click-through rate)']])\n",
    "display(data_scaled.head(1)) \n",
    "display(data_scaled.describe().round(2) )\n",
    "data_scaled.dtypes"
   ]
  },
  {
   "cell_type": "markdown",
   "metadata": {
    "heading_collapsed": true
   },
   "source": [
    "### data_daily: "
   ]
  },
  {
   "cell_type": "code",
   "execution_count": null,
   "metadata": {
    "hidden": true
   },
   "outputs": [],
   "source": []
  },
  {
   "cell_type": "markdown",
   "metadata": {},
   "source": [
    "### data_ad:"
   ]
  },
  {
   "cell_type": "code",
   "execution_count": 94,
   "metadata": {
    "ExecuteTime": {
     "end_time": "2021-03-22T16:20:25.783208Z",
     "start_time": "2021-03-22T16:20:25.683855Z"
    }
   },
   "outputs": [
    {
     "data": {
      "text/html": [
       "<div>\n",
       "<style scoped>\n",
       "    .dataframe tbody tr th:only-of-type {\n",
       "        vertical-align: middle;\n",
       "    }\n",
       "\n",
       "    .dataframe tbody tr th {\n",
       "        vertical-align: top;\n",
       "    }\n",
       "\n",
       "    .dataframe thead th {\n",
       "        text-align: right;\n",
       "    }\n",
       "</style>\n",
       "<table border=\"1\" class=\"dataframe\">\n",
       "  <thead>\n",
       "    <tr style=\"text-align: right;\">\n",
       "      <th></th>\n",
       "      <th>Impressions</th>\n",
       "      <th>Cost</th>\n",
       "      <th>Duration</th>\n",
       "      <th>Unique link clicks</th>\n",
       "      <th>Post shares</th>\n",
       "      <th>Post comments</th>\n",
       "      <th>Registration</th>\n",
       "      <th>Website purchases</th>\n",
       "      <th>CPC</th>\n",
       "      <th>CPM</th>\n",
       "      <th>CTR</th>\n",
       "      <th>CR</th>\n",
       "      <th>CPA</th>\n",
       "      <th>CTR_class</th>\n",
       "      <th>CR_class</th>\n",
       "    </tr>\n",
       "    <tr>\n",
       "      <th>Ad name</th>\n",
       "      <th></th>\n",
       "      <th></th>\n",
       "      <th></th>\n",
       "      <th></th>\n",
       "      <th></th>\n",
       "      <th></th>\n",
       "      <th></th>\n",
       "      <th></th>\n",
       "      <th></th>\n",
       "      <th></th>\n",
       "      <th></th>\n",
       "      <th></th>\n",
       "      <th></th>\n",
       "      <th></th>\n",
       "      <th></th>\n",
       "    </tr>\n",
       "  </thead>\n",
       "  <tbody>\n",
       "    <tr>\n",
       "      <th>5k-deathwish_single_w41-2020</th>\n",
       "      <td>58014.0</td>\n",
       "      <td>775.29</td>\n",
       "      <td>9</td>\n",
       "      <td>173.0</td>\n",
       "      <td>1.0</td>\n",
       "      <td>2.0</td>\n",
       "      <td>8.0</td>\n",
       "      <td>2.0</td>\n",
       "      <td>4.481445</td>\n",
       "      <td>13.363843</td>\n",
       "      <td>0.002982</td>\n",
       "      <td>0.011561</td>\n",
       "      <td>387.645</td>\n",
       "      <td>1</td>\n",
       "      <td>1</td>\n",
       "    </tr>\n",
       "    <tr>\n",
       "      <th>Instagram post: Be more Mick!\\n🚀We’re growing at...</th>\n",
       "      <td>6272.0</td>\n",
       "      <td>20.00</td>\n",
       "      <td>5</td>\n",
       "      <td>94.0</td>\n",
       "      <td>1.0</td>\n",
       "      <td>0.0</td>\n",
       "      <td>0.0</td>\n",
       "      <td>0.0</td>\n",
       "      <td>0.212766</td>\n",
       "      <td>3.188776</td>\n",
       "      <td>0.014987</td>\n",
       "      <td>0.000000</td>\n",
       "      <td>0.000</td>\n",
       "      <td>1</td>\n",
       "      <td>0</td>\n",
       "    </tr>\n",
       "    <tr>\n",
       "      <th>Post: \"\"Here lies DeadHappy. It was a bit of a sore...\"</th>\n",
       "      <td>646.0</td>\n",
       "      <td>4.64</td>\n",
       "      <td>2</td>\n",
       "      <td>0.0</td>\n",
       "      <td>0.0</td>\n",
       "      <td>12.0</td>\n",
       "      <td>0.0</td>\n",
       "      <td>0.0</td>\n",
       "      <td>0.000000</td>\n",
       "      <td>7.182663</td>\n",
       "      <td>0.000000</td>\n",
       "      <td>0.000000</td>\n",
       "      <td>0.000</td>\n",
       "      <td>0</td>\n",
       "      <td>0</td>\n",
       "    </tr>\n",
       "  </tbody>\n",
       "</table>\n",
       "</div>"
      ],
      "text/plain": [
       "                                                    Impressions    Cost  \\\n",
       "Ad name                                                                   \n",
       "5k-deathwish_single_w41-2020                            58014.0  775.29   \n",
       "Instagram post: Be more Mick!\\n🚀We’re growing a...       6272.0   20.00   \n",
       "Post: \"\"Here lies DeadHappy. It was a bit of a ...        646.0    4.64   \n",
       "\n",
       "                                                    Duration  \\\n",
       "Ad name                                                        \n",
       "5k-deathwish_single_w41-2020                               9   \n",
       "Instagram post: Be more Mick!\\n🚀We’re growing a...         5   \n",
       "Post: \"\"Here lies DeadHappy. It was a bit of a ...         2   \n",
       "\n",
       "                                                    Unique link clicks  \\\n",
       "Ad name                                                                  \n",
       "5k-deathwish_single_w41-2020                                     173.0   \n",
       "Instagram post: Be more Mick!\\n🚀We’re growing a...                94.0   \n",
       "Post: \"\"Here lies DeadHappy. It was a bit of a ...                 0.0   \n",
       "\n",
       "                                                    Post shares  \\\n",
       "Ad name                                                           \n",
       "5k-deathwish_single_w41-2020                                1.0   \n",
       "Instagram post: Be more Mick!\\n🚀We’re growing a...          1.0   \n",
       "Post: \"\"Here lies DeadHappy. It was a bit of a ...          0.0   \n",
       "\n",
       "                                                    Post comments  \\\n",
       "Ad name                                                             \n",
       "5k-deathwish_single_w41-2020                                  2.0   \n",
       "Instagram post: Be more Mick!\\n🚀We’re growing a...            0.0   \n",
       "Post: \"\"Here lies DeadHappy. It was a bit of a ...           12.0   \n",
       "\n",
       "                                                    Registration  \\\n",
       "Ad name                                                            \n",
       "5k-deathwish_single_w41-2020                                 8.0   \n",
       "Instagram post: Be more Mick!\\n🚀We’re growing a...           0.0   \n",
       "Post: \"\"Here lies DeadHappy. It was a bit of a ...           0.0   \n",
       "\n",
       "                                                    Website purchases  \\\n",
       "Ad name                                                                 \n",
       "5k-deathwish_single_w41-2020                                      2.0   \n",
       "Instagram post: Be more Mick!\\n🚀We’re growing a...                0.0   \n",
       "Post: \"\"Here lies DeadHappy. It was a bit of a ...                0.0   \n",
       "\n",
       "                                                         CPC        CPM  \\\n",
       "Ad name                                                                   \n",
       "5k-deathwish_single_w41-2020                        4.481445  13.363843   \n",
       "Instagram post: Be more Mick!\\n🚀We’re growing a...  0.212766   3.188776   \n",
       "Post: \"\"Here lies DeadHappy. It was a bit of a ...  0.000000   7.182663   \n",
       "\n",
       "                                                         CTR        CR  \\\n",
       "Ad name                                                                  \n",
       "5k-deathwish_single_w41-2020                        0.002982  0.011561   \n",
       "Instagram post: Be more Mick!\\n🚀We’re growing a...  0.014987  0.000000   \n",
       "Post: \"\"Here lies DeadHappy. It was a bit of a ...  0.000000  0.000000   \n",
       "\n",
       "                                                        CPA CTR_class CR_class  \n",
       "Ad name                                                                         \n",
       "5k-deathwish_single_w41-2020                        387.645         1        1  \n",
       "Instagram post: Be more Mick!\\n🚀We’re growing a...    0.000         1        0  \n",
       "Post: \"\"Here lies DeadHappy. It was a bit of a ...    0.000         0        0  "
      ]
     },
     "execution_count": 94,
     "metadata": {},
     "output_type": "execute_result"
    }
   ],
   "source": [
    "data_ad.head(3)"
   ]
  },
  {
   "cell_type": "code",
   "execution_count": 95,
   "metadata": {
    "ExecuteTime": {
     "end_time": "2021-03-22T16:20:30.628211Z",
     "start_time": "2021-03-22T16:20:30.533745Z"
    }
   },
   "outputs": [
    {
     "data": {
      "text/html": [
       "<div>\n",
       "<style scoped>\n",
       "    .dataframe tbody tr th:only-of-type {\n",
       "        vertical-align: middle;\n",
       "    }\n",
       "\n",
       "    .dataframe tbody tr th {\n",
       "        vertical-align: top;\n",
       "    }\n",
       "\n",
       "    .dataframe thead th {\n",
       "        text-align: right;\n",
       "    }\n",
       "</style>\n",
       "<table border=\"1\" class=\"dataframe\">\n",
       "  <thead>\n",
       "    <tr style=\"text-align: right;\">\n",
       "      <th></th>\n",
       "      <th>Impressions</th>\n",
       "      <th>Cost</th>\n",
       "      <th>Duration</th>\n",
       "      <th>Unique link clicks</th>\n",
       "      <th>Post shares</th>\n",
       "      <th>Post comments</th>\n",
       "      <th>Registration</th>\n",
       "      <th>Website purchases</th>\n",
       "      <th>CPC</th>\n",
       "      <th>CPM</th>\n",
       "      <th>CTR</th>\n",
       "      <th>CR</th>\n",
       "      <th>CPA</th>\n",
       "      <th>CTR_class</th>\n",
       "      <th>CR_class</th>\n",
       "    </tr>\n",
       "    <tr>\n",
       "      <th>Ad name</th>\n",
       "      <th></th>\n",
       "      <th></th>\n",
       "      <th></th>\n",
       "      <th></th>\n",
       "      <th></th>\n",
       "      <th></th>\n",
       "      <th></th>\n",
       "      <th></th>\n",
       "      <th></th>\n",
       "      <th></th>\n",
       "      <th></th>\n",
       "      <th></th>\n",
       "      <th></th>\n",
       "      <th></th>\n",
       "      <th></th>\n",
       "    </tr>\n",
       "  </thead>\n",
       "  <tbody>\n",
       "    <tr>\n",
       "      <th>5k-deathwish_single_w41-2020</th>\n",
       "      <td>58014.0</td>\n",
       "      <td>775.29</td>\n",
       "      <td>9</td>\n",
       "      <td>173.0</td>\n",
       "      <td>1.0</td>\n",
       "      <td>2.0</td>\n",
       "      <td>8.0</td>\n",
       "      <td>2.0</td>\n",
       "      <td>4.481445</td>\n",
       "      <td>13.363843</td>\n",
       "      <td>0.002982</td>\n",
       "      <td>0.011561</td>\n",
       "      <td>387.645</td>\n",
       "      <td>1</td>\n",
       "      <td>1</td>\n",
       "    </tr>\n",
       "    <tr>\n",
       "      <th>Instagram post: Be more Mick!\\n🚀We’re growing at...</th>\n",
       "      <td>6272.0</td>\n",
       "      <td>20.00</td>\n",
       "      <td>5</td>\n",
       "      <td>94.0</td>\n",
       "      <td>1.0</td>\n",
       "      <td>0.0</td>\n",
       "      <td>0.0</td>\n",
       "      <td>0.0</td>\n",
       "      <td>0.212766</td>\n",
       "      <td>3.188776</td>\n",
       "      <td>0.014987</td>\n",
       "      <td>0.000000</td>\n",
       "      <td>0.000</td>\n",
       "      <td>1</td>\n",
       "      <td>0</td>\n",
       "    </tr>\n",
       "    <tr>\n",
       "      <th>Post: \"\"Here lies DeadHappy. It was a bit of a sore...\"</th>\n",
       "      <td>646.0</td>\n",
       "      <td>4.64</td>\n",
       "      <td>2</td>\n",
       "      <td>0.0</td>\n",
       "      <td>0.0</td>\n",
       "      <td>12.0</td>\n",
       "      <td>0.0</td>\n",
       "      <td>0.0</td>\n",
       "      <td>0.000000</td>\n",
       "      <td>7.182663</td>\n",
       "      <td>0.000000</td>\n",
       "      <td>0.000000</td>\n",
       "      <td>0.000</td>\n",
       "      <td>0</td>\n",
       "      <td>0</td>\n",
       "    </tr>\n",
       "  </tbody>\n",
       "</table>\n",
       "</div>"
      ],
      "text/plain": [
       "                                                    Impressions    Cost  \\\n",
       "Ad name                                                                   \n",
       "5k-deathwish_single_w41-2020                            58014.0  775.29   \n",
       "Instagram post: Be more Mick!\\n🚀We’re growing a...       6272.0   20.00   \n",
       "Post: \"\"Here lies DeadHappy. It was a bit of a ...        646.0    4.64   \n",
       "\n",
       "                                                    Duration  \\\n",
       "Ad name                                                        \n",
       "5k-deathwish_single_w41-2020                               9   \n",
       "Instagram post: Be more Mick!\\n🚀We’re growing a...         5   \n",
       "Post: \"\"Here lies DeadHappy. It was a bit of a ...         2   \n",
       "\n",
       "                                                    Unique link clicks  \\\n",
       "Ad name                                                                  \n",
       "5k-deathwish_single_w41-2020                                     173.0   \n",
       "Instagram post: Be more Mick!\\n🚀We’re growing a...                94.0   \n",
       "Post: \"\"Here lies DeadHappy. It was a bit of a ...                 0.0   \n",
       "\n",
       "                                                    Post shares  \\\n",
       "Ad name                                                           \n",
       "5k-deathwish_single_w41-2020                                1.0   \n",
       "Instagram post: Be more Mick!\\n🚀We’re growing a...          1.0   \n",
       "Post: \"\"Here lies DeadHappy. It was a bit of a ...          0.0   \n",
       "\n",
       "                                                    Post comments  \\\n",
       "Ad name                                                             \n",
       "5k-deathwish_single_w41-2020                                  2.0   \n",
       "Instagram post: Be more Mick!\\n🚀We’re growing a...            0.0   \n",
       "Post: \"\"Here lies DeadHappy. It was a bit of a ...           12.0   \n",
       "\n",
       "                                                    Registration  \\\n",
       "Ad name                                                            \n",
       "5k-deathwish_single_w41-2020                                 8.0   \n",
       "Instagram post: Be more Mick!\\n🚀We’re growing a...           0.0   \n",
       "Post: \"\"Here lies DeadHappy. It was a bit of a ...           0.0   \n",
       "\n",
       "                                                    Website purchases  \\\n",
       "Ad name                                                                 \n",
       "5k-deathwish_single_w41-2020                                      2.0   \n",
       "Instagram post: Be more Mick!\\n🚀We’re growing a...                0.0   \n",
       "Post: \"\"Here lies DeadHappy. It was a bit of a ...                0.0   \n",
       "\n",
       "                                                         CPC        CPM  \\\n",
       "Ad name                                                                   \n",
       "5k-deathwish_single_w41-2020                        4.481445  13.363843   \n",
       "Instagram post: Be more Mick!\\n🚀We’re growing a...  0.212766   3.188776   \n",
       "Post: \"\"Here lies DeadHappy. It was a bit of a ...  0.000000   7.182663   \n",
       "\n",
       "                                                         CTR        CR  \\\n",
       "Ad name                                                                  \n",
       "5k-deathwish_single_w41-2020                        0.002982  0.011561   \n",
       "Instagram post: Be more Mick!\\n🚀We’re growing a...  0.014987  0.000000   \n",
       "Post: \"\"Here lies DeadHappy. It was a bit of a ...  0.000000  0.000000   \n",
       "\n",
       "                                                        CPA CTR_class CR_class  \n",
       "Ad name                                                                         \n",
       "5k-deathwish_single_w41-2020                        387.645         1        1  \n",
       "Instagram post: Be more Mick!\\n🚀We’re growing a...    0.000         1        0  \n",
       "Post: \"\"Here lies DeadHappy. It was a bit of a ...    0.000         0        0  "
      ]
     },
     "execution_count": 95,
     "metadata": {},
     "output_type": "execute_result"
    }
   ],
   "source": [
    "data_ad_scaled = data_ad.copy()\n",
    "data_ad_scaled.head(3)"
   ]
  },
  {
   "cell_type": "code",
   "execution_count": 96,
   "metadata": {
    "ExecuteTime": {
     "end_time": "2021-03-22T16:20:34.219495Z",
     "start_time": "2021-03-22T16:20:33.589627Z"
    }
   },
   "outputs": [
    {
     "data": {
      "text/html": [
       "<div>\n",
       "<style scoped>\n",
       "    .dataframe tbody tr th:only-of-type {\n",
       "        vertical-align: middle;\n",
       "    }\n",
       "\n",
       "    .dataframe tbody tr th {\n",
       "        vertical-align: top;\n",
       "    }\n",
       "\n",
       "    .dataframe thead th {\n",
       "        text-align: right;\n",
       "    }\n",
       "</style>\n",
       "<table border=\"1\" class=\"dataframe\">\n",
       "  <thead>\n",
       "    <tr style=\"text-align: right;\">\n",
       "      <th></th>\n",
       "      <th>Impressions</th>\n",
       "      <th>Cost</th>\n",
       "      <th>Duration</th>\n",
       "      <th>Unique link clicks</th>\n",
       "      <th>Post shares</th>\n",
       "      <th>Post comments</th>\n",
       "      <th>Registration</th>\n",
       "      <th>Website purchases</th>\n",
       "      <th>CPC</th>\n",
       "      <th>CPM</th>\n",
       "      <th>CTR</th>\n",
       "      <th>CR</th>\n",
       "      <th>CPA</th>\n",
       "      <th>CTR_class</th>\n",
       "      <th>CR_class</th>\n",
       "    </tr>\n",
       "    <tr>\n",
       "      <th>Ad name</th>\n",
       "      <th></th>\n",
       "      <th></th>\n",
       "      <th></th>\n",
       "      <th></th>\n",
       "      <th></th>\n",
       "      <th></th>\n",
       "      <th></th>\n",
       "      <th></th>\n",
       "      <th></th>\n",
       "      <th></th>\n",
       "      <th></th>\n",
       "      <th></th>\n",
       "      <th></th>\n",
       "      <th></th>\n",
       "      <th></th>\n",
       "    </tr>\n",
       "  </thead>\n",
       "  <tbody>\n",
       "    <tr>\n",
       "      <th>5k-deathwish_single_w41-2020</th>\n",
       "      <td>-0.240419</td>\n",
       "      <td>-0.216884</td>\n",
       "      <td>-0.367817</td>\n",
       "      <td>-0.234857</td>\n",
       "      <td>-0.204327</td>\n",
       "      <td>-0.253375</td>\n",
       "      <td>-0.265787</td>\n",
       "      <td>-0.249262</td>\n",
       "      <td>0.070573</td>\n",
       "      <td>1.563537</td>\n",
       "      <td>-0.120864</td>\n",
       "      <td>0.087545</td>\n",
       "      <td>387.645</td>\n",
       "      <td>1</td>\n",
       "      <td>1</td>\n",
       "    </tr>\n",
       "    <tr>\n",
       "      <th>Instagram post: Be more Mick!\\n🚀We’re growing at...</th>\n",
       "      <td>-0.281496</td>\n",
       "      <td>-0.298557</td>\n",
       "      <td>-0.413129</td>\n",
       "      <td>-0.255699</td>\n",
       "      <td>-0.204327</td>\n",
       "      <td>-0.276500</td>\n",
       "      <td>-0.294538</td>\n",
       "      <td>-0.298661</td>\n",
       "      <td>-0.368848</td>\n",
       "      <td>-1.054563</td>\n",
       "      <td>2.801061</td>\n",
       "      <td>-0.479871</td>\n",
       "      <td>0.000</td>\n",
       "      <td>1</td>\n",
       "      <td>0</td>\n",
       "    </tr>\n",
       "  </tbody>\n",
       "</table>\n",
       "</div>"
      ],
      "text/plain": [
       "                                                    Impressions      Cost  \\\n",
       "Ad name                                                                     \n",
       "5k-deathwish_single_w41-2020                          -0.240419 -0.216884   \n",
       "Instagram post: Be more Mick!\\n🚀We’re growing a...    -0.281496 -0.298557   \n",
       "\n",
       "                                                    Duration  \\\n",
       "Ad name                                                        \n",
       "5k-deathwish_single_w41-2020                       -0.367817   \n",
       "Instagram post: Be more Mick!\\n🚀We’re growing a... -0.413129   \n",
       "\n",
       "                                                    Unique link clicks  \\\n",
       "Ad name                                                                  \n",
       "5k-deathwish_single_w41-2020                                 -0.234857   \n",
       "Instagram post: Be more Mick!\\n🚀We’re growing a...           -0.255699   \n",
       "\n",
       "                                                    Post shares  \\\n",
       "Ad name                                                           \n",
       "5k-deathwish_single_w41-2020                          -0.204327   \n",
       "Instagram post: Be more Mick!\\n🚀We’re growing a...    -0.204327   \n",
       "\n",
       "                                                    Post comments  \\\n",
       "Ad name                                                             \n",
       "5k-deathwish_single_w41-2020                            -0.253375   \n",
       "Instagram post: Be more Mick!\\n🚀We’re growing a...      -0.276500   \n",
       "\n",
       "                                                    Registration  \\\n",
       "Ad name                                                            \n",
       "5k-deathwish_single_w41-2020                           -0.265787   \n",
       "Instagram post: Be more Mick!\\n🚀We’re growing a...     -0.294538   \n",
       "\n",
       "                                                    Website purchases  \\\n",
       "Ad name                                                                 \n",
       "5k-deathwish_single_w41-2020                                -0.249262   \n",
       "Instagram post: Be more Mick!\\n🚀We’re growing a...          -0.298661   \n",
       "\n",
       "                                                         CPC       CPM  \\\n",
       "Ad name                                                                  \n",
       "5k-deathwish_single_w41-2020                        0.070573  1.563537   \n",
       "Instagram post: Be more Mick!\\n🚀We’re growing a... -0.368848 -1.054563   \n",
       "\n",
       "                                                         CTR        CR  \\\n",
       "Ad name                                                                  \n",
       "5k-deathwish_single_w41-2020                       -0.120864  0.087545   \n",
       "Instagram post: Be more Mick!\\n🚀We’re growing a...  2.801061 -0.479871   \n",
       "\n",
       "                                                        CPA CTR_class CR_class  \n",
       "Ad name                                                                         \n",
       "5k-deathwish_single_w41-2020                        387.645         1        1  \n",
       "Instagram post: Be more Mick!\\n🚀We’re growing a...    0.000         1        0  "
      ]
     },
     "metadata": {},
     "output_type": "display_data"
    },
    {
     "data": {
      "text/html": [
       "<div>\n",
       "<style scoped>\n",
       "    .dataframe tbody tr th:only-of-type {\n",
       "        vertical-align: middle;\n",
       "    }\n",
       "\n",
       "    .dataframe tbody tr th {\n",
       "        vertical-align: top;\n",
       "    }\n",
       "\n",
       "    .dataframe thead th {\n",
       "        text-align: right;\n",
       "    }\n",
       "</style>\n",
       "<table border=\"1\" class=\"dataframe\">\n",
       "  <thead>\n",
       "    <tr style=\"text-align: right;\">\n",
       "      <th></th>\n",
       "      <th>Impressions</th>\n",
       "      <th>Cost</th>\n",
       "      <th>Duration</th>\n",
       "      <th>Unique link clicks</th>\n",
       "      <th>Post shares</th>\n",
       "      <th>Post comments</th>\n",
       "      <th>Registration</th>\n",
       "      <th>Website purchases</th>\n",
       "      <th>CPC</th>\n",
       "      <th>CPM</th>\n",
       "      <th>CTR</th>\n",
       "      <th>CR</th>\n",
       "      <th>CPA</th>\n",
       "    </tr>\n",
       "  </thead>\n",
       "  <tbody>\n",
       "    <tr>\n",
       "      <th>count</th>\n",
       "      <td>196.00</td>\n",
       "      <td>196.00</td>\n",
       "      <td>196.00</td>\n",
       "      <td>196.00</td>\n",
       "      <td>196.00</td>\n",
       "      <td>196.00</td>\n",
       "      <td>196.00</td>\n",
       "      <td>196.00</td>\n",
       "      <td>196.00</td>\n",
       "      <td>196.00</td>\n",
       "      <td>196.00</td>\n",
       "      <td>196.00</td>\n",
       "      <td>196.00</td>\n",
       "    </tr>\n",
       "    <tr>\n",
       "      <th>mean</th>\n",
       "      <td>0.00</td>\n",
       "      <td>-0.00</td>\n",
       "      <td>-0.00</td>\n",
       "      <td>0.00</td>\n",
       "      <td>0.00</td>\n",
       "      <td>0.00</td>\n",
       "      <td>0.00</td>\n",
       "      <td>-0.00</td>\n",
       "      <td>0.00</td>\n",
       "      <td>0.00</td>\n",
       "      <td>0.00</td>\n",
       "      <td>-0.00</td>\n",
       "      <td>142.86</td>\n",
       "    </tr>\n",
       "    <tr>\n",
       "      <th>std</th>\n",
       "      <td>1.00</td>\n",
       "      <td>1.00</td>\n",
       "      <td>1.00</td>\n",
       "      <td>1.00</td>\n",
       "      <td>1.00</td>\n",
       "      <td>1.00</td>\n",
       "      <td>1.00</td>\n",
       "      <td>1.00</td>\n",
       "      <td>1.00</td>\n",
       "      <td>1.00</td>\n",
       "      <td>1.00</td>\n",
       "      <td>1.00</td>\n",
       "      <td>237.63</td>\n",
       "    </tr>\n",
       "    <tr>\n",
       "      <th>min</th>\n",
       "      <td>-0.29</td>\n",
       "      <td>-0.30</td>\n",
       "      <td>-0.47</td>\n",
       "      <td>-0.28</td>\n",
       "      <td>-0.21</td>\n",
       "      <td>-0.28</td>\n",
       "      <td>-0.29</td>\n",
       "      <td>-0.30</td>\n",
       "      <td>-0.39</td>\n",
       "      <td>-1.88</td>\n",
       "      <td>-0.85</td>\n",
       "      <td>-0.48</td>\n",
       "      <td>0.00</td>\n",
       "    </tr>\n",
       "    <tr>\n",
       "      <th>25%</th>\n",
       "      <td>-0.28</td>\n",
       "      <td>-0.30</td>\n",
       "      <td>-0.42</td>\n",
       "      <td>-0.28</td>\n",
       "      <td>-0.21</td>\n",
       "      <td>-0.28</td>\n",
       "      <td>-0.29</td>\n",
       "      <td>-0.30</td>\n",
       "      <td>-0.31</td>\n",
       "      <td>-0.70</td>\n",
       "      <td>-0.47</td>\n",
       "      <td>-0.48</td>\n",
       "      <td>0.00</td>\n",
       "    </tr>\n",
       "    <tr>\n",
       "      <th>50%</th>\n",
       "      <td>-0.26</td>\n",
       "      <td>-0.28</td>\n",
       "      <td>-0.38</td>\n",
       "      <td>-0.26</td>\n",
       "      <td>-0.20</td>\n",
       "      <td>-0.25</td>\n",
       "      <td>-0.28</td>\n",
       "      <td>-0.30</td>\n",
       "      <td>-0.14</td>\n",
       "      <td>-0.06</td>\n",
       "      <td>-0.24</td>\n",
       "      <td>-0.48</td>\n",
       "      <td>0.00</td>\n",
       "    </tr>\n",
       "    <tr>\n",
       "      <th>75%</th>\n",
       "      <td>-0.16</td>\n",
       "      <td>-0.14</td>\n",
       "      <td>-0.29</td>\n",
       "      <td>-0.13</td>\n",
       "      <td>-0.14</td>\n",
       "      <td>-0.12</td>\n",
       "      <td>-0.13</td>\n",
       "      <td>-0.14</td>\n",
       "      <td>0.03</td>\n",
       "      <td>0.58</td>\n",
       "      <td>0.16</td>\n",
       "      <td>0.24</td>\n",
       "      <td>228.01</td>\n",
       "    </tr>\n",
       "    <tr>\n",
       "      <th>max</th>\n",
       "      <td>11.42</td>\n",
       "      <td>10.93</td>\n",
       "      <td>4.90</td>\n",
       "      <td>10.23</td>\n",
       "      <td>11.96</td>\n",
       "      <td>11.15</td>\n",
       "      <td>10.75</td>\n",
       "      <td>10.96</td>\n",
       "      <td>11.86</td>\n",
       "      <td>4.40</td>\n",
       "      <td>9.04</td>\n",
       "      <td>8.44</td>\n",
       "      <td>2032.77</td>\n",
       "    </tr>\n",
       "  </tbody>\n",
       "</table>\n",
       "</div>"
      ],
      "text/plain": [
       "       Impressions    Cost  Duration  Unique link clicks  Post shares  \\\n",
       "count       196.00  196.00    196.00              196.00       196.00   \n",
       "mean          0.00   -0.00     -0.00                0.00         0.00   \n",
       "std           1.00    1.00      1.00                1.00         1.00   \n",
       "min          -0.29   -0.30     -0.47               -0.28        -0.21   \n",
       "25%          -0.28   -0.30     -0.42               -0.28        -0.21   \n",
       "50%          -0.26   -0.28     -0.38               -0.26        -0.20   \n",
       "75%          -0.16   -0.14     -0.29               -0.13        -0.14   \n",
       "max          11.42   10.93      4.90               10.23        11.96   \n",
       "\n",
       "       Post comments  Registration  Website purchases     CPC     CPM     CTR  \\\n",
       "count         196.00        196.00             196.00  196.00  196.00  196.00   \n",
       "mean            0.00          0.00              -0.00    0.00    0.00    0.00   \n",
       "std             1.00          1.00               1.00    1.00    1.00    1.00   \n",
       "min            -0.28         -0.29              -0.30   -0.39   -1.88   -0.85   \n",
       "25%            -0.28         -0.29              -0.30   -0.31   -0.70   -0.47   \n",
       "50%            -0.25         -0.28              -0.30   -0.14   -0.06   -0.24   \n",
       "75%            -0.12         -0.13              -0.14    0.03    0.58    0.16   \n",
       "max            11.15         10.75              10.96   11.86    4.40    9.04   \n",
       "\n",
       "           CR      CPA  \n",
       "count  196.00   196.00  \n",
       "mean    -0.00   142.86  \n",
       "std      1.00   237.63  \n",
       "min     -0.48     0.00  \n",
       "25%     -0.48     0.00  \n",
       "50%     -0.48     0.00  \n",
       "75%      0.24   228.01  \n",
       "max      8.44  2032.77  "
      ]
     },
     "execution_count": 96,
     "metadata": {},
     "output_type": "execute_result"
    }
   ],
   "source": [
    "from sklearn.preprocessing import StandardScaler \n",
    "\n",
    "scaler = StandardScaler()\n",
    "\n",
    "scaler.fit(data_ad_scaled[['Impressions', 'Cost', 'Duration', \n",
    "                           'Unique link clicks', \n",
    "                           'Post shares', 'Post comments', \n",
    "                           'Registration', \n",
    "                           'Website purchases', 'CPC', \n",
    "                           'CPM', 'CTR', 'CR']])\n",
    "\n",
    "data_ad_scaled[['Impressions', 'Cost', 'Duration', \n",
    "                'Unique link clicks', \n",
    "                'Post shares', 'Post comments', \n",
    "                'Registration', \n",
    "                'Website purchases', 'CPC', \n",
    "                'CPM', 'CTR', 'CR']] = scaler.transform(data_ad_scaled[['Impressions', 'Cost', \n",
    "                                                                        'Duration', 'Unique link clicks', \n",
    "                                                                        'Post shares', 'Post comments', \n",
    "                                                                        'Registration', 'Website purchases', \n",
    "                                                                        'CPC', 'CPM', 'CTR', 'CR']])\n",
    "display(data_ad_scaled.head(2)) \n",
    "data_ad_scaled.describe().round(2) "
   ]
  },
  {
   "cell_type": "markdown",
   "metadata": {},
   "source": [
    "# KMeans: "
   ]
  },
  {
   "cell_type": "markdown",
   "metadata": {},
   "source": [
    "## KNN - KNeighborsRegressor"
   ]
  },
  {
   "cell_type": "markdown",
   "metadata": {},
   "source": [
    "### data_ad: "
   ]
  },
  {
   "cell_type": "markdown",
   "metadata": {},
   "source": [
    "#### Baseline KNN Model (Day 5, Week 4)"
   ]
  },
  {
   "cell_type": "code",
   "execution_count": 117,
   "metadata": {
    "ExecuteTime": {
     "end_time": "2021-03-22T18:42:44.154961Z",
     "start_time": "2021-03-22T18:42:44.134837Z"
    }
   },
   "outputs": [],
   "source": [
    "from sklearn.model_selection import train_test_split\n",
    "\n",
    "# Split data_ad_scaled: \n",
    "X_scaled = data_ad_scaled[['Impressions', 'Cost', 'Duration', 'Unique link clicks', \n",
    "                    'Post shares', 'Post comments', 'Registration', \n",
    "                    'CPC', 'CPM', 'CTR', 'CTR_class']]\n",
    "y_scaled = data_ad_scaled[\"Website purchases\"]\n",
    " \n",
    "X_train_scaled, X_test_scaled,\\\n",
    "y_train_scaled, y_test_scaled = train_test_split(X_scaled, y_scaled, \n",
    "                                                 test_size = 0.3, random_state = 1)\n",
    "\n",
    "# Split data_ad: \n",
    "X = data_ad[['Impressions', 'Cost', 'Duration', 'Unique link clicks', \n",
    "                    'Post shares', 'Post comments', 'Registration', \n",
    "                    'CPC', 'CPM', 'CTR', 'CTR_class']]\n",
    "y = data_ad[\"Website purchases\"]\n",
    " \n",
    "X_train, X_test, y_train, y_test = train_test_split(X, y, test_size = 0.3,\n",
    "                                                    random_state = 1)"
   ]
  },
  {
   "cell_type": "code",
   "execution_count": 118,
   "metadata": {
    "ExecuteTime": {
     "end_time": "2021-03-22T18:42:44.813082Z",
     "start_time": "2021-03-22T18:42:44.753143Z"
    }
   },
   "outputs": [
    {
     "name": "stdout",
     "output_type": "stream",
     "text": [
      "The Baseline score is: 76.6%.\n"
     ]
    }
   ],
   "source": [
    "from sklearn.neighbors import KNeighborsRegressor\n",
    "from sklearn.model_selection import cross_validate\n",
    "\n",
    "model_knn_reg = KNeighborsRegressor(n_neighbors = 1)\n",
    "\n",
    "cv_result = cross_validate(model_knn_reg, X_train_scaled, \n",
    "                           y_train, cv = 5)\n",
    "\n",
    "print(f\"\"\"The Baseline score is: {(cv_result[\"test_score\"].mean() * 100).round(1)}%.\"\"\")"
   ]
  },
  {
   "cell_type": "markdown",
   "metadata": {},
   "source": [
    "#### GridSearchCV (Day 5, Week 4)"
   ]
  },
  {
   "cell_type": "code",
   "execution_count": 119,
   "metadata": {
    "ExecuteTime": {
     "end_time": "2021-03-22T18:42:52.043957Z",
     "start_time": "2021-03-22T18:42:46.091453Z"
    }
   },
   "outputs": [
    {
     "data": {
      "application/javascript": [
       "\n",
       "        if (window._pyforest_update_imports_cell) { window._pyforest_update_imports_cell('import numpy as np\\nimport pandas as pd'); }\n",
       "    "
      ],
      "text/plain": [
       "<IPython.core.display.Javascript object>"
      ]
     },
     "metadata": {},
     "output_type": "display_data"
    },
    {
     "data": {
      "text/plain": [
       "GridSearchCV(cv=5, estimator=KNeighborsRegressor(), n_jobs=-1,\n",
       "             param_grid={'n_neighbors': array([ 1,  2,  3,  4,  5,  6,  7,  8,  9, 10, 11, 12, 13, 14, 15, 16, 17,\n",
       "       18, 19, 20, 21, 22, 23, 24, 25, 26, 27, 28, 29, 30, 31, 32, 33, 34,\n",
       "       35, 36, 37, 38, 39, 40, 41, 42, 43, 44, 45, 46, 47, 48, 49, 50, 51,\n",
       "       52, 53, 54, 55, 56, 57, 58, 59, 60, 61, 62, 63, 64, 65, 66, 67, 68,\n",
       "       69, 70, 71, 72, 73, 74, 75, 76, 77, 78, 79, 80, 81, 82, 83, 84, 85,\n",
       "       86, 87, 88, 89, 90, 91, 92, 93, 94, 95, 96, 97, 98, 99])})"
      ]
     },
     "execution_count": 119,
     "metadata": {},
     "output_type": "execute_result"
    }
   ],
   "source": [
    "from sklearn.model_selection import GridSearchCV\n",
    "\n",
    "model_knn = KNeighborsRegressor()\n",
    "params = {\"n_neighbors\" : np.arange(1, 100, 1)}\n",
    "\n",
    "\n",
    "grid = GridSearchCV(model_knn, params, cv = 5, n_jobs = -1)\n",
    "\n",
    "grid.fit(X_train_scaled, y_train)"
   ]
  },
  {
   "cell_type": "code",
   "execution_count": 120,
   "metadata": {
    "ExecuteTime": {
     "end_time": "2021-03-22T18:42:52.077369Z",
     "start_time": "2021-03-22T18:42:52.065671Z"
    }
   },
   "outputs": [
    {
     "name": "stdout",
     "output_type": "stream",
     "text": [
      "The GridSearchCV score is: 77.0%. \n",
      "The best model is: KNeighborsRegressor(n_neighbors=1)\n"
     ]
    }
   ],
   "source": [
    "print(f\"\"\"The GridSearchCV score is: {(grid.best_score_ * 100).round()}%. \n",
    "The best model is: {grid.best_estimator_}\"\"\")"
   ]
  },
  {
   "cell_type": "markdown",
   "metadata": {},
   "source": [
    "#### Multiple Params (Day 5, Week 4): "
   ]
  },
  {
   "cell_type": "code",
   "execution_count": 121,
   "metadata": {
    "ExecuteTime": {
     "end_time": "2021-03-22T18:43:46.829021Z",
     "start_time": "2021-03-22T18:43:40.474138Z"
    }
   },
   "outputs": [
    {
     "data": {
      "application/javascript": [
       "\n",
       "        if (window._pyforest_update_imports_cell) { window._pyforest_update_imports_cell('import numpy as np\\nimport pandas as pd'); }\n",
       "    "
      ],
      "text/plain": [
       "<IPython.core.display.Javascript object>"
      ]
     },
     "metadata": {},
     "output_type": "display_data"
    },
    {
     "data": {
      "text/plain": [
       "GridSearchCV(cv=5, estimator=KNeighborsRegressor(), n_jobs=-1,\n",
       "             param_grid={'n_neighbors': array([ 1,  2,  3,  4,  5,  6,  7,  8,  9, 10, 11, 12, 13, 14, 15, 16, 17,\n",
       "       18, 19, 20, 21, 22, 23, 24, 25, 26, 27, 28, 29, 30, 31, 32, 33, 34,\n",
       "       35, 36, 37, 38, 39, 40, 41, 42, 43, 44, 45, 46, 47, 48, 49, 50, 51,\n",
       "       52, 53, 54, 55, 56, 57, 58, 59, 60, 61, 62, 63, 64, 65, 66, 67, 68,\n",
       "       69, 70, 71, 72, 73, 74, 75, 76, 77, 78, 79, 80, 81, 82, 83, 84, 85,\n",
       "       86, 87, 88, 89, 90, 91, 92, 93, 94, 95, 96, 97, 98, 99]),\n",
       "                         'p': [1, 2, 3]})"
      ]
     },
     "execution_count": 121,
     "metadata": {},
     "output_type": "execute_result"
    }
   ],
   "source": [
    "from sklearn.model_selection import GridSearchCV\n",
    "\n",
    "model_knn = KNeighborsRegressor()\n",
    "params = {\"n_neighbors\" : np.arange(1, 100, 1), \n",
    "          \"p\" : [1, 2, 3]}\n",
    "\n",
    "grid_multiple = GridSearchCV(model_knn, params, cv = 5, n_jobs = -1)\n",
    "\n",
    "grid_multiple.fit(X_train_scaled, y_train)"
   ]
  },
  {
   "cell_type": "code",
   "execution_count": 122,
   "metadata": {
    "ExecuteTime": {
     "end_time": "2021-03-22T18:43:46.841339Z",
     "start_time": "2021-03-22T18:43:46.833682Z"
    }
   },
   "outputs": [
    {
     "name": "stdout",
     "output_type": "stream",
     "text": [
      "The Multiple GridSearchCV score is: 77.0%. \n",
      "The best model is: KNeighborsRegressor(n_neighbors=1, p=1)\n"
     ]
    }
   ],
   "source": [
    "print(f\"\"\"The Multiple GridSearchCV score is: {(grid_multiple.best_score_ * 100).round()}%. \n",
    "The best model is: {grid_multiple.best_estimator_}\"\"\")"
   ]
  },
  {
   "cell_type": "markdown",
   "metadata": {},
   "source": [
    "#### RandomizedSearchCV (Day 5, Week 4)"
   ]
  },
  {
   "cell_type": "code",
   "execution_count": 123,
   "metadata": {
    "ExecuteTime": {
     "end_time": "2021-03-22T18:43:51.642048Z",
     "start_time": "2021-03-22T18:43:50.261039Z"
    }
   },
   "outputs": [
    {
     "data": {
      "application/javascript": [
       "\n",
       "        if (window._pyforest_update_imports_cell) { window._pyforest_update_imports_cell('import numpy as np\\nimport pandas as pd'); }\n",
       "    "
      ],
      "text/plain": [
       "<IPython.core.display.Javascript object>"
      ]
     },
     "metadata": {},
     "output_type": "display_data"
    },
    {
     "data": {
      "text/plain": [
       "RandomizedSearchCV(cv=5, estimator=KNeighborsRegressor(), n_iter=60, n_jobs=-1,\n",
       "                   param_distributions={'n_neighbors': array([ 1,  2,  3,  4,  5,  6,  7,  8,  9, 10, 11, 12, 13, 14, 15, 16, 17,\n",
       "       18, 19, 20, 21, 22, 23, 24, 25, 26, 27, 28, 29, 30, 31, 32, 33, 34,\n",
       "       35, 36, 37, 38, 39, 40, 41, 42, 43, 44, 45, 46, 47, 48, 49, 50]),\n",
       "                                        'p': [1, 2, 3]})"
      ]
     },
     "execution_count": 123,
     "metadata": {},
     "output_type": "execute_result"
    }
   ],
   "source": [
    "from sklearn.model_selection import RandomizedSearchCV\n",
    "\n",
    "model_knn_reg = KNeighborsRegressor()\n",
    "search_space = {\"n_neighbors\" : np.arange(1, 51, 1), \n",
    "                \"p\" : [1, 2 , 3]}\n",
    "\n",
    "random_search = RandomizedSearchCV(model_knn_reg, cv = 5, \n",
    "                                   param_distributions = search_space, \n",
    "                                   n_jobs = -1, n_iter = 60)\n",
    "\n",
    "random_search.fit(X_train_scaled, y_train)"
   ]
  },
  {
   "cell_type": "code",
   "execution_count": 124,
   "metadata": {
    "ExecuteTime": {
     "end_time": "2021-03-22T18:43:52.412904Z",
     "start_time": "2021-03-22T18:43:52.398618Z"
    }
   },
   "outputs": [
    {
     "name": "stdout",
     "output_type": "stream",
     "text": [
      "The RandomSearchCV score is: 77.0%. \n",
      "The best model is: KNeighborsRegressor(n_neighbors=1, p=1)\n"
     ]
    }
   ],
   "source": [
    "print(f\"\"\"The RandomSearchCV score is: {(random_search.best_score_ * 100).round()}%. \n",
    "The best model is: {random_search.best_estimator_}\"\"\")"
   ]
  },
  {
   "cell_type": "markdown",
   "metadata": {
    "heading_collapsed": true
   },
   "source": [
    "#### Take the best model and generalise (Day 5, Week 4): "
   ]
  },
  {
   "cell_type": "code",
   "execution_count": 16,
   "metadata": {
    "ExecuteTime": {
     "end_time": "2021-03-15T18:21:20.978687Z",
     "start_time": "2021-03-15T18:21:20.969431Z"
    },
    "hidden": true
   },
   "outputs": [
    {
     "data": {
      "text/plain": [
       "KNeighborsRegressor(n_neighbors=1, p=1)"
      ]
     },
     "execution_count": 16,
     "metadata": {},
     "output_type": "execute_result"
    }
   ],
   "source": [
    "best_model = grid_multiple.best_estimator_\n",
    "best_model"
   ]
  },
  {
   "cell_type": "code",
   "execution_count": 17,
   "metadata": {
    "ExecuteTime": {
     "end_time": "2021-03-15T18:21:21.109695Z",
     "start_time": "2021-03-15T18:21:21.020025Z"
    },
    "hidden": true
   },
   "outputs": [
    {
     "data": {
      "text/plain": [
       "array([ 5.,  0.,  0., 14.,  1.,  0.,  1.,  2.,  0.,  3.,  0.,  0.,  0.,\n",
       "        0.,  0.,  0.,  0.,  1.,  5.,  8.,  0.,  3., 32., 14.,  4.,  5.,\n",
       "        0.,  0., 54.,  0.,  0., 60.,  3.,  5.,  8.,  0.,  5.,  0.,  1.,\n",
       "       14.,  0.,  0.,  0.,  0., 10.,  0.,  0.,  8.,  0.,  0.,  1.,  0.,\n",
       "        4.,  8.,  1.,  2.,  1.,  5., 18.])"
      ]
     },
     "execution_count": 17,
     "metadata": {},
     "output_type": "execute_result"
    }
   ],
   "source": [
    "best_model.fit(X_train_scaled, y_train)\n",
    "\n",
    "y_predicted = best_model.predict(X_test_scaled)\n",
    "y_predicted"
   ]
  },
  {
   "cell_type": "code",
   "execution_count": 18,
   "metadata": {
    "ExecuteTime": {
     "end_time": "2021-03-15T18:21:21.132044Z",
     "start_time": "2021-03-15T18:21:21.118430Z"
    },
    "hidden": true
   },
   "outputs": [
    {
     "name": "stdout",
     "output_type": "stream",
     "text": [
      "The R2 score is: 72.4%\n"
     ]
    }
   ],
   "source": [
    "from sklearn.metrics import r2_score\n",
    "\n",
    "r2 = r2_score(y_test, y_predicted)\n",
    "print(f\"The R2 score is: {(r2*100).round(1)}%\")"
   ]
  },
  {
   "cell_type": "markdown",
   "metadata": {
    "heading_collapsed": true
   },
   "source": [
    "#### cross_val_predict: "
   ]
  },
  {
   "cell_type": "code",
   "execution_count": 48,
   "metadata": {
    "ExecuteTime": {
     "end_time": "2021-03-15T18:32:52.378294Z",
     "start_time": "2021-03-15T18:32:52.320965Z"
    },
    "hidden": true,
    "scrolled": false
   },
   "outputs": [
    {
     "data": {
      "text/plain": [
       "array([-0.18010381, -0.2986608 , -0.29372093, -0.29372093, -0.2986608 ,\n",
       "       -0.2789013 , -0.2986608 , -0.2986608 , -0.29372093, -0.25420193])"
      ]
     },
     "execution_count": 48,
     "metadata": {},
     "output_type": "execute_result"
    }
   ],
   "source": [
    "from sklearn.model_selection import cross_val_predict\n",
    "\n",
    "model_knn_reg = KNeighborsRegressor()\n",
    "\n",
    "y_pred_knn_reg = cross_val_predict(model_knn_reg, X_scaled, y_scaled, cv = 5)\n",
    "y_pred_knn_reg[0:10]"
   ]
  },
  {
   "cell_type": "code",
   "execution_count": 20,
   "metadata": {
    "ExecuteTime": {
     "end_time": "2021-03-15T18:21:21.247639Z",
     "start_time": "2021-03-15T18:21:21.196154Z"
    },
    "hidden": true
   },
   "outputs": [
    {
     "data": {
      "application/javascript": [
       "\n",
       "        if (window._pyforest_update_imports_cell) { window._pyforest_update_imports_cell('import numpy as np\\nimport pandas as pd'); }\n",
       "    "
      ],
      "text/plain": [
       "<IPython.core.display.Javascript object>"
      ]
     },
     "metadata": {},
     "output_type": "display_data"
    },
    {
     "data": {
      "text/html": [
       "<div>\n",
       "<style scoped>\n",
       "    .dataframe tbody tr th:only-of-type {\n",
       "        vertical-align: middle;\n",
       "    }\n",
       "\n",
       "    .dataframe tbody tr th {\n",
       "        vertical-align: top;\n",
       "    }\n",
       "\n",
       "    .dataframe thead th {\n",
       "        text-align: right;\n",
       "    }\n",
       "</style>\n",
       "<table border=\"1\" class=\"dataframe\">\n",
       "  <thead>\n",
       "    <tr style=\"text-align: right;\">\n",
       "      <th></th>\n",
       "      <th>y_scaled</th>\n",
       "      <th>y_pred_knn_reg</th>\n",
       "      <th>delta</th>\n",
       "    </tr>\n",
       "  </thead>\n",
       "  <tbody>\n",
       "    <tr>\n",
       "      <th>173</th>\n",
       "      <td>1.010406</td>\n",
       "      <td>0.852330</td>\n",
       "      <td>-0.158076</td>\n",
       "    </tr>\n",
       "    <tr>\n",
       "      <th>72</th>\n",
       "      <td>-0.298661</td>\n",
       "      <td>-0.298661</td>\n",
       "      <td>0.000000</td>\n",
       "    </tr>\n",
       "    <tr>\n",
       "      <th>185</th>\n",
       "      <td>10.964254</td>\n",
       "      <td>1.687169</td>\n",
       "      <td>-9.277085</td>\n",
       "    </tr>\n",
       "  </tbody>\n",
       "</table>\n",
       "</div>"
      ],
      "text/plain": [
       "      y_scaled  y_pred_knn_reg     delta\n",
       "173   1.010406        0.852330 -0.158076\n",
       "72   -0.298661       -0.298661  0.000000\n",
       "185  10.964254        1.687169 -9.277085"
      ]
     },
     "execution_count": 20,
     "metadata": {},
     "output_type": "execute_result"
    }
   ],
   "source": [
    "result_knn_purchases = pd.DataFrame(zip(y_scaled, y_pred_knn_reg), \n",
    "                                    columns = [\"y_scaled\", \"y_pred_knn_reg\"])\n",
    "\n",
    "result_knn_purchases[\"delta\"] = result_knn_purchases.y_pred_knn_reg         \\\n",
    "                              - result_knn_purchases.y_scaled\n",
    "\n",
    "result_knn_purchases.sample(3)"
   ]
  },
  {
   "cell_type": "code",
   "execution_count": 21,
   "metadata": {
    "ExecuteTime": {
     "end_time": "2021-03-15T18:21:21.279921Z",
     "start_time": "2021-03-15T18:21:21.257902Z"
    },
    "hidden": true
   },
   "outputs": [
    {
     "data": {
      "text/plain": [
       "-0.09410965764813141"
      ]
     },
     "execution_count": 21,
     "metadata": {},
     "output_type": "execute_result"
    }
   ],
   "source": [
    "result_knn_purchases.delta.mean()"
   ]
  },
  {
   "cell_type": "markdown",
   "metadata": {},
   "source": [
    "## KMeans Clustering"
   ]
  },
  {
   "cell_type": "markdown",
   "metadata": {
    "heading_collapsed": true
   },
   "source": [
    "### Elbow: "
   ]
  },
  {
   "cell_type": "markdown",
   "metadata": {
    "heading_collapsed": true
   },
   "source": [
    "### Pairplots:"
   ]
  },
  {
   "cell_type": "markdown",
   "metadata": {
    "heading_collapsed": true
   },
   "source": [
    "# Log Reg:"
   ]
  },
  {
   "cell_type": "markdown",
   "metadata": {
    "hidden": true
   },
   "source": [
    "## data_ad:"
   ]
  },
  {
   "cell_type": "code",
   "execution_count": null,
   "metadata": {
    "hidden": true
   },
   "outputs": [],
   "source": []
  },
  {
   "cell_type": "markdown",
   "metadata": {},
   "source": [
    "# Lin Reg / Regression:"
   ]
  },
  {
   "cell_type": "markdown",
   "metadata": {},
   "source": [
    "## data_ad"
   ]
  },
  {
   "cell_type": "markdown",
   "metadata": {},
   "source": [
    "### Predict Unique link clicks: "
   ]
  },
  {
   "cell_type": "markdown",
   "metadata": {},
   "source": [
    "#### Base Model: "
   ]
  },
  {
   "cell_type": "code",
   "execution_count": 81,
   "metadata": {
    "ExecuteTime": {
     "end_time": "2021-03-22T16:09:35.391430Z",
     "start_time": "2021-03-22T16:09:35.261114Z"
    }
   },
   "outputs": [
    {
     "data": {
      "text/plain": [
       "Index(['Impressions', 'Cost', 'Duration', 'Unique link clicks', 'Post shares',\n",
       "       'Post comments', 'Registration', 'Website purchases', 'CPC', 'CPM',\n",
       "       'CTR', 'CR', 'CPA', 'CTR_class', 'CR_class'],\n",
       "      dtype='object')"
      ]
     },
     "execution_count": 81,
     "metadata": {},
     "output_type": "execute_result"
    }
   ],
   "source": [
    "data_ad.columns"
   ]
  },
  {
   "cell_type": "code",
   "execution_count": 82,
   "metadata": {
    "ExecuteTime": {
     "end_time": "2021-03-22T16:10:11.282008Z",
     "start_time": "2021-03-22T16:10:11.150367Z"
    }
   },
   "outputs": [
    {
     "data": {
      "text/plain": [
       "95.7"
      ]
     },
     "execution_count": 82,
     "metadata": {},
     "output_type": "execute_result"
    }
   ],
   "source": [
    "from sklearn.linear_model import LinearRegression \n",
    "from sklearn.model_selection import train_test_split  \n",
    " \n",
    "#X = data_ad[[\"Cost per website purchase\"]] \n",
    "X_linreg_clicks = data_ad.drop(columns = [\"Unique link clicks\", \"Impressions\", \n",
    "                                          \"CTR\", \"CTR_class\"])\n",
    "y_linreg_clicks = data_ad[\"Unique link clicks\"] \n",
    " \n",
    "X_train, X_test, y_train, y_test = train_test_split(X_linreg_clicks, \n",
    "                                                    y_linreg_clicks, \n",
    "                                                    test_size = 0.3, \n",
    "                                                    random_state = 3) \n",
    " \n",
    "lin_model_clicks = LinearRegression() \n",
    " \n",
    "lin_model_clicks.fit(X_train, y_train) \n",
    "\n",
    "(lin_model_clicks.score(X_test, y_test) * 100).round(2)"
   ]
  },
  {
   "cell_type": "code",
   "execution_count": 83,
   "metadata": {
    "ExecuteTime": {
     "end_time": "2021-03-22T16:10:19.031475Z",
     "start_time": "2021-03-22T16:10:18.997793Z"
    }
   },
   "outputs": [
    {
     "name": "stdout",
     "output_type": "stream",
     "text": [
      "[ 3.93956381e-01 -2.04837722e+00 -3.16445867e-01  2.27528961e+01\n",
      " -1.25203515e+01  5.56456763e+01 -5.74147934e+00 -1.69591459e+01\n",
      " -2.36305470e+03  1.48014940e-01 -8.13790916e+01]\n",
      "70.6414563250346\n"
     ]
    }
   ],
   "source": [
    "print(lin_model_clicks.coef_) \n",
    "print(lin_model_clicks.intercept_) "
   ]
  },
  {
   "cell_type": "code",
   "execution_count": 84,
   "metadata": {
    "ExecuteTime": {
     "end_time": "2021-03-22T16:10:30.027652Z",
     "start_time": "2021-03-22T16:10:20.030878Z"
    }
   },
   "outputs": [
    {
     "data": {
      "text/plain": [
       "{'importances_mean': array([1.83028830e+00, 6.83115421e-03, 5.56041574e-04, 5.45666838e-01,\n",
       "        1.69168198e+00, 6.92842981e-01, 3.86816615e-04, 5.28525663e-04,\n",
       "        4.26070718e-04, 1.68512227e-04, 2.12767742e-04]),\n",
       " 'importances_std': array([0.1554265 , 0.00109811, 0.00044962, 0.01810177, 0.12765299,\n",
       "        0.06318353, 0.00041276, 0.00041101, 0.00029931, 0.00020027,\n",
       "        0.00025982]),\n",
       " 'importances': array([[ 1.87743351e+00,  1.70863344e+00,  1.88113147e+00, ...,\n",
       "          1.88265186e+00,  1.86433764e+00,  1.91534495e+00],\n",
       "        [ 6.53821375e-03,  7.76678317e-03,  6.60798695e-03, ...,\n",
       "          5.85969810e-03,  7.45598432e-03,  4.93295637e-03],\n",
       "        [ 5.60236386e-04,  5.88420572e-04,  4.74995168e-04, ...,\n",
       "          5.74059373e-04,  4.20791916e-04,  6.97881701e-04],\n",
       "        ...,\n",
       "        [ 3.98347764e-04,  9.13333645e-04,  6.75254403e-04, ...,\n",
       "          3.38001760e-04,  2.07629229e-04,  1.44794924e-04],\n",
       "        [ 1.71535783e-04, -2.53783537e-05,  1.82599185e-05, ...,\n",
       "          2.65015994e-04,  2.86833622e-04,  2.89043869e-04],\n",
       "        [ 3.40635534e-06,  5.24416958e-04,  5.61144001e-04, ...,\n",
       "         -2.23209156e-05, -8.28747712e-05,  1.72489230e-04]])}"
      ]
     },
     "execution_count": 84,
     "metadata": {},
     "output_type": "execute_result"
    }
   ],
   "source": [
    "from sklearn.inspection import permutation_importance \n",
    " \n",
    "result = permutation_importance(lin_model_clicks, X_linreg_clicks, y_linreg_clicks, \n",
    "                                random_state = 5, n_repeats = 100) \n",
    "result"
   ]
  },
  {
   "cell_type": "code",
   "execution_count": 85,
   "metadata": {
    "ExecuteTime": {
     "end_time": "2021-03-22T16:10:30.171507Z",
     "start_time": "2021-03-22T16:10:30.037306Z"
    }
   },
   "outputs": [
    {
     "data": {
      "application/javascript": [
       "\n",
       "        if (window._pyforest_update_imports_cell) { window._pyforest_update_imports_cell('import numpy as np\\nimport pandas as pd'); }\n",
       "    "
      ],
      "text/plain": [
       "<IPython.core.display.Javascript object>"
      ]
     },
     "metadata": {},
     "output_type": "display_data"
    },
    {
     "data": {
      "text/plain": [
       "array([['Cost', 1.83],\n",
       "       ['Duration', 0.007],\n",
       "       ['Post shares', 0.001],\n",
       "       ['Post comments', 0.546],\n",
       "       ['Registration', 1.692],\n",
       "       ['Website purchases', 0.693],\n",
       "       ['CPC', 0.0],\n",
       "       ['CPM', 0.001],\n",
       "       ['CR', 0.0],\n",
       "       ['CPA', 0.0],\n",
       "       ['CR_class', 0.0]], dtype=object)"
      ]
     },
     "execution_count": 85,
     "metadata": {},
     "output_type": "execute_result"
    }
   ],
   "source": [
    "results = np.vstack((X_linreg_clicks.columns, \n",
    "                     (result.importances_mean).round(3))).T\n",
    "results"
   ]
  },
  {
   "cell_type": "code",
   "execution_count": 86,
   "metadata": {
    "ExecuteTime": {
     "end_time": "2021-03-22T16:10:30.271748Z",
     "start_time": "2021-03-22T16:10:30.178920Z"
    }
   },
   "outputs": [
    {
     "data": {
      "application/javascript": [
       "\n",
       "        if (window._pyforest_update_imports_cell) { window._pyforest_update_imports_cell('import numpy as np\\nimport pandas as pd'); }\n",
       "    "
      ],
      "text/plain": [
       "<IPython.core.display.Javascript object>"
      ]
     },
     "metadata": {},
     "output_type": "display_data"
    },
    {
     "data": {
      "text/html": [
       "<div>\n",
       "<style scoped>\n",
       "    .dataframe tbody tr th:only-of-type {\n",
       "        vertical-align: middle;\n",
       "    }\n",
       "\n",
       "    .dataframe tbody tr th {\n",
       "        vertical-align: top;\n",
       "    }\n",
       "\n",
       "    .dataframe thead th {\n",
       "        text-align: right;\n",
       "    }\n",
       "</style>\n",
       "<table border=\"1\" class=\"dataframe\">\n",
       "  <thead>\n",
       "    <tr style=\"text-align: right;\">\n",
       "      <th></th>\n",
       "      <th>Feature</th>\n",
       "      <th>Importance</th>\n",
       "    </tr>\n",
       "  </thead>\n",
       "  <tbody>\n",
       "    <tr>\n",
       "      <th>0</th>\n",
       "      <td>Cost</td>\n",
       "      <td>1.83</td>\n",
       "    </tr>\n",
       "    <tr>\n",
       "      <th>4</th>\n",
       "      <td>Registration</td>\n",
       "      <td>1.692</td>\n",
       "    </tr>\n",
       "    <tr>\n",
       "      <th>5</th>\n",
       "      <td>Website purchases</td>\n",
       "      <td>0.693</td>\n",
       "    </tr>\n",
       "    <tr>\n",
       "      <th>3</th>\n",
       "      <td>Post comments</td>\n",
       "      <td>0.546</td>\n",
       "    </tr>\n",
       "    <tr>\n",
       "      <th>1</th>\n",
       "      <td>Duration</td>\n",
       "      <td>0.007</td>\n",
       "    </tr>\n",
       "    <tr>\n",
       "      <th>2</th>\n",
       "      <td>Post shares</td>\n",
       "      <td>0.001</td>\n",
       "    </tr>\n",
       "    <tr>\n",
       "      <th>7</th>\n",
       "      <td>CPM</td>\n",
       "      <td>0.001</td>\n",
       "    </tr>\n",
       "    <tr>\n",
       "      <th>6</th>\n",
       "      <td>CPC</td>\n",
       "      <td>0</td>\n",
       "    </tr>\n",
       "    <tr>\n",
       "      <th>8</th>\n",
       "      <td>CR</td>\n",
       "      <td>0</td>\n",
       "    </tr>\n",
       "    <tr>\n",
       "      <th>9</th>\n",
       "      <td>CPA</td>\n",
       "      <td>0</td>\n",
       "    </tr>\n",
       "    <tr>\n",
       "      <th>10</th>\n",
       "      <td>CR_class</td>\n",
       "      <td>0</td>\n",
       "    </tr>\n",
       "  </tbody>\n",
       "</table>\n",
       "</div>"
      ],
      "text/plain": [
       "              Feature Importance\n",
       "0                Cost       1.83\n",
       "4        Registration      1.692\n",
       "5   Website purchases      0.693\n",
       "3       Post comments      0.546\n",
       "1            Duration      0.007\n",
       "2         Post shares      0.001\n",
       "7                 CPM      0.001\n",
       "6                 CPC          0\n",
       "8                  CR          0\n",
       "9                 CPA          0\n",
       "10           CR_class          0"
      ]
     },
     "execution_count": 86,
     "metadata": {},
     "output_type": "execute_result"
    }
   ],
   "source": [
    "pd.DataFrame(results, columns = [\"Feature\", \"Importance\"])                     \\\n",
    "  .sort_values([\"Importance\"], ascending = False)"
   ]
  },
  {
   "cell_type": "markdown",
   "metadata": {
    "ExecuteTime": {
     "end_time": "2021-03-12T18:51:32.982220Z",
     "start_time": "2021-03-12T18:51:32.955078Z"
    }
   },
   "source": [
    "-> Run another Lin Reg model with only: Cost, Registration, Website purchases, Post comments."
   ]
  },
  {
   "cell_type": "markdown",
   "metadata": {},
   "source": [
    "#### Updated model: "
   ]
  },
  {
   "cell_type": "code",
   "execution_count": 87,
   "metadata": {
    "ExecuteTime": {
     "end_time": "2021-03-22T16:11:51.524169Z",
     "start_time": "2021-03-22T16:11:51.385404Z"
    }
   },
   "outputs": [
    {
     "data": {
      "text/plain": [
       "95.64"
      ]
     },
     "execution_count": 87,
     "metadata": {},
     "output_type": "execute_result"
    }
   ],
   "source": [
    "X_linreg_clicks = data_ad[[\"Cost\", \"Registration\", \"Website purchases\", \"Post comments\", \"Duration\"]]\n",
    "y_linreg_clicks = data_ad[\"Unique link clicks\"] \n",
    " \n",
    "X_train, X_test, y_train, y_test = train_test_split(X_linreg_clicks, \n",
    "                                                    y_linreg_clicks, \n",
    "                                                    test_size = 0.3, \n",
    "                                                    random_state = 3) \n",
    " \n",
    "lin_model_clicks_updated = LinearRegression() \n",
    " \n",
    "lin_model_clicks_updated.fit(X_train, y_train) \n",
    "\n",
    "(lin_model_clicks_updated.score(X_test, y_test) * 100).round(2)"
   ]
  },
  {
   "cell_type": "markdown",
   "metadata": {},
   "source": [
    "-> By including more features we can improve our model. "
   ]
  },
  {
   "cell_type": "markdown",
   "metadata": {},
   "source": [
    "#### cross_val_predict: "
   ]
  },
  {
   "cell_type": "code",
   "execution_count": 62,
   "metadata": {
    "ExecuteTime": {
     "end_time": "2021-03-22T15:41:18.240871Z",
     "start_time": "2021-03-22T15:41:18.198192Z"
    }
   },
   "outputs": [
    {
     "data": {
      "text/plain": [
       "array([238.84371416, -93.77026585, 181.06050927, -70.30416664,\n",
       "       586.64301268,  92.24229537, -91.25811503, 150.93022475,\n",
       "       -88.41817201, -67.26772518])"
      ]
     },
     "metadata": {},
     "output_type": "display_data"
    },
    {
     "data": {
      "text/plain": [
       "196"
      ]
     },
     "execution_count": 62,
     "metadata": {},
     "output_type": "execute_result"
    }
   ],
   "source": [
    "from sklearn.model_selection import cross_val_predict\n",
    "y_pred_clicks = cross_val_predict(lin_model_clicks, X_linreg_clicks, \n",
    "                           y_linreg_clicks, cv = 5)\n",
    "display(y_pred_clicks[0:10])\n",
    "len(y_pred_clicks)"
   ]
  },
  {
   "cell_type": "code",
   "execution_count": 65,
   "metadata": {
    "ExecuteTime": {
     "end_time": "2021-03-22T15:41:43.241554Z",
     "start_time": "2021-03-22T15:41:43.211307Z"
    }
   },
   "outputs": [
    {
     "data": {
      "application/javascript": [
       "\n",
       "        if (window._pyforest_update_imports_cell) { window._pyforest_update_imports_cell('import numpy as np\\nimport pandas as pd'); }\n",
       "    "
      ],
      "text/plain": [
       "<IPython.core.display.Javascript object>"
      ]
     },
     "metadata": {},
     "output_type": "display_data"
    },
    {
     "data": {
      "text/html": [
       "<div>\n",
       "<style scoped>\n",
       "    .dataframe tbody tr th:only-of-type {\n",
       "        vertical-align: middle;\n",
       "    }\n",
       "\n",
       "    .dataframe tbody tr th {\n",
       "        vertical-align: top;\n",
       "    }\n",
       "\n",
       "    .dataframe thead th {\n",
       "        text-align: right;\n",
       "    }\n",
       "</style>\n",
       "<table border=\"1\" class=\"dataframe\">\n",
       "  <thead>\n",
       "    <tr style=\"text-align: right;\">\n",
       "      <th></th>\n",
       "      <th>y_linreg_clicks</th>\n",
       "      <th>y_pred_clicks</th>\n",
       "      <th>delta</th>\n",
       "    </tr>\n",
       "  </thead>\n",
       "  <tbody>\n",
       "    <tr>\n",
       "      <th>178</th>\n",
       "      <td>15268.0</td>\n",
       "      <td>10262.968993</td>\n",
       "      <td>-5005.031007</td>\n",
       "    </tr>\n",
       "    <tr>\n",
       "      <th>81</th>\n",
       "      <td>1604.0</td>\n",
       "      <td>724.291223</td>\n",
       "      <td>-879.708777</td>\n",
       "    </tr>\n",
       "    <tr>\n",
       "      <th>145</th>\n",
       "      <td>4730.0</td>\n",
       "      <td>3628.099887</td>\n",
       "      <td>-1101.900113</td>\n",
       "    </tr>\n",
       "    <tr>\n",
       "      <th>195</th>\n",
       "      <td>80.0</td>\n",
       "      <td>121.376142</td>\n",
       "      <td>41.376142</td>\n",
       "    </tr>\n",
       "    <tr>\n",
       "      <th>103</th>\n",
       "      <td>369.0</td>\n",
       "      <td>-23.704241</td>\n",
       "      <td>-392.704241</td>\n",
       "    </tr>\n",
       "  </tbody>\n",
       "</table>\n",
       "</div>"
      ],
      "text/plain": [
       "     y_linreg_clicks  y_pred_clicks        delta\n",
       "178          15268.0   10262.968993 -5005.031007\n",
       "81            1604.0     724.291223  -879.708777\n",
       "145           4730.0    3628.099887 -1101.900113\n",
       "195             80.0     121.376142    41.376142\n",
       "103            369.0     -23.704241  -392.704241"
      ]
     },
     "metadata": {},
     "output_type": "display_data"
    },
    {
     "data": {
      "text/plain": [
       "(196, 3)"
      ]
     },
     "execution_count": 65,
     "metadata": {},
     "output_type": "execute_result"
    }
   ],
   "source": [
    "comparision = pd.DataFrame(zip(y_linreg_clicks, y_pred_clicks), \n",
    "                           columns = [\"y_linreg_clicks\", \"y_pred_clicks\"])\n",
    "comparision[\"delta\"] = comparision.y_pred_clicks - comparision.y_linreg_clicks\n",
    "display(comparision.sample(5))\n",
    "comparision.shape"
   ]
  },
  {
   "cell_type": "code",
   "execution_count": 64,
   "metadata": {
    "ExecuteTime": {
     "end_time": "2021-03-22T15:41:19.703114Z",
     "start_time": "2021-03-22T15:41:19.693947Z"
    }
   },
   "outputs": [
    {
     "data": {
      "text/plain": [
       "-84.13051006933443"
      ]
     },
     "execution_count": 64,
     "metadata": {},
     "output_type": "execute_result"
    }
   ],
   "source": [
    "comparision.delta.mean()"
   ]
  },
  {
   "cell_type": "markdown",
   "metadata": {},
   "source": [
    "### Predict Website purchases: "
   ]
  },
  {
   "cell_type": "markdown",
   "metadata": {},
   "source": [
    "#### Base model:"
   ]
  },
  {
   "cell_type": "code",
   "execution_count": 88,
   "metadata": {
    "ExecuteTime": {
     "end_time": "2021-03-22T16:12:33.263866Z",
     "start_time": "2021-03-22T16:12:33.205048Z"
    }
   },
   "outputs": [
    {
     "name": "stdout",
     "output_type": "stream",
     "text": [
      "The score of the base model is: 87.2%.\n"
     ]
    }
   ],
   "source": [
    "X_linreg_sales = data_ad.drop(columns = [\"Website purchases\", \"CR\", \"CR_class\"]) \n",
    "y_linreg_sales = data_ad[\"Website purchases\"]\n",
    " \n",
    "X_train, X_test, y_train, y_test = train_test_split(X_linreg_sales, y_linreg_sales, \n",
    "                                                    test_size = 0.3, random_state = 1)\n",
    " \n",
    "lin_model_purchases = LinearRegression()\n",
    " \n",
    "lin_model_purchases.fit(X_train, y_train)\n",
    " \n",
    "print(f\"\"\"The score of the base model is: {(lin_model_purchases.score(X_test, y_test)*100).round(1)}%.\"\"\")"
   ]
  },
  {
   "cell_type": "code",
   "execution_count": 89,
   "metadata": {
    "ExecuteTime": {
     "end_time": "2021-03-22T16:12:47.651269Z",
     "start_time": "2021-03-22T16:12:34.604941Z"
    },
    "scrolled": true
   },
   "outputs": [
    {
     "data": {
      "text/plain": [
       "{'importances_mean': array([6.25812116e-03, 1.11806207e-01, 7.99662004e-03, 1.96487122e-01,\n",
       "        1.07498522e-02, 1.15161229e-01, 2.30263044e+00, 1.74441321e-03,\n",
       "        4.80454821e-03, 1.47417689e-05, 1.71594232e-03, 3.42255245e-04]),\n",
       " 'importances_std': array([7.77033773e-04, 9.12492595e-03, 1.01511682e-03, 1.48202542e-02,\n",
       "        1.59813517e-03, 4.46732672e-03, 1.84429944e-01, 4.45513176e-04,\n",
       "        9.53706671e-04, 1.07780857e-04, 4.56806485e-04, 1.72410057e-04]),\n",
       " 'importances': array([[ 5.95503166e-03,  4.36824792e-03,  7.94834509e-03, ...,\n",
       "          8.55772438e-03,  5.84029130e-03,  6.32960063e-03],\n",
       "        [ 1.12613734e-01,  9.67480511e-02,  1.22047777e-01, ...,\n",
       "          1.22792928e-01,  1.12058626e-01,  1.16002951e-01],\n",
       "        [ 6.77764791e-03,  9.18442556e-03,  6.65087841e-03, ...,\n",
       "          6.57546639e-03,  8.04627646e-03,  6.73644106e-03],\n",
       "        ...,\n",
       "        [ 8.06211149e-05, -2.23971667e-04,  8.60648517e-05, ...,\n",
       "          3.94741839e-05,  1.08359137e-05, -4.89956022e-05],\n",
       "        [ 2.13000578e-03,  1.63325226e-03,  1.81110392e-03, ...,\n",
       "          1.53134689e-03,  1.81654868e-03,  1.71830621e-03],\n",
       "        [ 1.92007067e-04,  3.03645660e-04,  1.26121224e-04, ...,\n",
       "          2.53800314e-04,  3.51964121e-04,  4.87513355e-04]])}"
      ]
     },
     "execution_count": 89,
     "metadata": {},
     "output_type": "execute_result"
    }
   ],
   "source": [
    "from sklearn.inspection import permutation_importance \n",
    " \n",
    "result = permutation_importance(lin_model_purchases, X_linreg_sales, y_linreg_sales, \n",
    "                                random_state = 5, n_repeats = 100) \n",
    "result"
   ]
  },
  {
   "cell_type": "code",
   "execution_count": 92,
   "metadata": {
    "ExecuteTime": {
     "end_time": "2021-03-22T16:17:43.362151Z",
     "start_time": "2021-03-22T16:17:43.281139Z"
    },
    "scrolled": true
   },
   "outputs": [
    {
     "data": {
      "application/javascript": [
       "\n",
       "        if (window._pyforest_update_imports_cell) { window._pyforest_update_imports_cell('import numpy as np\\nimport pandas as pd'); }\n",
       "    "
      ],
      "text/plain": [
       "<IPython.core.display.Javascript object>"
      ]
     },
     "metadata": {},
     "output_type": "display_data"
    },
    {
     "data": {
      "text/plain": [
       "array([['Impressions', 0.0063],\n",
       "       ['Cost', 0.1118],\n",
       "       ['Duration', 0.008],\n",
       "       ['Unique link clicks', 0.1965],\n",
       "       ['Post shares', 0.0107],\n",
       "       ['Post comments', 0.1152],\n",
       "       ['Registration', 2.3026],\n",
       "       ['CPC', 0.0017],\n",
       "       ['CPM', 0.0048],\n",
       "       ['CTR', 0.0],\n",
       "       ['CPA', 0.0017],\n",
       "       ['CTR_class', 0.0003]], dtype=object)"
      ]
     },
     "execution_count": 92,
     "metadata": {},
     "output_type": "execute_result"
    }
   ],
   "source": [
    "results = np.vstack((X_linreg_sales.columns, \n",
    "                     (result.importances_mean).round(4))).T\n",
    "results"
   ]
  },
  {
   "cell_type": "code",
   "execution_count": 93,
   "metadata": {
    "ExecuteTime": {
     "end_time": "2021-03-22T16:17:43.987269Z",
     "start_time": "2021-03-22T16:17:43.951791Z"
    },
    "scrolled": false
   },
   "outputs": [
    {
     "data": {
      "application/javascript": [
       "\n",
       "        if (window._pyforest_update_imports_cell) { window._pyforest_update_imports_cell('import numpy as np\\nimport pandas as pd'); }\n",
       "    "
      ],
      "text/plain": [
       "<IPython.core.display.Javascript object>"
      ]
     },
     "metadata": {},
     "output_type": "display_data"
    },
    {
     "data": {
      "text/html": [
       "<div>\n",
       "<style scoped>\n",
       "    .dataframe tbody tr th:only-of-type {\n",
       "        vertical-align: middle;\n",
       "    }\n",
       "\n",
       "    .dataframe tbody tr th {\n",
       "        vertical-align: top;\n",
       "    }\n",
       "\n",
       "    .dataframe thead th {\n",
       "        text-align: right;\n",
       "    }\n",
       "</style>\n",
       "<table border=\"1\" class=\"dataframe\">\n",
       "  <thead>\n",
       "    <tr style=\"text-align: right;\">\n",
       "      <th></th>\n",
       "      <th>Feature</th>\n",
       "      <th>Importance</th>\n",
       "    </tr>\n",
       "  </thead>\n",
       "  <tbody>\n",
       "    <tr>\n",
       "      <th>6</th>\n",
       "      <td>Registration</td>\n",
       "      <td>2.3026</td>\n",
       "    </tr>\n",
       "    <tr>\n",
       "      <th>3</th>\n",
       "      <td>Unique link clicks</td>\n",
       "      <td>0.1965</td>\n",
       "    </tr>\n",
       "    <tr>\n",
       "      <th>5</th>\n",
       "      <td>Post comments</td>\n",
       "      <td>0.1152</td>\n",
       "    </tr>\n",
       "    <tr>\n",
       "      <th>1</th>\n",
       "      <td>Cost</td>\n",
       "      <td>0.1118</td>\n",
       "    </tr>\n",
       "    <tr>\n",
       "      <th>4</th>\n",
       "      <td>Post shares</td>\n",
       "      <td>0.0107</td>\n",
       "    </tr>\n",
       "    <tr>\n",
       "      <th>2</th>\n",
       "      <td>Duration</td>\n",
       "      <td>0.008</td>\n",
       "    </tr>\n",
       "    <tr>\n",
       "      <th>0</th>\n",
       "      <td>Impressions</td>\n",
       "      <td>0.0063</td>\n",
       "    </tr>\n",
       "    <tr>\n",
       "      <th>8</th>\n",
       "      <td>CPM</td>\n",
       "      <td>0.0048</td>\n",
       "    </tr>\n",
       "    <tr>\n",
       "      <th>7</th>\n",
       "      <td>CPC</td>\n",
       "      <td>0.0017</td>\n",
       "    </tr>\n",
       "    <tr>\n",
       "      <th>10</th>\n",
       "      <td>CPA</td>\n",
       "      <td>0.0017</td>\n",
       "    </tr>\n",
       "    <tr>\n",
       "      <th>11</th>\n",
       "      <td>CTR_class</td>\n",
       "      <td>0.0003</td>\n",
       "    </tr>\n",
       "    <tr>\n",
       "      <th>9</th>\n",
       "      <td>CTR</td>\n",
       "      <td>0</td>\n",
       "    </tr>\n",
       "  </tbody>\n",
       "</table>\n",
       "</div>"
      ],
      "text/plain": [
       "               Feature Importance\n",
       "6         Registration     2.3026\n",
       "3   Unique link clicks     0.1965\n",
       "5        Post comments     0.1152\n",
       "1                 Cost     0.1118\n",
       "4          Post shares     0.0107\n",
       "2             Duration      0.008\n",
       "0          Impressions     0.0063\n",
       "8                  CPM     0.0048\n",
       "7                  CPC     0.0017\n",
       "10                 CPA     0.0017\n",
       "11           CTR_class     0.0003\n",
       "9                  CTR          0"
      ]
     },
     "execution_count": 93,
     "metadata": {},
     "output_type": "execute_result"
    }
   ],
   "source": [
    "pd.DataFrame(results, columns = [\"Feature\", \"Importance\"])                     \\\n",
    "  .sort_values([\"Importance\"], ascending = False)"
   ]
  },
  {
   "cell_type": "markdown",
   "metadata": {},
   "source": [
    "#### Updated model:"
   ]
  },
  {
   "cell_type": "code",
   "execution_count": 70,
   "metadata": {
    "ExecuteTime": {
     "end_time": "2021-03-22T15:42:11.662006Z",
     "start_time": "2021-03-22T15:42:11.645700Z"
    },
    "scrolled": true
   },
   "outputs": [
    {
     "name": "stdout",
     "output_type": "stream",
     "text": [
      "The score of the updated model is: 90.7%.\n"
     ]
    }
   ],
   "source": [
    "X_linreg_sales = data_ad[[\"Impressions\", \"Cost\", \"Duration\", \"Unique link clicks\",\n",
    "                          \"Post shares\",  \"Post comments\", \"Registration\"]]\n",
    "y_linreg_sales = data_ad[\"Website purchases\"]\n",
    " \n",
    "X_train, X_test, y_train, y_test = train_test_split(X_linreg_sales, y_linreg_sales, \n",
    "                                                    test_size = 0.3, random_state = 1)\n",
    " \n",
    "lin_model_purchases_updated = LinearRegression()\n",
    " \n",
    "lin_model_purchases_updated.fit(X_train, y_train)\n",
    " \n",
    "print(f\"\"\"The score of the updated model is: {(lin_model_purchases_updated.score(X_test, y_test)*100).round(1)}%.\"\"\")"
   ]
  },
  {
   "cell_type": "markdown",
   "metadata": {},
   "source": [
    "#### cross_val_predict: "
   ]
  },
  {
   "cell_type": "code",
   "execution_count": 71,
   "metadata": {
    "ExecuteTime": {
     "end_time": "2021-03-22T15:42:23.649449Z",
     "start_time": "2021-03-22T15:42:23.606107Z"
    }
   },
   "outputs": [],
   "source": [
    "y_pred_sales = cross_val_predict(lin_model_purchases_updated, \n",
    "                                 X_linreg_sales, y_linreg_sales, cv = 5)"
   ]
  },
  {
   "cell_type": "code",
   "execution_count": 97,
   "metadata": {
    "ExecuteTime": {
     "end_time": "2021-03-22T16:22:51.069258Z",
     "start_time": "2021-03-22T16:22:50.846639Z"
    }
   },
   "outputs": [
    {
     "data": {
      "application/javascript": [
       "\n",
       "        if (window._pyforest_update_imports_cell) { window._pyforest_update_imports_cell('import numpy as np\\nimport pandas as pd'); }\n",
       "    "
      ],
      "text/plain": [
       "<IPython.core.display.Javascript object>"
      ]
     },
     "metadata": {},
     "output_type": "display_data"
    },
    {
     "data": {
      "text/html": [
       "<div>\n",
       "<style scoped>\n",
       "    .dataframe tbody tr th:only-of-type {\n",
       "        vertical-align: middle;\n",
       "    }\n",
       "\n",
       "    .dataframe tbody tr th {\n",
       "        vertical-align: top;\n",
       "    }\n",
       "\n",
       "    .dataframe thead th {\n",
       "        text-align: right;\n",
       "    }\n",
       "</style>\n",
       "<table border=\"1\" class=\"dataframe\">\n",
       "  <thead>\n",
       "    <tr style=\"text-align: right;\">\n",
       "      <th></th>\n",
       "      <th>y_sales</th>\n",
       "      <th>y_pred_sales</th>\n",
       "      <th>delta</th>\n",
       "    </tr>\n",
       "  </thead>\n",
       "  <tbody>\n",
       "    <tr>\n",
       "      <th>163</th>\n",
       "      <td>2.0</td>\n",
       "      <td>0.239779</td>\n",
       "      <td>1.760221</td>\n",
       "    </tr>\n",
       "    <tr>\n",
       "      <th>111</th>\n",
       "      <td>0.0</td>\n",
       "      <td>1.729606</td>\n",
       "      <td>-1.729606</td>\n",
       "    </tr>\n",
       "    <tr>\n",
       "      <th>75</th>\n",
       "      <td>0.0</td>\n",
       "      <td>-0.742580</td>\n",
       "      <td>0.742580</td>\n",
       "    </tr>\n",
       "    <tr>\n",
       "      <th>141</th>\n",
       "      <td>0.0</td>\n",
       "      <td>-0.234624</td>\n",
       "      <td>0.234624</td>\n",
       "    </tr>\n",
       "    <tr>\n",
       "      <th>42</th>\n",
       "      <td>0.0</td>\n",
       "      <td>-0.249379</td>\n",
       "      <td>0.249379</td>\n",
       "    </tr>\n",
       "  </tbody>\n",
       "</table>\n",
       "</div>"
      ],
      "text/plain": [
       "     y_sales  y_pred_sales     delta\n",
       "163      2.0      0.239779  1.760221\n",
       "111      0.0      1.729606 -1.729606\n",
       "75       0.0     -0.742580  0.742580\n",
       "141      0.0     -0.234624  0.234624\n",
       "42       0.0     -0.249379  0.249379"
      ]
     },
     "metadata": {},
     "output_type": "display_data"
    },
    {
     "data": {
      "text/plain": [
       "(196, 3)"
      ]
     },
     "execution_count": 97,
     "metadata": {},
     "output_type": "execute_result"
    }
   ],
   "source": [
    "comparision = pd.DataFrame(zip(y_linreg_sales, y_pred_sales), \n",
    "                           columns = [\"y_sales\", \"y_pred_sales\"])\n",
    "comparision[\"delta\"] = comparision.y_sales - comparision.y_pred_sales\n",
    "display(comparision.sample(5))\n",
    "comparision.shape"
   ]
  },
  {
   "cell_type": "code",
   "execution_count": 77,
   "metadata": {
    "ExecuteTime": {
     "end_time": "2021-03-22T15:42:59.896927Z",
     "start_time": "2021-03-22T15:42:59.886515Z"
    }
   },
   "outputs": [
    {
     "data": {
      "text/plain": [
       "0.06"
      ]
     },
     "execution_count": 77,
     "metadata": {},
     "output_type": "execute_result"
    }
   ],
   "source": [
    "comparision.delta.mean().round(2)"
   ]
  },
  {
   "cell_type": "markdown",
   "metadata": {},
   "source": [
    "#### Predictions:"
   ]
  },
  {
   "cell_type": "code",
   "execution_count": 78,
   "metadata": {
    "ExecuteTime": {
     "end_time": "2021-03-22T15:43:13.495584Z",
     "start_time": "2021-03-22T15:43:13.460147Z"
    }
   },
   "outputs": [
    {
     "data": {
      "text/html": [
       "<div>\n",
       "<style scoped>\n",
       "    .dataframe tbody tr th:only-of-type {\n",
       "        vertical-align: middle;\n",
       "    }\n",
       "\n",
       "    .dataframe tbody tr th {\n",
       "        vertical-align: top;\n",
       "    }\n",
       "\n",
       "    .dataframe thead th {\n",
       "        text-align: right;\n",
       "    }\n",
       "</style>\n",
       "<table border=\"1\" class=\"dataframe\">\n",
       "  <thead>\n",
       "    <tr style=\"text-align: right;\">\n",
       "      <th></th>\n",
       "      <th>Impressions</th>\n",
       "      <th>Cost</th>\n",
       "      <th>Duration</th>\n",
       "      <th>Unique link clicks</th>\n",
       "      <th>Post shares</th>\n",
       "      <th>Post comments</th>\n",
       "      <th>Registration</th>\n",
       "      <th>Website purchases</th>\n",
       "      <th>CPC</th>\n",
       "      <th>CPM</th>\n",
       "      <th>CTR</th>\n",
       "      <th>CR</th>\n",
       "      <th>CPA</th>\n",
       "      <th>CTR_class</th>\n",
       "      <th>CR_class</th>\n",
       "    </tr>\n",
       "    <tr>\n",
       "      <th>Ad name</th>\n",
       "      <th></th>\n",
       "      <th></th>\n",
       "      <th></th>\n",
       "      <th></th>\n",
       "      <th></th>\n",
       "      <th></th>\n",
       "      <th></th>\n",
       "      <th></th>\n",
       "      <th></th>\n",
       "      <th></th>\n",
       "      <th></th>\n",
       "      <th></th>\n",
       "      <th></th>\n",
       "      <th></th>\n",
       "      <th></th>\n",
       "    </tr>\n",
       "  </thead>\n",
       "  <tbody>\n",
       "    <tr>\n",
       "      <th>selfie-profiles-organic-outline-v2-pid_carousel</th>\n",
       "      <td>467722.0</td>\n",
       "      <td>3753.77</td>\n",
       "      <td>14</td>\n",
       "      <td>915.0</td>\n",
       "      <td>0.0</td>\n",
       "      <td>35.0</td>\n",
       "      <td>127.0</td>\n",
       "      <td>16.0</td>\n",
       "      <td>4.102481</td>\n",
       "      <td>8.025643</td>\n",
       "      <td>0.001956</td>\n",
       "      <td>0.017486</td>\n",
       "      <td>234.610625</td>\n",
       "      <td>0</td>\n",
       "      <td>1</td>\n",
       "    </tr>\n",
       "    <tr>\n",
       "      <th>insomnia_video</th>\n",
       "      <td>64707.0</td>\n",
       "      <td>703.63</td>\n",
       "      <td>6</td>\n",
       "      <td>587.0</td>\n",
       "      <td>21.0</td>\n",
       "      <td>35.0</td>\n",
       "      <td>16.0</td>\n",
       "      <td>1.0</td>\n",
       "      <td>1.198688</td>\n",
       "      <td>10.874094</td>\n",
       "      <td>0.009072</td>\n",
       "      <td>0.001704</td>\n",
       "      <td>703.630000</td>\n",
       "      <td>1</td>\n",
       "      <td>1</td>\n",
       "    </tr>\n",
       "    <tr>\n",
       "      <th>Post: \"I would love me some fish and chips now... 🤤...\"</th>\n",
       "      <td>5132.0</td>\n",
       "      <td>20.00</td>\n",
       "      <td>4</td>\n",
       "      <td>16.0</td>\n",
       "      <td>5.0</td>\n",
       "      <td>0.0</td>\n",
       "      <td>0.0</td>\n",
       "      <td>0.0</td>\n",
       "      <td>1.250000</td>\n",
       "      <td>3.897116</td>\n",
       "      <td>0.003118</td>\n",
       "      <td>0.000000</td>\n",
       "      <td>0.000000</td>\n",
       "      <td>1</td>\n",
       "      <td>0</td>\n",
       "    </tr>\n",
       "  </tbody>\n",
       "</table>\n",
       "</div>"
      ],
      "text/plain": [
       "                                                    Impressions     Cost  \\\n",
       "Ad name                                                                    \n",
       "selfie-profiles-organic-outline-v2-pid_carousel        467722.0  3753.77   \n",
       "insomnia_video                                          64707.0   703.63   \n",
       "Post: \"I would love me some fish and chips now....       5132.0    20.00   \n",
       "\n",
       "                                                    Duration  \\\n",
       "Ad name                                                        \n",
       "selfie-profiles-organic-outline-v2-pid_carousel           14   \n",
       "insomnia_video                                             6   \n",
       "Post: \"I would love me some fish and chips now....         4   \n",
       "\n",
       "                                                    Unique link clicks  \\\n",
       "Ad name                                                                  \n",
       "selfie-profiles-organic-outline-v2-pid_carousel                  915.0   \n",
       "insomnia_video                                                   587.0   \n",
       "Post: \"I would love me some fish and chips now....                16.0   \n",
       "\n",
       "                                                    Post shares  \\\n",
       "Ad name                                                           \n",
       "selfie-profiles-organic-outline-v2-pid_carousel             0.0   \n",
       "insomnia_video                                             21.0   \n",
       "Post: \"I would love me some fish and chips now....          5.0   \n",
       "\n",
       "                                                    Post comments  \\\n",
       "Ad name                                                             \n",
       "selfie-profiles-organic-outline-v2-pid_carousel              35.0   \n",
       "insomnia_video                                               35.0   \n",
       "Post: \"I would love me some fish and chips now....            0.0   \n",
       "\n",
       "                                                    Registration  \\\n",
       "Ad name                                                            \n",
       "selfie-profiles-organic-outline-v2-pid_carousel            127.0   \n",
       "insomnia_video                                              16.0   \n",
       "Post: \"I would love me some fish and chips now....           0.0   \n",
       "\n",
       "                                                    Website purchases  \\\n",
       "Ad name                                                                 \n",
       "selfie-profiles-organic-outline-v2-pid_carousel                  16.0   \n",
       "insomnia_video                                                    1.0   \n",
       "Post: \"I would love me some fish and chips now....                0.0   \n",
       "\n",
       "                                                         CPC        CPM  \\\n",
       "Ad name                                                                   \n",
       "selfie-profiles-organic-outline-v2-pid_carousel     4.102481   8.025643   \n",
       "insomnia_video                                      1.198688  10.874094   \n",
       "Post: \"I would love me some fish and chips now....  1.250000   3.897116   \n",
       "\n",
       "                                                         CTR        CR  \\\n",
       "Ad name                                                                  \n",
       "selfie-profiles-organic-outline-v2-pid_carousel     0.001956  0.017486   \n",
       "insomnia_video                                      0.009072  0.001704   \n",
       "Post: \"I would love me some fish and chips now....  0.003118  0.000000   \n",
       "\n",
       "                                                           CPA CTR_class  \\\n",
       "Ad name                                                                    \n",
       "selfie-profiles-organic-outline-v2-pid_carousel     234.610625         0   \n",
       "insomnia_video                                      703.630000         1   \n",
       "Post: \"I would love me some fish and chips now....    0.000000         1   \n",
       "\n",
       "                                                   CR_class  \n",
       "Ad name                                                      \n",
       "selfie-profiles-organic-outline-v2-pid_carousel           1  \n",
       "insomnia_video                                            1  \n",
       "Post: \"I would love me some fish and chips now....        0  "
      ]
     },
     "execution_count": 78,
     "metadata": {},
     "output_type": "execute_result"
    }
   ],
   "source": [
    "data_ad.sample(3)"
   ]
  },
  {
   "cell_type": "code",
   "execution_count": 79,
   "metadata": {
    "ExecuteTime": {
     "end_time": "2021-03-22T15:43:14.837339Z",
     "start_time": "2021-03-22T15:43:14.804580Z"
    }
   },
   "outputs": [
    {
     "data": {
      "text/html": [
       "<div>\n",
       "<style scoped>\n",
       "    .dataframe tbody tr th:only-of-type {\n",
       "        vertical-align: middle;\n",
       "    }\n",
       "\n",
       "    .dataframe tbody tr th {\n",
       "        vertical-align: top;\n",
       "    }\n",
       "\n",
       "    .dataframe thead th {\n",
       "        text-align: right;\n",
       "    }\n",
       "</style>\n",
       "<table border=\"1\" class=\"dataframe\">\n",
       "  <thead>\n",
       "    <tr style=\"text-align: right;\">\n",
       "      <th></th>\n",
       "      <th>Impressions</th>\n",
       "      <th>Cost</th>\n",
       "      <th>Duration</th>\n",
       "      <th>Unique link clicks</th>\n",
       "      <th>Post shares</th>\n",
       "      <th>Post comments</th>\n",
       "      <th>Registration</th>\n",
       "      <th>Website purchases</th>\n",
       "      <th>CPC</th>\n",
       "      <th>CPM</th>\n",
       "      <th>CTR</th>\n",
       "      <th>CR</th>\n",
       "      <th>CPA</th>\n",
       "      <th>CTR_class</th>\n",
       "      <th>CR_class</th>\n",
       "    </tr>\n",
       "    <tr>\n",
       "      <th>Ad name</th>\n",
       "      <th></th>\n",
       "      <th></th>\n",
       "      <th></th>\n",
       "      <th></th>\n",
       "      <th></th>\n",
       "      <th></th>\n",
       "      <th></th>\n",
       "      <th></th>\n",
       "      <th></th>\n",
       "      <th></th>\n",
       "      <th></th>\n",
       "      <th></th>\n",
       "      <th></th>\n",
       "      <th></th>\n",
       "      <th></th>\n",
       "    </tr>\n",
       "  </thead>\n",
       "  <tbody>\n",
       "    <tr>\n",
       "      <th>selfie-profiles-organic-outline-blue-bg-paul_static</th>\n",
       "      <td>19358.0</td>\n",
       "      <td>146.60</td>\n",
       "      <td>9</td>\n",
       "      <td>40.0</td>\n",
       "      <td>0.0</td>\n",
       "      <td>0.0</td>\n",
       "      <td>6.0</td>\n",
       "      <td>1.0</td>\n",
       "      <td>3.665000</td>\n",
       "      <td>7.573096</td>\n",
       "      <td>0.002066</td>\n",
       "      <td>0.025000</td>\n",
       "      <td>146.600000</td>\n",
       "      <td>0</td>\n",
       "      <td>1</td>\n",
       "    </tr>\n",
       "    <tr>\n",
       "      <th>upsizing-30s-video_single_w39-2020</th>\n",
       "      <td>196714.0</td>\n",
       "      <td>2032.77</td>\n",
       "      <td>15</td>\n",
       "      <td>738.0</td>\n",
       "      <td>10.0</td>\n",
       "      <td>17.0</td>\n",
       "      <td>22.0</td>\n",
       "      <td>1.0</td>\n",
       "      <td>2.754431</td>\n",
       "      <td>10.333632</td>\n",
       "      <td>0.003752</td>\n",
       "      <td>0.001355</td>\n",
       "      <td>2032.770000</td>\n",
       "      <td>1</td>\n",
       "      <td>1</td>\n",
       "    </tr>\n",
       "    <tr>\n",
       "      <th>chipolata-animatic_video_w39-2020</th>\n",
       "      <td>155478.0</td>\n",
       "      <td>2032.02</td>\n",
       "      <td>15</td>\n",
       "      <td>395.0</td>\n",
       "      <td>2.0</td>\n",
       "      <td>6.0</td>\n",
       "      <td>23.0</td>\n",
       "      <td>3.0</td>\n",
       "      <td>5.144354</td>\n",
       "      <td>13.069502</td>\n",
       "      <td>0.002541</td>\n",
       "      <td>0.007595</td>\n",
       "      <td>677.340000</td>\n",
       "      <td>1</td>\n",
       "      <td>1</td>\n",
       "    </tr>\n",
       "    <tr>\n",
       "      <th>hollywood-60s-pid_video</th>\n",
       "      <td>221239.0</td>\n",
       "      <td>1544.93</td>\n",
       "      <td>12</td>\n",
       "      <td>708.0</td>\n",
       "      <td>6.0</td>\n",
       "      <td>12.0</td>\n",
       "      <td>25.0</td>\n",
       "      <td>6.0</td>\n",
       "      <td>2.182105</td>\n",
       "      <td>6.983082</td>\n",
       "      <td>0.003200</td>\n",
       "      <td>0.008475</td>\n",
       "      <td>257.488333</td>\n",
       "      <td>1</td>\n",
       "      <td>1</td>\n",
       "    </tr>\n",
       "    <tr>\n",
       "      <th>swingers-v2-4:5_video</th>\n",
       "      <td>748400.0</td>\n",
       "      <td>4850.53</td>\n",
       "      <td>312</td>\n",
       "      <td>3077.0</td>\n",
       "      <td>33.0</td>\n",
       "      <td>63.0</td>\n",
       "      <td>132.0</td>\n",
       "      <td>16.0</td>\n",
       "      <td>1.576383</td>\n",
       "      <td>6.481200</td>\n",
       "      <td>0.004111</td>\n",
       "      <td>0.005200</td>\n",
       "      <td>303.158125</td>\n",
       "      <td>1</td>\n",
       "      <td>1</td>\n",
       "    </tr>\n",
       "    <tr>\n",
       "      <th>trustpilot-richard_video</th>\n",
       "      <td>173239.0</td>\n",
       "      <td>2945.97</td>\n",
       "      <td>242</td>\n",
       "      <td>1231.0</td>\n",
       "      <td>6.0</td>\n",
       "      <td>40.0</td>\n",
       "      <td>79.0</td>\n",
       "      <td>25.0</td>\n",
       "      <td>2.393152</td>\n",
       "      <td>17.005236</td>\n",
       "      <td>0.007106</td>\n",
       "      <td>0.020309</td>\n",
       "      <td>117.838800</td>\n",
       "      <td>1</td>\n",
       "      <td>1</td>\n",
       "    </tr>\n",
       "    <tr>\n",
       "      <th>selfie-profiles-stylised_carousel</th>\n",
       "      <td>1291548.0</td>\n",
       "      <td>12427.19</td>\n",
       "      <td>134</td>\n",
       "      <td>2581.0</td>\n",
       "      <td>14.0</td>\n",
       "      <td>44.0</td>\n",
       "      <td>379.0</td>\n",
       "      <td>56.0</td>\n",
       "      <td>4.814874</td>\n",
       "      <td>9.621934</td>\n",
       "      <td>0.001998</td>\n",
       "      <td>0.021697</td>\n",
       "      <td>221.914107</td>\n",
       "      <td>0</td>\n",
       "      <td>1</td>\n",
       "    </tr>\n",
       "  </tbody>\n",
       "</table>\n",
       "</div>"
      ],
      "text/plain": [
       "                                                    Impressions      Cost  \\\n",
       "Ad name                                                                     \n",
       "selfie-profiles-organic-outline-blue-bg-paul_st...      19358.0    146.60   \n",
       "upsizing-30s-video_single_w39-2020                     196714.0   2032.77   \n",
       "chipolata-animatic_video_w39-2020                      155478.0   2032.02   \n",
       "hollywood-60s-pid_video                                221239.0   1544.93   \n",
       "swingers-v2-4:5_video                                  748400.0   4850.53   \n",
       "trustpilot-richard_video                               173239.0   2945.97   \n",
       "selfie-profiles-stylised_carousel                     1291548.0  12427.19   \n",
       "\n",
       "                                                    Duration  \\\n",
       "Ad name                                                        \n",
       "selfie-profiles-organic-outline-blue-bg-paul_st...         9   \n",
       "upsizing-30s-video_single_w39-2020                        15   \n",
       "chipolata-animatic_video_w39-2020                         15   \n",
       "hollywood-60s-pid_video                                   12   \n",
       "swingers-v2-4:5_video                                    312   \n",
       "trustpilot-richard_video                                 242   \n",
       "selfie-profiles-stylised_carousel                        134   \n",
       "\n",
       "                                                    Unique link clicks  \\\n",
       "Ad name                                                                  \n",
       "selfie-profiles-organic-outline-blue-bg-paul_st...                40.0   \n",
       "upsizing-30s-video_single_w39-2020                               738.0   \n",
       "chipolata-animatic_video_w39-2020                                395.0   \n",
       "hollywood-60s-pid_video                                          708.0   \n",
       "swingers-v2-4:5_video                                           3077.0   \n",
       "trustpilot-richard_video                                        1231.0   \n",
       "selfie-profiles-stylised_carousel                               2581.0   \n",
       "\n",
       "                                                    Post shares  \\\n",
       "Ad name                                                           \n",
       "selfie-profiles-organic-outline-blue-bg-paul_st...          0.0   \n",
       "upsizing-30s-video_single_w39-2020                         10.0   \n",
       "chipolata-animatic_video_w39-2020                           2.0   \n",
       "hollywood-60s-pid_video                                     6.0   \n",
       "swingers-v2-4:5_video                                      33.0   \n",
       "trustpilot-richard_video                                    6.0   \n",
       "selfie-profiles-stylised_carousel                          14.0   \n",
       "\n",
       "                                                    Post comments  \\\n",
       "Ad name                                                             \n",
       "selfie-profiles-organic-outline-blue-bg-paul_st...            0.0   \n",
       "upsizing-30s-video_single_w39-2020                           17.0   \n",
       "chipolata-animatic_video_w39-2020                             6.0   \n",
       "hollywood-60s-pid_video                                      12.0   \n",
       "swingers-v2-4:5_video                                        63.0   \n",
       "trustpilot-richard_video                                     40.0   \n",
       "selfie-profiles-stylised_carousel                            44.0   \n",
       "\n",
       "                                                    Registration  \\\n",
       "Ad name                                                            \n",
       "selfie-profiles-organic-outline-blue-bg-paul_st...           6.0   \n",
       "upsizing-30s-video_single_w39-2020                          22.0   \n",
       "chipolata-animatic_video_w39-2020                           23.0   \n",
       "hollywood-60s-pid_video                                     25.0   \n",
       "swingers-v2-4:5_video                                      132.0   \n",
       "trustpilot-richard_video                                    79.0   \n",
       "selfie-profiles-stylised_carousel                          379.0   \n",
       "\n",
       "                                                    Website purchases  \\\n",
       "Ad name                                                                 \n",
       "selfie-profiles-organic-outline-blue-bg-paul_st...                1.0   \n",
       "upsizing-30s-video_single_w39-2020                                1.0   \n",
       "chipolata-animatic_video_w39-2020                                 3.0   \n",
       "hollywood-60s-pid_video                                           6.0   \n",
       "swingers-v2-4:5_video                                            16.0   \n",
       "trustpilot-richard_video                                         25.0   \n",
       "selfie-profiles-stylised_carousel                                56.0   \n",
       "\n",
       "                                                         CPC        CPM  \\\n",
       "Ad name                                                                   \n",
       "selfie-profiles-organic-outline-blue-bg-paul_st...  3.665000   7.573096   \n",
       "upsizing-30s-video_single_w39-2020                  2.754431  10.333632   \n",
       "chipolata-animatic_video_w39-2020                   5.144354  13.069502   \n",
       "hollywood-60s-pid_video                             2.182105   6.983082   \n",
       "swingers-v2-4:5_video                               1.576383   6.481200   \n",
       "trustpilot-richard_video                            2.393152  17.005236   \n",
       "selfie-profiles-stylised_carousel                   4.814874   9.621934   \n",
       "\n",
       "                                                         CTR        CR  \\\n",
       "Ad name                                                                  \n",
       "selfie-profiles-organic-outline-blue-bg-paul_st...  0.002066  0.025000   \n",
       "upsizing-30s-video_single_w39-2020                  0.003752  0.001355   \n",
       "chipolata-animatic_video_w39-2020                   0.002541  0.007595   \n",
       "hollywood-60s-pid_video                             0.003200  0.008475   \n",
       "swingers-v2-4:5_video                               0.004111  0.005200   \n",
       "trustpilot-richard_video                            0.007106  0.020309   \n",
       "selfie-profiles-stylised_carousel                   0.001998  0.021697   \n",
       "\n",
       "                                                            CPA CTR_class  \\\n",
       "Ad name                                                                     \n",
       "selfie-profiles-organic-outline-blue-bg-paul_st...   146.600000         0   \n",
       "upsizing-30s-video_single_w39-2020                  2032.770000         1   \n",
       "chipolata-animatic_video_w39-2020                    677.340000         1   \n",
       "hollywood-60s-pid_video                              257.488333         1   \n",
       "swingers-v2-4:5_video                                303.158125         1   \n",
       "trustpilot-richard_video                             117.838800         1   \n",
       "selfie-profiles-stylised_carousel                    221.914107         0   \n",
       "\n",
       "                                                   CR_class  \n",
       "Ad name                                                      \n",
       "selfie-profiles-organic-outline-blue-bg-paul_st...        1  \n",
       "upsizing-30s-video_single_w39-2020                        1  \n",
       "chipolata-animatic_video_w39-2020                         1  \n",
       "hollywood-60s-pid_video                                   1  \n",
       "swingers-v2-4:5_video                                     1  \n",
       "trustpilot-richard_video                                  1  \n",
       "selfie-profiles-stylised_carousel                         1  "
      ]
     },
     "metadata": {},
     "output_type": "display_data"
    },
    {
     "name": "stdout",
     "output_type": "stream",
     "text": [
      "[ 1.   2.2  2.4  3.3 27.8 16.9 52.8]\n"
     ]
    }
   ],
   "source": [
    "# Find ads so we can define \"realistic\" test ads:\n",
    "ads = data_ad.loc[[\"selfie-profiles-organic-outline-blue-bg-paul_static\", \n",
    "                   \"upsizing-30s-video_single_w39-2020\", \n",
    "                   \"chipolata-animatic_video_w39-2020\", \n",
    "                   \"hollywood-60s-pid_video\", \"swingers-v2-4:5_video\", \n",
    "                   \"trustpilot-richard_video\", \"selfie-profiles-stylised_carousel\"],\n",
    "                  :]\n",
    "\n",
    "test_ads = data_ad.loc[[\"selfie-profiles-organic-outline-blue-bg-paul_static\", \n",
    "                        \"upsizing-30s-video_single_w39-2020\", \n",
    "                        \"chipolata-animatic_video_w39-2020\", \"hollywood-60s-pid_video\", \n",
    "                        \"swingers-v2-4:5_video\", \"trustpilot-richard_video\", \n",
    "                        \"selfie-profiles-stylised_carousel\"], \n",
    "                       \"Impressions\" : \"Registration\"] \n",
    "\n",
    "display(ads)\n",
    "print(lin_model_purchases_updated.predict(test_ads).round(1)) "
   ]
  },
  {
   "cell_type": "code",
   "execution_count": 80,
   "metadata": {
    "ExecuteTime": {
     "end_time": "2021-03-22T15:43:16.163380Z",
     "start_time": "2021-03-22T15:43:16.145262Z"
    }
   },
   "outputs": [
    {
     "name": "stdout",
     "output_type": "stream",
     "text": [
      "The predicted number of Website Purchases of test_ad_1 is: 6.1\n"
     ]
    }
   ],
   "source": [
    "# Take one of those ads and see how they will scale:\n",
    "\n",
    "test_ad_3 = data_ad.loc[[\"chipolata-animatic_video_w39-2020\"], \n",
    "                        \"Impressions\" : \"Registration\"]\n",
    "print(f\"The predicted number of Website Purchases of test_ad_1 is:\",  \n",
    "      lin_model_purchases_updated.predict(test_ad_3 * 2.5).round(1)[0])"
   ]
  },
  {
   "cell_type": "code",
   "execution_count": 70,
   "metadata": {
    "ExecuteTime": {
     "end_time": "2021-03-17T16:56:39.264753Z",
     "start_time": "2021-03-17T16:56:39.257652Z"
    },
    "scrolled": true
   },
   "outputs": [
    {
     "name": "stdout",
     "output_type": "stream",
     "text": [
      "[56.3]\n"
     ]
    }
   ],
   "source": [
    "# Come up with a fictive ad (based on test_ad_7) \n",
    "# for our 7 features and see what we get: \n",
    "\n",
    "# \"Impressions\", \"Cost\", \"Duration\", \"Unique link clicks\", \n",
    "# \"Post shares\",  \"Post comments\", \"Registration\": \n",
    " \n",
    "test_ad_8 = [[125_000, 11_000.19, 130, 2_500.0, 10.0, 40.0, 350.0]]\n",
    "\n",
    "print(lin_model_purchases_updated.predict(test_ad_8).round(1)) "
   ]
  },
  {
   "cell_type": "markdown",
   "metadata": {},
   "source": [
    "# Log Reg / Classification:"
   ]
  },
  {
   "cell_type": "markdown",
   "metadata": {},
   "source": [
    "## Log Reg:  "
   ]
  },
  {
   "cell_type": "markdown",
   "metadata": {
    "heading_collapsed": true
   },
   "source": [
    "### Predict CTR_Class:"
   ]
  },
  {
   "cell_type": "code",
   "execution_count": 22,
   "metadata": {
    "ExecuteTime": {
     "end_time": "2021-03-15T18:21:21.305938Z",
     "start_time": "2021-03-15T18:21:21.291465Z"
    },
    "hidden": true
   },
   "outputs": [
    {
     "data": {
      "text/plain": [
       "Index(['Impressions', 'Cost', 'Duration', 'Unique link clicks', 'Post shares',\n",
       "       'Post comments', 'Registration', 'Website purchases', 'CPC', 'CPM',\n",
       "       'CTR', 'CR', 'CPA', 'CTR_class', 'CR_class'],\n",
       "      dtype='object')"
      ]
     },
     "execution_count": 22,
     "metadata": {},
     "output_type": "execute_result"
    }
   ],
   "source": [
    "data_ad.columns"
   ]
  },
  {
   "cell_type": "code",
   "execution_count": 23,
   "metadata": {
    "ExecuteTime": {
     "end_time": "2021-03-15T18:21:21.376963Z",
     "start_time": "2021-03-15T18:21:21.310386Z"
    },
    "hidden": true
   },
   "outputs": [
    {
     "name": "stderr",
     "output_type": "stream",
     "text": [
      "/Users/Lucas/.pyenv/versions/3.7.7/envs/lewagon/lib/python3.7/site-packages/sklearn/linear_model/_logistic.py:765: ConvergenceWarning: lbfgs failed to converge (status=1):\n",
      "STOP: TOTAL NO. of ITERATIONS REACHED LIMIT.\n",
      "\n",
      "Increase the number of iterations (max_iter) or scale the data as shown in:\n",
      "    https://scikit-learn.org/stable/modules/preprocessing.html\n",
      "Please also refer to the documentation for alternative solver options:\n",
      "    https://scikit-learn.org/stable/modules/linear_model.html#logistic-regression\n",
      "  extra_warning_msg=_LOGISTIC_SOLVER_CONVERGENCE_MSG)\n"
     ]
    },
    {
     "data": {
      "text/plain": [
       "0.559322033898305"
      ]
     },
     "execution_count": 23,
     "metadata": {},
     "output_type": "execute_result"
    }
   ],
   "source": [
    "from sklearn.linear_model import LogisticRegression \n",
    " \n",
    "X_log_ad = data_ad.drop(columns = [\"CTR\", \"CTR_class\", \n",
    "                                   \"Unique link clicks\", \"Impressions\"])\n",
    "y_log_ad = data_ad[\"CTR_class\"] \n",
    "\n",
    "X_train_log_ad, X_test_log_ad,\\\n",
    "y_train_log_ad, y_test_log_ad = train_test_split(X_log_ad, y_log_ad,\n",
    "                                                 test_size = 0.3, random_state = 3)\n",
    "\n",
    "log_model = LogisticRegression()\n",
    " \n",
    "log_model.fit(X_train_log_ad, y_train_log_ad)\n",
    " \n",
    "log_model.score(X_test_log_ad, y_test_log_ad)"
   ]
  },
  {
   "cell_type": "code",
   "execution_count": 24,
   "metadata": {
    "ExecuteTime": {
     "end_time": "2021-03-15T18:21:23.843645Z",
     "start_time": "2021-03-15T18:21:23.821146Z"
    },
    "hidden": true
   },
   "outputs": [
    {
     "data": {
      "text/plain": [
       "Impressions                30068\n",
       "Cost                       229.1\n",
       "Duration                       2\n",
       "Unique link clicks            41\n",
       "Post shares                    0\n",
       "Post comments                  0\n",
       "Registration                   8\n",
       "Website purchases              1\n",
       "CPC                       5.5878\n",
       "CPM                       7.6194\n",
       "CTR                   0.00136358\n",
       "CR                     0.0243902\n",
       "CPA                        229.1\n",
       "CTR_class                      0\n",
       "CR_class                       1\n",
       "Name: selfie-profiles-organic-outline-blue-bg-jordan-pid_static, dtype: object"
      ]
     },
     "metadata": {},
     "output_type": "display_data"
    },
    {
     "name": "stdout",
     "output_type": "stream",
     "text": [
      "['0']\n"
     ]
    },
    {
     "name": "stderr",
     "output_type": "stream",
     "text": [
      "/Users/Lucas/.pyenv/versions/3.7.7/envs/lewagon/lib/python3.7/site-packages/sklearn/utils/validation.py:63: FutureWarning: Arrays of bytes/strings is being converted to decimal numbers if dtype='numeric'. This behavior is deprecated in 0.24 and will be removed in 1.1 (renaming of 0.26). Please convert your data to numeric values explicitly instead.\n",
      "  return f(*args, **kwargs)\n"
     ]
    }
   ],
   "source": [
    "# Cost, Duration, Post shares, Post comments, Registration, \n",
    "# Website purchases, CPC, CPM, CR, CR_class \n",
    "\n",
    "display(data_ad.loc[\"\"\"selfie-profiles-organic-outline-blue-bg-jordan-pid_static\"\"\"])\n",
    "\n",
    "test_ad = [[\"200.1\", \"3\", \"0\", \"0\", \"7\", \"1\", \n",
    "            \"5.45\", \"7.24\", \"0.023\", \"200\", \"1\"]]\n",
    "\n",
    "print(log_model.predict(test_ad))"
   ]
  },
  {
   "cell_type": "markdown",
   "metadata": {
    "heading_collapsed": true
   },
   "source": [
    "### Predict CR_Class:"
   ]
  },
  {
   "cell_type": "code",
   "execution_count": 25,
   "metadata": {
    "ExecuteTime": {
     "end_time": "2021-03-15T18:21:25.524345Z",
     "start_time": "2021-03-15T18:21:25.459921Z"
    },
    "hidden": true
   },
   "outputs": [
    {
     "name": "stderr",
     "output_type": "stream",
     "text": [
      "/Users/Lucas/.pyenv/versions/3.7.7/envs/lewagon/lib/python3.7/site-packages/sklearn/linear_model/_logistic.py:765: ConvergenceWarning: lbfgs failed to converge (status=1):\n",
      "STOP: TOTAL NO. of ITERATIONS REACHED LIMIT.\n",
      "\n",
      "Increase the number of iterations (max_iter) or scale the data as shown in:\n",
      "    https://scikit-learn.org/stable/modules/preprocessing.html\n",
      "Please also refer to the documentation for alternative solver options:\n",
      "    https://scikit-learn.org/stable/modules/linear_model.html#logistic-regression\n",
      "  extra_warning_msg=_LOGISTIC_SOLVER_CONVERGENCE_MSG)\n"
     ]
    },
    {
     "data": {
      "text/plain": [
       "0.9491525423728814"
      ]
     },
     "execution_count": 25,
     "metadata": {},
     "output_type": "execute_result"
    }
   ],
   "source": [
    "from sklearn.linear_model import LogisticRegression \n",
    " \n",
    "X_log_ad = data_ad.drop(columns = [\"Website purchases\",\n",
    "                                   \"CR\", \"CR_class\"]) \n",
    "y_log_ad = data_ad[\"CR_class\"] \n",
    "\n",
    "X_train_log_ad, X_test_log_ad,\\\n",
    "y_train_log_ad, y_test_log_ad = train_test_split(X_log_ad, y_log_ad,\n",
    "                                                 test_size = 0.3, random_state = 3)\n",
    "\n",
    "log_model_cr_class = LogisticRegression()\n",
    " \n",
    "log_model_cr_class.fit(X_train_log_ad, y_train_log_ad)\n",
    " \n",
    "log_model_cr_class.score(X_test_log_ad, y_test_log_ad)"
   ]
  },
  {
   "cell_type": "code",
   "execution_count": 26,
   "metadata": {
    "ExecuteTime": {
     "end_time": "2021-03-15T18:21:26.364953Z",
     "start_time": "2021-03-15T18:21:26.338084Z"
    },
    "hidden": true
   },
   "outputs": [
    {
     "data": {
      "text/plain": [
       "Impressions                86008\n",
       "Cost                      655.73\n",
       "Duration                       8\n",
       "Unique link clicks           150\n",
       "Post shares                    0\n",
       "Post comments                  1\n",
       "Registration                  15\n",
       "Website purchases              0\n",
       "CPC                      4.37153\n",
       "CPM                      7.62406\n",
       "CTR                   0.00174402\n",
       "CR                             0\n",
       "CPA                            0\n",
       "CTR_class                      0\n",
       "CR_class                       0\n",
       "Name: moves-with-you_static_2020-w45, dtype: object"
      ]
     },
     "metadata": {},
     "output_type": "display_data"
    },
    {
     "data": {
      "text/plain": [
       "Impressions                44853\n",
       "Cost                      372.76\n",
       "Duration                       9\n",
       "Unique link clicks           103\n",
       "Post shares                    0\n",
       "Post comments                  1\n",
       "Registration                  10\n",
       "Website purchases              0\n",
       "CPC                      3.61903\n",
       "CPM                       8.3107\n",
       "CTR                   0.00229639\n",
       "CR                             0\n",
       "CPA                            0\n",
       "CTR_class                      0\n",
       "CR_class                       0\n",
       "Name: selfie-jordan-skullman_static, dtype: object"
      ]
     },
     "metadata": {},
     "output_type": "display_data"
    },
    {
     "name": "stdout",
     "output_type": "stream",
     "text": [
      "The predicted class of test_ad_1 is: ['0']\n",
      "The predicted class of test_ad_2 is: ['0']\n"
     ]
    },
    {
     "name": "stderr",
     "output_type": "stream",
     "text": [
      "/Users/Lucas/.pyenv/versions/3.7.7/envs/lewagon/lib/python3.7/site-packages/sklearn/utils/validation.py:63: FutureWarning: Arrays of bytes/strings is being converted to decimal numbers if dtype='numeric'. This behavior is deprecated in 0.24 and will be removed in 1.1 (renaming of 0.26). Please convert your data to numeric values explicitly instead.\n",
      "  return f(*args, **kwargs)\n",
      "/Users/Lucas/.pyenv/versions/3.7.7/envs/lewagon/lib/python3.7/site-packages/sklearn/utils/validation.py:63: FutureWarning: Arrays of bytes/strings is being converted to decimal numbers if dtype='numeric'. This behavior is deprecated in 0.24 and will be removed in 1.1 (renaming of 0.26). Please convert your data to numeric values explicitly instead.\n",
      "  return f(*args, **kwargs)\n"
     ]
    }
   ],
   "source": [
    "display(data_ad.loc[\"\"\"moves-with-you_static_2020-w45\"\"\"])\n",
    "display(data_ad.loc[\"\"\"selfie-jordan-skullman_static\"\"\"])\n",
    "# Define Sample ad: Metrics to use: \n",
    "# Impressions, Cost, Duration, Unique link clicks, Post shares, Post comments, Registration\n",
    "# CPC, CPM, CTR, CPA, CTR_class\n",
    " \n",
    "test_ad_1 = [[\"86008\", \"655.73\", \"8\", \"150\", \"0\", \"1\", \"15\", \"4.37153\", \n",
    "              \"7.62406\", \"0.00174402\", \"0\", \"0\"]]\n",
    " \n",
    "test_ad_2 = [[\"44853\", \"372.76\", \"9\", \"103\", \"0\", \"1\", \"10\", \n",
    "              \"3.61903\", \"8.3107\", \"0.00229639\", \"0\", \"0\"]]\n",
    "\n",
    "print(f\"\"\"The predicted class of test_ad_1 is: {log_model_cr_class.predict(test_ad_1)}\"\"\")\n",
    "print(f\"\"\"The predicted class of test_ad_2 is: {log_model_cr_class.predict(test_ad_2)}\"\"\")"
   ]
  },
  {
   "cell_type": "markdown",
   "metadata": {
    "heading_collapsed": true
   },
   "source": [
    "## Regularisation: "
   ]
  },
  {
   "cell_type": "markdown",
   "metadata": {
    "heading_collapsed": true,
    "hidden": true
   },
   "source": [
    "### Base Model: "
   ]
  },
  {
   "cell_type": "code",
   "execution_count": 38,
   "metadata": {
    "ExecuteTime": {
     "end_time": "2021-03-18T18:51:30.977603Z",
     "start_time": "2021-03-18T18:51:30.930056Z"
    },
    "hidden": true
   },
   "outputs": [
    {
     "data": {
      "application/javascript": [
       "\n",
       "        if (window._pyforest_update_imports_cell) { window._pyforest_update_imports_cell('import numpy as np\\nimport pandas as pd'); }\n",
       "    "
      ],
      "text/plain": [
       "<IPython.core.display.Javascript object>"
      ]
     },
     "metadata": {},
     "output_type": "display_data"
    },
    {
     "data": {
      "text/plain": [
       "array([[ 404.00555143,  420.20248649, -305.5395404 ,  456.51520945,\n",
       "        -403.02213462,   49.34163199,  823.9372155 , -122.4106285 ,\n",
       "         -11.47251489,   74.09529797, 4538.12016804,  -74.03518022]])"
      ]
     },
     "execution_count": 38,
     "metadata": {},
     "output_type": "execute_result"
    }
   ],
   "source": [
    "#Based on Day 5, Week 4: \n",
    "from sklearn.linear_model import LogisticRegression\n",
    "from sklearn.preprocessing import MinMaxScaler\n",
    " \n",
    "X = data_ad.drop(columns = [\"CR\", \"Website purchases\", \"CR_class\"])\n",
    "y = data_ad[\"CR_class\"]\n",
    "\n",
    "#X = data_ad.drop(columns = [\"CTR_class\", \"Unique link clicks\", \"CTR\"])\n",
    "#y = data_ad[\"CTR_class\"]\n",
    " \n",
    "# MinMaxScale the data: \n",
    "scaler = MinMaxScaler()\n",
    "X_scaled = scaler.fit_transform(X)\n",
    "X_scaled = pd.DataFrame(X_scaled, columns = X.columns)\n",
    "X_scaled.head(2)\n",
    " \n",
    "log_model = LogisticRegression(penalty = 'none', max_iter = 500) \n",
    "\n",
    "log_model.fit(X_scaled, y) \n",
    "\n",
    "log_model.coef_"
   ]
  },
  {
   "cell_type": "code",
   "execution_count": 39,
   "metadata": {
    "ExecuteTime": {
     "end_time": "2021-03-18T18:51:32.515999Z",
     "start_time": "2021-03-18T18:51:32.481905Z"
    },
    "hidden": true
   },
   "outputs": [
    {
     "data": {
      "application/javascript": [
       "\n",
       "        if (window._pyforest_update_imports_cell) { window._pyforest_update_imports_cell('import numpy as np\\nimport pandas as pd'); }\n",
       "    "
      ],
      "text/plain": [
       "<IPython.core.display.Javascript object>"
      ]
     },
     "metadata": {},
     "output_type": "display_data"
    },
    {
     "data": {
      "application/javascript": [
       "\n",
       "        if (window._pyforest_update_imports_cell) { window._pyforest_update_imports_cell('import numpy as np\\nimport pandas as pd'); }\n",
       "    "
      ],
      "text/plain": [
       "<IPython.core.display.Javascript object>"
      ]
     },
     "metadata": {},
     "output_type": "display_data"
    },
    {
     "data": {
      "text/html": [
       "<div>\n",
       "<style scoped>\n",
       "    .dataframe tbody tr th:only-of-type {\n",
       "        vertical-align: middle;\n",
       "    }\n",
       "\n",
       "    .dataframe tbody tr th {\n",
       "        vertical-align: top;\n",
       "    }\n",
       "\n",
       "    .dataframe thead th {\n",
       "        text-align: right;\n",
       "    }\n",
       "</style>\n",
       "<table border=\"1\" class=\"dataframe\">\n",
       "  <thead>\n",
       "    <tr style=\"text-align: right;\">\n",
       "      <th></th>\n",
       "      <th>Coefficient</th>\n",
       "      <th>Importance</th>\n",
       "    </tr>\n",
       "  </thead>\n",
       "  <tbody>\n",
       "    <tr>\n",
       "      <th>10</th>\n",
       "      <td>CPA</td>\n",
       "      <td>4538.12</td>\n",
       "    </tr>\n",
       "    <tr>\n",
       "      <th>6</th>\n",
       "      <td>Registration</td>\n",
       "      <td>823.937</td>\n",
       "    </tr>\n",
       "    <tr>\n",
       "      <th>3</th>\n",
       "      <td>Unique link clicks</td>\n",
       "      <td>456.515</td>\n",
       "    </tr>\n",
       "    <tr>\n",
       "      <th>1</th>\n",
       "      <td>Cost</td>\n",
       "      <td>420.202</td>\n",
       "    </tr>\n",
       "    <tr>\n",
       "      <th>0</th>\n",
       "      <td>Impressions</td>\n",
       "      <td>404.006</td>\n",
       "    </tr>\n",
       "    <tr>\n",
       "      <th>9</th>\n",
       "      <td>CTR</td>\n",
       "      <td>74.0953</td>\n",
       "    </tr>\n",
       "    <tr>\n",
       "      <th>5</th>\n",
       "      <td>Post comments</td>\n",
       "      <td>49.3416</td>\n",
       "    </tr>\n",
       "    <tr>\n",
       "      <th>8</th>\n",
       "      <td>CPM</td>\n",
       "      <td>-11.4725</td>\n",
       "    </tr>\n",
       "    <tr>\n",
       "      <th>11</th>\n",
       "      <td>CTR_class</td>\n",
       "      <td>-74.0352</td>\n",
       "    </tr>\n",
       "    <tr>\n",
       "      <th>7</th>\n",
       "      <td>CPC</td>\n",
       "      <td>-122.411</td>\n",
       "    </tr>\n",
       "    <tr>\n",
       "      <th>2</th>\n",
       "      <td>Duration</td>\n",
       "      <td>-305.54</td>\n",
       "    </tr>\n",
       "    <tr>\n",
       "      <th>4</th>\n",
       "      <td>Post shares</td>\n",
       "      <td>-403.022</td>\n",
       "    </tr>\n",
       "  </tbody>\n",
       "</table>\n",
       "</div>"
      ],
      "text/plain": [
       "           Coefficient Importance\n",
       "10                 CPA    4538.12\n",
       "6         Registration    823.937\n",
       "3   Unique link clicks    456.515\n",
       "1                 Cost    420.202\n",
       "0          Impressions    404.006\n",
       "9                  CTR    74.0953\n",
       "5        Post comments    49.3416\n",
       "8                  CPM   -11.4725\n",
       "11           CTR_class   -74.0352\n",
       "7                  CPC   -122.411\n",
       "2             Duration    -305.54\n",
       "4          Post shares   -403.022"
      ]
     },
     "execution_count": 39,
     "metadata": {},
     "output_type": "execute_result"
    }
   ],
   "source": [
    "features = pd.DataFrame(np.vstack((X.columns, log_model.coef_)).T, \n",
    "                        columns = [\"Coefficient\", \"Importance\"])            \\\n",
    "             .sort_values(\"Importance\", ascending = False)\n",
    "features"
   ]
  },
  {
   "cell_type": "markdown",
   "metadata": {
    "heading_collapsed": true,
    "hidden": true
   },
   "source": [
    "### L2 Penalty: "
   ]
  },
  {
   "cell_type": "code",
   "execution_count": 40,
   "metadata": {
    "ExecuteTime": {
     "end_time": "2021-03-18T18:51:50.428650Z",
     "start_time": "2021-03-18T18:51:50.414719Z"
    },
    "hidden": true,
    "scrolled": true
   },
   "outputs": [
    {
     "data": {
      "text/plain": [
       "array([[ 0.18253117,  0.20214553,  0.58326532,  0.19524019, -0.00837541,\n",
       "         0.14755158,  0.20730479, -0.02618978,  0.56677333, -0.1061162 ,\n",
       "         0.64013156,  0.1118828 ]])"
      ]
     },
     "execution_count": 40,
     "metadata": {},
     "output_type": "execute_result"
    }
   ],
   "source": [
    "log_model_l2 = LogisticRegression(penalty = 'l2', max_iter = 50_000, C = 0.1)\n",
    "\n",
    "log_model_l2.fit(X_scaled, y)\n",
    "\n",
    "log_model_l2.coef_"
   ]
  },
  {
   "cell_type": "code",
   "execution_count": 42,
   "metadata": {
    "ExecuteTime": {
     "end_time": "2021-03-18T18:52:10.974763Z",
     "start_time": "2021-03-18T18:52:10.949205Z"
    },
    "hidden": true
   },
   "outputs": [
    {
     "data": {
      "application/javascript": [
       "\n",
       "        if (window._pyforest_update_imports_cell) { window._pyforest_update_imports_cell('import numpy as np\\nimport pandas as pd'); }\n",
       "    "
      ],
      "text/plain": [
       "<IPython.core.display.Javascript object>"
      ]
     },
     "metadata": {},
     "output_type": "display_data"
    },
    {
     "data": {
      "application/javascript": [
       "\n",
       "        if (window._pyforest_update_imports_cell) { window._pyforest_update_imports_cell('import numpy as np\\nimport pandas as pd'); }\n",
       "    "
      ],
      "text/plain": [
       "<IPython.core.display.Javascript object>"
      ]
     },
     "metadata": {},
     "output_type": "display_data"
    },
    {
     "data": {
      "text/html": [
       "<div>\n",
       "<style scoped>\n",
       "    .dataframe tbody tr th:only-of-type {\n",
       "        vertical-align: middle;\n",
       "    }\n",
       "\n",
       "    .dataframe tbody tr th {\n",
       "        vertical-align: top;\n",
       "    }\n",
       "\n",
       "    .dataframe thead th {\n",
       "        text-align: right;\n",
       "    }\n",
       "</style>\n",
       "<table border=\"1\" class=\"dataframe\">\n",
       "  <thead>\n",
       "    <tr style=\"text-align: right;\">\n",
       "      <th></th>\n",
       "      <th>Coefficient</th>\n",
       "      <th>Importance</th>\n",
       "    </tr>\n",
       "  </thead>\n",
       "  <tbody>\n",
       "    <tr>\n",
       "      <th>10</th>\n",
       "      <td>CPA</td>\n",
       "      <td>0.640132</td>\n",
       "    </tr>\n",
       "    <tr>\n",
       "      <th>2</th>\n",
       "      <td>Duration</td>\n",
       "      <td>0.583265</td>\n",
       "    </tr>\n",
       "    <tr>\n",
       "      <th>8</th>\n",
       "      <td>CPM</td>\n",
       "      <td>0.566773</td>\n",
       "    </tr>\n",
       "    <tr>\n",
       "      <th>6</th>\n",
       "      <td>Registration</td>\n",
       "      <td>0.207305</td>\n",
       "    </tr>\n",
       "    <tr>\n",
       "      <th>1</th>\n",
       "      <td>Cost</td>\n",
       "      <td>0.202146</td>\n",
       "    </tr>\n",
       "    <tr>\n",
       "      <th>3</th>\n",
       "      <td>Unique link clicks</td>\n",
       "      <td>0.19524</td>\n",
       "    </tr>\n",
       "    <tr>\n",
       "      <th>0</th>\n",
       "      <td>Impressions</td>\n",
       "      <td>0.182531</td>\n",
       "    </tr>\n",
       "    <tr>\n",
       "      <th>5</th>\n",
       "      <td>Post comments</td>\n",
       "      <td>0.147552</td>\n",
       "    </tr>\n",
       "    <tr>\n",
       "      <th>11</th>\n",
       "      <td>CTR_class</td>\n",
       "      <td>0.111883</td>\n",
       "    </tr>\n",
       "    <tr>\n",
       "      <th>4</th>\n",
       "      <td>Post shares</td>\n",
       "      <td>-0.00837541</td>\n",
       "    </tr>\n",
       "    <tr>\n",
       "      <th>7</th>\n",
       "      <td>CPC</td>\n",
       "      <td>-0.0261898</td>\n",
       "    </tr>\n",
       "    <tr>\n",
       "      <th>9</th>\n",
       "      <td>CTR</td>\n",
       "      <td>-0.106116</td>\n",
       "    </tr>\n",
       "  </tbody>\n",
       "</table>\n",
       "</div>"
      ],
      "text/plain": [
       "           Coefficient  Importance\n",
       "10                 CPA    0.640132\n",
       "2             Duration    0.583265\n",
       "8                  CPM    0.566773\n",
       "6         Registration    0.207305\n",
       "1                 Cost    0.202146\n",
       "3   Unique link clicks     0.19524\n",
       "0          Impressions    0.182531\n",
       "5        Post comments    0.147552\n",
       "11           CTR_class    0.111883\n",
       "4          Post shares -0.00837541\n",
       "7                  CPC  -0.0261898\n",
       "9                  CTR   -0.106116"
      ]
     },
     "execution_count": 42,
     "metadata": {},
     "output_type": "execute_result"
    }
   ],
   "source": [
    "features_l2 = pd.DataFrame(np.vstack((X.columns, log_model_l2.coef_)).T, \n",
    "                        columns = [\"Coefficient\", \"Importance\"])            \\\n",
    "             .sort_values(\"Importance\", ascending = False)\n",
    "features_l2"
   ]
  },
  {
   "cell_type": "markdown",
   "metadata": {
    "heading_collapsed": true,
    "hidden": true
   },
   "source": [
    "### L1 Penalty: "
   ]
  },
  {
   "cell_type": "code",
   "execution_count": 43,
   "metadata": {
    "ExecuteTime": {
     "end_time": "2021-03-18T18:52:13.397482Z",
     "start_time": "2021-03-18T18:52:13.385693Z"
    },
    "hidden": true
   },
   "outputs": [
    {
     "data": {
      "text/plain": [
       "array([[0., 0., 0., 0., 0., 0., 0., 0., 0., 0., 0., 0.]])"
      ]
     },
     "execution_count": 43,
     "metadata": {},
     "output_type": "execute_result"
    }
   ],
   "source": [
    "model_log_l1 = LogisticRegression(penalty = \"l1\", max_iter = 5000, \n",
    "                                  solver = \"liblinear\", C = 0.1)\n",
    "\n",
    "model_log_l1.fit(X_scaled, y)\n",
    "\n",
    "model_log_l1.coef_"
   ]
  },
  {
   "cell_type": "code",
   "execution_count": 44,
   "metadata": {
    "ExecuteTime": {
     "end_time": "2021-03-18T18:52:16.134412Z",
     "start_time": "2021-03-18T18:52:16.114893Z"
    },
    "hidden": true
   },
   "outputs": [
    {
     "data": {
      "application/javascript": [
       "\n",
       "        if (window._pyforest_update_imports_cell) { window._pyforest_update_imports_cell('import numpy as np\\nimport pandas as pd'); }\n",
       "    "
      ],
      "text/plain": [
       "<IPython.core.display.Javascript object>"
      ]
     },
     "metadata": {},
     "output_type": "display_data"
    },
    {
     "data": {
      "application/javascript": [
       "\n",
       "        if (window._pyforest_update_imports_cell) { window._pyforest_update_imports_cell('import numpy as np\\nimport pandas as pd'); }\n",
       "    "
      ],
      "text/plain": [
       "<IPython.core.display.Javascript object>"
      ]
     },
     "metadata": {},
     "output_type": "display_data"
    },
    {
     "data": {
      "text/html": [
       "<div>\n",
       "<style scoped>\n",
       "    .dataframe tbody tr th:only-of-type {\n",
       "        vertical-align: middle;\n",
       "    }\n",
       "\n",
       "    .dataframe tbody tr th {\n",
       "        vertical-align: top;\n",
       "    }\n",
       "\n",
       "    .dataframe thead th {\n",
       "        text-align: right;\n",
       "    }\n",
       "</style>\n",
       "<table border=\"1\" class=\"dataframe\">\n",
       "  <thead>\n",
       "    <tr style=\"text-align: right;\">\n",
       "      <th></th>\n",
       "      <th>Coefficient</th>\n",
       "      <th>Importance</th>\n",
       "    </tr>\n",
       "  </thead>\n",
       "  <tbody>\n",
       "    <tr>\n",
       "      <th>0</th>\n",
       "      <td>Impressions</td>\n",
       "      <td>0</td>\n",
       "    </tr>\n",
       "    <tr>\n",
       "      <th>1</th>\n",
       "      <td>Cost</td>\n",
       "      <td>0</td>\n",
       "    </tr>\n",
       "    <tr>\n",
       "      <th>2</th>\n",
       "      <td>Duration</td>\n",
       "      <td>0</td>\n",
       "    </tr>\n",
       "    <tr>\n",
       "      <th>3</th>\n",
       "      <td>Unique link clicks</td>\n",
       "      <td>0</td>\n",
       "    </tr>\n",
       "    <tr>\n",
       "      <th>4</th>\n",
       "      <td>Post shares</td>\n",
       "      <td>0</td>\n",
       "    </tr>\n",
       "    <tr>\n",
       "      <th>5</th>\n",
       "      <td>Post comments</td>\n",
       "      <td>0</td>\n",
       "    </tr>\n",
       "    <tr>\n",
       "      <th>6</th>\n",
       "      <td>Registration</td>\n",
       "      <td>0</td>\n",
       "    </tr>\n",
       "    <tr>\n",
       "      <th>7</th>\n",
       "      <td>CPC</td>\n",
       "      <td>0</td>\n",
       "    </tr>\n",
       "    <tr>\n",
       "      <th>8</th>\n",
       "      <td>CPM</td>\n",
       "      <td>0</td>\n",
       "    </tr>\n",
       "    <tr>\n",
       "      <th>9</th>\n",
       "      <td>CTR</td>\n",
       "      <td>0</td>\n",
       "    </tr>\n",
       "    <tr>\n",
       "      <th>10</th>\n",
       "      <td>CPA</td>\n",
       "      <td>0</td>\n",
       "    </tr>\n",
       "    <tr>\n",
       "      <th>11</th>\n",
       "      <td>CTR_class</td>\n",
       "      <td>0</td>\n",
       "    </tr>\n",
       "  </tbody>\n",
       "</table>\n",
       "</div>"
      ],
      "text/plain": [
       "           Coefficient Importance\n",
       "0          Impressions          0\n",
       "1                 Cost          0\n",
       "2             Duration          0\n",
       "3   Unique link clicks          0\n",
       "4          Post shares          0\n",
       "5        Post comments          0\n",
       "6         Registration          0\n",
       "7                  CPC          0\n",
       "8                  CPM          0\n",
       "9                  CTR          0\n",
       "10                 CPA          0\n",
       "11           CTR_class          0"
      ]
     },
     "execution_count": 44,
     "metadata": {},
     "output_type": "execute_result"
    }
   ],
   "source": [
    "features_l1 = pd.DataFrame(np.vstack((X.columns, model_log_l1.coef_)).T, \n",
    "                        columns = [\"Coefficient\", \"Importance\"])            \\\n",
    "             .sort_values(\"Importance\", ascending = False)\n",
    "features_l1"
   ]
  },
  {
   "cell_type": "markdown",
   "metadata": {},
   "source": [
    "## SVM: "
   ]
  },
  {
   "cell_type": "markdown",
   "metadata": {
    "heading_collapsed": true
   },
   "source": [
    "### plot_decision_regions(): "
   ]
  },
  {
   "cell_type": "code",
   "execution_count": 31,
   "metadata": {
    "ExecuteTime": {
     "end_time": "2021-03-22T15:05:29.807455Z",
     "start_time": "2021-03-22T15:05:29.738740Z"
    },
    "hidden": true
   },
   "outputs": [
    {
     "name": "stderr",
     "output_type": "stream",
     "text": [
      "/Users/Lucas/.pyenv/versions/3.7.7/envs/lewagon/lib/python3.7/site-packages/sklearn/utils/validation.py:63: DataConversionWarning: A column-vector y was passed when a 1d array was expected. Please change the shape of y to (n_samples, ), for example using ravel().\n",
      "  return f(*args, **kwargs)\n"
     ]
    },
    {
     "ename": "TypeError",
     "evalue": "plot_decision_regions() got an unexpected keyword argument 'classifier'",
     "output_type": "error",
     "traceback": [
      "\u001b[0;31m---------------------------------------------------------------------------\u001b[0m",
      "\u001b[0;31mTypeError\u001b[0m                                 Traceback (most recent call last)",
      "\u001b[0;32m<ipython-input-31-67687c4a4d1d>\u001b[0m in \u001b[0;36m<module>\u001b[0;34m\u001b[0m\n\u001b[1;32m     10\u001b[0m \u001b[0msvm\u001b[0m\u001b[0;34m.\u001b[0m\u001b[0mfit\u001b[0m\u001b[0;34m(\u001b[0m\u001b[0mX\u001b[0m\u001b[0;34m,\u001b[0m \u001b[0my\u001b[0m\u001b[0;34m)\u001b[0m\u001b[0;34m\u001b[0m\u001b[0;34m\u001b[0m\u001b[0m\n\u001b[1;32m     11\u001b[0m \u001b[0;34m\u001b[0m\u001b[0m\n\u001b[0;32m---> 12\u001b[0;31m \u001b[0mplot_decision_regions\u001b[0m\u001b[0;34m(\u001b[0m\u001b[0mX\u001b[0m\u001b[0;34m,\u001b[0m \u001b[0my\u001b[0m\u001b[0;34m,\u001b[0m \u001b[0mclassifier\u001b[0m \u001b[0;34m=\u001b[0m \u001b[0msvm\u001b[0m\u001b[0;34m)\u001b[0m\u001b[0;34m\u001b[0m\u001b[0;34m\u001b[0m\u001b[0m\n\u001b[0m",
      "\u001b[0;31mTypeError\u001b[0m: plot_decision_regions() got an unexpected keyword argument 'classifier'"
     ]
    }
   ],
   "source": [
    "from sklearn.pipeline import Pipeline\n",
    "from sklearn.svm import SVC\n",
    "from mlxtend.plotting import plot_decision_regions\n",
    "\n",
    "X = data_ad[[\"Impressions\"]]\n",
    "y = data_ad[[\"Website purchases\"]]\n",
    "\n",
    "svm = SVC(kernel = \"rbf\", C = 0.1, gamma = 50)\n",
    "\n",
    "svm.fit(X, y)\n",
    "\n",
    "plot_decision_regions(X, y, classifier = svm)"
   ]
  },
  {
   "cell_type": "markdown",
   "metadata": {
    "heading_collapsed": true
   },
   "source": [
    "### Random Search (SVM, Day 5, Week 4)"
   ]
  },
  {
   "cell_type": "code",
   "execution_count": 127,
   "metadata": {
    "ExecuteTime": {
     "end_time": "2021-03-22T19:05:24.795306Z",
     "start_time": "2021-03-22T19:05:24.761022Z"
    },
    "hidden": true
   },
   "outputs": [
    {
     "ename": "ValueError",
     "evalue": "__len__() should return >= 0",
     "output_type": "error",
     "traceback": [
      "\u001b[0;31m---------------------------------------------------------------------------\u001b[0m",
      "\u001b[0;31mValueError\u001b[0m                                Traceback (most recent call last)",
      "\u001b[0;32m<ipython-input-127-15b9111b8b56>\u001b[0m in \u001b[0;36m<module>\u001b[0;34m\u001b[0m\n\u001b[1;32m     10\u001b[0m                                   scoring = \"accuracy\", n_iter = -1)\n\u001b[1;32m     11\u001b[0m \u001b[0;34m\u001b[0m\u001b[0m\n\u001b[0;32m---> 12\u001b[0;31m \u001b[0mrandom_search\u001b[0m\u001b[0;34m.\u001b[0m\u001b[0mfit\u001b[0m\u001b[0;34m(\u001b[0m\u001b[0mX\u001b[0m\u001b[0;34m,\u001b[0m \u001b[0my\u001b[0m\u001b[0;34m)\u001b[0m\u001b[0;34m\u001b[0m\u001b[0;34m\u001b[0m\u001b[0m\n\u001b[0m",
      "\u001b[0;32m~/.pyenv/versions/3.7.7/envs/lewagon/lib/python3.7/site-packages/sklearn/utils/validation.py\u001b[0m in \u001b[0;36minner_f\u001b[0;34m(*args, **kwargs)\u001b[0m\n\u001b[1;32m     61\u001b[0m             \u001b[0mextra_args\u001b[0m \u001b[0;34m=\u001b[0m \u001b[0mlen\u001b[0m\u001b[0;34m(\u001b[0m\u001b[0margs\u001b[0m\u001b[0;34m)\u001b[0m \u001b[0;34m-\u001b[0m \u001b[0mlen\u001b[0m\u001b[0;34m(\u001b[0m\u001b[0mall_args\u001b[0m\u001b[0;34m)\u001b[0m\u001b[0;34m\u001b[0m\u001b[0;34m\u001b[0m\u001b[0m\n\u001b[1;32m     62\u001b[0m             \u001b[0;32mif\u001b[0m \u001b[0mextra_args\u001b[0m \u001b[0;34m<=\u001b[0m \u001b[0;36m0\u001b[0m\u001b[0;34m:\u001b[0m\u001b[0;34m\u001b[0m\u001b[0;34m\u001b[0m\u001b[0m\n\u001b[0;32m---> 63\u001b[0;31m                 \u001b[0;32mreturn\u001b[0m \u001b[0mf\u001b[0m\u001b[0;34m(\u001b[0m\u001b[0;34m*\u001b[0m\u001b[0margs\u001b[0m\u001b[0;34m,\u001b[0m \u001b[0;34m**\u001b[0m\u001b[0mkwargs\u001b[0m\u001b[0;34m)\u001b[0m\u001b[0;34m\u001b[0m\u001b[0;34m\u001b[0m\u001b[0m\n\u001b[0m\u001b[1;32m     64\u001b[0m \u001b[0;34m\u001b[0m\u001b[0m\n\u001b[1;32m     65\u001b[0m             \u001b[0;31m# extra_args > 0\u001b[0m\u001b[0;34m\u001b[0m\u001b[0;34m\u001b[0m\u001b[0;34m\u001b[0m\u001b[0m\n",
      "\u001b[0;32m~/.pyenv/versions/3.7.7/envs/lewagon/lib/python3.7/site-packages/sklearn/model_selection/_search.py\u001b[0m in \u001b[0;36mfit\u001b[0;34m(self, X, y, groups, **fit_params)\u001b[0m\n\u001b[1;32m    839\u001b[0m                 \u001b[0;32mreturn\u001b[0m \u001b[0mresults\u001b[0m\u001b[0;34m\u001b[0m\u001b[0;34m\u001b[0m\u001b[0m\n\u001b[1;32m    840\u001b[0m \u001b[0;34m\u001b[0m\u001b[0m\n\u001b[0;32m--> 841\u001b[0;31m             \u001b[0mself\u001b[0m\u001b[0;34m.\u001b[0m\u001b[0m_run_search\u001b[0m\u001b[0;34m(\u001b[0m\u001b[0mevaluate_candidates\u001b[0m\u001b[0;34m)\u001b[0m\u001b[0;34m\u001b[0m\u001b[0;34m\u001b[0m\u001b[0m\n\u001b[0m\u001b[1;32m    842\u001b[0m \u001b[0;34m\u001b[0m\u001b[0m\n\u001b[1;32m    843\u001b[0m             \u001b[0;31m# multimetric is determined here because in the case of a callable\u001b[0m\u001b[0;34m\u001b[0m\u001b[0;34m\u001b[0m\u001b[0;34m\u001b[0m\u001b[0m\n",
      "\u001b[0;32m~/.pyenv/versions/3.7.7/envs/lewagon/lib/python3.7/site-packages/sklearn/model_selection/_search.py\u001b[0m in \u001b[0;36m_run_search\u001b[0;34m(self, evaluate_candidates)\u001b[0m\n\u001b[1;32m   1619\u001b[0m         evaluate_candidates(ParameterSampler(\n\u001b[1;32m   1620\u001b[0m             \u001b[0mself\u001b[0m\u001b[0;34m.\u001b[0m\u001b[0mparam_distributions\u001b[0m\u001b[0;34m,\u001b[0m \u001b[0mself\u001b[0m\u001b[0;34m.\u001b[0m\u001b[0mn_iter\u001b[0m\u001b[0;34m,\u001b[0m\u001b[0;34m\u001b[0m\u001b[0;34m\u001b[0m\u001b[0m\n\u001b[0;32m-> 1621\u001b[0;31m             random_state=self.random_state))\n\u001b[0m",
      "\u001b[0;32m~/.pyenv/versions/3.7.7/envs/lewagon/lib/python3.7/site-packages/sklearn/model_selection/_search.py\u001b[0m in \u001b[0;36mevaluate_candidates\u001b[0;34m(candidate_params, cv, more_results)\u001b[0m\n\u001b[1;32m    785\u001b[0m                                     more_results=None):\n\u001b[1;32m    786\u001b[0m                 \u001b[0mcv\u001b[0m \u001b[0;34m=\u001b[0m \u001b[0mcv\u001b[0m \u001b[0;32mor\u001b[0m \u001b[0mcv_orig\u001b[0m\u001b[0;34m\u001b[0m\u001b[0;34m\u001b[0m\u001b[0m\n\u001b[0;32m--> 787\u001b[0;31m                 \u001b[0mcandidate_params\u001b[0m \u001b[0;34m=\u001b[0m \u001b[0mlist\u001b[0m\u001b[0;34m(\u001b[0m\u001b[0mcandidate_params\u001b[0m\u001b[0;34m)\u001b[0m\u001b[0;34m\u001b[0m\u001b[0;34m\u001b[0m\u001b[0m\n\u001b[0m\u001b[1;32m    788\u001b[0m                 \u001b[0mn_candidates\u001b[0m \u001b[0;34m=\u001b[0m \u001b[0mlen\u001b[0m\u001b[0;34m(\u001b[0m\u001b[0mcandidate_params\u001b[0m\u001b[0;34m)\u001b[0m\u001b[0;34m\u001b[0m\u001b[0;34m\u001b[0m\u001b[0m\n\u001b[1;32m    789\u001b[0m \u001b[0;34m\u001b[0m\u001b[0m\n",
      "\u001b[0;31mValueError\u001b[0m: __len__() should return >= 0"
     ]
    }
   ],
   "source": [
    "from sklearn.model_selection import RandomizedSearchCV\n",
    "from scipy import stats\n",
    "\n",
    "model = SVC()\n",
    "\n",
    "search_space = {\"kernel\" : [\"sigmoid\"], \n",
    "               \"C\" : stats.uniform(0.01, 1_000)}\n",
    "\n",
    "random_search = RandomizedSearchCV(model, search_space, cv = 5, verbose = 0, \n",
    "                                  scoring = \"accuracy\", n_iter = -1)\n",
    "\n",
    "random_search.fit(X, y)"
   ]
  },
  {
   "cell_type": "markdown",
   "metadata": {},
   "source": [
    "### Gridsearch / SVC:"
   ]
  },
  {
   "cell_type": "code",
   "execution_count": 170,
   "metadata": {
    "ExecuteTime": {
     "end_time": "2021-03-22T20:16:15.598061Z",
     "start_time": "2021-03-22T20:16:15.587793Z"
    }
   },
   "outputs": [
    {
     "data": {
      "application/javascript": [
       "\n",
       "        if (window._pyforest_update_imports_cell) { window._pyforest_update_imports_cell('import numpy as np\\nimport pandas as pd'); }\n",
       "    "
      ],
      "text/plain": [
       "<IPython.core.display.Javascript object>"
      ]
     },
     "metadata": {},
     "output_type": "display_data"
    },
    {
     "data": {
      "text/plain": [
       "array([0.01, 0.02, 0.03, 0.04, 0.05, 0.06, 0.07, 0.08, 0.09, 0.1 ])"
      ]
     },
     "execution_count": 170,
     "metadata": {},
     "output_type": "execute_result"
    }
   ],
   "source": []
  },
  {
   "cell_type": "code",
   "execution_count": 174,
   "metadata": {
    "ExecuteTime": {
     "end_time": "2021-03-22T20:21:45.129936Z",
     "start_time": "2021-03-22T20:21:20.216844Z"
    }
   },
   "outputs": [
    {
     "data": {
      "application/javascript": [
       "\n",
       "        if (window._pyforest_update_imports_cell) { window._pyforest_update_imports_cell('import numpy as np\\nimport pandas as pd'); }\n",
       "    "
      ],
      "text/plain": [
       "<IPython.core.display.Javascript object>"
      ]
     },
     "metadata": {},
     "output_type": "display_data"
    },
    {
     "data": {
      "application/javascript": [
       "\n",
       "        if (window._pyforest_update_imports_cell) { window._pyforest_update_imports_cell('import numpy as np\\nimport pandas as pd'); }\n",
       "    "
      ],
      "text/plain": [
       "<IPython.core.display.Javascript object>"
      ]
     },
     "metadata": {},
     "output_type": "display_data"
    },
    {
     "name": "stdout",
     "output_type": "stream",
     "text": [
      "Score of the model is: 81.4%.\n",
      "Pipeline(steps=[('scaler', StandardScaler()),\n",
      "                ('SVM', SVC(C=49, gamma=0.09999999999999999))])\n",
      "              precision    recall  f1-score   support\n",
      "\n",
      "           0       0.93      0.75      0.83        36\n",
      "           1       0.70      0.91      0.79        23\n",
      "\n",
      "    accuracy                           0.81        59\n",
      "   macro avg       0.82      0.83      0.81        59\n",
      "weighted avg       0.84      0.81      0.82        59\n",
      "\n"
     ]
    }
   ],
   "source": [
    "from sklearn.model_selection import GridSearchCV\n",
    "\n",
    "X = data_ad.drop(columns = [\"CTR_class\", \"Impressions\", \"Unique link clicks\", \"CTR\"])\n",
    "y = data_ad[\"CTR_class\"]\n",
    "\n",
    "X_train, X_test, y_train, y_test = train_test_split(X, y, test_size = 0.3, \n",
    "                                                    random_state = 3) \n",
    "\n",
    "steps = [(\"scaler\", StandardScaler()), \n",
    "         (\"SVM\", SVC())]\n",
    "\n",
    "pipeline = Pipeline(steps) \n",
    "\n",
    "parameters = {\"SVM__C\" : np.arange(1, 50, 1), \n",
    "              \"SVM__gamma\" : np.arange(0.01, 0.11, 0.01)} \n",
    "\n",
    "cv = GridSearchCV(pipeline, parameters, scoring = \"accuracy\") \n",
    "\n",
    "cv.fit(X_train, y_train) \n",
    "\n",
    "y_pred = cv.predict(X_test) \n",
    "\n",
    "print(f\"\"\"Score of the model is: {(cv.score(X_test, y_test)*100).round(1)}%.\"\"\")\n",
    "print(cv.best_estimator_)\n",
    "print(classification_report(y_test, y_pred))"
   ]
  },
  {
   "cell_type": "code",
   "execution_count": 175,
   "metadata": {
    "ExecuteTime": {
     "end_time": "2021-03-22T20:22:28.506023Z",
     "start_time": "2021-03-22T20:22:05.092676Z"
    }
   },
   "outputs": [
    {
     "data": {
      "application/javascript": [
       "\n",
       "        if (window._pyforest_update_imports_cell) { window._pyforest_update_imports_cell('import numpy as np\\nimport pandas as pd'); }\n",
       "    "
      ],
      "text/plain": [
       "<IPython.core.display.Javascript object>"
      ]
     },
     "metadata": {},
     "output_type": "display_data"
    },
    {
     "data": {
      "application/javascript": [
       "\n",
       "        if (window._pyforest_update_imports_cell) { window._pyforest_update_imports_cell('import numpy as np\\nimport pandas as pd'); }\n",
       "    "
      ],
      "text/plain": [
       "<IPython.core.display.Javascript object>"
      ]
     },
     "metadata": {},
     "output_type": "display_data"
    },
    {
     "name": "stdout",
     "output_type": "stream",
     "text": [
      "Score of the model is: 98.3%.\n",
      "Pipeline(steps=[('scaler', StandardScaler()), ('SVM', SVC(C=27, gamma=0.09))])\n",
      "              precision    recall  f1-score   support\n",
      "\n",
      "           0       0.97      1.00      0.98        31\n",
      "           1       1.00      0.96      0.98        28\n",
      "\n",
      "    accuracy                           0.98        59\n",
      "   macro avg       0.98      0.98      0.98        59\n",
      "weighted avg       0.98      0.98      0.98        59\n",
      "\n"
     ]
    }
   ],
   "source": [
    "from sklearn.model_selection import GridSearchCV\n",
    "\n",
    "X = data_ad.drop(columns = [\"CR_class\", \"Website purchases\", \"CR\"])\n",
    "y = data_ad[\"CR_class\"]\n",
    "\n",
    "X_train, X_test, y_train, y_test = train_test_split(X, y, test_size = 0.3, \n",
    "                                                    random_state = 3) \n",
    "\n",
    "steps = [(\"scaler\", StandardScaler()), \n",
    "         (\"SVM\", SVC())]\n",
    "\n",
    "pipeline = Pipeline(steps) \n",
    "\n",
    "parameters = {\"SVM__C\" : np.arange(1, 50, 1), \n",
    "              \"SVM__gamma\" : np.arange(0.01, 0.11, 0.01)} \n",
    "\n",
    "cv = GridSearchCV(pipeline, parameters, scoring = \"accuracy\") \n",
    "\n",
    "cv.fit(X_train, y_train) \n",
    "\n",
    "y_pred = cv.predict(X_test) \n",
    "\n",
    "print(f\"\"\"Score of the model is: {(cv.score(X_test, y_test)*100).round(1)}%.\"\"\")\n",
    "print(cv.best_estimator_)\n",
    "print(classification_report(y_test, y_pred))"
   ]
  },
  {
   "cell_type": "markdown",
   "metadata": {},
   "source": [
    "### Pipeline (incl KNN): "
   ]
  },
  {
   "cell_type": "code",
   "execution_count": 126,
   "metadata": {
    "ExecuteTime": {
     "end_time": "2021-03-22T18:46:47.631504Z",
     "start_time": "2021-03-22T18:46:44.676557Z"
    }
   },
   "outputs": [
    {
     "data": {
      "application/javascript": [
       "\n",
       "        if (window._pyforest_update_imports_cell) { window._pyforest_update_imports_cell('import numpy as np\\nimport pandas as pd'); }\n",
       "    "
      ],
      "text/plain": [
       "<IPython.core.display.Javascript object>"
      ]
     },
     "metadata": {},
     "output_type": "display_data"
    },
    {
     "name": "stdout",
     "output_type": "stream",
     "text": [
      "{'knn__n_neighbors': 5}\n",
      "Score of this model is: 81.4%.\n",
      "              precision    recall  f1-score   support\n",
      "\n",
      "           0       1.00      0.69      0.82        36\n",
      "           1       0.68      1.00      0.81        23\n",
      "\n",
      "    accuracy                           0.81        59\n",
      "   macro avg       0.84      0.85      0.81        59\n",
      "weighted avg       0.87      0.81      0.81        59\n",
      "\n"
     ]
    }
   ],
   "source": [
    "from sklearn.neighbors import KNeighborsClassifier \n",
    "from sklearn.model_selection import GridSearchCV \n",
    "from sklearn.metrics import classification_report \n",
    " \n",
    "X = data_ad.drop(columns=[\"CTR_class\", \"Impressions\", \"Unique link clicks\"]) \n",
    "y = data_ad[\"CTR_class\"] \n",
    " \n",
    "X_train, X_test, y_train, y_test = train_test_split(X, y, test_size = 0.3, \n",
    "                                                    random_state = 3) \n",
    "    \n",
    "steps = [(\"scaler\", StandardScaler()), \n",
    "         (\"knn\", KNeighborsClassifier())]\n",
    " \n",
    "pipeline = Pipeline(steps) \n",
    " \n",
    "parameters = {\"knn__n_neighbors\": np.arange(1, 50)} \n",
    " \n",
    "cv = GridSearchCV(pipeline, param_grid = parameters) \n",
    " \n",
    "cv.fit(X_train, y_train)\n",
    "\n",
    "y_pred = cv.predict(X_test)\n",
    "\n",
    "print(cv.best_params_)\n",
    "print(f\"\"\"Score of this model is: {(cv.score(X_test, y_test) * 100).round(1)}%.\"\"\")\n",
    "print(classification_report(y_test, y_pred))"
   ]
  },
  {
   "cell_type": "code",
   "execution_count": null,
   "metadata": {},
   "outputs": [],
   "source": []
  }
 ],
 "metadata": {
  "kernelspec": {
   "display_name": "Python 3",
   "language": "python",
   "name": "python3"
  },
  "language_info": {
   "codemirror_mode": {
    "name": "ipython",
    "version": 3
   },
   "file_extension": ".py",
   "mimetype": "text/x-python",
   "name": "python",
   "nbconvert_exporter": "python",
   "pygments_lexer": "ipython3",
   "version": "3.7.7"
  },
  "toc": {
   "base_numbering": 1,
   "nav_menu": {},
   "number_sections": true,
   "sideBar": true,
   "skip_h1_title": false,
   "title_cell": "Table of Contents",
   "title_sidebar": "Contents",
   "toc_cell": true,
   "toc_position": {
    "height": "calc(100% - 180px)",
    "left": "10px",
    "top": "150px",
    "width": "254px"
   },
   "toc_section_display": true,
   "toc_window_display": true
  }
 },
 "nbformat": 4,
 "nbformat_minor": 4
}
